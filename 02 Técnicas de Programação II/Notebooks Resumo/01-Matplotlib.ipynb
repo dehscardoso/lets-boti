{
 "cells": [
  {
   "cell_type": "markdown",
   "id": "38b18fe3",
   "metadata": {},
   "source": [
    "<img src = \"https://images2.imgbox.com/a5/72/7ZbDUHlf_o.jpg\" width=\"200\">"
   ]
  },
  {
   "cell_type": "markdown",
   "id": "be484f71",
   "metadata": {},
   "source": [
    "# Matplotlib\n",
    "---\n",
    "\n",
    "Assim como o NumPy e o Pandas, o [matplotlib](http://matplotlib.org/) é uma das bibliotecas que fazem parte do núcleo do [SciPy](https://www.scipy.org/) para visualização de dados 2-D.\n",
    "\n",
    "## Antes de tudo\n",
    "\n",
    "### Instalação\n",
    "Se você tem o Anaconda instalado, você provavelmente já possui a biblioteca instalada.\n",
    "\n",
    "Para checar se você já tem, no Jupyter Notebook ou interpretador do python, rode:"
   ]
  },
  {
   "cell_type": "code",
   "execution_count": 1,
   "id": "186459de",
   "metadata": {},
   "outputs": [],
   "source": [
    "import matplotlib"
   ]
  },
  {
   "cell_type": "markdown",
   "id": "04d4e27b",
   "metadata": {},
   "source": [
    "Se não der erro, é porque está tudo ok!\n",
    "\n",
    "Caso você tenha um erro, será necessário instalar. Para isso, rode o comando no prompt/terminal que possua acesso ao comando:"
   ]
  },
  {
   "cell_type": "code",
   "execution_count": 2,
   "id": "398e4343",
   "metadata": {},
   "outputs": [
    {
     "name": "stdout",
     "output_type": "stream",
     "text": [
      "Requirement already satisfied: matplotlib in c:\\users\\adm\\anaconda3\\lib\\site-packages (3.4.3)\n",
      "Requirement already satisfied: pillow>=6.2.0 in c:\\users\\adm\\anaconda3\\lib\\site-packages (from matplotlib) (8.4.0)\n",
      "Requirement already satisfied: pyparsing>=2.2.1 in c:\\users\\adm\\anaconda3\\lib\\site-packages (from matplotlib) (3.0.4)\n",
      "Requirement already satisfied: python-dateutil>=2.7 in c:\\users\\adm\\anaconda3\\lib\\site-packages (from matplotlib) (2.8.2)\n",
      "Requirement already satisfied: cycler>=0.10 in c:\\users\\adm\\anaconda3\\lib\\site-packages (from matplotlib) (0.10.0)\n",
      "Requirement already satisfied: numpy>=1.16 in c:\\users\\adm\\anaconda3\\lib\\site-packages (from matplotlib) (1.20.3)\n",
      "Requirement already satisfied: kiwisolver>=1.0.1 in c:\\users\\adm\\anaconda3\\lib\\site-packages (from matplotlib) (1.3.1)\n",
      "Requirement already satisfied: six in c:\\users\\adm\\anaconda3\\lib\\site-packages (from cycler>=0.10->matplotlib) (1.16.0)\n"
     ]
    }
   ],
   "source": [
    "!pip install matplotlib"
   ]
  },
  {
   "cell_type": "markdown",
   "id": "a4d98d12",
   "metadata": {},
   "source": [
    "Em caso de problemas nessa parte, entre em contato no chat da sua turma ou no Q&A.\n",
    "\n",
    "## Importando\n",
    "No Jupyter Notebook, para de fato utilizar o matplotlib, precisamos importar desse jeito:"
   ]
  },
  {
   "cell_type": "code",
   "execution_count": 3,
   "id": "e07fdb18",
   "metadata": {},
   "outputs": [],
   "source": [
    "import matplotlib.pyplot as plt"
   ]
  },
  {
   "cell_type": "markdown",
   "id": "8bba8ace",
   "metadata": {},
   "source": [
    "matplotlib.pyplot é uma coleção de funções que fazem o matplotlib funcionar como [MATLAB](https://www.mathworks.com/products/matlab.html). Cada função, ao chamada, faz algumas alterações em uma figura, exemplos:\n",
    "\n",
    "- criar uma figura\n",
    "- criar uma área de plotagem em uma figura\n",
    "- gerar linhas em uma área de plotagem\n",
    "- decorar o gráfico com rótulos, título, etc.\n",
    "\n",
    "Caso você esteja no Jupyter Notebook, também adicione:"
   ]
  },
  {
   "cell_type": "code",
   "execution_count": 4,
   "id": "0f6f8a1c",
   "metadata": {},
   "outputs": [],
   "source": [
    "%matplotlib inline"
   ]
  },
  {
   "cell_type": "markdown",
   "id": "f53c5db7",
   "metadata": {},
   "source": [
    "Esse é um comando específico para o ambiente Jupyter Notebook, para mostrar os gráficos nas células do notebook.\n",
    "\n",
    "Graças a ele, não precisamos (mas se chamar, não tem problema) ao final de cada gráfico o comando:"
   ]
  },
  {
   "cell_type": "code",
   "execution_count": 5,
   "id": "6ff25977",
   "metadata": {},
   "outputs": [],
   "source": [
    "plt.show()"
   ]
  },
  {
   "cell_type": "markdown",
   "id": "1cdcf035",
   "metadata": {},
   "source": [
    "Para mostrar o gráfico.\n",
    "\n",
    "## Básico\n",
    "\n",
    "### Gráfico de linha\n",
    "\n",
    "Para um gráfico de linha simples, podemos chamar o comando `plt.plot` passando os dados que queremos visualizar.\n",
    "\n",
    "Pela [documentação da função plot](https://matplotlib.org/api/_as_gen/matplotlib.pyplot.plot.html), precisamos passar dois argumentos para essa função\n",
    "\n",
    "- x\n",
    "- y  \n",
    "\n",
    "Que comumente são 1D arrays."
   ]
  },
  {
   "cell_type": "code",
   "execution_count": 6,
   "id": "c2abae86",
   "metadata": {},
   "outputs": [
    {
     "data": {
      "image/png": "[encoded data removed]",
      "text/plain": [
       "<Figure size 432x288 with 1 Axes>"
      ]
     },
     "metadata": {
      "needs_background": "light"
     },
     "output_type": "display_data"
    }
   ],
   "source": [
    "x = [1, 2, 3, 4, 5]\n",
    "y = [n ** 2 for n in x]\n",
    "\n",
    "plt.plot(x, y)\n",
    "plt.show()"
   ]
  },
  {
   "cell_type": "markdown",
   "id": "a248de15",
   "metadata": {},
   "source": [
    "No exemplo acima criamos duas listas. Na lista `x` passamos valores de um até cinco e na lista quadrados usamos list comprehension para gerar uma lista com os quadrados da primeira. Depois disso utilizamos `plt.plot(x, y)` que irá gerar a figura. No nosso caso os valores do eixo-x passados são os numeros e no eixo-y os os mesmos valores do eixo-x elevados ao quadrado.\n",
    "\n",
    "Em outras palavras, essa é a visualização da função:\n",
    "\n",
    "<br>\n",
    "\n",
    "\\begin{aligned} \n",
    "\\large f(x) = x^2 \\quad para \\quad x \\in [1, 5]\n",
    "\\end{aligned}\n",
    "\n",
    "<br>\n",
    "\n",
    "## Múltiplos gráficos\n",
    "## Estrutura\n",
    "No matplotlib, temos dois conceitos importantes:\n",
    "\n",
    "- Área de plotagem (eixos ou Axes)\n",
    "    - onde de fato os gráficos (linhas, barras, pontos, etc) aparecem. Podemos pensar como o eixo-x e eixo-y dos gráficos.\n",
    "- Figura ou Figure\n",
    "    - onde os eixos \"vivem\". Podemos pensar como o PNG/JPG final dos múltiplos gráficos que geramos.\n",
    "Antes de gerarmos múltiplos gráficos, precisamos decidir:\n",
    "\n",
    "- podemos imprimir dois gráficos, ex: duas linhas, na mesma área de plotagem\n",
    "- ou em áreas de plotagens diferentes.\n",
    "\n",
    "### Novos dados\n",
    "Para visualizar múltiplas linhas no mesmo eixo, primeiro precisamos de mais dados. Vamos gerar então dados para a função:\n",
    "\n",
    "<br>\n",
    "\n",
    "\\begin{aligned} \n",
    "\\large f(x)=x^3 \\quad para \\quad x ∈ [1,5]\n",
    "\\end{aligned}\n",
    "\n",
    "<br>\n",
    "\n",
    "Para os próximos exemplos, iremos usar os dados:\n",
    "\n",
    "<img src = \"https://images2.imgbox.com/58/9c/orZYhiVa_o.png\" width=\"800\">\n",
    "\n",
    "### Novos dados\n",
    "\n",
    "Para visualizar múltiplas linhas no mesmo eixo, primeiro precisamos de mais dados. Vamos gerar então dados para a função:\n",
    "\n",
    "<br>\n",
    "\n",
    "\\begin{aligned}\n",
    "\\large f(x)=x^3 \\quad para \\quad x ∈ [1,5]\n",
    "\\end{aligned}\n",
    "\n",
    "<br>\n",
    "\n",
    "Para os próximos exemplos, iremos usar os dados:"
   ]
  },
  {
   "cell_type": "code",
   "execution_count": 7,
   "id": "df4394ac",
   "metadata": {},
   "outputs": [],
   "source": [
    "x = [1, 2, 3, 4, 5]\n",
    "y1 = [n ** 2 for n in x]\n",
    "y2 = [n ** 3 for n in x]"
   ]
  },
  {
   "cell_type": "markdown",
   "id": "f9dba3d5",
   "metadata": {},
   "source": [
    "No mesmo eixo isso irá gerar a figura:"
   ]
  },
  {
   "cell_type": "code",
   "execution_count": 8,
   "id": "a6d67e36",
   "metadata": {},
   "outputs": [
    {
     "data": {
      "image/png": "[encoded data removed]",
      "text/plain": [
       "<Figure size 432x288 with 1 Axes>"
      ]
     },
     "metadata": {
      "needs_background": "light"
     },
     "output_type": "display_data"
    }
   ],
   "source": [
    "plt.plot(x, y1)\n",
    "plt.plot(x, y2)\n",
    "plt.show()"
   ]
  },
  {
   "cell_type": "markdown",
   "id": "77d00f9d",
   "metadata": {},
   "source": [
    "O matplotlib automaticamente detecta os melhor valor para o eixo-y e coloca cores diferentes.\n",
    "\n",
    "### Múltiplos eixos\n",
    "As coisas começam a ficar mais interessantes aqui.\n",
    "\n",
    "Iremos utilizar uma função nova [plt.subplots](https://matplotlib.org/api/_as_gen/matplotlib.pyplot.subplots.html) aqui.\n",
    "\n",
    "Ela é uma função que irá gerar uma figura e um conjunto de eixos pré-posicionados num formato de grade.\n",
    "\n",
    "\n",
    "#### linha/coluna 0\t      &nbsp;&nbsp;&nbsp;&nbsp;&nbsp;&nbsp;                  1\t&nbsp;&nbsp;&nbsp;&nbsp;&nbsp;&nbsp;    &nbsp;&nbsp;&nbsp;&nbsp;&nbsp;&nbsp;       ...\tN \n",
    "\n",
    "0\t&nbsp;&nbsp;&nbsp;&nbsp;&nbsp;&nbsp; grafico[0][0]\tgrafico[0][1]\t...\tgrafico[0][N]  \n",
    "1\t&nbsp;&nbsp;&nbsp;&nbsp;&nbsp;&nbsp; grafico[1][0]\tgrafico[1][1]\t...\tgrafico[1][N]  \n",
    "..\t...\t...\t...\t...  \n",
    "N\t&nbsp;&nbsp;&nbsp;&nbsp;&nbsp;&nbsp; grafico[N][N]\tgrafico[N][1]\t...\tgrafico[N][N]  \n",
    "\n",
    "\n",
    "Para isso, ao invorcarmos essa função, iremos passar dois argumentos:\n",
    "\n",
    "- nrows: indica quantas linhas.\n",
    "- cols: indinca quantas colunas.\n",
    "\n",
    "Como queremos 2 gráficos, podemos passar 1 linha e 2 colunas ou 2 colunas e 1 linha.\n",
    "\n",
    "Ele irá retornar uma tupla de dois elementos:\n",
    "\n",
    "1. um objeto do tipo *Figure* que representa a figura\n",
    "2. lista ou matriz de eixos\n",
    "\n",
    "Ao passar `nrows=1`, espertamente, o matplotlib não devolve uma matriz e sim uma lista.\n",
    "\n",
    "Podemos acessar cada eixo usando a notação de colchetes, e invocar a função que já vimos anteriormente: **plot**."
   ]
  },
  {
   "cell_type": "code",
   "execution_count": 9,
   "id": "e9f37021",
   "metadata": {},
   "outputs": [
    {
     "data": {
      "image/png": "[encoded data removed]",
      "text/plain": [
       "<Figure size 432x288 with 2 Axes>"
      ]
     },
     "metadata": {
      "needs_background": "light"
     },
     "output_type": "display_data"
    }
   ],
   "source": [
    "fig, axes = plt.subplots(nrows=1, ncols=2)\n",
    "axes[0].plot(x, y1)\n",
    "axes[1].plot(x, y2)\n",
    "plt.show()"
   ]
  },
  {
   "cell_type": "markdown",
   "id": "87e2b91e",
   "metadata": {},
   "source": [
    "## Estilizando\n",
    "O gráficos que fizemos até então, não definimos nenhuma característica de estilo como cor, grossura da linha, se deve ter um marcador para cada ponto, entre diversas outras características possíveis de serem definidas.\n",
    "\n",
    "Três propriedades super importantes são:\n",
    "\n",
    "- os rótulos, ou labels dos eixos\n",
    "- título do gráfico\n",
    "- legendas\n",
    "Elas ajudam as pessoas que analisam o gráfico a entender melhor do que se trata.\n",
    "\n",
    "Temos uma grande lista de características que podemos passar para a função plot que muda as características do gráfico, algumas delas são\n",
    "\n",
    "- color: para mudar a cor\n",
    "    - interessante mencionar que podemos passar a representação hexadecimais de uma cor aqui\n",
    "- linewidth: a grossura da linha\n",
    "- linestyle: o tipo da linha (pontilhada, tracejada, sólida, etc)\n",
    "- marker: se queremos um marcador para cada ponto.\n",
    "- e muito mais!\n",
    "Recomendo visitar a documentação oficial para maiores detalhes das diversas propriedades.\n",
    "\n",
    "Vamos adicioná-las então!"
   ]
  },
  {
   "cell_type": "code",
   "execution_count": 10,
   "id": "f7382c17",
   "metadata": {},
   "outputs": [
    {
     "data": {
      "image/png": "[encoded data removed]",
      "text/plain": [
       "<Figure size 432x288 with 1 Axes>"
      ]
     },
     "metadata": {
      "needs_background": "light"
     },
     "output_type": "display_data"
    }
   ],
   "source": [
    "plt.plot(x, y1, color='red', linestyle='--', linewidth=5, label='f(x) = x^2')\n",
    "plt.plot(x, y2, color='#27a16c', marker='o', label='f(x) = x^3')\n",
    "\n",
    "plt.xlabel('x')\n",
    "plt.ylabel('f(x)')\n",
    "plt.title('Comparação entre cubo e quadrado')\n",
    "\n",
    "plt.legend()\n",
    "plt.show()"
   ]
  },
  {
   "cell_type": "markdown",
   "id": "420721f7",
   "metadata": {},
   "source": [
    "Vamos fazer um passo a passo por linha:\n",
    "\n",
    "Nas duas primeiras linhas, passamos um novo argumento, label, definindo um nome para aquela linha que será impressa no gráfico. **Ela será útil para a legenda posteriormente.**\n",
    "\n",
    "Também passamos alguns argumentos mencionados, como color, linestyle, linewidth e marker.\n",
    "\n",
    "Na linha 3 e 4 chamamos as funções [xlabel](https://matplotlib.org/api/_as_gen/matplotlib.pyplot.xlabel.html) e [ylabel](https://matplotlib.org/api/_as_gen/matplotlib.pyplot.xlabel.html) para definir um texto para cada um dos eixos.\n",
    "\n",
    "Na linha 5 chamamos a função [title](https://matplotlib.org/api/_as_gen/matplotlib.pyplot.title.html) para definir o título da figura.\n",
    "\n",
    "Por último, chamamos a fução [legend](https://matplotlib.org/api/_as_gen/matplotlib.pyplot.legend.html) para dizermos ao matplotlib que queremos que apareça a legenda. Por padrão, ele tenta achar uma boa posição no gráfico automaticamente, mas podemos controlar aonde queremos que apareça a legenda.\n",
    "\n",
    "## As duas APIs do matplotlib\n",
    "Até então, não foi mencionamos aqui que temos duas formas de utilizar a biblioteca matplotlib, também chamadas de APIs.\n",
    "\n",
    "Vamos apresentá-las então:\n",
    "\n",
    "- API funcional\n",
    "- API orientado a objetos\n",
    "Mostramos as duas anteriormente, mas não definimos qual era qual.\n",
    "\n",
    "A diferença é **muito sutil**, e se dá basicamente no fato de você estar ou não lidando diretamente com os eixos do gráfico.\n",
    "\n",
    "No nosso exemplo de **Múltiplos eixos**, fizemos uso da API orientada a objetos, enquanto nos outros exemplos, utilizamos a API funcional. Nota-se pelo fato estarmos lidando com a variável **axes** e não chamando **plt** diretamente para o **plot**.\n",
    "\n",
    "O mesmo gráfico do exemplo anterior, utilizando a API orientada a objetos, se ficaria dessa forma:"
   ]
  },
  {
   "cell_type": "code",
   "execution_count": 11,
   "id": "492d3279",
   "metadata": {},
   "outputs": [
    {
     "data": {
      "image/png": "[encoded data removed]",
      "text/plain": [
       "<Figure size 432x288 with 1 Axes>"
      ]
     },
     "metadata": {
      "needs_background": "light"
     },
     "output_type": "display_data"
    }
   ],
   "source": [
    "figure = plt.figure()\n",
    "ax = figure.add_axes([0.1, 0.1, 0.8, 0.8])\n",
    "\n",
    "ax.plot(x, y1, c='red', ls='--', lw=5, label='f(x) = x^2')\n",
    "ax.plot(x, y2, c='#27a16c', marker='o', label='f(x) = x^3')\n",
    "\n",
    "ax.set_xlabel('x')\n",
    "ax.set_ylabel('f(x)')\n",
    "ax.set_title('Comparação entre cubo e quadrado')\n",
    "ax.legend()\n",
    "plt.show()"
   ]
  },
  {
   "cell_type": "markdown",
   "id": "0e5c27a4",
   "metadata": {},
   "source": [
    "Na linha 1 criamos uma Figure e a partir dela, adicionamos um eixo, chamando o *add_axes* e passando uma lista com 4 floats definindo um retângulo ocupado por esse eixo.\n",
    "\n",
    "Os 4 floats são definidos por *[left, bottom, width, height]*, definidas como porcentagem da área da figura.\n",
    "\n",
    "*Obs: também utilizamos nesse exemplo as abreviações de linewidth = lw, linestyle = ls e color = c*.\n",
    "\n",
    "Pode parecer complicado a princípio, e você deve estar se perguntando: por que eu usaria essa API ao invés do funcional?\n",
    "\n",
    "Acontece que ela é mais poderosa em termos de flexibilidade, nos permitindo fazer algo como:"
   ]
  },
  {
   "cell_type": "code",
   "execution_count": 12,
   "id": "e9b84324",
   "metadata": {},
   "outputs": [
    {
     "data": {
      "image/png": "[encoded data removed]",
      "text/plain": [
       "<Figure size 432x288 with 2 Axes>"
      ]
     },
     "metadata": {
      "needs_background": "light"
     },
     "output_type": "display_data"
    }
   ],
   "source": [
    "figure = plt.figure()\n",
    "\n",
    "ax1 = figure.add_axes([0.1, 0.1, 0.8, 0.8])\n",
    "ax2 = figure.add_axes([0.2, 0.5, 0.3, 0.3])\n",
    "ax1.plot(x, y1, c='red', ls='--', lw=5)\n",
    "ax2.plot(x, y2, c='#27a16c', marker='o')\n",
    "plt.show()"
   ]
  },
  {
   "cell_type": "markdown",
   "id": "0c77497a",
   "metadata": {},
   "source": [
    "A função que vimos anteriormente, **plt.subplots**, abstrai essa complexidade para nós criando a grade de eixos para nós automaticamente. Caso contrário, teríamos que fazer manualmente algo como:"
   ]
  },
  {
   "cell_type": "code",
   "execution_count": 13,
   "id": "d0c82618",
   "metadata": {},
   "outputs": [
    {
     "data": {
      "image/png": "[encoded data removed]",
      "text/plain": [
       "<Figure size 432x288 with 4 Axes>"
      ]
     },
     "metadata": {
      "needs_background": "light"
     },
     "output_type": "display_data"
    }
   ],
   "source": [
    "figure = plt.figure()\n",
    "\n",
    "ax1 = figure.add_axes([0.1, 0.1, 0.4, 0.4])\n",
    "ax2 = figure.add_axes([0.6, 0.1, 0.4, 0.4])\n",
    "ax3 = figure.add_axes([0.1, 0.6, 0.4, 0.4])\n",
    "ax3 = figure.add_axes([0.6, 0.6, 0.4, 0.4])\n",
    "plt.show()"
   ]
  },
  {
   "cell_type": "markdown",
   "id": "9f394f08",
   "metadata": {},
   "source": [
    "## Qual eu devo usar?\n",
    "Não existe a certa ou errada. O importante aqui é saber da existência das duas, e identificar qual você está usando. Use a que for necessária para alcançar seu objetivo.\n",
    "\n",
    "No geral, muitos artigos recomendam o uso da API orientada a objeto por ser mais declarativa, fácil de ler e mais poderosa para algumas personalizações avançadas.\n",
    "\n",
    "### Tamanho da figura\n",
    "Caso você ache pequeno o tamanho da figura para a quantidade de eixos, você sempre pode passar o parâmetro figsize."
   ]
  },
  {
   "cell_type": "code",
   "execution_count": 22,
   "id": "b8ed1cb4",
   "metadata": {},
   "outputs": [
    {
     "data": {
      "text/plain": [
       "<Figure size 720x576 with 0 Axes>"
      ]
     },
     "metadata": {},
     "output_type": "display_data"
    },
    {
     "data": {
      "image/png": "[encoded data removed]",
      "text/plain": [
       "<Figure size 720x576 with 1 Axes>"
      ]
     },
     "metadata": {
      "needs_background": "light"
     },
     "output_type": "display_data"
    }
   ],
   "source": [
    "width, height = (10, 8)  # valores em inches\n",
    "figure = plt.figure(figsize=(width, height))\n",
    "# ou\n",
    "fig, ax = plt.subplots(figsize=(width, height))"
   ]
  },
  {
   "cell_type": "markdown",
   "id": "63a81b60",
   "metadata": {},
   "source": [
    "## Outros tipos de gráficos\n",
    "Até então, só vimos gráficos de linha, mas temos uma vasta gama de outos tipos de gráficos:\n",
    "\n",
    "- dispersão ou scatter\n",
    "- barra\n",
    "- pizza\n",
    "- histogramas\n",
    "- diagrama de caixa ou boxplot\n",
    "E muitos outros! Mostrarei alguns deles aqui, mas, recomendo fortemente visitar a [galeria de exemplos da biblioteca](https://matplotlib.org/gallery/index.html) para uma imersão das possibilidades.\n",
    "\n",
    "# [Barra](https://matplotlib.org/api/_as_gen/matplotlib.pyplot.bar.html)\n",
    "Os gráficos de barra normalmente são utilizados quando temos dados numéricos relacionados a dados categóricos.\n",
    "\n",
    "Exemplo:"
   ]
  },
  {
   "cell_type": "code",
   "execution_count": 18,
   "id": "c9a0c0be",
   "metadata": {},
   "outputs": [
    {
     "data": {
      "image/png": "[encoded data removed]",
      "text/plain": [
       "<Figure size 432x288 with 1 Axes>"
      ]
     },
     "metadata": {
      "needs_background": "light"
     },
     "output_type": "display_data"
    }
   ],
   "source": [
    "tipos_filmes = ['Comédia', 'Drama', 'Suspense']\n",
    "quantidade = [15, 9, 5]\n",
    "plt.bar(tipos_filmes, quantidade);"
   ]
  },
  {
   "cell_type": "markdown",
   "id": "4083b5f5",
   "metadata": {},
   "source": [
    "## [Dispersão](https://matplotlib.org/api/_as_gen/matplotlib.pyplot.scatter.html)\n",
    "\n",
    "Utilizamos o parâmetro s, uma abreviação de size para aumentar o tamanho da \"bolinha\" do gráfico, e alpha para dar um efeito de transparência, resultando no seguinte gráfico:"
   ]
  },
  {
   "cell_type": "code",
   "execution_count": 19,
   "id": "5c3ad5b9",
   "metadata": {},
   "outputs": [
    {
     "data": {
      "image/png": "[encoded data removed]",
      "text/plain": [
       "<Figure size 432x288 with 1 Axes>"
      ]
     },
     "metadata": {
      "needs_background": "light"
     },
     "output_type": "display_data"
    }
   ],
   "source": [
    "import numpy as np\n",
    "\n",
    "x = np.random.rand(1, 50)\n",
    "y = np.random.rand(1, 50)\n",
    "\n",
    "plt.scatter(x, y, color='red', s=100, alpha=0.3)\n",
    "plt.show()"
   ]
  },
  {
   "cell_type": "markdown",
   "id": "0e8ee5fc",
   "metadata": {},
   "source": [
    "## [Histograma](https://matplotlib.org/api/_as_gen/matplotlib.pyplot.hist.html)\n",
    "Os histogramas são utilizados para visualização da distribuição numérica de dados.\n",
    "\n",
    "Novamente, vamos utilizar o NumPy para gerar valores aleatórios da distribuição normal.\n",
    "\n",
    "Para exibir esses respectivos valores como histograma utilizamos **plt.hist()**\n"
   ]
  },
  {
   "cell_type": "code",
   "execution_count": 20,
   "id": "701e89db",
   "metadata": {},
   "outputs": [
    {
     "data": {
      "image/png": "[encoded data removed]",
      "text/plain": [
       "<Figure size 432x288 with 1 Axes>"
      ]
     },
     "metadata": {
      "needs_background": "light"
     },
     "output_type": "display_data"
    }
   ],
   "source": [
    "data = np.random.randn(500)\n",
    "plt.hist(data, alpha=0.5, color='green', edgecolor='black')\n",
    "plt.show()"
   ]
  },
  {
   "cell_type": "markdown",
   "id": "8f08d6ac",
   "metadata": {},
   "source": [
    "## Links Úteis\n",
    "\n",
    "- [Instalação](https://matplotlib.org/users/installing.html)\n",
    "- [Documentação da função plot](https://matplotlib.org/api/_as_gen/matplotlib.pyplot.plot.html)\n",
    "- [Documentação da função subplots](https://matplotlib.org/api/_as_gen/matplotlib.pyplot.subplots.html)\n",
    "- [Guia com conceitos importantes](https://matplotlib.org/tutorials/introductory/usage.html#sphx-glr-tutorials-introductory-usage-py)\n",
    "- [Introdução ao pyplot](https://matplotlib.org/tutorials/introductory/pyplot.html#sphx-glr-tutorials-introductory-pyplot-py)\n",
    "- [Vários exemplos de gráficos](https://matplotlib.org/tutorials/introductory/sample_plots.html#sphx-glr-tutorials-introductory-sample-plots-py)\n",
    "- [Galeria de exemplos da biblioteca](https://matplotlib.org/gallery/index.html)"
   ]
  },
  {
   "cell_type": "markdown",
   "id": "fb680e90",
   "metadata": {},
   "source": [
    "---"
   ]
  }
 ],
 "metadata": {
  "kernelspec": {
   "display_name": "Python 3 (ipykernel)",
   "language": "python",
   "name": "python3"
  },
  "language_info": {
   "codemirror_mode": {
    "name": "ipython",
    "version": 3
   },
   "file_extension": ".py",
   "mimetype": "text/x-python",
   "name": "python",
   "nbconvert_exporter": "python",
   "pygments_lexer": "ipython3",
   "version": "3.9.7"
  }
 },
 "nbformat": 4,
 "nbformat_minor": 5
}
