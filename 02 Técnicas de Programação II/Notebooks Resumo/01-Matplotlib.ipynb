{
 "cells": [
  {
   "cell_type": "markdown",
   "id": "38b18fe3",
   "metadata": {},
   "source": [
    "<img src = \"https://images2.imgbox.com/a5/72/7ZbDUHlf_o.jpg\" width=\"200\">"
   ]
  },
  {
   "cell_type": "markdown",
   "id": "be484f71",
   "metadata": {},
   "source": [
    "# Matplotlib\n",
    "---\n",
    "\n",
    "Assim como o NumPy e o Pandas, o matplotlib é uma das bibliotecas que fazem parte do núcleo do SciPy para visualização de dados 2-D.\n",
    "\n",
    "## Antes de tudo\n",
    "\n",
    "### Instalação\n",
    "Se você tem o Anaconda instalado, você provavelmente já possui a biblioteca instalada.\n",
    "\n",
    "Para checar se você já tem, no Jupyter Notebook ou interpretador do python, rode:"
   ]
  },
  {
   "cell_type": "code",
   "execution_count": null,
   "id": "186459de",
   "metadata": {},
   "outputs": [],
   "source": [
    "import matplotlib"
   ]
  },
  {
   "cell_type": "markdown",
   "id": "04d4e27b",
   "metadata": {},
   "source": [
    "Se não der erro, é porque está tudo ok!\n",
    "\n",
    "Caso você tenha um erro, será necessário instalar. Para isso, rode o comando no prompt/terminal que possua acesso ao comando:"
   ]
  },
  {
   "cell_type": "code",
   "execution_count": null,
   "id": "398e4343",
   "metadata": {},
   "outputs": [],
   "source": [
    "pip install matplotlib"
   ]
  },
  {
   "cell_type": "markdown",
   "id": "a4d98d12",
   "metadata": {},
   "source": [
    "Em caso de problemas nessa parte, entre em contato no chat da sua turma ou no Q&A.\n",
    "\n",
    "## Importando\n",
    "No Jupyter Notebook, para de fato utilizar o matplotlib, precisamos importar desse jeito:"
   ]
  },
  {
   "cell_type": "code",
   "execution_count": null,
   "id": "e07fdb18",
   "metadata": {},
   "outputs": [],
   "source": [
    "import matplotlib.pyplot as plt"
   ]
  },
  {
   "cell_type": "markdown",
   "id": "8bba8ace",
   "metadata": {},
   "source": [
    "matplotlib.pyplot é uma coleção de funções que fazem o matplotlib funcionar como MATLAB. Cada função, ao chamada, faz algumas alterações em uma figura, exemplos:\n",
    "\n",
    "- criar uma figura\n",
    "- criar uma área de plotagem em uma figura\n",
    "- gerar linhas em uma área de plotagem\n",
    "- decorar o gráfico com rótulos, título, etc.\n",
    "\n",
    "Caso você esteja no Jupyter Notebook, também adicione:"
   ]
  },
  {
   "cell_type": "code",
   "execution_count": null,
   "id": "0f6f8a1c",
   "metadata": {},
   "outputs": [],
   "source": [
    "%matplotlib inline"
   ]
  },
  {
   "cell_type": "code",
   "execution_count": null,
   "id": "0a69cd1c",
   "metadata": {},
   "outputs": [],
   "source": [
    "Esse é um comando específico para o ambiente Jupyter Notebook, para mostrar os gráficos nas células do notebook.\n",
    "\n",
    "Graças a ele, não precisamos (mas se chamar, não tem problema) ao final de cada gráfico o comando:"
   ]
  },
  {
   "cell_type": "code",
   "execution_count": null,
   "id": "6ff25977",
   "metadata": {},
   "outputs": [],
   "source": [
    "plt.show()"
   ]
  },
  {
   "cell_type": "markdown",
   "id": "1cdcf035",
   "metadata": {},
   "source": [
    "Para mostrar o gráfico.\n",
    "\n",
    "Básico\n",
    "Gráfico de linha\n",
    "Para um gráfico de linha simples, podemos chamar o comando plt.plot passando os dados que queremos visualizar.\n",
    "\n",
    "Pela documentação da função plot, precisamos passar dois argumentos para essa função\n",
    "\n",
    "- x\n",
    "- y\n",
    "Que comumente são 1D arrays."
   ]
  },
  {
   "cell_type": "code",
   "execution_count": null,
   "id": "c2abae86",
   "metadata": {},
   "outputs": [],
   "source": [
    "x = [1, 2, 3, 4, 5]\n",
    "y = [n ** 2 for n in x]\n",
    "\n",
    "plt.plot(x, y)\n",
    "plt.show()"
   ]
  }
 ],
 "metadata": {
  "kernelspec": {
   "display_name": "Python 3 (ipykernel)",
   "language": "python",
   "name": "python3"
  },
  "language_info": {
   "codemirror_mode": {
    "name": "ipython",
    "version": 3
   },
   "file_extension": ".py",
   "mimetype": "text/x-python",
   "name": "python",
   "nbconvert_exporter": "python",
   "pygments_lexer": "ipython3",
   "version": "3.9.7"
  }
 },
 "nbformat": 4,
 "nbformat_minor": 5
}
