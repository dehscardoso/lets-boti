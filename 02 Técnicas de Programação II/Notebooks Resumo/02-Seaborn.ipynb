{
 "cells": [
  {
   "cell_type": "markdown",
   "id": "ea0450fc",
   "metadata": {},
   "source": [
    "<img src = \"https://images2.imgbox.com/a5/72/7ZbDUHlf_o.jpg\" width=\"200\">"
   ]
  },
  {
   "cell_type": "code",
   "execution_count": null,
   "id": "360c4c42",
   "metadata": {},
   "outputs": [],
   "source": []
  }
 ],
 "metadata": {
  "kernelspec": {
   "display_name": "Python 3 (ipykernel)",
   "language": "python",
   "name": "python3"
  },
  "language_info": {
   "codemirror_mode": {
    "name": "ipython",
    "version": 3
   },
   "file_extension": ".py",
   "mimetype": "text/x-python",
   "name": "python",
   "nbconvert_exporter": "python",
   "pygments_lexer": "ipython3",
   "version": "3.9.7"
  }
 },
 "nbformat": 4,
 "nbformat_minor": 5
}
