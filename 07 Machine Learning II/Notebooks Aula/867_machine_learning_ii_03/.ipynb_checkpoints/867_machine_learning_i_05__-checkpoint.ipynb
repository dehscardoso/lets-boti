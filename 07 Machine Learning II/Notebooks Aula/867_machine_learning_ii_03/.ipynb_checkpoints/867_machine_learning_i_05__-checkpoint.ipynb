{
 "cells": [
  {
   "cell_type": "markdown",
   "id": "4838cc9d",
   "metadata": {},
   "source": [
    "# Na aula anterior..."
   ]
  },
  {
   "cell_type": "markdown",
   "id": "5a7397e4",
   "metadata": {},
   "source": [
    "Por que faria sentido parar de quebrar as bases de uma árvore de decisão se a folha não está pura? "
   ]
  },
  {
   "cell_type": "raw",
   "id": "777e3dbc",
   "metadata": {},
   "source": [
    "A medida que eu vou criando mais regras, eu vou adicionando níveis de especificação das regras e como consequência, conjuntos cada vez menores são criados, e como consequência, aumento as chances de overfit."
   ]
  },
  {
   "cell_type": "markdown",
   "id": "0e3d5ba5",
   "metadata": {},
   "source": [
    "overfit acontece\n",
    "    acurácia treino: 89%\n",
    "    acurácia teste : 54%"
   ]
  },
  {
   "cell_type": "markdown",
   "id": "806eb8dd",
   "metadata": {},
   "source": [
    "Além das features da instância que eu estou prevendo, o que mais é necessário para fazer a previsão em uma árvore de decisão?"
   ]
  },
  {
   "cell_type": "raw",
   "id": "df0b716f",
   "metadata": {},
   "source": [
    "A sequência de quebras/regras/nós."
   ]
  },
  {
   "cell_type": "markdown",
   "id": "ac81b0b0",
   "metadata": {},
   "source": [
    "# Lembretes\n",
    "\n",
    "Exercício no Class!"
   ]
  },
  {
   "cell_type": "markdown",
   "id": "de4c47b1",
   "metadata": {},
   "source": [
    "# Hoje!"
   ]
  },
  {
   "cell_type": "markdown",
   "id": "51226c4f",
   "metadata": {},
   "source": [
    "## Árvores"
   ]
  },
  {
   "cell_type": "markdown",
   "id": "a75f0c72",
   "metadata": {},
   "source": [
    "### Continuando árvores..."
   ]
  },
  {
   "cell_type": "code",
   "execution_count": null,
   "id": "7b2ad8e6",
   "metadata": {},
   "outputs": [],
   "source": [
    "def calcula_entropia_p(p1):\n",
    "    \n",
    "    if p1 == 0 or p1 == 1:\n",
    "        return 0\n",
    "    \n",
    "    p2 = 1 - p1    \n",
    "    \n",
    "    return -(p1 * np.log2(p1) + (p2) * np.log2(p2))\n",
    "\n",
    "\n",
    "def calcula_entropia(serie):\n",
    "    return calcula_entropia_p(serie.value_counts(normalize = True).iloc[0])\n",
    "    \n",
    "    \n",
    "def calcula_ganho_informacao(df, var_resp, var_quebra, vlr_quebra):\n",
    "    ei = calcula_entropia(df[var_resp])\n",
    "    \n",
    "    conj1 = df[df[var_quebra] == vlr_quebra]\n",
    "    conj2 = df[df[var_quebra] != vlr_quebra]\n",
    "    \n",
    "    e1 = calcula_entropia(conj1[var_resp])\n",
    "    e2 = calcula_entropia(conj2[var_resp])\n",
    "    \n",
    "    ef = (e1 * len(conj1) + e2 * len(conj2)) / len(df)\n",
    "    \n",
    "    return ei - ef"
   ]
  },
  {
   "cell_type": "markdown",
   "id": "6a39deed",
   "metadata": {},
   "source": [
    "**Para pensar:** Como um nó de uma árvore é construído? A partir de `df_amostra`, construa uma função que escolhe a melhor feature e valor para quebra e divida o conjunto de dados em dois."
   ]
  },
  {
   "cell_type": "code",
   "execution_count": 25,
   "id": "0c76feb6",
   "metadata": {},
   "outputs": [],
   "source": [
    "import pandas as pd\n",
    "\n",
    "df = pd.read_csv(\"dados/titanic.csv\")\n",
    "\n",
    "df_amostra = df.sample(15, random_state = 1)"
   ]
  },
  {
   "cell_type": "code",
   "execution_count": null,
   "id": "17edce87",
   "metadata": {},
   "outputs": [],
   "source": [
    "def escolhe_quebra(tabela, target):\n",
    "    \n",
    "    # TODO\n",
    "    \n",
    "    return feature, valor, filho_e, filho_d"
   ]
  },
  {
   "cell_type": "markdown",
   "id": "338584cf",
   "metadata": {},
   "source": [
    "**Para pensar:** Como ficam a questão da escolha do valor para features contínuas?"
   ]
  },
  {
   "cell_type": "code",
   "execution_count": null,
   "id": "6b2f471a",
   "metadata": {},
   "outputs": [],
   "source": []
  },
  {
   "cell_type": "markdown",
   "id": "1d2c77a5",
   "metadata": {},
   "source": [
    "**Para pensar:** Quando a variável resposta é contínua, podemos utilizar a entropia para calcular pureza?"
   ]
  },
  {
   "cell_type": "code",
   "execution_count": null,
   "id": "9d525460",
   "metadata": {},
   "outputs": [],
   "source": []
  },
  {
   "cell_type": "markdown",
   "id": "8155b095",
   "metadata": {},
   "source": [
    "**Para pensar:** No KNN e em regressões linear/contínua, é importante que as features estejam numa determinada escala. Nos casos de uma árvore de decisão, isso também é importante?"
   ]
  },
  {
   "cell_type": "code",
   "execution_count": null,
   "id": "4622caef",
   "metadata": {},
   "outputs": [],
   "source": []
  },
  {
   "cell_type": "markdown",
   "id": "ea603a43",
   "metadata": {},
   "source": [
    "### Usando o sklearn"
   ]
  },
  {
   "cell_type": "markdown",
   "id": "f94f0621",
   "metadata": {},
   "source": [
    "**Para pensar:** O seguinte trecho de código faz a previsão de classificação usando 5 features do titanic com o algoritmo KNN. \n",
    "\n",
    "1. Rode o código, você verá que dará alguns erros. Sua primeira task é corrigir esses erros.\n",
    "2. Adapte o código alterando o algoritmo para Árvores de Decisão."
   ]
  },
  {
   "cell_type": "code",
   "execution_count": 13,
   "id": "2daed724",
   "metadata": {},
   "outputs": [],
   "source": [
    "import pandas as pd\n",
    "\n",
    "from sklearn.model_selection import train_test_split\n",
    "\n",
    "from sklearn.neighbors import KNeighborsClassifier\n",
    "from sklearn.tree import DecisionTreeClassifier"
   ]
  },
  {
   "cell_type": "code",
   "execution_count": null,
   "id": "97645a33",
   "metadata": {},
   "outputs": [],
   "source": [
    "df = pd.read_csv('dados/titanic.csv')\n",
    "\n",
    "var_expl = ['Pclass', 'Sex', 'Age', 'SibSp', 'Parch']\n",
    "var_resp = 'Survived'\n",
    "\n",
    "df_treino, df_teste = train_test_split(df, test_size = 0.2, random_state = 1)\n",
    "\n",
    "x_treino = df_treino[var_expl]\n",
    "x_teste = df_teste[var_expl]\n",
    "\n",
    "y_treino = df_treino[var_resp]\n",
    "y_teste = df_teste[var_resp]\n",
    "\n",
    "print('treino:', x_treino.shape, y_treino.shape)\n",
    "print('teste:', x_teste.shape, y_teste.shape)\n",
    "\n",
    "modelo = KNeighborsClassifier()\n",
    "modelo.fit(x_treino, y_treino)\n",
    "\n",
    "y_teste_pred = modelo.predict_proba(x_teste)\n",
    "\n",
    "roc_auc_score(y_teste, y_teste_pred)"
   ]
  },
  {
   "cell_type": "markdown",
   "id": "07539d44",
   "metadata": {},
   "source": [
    "### Visualizando a árvore"
   ]
  },
  {
   "cell_type": "code",
   "execution_count": null,
   "id": "d5e00c72",
   "metadata": {},
   "outputs": [],
   "source": []
  },
  {
   "cell_type": "markdown",
   "id": "2af6cc3c",
   "metadata": {},
   "source": [
    "### Usos da árvore além de modelos"
   ]
  },
  {
   "cell_type": "code",
   "execution_count": null,
   "id": "cfa4cfac",
   "metadata": {},
   "outputs": [],
   "source": []
  }
 ],
 "metadata": {
  "kernelspec": {
   "display_name": "Python 3 (ipykernel)",
   "language": "python",
   "name": "python3"
  },
  "language_info": {
   "codemirror_mode": {
    "name": "ipython",
    "version": 3
   },
   "file_extension": ".py",
   "mimetype": "text/x-python",
   "name": "python",
   "nbconvert_exporter": "python",
   "pygments_lexer": "ipython3",
   "version": "3.9.7"
  }
 },
 "nbformat": 4,
 "nbformat_minor": 5
}
