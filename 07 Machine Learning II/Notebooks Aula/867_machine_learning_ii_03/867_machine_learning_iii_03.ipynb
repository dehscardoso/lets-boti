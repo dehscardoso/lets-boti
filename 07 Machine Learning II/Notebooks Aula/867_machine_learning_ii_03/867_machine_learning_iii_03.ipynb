{
 "cells": [
  {
   "cell_type": "markdown",
   "id": "044429a9",
   "metadata": {},
   "source": [
    "# Projeto"
   ]
  },
  {
   "cell_type": "code",
   "execution_count": null,
   "id": "1ca2708f",
   "metadata": {},
   "outputs": [],
   "source": []
  },
  {
   "cell_type": "markdown",
   "id": "78cf951b",
   "metadata": {},
   "source": [
    "# Na aula anterior..."
   ]
  },
  {
   "cell_type": "markdown",
   "id": "6b5fce89",
   "metadata": {},
   "source": [
    "Qual a principal diferença entre Boosting e Random Forest? "
   ]
  },
  {
   "cell_type": "raw",
   "id": "d91bdbda",
   "metadata": {},
   "source": []
  },
  {
   "cell_type": "markdown",
   "id": "06f28373",
   "metadata": {},
   "source": [
    "Boosting pode ser aplicado apenas em modelos de árvore. Essa frase é verdadeira?"
   ]
  },
  {
   "cell_type": "raw",
   "id": "6ec30957",
   "metadata": {},
   "source": []
  },
  {
   "cell_type": "markdown",
   "id": "8748f011",
   "metadata": {},
   "source": [
    "Por que existe uma tendência ao overfiting ao utilizar Boosting?"
   ]
  },
  {
   "cell_type": "code",
   "execution_count": null,
   "id": "25a92a96",
   "metadata": {},
   "outputs": [],
   "source": []
  },
  {
   "cell_type": "markdown",
   "id": "bf9bdf67",
   "metadata": {},
   "source": [
    "# Hoje!"
   ]
  },
  {
   "cell_type": "markdown",
   "id": "62f9c8a9",
   "metadata": {},
   "source": [
    "- Utilizando o AdaBoost no projeto"
   ]
  },
  {
   "cell_type": "code",
   "execution_count": null,
   "id": "dcea0726",
   "metadata": {},
   "outputs": [],
   "source": []
  },
  {
   "cell_type": "markdown",
   "id": "717a7e8b",
   "metadata": {},
   "source": [
    "- Utilizando o LightGBM no projeto"
   ]
  },
  {
   "cell_type": "code",
   "execution_count": null,
   "id": "22b5f5e5",
   "metadata": {},
   "outputs": [],
   "source": []
  }
 ],
 "metadata": {
  "kernelspec": {
   "display_name": "Python 3 (ipykernel)",
   "language": "python",
   "name": "python3"
  },
  "language_info": {
   "codemirror_mode": {
    "name": "ipython",
    "version": 3
   },
   "file_extension": ".py",
   "mimetype": "text/x-python",
   "name": "python",
   "nbconvert_exporter": "python",
   "pygments_lexer": "ipython3",
   "version": "3.9.7"
  }
 },
 "nbformat": 4,
 "nbformat_minor": 5
}
