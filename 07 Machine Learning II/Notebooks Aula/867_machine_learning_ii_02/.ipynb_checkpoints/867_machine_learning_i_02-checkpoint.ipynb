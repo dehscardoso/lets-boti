{
 "cells": [
  {
   "cell_type": "markdown",
   "id": "fdb1b7ad",
   "metadata": {},
   "source": [
    "# Na aula anterior..."
   ]
  },
  {
   "cell_type": "code",
   "execution_count": null,
   "id": "985dcbf9",
   "metadata": {},
   "outputs": [],
   "source": []
  },
  {
   "cell_type": "markdown",
   "id": "ecf745e9",
   "metadata": {},
   "source": [
    "Dessa forma, num modelo de classificação, a classe predita para uma nova instância será aquela do vizinho mais próximo a essa nova instâcia. \n",
    "\n",
    "<img src=\"imagens/knn.png\" alt=\"Drawing\" style=\"width: 250px;\"/>\n",
    "\n",
    "Nesse modelo a fase de treinamento consiste apenas na leitura dos dados de treino, sendo por esse motivo conhecido como um algoritmo preguiçoso: todos os cálculos necessários são realizados apenas no momento de predição."
   ]
  },
  {
   "cell_type": "markdown",
   "id": "365048ec",
   "metadata": {},
   "source": [
    "**Para pensar:** Construir um função que calcula a distância entre 2 pontos com n dimensões."
   ]
  },
  {
   "cell_type": "code",
   "execution_count": 34,
   "id": "dc05be10",
   "metadata": {},
   "outputs": [
    {
     "data": {
      "text/plain": [
       "sepal_length       5.1\n",
       "sepal_width        3.5\n",
       "petal_length       1.4\n",
       "petal_width        0.2\n",
       "species         setosa\n",
       "Name: 0, dtype: object"
      ]
     },
     "execution_count": 34,
     "metadata": {},
     "output_type": "execute_result"
    }
   ],
   "source": [
    "df.iloc[0]"
   ]
  },
  {
   "cell_type": "code",
   "execution_count": null,
   "id": "80da7822",
   "metadata": {},
   "outputs": [],
   "source": [
    "def calcula_distancia(xi, xj):\n",
    "    return ((xi['sepal_length'] - xj['sepal_length'])**2 + (xi['petal_length'] - xj['petal_length'])**2)**0.5\n",
    "    "
   ]
  },
  {
   "cell_type": "code",
   "execution_count": 38,
   "id": "24974cd0",
   "metadata": {},
   "outputs": [
    {
     "data": {
      "text/plain": [
       "0.424264068711929"
      ]
     },
     "execution_count": 38,
     "metadata": {},
     "output_type": "execute_result"
    }
   ],
   "source": [
    "calcula_distancia(df.iloc[0, 0:3], df.iloc[5, 0:3])"
   ]
  },
  {
   "cell_type": "markdown",
   "id": "ec3e4cd8",
   "metadata": {},
   "source": [
    "**Para pensar:** Construir um função que calcula o a predição da classe de um elemento usando o Vizinho Mais Próximo."
   ]
  },
  {
   "cell_type": "code",
   "execution_count": null,
   "id": "83e99fe5",
   "metadata": {},
   "outputs": [],
   "source": []
  }
 ],
 "metadata": {
  "kernelspec": {
   "display_name": "Python 3 (ipykernel)",
   "language": "python",
   "name": "python3"
  },
  "language_info": {
   "codemirror_mode": {
    "name": "ipython",
    "version": 3
   },
   "file_extension": ".py",
   "mimetype": "text/x-python",
   "name": "python",
   "nbconvert_exporter": "python",
   "pygments_lexer": "ipython3",
   "version": "3.9.7"
  }
 },
 "nbformat": 4,
 "nbformat_minor": 5
}
