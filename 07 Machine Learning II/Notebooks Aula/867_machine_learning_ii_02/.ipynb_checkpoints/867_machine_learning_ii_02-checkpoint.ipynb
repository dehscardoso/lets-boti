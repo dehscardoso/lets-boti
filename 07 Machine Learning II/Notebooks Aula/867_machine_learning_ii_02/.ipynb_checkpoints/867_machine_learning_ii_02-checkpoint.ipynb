{
 "cells": [
  {
   "cell_type": "markdown",
   "id": "634cdddd",
   "metadata": {},
   "source": [
    "# Na aula anterior..."
   ]
  },
  {
   "cell_type": "markdown",
   "id": "a0270abd",
   "metadata": {},
   "source": [
    "Uso de `cross_val_predict`\n",
    "\n",
    "\n",
    "\n",
    "```python\n",
    "cross_val_predict(clf_model, X_exp, y_depend, cv=skf, method='predict_proba')\n",
    "```"
   ]
  },
  {
   "cell_type": "code",
   "execution_count": 17,
   "id": "3ee9f407",
   "metadata": {},
   "outputs": [],
   "source": [
    "import numpy as np\n",
    "import pandas as pd\n",
    "import matplotlib.pyplot as plt\n",
    "\n",
    "from sklearn.model_selection import train_test_split\n",
    "from sklearn.metrics import roc_auc_score\n",
    "from sklearn.preprocessing import OrdinalEncoder, MinMaxScaler\n",
    "from sklearn.tree import DecisionTreeClassifier\n",
    "from sklearn.neighbors import KNeighborsClassifier\n",
    "\n",
    "from sklearn.pipeline import Pipeline"
   ]
  },
  {
   "cell_type": "code",
   "execution_count": 14,
   "id": "8b748762",
   "metadata": {},
   "outputs": [
    {
     "data": {
      "text/html": [
       "<div>\n",
       "<style scoped>\n",
       "    .dataframe tbody tr th:only-of-type {\n",
       "        vertical-align: middle;\n",
       "    }\n",
       "\n",
       "    .dataframe tbody tr th {\n",
       "        vertical-align: top;\n",
       "    }\n",
       "\n",
       "    .dataframe thead th {\n",
       "        text-align: right;\n",
       "    }\n",
       "</style>\n",
       "<table border=\"1\" class=\"dataframe\">\n",
       "  <thead>\n",
       "    <tr style=\"text-align: right;\">\n",
       "      <th></th>\n",
       "      <th>PassengerId</th>\n",
       "      <th>Survived</th>\n",
       "      <th>Pclass</th>\n",
       "      <th>Name</th>\n",
       "      <th>Sex</th>\n",
       "      <th>Age</th>\n",
       "      <th>SibSp</th>\n",
       "      <th>Parch</th>\n",
       "      <th>Ticket</th>\n",
       "      <th>Fare</th>\n",
       "      <th>Cabin</th>\n",
       "      <th>Embarked</th>\n",
       "    </tr>\n",
       "  </thead>\n",
       "  <tbody>\n",
       "    <tr>\n",
       "      <th>0</th>\n",
       "      <td>1</td>\n",
       "      <td>0</td>\n",
       "      <td>3</td>\n",
       "      <td>Braund, Mr. Owen Harris</td>\n",
       "      <td>male</td>\n",
       "      <td>22.0</td>\n",
       "      <td>1</td>\n",
       "      <td>0</td>\n",
       "      <td>A/5 21171</td>\n",
       "      <td>7.2500</td>\n",
       "      <td>NaN</td>\n",
       "      <td>S</td>\n",
       "    </tr>\n",
       "    <tr>\n",
       "      <th>1</th>\n",
       "      <td>2</td>\n",
       "      <td>1</td>\n",
       "      <td>1</td>\n",
       "      <td>Cumings, Mrs. John Bradley (Florence Briggs Th...</td>\n",
       "      <td>female</td>\n",
       "      <td>38.0</td>\n",
       "      <td>1</td>\n",
       "      <td>0</td>\n",
       "      <td>PC 17599</td>\n",
       "      <td>71.2833</td>\n",
       "      <td>C85</td>\n",
       "      <td>C</td>\n",
       "    </tr>\n",
       "    <tr>\n",
       "      <th>2</th>\n",
       "      <td>3</td>\n",
       "      <td>1</td>\n",
       "      <td>3</td>\n",
       "      <td>Heikkinen, Miss. Laina</td>\n",
       "      <td>female</td>\n",
       "      <td>26.0</td>\n",
       "      <td>0</td>\n",
       "      <td>0</td>\n",
       "      <td>STON/O2. 3101282</td>\n",
       "      <td>7.9250</td>\n",
       "      <td>NaN</td>\n",
       "      <td>S</td>\n",
       "    </tr>\n",
       "    <tr>\n",
       "      <th>3</th>\n",
       "      <td>4</td>\n",
       "      <td>1</td>\n",
       "      <td>1</td>\n",
       "      <td>Futrelle, Mrs. Jacques Heath (Lily May Peel)</td>\n",
       "      <td>female</td>\n",
       "      <td>35.0</td>\n",
       "      <td>1</td>\n",
       "      <td>0</td>\n",
       "      <td>113803</td>\n",
       "      <td>53.1000</td>\n",
       "      <td>C123</td>\n",
       "      <td>S</td>\n",
       "    </tr>\n",
       "    <tr>\n",
       "      <th>4</th>\n",
       "      <td>5</td>\n",
       "      <td>0</td>\n",
       "      <td>3</td>\n",
       "      <td>Allen, Mr. William Henry</td>\n",
       "      <td>male</td>\n",
       "      <td>35.0</td>\n",
       "      <td>0</td>\n",
       "      <td>0</td>\n",
       "      <td>373450</td>\n",
       "      <td>8.0500</td>\n",
       "      <td>NaN</td>\n",
       "      <td>S</td>\n",
       "    </tr>\n",
       "  </tbody>\n",
       "</table>\n",
       "</div>"
      ],
      "text/plain": [
       "   PassengerId  Survived  Pclass  \\\n",
       "0            1         0       3   \n",
       "1            2         1       1   \n",
       "2            3         1       3   \n",
       "3            4         1       1   \n",
       "4            5         0       3   \n",
       "\n",
       "                                                Name     Sex   Age  SibSp  \\\n",
       "0                            Braund, Mr. Owen Harris    male  22.0      1   \n",
       "1  Cumings, Mrs. John Bradley (Florence Briggs Th...  female  38.0      1   \n",
       "2                             Heikkinen, Miss. Laina  female  26.0      0   \n",
       "3       Futrelle, Mrs. Jacques Heath (Lily May Peel)  female  35.0      1   \n",
       "4                           Allen, Mr. William Henry    male  35.0      0   \n",
       "\n",
       "   Parch            Ticket     Fare Cabin Embarked  \n",
       "0      0         A/5 21171   7.2500   NaN        S  \n",
       "1      0          PC 17599  71.2833   C85        C  \n",
       "2      0  STON/O2. 3101282   7.9250   NaN        S  \n",
       "3      0            113803  53.1000  C123        S  \n",
       "4      0            373450   8.0500   NaN        S  "
      ]
     },
     "execution_count": 14,
     "metadata": {},
     "output_type": "execute_result"
    }
   ],
   "source": [
    "df = pd.read_csv('dados/titanic.csv')\n",
    "df.head()"
   ]
  },
  {
   "cell_type": "code",
   "execution_count": 46,
   "id": "ed42514a",
   "metadata": {},
   "outputs": [],
   "source": [
    "var_expl = ['Pclass', 'Age', 'SibSp', 'Parch', 'Sex']\n",
    "var_resp = 'Survived'\n",
    "\n",
    "df.dropna(subset = var_expl, inplace = True)\n",
    "df.Sex = df.Sex == 'male'\n",
    "\n",
    "df_treino, df_teste = train_test_split(df, test_size = 0.2, random_state = 3)\n",
    "\n",
    "x_treino = df_treino[var_expl].copy()\n",
    "x_teste = df_teste[var_expl].copy()\n",
    "\n",
    "y_treino = df_treino[var_resp].copy()\n",
    "y_teste = df_teste[var_resp].copy()"
   ]
  },
  {
   "cell_type": "code",
   "execution_count": null,
   "id": "89e8f984",
   "metadata": {},
   "outputs": [],
   "source": [
    "from sklearn.preprocessing import FunctionTransformer\n",
    "FunctionTransformer(pd.get_dummies)"
   ]
  },
  {
   "cell_type": "code",
   "execution_count": null,
   "id": "78fe1c58",
   "metadata": {},
   "outputs": [],
   "source": [
    "df_treino, df_teste = train_test_split(df, test_size = 0.2, random_state = 3)\n",
    "\n",
    "x_treino = df_treino[var_expl].copy()\n",
    "x_teste = df_teste[var_expl].copy()\n",
    "\n",
    "y_treino = df_treino[var_resp].copy()\n",
    "y_teste = df_teste[var_resp].copy()"
   ]
  },
  {
   "cell_type": "code",
   "execution_count": 148,
   "id": "1a4f9826",
   "metadata": {},
   "outputs": [],
   "source": [
    "pipe_1 = Pipeline(steps = [\n",
    "    ('modelo', DecisionTreeClassifier(max_depth = 4, random_state = 1)) \n",
    "])"
   ]
  },
  {
   "cell_type": "code",
   "execution_count": 48,
   "id": "18d7780d",
   "metadata": {},
   "outputs": [],
   "source": [
    "pipe_2 = Pipeline(steps = [\n",
    "    ('minmax', MinMaxScaler()),\n",
    "    ('modelo', KNeighborsClassifier()) \n",
    "])"
   ]
  },
  {
   "cell_type": "code",
   "execution_count": 213,
   "id": "e7cdbad5",
   "metadata": {},
   "outputs": [],
   "source": [
    "from sklearn.model_selection import KFold, cross_val_score, cross_val_predict"
   ]
  },
  {
   "cell_type": "code",
   "execution_count": 206,
   "id": "3b4aff36",
   "metadata": {},
   "outputs": [
    {
     "name": "stdout",
     "output_type": "stream",
     "text": [
      "CPU times: user 3 µs, sys: 1e+03 ns, total: 4 µs\n",
      "Wall time: 8.82 µs\n"
     ]
    },
    {
     "data": {
      "text/plain": [
       "0.7465486385714292"
      ]
     },
     "execution_count": 206,
     "metadata": {},
     "output_type": "execute_result"
    }
   ],
   "source": [
    "%time\n",
    "\n",
    "kf = KFold(n_splits = 5, shuffle = True, random_state = 1)\n",
    "\n",
    "metricas = []\n",
    "\n",
    "for i_treino, i_teste in kf.split(x_treino):\n",
    "    \n",
    "    x_treino_kf = x_treino.iloc[i_treino]\n",
    "    y_treino_kf = y_treino.iloc[i_treino]\n",
    "    \n",
    "    x_val_kf = x_treino.iloc[i_teste]\n",
    "    y_val_kf = y_treino.iloc[i_teste]\n",
    "    \n",
    "    pipe_1.fit(x_treino_kf, y_treino_kf)\n",
    "    \n",
    "    y_val_pred = pipe_1.predict_proba(x_val_kf)[:, 1]\n",
    "    metricas.append(roc_auc_score(y_val_kf, y_val_pred))\n",
    "    \n",
    "np.mean(metricas)"
   ]
  },
  {
   "cell_type": "code",
   "execution_count": 207,
   "id": "2fe172cc",
   "metadata": {},
   "outputs": [
    {
     "name": "stdout",
     "output_type": "stream",
     "text": [
      "CPU times: user 3 µs, sys: 1e+03 ns, total: 4 µs\n",
      "Wall time: 9.06 µs\n"
     ]
    },
    {
     "data": {
      "text/plain": [
       "0.7296799533335021"
      ]
     },
     "execution_count": 207,
     "metadata": {},
     "output_type": "execute_result"
    }
   ],
   "source": [
    "%time\n",
    "\n",
    "kf = KFold(n_splits = 5, shuffle = True, random_state = 1)\n",
    "\n",
    "metricas = []\n",
    "\n",
    "for i_treino, i_teste in kf.split(x_treino):\n",
    "\n",
    "    x_treino_kf = x_treino.iloc[i_treino]\n",
    "    y_treino_kf = y_treino.iloc[i_treino]\n",
    "    \n",
    "    x_val_kf = x_treino.iloc[i_treino]\n",
    "    y_val_kf = y_treino.iloc[i_treino]\n",
    "    \n",
    "    pipe_2 = Pipeline(steps = [\n",
    "        ('minmax', MinMaxScaler()),\n",
    "        ('modelo', KNeighborsClassifier()) \n",
    "    ])\n",
    "    \n",
    "    pipe_2.fit(x_treino_kf, y_treino_kf)\n",
    "    \n",
    "    y_val_pred = pipe_2.predict_proba(x_val_kf)[:, 1]\n",
    "    metricas.append(roc_auc_score(y_val_kf, y_val_pred))\n",
    "    \n",
    "np.mean(metricas)"
   ]
  },
  {
   "cell_type": "code",
   "execution_count": 198,
   "id": "e8dcb4a7",
   "metadata": {},
   "outputs": [],
   "source": [
    "kf = KFold(n_splits = 5, shuffle = True, random_state = 1)"
   ]
  },
  {
   "cell_type": "code",
   "execution_count": 208,
   "id": "9fc41c47",
   "metadata": {},
   "outputs": [
    {
     "data": {
      "text/plain": [
       "0.7465486385714292"
      ]
     },
     "execution_count": 208,
     "metadata": {},
     "output_type": "execute_result"
    }
   ],
   "source": [
    "np.mean(cross_val_score(pipe_1, x_treino, y_treino, scoring = 'roc_auc', cv = kf))"
   ]
  },
  {
   "cell_type": "code",
   "execution_count": 209,
   "id": "ca91fd8c",
   "metadata": {},
   "outputs": [
    {
     "data": {
      "text/plain": [
       "0.7296799533335021"
      ]
     },
     "execution_count": 209,
     "metadata": {},
     "output_type": "execute_result"
    }
   ],
   "source": [
    "np.mean(cross_val_score(pipe_2, x_treino, y_treino, scoring = 'roc_auc', cv = kf))"
   ]
  },
  {
   "cell_type": "code",
   "execution_count": 217,
   "id": "16e6104d",
   "metadata": {},
   "outputs": [
    {
     "data": {
      "text/plain": [
       "array([0.2, 0. , 0. , 0.6, 0.4, 0. , 0.4, 0.8, 0.2, 0.6, 0.8, 0.8, 0.2,\n",
       "       0.4, 0.4, 0.8, 0.6, 0. , 0. , 0.2, 0.2, 0.4, 0.8, 0. , 0.6, 0. ,\n",
       "       0.2, 0.2, 0.2, 0. , 1. , 0. , 0.6, 0.4, 0.2, 0.6, 0. , 1. , 0.6,\n",
       "       1. , 0.8, 1. , 0. , 0.4, 0.2, 0.2, 0.6, 0.4, 0.2, 0.8, 1. , 0.8,\n",
       "       0.6, 1. , 0.6, 0.2, 0.4, 0.8, 0. , 0.4, 0.6, 0.4, 0.2, 0. , 0.4,\n",
       "       0.6, 0. , 0.2, 0. , 0. , 0.2, 0.6, 0.4, 0.6, 0. , 0.6, 0.4, 0.8,\n",
       "       0.2, 0. , 0.6, 0.6, 0.2, 0.2, 0.4, 0. , 0. , 0.2, 0.2, 0.6, 0.4,\n",
       "       0.4, 0.2, 0.6, 0.2, 0.2, 0.8, 0.2, 0.6, 1. , 0.4, 0.8, 0. , 0. ,\n",
       "       0.4, 0.2, 0.4, 0.6, 0.2, 0.2, 0. , 0.2, 0.2, 0. , 0.4, 0.4, 1. ,\n",
       "       0.6, 0. , 1. , 0.6, 0.2, 0. , 1. , 0.2, 0.8, 0. , 0.2, 0.8, 0.2,\n",
       "       0.2, 0.2, 0.6, 0. , 0.2, 0.2, 0. , 0.4, 0.4, 0.4, 0.8, 0.6, 0.2,\n",
       "       0.6, 0.6, 0. , 0.8, 0.2, 0.4, 0.4, 0.4, 0.2, 0.6, 0. , 0.8, 0.6,\n",
       "       1. , 0.4, 0.6, 0.6, 0.6, 0.6, 0.8, 1. , 0.2, 0.4, 0.8, 0.8, 0. ,\n",
       "       0.2, 0.4, 0.8, 0. , 0. , 0. , 0. , 0.2, 0.2, 0.4, 0.6, 0. , 0.6,\n",
       "       0.4, 0.8, 0.2, 0. , 0.2, 0.2, 0.2, 0. , 0.6, 0.2, 1. , 0.6, 0.2,\n",
       "       0. , 0.4, 0.6, 0.2, 0.6, 0.6, 0. , 0.4, 0.8, 0.6, 0.4, 0. , 0.4,\n",
       "       0.2, 0.6, 0.6, 0. , 0.2, 0.6, 0.2, 0.2, 1. , 0. , 0.6, 1. , 0. ,\n",
       "       0.4, 1. , 0.4, 0.2, 0.4, 0.4, 0.2, 1. , 0.6, 0.2, 0.4, 0.2, 0.2,\n",
       "       0.6, 0. , 0.4, 0.4, 0. , 0. , 0.8, 1. , 0. , 0.4, 0.8, 0.6, 0.6,\n",
       "       0.6, 0.4, 1. , 0.2, 1. , 0. , 0.6, 0.4, 0.2, 1. , 0.2, 0.2, 0.8,\n",
       "       0. , 0. , 0.4, 0. , 0.2, 0.2, 1. , 0.4, 0.6, 0.2, 1. , 0. , 0.8,\n",
       "       0.6, 0.6, 0. , 0.2, 0.8, 0.4, 0.2, 0.6, 0. , 0.4, 0.2, 0.6, 0. ,\n",
       "       0. , 0.6, 0.2, 0.4, 0.4, 0.2, 0.8, 0.6, 0.6, 0. , 0.2, 1. , 0.2,\n",
       "       0.8, 0.6, 0. , 0.6, 0.2, 0.8, 0.4, 0.2, 0.6, 0.2, 0. , 0.2, 0.6,\n",
       "       0.4, 0.8, 0. , 0.8, 0. , 0.8, 0.4, 0. , 0.2, 0.2, 0.6, 0. , 0. ,\n",
       "       1. , 0.6, 0.2, 0. , 0. , 0.6, 0.4, 0.2, 0.6, 0. , 0. , 0.6, 0.4,\n",
       "       0.2, 0.6, 0. , 0.6, 0.6, 0.8, 0.6, 0.2, 0.6, 0.8, 0.2, 0.4, 0.2,\n",
       "       0.8, 0. , 0.6, 0.2, 0. , 0.8, 0.6, 0.2, 0.8, 0.2, 0. , 0.6, 0.4,\n",
       "       0.6, 0. , 0.8, 0. , 0.6, 1. , 0.6, 0.4, 0.2, 0.2, 0.8, 0.6, 0.2,\n",
       "       0.2, 0. , 0.2, 0. , 0.6, 0. , 0.8, 0.8, 0.6, 0.6, 0. , 0.6, 0.4,\n",
       "       0.8, 1. , 0. , 0.6, 0.4, 0.2, 0.4, 0.6, 0. , 0.2, 0. , 0.2, 0.8,\n",
       "       0. , 0.4, 0.8, 0.2, 0.2, 0. , 0.6, 0.8, 0.6, 1. , 0.4, 0.6, 0.8,\n",
       "       0.2, 0.8, 1. , 0.6, 0.8, 0. , 1. , 0.2, 0.4, 0.2, 0.2, 0.2, 0. ,\n",
       "       0.2, 0.2, 0.8, 0.4, 0.4, 0.4, 0.6, 0. , 1. , 0.4, 0.2, 0.8, 0. ,\n",
       "       0.6, 0.2, 0.8, 0. , 0.2, 0.8, 0.6, 0.2, 0.4, 0.2, 0.6, 0.6, 0.2,\n",
       "       0.4, 0.8, 0.4, 0.6, 0.2, 0.4, 0.4, 0.2, 0.8, 0.2, 0.2, 0.8, 0.4,\n",
       "       0.4, 0.2, 0.6, 0.6, 0.8, 0.4, 0.2, 0. , 0.2, 0.2, 0. , 0.8, 0.6,\n",
       "       0. , 0.4, 0.4, 1. , 0.2, 0.6, 0.8, 1. , 0.4, 0.2, 0.8, 0.6, 0.4,\n",
       "       0.2, 0. , 0. , 0.4, 0.4, 0.4, 0. , 0.2, 0. , 0.2, 0.4, 0.2, 0. ,\n",
       "       0.2, 0.2, 0.4, 0.2, 0. , 0.4, 0.2, 0.2, 0.2, 0. , 0. , 0.4, 0.6,\n",
       "       0.2, 0. , 0.4, 0.6, 0.2, 0.4, 0.4, 0.2, 0.6, 0. , 0. , 0.4, 0.6,\n",
       "       0.8, 0.6, 1. , 0.2, 0.8, 0.4, 1. , 0.2, 0.2, 0.4, 0.6, 0.6, 0.8,\n",
       "       0.6, 0.2, 0.2, 0.4, 1. , 0.2, 0.4, 0.2, 0.2, 0. , 1. , 0.6, 1. ,\n",
       "       0.2, 0.2, 0.6, 0. , 0.2, 0. , 0.2, 0.4, 0. , 0.2])"
      ]
     },
     "execution_count": 217,
     "metadata": {},
     "output_type": "execute_result"
    }
   ],
   "source": [
    "cross_val_predict(pipe_2, x_treino, y_treino, cv = kf, method = 'predict_proba')[:, 1]"
   ]
  },
  {
   "cell_type": "code",
   "execution_count": 50,
   "id": "994d19d0",
   "metadata": {},
   "outputs": [
    {
     "data": {
      "text/plain": [
       "0.733454398708636"
      ]
     },
     "execution_count": 50,
     "metadata": {},
     "output_type": "execute_result"
    }
   ],
   "source": [
    "pipe_2.fit(x_treino, y_treino)\n",
    "y_teste_pred_2 = pipe_2.predict_proba(x_teste)[:, 1]\n",
    "roc_auc_score(y_teste, y_teste_pred_2)"
   ]
  },
  {
   "cell_type": "code",
   "execution_count": 39,
   "id": "7f64d532",
   "metadata": {},
   "outputs": [
    {
     "data": {
      "text/plain": [
       "0.0038539553752536815"
      ]
     },
     "execution_count": 39,
     "metadata": {},
     "output_type": "execute_result"
    }
   ],
   "source": [
    "0.8173427991886411 - 0.8134888438133874"
   ]
  },
  {
   "cell_type": "code",
   "execution_count": 45,
   "id": "a4f69b50",
   "metadata": {},
   "outputs": [
    {
     "data": {
      "text/plain": [
       "0.06481481481481477"
      ]
     },
     "execution_count": 45,
     "metadata": {},
     "output_type": "execute_result"
    }
   ],
   "source": [
    "0.7568664169787765 - 0.6920516021639618"
   ]
  },
  {
   "cell_type": "code",
   "execution_count": 51,
   "id": "20ab9197",
   "metadata": {},
   "outputs": [
    {
     "data": {
      "text/plain": [
       "-0.002522195318805598"
      ]
     },
     "execution_count": 51,
     "metadata": {},
     "output_type": "execute_result"
    }
   ],
   "source": [
    "0.7309322033898304 - 0.733454398708636"
   ]
  },
  {
   "cell_type": "markdown",
   "id": "07244b74",
   "metadata": {},
   "source": [
    "## Criando nossos próprios Transformers"
   ]
  },
  {
   "cell_type": "code",
   "execution_count": 228,
   "id": "e24a7bcb",
   "metadata": {},
   "outputs": [],
   "source": [
    "df = pd.read_csv('dados/titanic.csv')\n",
    "\n",
    "var_expl = ['Pclass', 'Age', 'SibSp', 'Parch', 'Sex']\n",
    "var_resp = 'Survived'\n",
    "\n",
    "df.dropna(subset = var_expl, inplace = True)\n",
    "\n",
    "df_treino, df_teste = train_test_split(df, test_size = 0.2, random_state = 3)\n",
    "\n",
    "x_treino = df_treino[var_expl].copy()\n",
    "x_teste = df_teste[var_expl].copy()\n",
    "\n",
    "y_treino = df_treino[var_resp].copy()\n",
    "y_teste = df_teste[var_resp].copy()"
   ]
  },
  {
   "cell_type": "code",
   "execution_count": 231,
   "id": "1b374526",
   "metadata": {},
   "outputs": [],
   "source": [
    "from sklearn.preprocessing import FunctionTransformer\n",
    "\n",
    "def sexo_masculino(tbl):\n",
    "    tbl['Sex'] = tbl['Sex'] == 'male'\n",
    "    return tbl\n",
    "\n",
    "transformador = FunctionTransformer(sexo_masculino)"
   ]
  },
  {
   "cell_type": "code",
   "execution_count": null,
   "id": "517929a4",
   "metadata": {},
   "outputs": [],
   "source": [
    "df_treino, df_teste = train_test_split(df, test_size = 0.2, random_state = 3)\n",
    "\n",
    "x_treino = df_treino[var_expl].copy()\n",
    "x_teste = df_teste[var_expl].copy()\n",
    "\n",
    "y_treino = df_treino[var_resp].copy()\n",
    "y_teste = df_teste[var_resp].copy()"
   ]
  },
  {
   "cell_type": "code",
   "execution_count": 235,
   "id": "3d7a62fc",
   "metadata": {},
   "outputs": [],
   "source": [
    "pipe_1 = Pipeline(steps = [\n",
    "    ('trata_sexo', FunctionTransformer(sexo_masculino)),\n",
    "    ('modelo', DecisionTreeClassifier(max_depth = 4, random_state = 1)) \n",
    "])"
   ]
  },
  {
   "cell_type": "code",
   "execution_count": 237,
   "id": "eea6249d",
   "metadata": {},
   "outputs": [
    {
     "data": {
      "text/plain": [
       "0.775964696223317"
      ]
     },
     "execution_count": 237,
     "metadata": {},
     "output_type": "execute_result"
    }
   ],
   "source": [
    "pipe_1.fit(x_treino, y_treino)\n",
    "y_teste_pred_2 = pipe_1.predict_proba(x_teste)[:, 1]\n",
    "roc_auc_score(y_teste, y_teste_pred_2)"
   ]
  },
  {
   "cell_type": "markdown",
   "id": "4838cc9d",
   "metadata": {},
   "source": [
    "# Hoje!"
   ]
  },
  {
   "cell_type": "markdown",
   "id": "f70d3c0c",
   "metadata": {},
   "source": [
    "- Random Forest seleciona aleatoriamente os exemplos em cada amostra.\n",
    "- E se essa seleção não for aleatória?\n",
    "\n",
    "<img src=\"https://i.stack.imgur.com/mQ9Np.png\"/>"
   ]
  },
  {
   "cell_type": "markdown",
   "id": "45b753b8",
   "metadata": {},
   "source": [
    "## Exercício\n",
    "\n",
    "Vamos aplicar o AdaBoost em cima do conjunto do projeto."
   ]
  },
  {
   "cell_type": "code",
   "execution_count": null,
   "id": "a9e70aeb",
   "metadata": {},
   "outputs": [],
   "source": []
  }
 ],
 "metadata": {
  "kernelspec": {
   "display_name": "Python 3 (ipykernel)",
   "language": "python",
   "name": "python3"
  },
  "language_info": {
   "codemirror_mode": {
    "name": "ipython",
    "version": 3
   },
   "file_extension": ".py",
   "mimetype": "text/x-python",
   "name": "python",
   "nbconvert_exporter": "python",
   "pygments_lexer": "ipython3",
   "version": "3.9.7"
  }
 },
 "nbformat": 4,
 "nbformat_minor": 5
}
