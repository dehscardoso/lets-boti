{
 "cells": [
  {
   "cell_type": "markdown",
   "id": "4838cc9d",
   "metadata": {},
   "source": [
    "# Hoje!"
   ]
  },
  {
   "cell_type": "code",
   "execution_count": null,
   "id": "6ef17211",
   "metadata": {},
   "outputs": [],
   "source": []
  },
  {
   "cell_type": "markdown",
   "id": "3fd33dfb",
   "metadata": {},
   "source": [
    "## Projeto"
   ]
  },
  {
   "cell_type": "code",
   "execution_count": null,
   "id": "d33b4756",
   "metadata": {},
   "outputs": [],
   "source": []
  },
  {
   "cell_type": "markdown",
   "id": "54141a72",
   "metadata": {},
   "source": [
    "## Extra 1\n",
    "\n",
    "Crie uma pipeline para os seus modelos do projeto."
   ]
  },
  {
   "cell_type": "code",
   "execution_count": null,
   "id": "f9d3e4fe",
   "metadata": {},
   "outputs": [],
   "source": []
  },
  {
   "cell_type": "markdown",
   "id": "85fe1a49",
   "metadata": {},
   "source": [
    "## Extra 2\n",
    "\n",
    "Para cada uma das pipelines criadas anteriormente, otimize os hiperparâmetros."
   ]
  },
  {
   "cell_type": "code",
   "execution_count": null,
   "id": "c232b32e",
   "metadata": {},
   "outputs": [],
   "source": []
  },
  {
   "cell_type": "markdown",
   "id": "c9272d93",
   "metadata": {},
   "source": [
    "## Extra 3\n",
    "\n",
    "Fazer o exercício do Random Classifier."
   ]
  },
  {
   "cell_type": "code",
   "execution_count": null,
   "id": "b8687fed",
   "metadata": {},
   "outputs": [],
   "source": []
  }
 ],
 "metadata": {
  "kernelspec": {
   "display_name": "Python 3 (ipykernel)",
   "language": "python",
   "name": "python3"
  },
  "language_info": {
   "codemirror_mode": {
    "name": "ipython",
    "version": 3
   },
   "file_extension": ".py",
   "mimetype": "text/x-python",
   "name": "python",
   "nbconvert_exporter": "python",
   "pygments_lexer": "ipython3",
   "version": "3.9.7"
  }
 },
 "nbformat": 4,
 "nbformat_minor": 5
}
