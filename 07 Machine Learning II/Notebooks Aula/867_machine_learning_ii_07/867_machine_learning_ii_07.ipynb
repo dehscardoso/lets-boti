{
 "cells": [
  {
   "cell_type": "markdown",
   "id": "ae37eeb8",
   "metadata": {},
   "source": [
    "# Lembrete"
   ]
  },
  {
   "cell_type": "markdown",
   "id": "47a5461c",
   "metadata": {},
   "source": [
    "- Não teremos aula na quarta e sexta da semana que vem\n",
    "- Novo prazo do projeto: 10/outubro/2022"
   ]
  },
  {
   "cell_type": "markdown",
   "id": "10adcfb9",
   "metadata": {},
   "source": [
    "# Hoje!"
   ]
  },
  {
   "cell_type": "markdown",
   "id": "b84c8e03",
   "metadata": {},
   "source": [
    "Primeira metade será hands-on, vocês escolhem:\n",
    "- Exercício da aula passada\n",
    "- ~Projeto~"
   ]
  },
  {
   "cell_type": "markdown",
   "id": "3e712799",
   "metadata": {},
   "source": [
    "**Para vocês**: Utilizando o dataset do titanic, realizar o seguinte processo:\n",
    "\n",
    "1. Separar em dois dataframes de treino e teste.\n",
    "1. Rodar um modelo simples de **SVM**, sem uso de pipeline, usando como resposta Survived e Pclass e Age como explicativa, substituindo missing pela mediana com uso de SimplesImputer;\n",
    "2. Criar pipeline para rodar o modelo, adicionando apenas o SimpleImputer e o SVC - aqui, na hora do fit, passamos apenas as mesmas três colunas do step 2;\n",
    "3. Usar o ColumnTransformer para criar a pipeline - manteremos o modelo usando apenas as mesmas duas colunas do step 1, com a diferença agora que o fit recebe todas as colunas e o **ColumnTransformer fará a seleção**;\n",
    "4. Criar uma pipeline para dados numéricos (SimplesImputer com mediana, nas colunas Pclass, Age, SibSp e Parch) e uma outra pipeline para dados string (OrdinalEncoder, na coluna Sex, e SimpleImputer com a moda);\n",
    "6. Adicionar uma **camada final para todas as variáveis** para fazer um redimensionamento com StandardScaler.\n",
    "7. Refletir: podemos usar a coluna Name como variável explicativa para fazer previsão? É possível fazer algum pré-processamento nela?"
   ]
  },
  {
   "cell_type": "markdown",
   "id": "78cf951b",
   "metadata": {},
   "source": [
    "## Na aula anterior..."
   ]
  },
  {
   "cell_type": "markdown",
   "id": "5f28b2bc",
   "metadata": {},
   "source": [
    "Qual a principal diferença entre os modelos supervisionados e os modelos não supervisionados?"
   ]
  },
  {
   "cell_type": "raw",
   "id": "14acb3cf",
   "metadata": {},
   "source": [
    "Supervisionado temos alvo/target, no Não Supervisionado não temos alvo/target mas queremos encontrar um padrão que agrupa os elementos."
   ]
  },
  {
   "cell_type": "markdown",
   "id": "6d9d7ee0",
   "metadata": {},
   "source": [
    "Qual etapa vem após encontrar os grupos/clusters em modelos não supervisionados?"
   ]
  },
  {
   "cell_type": "raw",
   "id": "7da697d6",
   "metadata": {},
   "source": [
    "Identificar as características, fazer uma interpretação dos grupos criados."
   ]
  },
  {
   "cell_type": "markdown",
   "id": "73bfe71c",
   "metadata": {},
   "source": [
    "Quais aplicações podemos ter de modelos não supervisionados?"
   ]
  },
  {
   "cell_type": "raw",
   "id": "a716f091",
   "metadata": {},
   "source": [
    "- Agrupar documentos diferentes\n",
    "- Agrupar produtos com curvas de vendas parecidas\n",
    "- Agrupar clientes de bancos por comportamento financeiro"
   ]
  },
  {
   "cell_type": "markdown",
   "id": "5b88327a",
   "metadata": {},
   "source": [
    "## Correção de pontos passados"
   ]
  },
  {
   "cell_type": "markdown",
   "id": "bd85f3bb",
   "metadata": {},
   "source": [
    "- Ponto sobre `probability` do SVM"
   ]
  },
  {
   "cell_type": "markdown",
   "id": "b1df516f",
   "metadata": {},
   "source": [
    "## Algoritmos de Clusterização"
   ]
  },
  {
   "cell_type": "markdown",
   "id": "ac7596fb",
   "metadata": {},
   "source": [
    "### K-Means\n",
    "\n",
    "1. Escolha aleatória de K exemplos do conjunto de dados que serão os centróides iniciais;\n",
    "2. Por meio de uma métrica de proximidade, assimila cada instância do conjunto de dados a um centróide;\n",
    "3. Cria novos K centróides baseado na média de todos os exemplos associados a um centróide específico.\n",
    "4. Continua o processo 2 e 3 até que não exista nenhuma modificação de centróide.\n",
    "\n",
    "<img src=\"imagens/cluster_kmean.png\"/>"
   ]
  },
  {
   "cell_type": "code",
   "execution_count": 101,
   "id": "1f171db3",
   "metadata": {},
   "outputs": [],
   "source": [
    "import numpy as np\n",
    "import pandas as pd\n",
    "import matplotlib.pyplot as plt\n",
    "\n",
    "from sklearn.datasets import make_blobs, make_moons\n",
    "from sklearn.cluster import KMeans"
   ]
  },
  {
   "cell_type": "code",
   "execution_count": 75,
   "id": "9f113bd5",
   "metadata": {},
   "outputs": [],
   "source": [
    "n_centros = 5\n",
    "\n",
    "x, y = make_blobs(\n",
    "    n_samples = 500, \n",
    "    n_features = 2, \n",
    "    centers = n_centros,\n",
    "    random_state = 1\n",
    ")"
   ]
  },
  {
   "cell_type": "code",
   "execution_count": 76,
   "id": "eefd84b3",
   "metadata": {},
   "outputs": [],
   "source": [
    "var_expl = ['F1', 'F2']\n",
    "var_resp = 'Y'"
   ]
  },
  {
   "cell_type": "code",
   "execution_count": 77,
   "id": "d9bddf59",
   "metadata": {},
   "outputs": [
    {
     "data": {
      "text/html": [
       "<div>\n",
       "<style scoped>\n",
       "    .dataframe tbody tr th:only-of-type {\n",
       "        vertical-align: middle;\n",
       "    }\n",
       "\n",
       "    .dataframe tbody tr th {\n",
       "        vertical-align: top;\n",
       "    }\n",
       "\n",
       "    .dataframe thead th {\n",
       "        text-align: right;\n",
       "    }\n",
       "</style>\n",
       "<table border=\"1\" class=\"dataframe\">\n",
       "  <thead>\n",
       "    <tr style=\"text-align: right;\">\n",
       "      <th></th>\n",
       "      <th>F1</th>\n",
       "      <th>F2</th>\n",
       "      <th>Y</th>\n",
       "    </tr>\n",
       "  </thead>\n",
       "  <tbody>\n",
       "    <tr>\n",
       "      <th>0</th>\n",
       "      <td>-2.330222</td>\n",
       "      <td>4.784054</td>\n",
       "      <td>0</td>\n",
       "    </tr>\n",
       "    <tr>\n",
       "      <th>1</th>\n",
       "      <td>-2.279304</td>\n",
       "      <td>1.797583</td>\n",
       "      <td>4</td>\n",
       "    </tr>\n",
       "    <tr>\n",
       "      <th>2</th>\n",
       "      <td>-7.225705</td>\n",
       "      <td>-3.793136</td>\n",
       "      <td>3</td>\n",
       "    </tr>\n",
       "    <tr>\n",
       "      <th>3</th>\n",
       "      <td>-7.666039</td>\n",
       "      <td>-7.597155</td>\n",
       "      <td>2</td>\n",
       "    </tr>\n",
       "    <tr>\n",
       "      <th>4</th>\n",
       "      <td>-7.831737</td>\n",
       "      <td>-3.701228</td>\n",
       "      <td>3</td>\n",
       "    </tr>\n",
       "  </tbody>\n",
       "</table>\n",
       "</div>"
      ],
      "text/plain": [
       "         F1        F2  Y\n",
       "0 -2.330222  4.784054  0\n",
       "1 -2.279304  1.797583  4\n",
       "2 -7.225705 -3.793136  3\n",
       "3 -7.666039 -7.597155  2\n",
       "4 -7.831737 -3.701228  3"
      ]
     },
     "execution_count": 77,
     "metadata": {},
     "output_type": "execute_result"
    }
   ],
   "source": [
    "df = pd.DataFrame(x, columns = var_expl)\n",
    "df[var_resp] = y\n",
    "\n",
    "df.head()"
   ]
  },
  {
   "cell_type": "code",
   "execution_count": 78,
   "id": "16f8a54f",
   "metadata": {},
   "outputs": [
    {
     "data": {
      "text/plain": [
       "0    100\n",
       "4    100\n",
       "3    100\n",
       "2    100\n",
       "1    100\n",
       "Name: Y, dtype: int64"
      ]
     },
     "execution_count": 78,
     "metadata": {},
     "output_type": "execute_result"
    }
   ],
   "source": [
    "df.Y.value_counts()"
   ]
  },
  {
   "cell_type": "code",
   "execution_count": 82,
   "id": "05fb9155",
   "metadata": {},
   "outputs": [
    {
     "data": {
      "image/png": "[encoded data removed]",
      "text/plain": [
       "<Figure size 432x288 with 1 Axes>"
      ]
     },
     "metadata": {
      "needs_background": "light"
     },
     "output_type": "display_data"
    }
   ],
   "source": [
    "plt.scatter(df[df.Y == 0]['F1'], df[df.Y == 0]['F2'], color = 'blue')\n",
    "plt.scatter(df[df.Y == 1]['F1'], df[df.Y == 1]['F2'], color = 'red')\n",
    "plt.scatter(df[df.Y == 2]['F1'], df[df.Y == 2]['F2'], color = 'green')\n",
    "plt.scatter(df[df.Y == 3]['F1'], df[df.Y == 3]['F2'], color = 'pink')\n",
    "plt.scatter(df[df.Y == 4]['F1'], df[df.Y == 4]['F2'], color = 'orange')\n",
    "\n",
    "plt.grid()\n",
    "\n",
    "plt.show()"
   ]
  },
  {
   "cell_type": "markdown",
   "id": "d7f61751",
   "metadata": {},
   "source": [
    "### Com 5 clusters"
   ]
  },
  {
   "cell_type": "code",
   "execution_count": 83,
   "id": "4c905df0",
   "metadata": {},
   "outputs": [],
   "source": [
    "kmeans = KMeans(n_clusters = 5)\n",
    "kmeans.fit(df[var_expl])\n",
    "df['CLUSTER_5'] = kmeans.predict(df[var_expl])"
   ]
  },
  {
   "cell_type": "code",
   "execution_count": 84,
   "id": "d44949b2",
   "metadata": {},
   "outputs": [
    {
     "data": {
      "text/html": [
       "<div>\n",
       "<style scoped>\n",
       "    .dataframe tbody tr th:only-of-type {\n",
       "        vertical-align: middle;\n",
       "    }\n",
       "\n",
       "    .dataframe tbody tr th {\n",
       "        vertical-align: top;\n",
       "    }\n",
       "\n",
       "    .dataframe thead th {\n",
       "        text-align: right;\n",
       "    }\n",
       "</style>\n",
       "<table border=\"1\" class=\"dataframe\">\n",
       "  <thead>\n",
       "    <tr style=\"text-align: right;\">\n",
       "      <th></th>\n",
       "      <th>F1</th>\n",
       "      <th>F2</th>\n",
       "      <th>Y</th>\n",
       "      <th>CLUSTER_5</th>\n",
       "    </tr>\n",
       "  </thead>\n",
       "  <tbody>\n",
       "    <tr>\n",
       "      <th>0</th>\n",
       "      <td>-2.330222</td>\n",
       "      <td>4.784054</td>\n",
       "      <td>0</td>\n",
       "      <td>1</td>\n",
       "    </tr>\n",
       "    <tr>\n",
       "      <th>1</th>\n",
       "      <td>-2.279304</td>\n",
       "      <td>1.797583</td>\n",
       "      <td>4</td>\n",
       "      <td>4</td>\n",
       "    </tr>\n",
       "    <tr>\n",
       "      <th>2</th>\n",
       "      <td>-7.225705</td>\n",
       "      <td>-3.793136</td>\n",
       "      <td>3</td>\n",
       "      <td>0</td>\n",
       "    </tr>\n",
       "    <tr>\n",
       "      <th>3</th>\n",
       "      <td>-7.666039</td>\n",
       "      <td>-7.597155</td>\n",
       "      <td>2</td>\n",
       "      <td>2</td>\n",
       "    </tr>\n",
       "    <tr>\n",
       "      <th>4</th>\n",
       "      <td>-7.831737</td>\n",
       "      <td>-3.701228</td>\n",
       "      <td>3</td>\n",
       "      <td>0</td>\n",
       "    </tr>\n",
       "  </tbody>\n",
       "</table>\n",
       "</div>"
      ],
      "text/plain": [
       "         F1        F2  Y  CLUSTER_5\n",
       "0 -2.330222  4.784054  0          1\n",
       "1 -2.279304  1.797583  4          4\n",
       "2 -7.225705 -3.793136  3          0\n",
       "3 -7.666039 -7.597155  2          2\n",
       "4 -7.831737 -3.701228  3          0"
      ]
     },
     "execution_count": 84,
     "metadata": {},
     "output_type": "execute_result"
    }
   ],
   "source": [
    "df.head()"
   ]
  },
  {
   "cell_type": "code",
   "execution_count": 86,
   "id": "fb1e933f",
   "metadata": {},
   "outputs": [
    {
     "data": {
      "image/png": "[encoded data removed]",
      "text/plain": [
       "<Figure size 432x288 with 1 Axes>"
      ]
     },
     "metadata": {
      "needs_background": "light"
     },
     "output_type": "display_data"
    }
   ],
   "source": [
    "plt.scatter(df[df.CLUSTER_5 == 0]['F1'], df[df.CLUSTER_5 == 0]['F2'], color = 'blue')\n",
    "plt.scatter(df[df.CLUSTER_5 == 1]['F1'], df[df.CLUSTER_5 == 1]['F2'], color = 'red')\n",
    "plt.scatter(df[df.CLUSTER_5 == 2]['F1'], df[df.CLUSTER_5 == 2]['F2'], color = 'green')\n",
    "plt.scatter(df[df.CLUSTER_5 == 3]['F1'], df[df.CLUSTER_5 == 3]['F2'], color = 'cyan')\n",
    "plt.scatter(df[df.CLUSTER_5 == 4]['F1'], df[df.CLUSTER_5 == 4]['F2'], color = 'pink')\n",
    "\n",
    "## mostrando os centróides\n",
    "plt.scatter(\n",
    "    kmeans.cluster_centers_[:, 0], \n",
    "    kmeans.cluster_centers_[:, 1],\n",
    "    marker = \"x\",\n",
    "    color = \"black\"\n",
    ")\n",
    "\n",
    "plt.show()"
   ]
  },
  {
   "cell_type": "markdown",
   "id": "484bcd9d",
   "metadata": {},
   "source": [
    "### Com 2 clusters"
   ]
  },
  {
   "cell_type": "code",
   "execution_count": 87,
   "id": "ea967ff9",
   "metadata": {},
   "outputs": [],
   "source": [
    "n_clusters = 2\n",
    "\n",
    "kmeans = KMeans(n_clusters = n_clusters)\n",
    "kmeans.fit(df[var_expl])\n",
    "df['CLUSTER_2'] = kmeans.predict(df[var_expl])"
   ]
  },
  {
   "cell_type": "code",
   "execution_count": 88,
   "id": "a4700349",
   "metadata": {},
   "outputs": [
    {
     "data": {
      "text/html": [
       "<div>\n",
       "<style scoped>\n",
       "    .dataframe tbody tr th:only-of-type {\n",
       "        vertical-align: middle;\n",
       "    }\n",
       "\n",
       "    .dataframe tbody tr th {\n",
       "        vertical-align: top;\n",
       "    }\n",
       "\n",
       "    .dataframe thead th {\n",
       "        text-align: right;\n",
       "    }\n",
       "</style>\n",
       "<table border=\"1\" class=\"dataframe\">\n",
       "  <thead>\n",
       "    <tr style=\"text-align: right;\">\n",
       "      <th></th>\n",
       "      <th>F1</th>\n",
       "      <th>F2</th>\n",
       "      <th>Y</th>\n",
       "      <th>CLUSTER_5</th>\n",
       "      <th>CLUSTER_2</th>\n",
       "    </tr>\n",
       "  </thead>\n",
       "  <tbody>\n",
       "    <tr>\n",
       "      <th>0</th>\n",
       "      <td>-2.330222</td>\n",
       "      <td>4.784054</td>\n",
       "      <td>0</td>\n",
       "      <td>1</td>\n",
       "      <td>1</td>\n",
       "    </tr>\n",
       "    <tr>\n",
       "      <th>1</th>\n",
       "      <td>-2.279304</td>\n",
       "      <td>1.797583</td>\n",
       "      <td>4</td>\n",
       "      <td>4</td>\n",
       "      <td>1</td>\n",
       "    </tr>\n",
       "    <tr>\n",
       "      <th>2</th>\n",
       "      <td>-7.225705</td>\n",
       "      <td>-3.793136</td>\n",
       "      <td>3</td>\n",
       "      <td>0</td>\n",
       "      <td>0</td>\n",
       "    </tr>\n",
       "    <tr>\n",
       "      <th>3</th>\n",
       "      <td>-7.666039</td>\n",
       "      <td>-7.597155</td>\n",
       "      <td>2</td>\n",
       "      <td>2</td>\n",
       "      <td>0</td>\n",
       "    </tr>\n",
       "    <tr>\n",
       "      <th>4</th>\n",
       "      <td>-7.831737</td>\n",
       "      <td>-3.701228</td>\n",
       "      <td>3</td>\n",
       "      <td>0</td>\n",
       "      <td>0</td>\n",
       "    </tr>\n",
       "  </tbody>\n",
       "</table>\n",
       "</div>"
      ],
      "text/plain": [
       "         F1        F2  Y  CLUSTER_5  CLUSTER_2\n",
       "0 -2.330222  4.784054  0          1          1\n",
       "1 -2.279304  1.797583  4          4          1\n",
       "2 -7.225705 -3.793136  3          0          0\n",
       "3 -7.666039 -7.597155  2          2          0\n",
       "4 -7.831737 -3.701228  3          0          0"
      ]
     },
     "execution_count": 88,
     "metadata": {},
     "output_type": "execute_result"
    }
   ],
   "source": [
    "df.head()"
   ]
  },
  {
   "cell_type": "code",
   "execution_count": 89,
   "id": "91d9a30d",
   "metadata": {},
   "outputs": [
    {
     "data": {
      "text/plain": [
       "<function matplotlib.pyplot.show(close=None, block=None)>"
      ]
     },
     "execution_count": 89,
     "metadata": {},
     "output_type": "execute_result"
    },
    {
     "data": {
      "image/png": "[encoded data removed]",
      "text/plain": [
       "<Figure size 432x288 with 1 Axes>"
      ]
     },
     "metadata": {
      "needs_background": "light"
     },
     "output_type": "display_data"
    }
   ],
   "source": [
    "## mostrando os pontos da base\n",
    "plt.scatter(df[df.CLUSTER_2 == 0]['F1'], df[df.CLUSTER_2 == 0]['F2'], color = 'blue')\n",
    "plt.scatter(df[df.CLUSTER_2 == 1]['F1'], df[df.CLUSTER_2 == 1]['F2'], color = 'red')\n",
    "\n",
    "## mostrando os centróides\n",
    "plt.scatter(\n",
    "    kmeans.cluster_centers_[:, 0], \n",
    "    kmeans.cluster_centers_[:, 1],\n",
    "    marker = \"x\",\n",
    "    color = \"black\"\n",
    ")\n",
    "\n",
    "\n",
    "plt.show"
   ]
  },
  {
   "cell_type": "markdown",
   "id": "7204d05d",
   "metadata": {},
   "source": [
    "### Com 3 clusters"
   ]
  },
  {
   "cell_type": "code",
   "execution_count": 90,
   "id": "cb0eb1d6",
   "metadata": {},
   "outputs": [],
   "source": [
    "n_clusters = 3\n",
    "\n",
    "kmeans = KMeans(n_clusters = n_clusters)\n",
    "kmeans.fit(df[var_expl])\n",
    "df['CLUSTER_3'] = kmeans.predict(df[var_expl])"
   ]
  },
  {
   "cell_type": "code",
   "execution_count": 91,
   "id": "baafa10e",
   "metadata": {},
   "outputs": [
    {
     "data": {
      "text/html": [
       "<div>\n",
       "<style scoped>\n",
       "    .dataframe tbody tr th:only-of-type {\n",
       "        vertical-align: middle;\n",
       "    }\n",
       "\n",
       "    .dataframe tbody tr th {\n",
       "        vertical-align: top;\n",
       "    }\n",
       "\n",
       "    .dataframe thead th {\n",
       "        text-align: right;\n",
       "    }\n",
       "</style>\n",
       "<table border=\"1\" class=\"dataframe\">\n",
       "  <thead>\n",
       "    <tr style=\"text-align: right;\">\n",
       "      <th></th>\n",
       "      <th>F1</th>\n",
       "      <th>F2</th>\n",
       "      <th>Y</th>\n",
       "      <th>CLUSTER_5</th>\n",
       "      <th>CLUSTER_2</th>\n",
       "      <th>CLUSTER_3</th>\n",
       "    </tr>\n",
       "  </thead>\n",
       "  <tbody>\n",
       "    <tr>\n",
       "      <th>0</th>\n",
       "      <td>-2.330222</td>\n",
       "      <td>4.784054</td>\n",
       "      <td>0</td>\n",
       "      <td>1</td>\n",
       "      <td>1</td>\n",
       "      <td>1</td>\n",
       "    </tr>\n",
       "    <tr>\n",
       "      <th>1</th>\n",
       "      <td>-2.279304</td>\n",
       "      <td>1.797583</td>\n",
       "      <td>4</td>\n",
       "      <td>4</td>\n",
       "      <td>1</td>\n",
       "      <td>1</td>\n",
       "    </tr>\n",
       "    <tr>\n",
       "      <th>2</th>\n",
       "      <td>-7.225705</td>\n",
       "      <td>-3.793136</td>\n",
       "      <td>3</td>\n",
       "      <td>0</td>\n",
       "      <td>0</td>\n",
       "      <td>2</td>\n",
       "    </tr>\n",
       "    <tr>\n",
       "      <th>3</th>\n",
       "      <td>-7.666039</td>\n",
       "      <td>-7.597155</td>\n",
       "      <td>2</td>\n",
       "      <td>2</td>\n",
       "      <td>0</td>\n",
       "      <td>0</td>\n",
       "    </tr>\n",
       "    <tr>\n",
       "      <th>4</th>\n",
       "      <td>-7.831737</td>\n",
       "      <td>-3.701228</td>\n",
       "      <td>3</td>\n",
       "      <td>0</td>\n",
       "      <td>0</td>\n",
       "      <td>2</td>\n",
       "    </tr>\n",
       "  </tbody>\n",
       "</table>\n",
       "</div>"
      ],
      "text/plain": [
       "         F1        F2  Y  CLUSTER_5  CLUSTER_2  CLUSTER_3\n",
       "0 -2.330222  4.784054  0          1          1          1\n",
       "1 -2.279304  1.797583  4          4          1          1\n",
       "2 -7.225705 -3.793136  3          0          0          2\n",
       "3 -7.666039 -7.597155  2          2          0          0\n",
       "4 -7.831737 -3.701228  3          0          0          2"
      ]
     },
     "execution_count": 91,
     "metadata": {},
     "output_type": "execute_result"
    }
   ],
   "source": [
    "df.head()"
   ]
  },
  {
   "cell_type": "code",
   "execution_count": 92,
   "id": "73a314c0",
   "metadata": {},
   "outputs": [
    {
     "data": {
      "text/plain": [
       "<function matplotlib.pyplot.show(close=None, block=None)>"
      ]
     },
     "execution_count": 92,
     "metadata": {},
     "output_type": "execute_result"
    },
    {
     "data": {
      "image/png": "[encoded data removed]",
      "text/plain": [
       "<Figure size 432x288 with 1 Axes>"
      ]
     },
     "metadata": {
      "needs_background": "light"
     },
     "output_type": "display_data"
    }
   ],
   "source": [
    "## mostrando os pontos da base\n",
    "plt.scatter(df[df.CLUSTER_3 == 0]['F1'], df[df.CLUSTER_3 == 0]['F2'], color = 'blue')\n",
    "plt.scatter(df[df.CLUSTER_3 == 1]['F1'], df[df.CLUSTER_3 == 1]['F2'], color = 'green')\n",
    "plt.scatter(df[df.CLUSTER_3 == 2]['F1'], df[df.CLUSTER_3 == 2]['F2'], color = 'red')\n",
    "\n",
    "## mostrando os centróides\n",
    "plt.scatter(\n",
    "    kmeans.cluster_centers_[:, 0], \n",
    "    kmeans.cluster_centers_[:, 1],\n",
    "    marker = \"x\",\n",
    "    color = \"black\"\n",
    ")\n",
    "\n",
    "\n",
    "plt.show"
   ]
  },
  {
   "cell_type": "code",
   "execution_count": 93,
   "id": "aa28f812",
   "metadata": {},
   "outputs": [
    {
     "data": {
      "text/plain": [
       "2348.684545728664"
      ]
     },
     "execution_count": 93,
     "metadata": {},
     "output_type": "execute_result"
    }
   ],
   "source": [
    "kmeans.inertia_"
   ]
  },
  {
   "cell_type": "markdown",
   "id": "28664b47",
   "metadata": {},
   "source": [
    "### Com 500 clusters"
   ]
  },
  {
   "cell_type": "code",
   "execution_count": 94,
   "id": "a67c08e0",
   "metadata": {},
   "outputs": [
    {
     "data": {
      "text/plain": [
       "(500, 6)"
      ]
     },
     "execution_count": 94,
     "metadata": {},
     "output_type": "execute_result"
    }
   ],
   "source": [
    "df.shape"
   ]
  },
  {
   "cell_type": "code",
   "execution_count": 95,
   "id": "8e93caea",
   "metadata": {},
   "outputs": [],
   "source": [
    "n_clusters = 500\n",
    "\n",
    "kmeans = KMeans(n_clusters = n_clusters)\n",
    "kmeans.fit(df[var_expl])\n",
    "df['CLUSTER_500'] = kmeans.predict(df[var_expl])"
   ]
  },
  {
   "cell_type": "code",
   "execution_count": 96,
   "id": "36538070",
   "metadata": {},
   "outputs": [
    {
     "data": {
      "text/html": [
       "<div>\n",
       "<style scoped>\n",
       "    .dataframe tbody tr th:only-of-type {\n",
       "        vertical-align: middle;\n",
       "    }\n",
       "\n",
       "    .dataframe tbody tr th {\n",
       "        vertical-align: top;\n",
       "    }\n",
       "\n",
       "    .dataframe thead th {\n",
       "        text-align: right;\n",
       "    }\n",
       "</style>\n",
       "<table border=\"1\" class=\"dataframe\">\n",
       "  <thead>\n",
       "    <tr style=\"text-align: right;\">\n",
       "      <th></th>\n",
       "      <th>F1</th>\n",
       "      <th>F2</th>\n",
       "      <th>Y</th>\n",
       "      <th>CLUSTER_5</th>\n",
       "      <th>CLUSTER_2</th>\n",
       "      <th>CLUSTER_3</th>\n",
       "      <th>CLUSTER_500</th>\n",
       "    </tr>\n",
       "  </thead>\n",
       "  <tbody>\n",
       "    <tr>\n",
       "      <th>0</th>\n",
       "      <td>-2.330222</td>\n",
       "      <td>4.784054</td>\n",
       "      <td>0</td>\n",
       "      <td>1</td>\n",
       "      <td>1</td>\n",
       "      <td>1</td>\n",
       "      <td>3</td>\n",
       "    </tr>\n",
       "    <tr>\n",
       "      <th>1</th>\n",
       "      <td>-2.279304</td>\n",
       "      <td>1.797583</td>\n",
       "      <td>4</td>\n",
       "      <td>4</td>\n",
       "      <td>1</td>\n",
       "      <td>1</td>\n",
       "      <td>127</td>\n",
       "    </tr>\n",
       "    <tr>\n",
       "      <th>2</th>\n",
       "      <td>-7.225705</td>\n",
       "      <td>-3.793136</td>\n",
       "      <td>3</td>\n",
       "      <td>0</td>\n",
       "      <td>0</td>\n",
       "      <td>2</td>\n",
       "      <td>226</td>\n",
       "    </tr>\n",
       "    <tr>\n",
       "      <th>3</th>\n",
       "      <td>-7.666039</td>\n",
       "      <td>-7.597155</td>\n",
       "      <td>2</td>\n",
       "      <td>2</td>\n",
       "      <td>0</td>\n",
       "      <td>0</td>\n",
       "      <td>379</td>\n",
       "    </tr>\n",
       "    <tr>\n",
       "      <th>4</th>\n",
       "      <td>-7.831737</td>\n",
       "      <td>-3.701228</td>\n",
       "      <td>3</td>\n",
       "      <td>0</td>\n",
       "      <td>0</td>\n",
       "      <td>2</td>\n",
       "      <td>262</td>\n",
       "    </tr>\n",
       "  </tbody>\n",
       "</table>\n",
       "</div>"
      ],
      "text/plain": [
       "         F1        F2  Y  CLUSTER_5  CLUSTER_2  CLUSTER_3  CLUSTER_500\n",
       "0 -2.330222  4.784054  0          1          1          1            3\n",
       "1 -2.279304  1.797583  4          4          1          1          127\n",
       "2 -7.225705 -3.793136  3          0          0          2          226\n",
       "3 -7.666039 -7.597155  2          2          0          0          379\n",
       "4 -7.831737 -3.701228  3          0          0          2          262"
      ]
     },
     "execution_count": 96,
     "metadata": {},
     "output_type": "execute_result"
    }
   ],
   "source": [
    "df.head()"
   ]
  },
  {
   "cell_type": "code",
   "execution_count": 97,
   "id": "25b060d7",
   "metadata": {},
   "outputs": [
    {
     "data": {
      "text/plain": [
       "<function matplotlib.pyplot.show(close=None, block=None)>"
      ]
     },
     "execution_count": 97,
     "metadata": {},
     "output_type": "execute_result"
    },
    {
     "data": {
      "image/png": "[encoded data removed]",
      "text/plain": [
       "<Figure size 432x288 with 1 Axes>"
      ]
     },
     "metadata": {
      "needs_background": "light"
     },
     "output_type": "display_data"
    }
   ],
   "source": [
    "## mostrando os pontos da base\n",
    "for i in range(500):\n",
    "    plt.scatter(df[df.CLUSTER_500 == i]['F1'], df[df.CLUSTER_500 == i]['F2'])\n",
    "\n",
    "## mostrando os centróides\n",
    "plt.scatter(\n",
    "    kmeans.cluster_centers_[:, 0], \n",
    "    kmeans.cluster_centers_[:, 1],\n",
    "    marker = \"x\",\n",
    "    color = \"black\"\n",
    ")\n",
    "\n",
    "\n",
    "plt.show"
   ]
  },
  {
   "cell_type": "code",
   "execution_count": 98,
   "id": "473aef22",
   "metadata": {},
   "outputs": [
    {
     "data": {
      "text/plain": [
       "0.0"
      ]
     },
     "execution_count": 98,
     "metadata": {},
     "output_type": "execute_result"
    }
   ],
   "source": [
    "kmeans.inertia_"
   ]
  },
  {
   "cell_type": "markdown",
   "id": "8d5bc24e",
   "metadata": {},
   "source": [
    "### Cálculo da inércia"
   ]
  },
  {
   "cell_type": "code",
   "execution_count": 99,
   "id": "a49a46e1",
   "metadata": {},
   "outputs": [],
   "source": [
    "lista_diferenca_intracluster = []\n",
    "\n",
    "for i in range(2, 16):\n",
    "    kmeans = KMeans(n_clusters = i)\n",
    "    kmeans.fit(df[var_expl])\n",
    "    \n",
    "    lista_diferenca_intracluster.append(kmeans.inertia_)\n",
    "    "
   ]
  },
  {
   "cell_type": "code",
   "execution_count": 100,
   "id": "34abb5f8",
   "metadata": {},
   "outputs": [
    {
     "data": {
      "image/png": "[encoded data removed]",
      "text/plain": [
       "<Figure size 432x288 with 1 Axes>"
      ]
     },
     "metadata": {
      "needs_background": "light"
     },
     "output_type": "display_data"
    }
   ],
   "source": [
    "plt.plot(range(2, 16), lista_diferenca_intracluster)\n",
    "plt.grid()\n",
    "plt.show()"
   ]
  },
  {
   "cell_type": "markdown",
   "id": "a838472f",
   "metadata": {},
   "source": [
    "### Para outro dataset"
   ]
  },
  {
   "cell_type": "code",
   "execution_count": 110,
   "id": "a6dbdd44",
   "metadata": {},
   "outputs": [],
   "source": [
    "x, y = make_moons(n_samples = 1000, noise = 0.1, random_state = 123)"
   ]
  },
  {
   "cell_type": "code",
   "execution_count": 111,
   "id": "d5785b6c",
   "metadata": {},
   "outputs": [
    {
     "data": {
      "text/html": [
       "<div>\n",
       "<style scoped>\n",
       "    .dataframe tbody tr th:only-of-type {\n",
       "        vertical-align: middle;\n",
       "    }\n",
       "\n",
       "    .dataframe tbody tr th {\n",
       "        vertical-align: top;\n",
       "    }\n",
       "\n",
       "    .dataframe thead th {\n",
       "        text-align: right;\n",
       "    }\n",
       "</style>\n",
       "<table border=\"1\" class=\"dataframe\">\n",
       "  <thead>\n",
       "    <tr style=\"text-align: right;\">\n",
       "      <th></th>\n",
       "      <th>F1</th>\n",
       "      <th>F2</th>\n",
       "      <th>Y</th>\n",
       "    </tr>\n",
       "  </thead>\n",
       "  <tbody>\n",
       "    <tr>\n",
       "      <th>0</th>\n",
       "      <td>0.666374</td>\n",
       "      <td>0.823195</td>\n",
       "      <td>0</td>\n",
       "    </tr>\n",
       "    <tr>\n",
       "      <th>1</th>\n",
       "      <td>0.281627</td>\n",
       "      <td>0.947888</td>\n",
       "      <td>0</td>\n",
       "    </tr>\n",
       "    <tr>\n",
       "      <th>2</th>\n",
       "      <td>0.938688</td>\n",
       "      <td>0.133326</td>\n",
       "      <td>0</td>\n",
       "    </tr>\n",
       "    <tr>\n",
       "      <th>3</th>\n",
       "      <td>0.255610</td>\n",
       "      <td>-0.078239</td>\n",
       "      <td>1</td>\n",
       "    </tr>\n",
       "    <tr>\n",
       "      <th>4</th>\n",
       "      <td>0.754683</td>\n",
       "      <td>0.756513</td>\n",
       "      <td>0</td>\n",
       "    </tr>\n",
       "  </tbody>\n",
       "</table>\n",
       "</div>"
      ],
      "text/plain": [
       "         F1        F2  Y\n",
       "0  0.666374  0.823195  0\n",
       "1  0.281627  0.947888  0\n",
       "2  0.938688  0.133326  0\n",
       "3  0.255610 -0.078239  1\n",
       "4  0.754683  0.756513  0"
      ]
     },
     "execution_count": 111,
     "metadata": {},
     "output_type": "execute_result"
    }
   ],
   "source": [
    "var_expl = ['F1', 'F2']\n",
    "var_resp = 'Y'\n",
    "\n",
    "df = pd.DataFrame(x, columns = var_expl)\n",
    "df[var_resp] = y\n",
    "\n",
    "df.head()"
   ]
  },
  {
   "cell_type": "code",
   "execution_count": 112,
   "id": "84544237",
   "metadata": {},
   "outputs": [
    {
     "data": {
      "text/plain": [
       "0    500\n",
       "1    500\n",
       "Name: Y, dtype: int64"
      ]
     },
     "execution_count": 112,
     "metadata": {},
     "output_type": "execute_result"
    }
   ],
   "source": [
    "df.Y.value_counts()"
   ]
  },
  {
   "cell_type": "code",
   "execution_count": 115,
   "id": "7cebf56e",
   "metadata": {},
   "outputs": [
    {
     "data": {
      "image/png": "[encoded data removed]",
      "text/plain": [
       "<Figure size 432x288 with 1 Axes>"
      ]
     },
     "metadata": {
      "needs_background": "light"
     },
     "output_type": "display_data"
    }
   ],
   "source": [
    "plt.scatter(df[df.Y == 0]['F1'], df[df.Y == 0]['F2'], color = 'blue', alpha = 0.3)\n",
    "plt.scatter(df[df.Y == 1]['F1'], df[df.Y == 1]['F2'], color = 'green', alpha = 0.3)\n",
    "\n",
    "plt.show()"
   ]
  },
  {
   "cell_type": "code",
   "execution_count": 116,
   "id": "64c249fa",
   "metadata": {},
   "outputs": [],
   "source": [
    "n_clusters = 2\n",
    "\n",
    "kmeans = KMeans(n_clusters = n_clusters)\n",
    "kmeans.fit(df[var_expl])\n",
    "df['CLUSTER_2'] = kmeans.predict(df[var_expl])"
   ]
  },
  {
   "cell_type": "code",
   "execution_count": 117,
   "id": "0314ee17",
   "metadata": {},
   "outputs": [
    {
     "data": {
      "text/html": [
       "<div>\n",
       "<style scoped>\n",
       "    .dataframe tbody tr th:only-of-type {\n",
       "        vertical-align: middle;\n",
       "    }\n",
       "\n",
       "    .dataframe tbody tr th {\n",
       "        vertical-align: top;\n",
       "    }\n",
       "\n",
       "    .dataframe thead th {\n",
       "        text-align: right;\n",
       "    }\n",
       "</style>\n",
       "<table border=\"1\" class=\"dataframe\">\n",
       "  <thead>\n",
       "    <tr style=\"text-align: right;\">\n",
       "      <th></th>\n",
       "      <th>F1</th>\n",
       "      <th>F2</th>\n",
       "      <th>Y</th>\n",
       "      <th>CLUSTER_2</th>\n",
       "    </tr>\n",
       "  </thead>\n",
       "  <tbody>\n",
       "    <tr>\n",
       "      <th>0</th>\n",
       "      <td>0.666374</td>\n",
       "      <td>0.823195</td>\n",
       "      <td>0</td>\n",
       "      <td>1</td>\n",
       "    </tr>\n",
       "    <tr>\n",
       "      <th>1</th>\n",
       "      <td>0.281627</td>\n",
       "      <td>0.947888</td>\n",
       "      <td>0</td>\n",
       "      <td>1</td>\n",
       "    </tr>\n",
       "    <tr>\n",
       "      <th>2</th>\n",
       "      <td>0.938688</td>\n",
       "      <td>0.133326</td>\n",
       "      <td>0</td>\n",
       "      <td>0</td>\n",
       "    </tr>\n",
       "    <tr>\n",
       "      <th>3</th>\n",
       "      <td>0.255610</td>\n",
       "      <td>-0.078239</td>\n",
       "      <td>1</td>\n",
       "      <td>1</td>\n",
       "    </tr>\n",
       "    <tr>\n",
       "      <th>4</th>\n",
       "      <td>0.754683</td>\n",
       "      <td>0.756513</td>\n",
       "      <td>0</td>\n",
       "      <td>0</td>\n",
       "    </tr>\n",
       "  </tbody>\n",
       "</table>\n",
       "</div>"
      ],
      "text/plain": [
       "         F1        F2  Y  CLUSTER_2\n",
       "0  0.666374  0.823195  0          1\n",
       "1  0.281627  0.947888  0          1\n",
       "2  0.938688  0.133326  0          0\n",
       "3  0.255610 -0.078239  1          1\n",
       "4  0.754683  0.756513  0          0"
      ]
     },
     "execution_count": 117,
     "metadata": {},
     "output_type": "execute_result"
    }
   ],
   "source": [
    "df.head()"
   ]
  },
  {
   "cell_type": "code",
   "execution_count": 119,
   "id": "a182d433",
   "metadata": {},
   "outputs": [
    {
     "data": {
      "text/plain": [
       "<function matplotlib.pyplot.show(close=None, block=None)>"
      ]
     },
     "execution_count": 119,
     "metadata": {},
     "output_type": "execute_result"
    },
    {
     "data": {
      "image/png": "[encoded data removed]",
      "text/plain": [
       "<Figure size 432x288 with 1 Axes>"
      ]
     },
     "metadata": {
      "needs_background": "light"
     },
     "output_type": "display_data"
    }
   ],
   "source": [
    "## mostrando os pontos da base\n",
    "for i in range(n_clusters):\n",
    "    plt.scatter(df[df.CLUSTER_2 == i]['F1'], df[df.CLUSTER_2 == i]['F2'])\n",
    "\n",
    "## mostrando os centróides\n",
    "plt.scatter(\n",
    "    kmeans.cluster_centers_[:, 0], \n",
    "    kmeans.cluster_centers_[:, 1],\n",
    "    marker = \"x\",\n",
    "    color = \"black\"\n",
    ")\n",
    "\n",
    "\n",
    "plt.show"
   ]
  },
  {
   "cell_type": "code",
   "execution_count": 125,
   "id": "e9320462",
   "metadata": {},
   "outputs": [],
   "source": [
    "from sklearn.cluster import DBSCAN\n",
    "\n",
    "dbscan = DBSCAN(eps = 0.1)\n",
    "\n",
    "df['DBSCAN'] = dbscan.fit_predict(df[var_expl])"
   ]
  },
  {
   "cell_type": "code",
   "execution_count": 126,
   "id": "0026e80e",
   "metadata": {},
   "outputs": [
    {
     "data": {
      "text/html": [
       "<div>\n",
       "<style scoped>\n",
       "    .dataframe tbody tr th:only-of-type {\n",
       "        vertical-align: middle;\n",
       "    }\n",
       "\n",
       "    .dataframe tbody tr th {\n",
       "        vertical-align: top;\n",
       "    }\n",
       "\n",
       "    .dataframe thead th {\n",
       "        text-align: right;\n",
       "    }\n",
       "</style>\n",
       "<table border=\"1\" class=\"dataframe\">\n",
       "  <thead>\n",
       "    <tr style=\"text-align: right;\">\n",
       "      <th></th>\n",
       "      <th>F1</th>\n",
       "      <th>F2</th>\n",
       "      <th>Y</th>\n",
       "      <th>CLUSTER_2</th>\n",
       "      <th>DBSCAN</th>\n",
       "    </tr>\n",
       "  </thead>\n",
       "  <tbody>\n",
       "    <tr>\n",
       "      <th>0</th>\n",
       "      <td>0.666374</td>\n",
       "      <td>0.823195</td>\n",
       "      <td>0</td>\n",
       "      <td>1</td>\n",
       "      <td>0</td>\n",
       "    </tr>\n",
       "    <tr>\n",
       "      <th>1</th>\n",
       "      <td>0.281627</td>\n",
       "      <td>0.947888</td>\n",
       "      <td>0</td>\n",
       "      <td>1</td>\n",
       "      <td>0</td>\n",
       "    </tr>\n",
       "    <tr>\n",
       "      <th>2</th>\n",
       "      <td>0.938688</td>\n",
       "      <td>0.133326</td>\n",
       "      <td>0</td>\n",
       "      <td>0</td>\n",
       "      <td>0</td>\n",
       "    </tr>\n",
       "    <tr>\n",
       "      <th>3</th>\n",
       "      <td>0.255610</td>\n",
       "      <td>-0.078239</td>\n",
       "      <td>1</td>\n",
       "      <td>1</td>\n",
       "      <td>1</td>\n",
       "    </tr>\n",
       "    <tr>\n",
       "      <th>4</th>\n",
       "      <td>0.754683</td>\n",
       "      <td>0.756513</td>\n",
       "      <td>0</td>\n",
       "      <td>0</td>\n",
       "      <td>0</td>\n",
       "    </tr>\n",
       "  </tbody>\n",
       "</table>\n",
       "</div>"
      ],
      "text/plain": [
       "         F1        F2  Y  CLUSTER_2  DBSCAN\n",
       "0  0.666374  0.823195  0          1       0\n",
       "1  0.281627  0.947888  0          1       0\n",
       "2  0.938688  0.133326  0          0       0\n",
       "3  0.255610 -0.078239  1          1       1\n",
       "4  0.754683  0.756513  0          0       0"
      ]
     },
     "execution_count": 126,
     "metadata": {},
     "output_type": "execute_result"
    }
   ],
   "source": [
    "df.head()"
   ]
  },
  {
   "cell_type": "code",
   "execution_count": 128,
   "id": "4ebb01c1",
   "metadata": {},
   "outputs": [
    {
     "data": {
      "image/png": "[encoded data removed]",
      "text/plain": [
       "<Figure size 432x288 with 1 Axes>"
      ]
     },
     "metadata": {
      "needs_background": "light"
     },
     "output_type": "display_data"
    }
   ],
   "source": [
    "## mostrando os pontos da base\n",
    "for i in range(n_clusters):\n",
    "    plt.scatter(df[df.DBSCAN == i]['F1'], df[df.DBSCAN == i]['F2'])\n",
    "\n",
    "plt.show()"
   ]
  },
  {
   "cell_type": "markdown",
   "id": "1f537490",
   "metadata": {},
   "source": [
    "### DBSCAN\n",
    "\n",
    "1. Dado um ponto p, encontra todos os pontos q que estão a uma distância igual ou inferior a $\\varepsilon$ de p;\n",
    "2. Repete o processo para todos os pontos encontrados, e para todos os pontos novos, recursivamente, determinando assim um grupo;\n",
    "3. Procura um ponto ainda não visitado para iniciar um novo grupo e repetir os passos 1 e 2.\n",
    "4. Determina como ruído os pontos que não fazem parte de nenhum grupo.\n",
    "\n",
    "<img src=\"imagens/cluster_dbscan.png\"/>"
   ]
  },
  {
   "cell_type": "code",
   "execution_count": null,
   "id": "d7d62c2f",
   "metadata": {},
   "outputs": [],
   "source": []
  }
 ],
 "metadata": {
  "kernelspec": {
   "display_name": "Python 3 (ipykernel)",
   "language": "python",
   "name": "python3"
  },
  "language_info": {
   "codemirror_mode": {
    "name": "ipython",
    "version": 3
   },
   "file_extension": ".py",
   "mimetype": "text/x-python",
   "name": "python",
   "nbconvert_exporter": "python",
   "pygments_lexer": "ipython3",
   "version": "3.9.14"
  }
 },
 "nbformat": 4,
 "nbformat_minor": 5
}
