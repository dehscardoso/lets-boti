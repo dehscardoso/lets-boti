{
 "cells": [
  {
   "cell_type": "markdown",
   "id": "c0275a82",
   "metadata": {},
   "source": [
    "# Projeto"
   ]
  },
  {
   "cell_type": "markdown",
   "id": "1be61ea9",
   "metadata": {},
   "source": [
    "## Bibliotecas"
   ]
  },
  {
   "cell_type": "code",
   "execution_count": 1,
   "id": "cea50513",
   "metadata": {},
   "outputs": [],
   "source": [
    "import pandas as pd\n",
    "import matplotlib.pyplot as plt\n",
    "\n",
    "from sklearn.model_selection import train_test_split\n",
    "from sklearn.preprocessing import StandardScaler, OrdinalEncoder\n",
    "from sklearn.neighbors import KNeighborsClassifier\n",
    "from sklearn.tree import DecisionTreeClassifier, plot_tree\n",
    "from sklearn.metrics import roc_auc_score"
   ]
  },
  {
   "cell_type": "markdown",
   "id": "311cd443",
   "metadata": {},
   "source": [
    "## Arquivos"
   ]
  },
  {
   "cell_type": "code",
   "execution_count": 2,
   "id": "713a0db5",
   "metadata": {},
   "outputs": [],
   "source": [
    "caminho = '../../machine_learning_i/projeto/dados'\n",
    "arquivo_principal = 'application_train.csv'\n",
    "arquivo_oculto = 'application_test_student.csv'\n",
    "arquivo_metadados = 'HomeCredit_columns_description.csv'"
   ]
  },
  {
   "cell_type": "markdown",
   "id": "0d9f487a",
   "metadata": {},
   "source": [
    "## Input"
   ]
  },
  {
   "cell_type": "code",
   "execution_count": 3,
   "id": "a266f8e0",
   "metadata": {},
   "outputs": [],
   "source": [
    "df = pd.read_csv(f'{caminho}/{arquivo_principal}')\n",
    "\n",
    "df_oculto = pd.read_csv(f'{caminho}/{arquivo_oculto}')\n",
    "\n",
    "df_metadados = pd.read_csv(f'{caminho}/{arquivo_metadados}', encoding = 'Windows-1252')"
   ]
  },
  {
   "cell_type": "markdown",
   "id": "063fa514",
   "metadata": {},
   "source": [
    "## Variáveis"
   ]
  },
  {
   "cell_type": "code",
   "execution_count": 4,
   "id": "9b383ae2",
   "metadata": {},
   "outputs": [],
   "source": [
    "var_expl = [\n",
    "    'CNT_CHILDREN', \n",
    "    'AMT_INCOME_TOTAL', \n",
    "    'DAYS_BIRTH', \n",
    "    'DAYS_EMPLOYED',\n",
    "    'NAME_EDUCATION_TYPE'\n",
    "]\n",
    "\n",
    "var_resp = 'TARGET'"
   ]
  },
  {
   "cell_type": "markdown",
   "id": "11c47d95",
   "metadata": {},
   "source": [
    "## Treino e Teste"
   ]
  },
  {
   "cell_type": "code",
   "execution_count": 5,
   "id": "86d0be7a",
   "metadata": {},
   "outputs": [],
   "source": [
    "df_treino, df_teste = train_test_split(df, test_size = 0.15, random_state = 1)"
   ]
  },
  {
   "cell_type": "code",
   "execution_count": 6,
   "id": "aee4c8ea",
   "metadata": {},
   "outputs": [],
   "source": [
    "x_treino = df_treino[var_expl].copy()\n",
    "y_treino = df_treino[var_resp].copy()\n",
    "\n",
    "x_teste = df_teste[var_expl].copy()\n",
    "y_teste = df_teste[var_resp].copy()\n",
    "\n",
    "x_oculto = df_oculto[var_expl].copy()"
   ]
  },
  {
   "cell_type": "markdown",
   "id": "1c9ff4ec",
   "metadata": {},
   "source": [
    "## Pré-Processamento"
   ]
  },
  {
   "cell_type": "code",
   "execution_count": 7,
   "id": "f0bdb987",
   "metadata": {},
   "outputs": [],
   "source": [
    "lista_ordenada = [\n",
    "    'Lower secondary',\n",
    "    'Secondary / secondary special', \n",
    "    'Incomplete higher',\n",
    "    'Higher education', \n",
    "    'Academic degree', \n",
    "]\n",
    "\n",
    "oe = OrdinalEncoder(categories = [lista_ordenada])\n",
    "\n",
    "oe.fit(x_treino[['NAME_EDUCATION_TYPE']])\n",
    "x_treino[['NAME_EDUCATION_TYPE']] = oe.transform(x_treino[['NAME_EDUCATION_TYPE']])\n",
    "x_teste[['NAME_EDUCATION_TYPE']] = oe.transform(x_teste[['NAME_EDUCATION_TYPE']])\n",
    "x_oculto[['NAME_EDUCATION_TYPE']] = oe.transform(x_oculto[['NAME_EDUCATION_TYPE']])"
   ]
  },
  {
   "cell_type": "markdown",
   "id": "935a19bd",
   "metadata": {},
   "source": [
    "## Modelo e Métricas"
   ]
  },
  {
   "cell_type": "code",
   "execution_count": 8,
   "id": "a76e0f0c",
   "metadata": {},
   "outputs": [],
   "source": [
    "modelo = DecisionTreeClassifier(\n",
    "    max_leaf_nodes = 50, \n",
    "    random_state = 1\n",
    ")\n",
    "\n",
    "modelo.fit(x_treino, y_treino)\n",
    "\n",
    "y_pred_treino = modelo.predict_proba(x_treino)[:, 1]\n",
    "y_pred_teste = modelo.predict_proba(x_teste)[:, 1]"
   ]
  },
  {
   "cell_type": "code",
   "execution_count": 9,
   "id": "dd8b2bd8",
   "metadata": {},
   "outputs": [
    {
     "data": {
      "text/plain": [
       "0.6325297664382544"
      ]
     },
     "execution_count": 9,
     "metadata": {},
     "output_type": "execute_result"
    }
   ],
   "source": [
    "roc_auc_score(y_treino, y_pred_treino)"
   ]
  },
  {
   "cell_type": "code",
   "execution_count": 10,
   "id": "065f058c",
   "metadata": {},
   "outputs": [
    {
     "data": {
      "text/plain": [
       "0.614800238810388"
      ]
     },
     "execution_count": 10,
     "metadata": {},
     "output_type": "execute_result"
    }
   ],
   "source": [
    "roc_auc_score(y_teste, y_pred_teste)"
   ]
  },
  {
   "cell_type": "markdown",
   "id": "32bfbad8",
   "metadata": {},
   "source": [
    "## Previsão"
   ]
  },
  {
   "cell_type": "code",
   "execution_count": 11,
   "id": "6e8431db",
   "metadata": {},
   "outputs": [
    {
     "data": {
      "text/html": [
       "<div>\n",
       "<style scoped>\n",
       "    .dataframe tbody tr th:only-of-type {\n",
       "        vertical-align: middle;\n",
       "    }\n",
       "\n",
       "    .dataframe tbody tr th {\n",
       "        vertical-align: top;\n",
       "    }\n",
       "\n",
       "    .dataframe thead th {\n",
       "        text-align: right;\n",
       "    }\n",
       "</style>\n",
       "<table border=\"1\" class=\"dataframe\">\n",
       "  <thead>\n",
       "    <tr style=\"text-align: right;\">\n",
       "      <th></th>\n",
       "      <th>SK_ID_CURR</th>\n",
       "      <th>Y_PRED</th>\n",
       "    </tr>\n",
       "  </thead>\n",
       "  <tbody>\n",
       "    <tr>\n",
       "      <th>0</th>\n",
       "      <td>149741</td>\n",
       "      <td>0.058694</td>\n",
       "    </tr>\n",
       "    <tr>\n",
       "      <th>1</th>\n",
       "      <td>363290</td>\n",
       "      <td>0.063528</td>\n",
       "    </tr>\n",
       "    <tr>\n",
       "      <th>2</th>\n",
       "      <td>436006</td>\n",
       "      <td>0.037997</td>\n",
       "    </tr>\n",
       "    <tr>\n",
       "      <th>3</th>\n",
       "      <td>377703</td>\n",
       "      <td>0.093862</td>\n",
       "    </tr>\n",
       "    <tr>\n",
       "      <th>4</th>\n",
       "      <td>188624</td>\n",
       "      <td>0.104191</td>\n",
       "    </tr>\n",
       "  </tbody>\n",
       "</table>\n",
       "</div>"
      ],
      "text/plain": [
       "   SK_ID_CURR    Y_PRED\n",
       "0      149741  0.058694\n",
       "1      363290  0.063528\n",
       "2      436006  0.037997\n",
       "3      377703  0.093862\n",
       "4      188624  0.104191"
      ]
     },
     "execution_count": 11,
     "metadata": {},
     "output_type": "execute_result"
    }
   ],
   "source": [
    "y_pred_oculto = modelo.predict_proba(x_oculto)[:, 1]\n",
    "df_oculto['Y_PRED'] = y_pred_oculto\n",
    "df_oculto[['SK_ID_CURR', 'Y_PRED']].head()"
   ]
  },
  {
   "cell_type": "markdown",
   "id": "78cf951b",
   "metadata": {},
   "source": [
    "# Na aula anterior..."
   ]
  },
  {
   "cell_type": "markdown",
   "id": "5f28b2bc",
   "metadata": {},
   "source": [
    "Qual a principal diferença entre Boosting e Random Forest? "
   ]
  },
  {
   "cell_type": "raw",
   "id": "ffc20503",
   "metadata": {},
   "source": [
    "Nas amostras das linhas (instância), o Random Forest é sempre aleatório, já o Boosting é baseado no erro do modelo anterior, quanto mais erra, mais aumenta o peso da linha."
   ]
  },
  {
   "cell_type": "markdown",
   "id": "3e3789cc",
   "metadata": {},
   "source": [
    "Boosting pode ser aplicado apenas em modelos de árvore. Essa frase é verdadeira?"
   ]
  },
  {
   "cell_type": "raw",
   "id": "8489245d",
   "metadata": {},
   "source": [
    "Não, o boosting pode ter qualquer modelo como base."
   ]
  },
  {
   "cell_type": "markdown",
   "id": "1c77fb0d",
   "metadata": {},
   "source": [
    "Por que existe uma tendência ao overfiting ao utilizar Boosting?"
   ]
  },
  {
   "cell_type": "raw",
   "id": "9cf5d470",
   "metadata": {},
   "source": [
    "Porque o peso baseado nos erros faz com que cada vez mais os erros tenham maior peso."
   ]
  },
  {
   "cell_type": "markdown",
   "id": "10adcfb9",
   "metadata": {},
   "source": [
    "# Hoje!"
   ]
  },
  {
   "cell_type": "markdown",
   "id": "7b16b3f3",
   "metadata": {},
   "source": [
    "- Utilizando o AdaBoost no projeto"
   ]
  },
  {
   "cell_type": "code",
   "execution_count": null,
   "id": "beaa746a",
   "metadata": {},
   "outputs": [],
   "source": []
  },
  {
   "cell_type": "markdown",
   "id": "4d02e33c",
   "metadata": {},
   "source": [
    "- Utilizando o LightGBM no projeto"
   ]
  },
  {
   "cell_type": "code",
   "execution_count": null,
   "id": "fe4a2052",
   "metadata": {},
   "outputs": [],
   "source": []
  },
  {
   "cell_type": "markdown",
   "id": "7621f9b3",
   "metadata": {},
   "source": [
    "- Otimizando os hiperparâmetros no projeto"
   ]
  },
  {
   "cell_type": "code",
   "execution_count": null,
   "id": "2b69791d",
   "metadata": {},
   "outputs": [],
   "source": []
  },
  {
   "cell_type": "markdown",
   "id": "34899b86",
   "metadata": {},
   "source": [
    "**Para vocês**: otimizem os hiperparâmetros de um dos modelos de vocês."
   ]
  },
  {
   "cell_type": "code",
   "execution_count": null,
   "id": "254166d6",
   "metadata": {},
   "outputs": [],
   "source": []
  },
  {
   "cell_type": "markdown",
   "id": "6f4eb3f2",
   "metadata": {},
   "source": [
    "- Criando pipelines no projeto"
   ]
  },
  {
   "cell_type": "code",
   "execution_count": null,
   "id": "97dc59ea",
   "metadata": {},
   "outputs": [],
   "source": []
  },
  {
   "cell_type": "markdown",
   "id": "c90c69af",
   "metadata": {},
   "source": [
    "- Criando pipelines avançadas."
   ]
  },
  {
   "cell_type": "code",
   "execution_count": null,
   "id": "c049c73c",
   "metadata": {},
   "outputs": [],
   "source": []
  },
  {
   "cell_type": "markdown",
   "id": "26f46915",
   "metadata": {},
   "source": [
    "**Para vocês**: organizem o projeto de vocês para que o pré-processamento e o modelo esteja no formato de pipeline."
   ]
  },
  {
   "cell_type": "code",
   "execution_count": null,
   "id": "24e708a4",
   "metadata": {},
   "outputs": [],
   "source": []
  }
 ],
 "metadata": {
  "kernelspec": {
   "display_name": "Python 3 (ipykernel)",
   "language": "python",
   "name": "python3"
  },
  "language_info": {
   "codemirror_mode": {
    "name": "ipython",
    "version": 3
   },
   "file_extension": ".py",
   "mimetype": "text/x-python",
   "name": "python",
   "nbconvert_exporter": "python",
   "pygments_lexer": "ipython3",
   "version": "3.9.14"
  }
 },
 "nbformat": 4,
 "nbformat_minor": 5
}
