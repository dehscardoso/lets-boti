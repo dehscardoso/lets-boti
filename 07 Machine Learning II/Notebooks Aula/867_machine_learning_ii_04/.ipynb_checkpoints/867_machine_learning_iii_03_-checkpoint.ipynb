{
 "cells": [
  {
   "cell_type": "markdown",
   "id": "c0275a82",
   "metadata": {},
   "source": [
    "# Projeto"
   ]
  },
  {
   "cell_type": "markdown",
   "id": "3ca8f519",
   "metadata": {},
   "source": [
    "## Bibliotecas"
   ]
  },
  {
   "cell_type": "code",
   "execution_count": null,
   "id": "cea50513",
   "metadata": {},
   "outputs": [],
   "source": [
    "import os\n",
    "\n",
    "import pandas as pd\n",
    "import matplotlib.pyplot as plt\n",
    "\n",
    "from sklearn.model_selection import train_test_split\n",
    "from sklearn.preprocessing import StandardScaler, OrdinalEncoder\n",
    "from sklearn.neighbors import KNeighborsClassifier\n",
    "from sklearn.tree import DecisionTreeClassifier, plot_tree\n",
    "from sklearn.metrics import roc_auc_score"
   ]
  },
  {
   "cell_type": "markdown",
   "id": "6417aae8",
   "metadata": {},
   "source": [
    "## Arquivos"
   ]
  },
  {
   "cell_type": "code",
   "execution_count": null,
   "id": "713a0db5",
   "metadata": {},
   "outputs": [],
   "source": [
    "caminho = '../../machine_learning_i/projeto/dados'\n",
    "arquivo_principal = 'application_train.csv'\n",
    "arquivo_oculto = 'application_test_student.csv'\n",
    "arquivo_metadados = 'HomeCredit_columns_description.csv'"
   ]
  },
  {
   "cell_type": "markdown",
   "id": "0d9f487a",
   "metadata": {},
   "source": [
    "## Input"
   ]
  },
  {
   "cell_type": "code",
   "execution_count": null,
   "id": "a266f8e0",
   "metadata": {},
   "outputs": [],
   "source": [
    "df = pd.read_csv(f'{caminho}/{arquivo_principal}')\n",
    "\n",
    "df_oculto = pd.read_csv(f'{caminho}/{arquivo_oculto}')\n",
    "\n",
    "df_metadados = pd.read_csv(f'{caminho}/{arquivo_metadados}', encoding = 'Windows-1252')"
   ]
  },
  {
   "cell_type": "markdown",
   "id": "063fa514",
   "metadata": {},
   "source": [
    "## Variáveis"
   ]
  },
  {
   "cell_type": "code",
   "execution_count": null,
   "id": "9b383ae2",
   "metadata": {},
   "outputs": [],
   "source": [
    "var_expl = [\n",
    "    'CNT_CHILDREN', \n",
    "    'AMT_INCOME_TOTAL', \n",
    "    'DAYS_BIRTH', \n",
    "    'DAYS_EMPLOYED',\n",
    "    'NAME_EDUCATION_TYPE'\n",
    "]\n",
    "\n",
    "var_resp = 'TARGET'"
   ]
  },
  {
   "cell_type": "markdown",
   "id": "29167bb3",
   "metadata": {},
   "source": [
    "## Treino e Teste"
   ]
  },
  {
   "cell_type": "code",
   "execution_count": null,
   "id": "86d0be7a",
   "metadata": {},
   "outputs": [],
   "source": [
    "df_treino, df_teste = train_test_split(df, test_size = 0.15)"
   ]
  },
  {
   "cell_type": "code",
   "execution_count": null,
   "id": "aee4c8ea",
   "metadata": {},
   "outputs": [],
   "source": [
    "x_treino = df_treino[var_expl].copy()\n",
    "y_treino = df_treino[var_resp].copy()\n",
    "\n",
    "x_teste = df_teste[var_expl].copy()\n",
    "y_teste = df_teste[var_resp].copy()\n",
    "\n",
    "x_oculto = df_oculto[var_expl].copy()"
   ]
  },
  {
   "cell_type": "markdown",
   "id": "1d7b4011",
   "metadata": {},
   "source": [
    "## Pré-Processamento"
   ]
  },
  {
   "cell_type": "code",
   "execution_count": null,
   "id": "a6720c04",
   "metadata": {},
   "outputs": [],
   "source": [
    "lista_ordenada = [\n",
    "    'Lower secondary',\n",
    "    'Secondary / secondary special', \n",
    "    'Incomplete higher',\n",
    "    'Higher education', \n",
    "    'Academic degree', \n",
    "]\n",
    "\n",
    "oe = OrdinalEncoder(categories = [lista_ordenada])\n",
    "\n",
    "oe.fit(x_treino[['NAME_EDUCATION_TYPE']])\n",
    "x_treino[['NAME_EDUCATION_TYPE']] = oe.transform(x_treino[['NAME_EDUCATION_TYPE']])\n",
    "x_teste[['NAME_EDUCATION_TYPE']] = oe.transform(x_teste[['NAME_EDUCATION_TYPE']])\n",
    "x_oculto[['NAME_EDUCATION_TYPE']] = oe.transform(x_oculto[['NAME_EDUCATION_TYPE']])"
   ]
  },
  {
   "cell_type": "markdown",
   "id": "55e46bd9",
   "metadata": {},
   "source": [
    "## Modelo e Métricas"
   ]
  },
  {
   "cell_type": "code",
   "execution_count": null,
   "id": "0e0c4daa",
   "metadata": {},
   "outputs": [],
   "source": [
    "modelo = DecisionTreeClassifier(\n",
    "    max_leaf_nodes = 50, \n",
    "    random_state = 1\n",
    ")\n",
    "\n",
    "modelo.fit(x_treino, y_treino)\n",
    "\n",
    "y_pred_treino = modelo.predict_proba(x_treino)[:, 1]\n",
    "y_pred_teste = modelo.predict_proba(x_teste)[:, 1]"
   ]
  },
  {
   "cell_type": "code",
   "execution_count": null,
   "id": "00e5f9fd",
   "metadata": {},
   "outputs": [],
   "source": [
    "roc_auc_score(y_treino, y_pred_treino)"
   ]
  },
  {
   "cell_type": "code",
   "execution_count": null,
   "id": "fce01768",
   "metadata": {},
   "outputs": [],
   "source": [
    "roc_auc_score(y_teste, y_pred_teste)"
   ]
  },
  {
   "cell_type": "markdown",
   "id": "9d2dd7ea",
   "metadata": {},
   "source": [
    "## Previsão"
   ]
  },
  {
   "cell_type": "code",
   "execution_count": null,
   "id": "e5832333",
   "metadata": {},
   "outputs": [],
   "source": [
    "y_pred_oculto = modelo.predict_proba(x_oculto)[:, 1]\n",
    "df_oculto['Y_PRED'] = y_pred_oculto\n",
    "df_oculto[['SK_ID_CURR', 'Y_PRED']].head()"
   ]
  }
 ],
 "metadata": {
  "kernelspec": {
   "display_name": "Python 3 (ipykernel)",
   "language": "python",
   "name": "python3"
  },
  "language_info": {
   "codemirror_mode": {
    "name": "ipython",
    "version": 3
   },
   "file_extension": ".py",
   "mimetype": "text/x-python",
   "name": "python",
   "nbconvert_exporter": "python",
   "pygments_lexer": "ipython3",
   "version": "3.9.14"
  }
 },
 "nbformat": 4,
 "nbformat_minor": 5
}
