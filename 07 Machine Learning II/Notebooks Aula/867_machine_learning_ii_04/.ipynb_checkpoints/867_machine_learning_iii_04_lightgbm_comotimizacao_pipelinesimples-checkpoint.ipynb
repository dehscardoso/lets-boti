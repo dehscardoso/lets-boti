{
 "cells": [
  {
   "cell_type": "markdown",
   "id": "c0275a82",
   "metadata": {},
   "source": [
    "# Projeto"
   ]
  },
  {
   "cell_type": "markdown",
   "id": "3ca8f519",
   "metadata": {},
   "source": [
    "## Bibliotecas"
   ]
  },
  {
   "cell_type": "code",
   "execution_count": 27,
   "id": "cea50513",
   "metadata": {},
   "outputs": [],
   "source": [
    "import os\n",
    "\n",
    "import pandas as pd\n",
    "import matplotlib.pyplot as plt\n",
    "\n",
    "from sklearn.model_selection import train_test_split\n",
    "from sklearn.preprocessing import StandardScaler, OrdinalEncoder\n",
    "from sklearn.model_selection import GridSearchCV\n",
    "from sklearn.metrics import roc_auc_score\n",
    "\n",
    "from lightgbm import LGBMClassifier"
   ]
  },
  {
   "cell_type": "markdown",
   "id": "6417aae8",
   "metadata": {},
   "source": [
    "## Arquivos"
   ]
  },
  {
   "cell_type": "code",
   "execution_count": 2,
   "id": "713a0db5",
   "metadata": {},
   "outputs": [],
   "source": [
    "caminho = '../../machine_learning_i/projeto/dados'\n",
    "arquivo_principal = 'application_train.csv'\n",
    "arquivo_oculto = 'application_test_student.csv'\n",
    "arquivo_metadados = 'HomeCredit_columns_description.csv'"
   ]
  },
  {
   "cell_type": "markdown",
   "id": "0d9f487a",
   "metadata": {},
   "source": [
    "## Input"
   ]
  },
  {
   "cell_type": "code",
   "execution_count": 3,
   "id": "a266f8e0",
   "metadata": {},
   "outputs": [],
   "source": [
    "df = pd.read_csv(f'{caminho}/{arquivo_principal}')\n",
    "\n",
    "df_oculto = pd.read_csv(f'{caminho}/{arquivo_oculto}')\n",
    "\n",
    "df_metadados = pd.read_csv(f'{caminho}/{arquivo_metadados}', encoding = 'Windows-1252')"
   ]
  },
  {
   "cell_type": "markdown",
   "id": "063fa514",
   "metadata": {},
   "source": [
    "## Variáveis"
   ]
  },
  {
   "cell_type": "code",
   "execution_count": 4,
   "id": "9b383ae2",
   "metadata": {},
   "outputs": [],
   "source": [
    "var_expl = [\n",
    "    'CNT_CHILDREN', \n",
    "    'AMT_INCOME_TOTAL', \n",
    "    'DAYS_BIRTH', \n",
    "    'DAYS_EMPLOYED',\n",
    "    'NAME_EDUCATION_TYPE'\n",
    "]\n",
    "\n",
    "var_resp = 'TARGET'"
   ]
  },
  {
   "cell_type": "markdown",
   "id": "29167bb3",
   "metadata": {},
   "source": [
    "## Treino e Teste"
   ]
  },
  {
   "cell_type": "code",
   "execution_count": 5,
   "id": "86d0be7a",
   "metadata": {},
   "outputs": [],
   "source": [
    "df_treino, df_teste = train_test_split(df, test_size = 0.15, random_state = 1)"
   ]
  },
  {
   "cell_type": "code",
   "execution_count": 6,
   "id": "aee4c8ea",
   "metadata": {},
   "outputs": [],
   "source": [
    "x_treino = df_treino[var_expl].copy()\n",
    "y_treino = df_treino[var_resp].copy()\n",
    "\n",
    "x_teste = df_teste[var_expl].copy()\n",
    "y_teste = df_teste[var_resp].copy()\n",
    "\n",
    "x_oculto = df_oculto[var_expl].copy()"
   ]
  },
  {
   "cell_type": "markdown",
   "id": "1d7b4011",
   "metadata": {},
   "source": [
    "## Pré-Processamento"
   ]
  },
  {
   "cell_type": "code",
   "execution_count": 7,
   "id": "a6720c04",
   "metadata": {},
   "outputs": [],
   "source": [
    "lista_ordenada = [\n",
    "    'Lower secondary',\n",
    "    'Secondary / secondary special', \n",
    "    'Incomplete higher',\n",
    "    'Higher education', \n",
    "    'Academic degree', \n",
    "]\n",
    "\n",
    "oe = OrdinalEncoder(categories = [lista_ordenada])\n",
    "\n",
    "oe.fit(x_treino[['NAME_EDUCATION_TYPE']])\n",
    "x_treino[['NAME_EDUCATION_TYPE']] = oe.transform(x_treino[['NAME_EDUCATION_TYPE']])\n",
    "x_teste[['NAME_EDUCATION_TYPE']] = oe.transform(x_teste[['NAME_EDUCATION_TYPE']])\n",
    "x_oculto[['NAME_EDUCATION_TYPE']] = oe.transform(x_oculto[['NAME_EDUCATION_TYPE']])"
   ]
  },
  {
   "cell_type": "markdown",
   "id": "55e46bd9",
   "metadata": {},
   "source": [
    "## Modelo e Métricas\n",
    "\n",
    "**Otimização acontece aqui**"
   ]
  },
  {
   "cell_type": "code",
   "execution_count": 36,
   "id": "019e3c26",
   "metadata": {},
   "outputs": [
    {
     "data": {
      "text/plain": [
       "512"
      ]
     },
     "execution_count": 36,
     "metadata": {},
     "output_type": "execute_result"
    }
   ],
   "source": [
    "4*4*4*4*2"
   ]
  },
  {
   "cell_type": "code",
   "execution_count": null,
   "id": "35f9e916",
   "metadata": {},
   "outputs": [],
   "source": [
    "32   -   21.2\n",
    "512  -    x"
   ]
  },
  {
   "cell_type": "code",
   "execution_count": null,
   "id": "cb241422",
   "metadata": {},
   "outputs": [],
   "source": [
    "32 x = 21.2 * 512\n",
    "x = 21.2 * 512 / 32"
   ]
  },
  {
   "cell_type": "code",
   "execution_count": 40,
   "id": "f858ce40",
   "metadata": {},
   "outputs": [
    {
     "data": {
      "text/plain": [
       "14.133333333333333"
      ]
     },
     "execution_count": 40,
     "metadata": {},
     "output_type": "execute_result"
    }
   ],
   "source": [
    "21.2 * 1280 / 32 / 60"
   ]
  },
  {
   "cell_type": "code",
   "execution_count": 41,
   "id": "0e0c4daa",
   "metadata": {},
   "outputs": [
    {
     "name": "stdout",
     "output_type": "stream",
     "text": [
      "CPU times: user 2h 17min 58s, sys: 10min 41s, total: 2h 28min 39s\n",
      "Wall time: 19min 38s\n"
     ]
    }
   ],
   "source": [
    "%%time\n",
    "\n",
    "parametros = {\n",
    "    'num_leaves': [5, 15, 25, 50],\n",
    "    'max_depth': [2, 3, 5, 8],\n",
    "    'n_estimators': [10, 50, 250, 500],\n",
    "    'learning_rate': [0.1, 0.05, 0.01, 0.005],\n",
    "}\n",
    "\n",
    "modelo = LGBMClassifier(\n",
    "    subsample = 0.5,        # similar ao random forest, importante definir\n",
    "    subsample_freq = 5,     # similar ao random forest, importante definir\n",
    "    colsample_bytree = 0.5, # similar ao random forest, importante definir\n",
    "    random_state = 1    \n",
    ")\n",
    "\n",
    "gscv = GridSearchCV(\n",
    "    estimator = modelo,\n",
    "    param_grid = parametros,\n",
    "    scoring = 'roc_auc',\n",
    "    refit = True,\n",
    "    cv = 5\n",
    ")\n",
    "\n",
    "gscv.fit(x_treino, y_treino)\n",
    "\n",
    "y_pred_treino = gscv.predict_proba(x_treino)[:, 1]\n",
    "y_pred_teste = gscv.predict_proba(x_teste)[:, 1]"
   ]
  },
  {
   "cell_type": "code",
   "execution_count": 42,
   "id": "00e5f9fd",
   "metadata": {},
   "outputs": [
    {
     "data": {
      "text/plain": [
       "0.6422611914457849"
      ]
     },
     "execution_count": 42,
     "metadata": {},
     "output_type": "execute_result"
    }
   ],
   "source": [
    "roc_auc_score(y_treino, y_pred_treino)"
   ]
  },
  {
   "cell_type": "code",
   "execution_count": 43,
   "id": "fce01768",
   "metadata": {},
   "outputs": [
    {
     "data": {
      "text/plain": [
       "0.6218092144251098"
      ]
     },
     "execution_count": 43,
     "metadata": {},
     "output_type": "execute_result"
    }
   ],
   "source": [
    "roc_auc_score(y_teste, y_pred_teste)"
   ]
  },
  {
   "cell_type": "code",
   "execution_count": 46,
   "id": "22d74f75",
   "metadata": {},
   "outputs": [
    {
     "data": {
      "text/plain": [
       "{'learning_rate': 0.01, 'max_depth': 8, 'n_estimators': 500, 'num_leaves': 15}"
      ]
     },
     "execution_count": 46,
     "metadata": {},
     "output_type": "execute_result"
    }
   ],
   "source": [
    "gscv.best_params_"
   ]
  },
  {
   "cell_type": "code",
   "execution_count": 50,
   "id": "1e7c4317",
   "metadata": {},
   "outputs": [
    {
     "name": "stdout",
     "output_type": "stream",
     "text": [
      "CPU times: user 17min, sys: 1min 35s, total: 18min 35s\n",
      "Wall time: 2min 41s\n"
     ]
    }
   ],
   "source": [
    "%%time\n",
    "\n",
    "parametros = {\n",
    "    'num_leaves': [15, 20, 25],\n",
    "    'max_depth': [8, 10],\n",
    "    'n_estimators': [500, 1000],\n",
    "    'learning_rate': [0.01],\n",
    "}\n",
    "\n",
    "modelo = LGBMClassifier(\n",
    "    subsample = 0.5,        # similar ao random forest, importante definir\n",
    "    subsample_freq = 5,     # similar ao random forest, importante definir\n",
    "    colsample_bytree = 0.5, # similar ao random forest, importante definir\n",
    "    random_state = 1    \n",
    ")\n",
    "\n",
    "gscv = GridSearchCV(\n",
    "    estimator = modelo,\n",
    "    param_grid = parametros,\n",
    "    scoring = 'roc_auc',\n",
    "    refit = True,\n",
    "    cv = 3\n",
    ")\n",
    "\n",
    "gscv.fit(x_treino, y_treino)\n",
    "\n",
    "y_pred_treino = gscv.predict_proba(x_treino)[:, 1]\n",
    "y_pred_teste = gscv.predict_proba(x_teste)[:, 1]"
   ]
  },
  {
   "cell_type": "code",
   "execution_count": 58,
   "id": "6551bb46",
   "metadata": {},
   "outputs": [
    {
     "data": {
      "text/plain": [
       "4.444444444444445"
      ]
     },
     "execution_count": 58,
     "metadata": {},
     "output_type": "execute_result"
    }
   ],
   "source": [
    "160/(3*2*2*3)"
   ]
  },
  {
   "cell_type": "code",
   "execution_count": 51,
   "id": "32bf0b10",
   "metadata": {},
   "outputs": [
    {
     "data": {
      "text/plain": [
       "0.6424046805073195"
      ]
     },
     "execution_count": 51,
     "metadata": {},
     "output_type": "execute_result"
    }
   ],
   "source": [
    "roc_auc_score(y_treino, y_pred_treino)"
   ]
  },
  {
   "cell_type": "code",
   "execution_count": 52,
   "id": "01859404",
   "metadata": {},
   "outputs": [
    {
     "data": {
      "text/plain": [
       "0.6218638463511945"
      ]
     },
     "execution_count": 52,
     "metadata": {},
     "output_type": "execute_result"
    }
   ],
   "source": [
    "roc_auc_score(y_teste, y_pred_teste)"
   ]
  },
  {
   "cell_type": "code",
   "execution_count": 53,
   "id": "2013ddfd",
   "metadata": {},
   "outputs": [
    {
     "data": {
      "text/plain": [
       "{'learning_rate': 0.01, 'max_depth': 10, 'n_estimators': 500, 'num_leaves': 15}"
      ]
     },
     "execution_count": 53,
     "metadata": {},
     "output_type": "execute_result"
    }
   ],
   "source": [
    "gscv.best_params_"
   ]
  },
  {
   "cell_type": "markdown",
   "id": "9d2dd7ea",
   "metadata": {},
   "source": [
    "## Previsão"
   ]
  },
  {
   "cell_type": "code",
   "execution_count": 55,
   "id": "e5832333",
   "metadata": {},
   "outputs": [
    {
     "data": {
      "text/html": [
       "<div>\n",
       "<style scoped>\n",
       "    .dataframe tbody tr th:only-of-type {\n",
       "        vertical-align: middle;\n",
       "    }\n",
       "\n",
       "    .dataframe tbody tr th {\n",
       "        vertical-align: top;\n",
       "    }\n",
       "\n",
       "    .dataframe thead th {\n",
       "        text-align: right;\n",
       "    }\n",
       "</style>\n",
       "<table border=\"1\" class=\"dataframe\">\n",
       "  <thead>\n",
       "    <tr style=\"text-align: right;\">\n",
       "      <th></th>\n",
       "      <th>SK_ID_CURR</th>\n",
       "      <th>Y_PRED</th>\n",
       "    </tr>\n",
       "  </thead>\n",
       "  <tbody>\n",
       "    <tr>\n",
       "      <th>0</th>\n",
       "      <td>149741</td>\n",
       "      <td>0.062229</td>\n",
       "    </tr>\n",
       "    <tr>\n",
       "      <th>1</th>\n",
       "      <td>363290</td>\n",
       "      <td>0.047734</td>\n",
       "    </tr>\n",
       "    <tr>\n",
       "      <th>2</th>\n",
       "      <td>436006</td>\n",
       "      <td>0.032861</td>\n",
       "    </tr>\n",
       "    <tr>\n",
       "      <th>3</th>\n",
       "      <td>377703</td>\n",
       "      <td>0.075128</td>\n",
       "    </tr>\n",
       "    <tr>\n",
       "      <th>4</th>\n",
       "      <td>188624</td>\n",
       "      <td>0.081328</td>\n",
       "    </tr>\n",
       "  </tbody>\n",
       "</table>\n",
       "</div>"
      ],
      "text/plain": [
       "   SK_ID_CURR    Y_PRED\n",
       "0      149741  0.062229\n",
       "1      363290  0.047734\n",
       "2      436006  0.032861\n",
       "3      377703  0.075128\n",
       "4      188624  0.081328"
      ]
     },
     "execution_count": 55,
     "metadata": {},
     "output_type": "execute_result"
    }
   ],
   "source": [
    "y_pred_oculto = gscv.predict_proba(x_oculto)[:, 1]\n",
    "df_oculto['Y_PRED'] = y_pred_oculto\n",
    "df_oculto[['SK_ID_CURR', 'Y_PRED']].head()"
   ]
  },
  {
   "cell_type": "code",
   "execution_count": null,
   "id": "3f045527",
   "metadata": {},
   "outputs": [],
   "source": []
  }
 ],
 "metadata": {
  "kernelspec": {
   "display_name": "Python 3 (ipykernel)",
   "language": "python",
   "name": "python3"
  },
  "language_info": {
   "codemirror_mode": {
    "name": "ipython",
    "version": 3
   },
   "file_extension": ".py",
   "mimetype": "text/x-python",
   "name": "python",
   "nbconvert_exporter": "python",
   "pygments_lexer": "ipython3",
   "version": "3.9.14"
  }
 },
 "nbformat": 4,
 "nbformat_minor": 5
}
