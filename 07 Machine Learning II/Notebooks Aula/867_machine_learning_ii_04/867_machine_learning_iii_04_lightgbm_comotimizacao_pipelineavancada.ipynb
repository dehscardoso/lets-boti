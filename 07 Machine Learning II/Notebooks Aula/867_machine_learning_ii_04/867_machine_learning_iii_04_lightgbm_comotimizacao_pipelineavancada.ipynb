{
 "cells": [
  {
   "cell_type": "markdown",
   "id": "c0275a82",
   "metadata": {},
   "source": [
    "# Projeto"
   ]
  },
  {
   "cell_type": "markdown",
   "id": "3ca8f519",
   "metadata": {},
   "source": [
    "## Bibliotecas"
   ]
  },
  {
   "cell_type": "code",
   "execution_count": 1,
   "id": "cea50513",
   "metadata": {},
   "outputs": [],
   "source": [
    "import os\n",
    "\n",
    "import pandas as pd\n",
    "import matplotlib.pyplot as plt\n",
    "\n",
    "from sklearn.model_selection import train_test_split\n",
    "from sklearn.preprocessing import StandardScaler, OrdinalEncoder\n",
    "from sklearn.model_selection import GridSearchCV\n",
    "from sklearn.pipeline import Pipeline\n",
    "from sklearn.compose import ColumnTransformer\n",
    "from sklearn.metrics import roc_auc_score\n",
    "\n",
    "from lightgbm import LGBMClassifier"
   ]
  },
  {
   "cell_type": "markdown",
   "id": "6417aae8",
   "metadata": {},
   "source": [
    "## Arquivos"
   ]
  },
  {
   "cell_type": "code",
   "execution_count": 2,
   "id": "713a0db5",
   "metadata": {},
   "outputs": [],
   "source": [
    "caminho = '../../machine_learning_i/projeto/dados'\n",
    "arquivo_principal = 'application_train.csv'\n",
    "arquivo_oculto = 'application_test_student.csv'\n",
    "arquivo_metadados = 'HomeCredit_columns_description.csv'"
   ]
  },
  {
   "cell_type": "markdown",
   "id": "0d9f487a",
   "metadata": {},
   "source": [
    "## Input"
   ]
  },
  {
   "cell_type": "code",
   "execution_count": 3,
   "id": "a266f8e0",
   "metadata": {},
   "outputs": [],
   "source": [
    "df = pd.read_csv(f'{caminho}/{arquivo_principal}')\n",
    "\n",
    "df_oculto = pd.read_csv(f'{caminho}/{arquivo_oculto}')\n",
    "\n",
    "df_metadados = pd.read_csv(f'{caminho}/{arquivo_metadados}', encoding = 'Windows-1252')"
   ]
  },
  {
   "cell_type": "markdown",
   "id": "063fa514",
   "metadata": {},
   "source": [
    "## Variáveis"
   ]
  },
  {
   "cell_type": "code",
   "execution_count": 26,
   "id": "9b383ae2",
   "metadata": {},
   "outputs": [],
   "source": [
    "var_expl = [\n",
    "    'CNT_CHILDREN', \n",
    "    'AMT_INCOME_TOTAL', \n",
    "    'DAYS_BIRTH', \n",
    "    'DAYS_EMPLOYED',\n",
    "    'NAME_EDUCATION_TYPE',\n",
    "    'FLAG_OWN_CAR', \n",
    "    'FLAG_OWN_REALTY'\n",
    "]\n",
    "\n",
    "var_resp = 'TARGET'"
   ]
  },
  {
   "cell_type": "markdown",
   "id": "29167bb3",
   "metadata": {},
   "source": [
    "## Treino e Teste"
   ]
  },
  {
   "cell_type": "code",
   "execution_count": 27,
   "id": "86d0be7a",
   "metadata": {},
   "outputs": [],
   "source": [
    "df_treino, df_teste = train_test_split(df, test_size = 0.15, random_state = 1)"
   ]
  },
  {
   "cell_type": "code",
   "execution_count": 28,
   "id": "aee4c8ea",
   "metadata": {},
   "outputs": [],
   "source": [
    "x_treino = df_treino[var_expl].copy()\n",
    "y_treino = df_treino[var_resp].copy()\n",
    "\n",
    "x_teste = df_teste[var_expl].copy()\n",
    "y_teste = df_teste[var_resp].copy()\n",
    "\n",
    "x_oculto = df_oculto[var_expl].copy()"
   ]
  },
  {
   "cell_type": "markdown",
   "id": "1d7b4011",
   "metadata": {},
   "source": [
    "## Pipeline\n",
    "\n",
    "**União do pré-processamento com o modelo**\n",
    "\n",
    "Consequentemente tiramos as métricas aqui também."
   ]
  },
  {
   "cell_type": "code",
   "execution_count": 30,
   "id": "eae93b80",
   "metadata": {},
   "outputs": [
    {
     "name": "stdout",
     "output_type": "stream",
     "text": [
      "CPU times: user 5min 56s, sys: 34.7 s, total: 6min 31s\n",
      "Wall time: 56.2 s\n"
     ]
    }
   ],
   "source": [
    "%%time\n",
    "\n",
    "parametros = {\n",
    "    'modelo__num_leaves': [15],\n",
    "    'modelo__max_depth': [5, 8],\n",
    "    'modelo__n_estimators': [250, 500],\n",
    "    'modelo__learning_rate': [0.05, 0.01],\n",
    "}\n",
    "\n",
    "modelo = LGBMClassifier(\n",
    "    colsample_bytree = 0.5, \n",
    "    subsample = 0.5,\n",
    "    subsample_freq = 5,\n",
    "    random_state = 1\n",
    ")\n",
    "\n",
    "\n",
    "lista_ordenada = [\n",
    "    'Lower secondary',\n",
    "    'Secondary / secondary special', \n",
    "    'Incomplete higher',\n",
    "    'Higher education', \n",
    "    'Academic degree', \n",
    "]\n",
    "\n",
    "pipe_education = Pipeline(steps = [\n",
    "    ('trata_education', OrdinalEncoder(categories = [lista_ordenada]))\n",
    "])\n",
    "\n",
    "pipe_flag = Pipeline(steps = [\n",
    "    ('trata_flag', OrdinalEncoder())\n",
    "])\n",
    "\n",
    "pipe_selecao = ColumnTransformer(transformers = [\n",
    "    ('pipe_education', pipe_education, ['NAME_EDUCATION_TYPE']),\n",
    "    ('pipe_flag', pipe_flag, ['FLAG_OWN_CAR', 'FLAG_OWN_REALTY']),\n",
    "    ('outras_colunas', 'passthrough', ['CNT_CHILDREN', 'AMT_INCOME_TOTAL', 'DAYS_BIRTH', 'DAYS_EMPLOYED']),\n",
    "])\n",
    "\n",
    "pipeline = Pipeline(steps = [\n",
    "    ('preproc', pipe_selecao),\n",
    "    ('modelo', modelo)\n",
    "])\n",
    "\n",
    "gscv = GridSearchCV(\n",
    "    estimator = pipeline,\n",
    "    param_grid = parametros,\n",
    "    scoring = 'roc_auc',\n",
    "    refit = True,\n",
    "    cv = 3\n",
    ")\n",
    "\n",
    "gscv.fit(x_treino, y_treino)\n",
    "y_pred_treino = gscv.predict_proba(x_treino)[:, 1]\n",
    "y_pred_teste = gscv.predict_proba(x_teste)[:, 1]"
   ]
  },
  {
   "cell_type": "code",
   "execution_count": 31,
   "id": "27d4943f",
   "metadata": {},
   "outputs": [
    {
     "data": {
      "text/plain": [
       "array([[ 2.00000e+00,  1.00000e+00,  1.00000e+00, ...,  1.57500e+05,\n",
       "        -1.62180e+04, -2.40000e+02],\n",
       "       [ 1.00000e+00,  1.00000e+00,  1.00000e+00, ...,  1.35000e+05,\n",
       "        -2.00400e+04, -9.14000e+02],\n",
       "       [ 1.00000e+00,  0.00000e+00,  1.00000e+00, ...,  9.00000e+04,\n",
       "        -2.01660e+04,  3.65243e+05],\n",
       "       ...,\n",
       "       [ 3.00000e+00,  0.00000e+00,  0.00000e+00, ...,  9.00000e+04,\n",
       "        -1.28420e+04, -2.29700e+03],\n",
       "       [ 3.00000e+00,  0.00000e+00,  1.00000e+00, ...,  1.80000e+05,\n",
       "        -2.12400e+04,  3.65243e+05],\n",
       "       [ 1.00000e+00,  1.00000e+00,  1.00000e+00, ...,  1.17000e+05,\n",
       "        -9.57200e+03, -1.11900e+03]])"
      ]
     },
     "execution_count": 31,
     "metadata": {},
     "output_type": "execute_result"
    }
   ],
   "source": [
    "pipe_selecao.fit_transform(x_treino)"
   ]
  },
  {
   "cell_type": "code",
   "execution_count": 32,
   "id": "00e5f9fd",
   "metadata": {},
   "outputs": [
    {
     "data": {
      "text/plain": [
       "0.6435477594555178"
      ]
     },
     "execution_count": 32,
     "metadata": {},
     "output_type": "execute_result"
    }
   ],
   "source": [
    "roc_auc_score(y_treino, y_pred_treino)"
   ]
  },
  {
   "cell_type": "code",
   "execution_count": 33,
   "id": "fce01768",
   "metadata": {},
   "outputs": [
    {
     "data": {
      "text/plain": [
       "0.6251038564944535"
      ]
     },
     "execution_count": 33,
     "metadata": {},
     "output_type": "execute_result"
    }
   ],
   "source": [
    "roc_auc_score(y_teste, y_pred_teste)"
   ]
  },
  {
   "cell_type": "markdown",
   "id": "9d2dd7ea",
   "metadata": {},
   "source": [
    "## Previsão"
   ]
  },
  {
   "cell_type": "code",
   "execution_count": 20,
   "id": "e5832333",
   "metadata": {},
   "outputs": [
    {
     "data": {
      "text/html": [
       "<div>\n",
       "<style scoped>\n",
       "    .dataframe tbody tr th:only-of-type {\n",
       "        vertical-align: middle;\n",
       "    }\n",
       "\n",
       "    .dataframe tbody tr th {\n",
       "        vertical-align: top;\n",
       "    }\n",
       "\n",
       "    .dataframe thead th {\n",
       "        text-align: right;\n",
       "    }\n",
       "</style>\n",
       "<table border=\"1\" class=\"dataframe\">\n",
       "  <thead>\n",
       "    <tr style=\"text-align: right;\">\n",
       "      <th></th>\n",
       "      <th>SK_ID_CURR</th>\n",
       "      <th>Y_PRED</th>\n",
       "    </tr>\n",
       "  </thead>\n",
       "  <tbody>\n",
       "    <tr>\n",
       "      <th>0</th>\n",
       "      <td>149741</td>\n",
       "      <td>0.060691</td>\n",
       "    </tr>\n",
       "    <tr>\n",
       "      <th>1</th>\n",
       "      <td>363290</td>\n",
       "      <td>0.056175</td>\n",
       "    </tr>\n",
       "    <tr>\n",
       "      <th>2</th>\n",
       "      <td>436006</td>\n",
       "      <td>0.048052</td>\n",
       "    </tr>\n",
       "    <tr>\n",
       "      <th>3</th>\n",
       "      <td>377703</td>\n",
       "      <td>0.057595</td>\n",
       "    </tr>\n",
       "    <tr>\n",
       "      <th>4</th>\n",
       "      <td>188624</td>\n",
       "      <td>0.065784</td>\n",
       "    </tr>\n",
       "  </tbody>\n",
       "</table>\n",
       "</div>"
      ],
      "text/plain": [
       "   SK_ID_CURR    Y_PRED\n",
       "0      149741  0.060691\n",
       "1      363290  0.056175\n",
       "2      436006  0.048052\n",
       "3      377703  0.057595\n",
       "4      188624  0.065784"
      ]
     },
     "execution_count": 20,
     "metadata": {},
     "output_type": "execute_result"
    }
   ],
   "source": [
    "y_pred_oculto = pipeline.predict_proba(x_oculto)[:, 1]\n",
    "df_oculto['Y_PRED'] = y_pred_oculto\n",
    "df_oculto[['SK_ID_CURR', 'Y_PRED']].head()"
   ]
  },
  {
   "cell_type": "code",
   "execution_count": null,
   "id": "3f045527",
   "metadata": {},
   "outputs": [],
   "source": []
  }
 ],
 "metadata": {
  "kernelspec": {
   "display_name": "Python 3 (ipykernel)",
   "language": "python",
   "name": "python3"
  },
  "language_info": {
   "codemirror_mode": {
    "name": "ipython",
    "version": 3
   },
   "file_extension": ".py",
   "mimetype": "text/x-python",
   "name": "python",
   "nbconvert_exporter": "python",
   "pygments_lexer": "ipython3",
   "version": "3.9.14"
  }
 },
 "nbformat": 4,
 "nbformat_minor": 5
}
