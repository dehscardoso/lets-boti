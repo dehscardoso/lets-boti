{
 "cells": [
  {
   "cell_type": "markdown",
   "id": "c0275a82",
   "metadata": {},
   "source": [
    "# Projeto"
   ]
  },
  {
   "cell_type": "markdown",
   "id": "3ca8f519",
   "metadata": {},
   "source": [
    "## Bibliotecas"
   ]
  },
  {
   "cell_type": "code",
   "execution_count": 1,
   "id": "cea50513",
   "metadata": {},
   "outputs": [],
   "source": [
    "import os\n",
    "\n",
    "import pandas as pd\n",
    "import matplotlib.pyplot as plt\n",
    "\n",
    "from sklearn.model_selection import train_test_split\n",
    "from sklearn.preprocessing import StandardScaler, OrdinalEncoder\n",
    "from sklearn.model_selection import GridSearchCV\n",
    "from sklearn.ensemble import AdaBoostClassifier\n",
    "from sklearn.metrics import roc_auc_score"
   ]
  },
  {
   "cell_type": "markdown",
   "id": "6417aae8",
   "metadata": {},
   "source": [
    "## Arquivos"
   ]
  },
  {
   "cell_type": "code",
   "execution_count": 2,
   "id": "713a0db5",
   "metadata": {},
   "outputs": [],
   "source": [
    "caminho = '../../machine_learning_i/projeto/dados'\n",
    "arquivo_principal = 'application_train.csv'\n",
    "arquivo_oculto = 'application_test_student.csv'\n",
    "arquivo_metadados = 'HomeCredit_columns_description.csv'"
   ]
  },
  {
   "cell_type": "markdown",
   "id": "0d9f487a",
   "metadata": {},
   "source": [
    "## Input"
   ]
  },
  {
   "cell_type": "code",
   "execution_count": 3,
   "id": "a266f8e0",
   "metadata": {},
   "outputs": [],
   "source": [
    "df = pd.read_csv(f'{caminho}/{arquivo_principal}')\n",
    "\n",
    "df_oculto = pd.read_csv(f'{caminho}/{arquivo_oculto}')\n",
    "\n",
    "df_metadados = pd.read_csv(f'{caminho}/{arquivo_metadados}', encoding = 'Windows-1252')"
   ]
  },
  {
   "cell_type": "markdown",
   "id": "063fa514",
   "metadata": {},
   "source": [
    "## Variáveis"
   ]
  },
  {
   "cell_type": "code",
   "execution_count": 4,
   "id": "9b383ae2",
   "metadata": {},
   "outputs": [],
   "source": [
    "var_expl = [\n",
    "    'CNT_CHILDREN', \n",
    "    'AMT_INCOME_TOTAL', \n",
    "    'DAYS_BIRTH', \n",
    "    'DAYS_EMPLOYED',\n",
    "    'NAME_EDUCATION_TYPE'\n",
    "]\n",
    "\n",
    "var_resp = 'TARGET'"
   ]
  },
  {
   "cell_type": "markdown",
   "id": "29167bb3",
   "metadata": {},
   "source": [
    "## Treino e Teste"
   ]
  },
  {
   "cell_type": "code",
   "execution_count": 5,
   "id": "86d0be7a",
   "metadata": {},
   "outputs": [],
   "source": [
    "df_treino, df_teste = train_test_split(df, test_size = 0.15, random_state = 1)"
   ]
  },
  {
   "cell_type": "code",
   "execution_count": 6,
   "id": "aee4c8ea",
   "metadata": {},
   "outputs": [],
   "source": [
    "x_treino = df_treino[var_expl].copy()\n",
    "y_treino = df_treino[var_resp].copy()\n",
    "\n",
    "x_teste = df_teste[var_expl].copy()\n",
    "y_teste = df_teste[var_resp].copy()\n",
    "\n",
    "x_oculto = df_oculto[var_expl].copy()"
   ]
  },
  {
   "cell_type": "markdown",
   "id": "1d7b4011",
   "metadata": {},
   "source": [
    "## Pré-Processamento"
   ]
  },
  {
   "cell_type": "code",
   "execution_count": 7,
   "id": "a6720c04",
   "metadata": {},
   "outputs": [],
   "source": [
    "lista_ordenada = [\n",
    "    'Lower secondary',\n",
    "    'Secondary / secondary special', \n",
    "    'Incomplete higher',\n",
    "    'Higher education', \n",
    "    'Academic degree', \n",
    "]\n",
    "\n",
    "oe = OrdinalEncoder(categories = [lista_ordenada])\n",
    "\n",
    "oe.fit(x_treino[['NAME_EDUCATION_TYPE']])\n",
    "x_treino[['NAME_EDUCATION_TYPE']] = oe.transform(x_treino[['NAME_EDUCATION_TYPE']])\n",
    "x_teste[['NAME_EDUCATION_TYPE']] = oe.transform(x_teste[['NAME_EDUCATION_TYPE']])\n",
    "x_oculto[['NAME_EDUCATION_TYPE']] = oe.transform(x_oculto[['NAME_EDUCATION_TYPE']])"
   ]
  },
  {
   "cell_type": "markdown",
   "id": "55e46bd9",
   "metadata": {},
   "source": [
    "## Modelo e Métricas"
   ]
  },
  {
   "cell_type": "code",
   "execution_count": 11,
   "id": "281b00d8",
   "metadata": {},
   "outputs": [
    {
     "name": "stdout",
     "output_type": "stream",
     "text": [
      "CPU times: user 3min 1s, sys: 815 ms, total: 3min 2s\n",
      "Wall time: 3min 3s\n"
     ]
    }
   ],
   "source": [
    "%%time\n",
    "\n",
    "parametros = {\n",
    "    'n_estimators': [50, 100, 250, 500],\n",
    "    'learning_rate': [0.1, 0.01],\n",
    "}\n",
    "\n",
    "modelo = AdaBoostClassifier(\n",
    "    random_state = 1    \n",
    ")\n",
    "\n",
    "gscv = GridSearchCV(\n",
    "    estimator = modelo,\n",
    "    param_grid = parametros,\n",
    "    scoring = 'roc_auc',\n",
    "    refit = True,\n",
    "    cv = 2\n",
    ")\n",
    "\n",
    "gscv.fit(x_treino, y_treino)\n",
    "\n",
    "y_pred_treino = gscv.predict_proba(x_treino)[:, 1]\n",
    "y_pred_teste = gscv.predict_proba(x_teste)[:, 1]"
   ]
  },
  {
   "cell_type": "code",
   "execution_count": null,
   "id": "5c8f0b77",
   "metadata": {},
   "outputs": [],
   "source": [
    "gscv.best_params_"
   ]
  },
  {
   "cell_type": "code",
   "execution_count": 14,
   "id": "ca14eb0d",
   "metadata": {},
   "outputs": [
    {
     "data": {
      "text/plain": [
       "11.25"
      ]
     },
     "execution_count": 14,
     "metadata": {},
     "output_type": "execute_result"
    }
   ],
   "source": [
    "180/(16)"
   ]
  },
  {
   "cell_type": "code",
   "execution_count": 17,
   "id": "da3b91d5",
   "metadata": {},
   "outputs": [
    {
     "data": {
      "text/plain": [
       "4.0"
      ]
     },
     "execution_count": 17,
     "metadata": {},
     "output_type": "execute_result"
    }
   ],
   "source": [
    "11.25 * 1280 / 60 / 60"
   ]
  },
  {
   "cell_type": "code",
   "execution_count": 12,
   "id": "00e5f9fd",
   "metadata": {},
   "outputs": [
    {
     "data": {
      "text/plain": [
       "0.6322235803076812"
      ]
     },
     "execution_count": 12,
     "metadata": {},
     "output_type": "execute_result"
    }
   ],
   "source": [
    "roc_auc_score(y_treino, y_pred_treino)"
   ]
  },
  {
   "cell_type": "code",
   "execution_count": 13,
   "id": "fce01768",
   "metadata": {},
   "outputs": [
    {
     "data": {
      "text/plain": [
       "0.6218738343268031"
      ]
     },
     "execution_count": 13,
     "metadata": {},
     "output_type": "execute_result"
    }
   ],
   "source": [
    "roc_auc_score(y_teste, y_pred_teste)"
   ]
  },
  {
   "cell_type": "markdown",
   "id": "9d2dd7ea",
   "metadata": {},
   "source": [
    "## Previsão"
   ]
  },
  {
   "cell_type": "code",
   "execution_count": null,
   "id": "e5832333",
   "metadata": {},
   "outputs": [],
   "source": [
    "y_pred_oculto = modelo.predict_proba(x_oculto)[:, 1]\n",
    "df_oculto['Y_PRED'] = y_pred_oculto\n",
    "df_oculto[['SK_ID_CURR', 'Y_PRED']].head()"
   ]
  }
 ],
 "metadata": {
  "kernelspec": {
   "display_name": "Python 3 (ipykernel)",
   "language": "python",
   "name": "python3"
  },
  "language_info": {
   "codemirror_mode": {
    "name": "ipython",
    "version": 3
   },
   "file_extension": ".py",
   "mimetype": "text/x-python",
   "name": "python",
   "nbconvert_exporter": "python",
   "pygments_lexer": "ipython3",
   "version": "3.9.14"
  }
 },
 "nbformat": 4,
 "nbformat_minor": 5
}
