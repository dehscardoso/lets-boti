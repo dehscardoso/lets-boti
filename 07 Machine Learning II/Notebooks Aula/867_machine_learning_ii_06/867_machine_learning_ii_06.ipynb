{
 "cells": [
  {
   "cell_type": "markdown",
   "id": "78cf951b",
   "metadata": {},
   "source": [
    "# Na aula anterior..."
   ]
  },
  {
   "cell_type": "markdown",
   "id": "5f28b2bc",
   "metadata": {},
   "source": [
    "Qual o princípio base do SVM?"
   ]
  },
  {
   "cell_type": "raw",
   "id": "3f8d8da5",
   "metadata": {},
   "source": [
    "Modelo que vai encontrar uma fronteira ótima/equilibrada pra dividir as classes."
   ]
  },
  {
   "cell_type": "markdown",
   "id": "1c77fb0d",
   "metadata": {},
   "source": [
    "O SVM é um modelo linear?"
   ]
  },
  {
   "cell_type": "raw",
   "id": "b7c9031b",
   "metadata": {},
   "source": [
    "Depende da escolha do kernel."
   ]
  },
  {
   "cell_type": "markdown",
   "id": "ae37eeb8",
   "metadata": {},
   "source": [
    "# Lembrete"
   ]
  },
  {
   "cell_type": "markdown",
   "id": "47a5461c",
   "metadata": {},
   "source": [
    "- Projeto"
   ]
  },
  {
   "cell_type": "markdown",
   "id": "10adcfb9",
   "metadata": {},
   "source": [
    "# Hoje!"
   ]
  },
  {
   "cell_type": "markdown",
   "id": "26f46915",
   "metadata": {},
   "source": [
    "**Para vocês**: Utilizando o dataset do titanic, realizar o seguinte processo:\n",
    "\n",
    "1. Separar em dois dataframes de treino e teste.\n",
    "1. Rodar um modelo simples de **SVM**, sem uso de pipeline, usando como resposta Survived e Pclass e Age como explicativa, substituindo missing pela mediana com uso de SimplesImputer;\n",
    "2. Criar pipeline para rodar o modelo, adicionando apenas o SimpleImputer e o SVC - aqui, na hora do fit, passamos apenas as mesmas três colunas do step 2;\n",
    "3. Usar o ColumnTransformer para criar a pipeline - manteremos o modelo usando apenas as mesmas duas colunas do step 1, com a diferença agora que o fit recebe todas as colunas e o **ColumnTransformer fará a seleção**;\n",
    "4. Criar uma pipeline para dados numéricos (SimplesImputer com mediana, nas colunas Pclass, Age, SibSp e Parch) e uma outra pipeline para dados string (OrdinalEncoder, na coluna Sex, e SimpleImputer com a moda);\n",
    "6. Adicionar uma **camada final para todas as variáveis** para fazer um redimensionamento com StandardScaler.\n",
    "7. Refletir: podemos usar a coluna Name como variável explicativa para fazer previsão? É possível fazer algum pré-processamento nela?"
   ]
  },
  {
   "cell_type": "code",
   "execution_count": null,
   "id": "24e708a4",
   "metadata": {},
   "outputs": [],
   "source": [
    "x_treino = df_treino"
   ]
  },
  {
   "cell_type": "code",
   "execution_count": 5,
   "id": "d4990fe4",
   "metadata": {},
   "outputs": [],
   "source": [
    "from sklearn.compose import ColumnTransformer"
   ]
  },
  {
   "cell_type": "code",
   "execution_count": null,
   "id": "455e058e",
   "metadata": {},
   "outputs": [],
   "source": [
    "ColumnTransformer(transformers = [\n",
    "    ('preproc', pipe, var_expl)\n",
    "])"
   ]
  },
  {
   "cell_type": "markdown",
   "id": "b1df516f",
   "metadata": {},
   "source": [
    "## Algoritmos de Clusterização"
   ]
  },
  {
   "cell_type": "markdown",
   "id": "ac7596fb",
   "metadata": {},
   "source": [
    "### K-Means\n",
    "\n",
    "1. Escolha aleatória de K exemplos do conjunto de dados que serão os centróides iniciais;\n",
    "2. Por meio de uma métrica de proximidade, assimila cada instância do conjunto de dados a um centróide;\n",
    "3. Cria novos K centróides baseado na média de todos os exemplos associados a um centróide específico.\n",
    "4. Continua o processo 2 e 3 até que não exista nenhuma modificação de centróide.\n",
    "\n",
    "<img src=\"imagens/cluster_kmean.png\"/>"
   ]
  },
  {
   "cell_type": "code",
   "execution_count": null,
   "id": "1f171db3",
   "metadata": {},
   "outputs": [],
   "source": []
  },
  {
   "cell_type": "markdown",
   "id": "1f537490",
   "metadata": {},
   "source": [
    "### DBSCAN\n",
    "\n",
    "1. Dado um ponto p, encontra todos os pontos q que estão a uma distância igual ou inferior a $\\varepsilon$ de p;\n",
    "2. Repete o processo para todos os pontos encontrados, e para todos os pontos novos, recursivamente, determinando assim um grupo;\n",
    "3. Procura um ponto ainda não visitado para iniciar um novo grupo e repetir os passos 1 e 2.\n",
    "4. Determina como ruído os pontos que não fazem parte de nenhum grupo.\n",
    "\n",
    "<img src=\"imagens/cluster_dbscan.png\"/>"
   ]
  },
  {
   "cell_type": "code",
   "execution_count": null,
   "id": "d7d62c2f",
   "metadata": {},
   "outputs": [],
   "source": []
  }
 ],
 "metadata": {
  "kernelspec": {
   "display_name": "Python 3 (ipykernel)",
   "language": "python",
   "name": "python3"
  },
  "language_info": {
   "codemirror_mode": {
    "name": "ipython",
    "version": 3
   },
   "file_extension": ".py",
   "mimetype": "text/x-python",
   "name": "python",
   "nbconvert_exporter": "python",
   "pygments_lexer": "ipython3",
   "version": "3.9.14"
  }
 },
 "nbformat": 4,
 "nbformat_minor": 5
}
