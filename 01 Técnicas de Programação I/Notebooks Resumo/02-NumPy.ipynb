{
 "cells": [
  {
   "cell_type": "markdown",
   "id": "3232e804",
   "metadata": {},
   "source": [
    "<img src = \"https://images2.imgbox.com/a5/72/7ZbDUHlf_o.jpg\" width=\"200\">"
   ]
  },
  {
   "cell_type": "markdown",
   "id": "e9ffd767",
   "metadata": {},
   "source": [
    "# NumPy\n",
    "---\n",
    "\n",
    "## O que é o NumPy?\n",
    "\n",
    "O NumPy é uma poderosa biblioteca Python que é usada principalmente para realizar cálculos em Arrays Multidimensionais. O NumPy fornece um grande conjunto de funções e operações de biblioteca que ajudam os programadores a executar facilmente cálculos numéricos. Esses tipos de cálculos numéricos são amplamente utilizados em tarefas como:\n",
    "\n",
    "**Tarefas matemáticas:** NumPy é bastante útil para executar várias tarefas matemáticas como integração numérica, diferenciação, interpolação, extrapolação e muitas outras. O NumPy possui também funções incorporadas para álgebra linear e geração de números aleatórios. É uma biblioteca que pode ser usada em conjuto do SciPy e Matplotlib, substituindo o MATLAB quando se trata de tarefas matemáticas.\n",
    "\n",
    "**Processamento de Imagem e Computação Gráfica:** Imagens no computador são representadas como Arrays Multidimensionais de números. NumPy torna-se a escolha mais natural para o mesmo. O NumPy, na verdade, fornece algumas excelentes funções de biblioteca para rápida manipulação de imagens. Alguns exemplos são o espelhamento de uma imagem, a rotação de uma imagem por um determinado ângulo etc.\n",
    "\n",
    "**Modelos de Machine Learning:** Ao escrever algoritmos de Machine Learning, supõe-se que se realize vários cálculos numéricos em Array. Por exemplo, multiplicação de Arrays, transposição, adição, etc. O NumPy fornece uma excelente biblioteca para cálculos fáceis (em termos de escrita de código) e rápidos (em termos de velocidade). Os Arrays NumPy são usados para armazenar os dados de treinamento, bem como os parâmetros dos modelos de Machine Learning.\n",
    "\n",
    "**Instalando**\n",
    "\n",
    "Existem diversas formas de instalar o numpy. A mais simples é instalar o pacote Anaconda (https://www.anaconda.com/distribution/) que já vem com o Python e diversas bibliotecas científicas e ciência de dados instaladas.\n",
    "\n",
    "Outra forma, caso você já tenha o python instalado mas não o numpy, é o utilizar o gerenciador e pacotes pip, através do comando no seu terminal:"
   ]
  },
  {
   "cell_type": "code",
   "execution_count": 2,
   "id": "c428b676",
   "metadata": {},
   "outputs": [
    {
     "name": "stdout",
     "output_type": "stream",
     "text": [
      "Note: you may need to restart the kernel to use updated packages.\n"
     ]
    }
   ],
   "source": [
    "%pip install -q numpy"
   ]
  },
  {
   "cell_type": "markdown",
   "id": "599d84e3",
   "metadata": {},
   "source": [
    "## Explorando a API do NumPy\n",
    "\n",
    "Importando numppy com um alias **np**\n",
    "\n",
    "**np** é uma abreviação amplamente utilizada na comunidade python para o numpy."
   ]
  },
  {
   "cell_type": "code",
   "execution_count": 2,
   "id": "e174293a",
   "metadata": {},
   "outputs": [],
   "source": [
    "import numpy as np"
   ]
  },
  {
   "cell_type": "markdown",
   "id": "2c74a245",
   "metadata": {},
   "source": [
    "## 1D arrays\n",
    "Array unidimensional, também chamado de vetor ou até mesmo matriz de 1 dimensão:"
   ]
  },
  {
   "cell_type": "code",
   "execution_count": 5,
   "id": "3485eb8d",
   "metadata": {},
   "outputs": [],
   "source": [
    "a = np.array([1, 2, 3])"
   ]
  },
  {
   "cell_type": "markdown",
   "id": "200b6e23",
   "metadata": {},
   "source": [
    "Checando o tipo da variável a:"
   ]
  },
  {
   "cell_type": "code",
   "execution_count": 6,
   "id": "756457fd",
   "metadata": {},
   "outputs": [
    {
     "data": {
      "text/plain": [
       "numpy.ndarray"
      ]
     },
     "execution_count": 6,
     "metadata": {},
     "output_type": "execute_result"
    }
   ],
   "source": [
    "type(a)"
   ]
  },
  {
   "cell_type": "markdown",
   "id": "c360baad",
   "metadata": {},
   "source": [
    "o nd significa n-dimensional\n",
    "\n",
    "### Checando o tipo de dados do array\n",
    "\n",
    "Diversos tipos de dados são possíveis em um array numpy, os mais comuns são os numéricos:\n",
    "\n",
    "- int32\n",
    "- int64\n",
    "- float32\n",
    "- float64"
   ]
  },
  {
   "cell_type": "code",
   "execution_count": 7,
   "id": "edee01ca",
   "metadata": {},
   "outputs": [
    {
     "data": {
      "text/plain": [
       "dtype('int32')"
      ]
     },
     "execution_count": 7,
     "metadata": {},
     "output_type": "execute_result"
    }
   ],
   "source": [
    "a.dtype"
   ]
  },
  {
   "cell_type": "markdown",
   "id": "90ecd980",
   "metadata": {},
   "source": [
    "A consistência do dado é forte...\n",
    "\n",
    "Se trocarmos um elemento na posição 0 para o valor 10, dará certo:"
   ]
  },
  {
   "cell_type": "code",
   "execution_count": 8,
   "id": "afa34bfd",
   "metadata": {},
   "outputs": [
    {
     "data": {
      "text/plain": [
       "array([10,  2,  3])"
      ]
     },
     "execution_count": 8,
     "metadata": {},
     "output_type": "execute_result"
    }
   ],
   "source": [
    "a[0] = 10\n",
    "a"
   ]
  },
  {
   "cell_type": "markdown",
   "id": "627ff40f",
   "metadata": {},
   "source": [
    "Se trocarmos para ponto flutuante, o numpy irá truncar a parte decimal, dado que o array que criamos é inteiro."
   ]
  },
  {
   "cell_type": "code",
   "execution_count": 9,
   "id": "c62dd64f",
   "metadata": {},
   "outputs": [
    {
     "data": {
      "text/plain": [
       "array([1, 2, 3])"
      ]
     },
     "execution_count": 9,
     "metadata": {},
     "output_type": "execute_result"
    }
   ],
   "source": [
    "a[0] = 1.2\n",
    "a"
   ]
  },
  {
   "cell_type": "markdown",
   "id": "e42836c9",
   "metadata": {},
   "source": [
    "## 2D arrays\n",
    "Matrizes podem ser consideradas um **array** de 2 dimensões.\n",
    "\n",
    "---\n",
    "**Observação**\n",
    "\n",
    "O NumPy possui também uma estrutura, **matrix**, mas não é recomendado utilizá-la pela própria documentação oficial e poderá ser removida no futuro.\n",
    "\n",
    "---\n",
    "Para criar uma matriz, basta aninhar múltiplas listas dentro de uma lista, como o exemplo a seguir:"
   ]
  },
  {
   "cell_type": "code",
   "execution_count": 10,
   "id": "e5072382",
   "metadata": {},
   "outputs": [
    {
     "data": {
      "text/plain": [
       "array([[9., 8., 7.],\n",
       "       [6., 5., 4.]])"
      ]
     },
     "execution_count": 10,
     "metadata": {},
     "output_type": "execute_result"
    }
   ],
   "source": [
    "b = np.array([[9.0, 8.0, 7.0],\n",
    "              [6.0, 5.0, 4.0]])\n",
    "\n",
    "b"
   ]
  },
  {
   "cell_type": "markdown",
   "id": "f1189a05",
   "metadata": {},
   "source": [
    "## Propriedades\n",
    "\n",
    "**Dimensão e formato**\n",
    "\n",
    "Dois conceitos importantes já mencionados acima é o de dimensão e formato.\n",
    "\n",
    "Para descobrir essas informações, basta acessar os atributos ndim e shape"
   ]
  },
  {
   "cell_type": "code",
   "execution_count": 11,
   "id": "f3ddf42e",
   "metadata": {},
   "outputs": [
    {
     "data": {
      "text/plain": [
       "1"
      ]
     },
     "execution_count": 11,
     "metadata": {},
     "output_type": "execute_result"
    }
   ],
   "source": [
    "a.ndim"
   ]
  },
  {
   "cell_type": "code",
   "execution_count": 12,
   "id": "69484707",
   "metadata": {},
   "outputs": [
    {
     "data": {
      "text/plain": [
       "(3,)"
      ]
     },
     "execution_count": 12,
     "metadata": {},
     "output_type": "execute_result"
    }
   ],
   "source": [
    "a.shape"
   ]
  },
  {
   "cell_type": "code",
   "execution_count": 13,
   "id": "ac6c04d9",
   "metadata": {},
   "outputs": [
    {
     "data": {
      "text/plain": [
       "2"
      ]
     },
     "execution_count": 13,
     "metadata": {},
     "output_type": "execute_result"
    }
   ],
   "source": [
    "b.ndim"
   ]
  },
  {
   "cell_type": "code",
   "execution_count": 14,
   "id": "8b6d6a22",
   "metadata": {},
   "outputs": [
    {
     "data": {
      "text/plain": [
       "(2, 3)"
      ]
     },
     "execution_count": 14,
     "metadata": {},
     "output_type": "execute_result"
    }
   ],
   "source": [
    "b.shape"
   ]
  },
  {
   "cell_type": "markdown",
   "id": "12eb5c13",
   "metadata": {},
   "source": [
    "## Tipo de dado e tamanho\n",
    "\n",
    "Na sessão **Checando o tipo de dados do array** já foi dito dos tipos de dados, mas agora falaremos da diferença de tamanhos que isso ocupa na memória.\n",
    "\n",
    "Então, temos as variáveis **a** e **b** criadas anteriormente com os seguintes tipos:"
   ]
  },
  {
   "cell_type": "code",
   "execution_count": 15,
   "id": "092a473f",
   "metadata": {},
   "outputs": [
    {
     "data": {
      "text/plain": [
       "dtype('int32')"
      ]
     },
     "execution_count": 15,
     "metadata": {},
     "output_type": "execute_result"
    }
   ],
   "source": [
    "a.dtype"
   ]
  },
  {
   "cell_type": "code",
   "execution_count": 16,
   "id": "389ef162",
   "metadata": {},
   "outputs": [
    {
     "data": {
      "text/plain": [
       "dtype('float64')"
      ]
     },
     "execution_count": 16,
     "metadata": {},
     "output_type": "execute_result"
    }
   ],
   "source": [
    "b.dtype"
   ]
  },
  {
   "cell_type": "markdown",
   "id": "1c3a2578",
   "metadata": {},
   "source": [
    "Por padrão, se o python instalado é 64 bits, ele irá criar tipos **int** ou **float** de 64 bits. Caso seu python fosse 32 bits, seria **int32** e **float32**.\n",
    "\n",
    "Vamos criar uma outra array, **a16**, com o tipo inteiro de 16 bits."
   ]
  },
  {
   "cell_type": "code",
   "execution_count": 17,
   "id": "5aa04e17",
   "metadata": {},
   "outputs": [
    {
     "data": {
      "text/plain": [
       "array([1, 2, 3], dtype=int16)"
      ]
     },
     "execution_count": 17,
     "metadata": {},
     "output_type": "execute_result"
    }
   ],
   "source": [
    "a16 = np.array([1, 2, 3], dtype=np.int16)\n",
    "a16"
   ]
  },
  {
   "cell_type": "markdown",
   "id": "b39b5238",
   "metadata": {},
   "source": [
    "Note que por ser um tipo diferente do padrão, ele ressalta ao imprimir.\n",
    "\n",
    "Para descobrir quanto cada elemento individualmente ocupa na memória, podemos acessar o atributo **itemsize**:"
   ]
  },
  {
   "cell_type": "code",
   "execution_count": 18,
   "id": "11cd98ac",
   "metadata": {},
   "outputs": [
    {
     "data": {
      "text/plain": [
       "4"
      ]
     },
     "execution_count": 18,
     "metadata": {},
     "output_type": "execute_result"
    }
   ],
   "source": [
    "a.itemsize "
   ]
  },
  {
   "cell_type": "markdown",
   "id": "50761c31",
   "metadata": {},
   "source": [
    "Ele retorna 8 e não 64! Isso é porque ele já converteu os bits para bytes. Bytes é o conjunto de 8 bits.\n",
    "\n",
    "Logo:\n",
    "\n",
    "\\begin{aligned} \n",
    "\\frac{64}{8} = 8\n",
    "\\end{aligned}\n",
    "\n",
    "Já nosso array int16, temos:"
   ]
  },
  {
   "cell_type": "code",
   "execution_count": 20,
   "id": "5f6ce138",
   "metadata": {},
   "outputs": [
    {
     "data": {
      "text/plain": [
       "2"
      ]
     },
     "execution_count": 20,
     "metadata": {},
     "output_type": "execute_result"
    }
   ],
   "source": [
    "a16.itemsize"
   ]
  },
  {
   "cell_type": "markdown",
   "id": "a59a4450",
   "metadata": {},
   "source": [
    "Dado que:\n",
    "\n",
    "\\begin{aligned}\n",
    "\\frac{16}{8} = 2   \n",
    "\\end{aligned}"
   ]
  },
  {
   "cell_type": "code",
   "execution_count": 22,
   "id": "8bfc14b6",
   "metadata": {},
   "outputs": [
    {
     "data": {
      "text/plain": [
       "3"
      ]
     },
     "execution_count": 22,
     "metadata": {},
     "output_type": "execute_result"
    }
   ],
   "source": [
    "# quantidade de elementos total\n",
    "a.size"
   ]
  },
  {
   "cell_type": "markdown",
   "id": "4cca9efc",
   "metadata": {},
   "source": [
    "Quantidade de elementos vezes o tamanho de cada elemento nos dará o tamanho total de bytes que o array inteiro ocupa:"
   ]
  },
  {
   "cell_type": "code",
   "execution_count": 25,
   "id": "0d51ac1a",
   "metadata": {},
   "outputs": [
    {
     "data": {
      "text/plain": [
       "12"
      ]
     },
     "execution_count": 25,
     "metadata": {},
     "output_type": "execute_result"
    }
   ],
   "source": [
    "a.size * a.itemsize"
   ]
  },
  {
   "cell_type": "markdown",
   "id": "3c0061cf",
   "metadata": {},
   "source": [
    "Mas ao invés de calcular isso, podemos simplesmente acessar o atributo **nbytes**, que já é o tamanho total de bytes ocupado pelo array:"
   ]
  },
  {
   "cell_type": "code",
   "execution_count": 26,
   "id": "f53226e8",
   "metadata": {},
   "outputs": [
    {
     "data": {
      "text/plain": [
       "12"
      ]
     },
     "execution_count": 26,
     "metadata": {},
     "output_type": "execute_result"
    }
   ],
   "source": [
    "a.nbytes"
   ]
  },
  {
   "cell_type": "markdown",
   "id": "3a2d43a3",
   "metadata": {},
   "source": [
    "---\n",
    "**Observação**\n",
    "\n",
    "Geralmente não é necessário em reduzir o número de bits a não ser que você tenha certeza que um tamanho reduzido vai atender sua necessidade e você quer ser **extremamente** eficiente.\n",
    "\n",
    "---\n",
    "\n",
    "## Acessando e modificando elementos (Indexing & Slicing)\n",
    "\n",
    "Dada a matriz a abaixo:"
   ]
  },
  {
   "cell_type": "code",
   "execution_count": 58,
   "id": "59c62184",
   "metadata": {},
   "outputs": [
    {
     "name": "stdout",
     "output_type": "stream",
     "text": [
      "[[ 1  2  3  4  5  6  7]\n",
      " [ 8  9 10 11 12 13 14]]\n"
     ]
    }
   ],
   "source": [
    "a = np.array([[1, 2, 3, 4, 5, 6, 7], [8, 9, 10, 11, 12, 13, 14]])\n",
    "print(a)"
   ]
  },
  {
   "cell_type": "markdown",
   "id": "32cd6330",
   "metadata": {},
   "source": [
    "Podemos acessar um elemento específico de forma similar a lista, utilzando a sintaxe de colchetes, com a diferença de que podemos separar cada posição com vírgulas.\n",
    "\n",
    "Para uma array 2D, temos então a sintaxe:\n",
    "\n",
    "*[linha, coluna]*\n",
    "\n",
    "\n",
    "Exemplo:"
   ]
  },
  {
   "cell_type": "code",
   "execution_count": 59,
   "id": "eda84a19",
   "metadata": {},
   "outputs": [
    {
     "data": {
      "text/plain": [
       "13"
      ]
     },
     "execution_count": 59,
     "metadata": {},
     "output_type": "execute_result"
    }
   ],
   "source": [
    "a[1, 5]"
   ]
  },
  {
   "cell_type": "markdown",
   "id": "1db72d08",
   "metadata": {},
   "source": [
    "Podemos (menos comum) fazer dessa forma também:"
   ]
  },
  {
   "cell_type": "code",
   "execution_count": 60,
   "id": "28362745",
   "metadata": {},
   "outputs": [
    {
     "data": {
      "text/plain": [
       "13"
      ]
     },
     "execution_count": 60,
     "metadata": {},
     "output_type": "execute_result"
    }
   ],
   "source": [
    "a[1][5]"
   ]
  },
  {
   "cell_type": "markdown",
   "id": "d476a452",
   "metadata": {},
   "source": [
    "Usar números negativos funciona de trás pra frente a indexação:"
   ]
  },
  {
   "cell_type": "code",
   "execution_count": 61,
   "id": "8aa5cd57",
   "metadata": {},
   "outputs": [
    {
     "data": {
      "text/plain": [
       "13"
      ]
     },
     "execution_count": 61,
     "metadata": {},
     "output_type": "execute_result"
    }
   ],
   "source": [
    "a[1, -2]"
   ]
  },
  {
   "cell_type": "markdown",
   "id": "21413dcb",
   "metadata": {},
   "source": [
    "Pegar uma linha específica, podemos utilizar a sintaxe de : que pode ser lida como \"todos\" daquela dimensão (colunas).\n",
    "\n",
    "Podemos ler então como: linha zero, todas as colunas"
   ]
  },
  {
   "cell_type": "code",
   "execution_count": 62,
   "id": "45cc0925",
   "metadata": {},
   "outputs": [
    {
     "data": {
      "text/plain": [
       "array([1, 2, 3, 4, 5, 6, 7])"
      ]
     },
     "execution_count": 62,
     "metadata": {},
     "output_type": "execute_result"
    }
   ],
   "source": [
    "a[0, :]"
   ]
  },
  {
   "cell_type": "markdown",
   "id": "0bfa69b4",
   "metadata": {},
   "source": [
    "Também podemos fazer assim simplesmente:"
   ]
  },
  {
   "cell_type": "code",
   "execution_count": 63,
   "id": "6d855be8",
   "metadata": {},
   "outputs": [
    {
     "data": {
      "text/plain": [
       "array([1, 2, 3, 4, 5, 6, 7])"
      ]
     },
     "execution_count": 63,
     "metadata": {},
     "output_type": "execute_result"
    }
   ],
   "source": [
    "a[0]"
   ]
  },
  {
   "cell_type": "markdown",
   "id": "5ab3bd78",
   "metadata": {},
   "source": [
    "Porém, para coluna específica não tem jeito, precisamos usar **:**\n",
    "\n",
    "Leia-se: todas as linhas, coluna 2"
   ]
  },
  {
   "cell_type": "code",
   "execution_count": 64,
   "id": "95fdbc14",
   "metadata": {},
   "outputs": [
    {
     "data": {
      "text/plain": [
       "array([ 3, 10])"
      ]
     },
     "execution_count": 64,
     "metadata": {},
     "output_type": "execute_result"
    }
   ],
   "source": [
    "a[:, 2]"
   ]
  },
  {
   "cell_type": "markdown",
   "id": "5288a61c",
   "metadata": {},
   "source": [
    "O operador **:** também conhecido como slicing, aceita o parâmetro:\n",
    "\n",
    "- start\n",
    "- end\n",
    "- step\n",
    "\n",
    "No formato\n",
    "\n",
    "*[startindex:endindex:stepsize]*\n",
    "\n",
    "O stepsize basicamente é quantos elementos deve ser pular. Podemos pegar do elemento 1 ao 6 pulando de 2 em 2 por exemplo da linha 0."
   ]
  },
  {
   "cell_type": "code",
   "execution_count": 65,
   "id": "ad827d95",
   "metadata": {},
   "outputs": [
    {
     "data": {
      "text/plain": [
       "array([2, 4, 6])"
      ]
     },
     "execution_count": 65,
     "metadata": {},
     "output_type": "execute_result"
    }
   ],
   "source": [
    "a[0, 1:6:2]"
   ]
  },
  {
   "cell_type": "markdown",
   "id": "ca837899",
   "metadata": {},
   "source": [
    "Funciona com negativo também:"
   ]
  },
  {
   "cell_type": "code",
   "execution_count": 66,
   "id": "ab1afb08",
   "metadata": {},
   "outputs": [
    {
     "data": {
      "text/plain": [
       "array([2, 4, 6])"
      ]
     },
     "execution_count": 66,
     "metadata": {},
     "output_type": "execute_result"
    }
   ],
   "source": [
    "a[0, 1:-1:2]"
   ]
  },
  {
   "cell_type": "markdown",
   "id": "d753004c",
   "metadata": {},
   "source": [
    "Para mudar um elemento específico, basta usar o operador **=**"
   ]
  },
  {
   "cell_type": "code",
   "execution_count": 74,
   "id": "c779a3f7",
   "metadata": {},
   "outputs": [
    {
     "name": "stdout",
     "output_type": "stream",
     "text": [
      "[[ 1  2  5  4  5  6  7]\n",
      " [ 8  9  5 11 12 20 14]]\n"
     ]
    }
   ],
   "source": [
    "a[1,5] = 20\n",
    "print(a)"
   ]
  },
  {
   "cell_type": "markdown",
   "id": "b21a1992",
   "metadata": {},
   "source": [
    "Mudando uma coluna inteira para ser 5:"
   ]
  },
  {
   "cell_type": "code",
   "execution_count": 75,
   "id": "cbef9cbb",
   "metadata": {},
   "outputs": [
    {
     "name": "stdout",
     "output_type": "stream",
     "text": [
      "[[ 1  2  5  4  5  6  7]\n",
      " [ 8  9  5 11 12 20 14]]\n"
     ]
    }
   ],
   "source": [
    "a[:, 2] = 5\n",
    "print(a)"
   ]
  },
  {
   "cell_type": "markdown",
   "id": "60a44068",
   "metadata": {},
   "source": [
    "Isso mostra uma característica fundamental do array do NumPy:\n",
    "\n",
    "\n",
    "**Ao alterar o pedaço da matriz recortada, você altera a matriz original**\n",
    "\n",
    "Slicing em listas geram cópias!"
   ]
  },
  {
   "cell_type": "code",
   "execution_count": 38,
   "id": "d4c51042",
   "metadata": {},
   "outputs": [
    {
     "data": {
      "text/plain": [
       "[2, 3]"
      ]
     },
     "execution_count": 38,
     "metadata": {},
     "output_type": "execute_result"
    }
   ],
   "source": [
    "a = [1, 2, 3]\n",
    "b = a[1:]\n",
    "b"
   ]
  },
  {
   "cell_type": "code",
   "execution_count": 39,
   "id": "d28061c8",
   "metadata": {},
   "outputs": [
    {
     "data": {
      "text/plain": [
       "[1, 2, 3]"
      ]
     },
     "execution_count": 39,
     "metadata": {},
     "output_type": "execute_result"
    }
   ],
   "source": [
    "b = [10, 11]\n",
    "a"
   ]
  },
  {
   "cell_type": "code",
   "execution_count": 40,
   "id": "4545301b",
   "metadata": {},
   "outputs": [
    {
     "data": {
      "text/plain": [
       "[10, 11]"
      ]
     },
     "execution_count": 40,
     "metadata": {},
     "output_type": "execute_result"
    }
   ],
   "source": [
    "b"
   ]
  },
  {
   "cell_type": "markdown",
   "id": "c66fb7f3",
   "metadata": {},
   "source": [
    "Acessando o formato de um slicing:"
   ]
  },
  {
   "cell_type": "code",
   "execution_count": 68,
   "id": "738937e2",
   "metadata": {},
   "outputs": [
    {
     "data": {
      "text/plain": [
       "(2,)"
      ]
     },
     "execution_count": 68,
     "metadata": {},
     "output_type": "execute_result"
    }
   ],
   "source": [
    "a[:, 2].shape"
   ]
  },
  {
   "cell_type": "code",
   "execution_count": 72,
   "id": "8e02ad8d",
   "metadata": {},
   "outputs": [
    {
     "name": "stdout",
     "output_type": "stream",
     "text": [
      "[[ 1  2  5  4  5  6  7]\n",
      " [ 8  9 10 11 12 20 14]]\n"
     ]
    }
   ],
   "source": [
    "a[:,2] = [5, 10]\n",
    "print(a)"
   ]
  },
  {
   "cell_type": "markdown",
   "id": "da8655ca",
   "metadata": {},
   "source": [
    "Exemplo 3D"
   ]
  },
  {
   "cell_type": "code",
   "execution_count": 76,
   "id": "876bf7c4",
   "metadata": {},
   "outputs": [
    {
     "data": {
      "text/plain": [
       "array([[[1, 2],\n",
       "        [3, 4]],\n",
       "\n",
       "       [[5, 6],\n",
       "        [7, 8]]])"
      ]
     },
     "execution_count": 76,
     "metadata": {},
     "output_type": "execute_result"
    }
   ],
   "source": [
    "b = np.array([[[1, 2], [3,4]], [[5, 6], [7, 8]]])\n",
    "b"
   ]
  },
  {
   "cell_type": "markdown",
   "id": "3b7bf84c",
   "metadata": {},
   "source": [
    "Checando a dimensão:"
   ]
  },
  {
   "cell_type": "code",
   "execution_count": 77,
   "id": "59c8ad07",
   "metadata": {},
   "outputs": [
    {
     "data": {
      "text/plain": [
       "3"
      ]
     },
     "execution_count": 77,
     "metadata": {},
     "output_type": "execute_result"
    }
   ],
   "source": [
    "b.ndim"
   ]
  },
  {
   "cell_type": "markdown",
   "id": "e108285f",
   "metadata": {},
   "source": [
    "Retirando o elemento 4:"
   ]
  },
  {
   "cell_type": "code",
   "execution_count": 78,
   "id": "568897f4",
   "metadata": {},
   "outputs": [
    {
     "data": {
      "text/plain": [
       "4"
      ]
     },
     "execution_count": 78,
     "metadata": {},
     "output_type": "execute_result"
    }
   ],
   "source": [
    "b[0, 1, 1]"
   ]
  },
  {
   "cell_type": "markdown",
   "id": "f7d61da2",
   "metadata": {},
   "source": [
    "Pegando todos todos os elementos da posição 1 da dimensão 2:"
   ]
  },
  {
   "cell_type": "code",
   "execution_count": 79,
   "id": "0b275fbd",
   "metadata": {},
   "outputs": [
    {
     "data": {
      "text/plain": [
       "array([[3, 4],\n",
       "       [7, 8]])"
      ]
     },
     "execution_count": 79,
     "metadata": {},
     "output_type": "execute_result"
    }
   ],
   "source": [
    "b[:, 1, :]"
   ]
  },
  {
   "cell_type": "markdown",
   "id": "d0ca89dc",
   "metadata": {},
   "source": [
    "Substituindo:"
   ]
  },
  {
   "cell_type": "code",
   "execution_count": 81,
   "id": "e9fb9849",
   "metadata": {},
   "outputs": [
    {
     "data": {
      "text/plain": [
       "array([[[1, 2],\n",
       "        [9, 9]],\n",
       "\n",
       "       [[5, 6],\n",
       "        [8, 8]]])"
      ]
     },
     "execution_count": 81,
     "metadata": {},
     "output_type": "execute_result"
    }
   ],
   "source": [
    "b[:, 1, :] = [[9, 9], [8, 8]]\n",
    "b"
   ]
  },
  {
   "cell_type": "markdown",
   "id": "84ef08a3",
   "metadata": {},
   "source": [
    "## Inicializando arrays usando métodos internos\n",
    "\n",
    "O NumPy já possui diversos métodos built-in para gerar arrays dos mais diversos tipos\n",
    "\n",
    "array apenas com zeros"
   ]
  },
  {
   "cell_type": "code",
   "execution_count": 82,
   "id": "8c64599c",
   "metadata": {},
   "outputs": [
    {
     "data": {
      "text/plain": [
       "array([0., 0., 0., 0., 0.])"
      ]
     },
     "execution_count": 82,
     "metadata": {},
     "output_type": "execute_result"
    }
   ],
   "source": [
    "np.zeros(5)"
   ]
  },
  {
   "cell_type": "markdown",
   "id": "4b7142af",
   "metadata": {},
   "source": [
    "É possível gerar um array de qualquer formato, basta apenasr passar o formato como uma sequência (lista, tupla geralmente) como argumento"
   ]
  },
  {
   "cell_type": "code",
   "execution_count": 83,
   "id": "aceaef02",
   "metadata": {},
   "outputs": [
    {
     "data": {
      "text/plain": [
       "array([[0., 0., 0.],\n",
       "       [0., 0., 0.]])"
      ]
     },
     "execution_count": 83,
     "metadata": {},
     "output_type": "execute_result"
    }
   ],
   "source": [
    "np.zeros((2, 3))"
   ]
  },
  {
   "cell_type": "code",
   "execution_count": 84,
   "id": "fc3ddaaf",
   "metadata": {},
   "outputs": [
    {
     "data": {
      "text/plain": [
       "array([[[0., 0., 0.],\n",
       "        [0., 0., 0.]],\n",
       "\n",
       "       [[0., 0., 0.],\n",
       "        [0., 0., 0.]]])"
      ]
     },
     "execution_count": 84,
     "metadata": {},
     "output_type": "execute_result"
    }
   ],
   "source": [
    "np.zeros((2, 2, 3))"
   ]
  },
  {
   "cell_type": "markdown",
   "id": "9ca3066a",
   "metadata": {},
   "source": [
    "array apenas com uns"
   ]
  },
  {
   "cell_type": "code",
   "execution_count": 85,
   "id": "5894c04d",
   "metadata": {},
   "outputs": [
    {
     "data": {
      "text/plain": [
       "array([[[1, 1],\n",
       "        [1, 1]],\n",
       "\n",
       "       [[1, 1],\n",
       "        [1, 1]],\n",
       "\n",
       "       [[1, 1],\n",
       "        [1, 1]],\n",
       "\n",
       "       [[1, 1],\n",
       "        [1, 1]]])"
      ]
     },
     "execution_count": 85,
     "metadata": {},
     "output_type": "execute_result"
    }
   ],
   "source": [
    "np.ones((4, 2, 2), dtype='int32')"
   ]
  },
  {
   "cell_type": "markdown",
   "id": "beb97093",
   "metadata": {},
   "source": [
    "Um coisa muito comum é usar o **np.ones** para criar uma matriz de qualquer número fazendo a operação, exemplo:"
   ]
  },
  {
   "cell_type": "code",
   "execution_count": 86,
   "id": "24d127ad",
   "metadata": {},
   "outputs": [
    {
     "data": {
      "text/plain": [
       "array([[10., 10.],\n",
       "       [10., 10.]])"
      ]
     },
     "execution_count": 86,
     "metadata": {},
     "output_type": "execute_result"
    }
   ],
   "source": [
    "np.ones((2, 2)) * 10"
   ]
  },
  {
   "cell_type": "markdown",
   "id": "7a50faef",
   "metadata": {},
   "source": [
    "Mas o numpy já tem uma opção mais elegante, o **full**:"
   ]
  },
  {
   "cell_type": "code",
   "execution_count": 87,
   "id": "3d017042",
   "metadata": {},
   "outputs": [
    {
     "data": {
      "text/plain": [
       "array([[99, 99],\n",
       "       [99, 99]])"
      ]
     },
     "execution_count": 87,
     "metadata": {},
     "output_type": "execute_result"
    }
   ],
   "source": [
    "np.full((2, 2), 99)"
   ]
  },
  {
   "cell_type": "markdown",
   "id": "57b0a24c",
   "metadata": {},
   "source": [
    "Qualquer outro número copiando o formato de uma matriz existente"
   ]
  },
  {
   "cell_type": "code",
   "execution_count": 88,
   "id": "e5366025",
   "metadata": {},
   "outputs": [
    {
     "data": {
      "text/plain": [
       "array([[4, 4, 4, 4, 4, 4, 4],\n",
       "       [4, 4, 4, 4, 4, 4, 4]])"
      ]
     },
     "execution_count": 88,
     "metadata": {},
     "output_type": "execute_result"
    }
   ],
   "source": [
    "np.full_like(a, 4)"
   ]
  },
  {
   "cell_type": "markdown",
   "id": "9b5e07ce",
   "metadata": {},
   "source": [
    "## Números decimais aleatórios\n",
    "\n",
    "O numpy tem um sub-módulo chamado **random**, que pode ser acessando via **np.random**.\n",
    "\n",
    "Nele, tem um conjunto de funções para números aleatórios."
   ]
  },
  {
   "cell_type": "code",
   "execution_count": 89,
   "id": "e94edd4a",
   "metadata": {},
   "outputs": [
    {
     "data": {
      "text/plain": [
       "array([[0.85150062, 0.41299629],\n",
       "       [0.29541332, 0.01183912],\n",
       "       [0.78432753, 0.74989619],\n",
       "       [0.11526857, 0.45595742]])"
      ]
     },
     "execution_count": 89,
     "metadata": {},
     "output_type": "execute_result"
    }
   ],
   "source": [
    "np.random.random_sample((4, 2))"
   ]
  },
  {
   "cell_type": "markdown",
   "id": "29cc95dd",
   "metadata": {},
   "source": [
    "Função igual a de cima, mas padrão do MATLAB (observe que não é uma tupla/lista o formato):"
   ]
  },
  {
   "cell_type": "code",
   "execution_count": 90,
   "id": "b7bb0d5b",
   "metadata": {},
   "outputs": [
    {
     "data": {
      "text/plain": [
       "array([[0.87048254, 0.45840714],\n",
       "       [0.37205173, 0.29442997],\n",
       "       [0.34928094, 0.65704616],\n",
       "       [0.89332957, 0.16236524]])"
      ]
     },
     "execution_count": 90,
     "metadata": {},
     "output_type": "execute_result"
    }
   ],
   "source": [
    "np.random.rand(4, 2)"
   ]
  },
  {
   "cell_type": "markdown",
   "id": "e4364ad9",
   "metadata": {},
   "source": [
    "Números inteiros:"
   ]
  },
  {
   "cell_type": "code",
   "execution_count": 91,
   "id": "26ba6cb8",
   "metadata": {},
   "outputs": [
    {
     "data": {
      "text/plain": [
       "array([[5, 4, 2],\n",
       "       [5, 6, 0],\n",
       "       [4, 0, 6]])"
      ]
     },
     "execution_count": 91,
     "metadata": {},
     "output_type": "execute_result"
    }
   ],
   "source": [
    "np.random.randint(7, size=(3, 3))"
   ]
  },
  {
   "cell_type": "markdown",
   "id": "754303a5",
   "metadata": {},
   "source": [
    "Os argumentos principais são low, high e size, exemplo: criando uma matriz de 0 a 99 de 100 elementos:"
   ]
  },
  {
   "cell_type": "code",
   "execution_count": 92,
   "id": "a86808dd",
   "metadata": {},
   "outputs": [
    {
     "data": {
      "text/plain": [
       "array([40, 79, 69, 86, 73, 42, 96, 27, 71, 91, 94,  9, 48, 60, 19,  3, 77,\n",
       "       79, 78, 15, 95, 66, 76, 94, 76, 68, 51, 34,  1, 32, 67, 81, 13, 70,\n",
       "       53,  8, 26, 95, 81, 84, 82, 25, 76,  8, 53, 50, 96, 87, 52, 51, 29,\n",
       "       78, 28, 51, 77,  3,  4, 20, 59, 28, 61, 81,  6, 18, 92, 79, 18, 14,\n",
       "       75, 40, 47, 61, 72, 73,  3, 73,  4, 23, 37,  5, 40, 28, 45, 19, 20,\n",
       "       67, 81, 44, 27, 82, 64, 74, 99, 66, 46, 24, 22, 99, 44, 42])"
      ]
     },
     "execution_count": 92,
     "metadata": {},
     "output_type": "execute_result"
    }
   ],
   "source": [
    "np.random.randint(0, high=100, size=100)"
   ]
  },
  {
   "cell_type": "markdown",
   "id": "3eef5911",
   "metadata": {},
   "source": [
    "Para incluir o 100, basta trocar o high por 101\n",
    "\n",
    "### Matriz identidade\n",
    "\n",
    "Diagonal inteira com 1. É sempre uma matriz quadrada."
   ]
  },
  {
   "cell_type": "code",
   "execution_count": 93,
   "id": "8e77b192",
   "metadata": {},
   "outputs": [
    {
     "data": {
      "text/plain": [
       "array([[1., 0., 0.],\n",
       "       [0., 1., 0.],\n",
       "       [0., 0., 1.]])"
      ]
     },
     "execution_count": 93,
     "metadata": {},
     "output_type": "execute_result"
    }
   ],
   "source": [
    "np.identity(3)"
   ]
  },
  {
   "cell_type": "markdown",
   "id": "c27b08a9",
   "metadata": {},
   "source": [
    "### repeat\n",
    "\n",
    "Método para repetir uma determinada array na direção do eixo escolhido.\n",
    "\n",
    "Esse é a primeira função, de várias, que possui o parâmetro **axis**.\n",
    "\n",
    "Diversas vezes o numpy permite fazer uma operação, nesse caso, **repeat**, no qual é opcional ou necessário dizer qual o eixo da operação.\n",
    "\n",
    "Para um vetor de 1D, temos apenas 1 eixo, mas para matrizes, tempos dois:\n",
    "\n",
    "O eixo 0 é linha, o eixo 1 é coluna"
   ]
  },
  {
   "cell_type": "code",
   "execution_count": 11,
   "id": "bd80c4db",
   "metadata": {},
   "outputs": [
    {
     "name": "stdout",
     "output_type": "stream",
     "text": [
      "[1 1 1 2 2 2 3 3 3]\n"
     ]
    }
   ],
   "source": [
    "arr = np.array([1, 2, 3])\n",
    "r1 = np.repeat(arr, 3)\n",
    "print(r1)"
   ]
  },
  {
   "cell_type": "markdown",
   "id": "2708d6ff",
   "metadata": {},
   "source": [
    "Com axis = 0"
   ]
  },
  {
   "cell_type": "code",
   "execution_count": 12,
   "id": "acfed0e1",
   "metadata": {},
   "outputs": [
    {
     "name": "stdout",
     "output_type": "stream",
     "text": [
      "[[1 2 3]\n",
      " [1 2 3]\n",
      " [1 2 3]]\n"
     ]
    }
   ],
   "source": [
    "arr = np.array([[1, 2, 3]])\n",
    "r1 = np.repeat(arr, 3, axis=0)\n",
    "print(r1)"
   ]
  },
  {
   "cell_type": "markdown",
   "id": "e26d1a61",
   "metadata": {},
   "source": [
    "Com axis = 1"
   ]
  },
  {
   "cell_type": "code",
   "execution_count": 13,
   "id": "87276956",
   "metadata": {},
   "outputs": [
    {
     "name": "stdout",
     "output_type": "stream",
     "text": [
      "[[1 1 1 2 2 2 3 3 3]]\n"
     ]
    }
   ],
   "source": [
    "arr = np.array([[1, 2, 3]])\n",
    "r1 = np.repeat(arr, 3, axis=1)\n",
    "print(r1)"
   ]
  },
  {
   "cell_type": "markdown",
   "id": "987cbb94",
   "metadata": {},
   "source": [
    "### arange\n",
    "\n",
    "Função que retorna elementos igualmente espaçados num step (por padrão, 1) dentro de um certo intervalo."
   ]
  },
  {
   "cell_type": "code",
   "execution_count": 97,
   "id": "d60b8ade",
   "metadata": {},
   "outputs": [
    {
     "data": {
      "text/plain": [
       "array([0, 1, 2, 3, 4, 5, 6, 7, 8, 9])"
      ]
     },
     "execution_count": 97,
     "metadata": {},
     "output_type": "execute_result"
    }
   ],
   "source": [
    "np.arange(0, 10)"
   ]
  },
  {
   "cell_type": "markdown",
   "id": "d6886cf0",
   "metadata": {},
   "source": [
    "Step diferente de 1:"
   ]
  },
  {
   "cell_type": "code",
   "execution_count": 98,
   "id": "45a01c01",
   "metadata": {},
   "outputs": [
    {
     "data": {
      "text/plain": [
       "array([ 0. ,  0.1,  0.2,  0.3,  0.4,  0.5,  0.6,  0.7,  0.8,  0.9,  1. ,\n",
       "        1.1,  1.2,  1.3,  1.4,  1.5,  1.6,  1.7,  1.8,  1.9,  2. ,  2.1,\n",
       "        2.2,  2.3,  2.4,  2.5,  2.6,  2.7,  2.8,  2.9,  3. ,  3.1,  3.2,\n",
       "        3.3,  3.4,  3.5,  3.6,  3.7,  3.8,  3.9,  4. ,  4.1,  4.2,  4.3,\n",
       "        4.4,  4.5,  4.6,  4.7,  4.8,  4.9,  5. ,  5.1,  5.2,  5.3,  5.4,\n",
       "        5.5,  5.6,  5.7,  5.8,  5.9,  6. ,  6.1,  6.2,  6.3,  6.4,  6.5,\n",
       "        6.6,  6.7,  6.8,  6.9,  7. ,  7.1,  7.2,  7.3,  7.4,  7.5,  7.6,\n",
       "        7.7,  7.8,  7.9,  8. ,  8.1,  8.2,  8.3,  8.4,  8.5,  8.6,  8.7,\n",
       "        8.8,  8.9,  9. ,  9.1,  9.2,  9.3,  9.4,  9.5,  9.6,  9.7,  9.8,\n",
       "        9.9, 10. , 10.1, 10.2, 10.3, 10.4, 10.5, 10.6, 10.7, 10.8, 10.9])"
      ]
     },
     "execution_count": 98,
     "metadata": {},
     "output_type": "execute_result"
    }
   ],
   "source": [
    "np.arange(0, 11, 0.1)"
   ]
  },
  {
   "cell_type": "markdown",
   "id": "8e7db69b",
   "metadata": {},
   "source": [
    "### linspace\n",
    "\n",
    "Parecido com o arange, mas você diz quantos pontos você quer e o intervalo e ele define o espaçamento linear"
   ]
  },
  {
   "cell_type": "code",
   "execution_count": 3,
   "id": "359771ce",
   "metadata": {},
   "outputs": [
    {
     "data": {
      "text/plain": [
       "array([  0.        ,  11.11111111,  22.22222222,  33.33333333,\n",
       "        44.44444444,  55.55555556,  66.66666667,  77.77777778,\n",
       "        88.88888889, 100.        ])"
      ]
     },
     "execution_count": 3,
     "metadata": {},
     "output_type": "execute_result"
    }
   ],
   "source": [
    "np.linspace(0, 100, num=10)"
   ]
  },
  {
   "cell_type": "markdown",
   "id": "81f71cf2",
   "metadata": {},
   "source": [
    "Tenha cuidado ao copiar arrays!\n",
    "\n",
    "Jeito errado"
   ]
  },
  {
   "cell_type": "code",
   "execution_count": 100,
   "id": "c7efff2c",
   "metadata": {},
   "outputs": [
    {
     "data": {
      "text/plain": [
       "array([1, 2, 3])"
      ]
     },
     "execution_count": 100,
     "metadata": {},
     "output_type": "execute_result"
    }
   ],
   "source": [
    "a = np.array([1, 2, 3])\n",
    "b = a\n",
    "b"
   ]
  },
  {
   "cell_type": "code",
   "execution_count": 101,
   "id": "77f4edb1",
   "metadata": {},
   "outputs": [
    {
     "data": {
      "text/plain": [
       "array([100,   2,   3])"
      ]
     },
     "execution_count": 101,
     "metadata": {},
     "output_type": "execute_result"
    }
   ],
   "source": [
    "b[0] = 100\n",
    "b"
   ]
  },
  {
   "cell_type": "code",
   "execution_count": 102,
   "id": "6ab020ed",
   "metadata": {},
   "outputs": [
    {
     "data": {
      "text/plain": [
       "array([100,   2,   3])"
      ]
     },
     "execution_count": 102,
     "metadata": {},
     "output_type": "execute_result"
    }
   ],
   "source": [
    "a"
   ]
  },
  {
   "cell_type": "markdown",
   "id": "56c21539",
   "metadata": {},
   "source": [
    "a também foi modificado!\n",
    "\n",
    "Jeito certo (seguro)"
   ]
  },
  {
   "cell_type": "code",
   "execution_count": 103,
   "id": "f249dd1f",
   "metadata": {},
   "outputs": [
    {
     "data": {
      "text/plain": [
       "array([1, 2, 3])"
      ]
     },
     "execution_count": 103,
     "metadata": {},
     "output_type": "execute_result"
    }
   ],
   "source": [
    "a = np.array([1, 2, 3])\n",
    "b = a.copy()\n",
    "b"
   ]
  },
  {
   "cell_type": "code",
   "execution_count": 104,
   "id": "d502c5f7",
   "metadata": {},
   "outputs": [
    {
     "data": {
      "text/plain": [
       "array([100,   2,   3])"
      ]
     },
     "execution_count": 104,
     "metadata": {},
     "output_type": "execute_result"
    }
   ],
   "source": [
    "b[0] = 100\n",
    "b"
   ]
  },
  {
   "cell_type": "code",
   "execution_count": 105,
   "id": "a1ce14d0",
   "metadata": {},
   "outputs": [
    {
     "data": {
      "text/plain": [
       "array([1, 2, 3])"
      ]
     },
     "execution_count": 105,
     "metadata": {},
     "output_type": "execute_result"
    }
   ],
   "source": [
    "a"
   ]
  },
  {
   "cell_type": "markdown",
   "id": "db253ca6",
   "metadata": {},
   "source": [
    "## Matemática\n",
    "\n",
    "O numpy te fornece um conjunto de funções matemáticas:"
   ]
  },
  {
   "cell_type": "code",
   "execution_count": 107,
   "id": "e854d296",
   "metadata": {},
   "outputs": [
    {
     "data": {
      "text/plain": [
       "array([1, 2, 3, 4])"
      ]
     },
     "execution_count": 107,
     "metadata": {},
     "output_type": "execute_result"
    }
   ],
   "source": [
    "a = np.array([1, 2, 3, 4])\n",
    "a"
   ]
  },
  {
   "cell_type": "markdown",
   "id": "bac669ea",
   "metadata": {},
   "source": [
    "### Operação com escalares\n",
    "\n",
    "Soma:"
   ]
  },
  {
   "cell_type": "code",
   "execution_count": 108,
   "id": "52c7dc9b",
   "metadata": {},
   "outputs": [
    {
     "data": {
      "text/plain": [
       "array([3, 4, 5, 6])"
      ]
     },
     "execution_count": 108,
     "metadata": {},
     "output_type": "execute_result"
    }
   ],
   "source": [
    "a + 2"
   ]
  },
  {
   "cell_type": "markdown",
   "id": "c3a10324",
   "metadata": {},
   "source": [
    "Subtração:"
   ]
  },
  {
   "cell_type": "code",
   "execution_count": 109,
   "id": "3715ebb8",
   "metadata": {},
   "outputs": [
    {
     "data": {
      "text/plain": [
       "array([-1,  0,  1,  2])"
      ]
     },
     "execution_count": 109,
     "metadata": {},
     "output_type": "execute_result"
    }
   ],
   "source": [
    "a - 2"
   ]
  },
  {
   "cell_type": "markdown",
   "id": "27adee30",
   "metadata": {},
   "source": [
    "Multiplicação:"
   ]
  },
  {
   "cell_type": "code",
   "execution_count": 111,
   "id": "2d895775",
   "metadata": {},
   "outputs": [
    {
     "data": {
      "text/plain": [
       "array([2, 4, 6, 8])"
      ]
     },
     "execution_count": 111,
     "metadata": {},
     "output_type": "execute_result"
    }
   ],
   "source": [
    "a * 2"
   ]
  },
  {
   "cell_type": "markdown",
   "id": "d8c78ba7",
   "metadata": {},
   "source": [
    "Divisão:"
   ]
  },
  {
   "cell_type": "code",
   "execution_count": 112,
   "id": "f19167d2",
   "metadata": {},
   "outputs": [
    {
     "data": {
      "text/plain": [
       "array([0.5, 1. , 1.5, 2. ])"
      ]
     },
     "execution_count": 112,
     "metadata": {},
     "output_type": "execute_result"
    }
   ],
   "source": [
    "a / 2"
   ]
  },
  {
   "cell_type": "markdown",
   "id": "ab025b5b",
   "metadata": {},
   "source": [
    "Incrementar:"
   ]
  },
  {
   "cell_type": "code",
   "execution_count": 113,
   "id": "f3ec44e0",
   "metadata": {},
   "outputs": [
    {
     "data": {
      "text/plain": [
       "array([3, 4, 5, 6])"
      ]
     },
     "execution_count": 113,
     "metadata": {},
     "output_type": "execute_result"
    }
   ],
   "source": [
    "a += 2\n",
    "a"
   ]
  },
  {
   "cell_type": "markdown",
   "id": "a7476eff",
   "metadata": {},
   "source": [
    "Potência:"
   ]
  },
  {
   "cell_type": "code",
   "execution_count": 114,
   "id": "7d8163a4",
   "metadata": {},
   "outputs": [
    {
     "data": {
      "text/plain": [
       "array([ 9, 16, 25, 36], dtype=int32)"
      ]
     },
     "execution_count": 114,
     "metadata": {},
     "output_type": "execute_result"
    }
   ],
   "source": [
    "a ** 2"
   ]
  },
  {
   "cell_type": "markdown",
   "id": "fd3dde72",
   "metadata": {},
   "source": [
    "## Operação entre arrays\n",
    "\n",
    "Tudo que você consegue fazer com escalar, você consegue fazer com arrays elemento-a-elemnto, por exemplo, para soma:"
   ]
  },
  {
   "cell_type": "code",
   "execution_count": null,
   "id": "8a2b09cb",
   "metadata": {},
   "outputs": [],
   "source": [
    "a = np.array([1, 2, 3, 4])\n",
    "b = np.array([1, 0, 1, 0])\n",
    "a + b"
   ]
  },
  {
   "cell_type": "markdown",
   "id": "359d9945",
   "metadata": {},
   "source": [
    "### Funções matemáticas\n",
    "\n",
    "Função seno:"
   ]
  },
  {
   "cell_type": "code",
   "execution_count": 115,
   "id": "0bb8a6a1",
   "metadata": {},
   "outputs": [
    {
     "data": {
      "text/plain": [
       "array([ 0.14112001, -0.7568025 , -0.95892427, -0.2794155 ])"
      ]
     },
     "execution_count": 115,
     "metadata": {},
     "output_type": "execute_result"
    }
   ],
   "source": [
    "np.sin(a)"
   ]
  },
  {
   "cell_type": "markdown",
   "id": "ac664496",
   "metadata": {},
   "source": [
    "Funçõa cosseno:"
   ]
  },
  {
   "cell_type": "code",
   "execution_count": 116,
   "id": "f46880c8",
   "metadata": {},
   "outputs": [
    {
     "data": {
      "text/plain": [
       "array([-0.9899925 , -0.65364362,  0.28366219,  0.96017029])"
      ]
     },
     "execution_count": 116,
     "metadata": {},
     "output_type": "execute_result"
    }
   ],
   "source": [
    "np.cos(a)"
   ]
  },
  {
   "cell_type": "markdown",
   "id": "fa9f481c",
   "metadata": {},
   "source": [
    "## Álgebra Linear\n",
    "Da definição do Wikipédia:\n",
    "\n",
    "> *Álgebra linear é um ramo da matemática que surgiu do estudo detalhado de sistemas de equações lineares, sejam elas algébricas ou diferenciais. A álgebra linear utiliza alguns conceitos e estruturas fundamentais da matemática como vetores, espaços vetoriais, transformações lineares, sistemas de equações lineares e matrizes.*\n",
    "\n",
    "O numpy nos permite executar diversas diversas operações de álgebra linear, mostradas a seguir:"
   ]
  },
  {
   "cell_type": "code",
   "execution_count": 117,
   "id": "bdc627f4",
   "metadata": {},
   "outputs": [
    {
     "name": "stdout",
     "output_type": "stream",
     "text": [
      "[[1. 1. 1.]\n",
      " [1. 1. 1.]]\n"
     ]
    }
   ],
   "source": [
    "a = np.ones((2, 3))\n",
    "print(a)"
   ]
  },
  {
   "cell_type": "code",
   "execution_count": 118,
   "id": "53e42a35",
   "metadata": {},
   "outputs": [
    {
     "name": "stdout",
     "output_type": "stream",
     "text": [
      "[[2 2]\n",
      " [2 2]\n",
      " [2 2]]\n"
     ]
    }
   ],
   "source": [
    "b = np.full((3, 2), 2)\n",
    "print(b)"
   ]
  },
  {
   "cell_type": "markdown",
   "id": "3d296e11",
   "metadata": {},
   "source": [
    "### Transposição\n",
    "\n",
    "A operação de transposição\n",
    "\n",
    "<img src = \"https://images2.imgbox.com/8c/14/WvPPSmul_o.png\" width=\"400\">\n",
    "\n",
    "Pode ser feita da seguinte forma:"
   ]
  },
  {
   "cell_type": "code",
   "execution_count": 119,
   "id": "de72185d",
   "metadata": {},
   "outputs": [
    {
     "data": {
      "text/plain": [
       "array([[1., 1.],\n",
       "       [1., 1.],\n",
       "       [1., 1.]])"
      ]
     },
     "execution_count": 119,
     "metadata": {},
     "output_type": "execute_result"
    }
   ],
   "source": [
    "np.transpose(a)"
   ]
  },
  {
   "cell_type": "markdown",
   "id": "4704f84b",
   "metadata": {},
   "source": [
    "Ou acessando o atributo **T**:"
   ]
  },
  {
   "cell_type": "code",
   "execution_count": 120,
   "id": "560b5151",
   "metadata": {},
   "outputs": [
    {
     "data": {
      "text/plain": [
       "array([[1., 1.],\n",
       "       [1., 1.],\n",
       "       [1., 1.]])"
      ]
     },
     "execution_count": 120,
     "metadata": {},
     "output_type": "execute_result"
    }
   ],
   "source": [
    "a.T"
   ]
  },
  {
   "cell_type": "markdown",
   "id": "62b8d391",
   "metadata": {},
   "source": [
    "### Multiplicação de matrizes\n",
    "\n",
    "A tradicional multiplicação de matrizes, como mostra a imagem abaixo:\n",
    "\n",
    "<img src = \"https://images2.imgbox.com/4f/5f/oelIZpFi_o.gif\" width=\"500\">\n",
    "\n",
    "Pode ser feita no numpy simplesmente chamando **matmul**"
   ]
  },
  {
   "cell_type": "code",
   "execution_count": 123,
   "id": "10cfe4ba",
   "metadata": {},
   "outputs": [
    {
     "data": {
      "text/plain": [
       "array([[6., 6.],\n",
       "       [6., 6.]])"
      ]
     },
     "execution_count": 123,
     "metadata": {},
     "output_type": "execute_result"
    }
   ],
   "source": [
    "np.matmul(a, b)"
   ]
  },
  {
   "cell_type": "markdown",
   "id": "248c2d00",
   "metadata": {},
   "source": [
    "Operador **@** executa a função anterior:"
   ]
  },
  {
   "cell_type": "code",
   "execution_count": 124,
   "id": "ce55781a",
   "metadata": {},
   "outputs": [
    {
     "data": {
      "text/plain": [
       "array([[6., 6.],\n",
       "       [6., 6.]])"
      ]
     },
     "execution_count": 124,
     "metadata": {},
     "output_type": "execute_result"
    }
   ],
   "source": [
    "a @ b"
   ]
  },
  {
   "cell_type": "markdown",
   "id": "ea23afe5",
   "metadata": {},
   "source": [
    "Encontrar o determinante"
   ]
  },
  {
   "cell_type": "code",
   "execution_count": 125,
   "id": "0cbbe8eb",
   "metadata": {},
   "outputs": [
    {
     "name": "stdout",
     "output_type": "stream",
     "text": [
      "[[1. 0. 0.]\n",
      " [0. 1. 0.]\n",
      " [0. 0. 1.]]\n"
     ]
    }
   ],
   "source": [
    "c = np.identity(3)\n",
    "print(c)"
   ]
  },
  {
   "cell_type": "code",
   "execution_count": 126,
   "id": "31fb197b",
   "metadata": {},
   "outputs": [
    {
     "data": {
      "text/plain": [
       "1.0"
      ]
     },
     "execution_count": 126,
     "metadata": {},
     "output_type": "execute_result"
    }
   ],
   "source": [
    "np.linalg.det(c)"
   ]
  },
  {
   "cell_type": "markdown",
   "id": "8f04a3d8",
   "metadata": {},
   "source": [
    "Outras funcções de Álgebra Linear: https://docs.scipy.org/doc/numpy/reference/routines.linalg.html\n",
    "\n",
    "- Trace\n",
    "- Decomposição de vetores\n",
    "- Autovalor/autovetor\n",
    "- Norma da Matriz\n",
    "- Inversa\n",
    "- Etc...\n",
    "\n",
    "## Estatística\n",
    "\n",
    "O numpy vem com várias funções básicas de estatística, como mínimo, máximo, média, mediana, etc."
   ]
  },
  {
   "cell_type": "code",
   "execution_count": 127,
   "id": "1ba5fbde",
   "metadata": {},
   "outputs": [
    {
     "data": {
      "text/plain": [
       "array([[1, 2, 3],\n",
       "       [4, 5, 6]])"
      ]
     },
     "execution_count": 127,
     "metadata": {},
     "output_type": "execute_result"
    }
   ],
   "source": [
    "stats = np.array([[1, 2, 3], [4, 5, 6]])\n",
    "stats"
   ]
  },
  {
   "cell_type": "code",
   "execution_count": 128,
   "id": "ff5dee62",
   "metadata": {},
   "outputs": [
    {
     "data": {
      "text/plain": [
       "1"
      ]
     },
     "execution_count": 128,
     "metadata": {},
     "output_type": "execute_result"
    }
   ],
   "source": [
    "np.min(stats)"
   ]
  },
  {
   "cell_type": "code",
   "execution_count": 129,
   "id": "64799c17",
   "metadata": {},
   "outputs": [
    {
     "data": {
      "text/plain": [
       "6"
      ]
     },
     "execution_count": 129,
     "metadata": {},
     "output_type": "execute_result"
    }
   ],
   "source": [
    "np.max(stats)"
   ]
  },
  {
   "cell_type": "markdown",
   "id": "9942db88",
   "metadata": {},
   "source": [
    "Mínimo por linha:"
   ]
  },
  {
   "cell_type": "code",
   "execution_count": 130,
   "id": "b0ac0053",
   "metadata": {},
   "outputs": [
    {
     "data": {
      "text/plain": [
       "array([1, 4])"
      ]
     },
     "execution_count": 130,
     "metadata": {},
     "output_type": "execute_result"
    }
   ],
   "source": [
    "np.min(stats, axis=1) "
   ]
  },
  {
   "cell_type": "markdown",
   "id": "19d73e32",
   "metadata": {},
   "source": [
    "Máximo por coluna:"
   ]
  },
  {
   "cell_type": "code",
   "execution_count": 131,
   "id": "08da5e72",
   "metadata": {},
   "outputs": [
    {
     "data": {
      "text/plain": [
       "array([4, 5, 6])"
      ]
     },
     "execution_count": 131,
     "metadata": {},
     "output_type": "execute_result"
    }
   ],
   "source": [
    "np.max(stats, axis=0)"
   ]
  },
  {
   "cell_type": "markdown",
   "id": "1e5e33b6",
   "metadata": {},
   "source": [
    "Soma por coluna:"
   ]
  },
  {
   "cell_type": "code",
   "execution_count": 132,
   "id": "e56a0aa5",
   "metadata": {},
   "outputs": [
    {
     "data": {
      "text/plain": [
       "array([5, 7, 9])"
      ]
     },
     "execution_count": 132,
     "metadata": {},
     "output_type": "execute_result"
    }
   ],
   "source": [
    "np.sum(stats, axis=0)"
   ]
  },
  {
   "cell_type": "markdown",
   "id": "78a77de3",
   "metadata": {},
   "source": [
    "Média:"
   ]
  },
  {
   "cell_type": "code",
   "execution_count": 133,
   "id": "67582e3c",
   "metadata": {},
   "outputs": [
    {
     "data": {
      "text/plain": [
       "3.5"
      ]
     },
     "execution_count": 133,
     "metadata": {},
     "output_type": "execute_result"
    }
   ],
   "source": [
    "np.average(stats)"
   ]
  },
  {
   "cell_type": "markdown",
   "id": "5742d146",
   "metadata": {},
   "source": [
    "## Reorganizar Array\n",
    "\n",
    "Muitas vezes você quer mudar o formato de array, por exemplo, de 4 elementos pra uma matriz 2x2, ou situações similares.\n",
    "\n",
    "Para isso, você pode utilizar a função **reshape**.\n",
    "\n",
    "### Reshape"
   ]
  },
  {
   "cell_type": "code",
   "execution_count": 134,
   "id": "9460cec7",
   "metadata": {},
   "outputs": [
    {
     "name": "stdout",
     "output_type": "stream",
     "text": [
      "(2, 4)\n"
     ]
    }
   ],
   "source": [
    "before = np.array([[1,2,3,4],[5,6,7,8]])\n",
    "print(before.shape)"
   ]
  },
  {
   "cell_type": "code",
   "execution_count": 135,
   "id": "47156b53",
   "metadata": {},
   "outputs": [
    {
     "data": {
      "text/plain": [
       "array([[1],\n",
       "       [2],\n",
       "       [3],\n",
       "       [4],\n",
       "       [5],\n",
       "       [6],\n",
       "       [7],\n",
       "       [8]])"
      ]
     },
     "execution_count": 135,
     "metadata": {},
     "output_type": "execute_result"
    }
   ],
   "source": [
    "after = before.reshape((8, 1)) # tem que possuir a mesma quantidade!\n",
    "after"
   ]
  },
  {
   "cell_type": "markdown",
   "id": "a0ef5514",
   "metadata": {},
   "source": [
    "Anexar verticalmente os vetores"
   ]
  },
  {
   "cell_type": "code",
   "execution_count": 137,
   "id": "489e00a7",
   "metadata": {},
   "outputs": [],
   "source": [
    "v1 = np.array([1,2,3,4])\n",
    "v2 = np.array([5,6,7,8])"
   ]
  },
  {
   "cell_type": "code",
   "execution_count": 138,
   "id": "a9aa6f20",
   "metadata": {},
   "outputs": [
    {
     "data": {
      "text/plain": [
       "array([[1, 2, 3, 4],\n",
       "       [5, 6, 7, 8]])"
      ]
     },
     "execution_count": 138,
     "metadata": {},
     "output_type": "execute_result"
    }
   ],
   "source": [
    "np.vstack([v1, v2])"
   ]
  },
  {
   "cell_type": "code",
   "execution_count": 139,
   "id": "70193e87",
   "metadata": {},
   "outputs": [
    {
     "data": {
      "text/plain": [
       "array([[1, 2, 3, 4],\n",
       "       [5, 6, 7, 8],\n",
       "       [5, 6, 7, 8],\n",
       "       [5, 6, 7, 8]])"
      ]
     },
     "execution_count": 139,
     "metadata": {},
     "output_type": "execute_result"
    }
   ],
   "source": [
    "np.vstack([v1, v2, v2, v2])"
   ]
  },
  {
   "cell_type": "markdown",
   "id": "991776ac",
   "metadata": {},
   "source": [
    "Apendar horizontalmente os vetores\n",
    "\n",
    "De forma similar ao anterior:"
   ]
  },
  {
   "cell_type": "code",
   "execution_count": null,
   "id": "6122a01a",
   "metadata": {},
   "outputs": [],
   "source": [
    "h1 = np.ones((2, 4))\n",
    "h2 = np.zeros((2, 2))\n",
    "np.hstack((h1, h2))"
   ]
  },
  {
   "cell_type": "markdown",
   "id": "43eb2f20",
   "metadata": {},
   "source": [
    "## Funcionalidades extras\n",
    "\n",
    "### Carregar dados de um arquivo\n",
    "\n",
    "Vamos supor que temos um arquivo data.txt com o seguinte conteúdo:\n",
    "\n",
    "1,13,21,11,196,75,4,3,34,6,7,8,0,1,2,3,4,5\n",
    "\n",
    "3,42,12,33,766,75,4,55,6,4,3,4,5,6,7,0,11,12\n",
    "\n",
    "1,22,33,11,999,11,2,1,78,0,1,2,9,8,7,1,76,88\n",
    "\n",
    "Podemos gerar uma matriz a partir desse arquivo da seguinte forma:"
   ]
  },
  {
   "cell_type": "code",
   "execution_count": 4,
   "id": "310256f8",
   "metadata": {},
   "outputs": [
    {
     "data": {
      "text/plain": [
       "array([[  1.,  13.,  21.,  11., 196.,  75.,   4.,   3.,  34.,   6.,   7.,\n",
       "          8.,   0.,   1.,   2.,   3.,   4.,   5.],\n",
       "       [  3.,  42.,  12.,  33., 766.,  75.,   4.,  55.,   6.,   4.,   3.,\n",
       "          4.,   5.,   6.,   7.,   0.,  11.,  12.],\n",
       "       [  1.,  22.,  33.,  11., 999.,  11.,   2.,   1.,  78.,   0.,   1.,\n",
       "          2.,   9.,   8.,   7.,   1.,  76.,  88.]])"
      ]
     },
     "execution_count": 4,
     "metadata": {},
     "output_type": "execute_result"
    }
   ],
   "source": [
    "filedata = np.genfromtxt('data/data.txt', delimiter=',')\n",
    "filedata"
   ]
  },
  {
   "cell_type": "markdown",
   "id": "3784a670",
   "metadata": {},
   "source": [
    "O primeiro argumento é o nome do arquivo.\n",
    "\n",
    "Importante ressaltar o segundo key argumento, **delimiter**, no qual você especifica o que separa cada número individualmente no arquivo. Nesse caso, vírgula, mas podería ser **;** por exemplo, espaços, ou tabs.\n",
    "\n",
    "Podemos notar também que o numpy converteu para float nossos números, apesar de todos serem inteiros. Ele faz isso como uma medida preventiva dado que ele não sabe ao ler o arquivo qual tipo de dado que é.\n",
    "\n",
    "Podemos converter manualmente para inteiro usando a função **astype**:"
   ]
  },
  {
   "cell_type": "code",
   "execution_count": 5,
   "id": "6e873fda",
   "metadata": {},
   "outputs": [
    {
     "data": {
      "text/plain": [
       "array([[  1,  13,  21,  11, 196,  75,   4,   3,  34,   6,   7,   8,   0,\n",
       "          1,   2,   3,   4,   5],\n",
       "       [  3,  42,  12,  33, 766,  75,   4,  55,   6,   4,   3,   4,   5,\n",
       "          6,   7,   0,  11,  12],\n",
       "       [  1,  22,  33,  11, 999,  11,   2,   1,  78,   0,   1,   2,   9,\n",
       "          8,   7,   1,  76,  88]])"
      ]
     },
     "execution_count": 5,
     "metadata": {},
     "output_type": "execute_result"
    }
   ],
   "source": [
    "filedata.astype('int32')"
   ]
  },
  {
   "cell_type": "markdown",
   "id": "d752f542",
   "metadata": {},
   "source": [
    "Podemos também salvar uma matriz de uma forma mais otimizada não textual (binária) para uso futuro.\n",
    "\n",
    "Isso gera um arquivo binário que inclusive salva o tipo de dado, nesse caso, int32.\n",
    "\n",
    "Quando lido, vai converter corretamnete o tipo daquele dado."
   ]
  },
  {
   "cell_type": "code",
   "execution_count": 7,
   "id": "e7bfa64c",
   "metadata": {},
   "outputs": [],
   "source": [
    "np.save('data/data', filedata.astype('int32'))"
   ]
  },
  {
   "cell_type": "markdown",
   "id": "289723cf",
   "metadata": {},
   "source": [
    "Igual ao método de cima, porém comprime os dados (economiza espaço em disco, porém é um pouco mais lento pra ler)."
   ]
  },
  {
   "cell_type": "code",
   "execution_count": 8,
   "id": "41178666",
   "metadata": {},
   "outputs": [],
   "source": [
    "np.savez_compressed('data/dataz', filedata)"
   ]
  },
  {
   "cell_type": "markdown",
   "id": "f5c742cf",
   "metadata": {},
   "source": [
    "Para ler os dados que acabamos de salvar, basta usar o **np.load**:"
   ]
  },
  {
   "cell_type": "code",
   "execution_count": 9,
   "id": "60e8d060",
   "metadata": {},
   "outputs": [
    {
     "data": {
      "text/plain": [
       "array([[  1,  13,  21,  11, 196,  75,   4,   3,  34,   6,   7,   8,   0,\n",
       "          1,   2,   3,   4,   5],\n",
       "       [  3,  42,  12,  33, 766,  75,   4,  55,   6,   4,   3,   4,   5,\n",
       "          6,   7,   0,  11,  12],\n",
       "       [  1,  22,  33,  11, 999,  11,   2,   1,  78,   0,   1,   2,   9,\n",
       "          8,   7,   1,  76,  88]])"
      ]
     },
     "execution_count": 9,
     "metadata": {},
     "output_type": "execute_result"
    }
   ],
   "source": [
    "np.load('data/data.npy')"
   ]
  },
  {
   "cell_type": "markdown",
   "id": "ed901fb5",
   "metadata": {},
   "source": [
    "Máscara Boleana e Seleção Avançada\n",
    "Conceito super importante no numpy e no pandas é o de máscara booleana.\n",
    "\n",
    "Ao aplicar qualquer operador booleano\n",
    "````\n",
    ">\n",
    "<\n",
    "<=\n",
    ">=\n",
    "==\n",
    "in\n",
    "````\n",
    "\n",
    "o numpy retorna um array de **True** e **False** no qual ele aplicou elemento a elemento aquele operador.\n",
    "\n",
    "Imagine para a matriz abaixo:"
   ]
  },
  {
   "cell_type": "code",
   "execution_count": 17,
   "id": "4e76cef3",
   "metadata": {},
   "outputs": [
    {
     "data": {
      "text/plain": [
       "array([[ 1, 10],\n",
       "       [20, 30]])"
      ]
     },
     "execution_count": 17,
     "metadata": {},
     "output_type": "execute_result"
    }
   ],
   "source": [
    "mat = np.array([1, 10, 20, 30]).reshape(2, 2)\n",
    "mat"
   ]
  },
  {
   "cell_type": "markdown",
   "id": "6b8d2000",
   "metadata": {},
   "source": [
    "Eu quero saber todos os elementos maiores que 10, eu posso aplicar:"
   ]
  },
  {
   "cell_type": "code",
   "execution_count": 18,
   "id": "7f747f25",
   "metadata": {},
   "outputs": [
    {
     "data": {
      "text/plain": [
       "array([[False, False],\n",
       "       [ True,  True]])"
      ]
     },
     "execution_count": 18,
     "metadata": {},
     "output_type": "execute_result"
    }
   ],
   "source": [
    "mat > 10"
   ]
  },
  {
   "cell_type": "markdown",
   "id": "461f5a4a",
   "metadata": {},
   "source": [
    "Me é retornado uma matriz de formato (2, 2) assim como com True na posição dos elementos que são maiores que 10.\n",
    "\n",
    "Podemos então fazer essa operação dentro dos colchetes de seleção:"
   ]
  },
  {
   "cell_type": "code",
   "execution_count": 19,
   "id": "e38c5245",
   "metadata": {},
   "outputs": [
    {
     "data": {
      "text/plain": [
       "array([20, 30])"
      ]
     },
     "execution_count": 19,
     "metadata": {},
     "output_type": "execute_result"
    }
   ],
   "source": [
    "mat[mat > 10]"
   ]
  },
  {
   "cell_type": "markdown",
   "id": "c634d20d",
   "metadata": {},
   "source": [
    "E será retornado um array com os elementos 20 e 30 como esperado.\n",
    "\n",
    "Podemos fazer operações linha a linha ou coluna a coluna através de métodos auxiliares como **any** ou **all**:\n",
    "\n",
    "- any: se qualquer elemento da linha for **True**, retorna **True**\n",
    "- all: todos os elementos tem que ser **True** para retornar **True**\n",
    "\n",
    "**Exemplos:**\n",
    "\n",
    "Por coluna:"
   ]
  },
  {
   "cell_type": "code",
   "execution_count": 20,
   "id": "db06f723",
   "metadata": {},
   "outputs": [
    {
     "data": {
      "text/plain": [
       "array([ True,  True])"
      ]
     },
     "execution_count": 20,
     "metadata": {},
     "output_type": "execute_result"
    }
   ],
   "source": [
    "np.any(mat > 10, axis=0)"
   ]
  },
  {
   "cell_type": "markdown",
   "id": "e413bfde",
   "metadata": {},
   "source": [
    "Por linha:"
   ]
  },
  {
   "cell_type": "code",
   "execution_count": 22,
   "id": "a54a9845",
   "metadata": {},
   "outputs": [
    {
     "data": {
      "text/plain": [
       "array([False,  True])"
      ]
     },
     "execution_count": 22,
     "metadata": {},
     "output_type": "execute_result"
    }
   ],
   "source": [
    "np.any(mat > 10, axis=1)"
   ]
  },
  {
   "cell_type": "markdown",
   "id": "f09edac4",
   "metadata": {},
   "source": [
    "### Operador AND\n",
    "\n",
    "Similar ao **and** do python, podemos usar múltiplas condições para filtrar dados da nossa matriz com o operador **&**"
   ]
  },
  {
   "cell_type": "code",
   "execution_count": 23,
   "id": "2ecef2e1",
   "metadata": {},
   "outputs": [
    {
     "data": {
      "text/plain": [
       "array([20])"
      ]
     },
     "execution_count": 23,
     "metadata": {},
     "output_type": "execute_result"
    }
   ],
   "source": [
    "filt = (mat > 10) & (mat <= 20)\n",
    "mat[filt]"
   ]
  },
  {
   "cell_type": "markdown",
   "id": "8d73d1ba",
   "metadata": {},
   "source": [
    "Observação: note que os colchetes além de melhorarem a legibilidade, são necessárias devido a ordem de precedência dos operadores python. Se não colocarmos os colchetes, dará um erro.\n",
    "\n",
    "### Operador OR\n",
    "\n",
    "Similar ao **or**, só que devemos utilizar **|**"
   ]
  },
  {
   "cell_type": "code",
   "execution_count": 24,
   "id": "206d69a4",
   "metadata": {},
   "outputs": [
    {
     "data": {
      "text/plain": [
       "array([ 1, 20, 30])"
      ]
     },
     "execution_count": 24,
     "metadata": {},
     "output_type": "execute_result"
    }
   ],
   "source": [
    "filt = (mat == 1) | (mat >= 20)\n",
    "mat[filt]"
   ]
  },
  {
   "cell_type": "markdown",
   "id": "522a1d40",
   "metadata": {},
   "source": [
    "### Operador NOT\n",
    "\n",
    "Similar ao **not**, mas devemos utilizar um til **~**"
   ]
  },
  {
   "cell_type": "code",
   "execution_count": 25,
   "id": "7fdcc6e6",
   "metadata": {},
   "outputs": [
    {
     "data": {
      "text/plain": [
       "array([10])"
      ]
     },
     "execution_count": 25,
     "metadata": {},
     "output_type": "execute_result"
    }
   ],
   "source": [
    "filt = (mat == 1) | (mat >= 20)\n",
    "mat[~filt]"
   ]
  },
  {
   "cell_type": "markdown",
   "id": "55e94e8a",
   "metadata": {},
   "source": [
    "### Seleção passando listas\n",
    "\n",
    "Podemos selecionar elementos específicos de um array passando uma lista de posições:"
   ]
  },
  {
   "cell_type": "code",
   "execution_count": 26,
   "id": "b54aafc4",
   "metadata": {},
   "outputs": [
    {
     "data": {
      "text/plain": [
       "array([2, 3, 9])"
      ]
     },
     "execution_count": 26,
     "metadata": {},
     "output_type": "execute_result"
    }
   ],
   "source": [
    "a = np.array([1, 2, 3, 4, 5, 6, 7, 8, 9])\n",
    "a[[1, 2, 8]]"
   ]
  },
  {
   "cell_type": "markdown",
   "id": "c117d97b",
   "metadata": {},
   "source": [
    "### Referências\n",
    "\n",
    "[NumPy GitHub](https://github.com/numpy/numpy) \\\n",
    "[Documentação oficial](https://docs.scipy.org/doc/numpy/reference/) \\\n",
    "[Funções matemáticas](https://docs.scipy.org/doc/numpy/reference/routines.math.html) \\\n",
    "[Funções de Álgebra Linear](https://docs.scipy.org/doc/numpy/reference/routines.linalg.html)"
   ]
  },
  {
   "cell_type": "markdown",
   "id": "afe48fe3",
   "metadata": {},
   "source": [
    "---"
   ]
  }
 ],
 "metadata": {
  "kernelspec": {
   "display_name": "Python 3 (ipykernel)",
   "language": "python",
   "name": "python3"
  },
  "language_info": {
   "codemirror_mode": {
    "name": "ipython",
    "version": 3
   },
   "file_extension": ".py",
   "mimetype": "text/x-python",
   "name": "python",
   "nbconvert_exporter": "python",
   "pygments_lexer": "ipython3",
   "version": "3.9.7"
  }
 },
 "nbformat": 4,
 "nbformat_minor": 5
}
