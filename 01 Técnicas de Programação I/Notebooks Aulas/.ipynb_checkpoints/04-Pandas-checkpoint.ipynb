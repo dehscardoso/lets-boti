{
 "cells": [
  {
   "cell_type": "markdown",
   "id": "4f51956c",
   "metadata": {},
   "source": [
    "# Aula 4 - Pandas\n",
    "\n",
    "Já discutimos de forma mais básica quais são as estruturas de dados principais do Pandas: DataFrames e Series. Além disso, vimos também como ler um arquivo csv, ou como criar um dataframe a partir de dados no próprio Python.\n",
    "\n",
    "Hoje, vamos aprender a explorar nossas tabelas em pandas. Como ver quantas entradas eu tenho? Quais os tipos de entradas? Como eu deixo meus dados em um formato melhor para minhas análises?"
   ]
  },
  {
   "cell_type": "markdown",
   "id": "7db9134f",
   "metadata": {},
   "source": [
    "---"
   ]
  },
  {
   "cell_type": "markdown",
   "id": "6abe4b06",
   "metadata": {},
   "source": [
    "Vamos usar os dados da última aula, e tentar aproveitar o Pandas para extrair algumas informações. Enquanto mostramos as funcionalidades por aqui, vamos tentar ir reproduzindo o passo a passo com dados do IBGE!\n",
    "\n",
    "O objetivo dessa primeira parte é aprendermos algumas funcionalidades básicas para começarmos a olhar os nossos dados. É sempre importante sabermos qual tipo de dados nós temos, qual a cara deles, se tem algum erro, quantas linhas temos, etc...\n",
    "\n",
    "Isso nos ajuda muito a nos preparar para de fato começar a fazer análises de dados."
   ]
  },
  {
   "cell_type": "markdown",
   "id": "44612acf",
   "metadata": {},
   "source": [
    "## Lendo o arquivo"
   ]
  },
  {
   "cell_type": "code",
   "execution_count": 1,
   "id": "f7370101",
   "metadata": {},
   "outputs": [],
   "source": [
    "# Começamos sempre importando nossas bibliotecas.\n",
    "import numpy as np\n",
    "import pandas as pd"
   ]
  },
  {
   "cell_type": "code",
   "execution_count": 2,
   "id": "12a97506",
   "metadata": {},
   "outputs": [],
   "source": [
    "# A função \"read_table\" é equivalente à \"read_csv\", só muda que ela é mais geral.\n",
    "# Tente ler abaixo os dados de população para um dataframe, usando pd.read_table\n",
    "df = pd.read_table('data/dados_parciais.txt',\n",
    "                   sep=';', decimal=',')"
   ]
  },
  {
   "cell_type": "code",
   "execution_count": 3,
   "id": "b9adbc0d",
   "metadata": {
    "scrolled": true
   },
   "outputs": [
    {
     "name": "stdout",
     "output_type": "stream",
     "text": [
      "<class 'pandas.core.frame.DataFrame'>\n",
      "RangeIndex: 29 entries, 0 to 28\n",
      "Data columns (total 6 columns):\n",
      " #   Column      Non-Null Count  Dtype  \n",
      "---  ------      --------------  -----  \n",
      " 0   regiao      28 non-null     object \n",
      " 1   uf          29 non-null     object \n",
      " 2   superficie  29 non-null     int64  \n",
      " 3   pop_urbana  27 non-null     float64\n",
      " 4   pop_rural   27 non-null     float64\n",
      " 5   total       27 non-null     float64\n",
      "dtypes: float64(3), int64(1), object(2)\n",
      "memory usage: 1.5+ KB\n"
     ]
    }
   ],
   "source": [
    "# Antes de começarmos a processar nossos dados, queremos entender algumas coisas básicas sobre eles.\n",
    "df.info()"
   ]
  },
  {
   "cell_type": "code",
   "execution_count": 4,
   "id": "54d4948e",
   "metadata": {
    "scrolled": true
   },
   "outputs": [
    {
     "data": {
      "text/html": [
       "<div>\n",
       "<style scoped>\n",
       "    .dataframe tbody tr th:only-of-type {\n",
       "        vertical-align: middle;\n",
       "    }\n",
       "\n",
       "    .dataframe tbody tr th {\n",
       "        vertical-align: top;\n",
       "    }\n",
       "\n",
       "    .dataframe thead th {\n",
       "        text-align: right;\n",
       "    }\n",
       "</style>\n",
       "<table border=\"1\" class=\"dataframe\">\n",
       "  <thead>\n",
       "    <tr style=\"text-align: right;\">\n",
       "      <th></th>\n",
       "      <th>regiao</th>\n",
       "      <th>uf</th>\n",
       "      <th>superficie</th>\n",
       "      <th>pop_urbana</th>\n",
       "      <th>pop_rural</th>\n",
       "      <th>total</th>\n",
       "    </tr>\n",
       "  </thead>\n",
       "  <tbody>\n",
       "    <tr>\n",
       "      <th>0</th>\n",
       "      <td>Norte</td>\n",
       "      <td>RO</td>\n",
       "      <td>238513</td>\n",
       "      <td>762864.0</td>\n",
       "      <td>468143.0</td>\n",
       "      <td>1231007.0</td>\n",
       "    </tr>\n",
       "    <tr>\n",
       "      <th>1</th>\n",
       "      <td>Norte</td>\n",
       "      <td>AC</td>\n",
       "      <td>153150</td>\n",
       "      <td>315401.0</td>\n",
       "      <td>168322.0</td>\n",
       "      <td>483726.0</td>\n",
       "    </tr>\n",
       "    <tr>\n",
       "      <th>2</th>\n",
       "      <td>Norte</td>\n",
       "      <td>AM</td>\n",
       "      <td>1577820</td>\n",
       "      <td>1766166.0</td>\n",
       "      <td>623113.0</td>\n",
       "      <td>2389279.0</td>\n",
       "    </tr>\n",
       "    <tr>\n",
       "      <th>3</th>\n",
       "      <td>Norte</td>\n",
       "      <td>RR</td>\n",
       "      <td>225116</td>\n",
       "      <td>174277.0</td>\n",
       "      <td>72854.0</td>\n",
       "      <td>247131.0</td>\n",
       "    </tr>\n",
       "    <tr>\n",
       "      <th>4</th>\n",
       "      <td>Norte</td>\n",
       "      <td>PA</td>\n",
       "      <td>1253165</td>\n",
       "      <td>2949017.0</td>\n",
       "      <td>2561832.0</td>\n",
       "      <td>5510849.0</td>\n",
       "    </tr>\n",
       "    <tr>\n",
       "      <th>5</th>\n",
       "      <td>Norte</td>\n",
       "      <td>AP</td>\n",
       "      <td>143454</td>\n",
       "      <td>330590.0</td>\n",
       "      <td>48869.0</td>\n",
       "      <td>379459.0</td>\n",
       "    </tr>\n",
       "    <tr>\n",
       "      <th>6</th>\n",
       "      <td>Norte</td>\n",
       "      <td>TO</td>\n",
       "      <td>278421</td>\n",
       "      <td>741009.0</td>\n",
       "      <td>307633.0</td>\n",
       "      <td>1048642.0</td>\n",
       "    </tr>\n",
       "    <tr>\n",
       "      <th>7</th>\n",
       "      <td>Nordeste</td>\n",
       "      <td>MA</td>\n",
       "      <td>333366</td>\n",
       "      <td>2711557.0</td>\n",
       "      <td>2511008.0</td>\n",
       "      <td>5222565.0</td>\n",
       "    </tr>\n",
       "    <tr>\n",
       "      <th>8</th>\n",
       "      <td>Nordeste</td>\n",
       "      <td>PI</td>\n",
       "      <td>252379</td>\n",
       "      <td>1556115.0</td>\n",
       "      <td>1117061.0</td>\n",
       "      <td>2673176.0</td>\n",
       "    </tr>\n",
       "    <tr>\n",
       "      <th>9</th>\n",
       "      <td>Nordeste</td>\n",
       "      <td>Litígio*</td>\n",
       "      <td>2977</td>\n",
       "      <td>NaN</td>\n",
       "      <td>NaN</td>\n",
       "      <td>NaN</td>\n",
       "    </tr>\n",
       "  </tbody>\n",
       "</table>\n",
       "</div>"
      ],
      "text/plain": [
       "     regiao        uf  superficie  pop_urbana  pop_rural      total\n",
       "0     Norte        RO      238513    762864.0   468143.0  1231007.0\n",
       "1     Norte        AC      153150    315401.0   168322.0   483726.0\n",
       "2     Norte        AM     1577820   1766166.0   623113.0  2389279.0\n",
       "3     Norte        RR      225116    174277.0    72854.0   247131.0\n",
       "4     Norte        PA     1253165   2949017.0  2561832.0  5510849.0\n",
       "5     Norte        AP      143454    330590.0    48869.0   379459.0\n",
       "6     Norte        TO      278421    741009.0   307633.0  1048642.0\n",
       "7  Nordeste        MA      333366   2711557.0  2511008.0  5222565.0\n",
       "8  Nordeste        PI      252379   1556115.0  1117061.0  2673176.0\n",
       "9  Nordeste  Litígio*        2977         NaN        NaN        NaN"
      ]
     },
     "execution_count": 4,
     "metadata": {},
     "output_type": "execute_result"
    }
   ],
   "source": [
    "df.head(10)"
   ]
  },
  {
   "cell_type": "code",
   "execution_count": 5,
   "id": "d57b090a",
   "metadata": {},
   "outputs": [
    {
     "data": {
      "text/plain": [
       "(29, 6)"
      ]
     },
     "execution_count": 5,
     "metadata": {},
     "output_type": "execute_result"
    }
   ],
   "source": [
    "df.shape"
   ]
  },
  {
   "cell_type": "code",
   "execution_count": 6,
   "id": "4aa0e010",
   "metadata": {},
   "outputs": [
    {
     "data": {
      "text/plain": [
       "regiao        28\n",
       "uf            29\n",
       "superficie    29\n",
       "pop_urbana    27\n",
       "pop_rural     27\n",
       "total         27\n",
       "dtype: int64"
      ]
     },
     "execution_count": 6,
     "metadata": {},
     "output_type": "execute_result"
    }
   ],
   "source": [
    "df.count()"
   ]
  },
  {
   "cell_type": "code",
   "execution_count": 7,
   "id": "8c2d0d52",
   "metadata": {},
   "outputs": [
    {
     "data": {
      "text/plain": [
       "Index(['regiao', 'uf', 'superficie', 'pop_urbana', 'pop_rural', 'total'], dtype='object')"
      ]
     },
     "execution_count": 7,
     "metadata": {},
     "output_type": "execute_result"
    }
   ],
   "source": [
    "df.columns"
   ]
  },
  {
   "cell_type": "code",
   "execution_count": 8,
   "id": "6516f87c",
   "metadata": {},
   "outputs": [],
   "source": [
    "df.columns = ['regiao', 'estado', 'area', 'pop_urb', 'pop_rur', 'total']"
   ]
  },
  {
   "cell_type": "code",
   "execution_count": 9,
   "id": "ce7fb2b7",
   "metadata": {},
   "outputs": [
    {
     "data": {
      "text/html": [
       "<div>\n",
       "<style scoped>\n",
       "    .dataframe tbody tr th:only-of-type {\n",
       "        vertical-align: middle;\n",
       "    }\n",
       "\n",
       "    .dataframe tbody tr th {\n",
       "        vertical-align: top;\n",
       "    }\n",
       "\n",
       "    .dataframe thead th {\n",
       "        text-align: right;\n",
       "    }\n",
       "</style>\n",
       "<table border=\"1\" class=\"dataframe\">\n",
       "  <thead>\n",
       "    <tr style=\"text-align: right;\">\n",
       "      <th></th>\n",
       "      <th>regiao</th>\n",
       "      <th>estado</th>\n",
       "      <th>area</th>\n",
       "      <th>pop_urb</th>\n",
       "      <th>pop_rur</th>\n",
       "      <th>total</th>\n",
       "    </tr>\n",
       "  </thead>\n",
       "  <tbody>\n",
       "    <tr>\n",
       "      <th>0</th>\n",
       "      <td>Norte</td>\n",
       "      <td>RO</td>\n",
       "      <td>238513</td>\n",
       "      <td>762864.0</td>\n",
       "      <td>468143.0</td>\n",
       "      <td>1231007.0</td>\n",
       "    </tr>\n",
       "    <tr>\n",
       "      <th>1</th>\n",
       "      <td>Norte</td>\n",
       "      <td>AC</td>\n",
       "      <td>153150</td>\n",
       "      <td>315401.0</td>\n",
       "      <td>168322.0</td>\n",
       "      <td>483726.0</td>\n",
       "    </tr>\n",
       "    <tr>\n",
       "      <th>2</th>\n",
       "      <td>Norte</td>\n",
       "      <td>AM</td>\n",
       "      <td>1577820</td>\n",
       "      <td>1766166.0</td>\n",
       "      <td>623113.0</td>\n",
       "      <td>2389279.0</td>\n",
       "    </tr>\n",
       "    <tr>\n",
       "      <th>3</th>\n",
       "      <td>Norte</td>\n",
       "      <td>RR</td>\n",
       "      <td>225116</td>\n",
       "      <td>174277.0</td>\n",
       "      <td>72854.0</td>\n",
       "      <td>247131.0</td>\n",
       "    </tr>\n",
       "    <tr>\n",
       "      <th>4</th>\n",
       "      <td>Norte</td>\n",
       "      <td>PA</td>\n",
       "      <td>1253165</td>\n",
       "      <td>2949017.0</td>\n",
       "      <td>2561832.0</td>\n",
       "      <td>5510849.0</td>\n",
       "    </tr>\n",
       "    <tr>\n",
       "      <th>5</th>\n",
       "      <td>Norte</td>\n",
       "      <td>AP</td>\n",
       "      <td>143454</td>\n",
       "      <td>330590.0</td>\n",
       "      <td>48869.0</td>\n",
       "      <td>379459.0</td>\n",
       "    </tr>\n",
       "    <tr>\n",
       "      <th>6</th>\n",
       "      <td>Norte</td>\n",
       "      <td>TO</td>\n",
       "      <td>278421</td>\n",
       "      <td>741009.0</td>\n",
       "      <td>307633.0</td>\n",
       "      <td>1048642.0</td>\n",
       "    </tr>\n",
       "    <tr>\n",
       "      <th>7</th>\n",
       "      <td>Nordeste</td>\n",
       "      <td>MA</td>\n",
       "      <td>333366</td>\n",
       "      <td>2711557.0</td>\n",
       "      <td>2511008.0</td>\n",
       "      <td>5222565.0</td>\n",
       "    </tr>\n",
       "    <tr>\n",
       "      <th>8</th>\n",
       "      <td>Nordeste</td>\n",
       "      <td>PI</td>\n",
       "      <td>252379</td>\n",
       "      <td>1556115.0</td>\n",
       "      <td>1117061.0</td>\n",
       "      <td>2673176.0</td>\n",
       "    </tr>\n",
       "    <tr>\n",
       "      <th>9</th>\n",
       "      <td>Nordeste</td>\n",
       "      <td>Litígio*</td>\n",
       "      <td>2977</td>\n",
       "      <td>NaN</td>\n",
       "      <td>NaN</td>\n",
       "      <td>NaN</td>\n",
       "    </tr>\n",
       "  </tbody>\n",
       "</table>\n",
       "</div>"
      ],
      "text/plain": [
       "     regiao    estado     area    pop_urb    pop_rur      total\n",
       "0     Norte        RO   238513   762864.0   468143.0  1231007.0\n",
       "1     Norte        AC   153150   315401.0   168322.0   483726.0\n",
       "2     Norte        AM  1577820  1766166.0   623113.0  2389279.0\n",
       "3     Norte        RR   225116   174277.0    72854.0   247131.0\n",
       "4     Norte        PA  1253165  2949017.0  2561832.0  5510849.0\n",
       "5     Norte        AP   143454   330590.0    48869.0   379459.0\n",
       "6     Norte        TO   278421   741009.0   307633.0  1048642.0\n",
       "7  Nordeste        MA   333366  2711557.0  2511008.0  5222565.0\n",
       "8  Nordeste        PI   252379  1556115.0  1117061.0  2673176.0\n",
       "9  Nordeste  Litígio*     2977        NaN        NaN        NaN"
      ]
     },
     "execution_count": 9,
     "metadata": {},
     "output_type": "execute_result"
    }
   ],
   "source": [
    "df.head(10)"
   ]
  },
  {
   "cell_type": "code",
   "execution_count": 10,
   "id": "347d6d06",
   "metadata": {},
   "outputs": [],
   "source": [
    "# e se eu só quisesse renomear 1 coluna?\n",
    "df = df.rename(columns = {'regiao':'reg'}).copy()"
   ]
  },
  {
   "cell_type": "code",
   "execution_count": 11,
   "id": "d6ff4a03",
   "metadata": {},
   "outputs": [],
   "source": [
    "# Esse .copy é chato. Dá pra fazer direto, alterar o dataframe nele próprio?\n",
    "# Consigo, embora não seja bom ficar fazendo isso o tempo todo.\n",
    "df.rename(columns = {'estado':'uf'}, inplace=True)"
   ]
  },
  {
   "cell_type": "code",
   "execution_count": 12,
   "id": "6785f8ed",
   "metadata": {},
   "outputs": [],
   "source": [
    "# Também podemos jogar colunas fora.\n",
    "df.drop(columns=['total'], inplace=True)"
   ]
  },
  {
   "cell_type": "markdown",
   "id": "2b596ee0",
   "metadata": {},
   "source": [
    "## Manipulando meu dataframe"
   ]
  },
  {
   "cell_type": "code",
   "execution_count": 13,
   "id": "5a745483",
   "metadata": {},
   "outputs": [
    {
     "data": {
      "text/plain": [
       "RangeIndex(start=0, stop=29, step=1)"
      ]
     },
     "execution_count": 13,
     "metadata": {},
     "output_type": "execute_result"
    }
   ],
   "source": [
    "# Meu dataframe consiste em:\n",
    "# Um índice\n",
    "# Colunas (que são series)\n",
    "\n",
    "# Para pegar o meu índice.\n",
    "df.index"
   ]
  },
  {
   "cell_type": "code",
   "execution_count": 14,
   "id": "4c1af198",
   "metadata": {},
   "outputs": [],
   "source": [
    "# A primeira coisa que queremos aprender é como acessar os elementos do meu dataframe.\n",
    "# Existem diversas formas de fazer isso.\n",
    "\n",
    "# Vamos tentar acessar elementos da quinta linha do meu dataframe.\n",
    "quinta_linha = df.iloc[5]"
   ]
  },
  {
   "cell_type": "code",
   "execution_count": 15,
   "id": "c444478c",
   "metadata": {},
   "outputs": [
    {
     "data": {
      "text/plain": [
       "reg           Norte\n",
       "uf               AP\n",
       "area         143454\n",
       "pop_urb    330590.0\n",
       "pop_rur     48869.0\n",
       "Name: 5, dtype: object"
      ]
     },
     "execution_count": 15,
     "metadata": {},
     "output_type": "execute_result"
    }
   ],
   "source": [
    "quinta_linha"
   ]
  },
  {
   "cell_type": "code",
   "execution_count": 16,
   "id": "8e6711fa",
   "metadata": {},
   "outputs": [
    {
     "name": "stdout",
     "output_type": "stream",
     "text": [
      "<class 'pandas.core.series.Series'>\n"
     ]
    }
   ],
   "source": [
    "# Essa quinta linha vai ser um Pandas Series!\n",
    "print(type(quinta_linha))"
   ]
  },
  {
   "cell_type": "code",
   "execution_count": 17,
   "id": "b5c6fa60",
   "metadata": {},
   "outputs": [
    {
     "data": {
      "text/plain": [
       "'AP'"
      ]
     },
     "execution_count": 17,
     "metadata": {},
     "output_type": "execute_result"
    }
   ],
   "source": [
    "# Podemos então pegar um elemento da quinta linha pela posição, ou pelo nome do index.\n",
    "quinta_linha.iloc[1]"
   ]
  },
  {
   "cell_type": "code",
   "execution_count": 18,
   "id": "3db92391",
   "metadata": {},
   "outputs": [
    {
     "data": {
      "text/plain": [
       "'AP'"
      ]
     },
     "execution_count": 18,
     "metadata": {},
     "output_type": "execute_result"
    }
   ],
   "source": [
    "quinta_linha.loc['uf']"
   ]
  },
  {
   "cell_type": "code",
   "execution_count": 19,
   "id": "6a9ecbd8",
   "metadata": {},
   "outputs": [
    {
     "data": {
      "text/plain": [
       "'AP'"
      ]
     },
     "execution_count": 19,
     "metadata": {},
     "output_type": "execute_result"
    }
   ],
   "source": [
    "quinta_linha['uf']"
   ]
  },
  {
   "cell_type": "code",
   "execution_count": 20,
   "id": "76a218d0",
   "metadata": {},
   "outputs": [
    {
     "data": {
      "text/plain": [
       "'AP'"
      ]
     },
     "execution_count": 20,
     "metadata": {},
     "output_type": "execute_result"
    }
   ],
   "source": [
    "# O mesmo pode ser feito diretamente com o DataFrame\n",
    "df.loc[5, 'uf']"
   ]
  },
  {
   "cell_type": "code",
   "execution_count": 21,
   "id": "61c1618d",
   "metadata": {},
   "outputs": [
    {
     "data": {
      "text/plain": [
       "'AP'"
      ]
     },
     "execution_count": 21,
     "metadata": {},
     "output_type": "execute_result"
    }
   ],
   "source": [
    "df.iloc[5, 1]"
   ]
  },
  {
   "cell_type": "code",
   "execution_count": 22,
   "id": "def08653",
   "metadata": {},
   "outputs": [
    {
     "data": {
      "text/plain": [
       "'AP'"
      ]
     },
     "execution_count": 22,
     "metadata": {},
     "output_type": "execute_result"
    }
   ],
   "source": [
    "df.iat[5, 1]"
   ]
  },
  {
   "cell_type": "code",
   "execution_count": 23,
   "id": "63fcc5f4",
   "metadata": {},
   "outputs": [
    {
     "data": {
      "text/plain": [
       "'AP'"
      ]
     },
     "execution_count": 23,
     "metadata": {},
     "output_type": "execute_result"
    }
   ],
   "source": [
    "df.at[5, 'uf']"
   ]
  },
  {
   "cell_type": "code",
   "execution_count": 24,
   "id": "a173bc3c",
   "metadata": {},
   "outputs": [
    {
     "data": {
      "text/plain": [
       "0    RO\n",
       "1    AC\n",
       "2    AM\n",
       "3    RR\n",
       "4    PA\n",
       "5    AP\n",
       "Name: uf, dtype: object"
      ]
     },
     "execution_count": 24,
     "metadata": {},
     "output_type": "execute_result"
    }
   ],
   "source": [
    "# Também podemos pegar subconjuntos de linhas através de slicing\n",
    "df.loc[:5, 'uf']"
   ]
  },
  {
   "cell_type": "code",
   "execution_count": 37,
   "id": "e96e78ce",
   "metadata": {},
   "outputs": [
    {
     "data": {
      "text/html": [
       "<div>\n",
       "<style scoped>\n",
       "    .dataframe tbody tr th:only-of-type {\n",
       "        vertical-align: middle;\n",
       "    }\n",
       "\n",
       "    .dataframe tbody tr th {\n",
       "        vertical-align: top;\n",
       "    }\n",
       "\n",
       "    .dataframe thead th {\n",
       "        text-align: right;\n",
       "    }\n",
       "</style>\n",
       "<table border=\"1\" class=\"dataframe\">\n",
       "  <thead>\n",
       "    <tr style=\"text-align: right;\">\n",
       "      <th></th>\n",
       "      <th>reg</th>\n",
       "      <th>uf</th>\n",
       "      <th>area</th>\n",
       "      <th>pop_urb</th>\n",
       "      <th>pop_rur</th>\n",
       "    </tr>\n",
       "  </thead>\n",
       "  <tbody>\n",
       "    <tr>\n",
       "      <th>24</th>\n",
       "      <td>Centro-Oeste</td>\n",
       "      <td>MS</td>\n",
       "      <td>358159</td>\n",
       "      <td>1604318.0</td>\n",
       "      <td>323516.0</td>\n",
       "    </tr>\n",
       "    <tr>\n",
       "      <th>25</th>\n",
       "      <td>Centro-Oeste</td>\n",
       "      <td>MT</td>\n",
       "      <td>906807</td>\n",
       "      <td>1695548.0</td>\n",
       "      <td>540284.0</td>\n",
       "    </tr>\n",
       "    <tr>\n",
       "      <th>26</th>\n",
       "      <td>Centro-Oeste</td>\n",
       "      <td>GO</td>\n",
       "      <td>3412895</td>\n",
       "      <td>3873722.0</td>\n",
       "      <td>642146.0</td>\n",
       "    </tr>\n",
       "    <tr>\n",
       "      <th>27</th>\n",
       "      <td>Centro-Oeste</td>\n",
       "      <td>DF</td>\n",
       "      <td>5822</td>\n",
       "      <td>1692248.0</td>\n",
       "      <td>129698.0</td>\n",
       "    </tr>\n",
       "  </tbody>\n",
       "</table>\n",
       "</div>"
      ],
      "text/plain": [
       "             reg  uf     area    pop_urb   pop_rur\n",
       "24  Centro-Oeste  MS   358159  1604318.0  323516.0\n",
       "25  Centro-Oeste  MT   906807  1695548.0  540284.0\n",
       "26  Centro-Oeste  GO  3412895  3873722.0  642146.0\n",
       "27  Centro-Oeste  DF     5822  1692248.0  129698.0"
      ]
     },
     "execution_count": 37,
     "metadata": {},
     "output_type": "execute_result"
    }
   ],
   "source": [
    "# Ou através de uma máscara booleana\n",
    "df.loc[df['reg'] == 'Centro-Oeste']"
   ]
  },
  {
   "cell_type": "code",
   "execution_count": 38,
   "id": "b93a0bbd",
   "metadata": {},
   "outputs": [],
   "source": [
    "# Pode ser também que queiramos trabalhar com colunas.\n",
    "regioes = df['reg']"
   ]
  },
  {
   "cell_type": "code",
   "execution_count": 34,
   "id": "a0d42134",
   "metadata": {},
   "outputs": [
    {
     "name": "stdout",
     "output_type": "stream",
     "text": [
      "<class 'pandas.core.series.Series'>\n"
     ]
    }
   ],
   "source": [
    "print(type(regioes))"
   ]
  },
  {
   "cell_type": "code",
   "execution_count": 39,
   "id": "25984358",
   "metadata": {},
   "outputs": [
    {
     "data": {
      "text/plain": [
       "0            Norte\n",
       "1            Norte\n",
       "2            Norte\n",
       "3            Norte\n",
       "4            Norte\n",
       "5            Norte\n",
       "6            Norte\n",
       "7         Nordeste\n",
       "8         Nordeste\n",
       "9         Nordeste\n",
       "10        Nordeste\n",
       "11        Nordeste\n",
       "12        Nordeste\n",
       "13        Nordeste\n",
       "14        Nordeste\n",
       "15        Nordeste\n",
       "16        Nordeste\n",
       "17         Sudeste\n",
       "18         Sudeste\n",
       "19         Sudeste\n",
       "20         Sudeste\n",
       "21             Sul\n",
       "22             Sul\n",
       "23             Sul\n",
       "24    Centro-Oeste\n",
       "25    Centro-Oeste\n",
       "26    Centro-Oeste\n",
       "27    Centro-Oeste\n",
       "28             NaN\n",
       "Name: reg, dtype: object"
      ]
     },
     "execution_count": 39,
     "metadata": {},
     "output_type": "execute_result"
    }
   ],
   "source": [
    "# Se o nome da coluna não tiver espaço, também podemos pegar os seus valores usando ponto.\n",
    "df.reg"
   ]
  },
  {
   "cell_type": "code",
   "execution_count": 40,
   "id": "4ca6bcc7",
   "metadata": {},
   "outputs": [
    {
     "data": {
      "text/plain": [
       "Nordeste        10\n",
       "Norte            7\n",
       "Sudeste          4\n",
       "Centro-Oeste     4\n",
       "Sul              3\n",
       "Name: reg, dtype: int64"
      ]
     },
     "execution_count": 40,
     "metadata": {},
     "output_type": "execute_result"
    }
   ],
   "source": [
    "# Ok, até agora, que diferença fez eu ter Pandas Series?\n",
    "df.reg.value_counts() # Eu posso pegar quantos estados tenho em cada região."
   ]
  },
  {
   "cell_type": "code",
   "execution_count": 42,
   "id": "036fd326",
   "metadata": {},
   "outputs": [],
   "source": [
    "df = pd.read_table('data/dados_parciais.txt',\n",
    "                   sep=';', decimal=',')"
   ]
  },
  {
   "cell_type": "code",
   "execution_count": 43,
   "id": "bccc539d",
   "metadata": {},
   "outputs": [],
   "source": [
    "# Quantos estados têm população acima de 1 milhão de habitantes?\n",
    "series = df.total > 1000000"
   ]
  },
  {
   "cell_type": "code",
   "execution_count": 44,
   "id": "5e7a4987",
   "metadata": {},
   "outputs": [
    {
     "data": {
      "text/plain": [
       "0     True\n",
       "1    False\n",
       "2     True\n",
       "3    False\n",
       "4     True\n",
       "5    False\n",
       "6     True\n",
       "7     True\n",
       "8     True\n",
       "9    False\n",
       "Name: total, dtype: bool"
      ]
     },
     "execution_count": 44,
     "metadata": {},
     "output_type": "execute_result"
    }
   ],
   "source": [
    "series.head(10)"
   ]
  },
  {
   "cell_type": "code",
   "execution_count": 45,
   "id": "10abe048",
   "metadata": {
    "scrolled": true
   },
   "outputs": [
    {
     "data": {
      "text/plain": [
       "True     24\n",
       "False     5\n",
       "Name: total, dtype: int64"
      ]
     },
     "execution_count": 45,
     "metadata": {},
     "output_type": "execute_result"
    }
   ],
   "source": [
    "series.value_counts()"
   ]
  },
  {
   "cell_type": "code",
   "execution_count": 46,
   "id": "4ef1d99f",
   "metadata": {},
   "outputs": [],
   "source": [
    "# Também podemos tentar ver quais são os elementos únicos de uma pandas series.\n",
    "regioes = df.regiao"
   ]
  },
  {
   "cell_type": "code",
   "execution_count": 47,
   "id": "d02d209c",
   "metadata": {},
   "outputs": [
    {
     "data": {
      "text/plain": [
       "array(['Norte', 'Nordeste', 'Sudeste', 'Sul', 'Centro-Oeste', nan],\n",
       "      dtype=object)"
      ]
     },
     "execution_count": 47,
     "metadata": {},
     "output_type": "execute_result"
    }
   ],
   "source": [
    "regioes.unique()"
   ]
  },
  {
   "cell_type": "code",
   "execution_count": 48,
   "id": "153229b6",
   "metadata": {},
   "outputs": [
    {
     "data": {
      "text/plain": [
       "5"
      ]
     },
     "execution_count": 48,
     "metadata": {},
     "output_type": "execute_result"
    }
   ],
   "source": [
    "regioes.nunique()"
   ]
  },
  {
   "cell_type": "markdown",
   "id": "ec7f6d3e",
   "metadata": {},
   "source": [
    "Podemos também fazer alterações no dataframe, de forma que nos ajude a ter mais informações."
   ]
  },
  {
   "cell_type": "code",
   "execution_count": 49,
   "id": "5b1f780a",
   "metadata": {},
   "outputs": [],
   "source": [
    "# Eu posso reorganizar o meu dataframe de acordo com qualquer coluna.\n",
    "sorted_values = df.sort_values(by='total', ascending=False).copy()"
   ]
  },
  {
   "cell_type": "code",
   "execution_count": 50,
   "id": "48e4681c",
   "metadata": {},
   "outputs": [
    {
     "data": {
      "text/html": [
       "<div>\n",
       "<style scoped>\n",
       "    .dataframe tbody tr th:only-of-type {\n",
       "        vertical-align: middle;\n",
       "    }\n",
       "\n",
       "    .dataframe tbody tr th {\n",
       "        vertical-align: top;\n",
       "    }\n",
       "\n",
       "    .dataframe thead th {\n",
       "        text-align: right;\n",
       "    }\n",
       "</style>\n",
       "<table border=\"1\" class=\"dataframe\">\n",
       "  <thead>\n",
       "    <tr style=\"text-align: right;\">\n",
       "      <th></th>\n",
       "      <th>regiao</th>\n",
       "      <th>uf</th>\n",
       "      <th>superficie</th>\n",
       "      <th>pop_urbana</th>\n",
       "      <th>pop_rural</th>\n",
       "      <th>total</th>\n",
       "    </tr>\n",
       "  </thead>\n",
       "  <tbody>\n",
       "    <tr>\n",
       "      <th>20</th>\n",
       "      <td>Sudeste</td>\n",
       "      <td>SP</td>\n",
       "      <td>248809</td>\n",
       "      <td>31769219.0</td>\n",
       "      <td>2351667.0</td>\n",
       "      <td>34120886.0</td>\n",
       "    </tr>\n",
       "    <tr>\n",
       "      <th>17</th>\n",
       "      <td>Sudeste</td>\n",
       "      <td>MG</td>\n",
       "      <td>588384</td>\n",
       "      <td>13074245.0</td>\n",
       "      <td>3598852.0</td>\n",
       "      <td>16673097.0</td>\n",
       "    </tr>\n",
       "    <tr>\n",
       "      <th>19</th>\n",
       "      <td>Sudeste</td>\n",
       "      <td>RJ</td>\n",
       "      <td>43910</td>\n",
       "      <td>12806488.0</td>\n",
       "      <td>599891.0</td>\n",
       "      <td>13406379.0</td>\n",
       "    </tr>\n",
       "    <tr>\n",
       "      <th>16</th>\n",
       "      <td>Nordeste</td>\n",
       "      <td>BA</td>\n",
       "      <td>567295</td>\n",
       "      <td>7826843.0</td>\n",
       "      <td>4714902.0</td>\n",
       "      <td>12541745.0</td>\n",
       "    </tr>\n",
       "    <tr>\n",
       "      <th>23</th>\n",
       "      <td>Sul</td>\n",
       "      <td>RS</td>\n",
       "      <td>282062</td>\n",
       "      <td>7581230.0</td>\n",
       "      <td>2056452.0</td>\n",
       "      <td>9637682.0</td>\n",
       "    </tr>\n",
       "    <tr>\n",
       "      <th>21</th>\n",
       "      <td>Sul</td>\n",
       "      <td>PR</td>\n",
       "      <td>199709</td>\n",
       "      <td>7011990.0</td>\n",
       "      <td>1991814.0</td>\n",
       "      <td>9003804.0</td>\n",
       "    </tr>\n",
       "    <tr>\n",
       "      <th>13</th>\n",
       "      <td>Nordeste</td>\n",
       "      <td>PE**</td>\n",
       "      <td>98938</td>\n",
       "      <td>5476915.0</td>\n",
       "      <td>1922216.0</td>\n",
       "      <td>7399131.0</td>\n",
       "    </tr>\n",
       "    <tr>\n",
       "      <th>10</th>\n",
       "      <td>Nordeste</td>\n",
       "      <td>CE</td>\n",
       "      <td>146348</td>\n",
       "      <td>4713311.0</td>\n",
       "      <td>2096483.0</td>\n",
       "      <td>6809794.0</td>\n",
       "    </tr>\n",
       "    <tr>\n",
       "      <th>4</th>\n",
       "      <td>Norte</td>\n",
       "      <td>PA</td>\n",
       "      <td>1253165</td>\n",
       "      <td>2949017.0</td>\n",
       "      <td>2561832.0</td>\n",
       "      <td>5510849.0</td>\n",
       "    </tr>\n",
       "    <tr>\n",
       "      <th>7</th>\n",
       "      <td>Nordeste</td>\n",
       "      <td>MA</td>\n",
       "      <td>333366</td>\n",
       "      <td>2711557.0</td>\n",
       "      <td>2511008.0</td>\n",
       "      <td>5222565.0</td>\n",
       "    </tr>\n",
       "  </tbody>\n",
       "</table>\n",
       "</div>"
      ],
      "text/plain": [
       "      regiao    uf  superficie  pop_urbana  pop_rural       total\n",
       "20   Sudeste    SP      248809  31769219.0  2351667.0  34120886.0\n",
       "17   Sudeste    MG      588384  13074245.0  3598852.0  16673097.0\n",
       "19   Sudeste    RJ       43910  12806488.0   599891.0  13406379.0\n",
       "16  Nordeste    BA      567295   7826843.0  4714902.0  12541745.0\n",
       "23       Sul    RS      282062   7581230.0  2056452.0   9637682.0\n",
       "21       Sul    PR      199709   7011990.0  1991814.0   9003804.0\n",
       "13  Nordeste  PE**       98938   5476915.0  1922216.0   7399131.0\n",
       "10  Nordeste    CE      146348   4713311.0  2096483.0   6809794.0\n",
       "4      Norte    PA     1253165   2949017.0  2561832.0   5510849.0\n",
       "7   Nordeste    MA      333366   2711557.0  2511008.0   5222565.0"
      ]
     },
     "execution_count": 50,
     "metadata": {},
     "output_type": "execute_result"
    }
   ],
   "source": [
    "sorted_values.head(10)"
   ]
  },
  {
   "cell_type": "code",
   "execution_count": 51,
   "id": "ffc37bea",
   "metadata": {},
   "outputs": [
    {
     "data": {
      "text/html": [
       "<div>\n",
       "<style scoped>\n",
       "    .dataframe tbody tr th:only-of-type {\n",
       "        vertical-align: middle;\n",
       "    }\n",
       "\n",
       "    .dataframe tbody tr th {\n",
       "        vertical-align: top;\n",
       "    }\n",
       "\n",
       "    .dataframe thead th {\n",
       "        text-align: right;\n",
       "    }\n",
       "</style>\n",
       "<table border=\"1\" class=\"dataframe\">\n",
       "  <thead>\n",
       "    <tr style=\"text-align: right;\">\n",
       "      <th></th>\n",
       "      <th>regiao</th>\n",
       "      <th>uf</th>\n",
       "      <th>superficie</th>\n",
       "      <th>pop_urbana</th>\n",
       "      <th>pop_rural</th>\n",
       "      <th>total</th>\n",
       "    </tr>\n",
       "  </thead>\n",
       "  <tbody>\n",
       "    <tr>\n",
       "      <th>24</th>\n",
       "      <td>Centro-Oeste</td>\n",
       "      <td>MS</td>\n",
       "      <td>358159</td>\n",
       "      <td>1604318.0</td>\n",
       "      <td>323516.0</td>\n",
       "      <td>1927834.0</td>\n",
       "    </tr>\n",
       "    <tr>\n",
       "      <th>27</th>\n",
       "      <td>Centro-Oeste</td>\n",
       "      <td>DF</td>\n",
       "      <td>5822</td>\n",
       "      <td>1692248.0</td>\n",
       "      <td>129698.0</td>\n",
       "      <td>1821946.0</td>\n",
       "    </tr>\n",
       "    <tr>\n",
       "      <th>15</th>\n",
       "      <td>Nordeste</td>\n",
       "      <td>SE</td>\n",
       "      <td>22050</td>\n",
       "      <td>1140569.0</td>\n",
       "      <td>483606.0</td>\n",
       "      <td>1624175.0</td>\n",
       "    </tr>\n",
       "    <tr>\n",
       "      <th>0</th>\n",
       "      <td>Norte</td>\n",
       "      <td>RO</td>\n",
       "      <td>238513</td>\n",
       "      <td>762864.0</td>\n",
       "      <td>468143.0</td>\n",
       "      <td>1231007.0</td>\n",
       "    </tr>\n",
       "    <tr>\n",
       "      <th>6</th>\n",
       "      <td>Norte</td>\n",
       "      <td>TO</td>\n",
       "      <td>278421</td>\n",
       "      <td>741009.0</td>\n",
       "      <td>307633.0</td>\n",
       "      <td>1048642.0</td>\n",
       "    </tr>\n",
       "    <tr>\n",
       "      <th>1</th>\n",
       "      <td>Norte</td>\n",
       "      <td>AC</td>\n",
       "      <td>153150</td>\n",
       "      <td>315401.0</td>\n",
       "      <td>168322.0</td>\n",
       "      <td>483726.0</td>\n",
       "    </tr>\n",
       "    <tr>\n",
       "      <th>5</th>\n",
       "      <td>Norte</td>\n",
       "      <td>AP</td>\n",
       "      <td>143454</td>\n",
       "      <td>330590.0</td>\n",
       "      <td>48869.0</td>\n",
       "      <td>379459.0</td>\n",
       "    </tr>\n",
       "    <tr>\n",
       "      <th>3</th>\n",
       "      <td>Norte</td>\n",
       "      <td>RR</td>\n",
       "      <td>225116</td>\n",
       "      <td>174277.0</td>\n",
       "      <td>72854.0</td>\n",
       "      <td>247131.0</td>\n",
       "    </tr>\n",
       "    <tr>\n",
       "      <th>9</th>\n",
       "      <td>Nordeste</td>\n",
       "      <td>Litígio*</td>\n",
       "      <td>2977</td>\n",
       "      <td>NaN</td>\n",
       "      <td>NaN</td>\n",
       "      <td>NaN</td>\n",
       "    </tr>\n",
       "    <tr>\n",
       "      <th>28</th>\n",
       "      <td>NaN</td>\n",
       "      <td>Ilhas***</td>\n",
       "      <td>10</td>\n",
       "      <td>NaN</td>\n",
       "      <td>NaN</td>\n",
       "      <td>NaN</td>\n",
       "    </tr>\n",
       "  </tbody>\n",
       "</table>\n",
       "</div>"
      ],
      "text/plain": [
       "          regiao        uf  superficie  pop_urbana  pop_rural      total\n",
       "24  Centro-Oeste        MS      358159   1604318.0   323516.0  1927834.0\n",
       "27  Centro-Oeste        DF        5822   1692248.0   129698.0  1821946.0\n",
       "15      Nordeste        SE       22050   1140569.0   483606.0  1624175.0\n",
       "0          Norte        RO      238513    762864.0   468143.0  1231007.0\n",
       "6          Norte        TO      278421    741009.0   307633.0  1048642.0\n",
       "1          Norte        AC      153150    315401.0   168322.0   483726.0\n",
       "5          Norte        AP      143454    330590.0    48869.0   379459.0\n",
       "3          Norte        RR      225116    174277.0    72854.0   247131.0\n",
       "9       Nordeste  Litígio*        2977         NaN        NaN        NaN\n",
       "28           NaN  Ilhas***          10         NaN        NaN        NaN"
      ]
     },
     "execution_count": 51,
     "metadata": {},
     "output_type": "execute_result"
    }
   ],
   "source": [
    "# Quais estados com menos habitantes?\n",
    "sorted_values.tail(10)"
   ]
  }
 ],
 "metadata": {
  "kernelspec": {
   "display_name": "Python 3 (ipykernel)",
   "language": "python",
   "name": "python3"
  },
  "language_info": {
   "codemirror_mode": {
    "name": "ipython",
    "version": 3
   },
   "file_extension": ".py",
   "mimetype": "text/x-python",
   "name": "python",
   "nbconvert_exporter": "python",
   "pygments_lexer": "ipython3",
   "version": "3.9.7"
  }
 },
 "nbformat": 4,
 "nbformat_minor": 5
}
