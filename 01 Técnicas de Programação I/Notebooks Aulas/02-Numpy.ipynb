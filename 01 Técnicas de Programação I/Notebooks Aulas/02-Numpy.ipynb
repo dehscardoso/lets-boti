{
 "cells": [
  {
   "cell_type": "markdown",
   "id": "b63823cb",
   "metadata": {},
   "source": [
    "# Aula 3.1 - Numpy pt2\n",
    "\n",
    "Na última aula, vimos o básico da biblioteca NumPy, utilizada para computação científica. Hoje, vamos tentar sedimentar nosso conhecimento com uma rápida revisão, e depois conversar um pouco sobre maiores detalhes da biblioteca. "
   ]
  },
  {
   "cell_type": "markdown",
   "id": "f6d42e0e",
   "metadata": {},
   "source": [
    "---"
   ]
  },
  {
   "cell_type": "markdown",
   "id": "6cb31112",
   "metadata": {},
   "source": [
    "## Revisão"
   ]
  },
  {
   "cell_type": "code",
   "execution_count": 1,
   "id": "55d1ce62",
   "metadata": {},
   "outputs": [],
   "source": [
    "# Lembrando do import do numpy como \"np\"\n",
    "import numpy as np"
   ]
  },
  {
   "cell_type": "code",
   "execution_count": 2,
   "id": "a264200a",
   "metadata": {},
   "outputs": [
    {
     "name": "stdout",
     "output_type": "stream",
     "text": [
      "Dimensões: 3\n",
      "Formato: (2, 3, 3)\n",
      "Número de elementos: 18\n",
      "Tipo dos elementos: int32\n"
     ]
    }
   ],
   "source": [
    "# A estrutura de dados básica do numpy é o \"ndarray\"\n",
    "var = np.array([[[1, 2, 3],\n",
    "                 [4, 5, 6],\n",
    "                 [7, 8, 9]],\n",
    "                [[-1, 0, 0],\n",
    "                 [0, -1, 0],\n",
    "                 [0,  0, 1]],])\n",
    "\n",
    "# Ela possui atributos básicos de dimensão, formato, número de elementos,\n",
    "# e tipo dos elementos\n",
    "print(\"Dimensões:\",var.ndim)\n",
    "print(\"Formato:\",var.shape)\n",
    "print(\"Número de elementos:\",var.size)\n",
    "print(\"Tipo dos elementos:\",var.dtype)"
   ]
  },
  {
   "cell_type": "code",
   "execution_count": 3,
   "id": "751652cc",
   "metadata": {},
   "outputs": [
    {
     "name": "stdout",
     "output_type": "stream",
     "text": [
      "Array de zeros\n",
      "[[[0. 0.]\n",
      "  [0. 0.]\n",
      "  [0. 0.]]\n",
      "\n",
      " [[0. 0.]\n",
      "  [0. 0.]\n",
      "  [0. 0.]]]\n",
      "-----\n",
      "Array de uns\n",
      "[[1. 1. 1. 1. 1.]\n",
      " [1. 1. 1. 1. 1.]\n",
      " [1. 1. 1. 1. 1.]\n",
      " [1. 1. 1. 1. 1.]]\n",
      "-----\n",
      "Array com todos os elementos 29.123\n",
      "[[29.123 29.123 29.123 29.123 29.123]\n",
      " [29.123 29.123 29.123 29.123 29.123]\n",
      " [29.123 29.123 29.123 29.123 29.123]\n",
      " [29.123 29.123 29.123 29.123 29.123]]\n"
     ]
    }
   ],
   "source": [
    "# Nós também podemos criar alguns arrays específicos com métodos pré-definidos\n",
    "print(\"Array de zeros\")\n",
    "arr_zero = np.zeros((2,3,2))\n",
    "print(arr_zero) # Criar um array de zeros\n",
    "print('-----')\n",
    "print(\"Array de uns\")\n",
    "arr_uns = np.ones((4, 5))\n",
    "print(arr_uns) # Criar um array de zeros\n",
    "print('-----')\n",
    "\n",
    "# O numpy tem muitos mais métodos do que os que vimos. \n",
    "# É bom sempre olharmos na documentação ou na internet se precisarmos de algum específico\n",
    "# que não sabemos se existe.\n",
    "print(\"Array com todos os elementos 29.123\")\n",
    "arr_float = np.full((4, 5), fill_value=29.123, dtype=np.float64)\n",
    "print(arr_float)"
   ]
  },
  {
   "cell_type": "code",
   "execution_count": 4,
   "id": "4eeddc7c",
   "metadata": {},
   "outputs": [
    {
     "name": "stdout",
     "output_type": "stream",
     "text": [
      "[2 5 8]\n",
      "[8 5 2]\n",
      "[4 5 6]\n",
      "[ 5 -1]\n",
      "[ 1  5 -1 -1]\n"
     ]
    }
   ],
   "source": [
    "# Também aprendemos sobre indexação (indexing) e fatiamento (slicing)\n",
    "print(var[0,:,1])\n",
    "print(var[0,::-1,1])\n",
    "print(var[0,1,:])\n",
    "print(var[:,1,1])\n",
    "print(var[[0, 0, 1, 1],[0, 1, 0, 1],[0, 1, 0, 1]]) #Podemos também usar indexação por listas"
   ]
  },
  {
   "cell_type": "code",
   "execution_count": 5,
   "id": "53882a9a",
   "metadata": {},
   "outputs": [
    {
     "name": "stdout",
     "output_type": "stream",
     "text": [
      "[1 2 3 4 5 6 7 8 9 1]\n"
     ]
    }
   ],
   "source": [
    "# Podemos passar máscaras booleanas para o nosso array\n",
    "print(var[var > 0])"
   ]
  },
  {
   "cell_type": "code",
   "execution_count": 6,
   "id": "f6409aa4",
   "metadata": {},
   "outputs": [
    {
     "name": "stdout",
     "output_type": "stream",
     "text": [
      "[1 3 1]\n",
      "[ 1  1 -1]\n",
      "[0 2 0]\n",
      "[inf  2.  0.]\n",
      "2\n",
      "-5\n"
     ]
    },
    {
     "name": "stderr",
     "output_type": "stream",
     "text": [
      "C:\\Users\\adm\\AppData\\Local\\Temp/ipykernel_14052/146693241.py:11: RuntimeWarning: divide by zero encountered in true_divide\n",
      "  print(vec1 / vec2) # Divisão também\n"
     ]
    }
   ],
   "source": [
    "# Por fim, temos também as operações matemáticas básicas\n",
    "vec1 = np.array([1, 2, 0])\n",
    "vec2 = np.array([0, 1, 1])\n",
    "matriz = np.array([[-1, 0, 0],\n",
    "                   [0, -1, 0],\n",
    "                   [0, 0, 1]])\n",
    "\n",
    "print(vec1 + vec2) # Soma é elemento a elemento\n",
    "print(vec1 - vec2) # Subtração também\n",
    "print(vec1 * vec2) # Multiplicação também\n",
    "print(vec1 / vec2) # Divisão também\n",
    "\n",
    "print(vec2 @ vec1) # Produto matricial e produto interno\n",
    "print((matriz @ vec1) @ vec1) # Produto matricial e produto interno"
   ]
  },
  {
   "cell_type": "markdown",
   "id": "2bc36591",
   "metadata": {},
   "source": [
    "## Mais detalhes\n",
    "\n",
    "Vamos agora ver alguns detalhes extras da biblioteca que nos ajudam bastante a usá-la em momentos não triviais."
   ]
  },
  {
   "cell_type": "markdown",
   "id": "dc23b2b0",
   "metadata": {},
   "source": [
    "### Manipulação de arrays"
   ]
  },
  {
   "cell_type": "code",
   "execution_count": 24,
   "id": "8a38e1ac",
   "metadata": {},
   "outputs": [],
   "source": [
    "# Transforme o vetor abaixo em uma matriz 3x3\n",
    "x = np.array([0.1, 0.4, 1.0, 0.2, 0.7, 1.2, 1.1, 1.0, 0.9])"
   ]
  },
  {
   "cell_type": "code",
   "execution_count": 25,
   "id": "6978f54f",
   "metadata": {},
   "outputs": [
    {
     "data": {
      "text/plain": [
       "array([[0.1, 0.4, 1. ],\n",
       "       [0.2, 0.7, 1.2],\n",
       "       [1.1, 1. , 0.9]])"
      ]
     },
     "execution_count": 25,
     "metadata": {},
     "output_type": "execute_result"
    }
   ],
   "source": [
    "x.reshape(3,3)"
   ]
  },
  {
   "cell_type": "code",
   "execution_count": 26,
   "id": "c171f87d",
   "metadata": {},
   "outputs": [],
   "source": [
    "# Transforme a matriz abaixo em uma lista de valores crescentes\n",
    "x = np.array([[1, 2, 3],\n",
    "              [4, 5, 6],\n",
    "              [7, 8, 9]])"
   ]
  },
  {
   "cell_type": "code",
   "execution_count": 27,
   "id": "208611d3",
   "metadata": {},
   "outputs": [
    {
     "data": {
      "text/plain": [
       "array([1, 2, 3, 4, 5, 6, 7, 8, 9])"
      ]
     },
     "execution_count": 27,
     "metadata": {},
     "output_type": "execute_result"
    }
   ],
   "source": [
    "x.flatten()"
   ]
  },
  {
   "cell_type": "code",
   "execution_count": 28,
   "id": "21175559",
   "metadata": {},
   "outputs": [
    {
     "data": {
      "text/plain": [
       "array([1, 2, 3, 4, 5, 6, 7, 8, 9])"
      ]
     },
     "execution_count": 28,
     "metadata": {},
     "output_type": "execute_result"
    }
   ],
   "source": [
    "np.reshape(x, -1)"
   ]
  },
  {
   "cell_type": "code",
   "execution_count": 29,
   "id": "5f134a8d",
   "metadata": {},
   "outputs": [],
   "source": [
    "# Faça a transposta da matriz abaixo. Ou seja, troque os valores \n",
    "# com relação à diagonal. \n",
    "# O elemento na posição (1,2) vai para a posição (2,1), e vice versa.\n",
    "x = np.array([[0, 1, 1],\n",
    "              [2, 0, 1],\n",
    "              [2, 2, 0]])"
   ]
  },
  {
   "cell_type": "code",
   "execution_count": 30,
   "id": "9ae3d605",
   "metadata": {},
   "outputs": [
    {
     "data": {
      "text/plain": [
       "array([[0, 2, 2],\n",
       "       [1, 0, 2],\n",
       "       [1, 1, 0]])"
      ]
     },
     "execution_count": 30,
     "metadata": {},
     "output_type": "execute_result"
    }
   ],
   "source": [
    "x.T"
   ]
  },
  {
   "cell_type": "code",
   "execution_count": 32,
   "id": "43c6f453",
   "metadata": {},
   "outputs": [],
   "source": [
    "# Também podemos combinar arrays diferentes.\n",
    "# Imagina que temos duas features, altura e peso de pessoas físicas.\n",
    "x1 = np.array([[1.67, 89.],\n",
    "               [1.79, 85.],\n",
    "               [1.69, 65.],\n",
    "               [1.54, 57.],\n",
    "               [1.50, 45.]])\n",
    "\n",
    "# Porém, nós queremos testar agora adicionar uma terceira feature, se a pessoa é homem ou mulher.\n",
    "# 1 é mulher, 0 é homem\n",
    "x2 = np.array([1, 0, 1, 0, 1])\n",
    "\n",
    "# Como podemos fazer?"
   ]
  },
  {
   "cell_type": "code",
   "execution_count": 34,
   "id": "3c0b1e51",
   "metadata": {},
   "outputs": [
    {
     "data": {
      "text/plain": [
       "array([[ 1.67, 89.  ,  1.  ],\n",
       "       [ 1.79, 85.  ,  0.  ],\n",
       "       [ 1.69, 65.  ,  1.  ],\n",
       "       [ 1.54, 57.  ,  0.  ],\n",
       "       [ 1.5 , 45.  ,  1.  ]])"
      ]
     },
     "execution_count": 34,
     "metadata": {},
     "output_type": "execute_result"
    }
   ],
   "source": [
    "np.concatenate((x1, x2.reshape(-1,1)), axis=1)"
   ]
  },
  {
   "cell_type": "code",
   "execution_count": 36,
   "id": "a01c3b5f",
   "metadata": {},
   "outputs": [
    {
     "data": {
      "text/plain": [
       "array([[ 1.67, 89.  ,  1.  ],\n",
       "       [ 1.79, 85.  ,  0.  ],\n",
       "       [ 1.69, 65.  ,  1.  ],\n",
       "       [ 1.54, 57.  ,  0.  ],\n",
       "       [ 1.5 , 45.  ,  1.  ]])"
      ]
     },
     "execution_count": 36,
     "metadata": {},
     "output_type": "execute_result"
    }
   ],
   "source": [
    "np.append(x1, x2.reshape(-1,1), axis=1)"
   ]
  },
  {
   "cell_type": "code",
   "execution_count": 43,
   "id": "3bdc6b58",
   "metadata": {},
   "outputs": [
    {
     "data": {
      "text/plain": [
       "array([[ 1.67, 89.  ,  1.  ],\n",
       "       [ 1.79, 85.  ,  0.  ],\n",
       "       [ 1.69, 65.  ,  1.  ],\n",
       "       [ 1.54, 57.  ,  0.  ],\n",
       "       [ 1.5 , 45.  ,  1.  ]])"
      ]
     },
     "execution_count": 43,
     "metadata": {},
     "output_type": "execute_result"
    }
   ],
   "source": [
    "np.insert(x1, 2, x2, axis=1)"
   ]
  },
  {
   "cell_type": "code",
   "execution_count": 41,
   "id": "0cee15ed",
   "metadata": {},
   "outputs": [
    {
     "data": {
      "text/plain": [
       "array([[ 1.67, 89.  ,  1.  ],\n",
       "       [ 1.79, 85.  ,  0.  ],\n",
       "       [ 1.69, 65.  ,  1.  ],\n",
       "       [ 1.54, 57.  ,  0.  ],\n",
       "       [ 1.5 , 45.  ,  1.  ]])"
      ]
     },
     "execution_count": 41,
     "metadata": {},
     "output_type": "execute_result"
    }
   ],
   "source": [
    "np.column_stack([x1, x2])"
   ]
  },
  {
   "cell_type": "code",
   "execution_count": 11,
   "id": "1eed91de",
   "metadata": {},
   "outputs": [],
   "source": [
    "# Agora temos a tabela de dados abaixo.\n",
    "table = np.array([[1.67, 89., 1],\n",
    "                  [1.79, 85., 0],\n",
    "                  [1.69, 65., 1],\n",
    "                  [1.54, 57., 0],\n",
    "                  [1.50, 45., 1]])\n",
    "\n",
    "# Mas tinhamos esquecido de outras 3 pessoas!\n",
    "new_table = np.array([[1.78, 91, 0],\n",
    "                      [1.72, 67, 1],\n",
    "                      [1.77, 76, 1]])\n",
    "\n",
    "# Como podemos juntar as tabelas?"
   ]
  },
  {
   "cell_type": "code",
   "execution_count": 45,
   "id": "15b91005",
   "metadata": {},
   "outputs": [
    {
     "data": {
      "text/plain": [
       "array([[ 1.67, 89.  ,  1.  ],\n",
       "       [ 1.79, 85.  ,  0.  ],\n",
       "       [ 1.69, 65.  ,  1.  ],\n",
       "       [ 1.54, 57.  ,  0.  ],\n",
       "       [ 1.5 , 45.  ,  1.  ],\n",
       "       [ 1.78, 91.  ,  0.  ],\n",
       "       [ 1.72, 67.  ,  1.  ],\n",
       "       [ 1.77, 76.  ,  1.  ]])"
      ]
     },
     "execution_count": 45,
     "metadata": {},
     "output_type": "execute_result"
    }
   ],
   "source": [
    "np.concatenate([table, new_table])"
   ]
  },
  {
   "cell_type": "markdown",
   "id": "44dfd808",
   "metadata": {},
   "source": [
    "### Funções matemáticas"
   ]
  },
  {
   "cell_type": "code",
   "execution_count": 46,
   "id": "cbc68bc1",
   "metadata": {},
   "outputs": [],
   "source": [
    "# NÃO VAMOS FALAR DE VISUALIZAÇÃO DE DADOS AINDA!\n",
    "# Porém, vou importar aqui uma biblioteca de visualização por questões pedagógicas,\n",
    "# para vermos visualmente os resultados de algumas operações\n",
    "import matplotlib.pyplot as plt"
   ]
  },
  {
   "cell_type": "code",
   "execution_count": 53,
   "id": "1e6c84fb",
   "metadata": {},
   "outputs": [],
   "source": [
    "# Como podemos desenhar a função coseno entre x=-6.3 e x=6.3?\n",
    "# Faça uma variável x com os pontos entre -2 e 2 que você escolher.\n",
    "# Faça uma variável y com o valor do coseno nesses pontos.\n",
    "\n",
    "x = np.linspace(-6.3, 6.3, 100)\n",
    "y = np.cos(x)"
   ]
  },
  {
   "cell_type": "code",
   "execution_count": 54,
   "id": "beb1bdc3",
   "metadata": {},
   "outputs": [
    {
     "data": {
      "image/png": "[encoded data removed]",
      "text/plain": [
       "<Figure size 432x288 with 1 Axes>"
      ]
     },
     "metadata": {
      "needs_background": "light"
     },
     "output_type": "display_data"
    }
   ],
   "source": [
    "# Agora rode o código abaixo.\n",
    "plt.plot(x, y)\n",
    "plt.show()"
   ]
  },
  {
   "cell_type": "code",
   "execution_count": 62,
   "id": "9b97d5fc",
   "metadata": {},
   "outputs": [
    {
     "name": "stderr",
     "output_type": "stream",
     "text": [
      "C:\\Users\\adm\\AppData\\Local\\Temp/ipykernel_14052/3107798129.py:5: RuntimeWarning: overflow encountered in exp\n",
      "  x = np.exp(np.abs(-x))\n"
     ]
    }
   ],
   "source": [
    "# Faça o mesmo de antes, mas agora a função é:\n",
    "# exp(-|x|)\n",
    "# Pesquisa pela função \"abs\" no numpy\n",
    "\n",
    "x = np.exp(-abs(x))"
   ]
  },
  {
   "cell_type": "code",
   "execution_count": 63,
   "id": "6528c6b9",
   "metadata": {},
   "outputs": [
    {
     "data": {
      "image/png": "[encoded data removed]",
      "text/plain": [
       "<Figure size 432x288 with 1 Axes>"
      ]
     },
     "metadata": {
      "needs_background": "light"
     },
     "output_type": "display_data"
    }
   ],
   "source": [
    "# Agora rode o código abaixo.\n",
    "plt.plot(x, y)\n",
    "plt.show()"
   ]
  },
  {
   "cell_type": "markdown",
   "id": "2dd270f9",
   "metadata": {},
   "source": [
    "Vamos fazer uma visualização legal, usando como referência \n",
    "[o blog do John D Cook](johndcook.com/blog/2017/10/07/exponential-sums-make-pretty-pictures).\n",
    "\n",
    "\n",
    "A ideía é que as soma parciais de \"exponenciais complexas\",\n",
    "$$ \\sum_{n=0}^{N} \\exp{\\left(2\\cdot\\pi\\cdot j \\cdot \\left(\\frac{n}{m} + \\frac{n^2}{d} + \\frac{n^3}{y}\\right)\\right)} $$\n",
    "\n",
    "para diferentes valores de $m$, $y$ e $d$, dão gráficos muito bonitos.\n",
    "\n",
    "![teste](https://www.johndcook.com/expsum01.png)"
   ]
  },
  {
   "cell_type": "code",
   "execution_count": 77,
   "id": "2d2b2a20",
   "metadata": {},
   "outputs": [],
   "source": [
    "# Como ficaria a lógica do código no numpy?\n",
    "y = 21\n",
    "m = 5\n",
    "d = 2\n",
    "\n",
    "N = 2000 # Número de somas parciais\n",
    "\n",
    "# Para fazer a operação acima com números complexos, faça o seguinte:\n",
    "# Onde você faria a conta que está dentro da exponencial, faça tudo esquecendo o j.\n",
    "# Aí, ainda dentro da exponencial, você multiplica tudo por \"1j\".\n",
    "\n",
    "n = np.arange(0, N+1)\n",
    "y = np.exp(2.0 * np.pi * ((n/m) + (n**2/d) + (n**3/y)) * 1j)\n",
    "\n",
    "# Para obter somas parciais, pesquise \"cumsum\" dentro do numpy.\n",
    "# Salve o resultado em uma variável \"soma_acumulada\"\n",
    "\n",
    "soma_acumulada = y.cumsum()"
   ]
  },
  {
   "cell_type": "code",
   "execution_count": 78,
   "id": "bacc3081",
   "metadata": {},
   "outputs": [
    {
     "data": {
      "image/png": "[encoded data removed]",
      "text/plain": [
       "<Figure size 432x288 with 1 Axes>"
      ]
     },
     "metadata": {
      "needs_background": "light"
     },
     "output_type": "display_data"
    }
   ],
   "source": [
    "# Com a sua soma acumulada, rode o código abaixo.\n",
    "plt.plot(np.real(soma_acumulada), np.imag(soma_acumulada))\n",
    "plt.show()"
   ]
  },
  {
   "cell_type": "code",
   "execution_count": 71,
   "id": "1b1993c5",
   "metadata": {},
   "outputs": [
    {
     "name": "stdout",
     "output_type": "stream",
     "text": [
      "Média:  -0.148736542916\n",
      "Desvio Padrão:  0.8421443172490778\n"
     ]
    }
   ],
   "source": [
    "# Arrays do numpy também têm alguns métodos já salvos neles, para alguns tipos de operações matemáticas.\n",
    "\n",
    "# Encontre a média e o desvio padrão do array abaixo.\n",
    "data = [-3.99639747e-01,  1.17716084e-03,  7.57112282e-01, -1.38651800e+00,\n",
    "         7.67865914e-01, -1.07935805e+00,  2.57581851e-01, -8.42067558e-01,\n",
    "         1.22636135e+00, -7.89880632e-01]\n",
    "\n",
    "print(\"Média: \", np.mean(data))\n",
    "print(\"Desvio Padrão: \", np.std(data))"
   ]
  },
  {
   "cell_type": "code",
   "execution_count": 72,
   "id": "f2b28c8e",
   "metadata": {},
   "outputs": [
    {
     "data": {
      "text/plain": [
       "79003"
      ]
     },
     "execution_count": 72,
     "metadata": {},
     "output_type": "execute_result"
    }
   ],
   "source": [
    "# Encontre a soma do array abaixo, sem usar fórmulas fechadas.\n",
    "x = np.arange(0, 398, 1)\n",
    "x.sum()"
   ]
  },
  {
   "cell_type": "markdown",
   "id": "647f47d0",
   "metadata": {},
   "source": [
    "### Tipos de dados"
   ]
  },
  {
   "cell_type": "markdown",
   "id": "c7fadc82",
   "metadata": {},
   "source": [
    "Primeiro vamos falar do infinito (e além).\n",
    "\n",
    "Quando fazemos operações de ponto flutuante no computador, existe um padrão técnico (definido pela IEEE, o Instituto de Engenheiros Eletro-eletrônicos) que define algumas coisas que uma biblioteca tem que ter.\n",
    "\n",
    "Especificamente, aqui vamos falar de duas coisas:\n",
    "- Not a Number (NAN)\n",
    "- Infinito"
   ]
  },
  {
   "cell_type": "code",
   "execution_count": 79,
   "id": "032870fe",
   "metadata": {},
   "outputs": [
    {
     "ename": "ZeroDivisionError",
     "evalue": "division by zero",
     "output_type": "error",
     "traceback": [
      "\u001b[1;31m---------------------------------------------------------------------------\u001b[0m",
      "\u001b[1;31mZeroDivisionError\u001b[0m                         Traceback (most recent call last)",
      "\u001b[1;32m~\\AppData\\Local\\Temp/ipykernel_14052/2267467693.py\u001b[0m in \u001b[0;36m<module>\u001b[1;34m\u001b[0m\n\u001b[0;32m      1\u001b[0m \u001b[1;31m# Not a Number é o resultado de operações inválidas.\u001b[0m\u001b[1;33m\u001b[0m\u001b[1;33m\u001b[0m\u001b[0m\n\u001b[0;32m      2\u001b[0m \u001b[1;31m# Embora ele exista no Python, operações inválidas tendem a levantar um erro.\u001b[0m\u001b[1;33m\u001b[0m\u001b[1;33m\u001b[0m\u001b[0m\n\u001b[1;32m----> 3\u001b[1;33m \u001b[1;36m0\u001b[0m\u001b[1;33m/\u001b[0m\u001b[1;36m0\u001b[0m\u001b[1;33m\u001b[0m\u001b[1;33m\u001b[0m\u001b[0m\n\u001b[0m",
      "\u001b[1;31mZeroDivisionError\u001b[0m: division by zero"
     ]
    }
   ],
   "source": [
    "# Not a Number é o resultado de operações inválidas.\n",
    "# Embora ele exista no Python, operações inválidas tendem a levantar um erro.\n",
    "0/0"
   ]
  },
  {
   "cell_type": "code",
   "execution_count": 80,
   "id": "7fb7f81a",
   "metadata": {},
   "outputs": [
    {
     "data": {
      "text/plain": [
       "nan"
      ]
     },
     "execution_count": 80,
     "metadata": {},
     "output_type": "execute_result"
    }
   ],
   "source": [
    "# Para usá-lo no python, temos que converter string para float.\n",
    "float('NaN')"
   ]
  },
  {
   "cell_type": "code",
   "execution_count": 81,
   "id": "70d63552",
   "metadata": {},
   "outputs": [
    {
     "name": "stdout",
     "output_type": "stream",
     "text": [
      "nan\n",
      "<class 'float'>\n"
     ]
    }
   ],
   "source": [
    "# No numpy, temos o objeto nan.\n",
    "print(np.nan)\n",
    "print(type(np.nan))"
   ]
  },
  {
   "cell_type": "code",
   "execution_count": 82,
   "id": "74b50191",
   "metadata": {},
   "outputs": [
    {
     "name": "stdout",
     "output_type": "stream",
     "text": [
      "[0.5 0.  0.5 nan]\n"
     ]
    },
    {
     "name": "stderr",
     "output_type": "stream",
     "text": [
      "C:\\Users\\adm\\AppData\\Local\\Temp/ipykernel_14052/1370221415.py:5: RuntimeWarning: invalid value encountered in true_divide\n",
      "  print(x1 / x2)\n"
     ]
    }
   ],
   "source": [
    "# Já no numpy, operações inválidas retornam NaN mesmo.\n",
    "x1 = np.array([1, 0, 1, 0])\n",
    "x2 = np.array([2, 1, 2, 0])\n",
    "\n",
    "print(x1 / x2)"
   ]
  },
  {
   "cell_type": "code",
   "execution_count": 83,
   "id": "466ce8f9",
   "metadata": {},
   "outputs": [
    {
     "ename": "ZeroDivisionError",
     "evalue": "division by zero",
     "output_type": "error",
     "traceback": [
      "\u001b[1;31m---------------------------------------------------------------------------\u001b[0m",
      "\u001b[1;31mZeroDivisionError\u001b[0m                         Traceback (most recent call last)",
      "\u001b[1;32m~\\AppData\\Local\\Temp/ipykernel_14052/1896654093.py\u001b[0m in \u001b[0;36m<module>\u001b[1;34m\u001b[0m\n\u001b[0;32m      1\u001b[0m \u001b[1;31m# \"Infinito\", no padrão, pode ser pensado como um número que é maior que qualquer outro número.\u001b[0m\u001b[1;33m\u001b[0m\u001b[1;33m\u001b[0m\u001b[0m\n\u001b[0;32m      2\u001b[0m \u001b[1;31m# No caso de \"-infinito\", temos um número que é menor que qualquer outro número.\u001b[0m\u001b[1;33m\u001b[0m\u001b[1;33m\u001b[0m\u001b[0m\n\u001b[1;32m----> 3\u001b[1;33m \u001b[1;36m1\u001b[0m\u001b[1;33m/\u001b[0m\u001b[1;36m0\u001b[0m\u001b[1;33m\u001b[0m\u001b[1;33m\u001b[0m\u001b[0m\n\u001b[0m",
      "\u001b[1;31mZeroDivisionError\u001b[0m: division by zero"
     ]
    }
   ],
   "source": [
    "# \"Infinito\", no padrão, pode ser pensado como um número que é maior que qualquer outro número.\n",
    "# No caso de \"-infinito\", temos um número que é menor que qualquer outro número.\n",
    "1/0"
   ]
  },
  {
   "cell_type": "code",
   "execution_count": 84,
   "id": "0ace9a0a",
   "metadata": {},
   "outputs": [
    {
     "name": "stdout",
     "output_type": "stream",
     "text": [
      "inf\n",
      "True\n",
      "True\n"
     ]
    }
   ],
   "source": [
    "print(float('inf'))\n",
    "print(float('inf') > 293818943824723984.928)\n",
    "print(-float('inf') < -293818943824723984.928)"
   ]
  },
  {
   "cell_type": "code",
   "execution_count": 85,
   "id": "15e4e912",
   "metadata": {},
   "outputs": [
    {
     "name": "stdout",
     "output_type": "stream",
     "text": [
      "inf\n",
      "True\n",
      "True\n",
      "<class 'float'>\n"
     ]
    }
   ],
   "source": [
    "# No Numpy, não seria diferente.\n",
    "print(np.inf)\n",
    "print(np.inf > 293818943824723984.928)\n",
    "print(-np.inf < -293818943824723984.928)\n",
    "print(type(np.inf))"
   ]
  },
  {
   "cell_type": "code",
   "execution_count": 86,
   "id": "038542fa",
   "metadata": {},
   "outputs": [
    {
     "name": "stdout",
     "output_type": "stream",
     "text": [
      "[ 2. inf  2. nan]\n"
     ]
    },
    {
     "name": "stderr",
     "output_type": "stream",
     "text": [
      "C:\\Users\\adm\\AppData\\Local\\Temp/ipykernel_14052/1137161946.py:5: RuntimeWarning: divide by zero encountered in true_divide\n",
      "  print(x2 / x1)\n",
      "C:\\Users\\adm\\AppData\\Local\\Temp/ipykernel_14052/1137161946.py:5: RuntimeWarning: invalid value encountered in true_divide\n",
      "  print(x2 / x1)\n"
     ]
    }
   ],
   "source": [
    "# No numpy, algumas operações podem gerar infinitos.\n",
    "x1 = np.array([1, 0, 1, 0])\n",
    "x2 = np.array([2, 1, 2, 0])\n",
    "\n",
    "print(x2 / x1)"
   ]
  },
  {
   "cell_type": "markdown",
   "id": "8be43a5f",
   "metadata": {},
   "source": [
    "Notou que tanto infinito quanto NaN são do tipo \"float\"? Não são float64, nem float32, nem anda assim.\n",
    "\n",
    "Isso é devido à hierarquia de dtypes do numpy.\n",
    "\n",
    "![hierarchy](https://numpy.org/doc/stable/_images/dtype-hierarchy.png)"
   ]
  },
  {
   "cell_type": "code",
   "execution_count": 87,
   "id": "6f9458e3",
   "metadata": {},
   "outputs": [
    {
     "data": {
      "text/plain": [
       "False"
      ]
     },
     "execution_count": 87,
     "metadata": {},
     "output_type": "execute_result"
    }
   ],
   "source": [
    "# No numpy, nós temos implementados tipos com maior ou menor acurácia.\n",
    "# Por exemplo, temos float16, float32, e float64, cada um com maior acurácia que o anterior.\n",
    "f16 = np.float16(\"0.1\")\n",
    "f32 = np.float32(\"0.1\")\n",
    "f64 = np.float64(\"0.1\")\n",
    "f16 == f32 == f64"
   ]
  },
  {
   "cell_type": "markdown",
   "id": "0976f33e",
   "metadata": {},
   "source": [
    "Mas todos os três são diferentes!\n",
    "\n",
    "Para saber mais:\n",
    "\n",
    "https://numpy.org/doc/stable/reference/arrays.scalars.html"
   ]
  },
  {
   "cell_type": "code",
   "execution_count": 88,
   "id": "7db69d93",
   "metadata": {},
   "outputs": [
    {
     "name": "stdout",
     "output_type": "stream",
     "text": [
      "int32\n"
     ]
    }
   ],
   "source": [
    "# Nós também podemos converter o dtype de um array!\n",
    "print(x1.dtype)"
   ]
  },
  {
   "cell_type": "code",
   "execution_count": 89,
   "id": "746b34a5",
   "metadata": {},
   "outputs": [
    {
     "name": "stdout",
     "output_type": "stream",
     "text": [
      "float32\n"
     ]
    }
   ],
   "source": [
    "print(x1.astype(np.float32).dtype)"
   ]
  },
  {
   "cell_type": "markdown",
   "id": "1ab174b9",
   "metadata": {},
   "source": [
    "### Broadcasting\n",
    "\n",
    "https://numpy.org/doc/stable/user/basics.broadcasting.html"
   ]
  },
  {
   "cell_type": "code",
   "execution_count": null,
   "id": "7e527e35",
   "metadata": {},
   "outputs": [],
   "source": [
    "# No numpy, nós conseguimos multiplicar arrays de tamanhos diferentes, \n",
    "# desde que faça sentido pensar no array menor \"caminhando\" pelo maior.\n",
    "\n",
    "# Pode pensar como se fosse o menor sendo duplicado, triplicado, etc...,\n",
    "# até os dois arrays terem mesmo tamanho."
   ]
  },
  {
   "cell_type": "markdown",
   "id": "0ee9dbd1",
   "metadata": {},
   "source": [
    "![broadcasting_ok](https://numpy.org/doc/stable/_images/broadcasting_2.png)"
   ]
  },
  {
   "cell_type": "markdown",
   "id": "34352fe0",
   "metadata": {},
   "source": [
    "![broadcasting_nok](https://numpy.org/doc/stable/_images/broadcasting_3.png)"
   ]
  },
  {
   "cell_type": "code",
   "execution_count": 90,
   "id": "a4b9c417",
   "metadata": {},
   "outputs": [],
   "source": [
    "a = np.array([[0,0,0],\n",
    "              [10, 10, 10],\n",
    "              [20, 20, 20],\n",
    "              [30, 30, 30]])\n",
    "\n",
    "b = np.array([1, 2, 3])\n",
    "c = np.array([1, 2, 3, 4])"
   ]
  },
  {
   "cell_type": "code",
   "execution_count": 91,
   "id": "4be7ace9",
   "metadata": {},
   "outputs": [
    {
     "data": {
      "text/plain": [
       "array([[ 0,  0,  0],\n",
       "       [10, 20, 30],\n",
       "       [20, 40, 60],\n",
       "       [30, 60, 90]])"
      ]
     },
     "execution_count": 91,
     "metadata": {},
     "output_type": "execute_result"
    }
   ],
   "source": [
    "a * b"
   ]
  },
  {
   "cell_type": "code",
   "execution_count": 92,
   "id": "2b02bb05",
   "metadata": {},
   "outputs": [
    {
     "ename": "ValueError",
     "evalue": "operands could not be broadcast together with shapes (4,3) (4,) ",
     "output_type": "error",
     "traceback": [
      "\u001b[1;31m---------------------------------------------------------------------------\u001b[0m",
      "\u001b[1;31mValueError\u001b[0m                                Traceback (most recent call last)",
      "\u001b[1;32m~\\AppData\\Local\\Temp/ipykernel_14052/2570290981.py\u001b[0m in \u001b[0;36m<module>\u001b[1;34m\u001b[0m\n\u001b[1;32m----> 1\u001b[1;33m \u001b[0ma\u001b[0m \u001b[1;33m*\u001b[0m \u001b[0mc\u001b[0m\u001b[1;33m\u001b[0m\u001b[1;33m\u001b[0m\u001b[0m\n\u001b[0m",
      "\u001b[1;31mValueError\u001b[0m: operands could not be broadcast together with shapes (4,3) (4,) "
     ]
    }
   ],
   "source": [
    "a * c"
   ]
  }
 ],
 "metadata": {
  "kernelspec": {
   "display_name": "Python 3 (ipykernel)",
   "language": "python",
   "name": "python3"
  },
  "language_info": {
   "codemirror_mode": {
    "name": "ipython",
    "version": 3
   },
   "file_extension": ".py",
   "mimetype": "text/x-python",
   "name": "python",
   "nbconvert_exporter": "python",
   "pygments_lexer": "ipython3",
   "version": "3.9.7"
  }
 },
 "nbformat": 4,
 "nbformat_minor": 5
}
