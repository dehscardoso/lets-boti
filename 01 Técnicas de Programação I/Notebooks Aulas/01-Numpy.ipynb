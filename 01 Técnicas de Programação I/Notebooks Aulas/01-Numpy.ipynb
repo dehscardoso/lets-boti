{
 "cells": [
  {
   "cell_type": "markdown",
   "id": "396e845d",
   "metadata": {},
   "source": [
    "# Aula 2 - Numpy\n",
    "\n",
    "Hoje, vamos começara ver a biblioteca matemática mais importante pro ecossistema \n",
    "científico do Python: O Numpy."
   ]
  },
  {
   "cell_type": "markdown",
   "id": "a5994e92",
   "metadata": {},
   "source": [
    "---"
   ]
  },
  {
   "cell_type": "code",
   "execution_count": 1,
   "id": "9c2e96a9",
   "metadata": {},
   "outputs": [],
   "source": [
    "# A gente importa o numpy sempre chamando ele de \"np\"\n",
    "import numpy as np"
   ]
  },
  {
   "cell_type": "code",
   "execution_count": 2,
   "id": "e70ebe21",
   "metadata": {},
   "outputs": [
    {
     "name": "stdout",
     "output_type": "stream",
     "text": [
      "[[1, 2, 3], [4, 5, 6], [7, 8, 9], [10, 11, 12]]\n",
      "<class 'list'>\n"
     ]
    }
   ],
   "source": [
    "# Vamos fazer uma comparação com uma lista de Python\n",
    "py_array = [[1,   2,  3],\n",
    "            [4,   5,  6],\n",
    "            [7,   8,  9],\n",
    "            [10, 11, 12]]\n",
    "\n",
    "print(py_array)\n",
    "print(type(py_array))"
   ]
  },
  {
   "cell_type": "code",
   "execution_count": 3,
   "id": "e8d181e7",
   "metadata": {},
   "outputs": [
    {
     "name": "stdout",
     "output_type": "stream",
     "text": [
      "<class 'list'>\n"
     ]
    }
   ],
   "source": [
    "# Uma lista com 2 dimensões é uma lista de listas\n",
    "print(type(py_array[0]))"
   ]
  },
  {
   "cell_type": "code",
   "execution_count": 4,
   "id": "7ab9fbe9",
   "metadata": {},
   "outputs": [
    {
     "name": "stdout",
     "output_type": "stream",
     "text": [
      "[[ 1  2  3]\n",
      " [ 4  5  6]\n",
      " [ 7  8  9]\n",
      " [10 11 12]]\n",
      "<class 'numpy.ndarray'>\n"
     ]
    }
   ],
   "source": [
    "# Nota como o tipo da variável muda para \"ndarray\"\n",
    "np_array = np.array(py_array)\n",
    "\n",
    "print(np_array)\n",
    "print(type(np_array))"
   ]
  },
  {
   "cell_type": "code",
   "execution_count": 5,
   "id": "5f3a07bf",
   "metadata": {},
   "outputs": [
    {
     "name": "stdout",
     "output_type": "stream",
     "text": [
      "<class 'numpy.ndarray'>\n"
     ]
    }
   ],
   "source": [
    "# Mas no  numpy, um ndarray continua sendo formado de ndarrays.\n",
    "print(type(np_array[0]))"
   ]
  },
  {
   "cell_type": "code",
   "execution_count": 6,
   "id": "ad7087b8",
   "metadata": {},
   "outputs": [
    {
     "name": "stdout",
     "output_type": "stream",
     "text": [
      "(4, 3)\n",
      "2\n",
      "int64\n"
     ]
    }
   ],
   "source": [
    "# 3 atributos básicos pra um ndarray\n",
    "print(np_array.shape)   # O formato dele\n",
    "print(np_array.ndim)    # Quantas dimensões ele tem\n",
    "print(np_array.dtype)   # O \"dtype\", que é o tipo dos elementos (número, letra, ...) dele"
   ]
  },
  {
   "cell_type": "code",
   "execution_count": 8,
   "id": "61e3d7b5",
   "metadata": {},
   "outputs": [
    {
     "name": "stdout",
     "output_type": "stream",
     "text": [
      "<class 'numpy.ndarray'>\n",
      "int64\n"
     ]
    }
   ],
   "source": [
    "x = np.array([1, 2, 3]) # Um vetor também é um ndarray\n",
    "print(type(x))\n",
    "print(x.dtype)"
   ]
  },
  {
   "cell_type": "code",
   "execution_count": 9,
   "id": "984f58cd",
   "metadata": {},
   "outputs": [],
   "source": [
    "# O dtype de um array do numpy pode ser controlado na hora que a gente cria.\n",
    "py_array = [[1,   2,  3],\n",
    "            [4,   5,  6],\n",
    "            [7,   8,  9],\n",
    "            [10, 11, 12]]\n",
    "\n",
    "matriz = np.array(py_array, dtype=np.float64)"
   ]
  },
  {
   "cell_type": "code",
   "execution_count": 11,
   "id": "23d3f5a4",
   "metadata": {},
   "outputs": [
    {
     "name": "stdout",
     "output_type": "stream",
     "text": [
      "[[ 1.  2.  3.]\n",
      " [ 4.  5.  6.]\n",
      " [ 7.  8.  9.]\n",
      " [10. 11. 12.]]\n",
      "float64\n"
     ]
    }
   ],
   "source": [
    "print(matriz)\n",
    "print(matriz.dtype)"
   ]
  },
  {
   "cell_type": "code",
   "execution_count": 12,
   "id": "26597647",
   "metadata": {},
   "outputs": [
    {
     "name": "stdout",
     "output_type": "stream",
     "text": [
      "[[ 1.  2.  3.]\n",
      " [ 4.  5.  6.]\n",
      " [ 7.  8.  9.]\n",
      " [10. 11. 12.]]\n",
      "float64\n"
     ]
    }
   ],
   "source": [
    "# Mas quando a gente não define, ele infere a partir dos nossos dados.\n",
    "py_array_2 = [[1.0,   2,  3.0],\n",
    "              [4.0,   5,  6.0],\n",
    "              [7.0,   8,  9.0],\n",
    "              [10.0, 11, 12.0]]\n",
    "\n",
    "np_array_2 = np.array(py_array_2)\n",
    "\n",
    "print(np_array_2)\n",
    "print(np_array_2.dtype)"
   ]
  },
  {
   "cell_type": "code",
   "execution_count": 13,
   "id": "25019902",
   "metadata": {},
   "outputs": [
    {
     "name": "stdout",
     "output_type": "stream",
     "text": [
      "1.0\n",
      "1.0\n"
     ]
    }
   ],
   "source": [
    "# Para selecionar um elemento de uma tabela no Python e no Numpy, tem uma ligeira diferença.\n",
    "print((py_array_2[0][0])) # Python: Pega a primeira linha. Dela, pega o primeiro elemento.\n",
    "print((np_array_2[0,0]))  # Numpy: Pega o elemento da linha 0, coluna 0."
   ]
  },
  {
   "cell_type": "code",
   "execution_count": 14,
   "id": "dc2dc3b2",
   "metadata": {},
   "outputs": [
    {
     "name": "stdout",
     "output_type": "stream",
     "text": [
      "2\n",
      "2.0\n"
     ]
    }
   ],
   "source": [
    "print((py_array_2[0][1])) # Python: Pega a primeira linha. Dela, pega o segundo elemento.\n",
    "print((np_array_2[0,1]))  # Numpy: Pega o elemento da linha 0, coluna 1."
   ]
  },
  {
   "cell_type": "code",
   "execution_count": 17,
   "id": "08c1bea8",
   "metadata": {},
   "outputs": [
    {
     "name": "stdout",
     "output_type": "stream",
     "text": [
      "1\n",
      "4\n",
      "9\n",
      "7\n"
     ]
    }
   ],
   "source": [
    "# No Python, existe o conceito de \"indexing\", que é pegar elementos pelo seu índice (a sua posição) \n",
    "lista = [1, 2, 3, 4, 5, 6, 7, 8, 9]\n",
    "print(lista[0])\n",
    "print(lista[3])\n",
    "print(lista[-1]) # Aqui a gente também pode indexar negativamente. Aí o Python conta de trás pra frente.\n",
    "print(lista[-3]) # -3 vai ser o terceiro elemento, de trás pra frente\n",
    "\n",
    "# OBS: Lembre-se que as \"posições\" no Python sempre começam a contar do zero!!!"
   ]
  },
  {
   "cell_type": "code",
   "execution_count": 18,
   "id": "79573a18",
   "metadata": {},
   "outputs": [
    {
     "name": "stdout",
     "output_type": "stream",
     "text": [
      "True\n"
     ]
    }
   ],
   "source": [
    "print(lista[0] == lista[-9]) # Nota que o primeiro elemento é o -9, pois é o nono de trás pra frente."
   ]
  },
  {
   "cell_type": "code",
   "execution_count": 21,
   "id": "25ad1f32",
   "metadata": {},
   "outputs": [
    {
     "name": "stdout",
     "output_type": "stream",
     "text": [
      "[1, 2, 3, 4, 5, 6, 7, 8, 9]\n",
      "[1, 2, 3]\n",
      "[1, 2, 3, 4, 5, 6]\n"
     ]
    }
   ],
   "source": [
    "# Também existe uma forma de pegar um subconjunto da lista.\n",
    "# A gente chama isso de \"slicing\". Nota que o último elemento não entra!\n",
    "print(lista[:])\n",
    "print(lista[:3])\n",
    "print(lista[:-3]) # A gente pode usar nossa indexação negativa aqui."
   ]
  },
  {
   "cell_type": "code",
   "execution_count": 22,
   "id": "a1e06838",
   "metadata": {},
   "outputs": [
    {
     "name": "stdout",
     "output_type": "stream",
     "text": [
      "[3, 4, 5, 6, 7, 8, 9]\n",
      "[3]\n",
      "[3, 4, 5, 6]\n"
     ]
    }
   ],
   "source": [
    "# Podemos definir um início também pro slicing.\n",
    "# Quando não colocamos nada, ele assume que o início é 0.\n",
    "# No caso do fim, se não colocamos nada, ele assume que o fim é o último elemento.\n",
    "print(lista[2:])\n",
    "print(lista[2:3])\n",
    "print(lista[2:-3]) # A gente pode usar nossa indexação negativa aqui."
   ]
  },
  {
   "cell_type": "code",
   "execution_count": 24,
   "id": "8d08c2f9",
   "metadata": {
    "scrolled": true
   },
   "outputs": [
    {
     "name": "stdout",
     "output_type": "stream",
     "text": [
      "[1, 3, 5, 7, 9]\n",
      "[9, 8, 7, 6]\n",
      "[9, 8, 7, 6, 5, 4, 3, 2, 1]\n",
      "[]\n"
     ]
    }
   ],
   "source": [
    "# O poder do slicing é que a gente pode definir diferentes tamanhos de passo.\n",
    "print(lista[0:9:2])\n",
    "print(lista[-1:-5:-1]) # Agora ele anda de trás pra frente!\n",
    "print(lista[::-1])  # Vai do início até o fim, de trás pra frente.\n",
    "print(lista[1:5:-1]) # Se eu for subtraindo 1, é impossível ir de 1 até 5. Logo, gera uma lista vazia."
   ]
  },
  {
   "cell_type": "code",
   "execution_count": 26,
   "id": "c6851172",
   "metadata": {},
   "outputs": [
    {
     "name": "stdout",
     "output_type": "stream",
     "text": [
      "[[ 1.  2.  3.]\n",
      " [ 4.  5.  6.]\n",
      " [ 7.  8.  9.]\n",
      " [10. 11. 12.]]\n",
      "[ 3.  6.  9. 12.]\n",
      "[4. 5. 6.]\n",
      "[6. 5. 4.]\n"
     ]
    }
   ],
   "source": [
    "# Slicing funciona no numpy!\n",
    "print(np_array_2)\n",
    "print(np_array_2[:,2]) # Pegando a terceira coluna\n",
    "print(np_array_2[1,:]) # Pegando a segunda linha\n",
    "print(np_array_2[1,::-1]) # Pegando a segunda linha, e invertendo seus elementos de trás pra frente."
   ]
  },
  {
   "cell_type": "code",
   "execution_count": 39,
   "id": "cd59b786",
   "metadata": {},
   "outputs": [
    {
     "data": {
      "text/plain": [
       "array([4., 9.])"
      ]
     },
     "execution_count": 39,
     "metadata": {},
     "output_type": "execute_result"
    }
   ],
   "source": [
    "# Macete: Indexação complicada\n",
    "# Aqui a gente está pegando o elemento na posição (1,0)\n",
    "# e o elemento na posição (2,2)\n",
    "np_array_2[[1, 2],[0,2]]"
   ]
  },
  {
   "cell_type": "markdown",
   "id": "0d83bceb",
   "metadata": {},
   "source": [
    "---"
   ]
  },
  {
   "cell_type": "code",
   "execution_count": 28,
   "id": "cb47ae67",
   "metadata": {},
   "outputs": [
    {
     "name": "stdout",
     "output_type": "stream",
     "text": [
      "[[0. 0. 0. 0. 0. 0. 0. 0. 0. 0.]]\n",
      "\n",
      "[[1. 1. 1. 1. 1.]\n",
      " [1. 1. 1. 1. 1.]]\n",
      "\n",
      "[[1. 0. 0. 0.]\n",
      " [0. 1. 0. 0.]\n",
      " [0. 0. 1. 0.]\n",
      " [0. 0. 0. 1.]]\n",
      "\n",
      "[[1. 0. 0.]\n",
      " [0. 1. 0.]\n",
      " [0. 0. 1.]\n",
      " [0. 0. 0.]]\n",
      "\n"
     ]
    }
   ],
   "source": [
    "# O numpy também tem diversas funções para facilitar criação de arrays.\n",
    "print(np.zeros((1,10)), end='\\n\\n') # O \"end\" muda o que o Python encaixa no fim do que ele mostra pra gente.\n",
    "print(np.ones((2, 5)), end='\\n\\n') # \\n é pular linha, e é o default. \\n\\n pula 2 linhas.\n",
    "print(np.identity(4), end='\\n\\n')\n",
    "print(np.eye(4, 3), end='\\n\\n')"
   ]
  },
  {
   "cell_type": "code",
   "execution_count": 29,
   "id": "577f8ac5",
   "metadata": {},
   "outputs": [
    {
     "name": "stdout",
     "output_type": "stream",
     "text": [
      "[10 12 14 16 18 20 22 24 26 28]\n",
      "\n",
      "[10.5 12.5 14.5 16.5 18.5 20.5 22.5 24.5 26.5 28.5]\n",
      "\n",
      "[10.         12.22222222 14.44444444 16.66666667 18.88888889 21.11111111\n",
      " 23.33333333 25.55555556 27.77777778 30.        ]\n"
     ]
    }
   ],
   "source": [
    "# Também podemos fazer listas de números.\n",
    "print(np.arange(10, 30, 2)) # Lista de números inteiros pulando de 2 em 2. Mas até aqui, seria igual a Python.\n",
    "print('')\n",
    "print(np.arange(10.5, 30.5, 2))  # Lista de números de ponto flutuant, pulando de 2 em 2.\n",
    "print('')\n",
    "print(np.linspace(10, 30, 10)) # Lista de 10 números, igualmente espaçados entre 10 e 30."
   ]
  },
  {
   "cell_type": "markdown",
   "id": "f4de84d1",
   "metadata": {},
   "source": [
    "# Operações Básicas"
   ]
  },
  {
   "cell_type": "code",
   "execution_count": 30,
   "id": "35472610",
   "metadata": {},
   "outputs": [
    {
     "name": "stdout",
     "output_type": "stream",
     "text": [
      "[0 1 2 3 4 5 6 7 8 9]\n",
      "[ 0  2  4  6  8 10 12 14 16 18]\n"
     ]
    }
   ],
   "source": [
    "# Se a força do numpy é ter tudo operando como vetores e matrizes, \n",
    "# então ele tem que ter operações de vetores e matrizes.\n",
    "vec1 = np.arange(0, 10, 1)\n",
    "vec2 = np.arange(0, 20, 2)\n",
    "\n",
    "print(vec1)\n",
    "print(vec2)"
   ]
  },
  {
   "cell_type": "code",
   "execution_count": 40,
   "id": "97971086",
   "metadata": {},
   "outputs": [
    {
     "name": "stdout",
     "output_type": "stream",
     "text": [
      "[ 0  3  6  9 12 15 18 21 24 27]\n",
      "[  0   2   8  18  32  50  72  98 128 162]\n",
      "570\n",
      "570\n",
      "570\n"
     ]
    }
   ],
   "source": [
    "# Soma por elemento\n",
    "print(vec1 + vec2)\n",
    "\n",
    "# Multiplicação elemento por elemento\n",
    "print(vec1 * vec2)\n",
    "\n",
    "# produto de matrizes (neste caso, produto escalar)\n",
    "# Isso é multiplicar elemento por elemento, e depois somar\n",
    "print(vec1 @ vec2)\n",
    "print((vec1 * vec2).sum()) # Todo ndarray tem um método \"sum\" pra somar seus elementos\n",
    "\n",
    "# produto de matrizes (neste caso, produto escalar)\n",
    "# Outra forma de escrever a mesma coisa\n",
    "print(vec1.dot(vec2))"
   ]
  },
  {
   "cell_type": "markdown",
   "id": "a830d605",
   "metadata": {},
   "source": [
    "## Exercícios"
   ]
  },
  {
   "cell_type": "markdown",
   "id": "493edbd4",
   "metadata": {},
   "source": [
    "Fonte: https://github.com/rougier/numpy-100/blob/master/100_Numpy_exercises.ipynb\n"
   ]
  },
  {
   "cell_type": "markdown",
   "id": "decc3719",
   "metadata": {},
   "source": [
    "**8 - Reverse a vector (first element becomes last) (★☆☆)**\n",
    "\n",
    "**8 - Reverta um vetor (o primeiro elemento vira o último) (★☆☆)**"
   ]
  },
  {
   "cell_type": "code",
   "execution_count": 41,
   "id": "cf23bf5a",
   "metadata": {},
   "outputs": [],
   "source": [
    "def reverse(vector):\n",
    "    return vector[::-1]"
   ]
  },
  {
   "cell_type": "code",
   "execution_count": 42,
   "id": "334ec634",
   "metadata": {},
   "outputs": [
    {
     "name": "stdout",
     "output_type": "stream",
     "text": [
      "[87  9  9  1  5  0]\n"
     ]
    }
   ],
   "source": [
    "vec = np.array([0, 5, 1, 9, 9, 87])\n",
    "print(reverse(vec))"
   ]
  },
  {
   "cell_type": "markdown",
   "id": "22f43f5a",
   "metadata": {},
   "source": [
    "**9 - Create a 3x3 matrix with values ranging from 0 to 8 (★☆☆)**\n",
    "\n",
    "**9 - Crie uma matriz 3x3 com valores que vão de 0 a 8 (★☆☆)**"
   ]
  },
  {
   "cell_type": "code",
   "execution_count": 43,
   "id": "d1435bb6",
   "metadata": {},
   "outputs": [
    {
     "name": "stdout",
     "output_type": "stream",
     "text": [
      "[0 1 2 3 4 5 6 7 8]\n"
     ]
    }
   ],
   "source": [
    "values = np.arange(0,9)\n",
    "print(values)"
   ]
  },
  {
   "cell_type": "code",
   "execution_count": 45,
   "id": "e0600ad4",
   "metadata": {},
   "outputs": [
    {
     "name": "stdout",
     "output_type": "stream",
     "text": [
      "[[0 1 2]\n",
      " [3 4 5]\n",
      " [6 7 8]]\n"
     ]
    }
   ],
   "source": [
    "matrix = values.reshape(3, 3)\n",
    "print(matrix)"
   ]
  },
  {
   "cell_type": "markdown",
   "id": "a13b9a8f",
   "metadata": {},
   "source": [
    "**10 - Find indices of non-zero elements from [1,2,0,0,4,0] (★☆☆)**\n",
    "\n",
    "**10 - Ache os índices dos elementos não-zero a partir do array [1,2,0,0,4,0] (★☆☆)**"
   ]
  },
  {
   "cell_type": "code",
   "execution_count": 46,
   "id": "54173573",
   "metadata": {},
   "outputs": [],
   "source": [
    "vec = np.array([1, 2, 0, 0, 4, 0])"
   ]
  },
  {
   "cell_type": "code",
   "execution_count": 47,
   "id": "ab55c3a2",
   "metadata": {},
   "outputs": [
    {
     "data": {
      "text/plain": [
       "(array([0, 1, 4]),)"
      ]
     },
     "execution_count": 47,
     "metadata": {},
     "output_type": "execute_result"
    }
   ],
   "source": [
    "# Usando np.nonzero\n",
    "np.nonzero(vec)"
   ]
  },
  {
   "cell_type": "code",
   "execution_count": 48,
   "id": "bfb69d2d",
   "metadata": {},
   "outputs": [
    {
     "data": {
      "text/plain": [
       "array([[0],\n",
       "       [1],\n",
       "       [4]])"
      ]
     },
     "execution_count": 48,
     "metadata": {},
     "output_type": "execute_result"
    }
   ],
   "source": [
    "# Usando np.argwhere\n",
    "np.argwhere(vec)"
   ]
  },
  {
   "cell_type": "markdown",
   "id": "a440386d",
   "metadata": {},
   "source": [
    "E se a gente quisesse pegar os elementos diferentes de zero?"
   ]
  },
  {
   "cell_type": "code",
   "execution_count": 49,
   "id": "80276ee0",
   "metadata": {},
   "outputs": [
    {
     "data": {
      "text/plain": [
       "array([1, 2, 4])"
      ]
     },
     "execution_count": 49,
     "metadata": {},
     "output_type": "execute_result"
    }
   ],
   "source": [
    "vec[vec != 0]"
   ]
  },
  {
   "cell_type": "code",
   "execution_count": 50,
   "id": "5a90a7af",
   "metadata": {},
   "outputs": [
    {
     "data": {
      "text/plain": [
       "array([1, 2, 4])"
      ]
     },
     "execution_count": 50,
     "metadata": {},
     "output_type": "execute_result"
    }
   ],
   "source": [
    "indices = np.argwhere(vec).flatten()\n",
    "vec[indices]"
   ]
  },
  {
   "cell_type": "code",
   "execution_count": 51,
   "id": "25777c8b",
   "metadata": {},
   "outputs": [
    {
     "data": {
      "text/plain": [
       "array([1, 2, 4])"
      ]
     },
     "execution_count": 51,
     "metadata": {},
     "output_type": "execute_result"
    }
   ],
   "source": [
    "indices = np.nonzero(vec)[0]\n",
    "vec[indices]"
   ]
  },
  {
   "cell_type": "code",
   "execution_count": 52,
   "id": "063d7581",
   "metadata": {},
   "outputs": [
    {
     "name": "stdout",
     "output_type": "stream",
     "text": [
      "<class 'tuple'>\n"
     ]
    }
   ],
   "source": [
    "# OBS: Nota que np.nonzero retorna pra gente uma tupla!!! \n",
    "# Por isso a gente tem que pegar o primeiro elemento dessa tupla.\n",
    "print(type(np.nonzero(vec)))"
   ]
  },
  {
   "cell_type": "markdown",
   "id": "c8badc9d",
   "metadata": {},
   "source": [
    "**11 - Create a 3x3 identity matrix (★☆☆)**\n",
    "\n",
    "**11 - Crie uma matriz identidade 3x3 (★☆☆)**"
   ]
  },
  {
   "cell_type": "code",
   "execution_count": 54,
   "id": "bb39a57e",
   "metadata": {},
   "outputs": [
    {
     "name": "stdout",
     "output_type": "stream",
     "text": [
      "[[1. 0. 0.]\n",
      " [0. 1. 0.]\n",
      " [0. 0. 1.]]\n"
     ]
    }
   ],
   "source": [
    "identidade = np.identity(3)\n",
    "print(identidade)"
   ]
  },
  {
   "cell_type": "markdown",
   "id": "81c1b69e",
   "metadata": {},
   "source": [
    "**12 - Create a 3x3x3 array with random values (★☆☆)**\n",
    "\n",
    "**12 - Crie um array 3x3x3 com valores aleatórios (★☆☆)**"
   ]
  },
  {
   "cell_type": "code",
   "execution_count": 55,
   "id": "412fcfb6",
   "metadata": {},
   "outputs": [
    {
     "name": "stdout",
     "output_type": "stream",
     "text": [
      "[[[0.20598561 0.52900284 0.10620126]\n",
      "  [0.2480546  0.26581609 0.08055843]\n",
      "  [0.57807663 0.17442453 0.70201164]]\n",
      "\n",
      " [[0.06053261 0.69729924 0.75363341]\n",
      "  [0.32907991 0.186783   0.11986757]\n",
      "  [0.134726   0.36517142 0.95854071]]\n",
      "\n",
      " [[0.67668559 0.85065824 0.73604497]\n",
      "  [0.22884556 0.12446318 0.16207622]\n",
      "  [0.8356349  0.72421868 0.45595437]]]\n"
     ]
    }
   ],
   "source": [
    "# Solução por Frederico\n",
    "random_matrix_Fred = np.random.random((3,3,3))\n",
    "print(random_matrix_Fred)"
   ]
  },
  {
   "cell_type": "markdown",
   "id": "bf75c0c6",
   "metadata": {},
   "source": [
    "**13 - Create a 10x10 array with random values and find the minimum and maximum values (★☆☆)**\n",
    "\n",
    "**13 - Crie um array 10x10 com valores aleatórios e ache os valores máximo e mínimo (★☆☆)**"
   ]
  },
  {
   "cell_type": "code",
   "execution_count": 57,
   "id": "53880205",
   "metadata": {},
   "outputs": [
    {
     "name": "stdout",
     "output_type": "stream",
     "text": [
      "[[0.8789013  0.56984572 0.52419833 0.15771696 0.47014466 0.33205153\n",
      "  0.90980502 0.66664393 0.31485906 0.25282844]\n",
      " [0.39999287 0.35004803 0.38583992 0.81750999 0.50788297 0.26266913\n",
      "  0.73761318 0.71164293 0.76650139 0.21720799]\n",
      " [0.43265856 0.58175482 0.21404899 0.03341646 0.0252943  0.31627869\n",
      "  0.70361246 0.40287947 0.29088429 0.74559903]\n",
      " [0.88808913 0.95490715 0.47946516 0.42466931 0.81601544 0.20513615\n",
      "  0.34457189 0.14577957 0.36342426 0.20758384]\n",
      " [0.97449332 0.02096685 0.50609892 0.10155457 0.57250584 0.08526205\n",
      "  0.37349907 0.06525527 0.26453607 0.74644054]\n",
      " [0.16976949 0.37439697 0.21308908 0.26985007 0.6077715  0.69628015\n",
      "  0.96404745 0.25419994 0.05633788 0.24827851]\n",
      " [0.48558613 0.24414304 0.28800384 0.13234207 0.68297721 0.5542294\n",
      "  0.96092683 0.92265225 0.74651189 0.86950148]\n",
      " [0.11086397 0.7188555  0.34558354 0.18501291 0.30652744 0.03347298\n",
      "  0.05999019 0.12469966 0.17510462 0.32761309]\n",
      " [0.35114806 0.80843018 0.15036276 0.70759636 0.32649879 0.21756498\n",
      "  0.09330618 0.45999891 0.71447279 0.72554113]\n",
      " [0.27378799 0.04371779 0.81047557 0.62643917 0.10637732 0.87554259\n",
      "  0.43917371 0.82772775 0.97976139 0.75752206]]\n"
     ]
    }
   ],
   "source": [
    "random_matrix = np.random.random((10,10))\n",
    "print(random_matrix)"
   ]
  },
  {
   "cell_type": "code",
   "execution_count": 58,
   "id": "2d620670",
   "metadata": {},
   "outputs": [
    {
     "data": {
      "text/plain": [
       "0.9797613902609712"
      ]
     },
     "execution_count": 58,
     "metadata": {},
     "output_type": "execute_result"
    }
   ],
   "source": [
    "# Pegando o maior valor\n",
    "np.max(random_matrix)"
   ]
  },
  {
   "cell_type": "code",
   "execution_count": 59,
   "id": "b487e139",
   "metadata": {},
   "outputs": [
    {
     "data": {
      "text/plain": [
       "0.020966854077951624"
      ]
     },
     "execution_count": 59,
     "metadata": {},
     "output_type": "execute_result"
    }
   ],
   "source": [
    "# Pegando o menor valor\n",
    "np.min(random_matrix)"
   ]
  },
  {
   "cell_type": "markdown",
   "id": "b872e6bd",
   "metadata": {},
   "source": [
    "E se fosse por coluna? E por linha? "
   ]
  },
  {
   "cell_type": "code",
   "execution_count": 62,
   "id": "1716438c",
   "metadata": {},
   "outputs": [],
   "source": [
    "matriz_teste = np.array([[0.7, 8.9, 10.0, 3.2],\n",
    "                         [1.2, 1.2,  1.2, 1.2],\n",
    "                         [4.3, 2.0, 23.1,-9.1]])"
   ]
  },
  {
   "cell_type": "code",
   "execution_count": 64,
   "id": "4789f09e",
   "metadata": {},
   "outputs": [
    {
     "name": "stdout",
     "output_type": "stream",
     "text": [
      "[ 4.3  8.9 23.1  3.2]\n",
      "[ 0.7  1.2  1.2 -9.1]\n"
     ]
    }
   ],
   "source": [
    "# Por coluna\n",
    "print(np.max(matriz_teste, axis=0))\n",
    "print(np.min(matriz_teste, axis=0))"
   ]
  },
  {
   "cell_type": "code",
   "execution_count": 65,
   "id": "252313fe",
   "metadata": {},
   "outputs": [
    {
     "name": "stdout",
     "output_type": "stream",
     "text": [
      "[10.   1.2 23.1]\n",
      "[ 0.7  1.2 -9.1]\n"
     ]
    }
   ],
   "source": [
    "# Por linha\n",
    "print(np.max(matriz_teste, axis=1))\n",
    "print(np.min(matriz_teste, axis=1))"
   ]
  },
  {
   "cell_type": "code",
   "execution_count": 66,
   "id": "f4c5306f",
   "metadata": {},
   "outputs": [
    {
     "data": {
      "text/plain": [
       "array([ 0.7,  1.2, -9.1])"
      ]
     },
     "execution_count": 66,
     "metadata": {},
     "output_type": "execute_result"
    }
   ],
   "source": [
    "# A gente pode fazer as mesmas coisas usando métodos dos arrays\n",
    "matriz_teste.min(axis=1)"
   ]
  },
  {
   "cell_type": "markdown",
   "id": "6d439722",
   "metadata": {},
   "source": [
    "**15 - Create a 2d array with 1 on the border and 0 inside (★☆☆)**\n",
    "\n",
    "**15 - Crie um array 2D (bidimensional) com 1 na borda e 0 dentro (★☆☆)**"
   ]
  },
  {
   "cell_type": "code",
   "execution_count": 67,
   "id": "0d0e789a",
   "metadata": {},
   "outputs": [],
   "source": [
    "def quadrado_zero_um(size:tuple) -> np.ndarray:\n",
    "    \"\"\"\n",
    "    Aqui a gente implementa a solução da Virgínia.\n",
    "    1. Criar uma matriz uns.\n",
    "    2. Coloca zeros no centro.\n",
    "    \n",
    "    Obs:\n",
    "    Para quem não conhece, escrever uma string com 3 aspas no início,\n",
    "    e 3 aspas no fim, no início de uma função, é chamado \"docstring\".\n",
    "    \n",
    "    Ela serve pra explicar  função, discutir os argumentos, etc....\n",
    "    \n",
    "    Obs2:\n",
    "    No argumento, eu coloquei \"size:tuple\". Por que?\n",
    "    Isso é uma anotação. Anotações servem pra mostrar pra quem for usar\n",
    "    a nossa função qual o tipo de entrada que a gente espera.\n",
    "    \n",
    "    colocar \"-> np.ndarray\" éa mesma coisa. Essa anotação mostra pra quem\n",
    "    for usar a nossa função qual tipo de saída a pessoa devia esperar.\n",
    "    \"\"\"\n",
    "    matrix = np.ones(size)\n",
    "    matrix[1:-1, 1:-1] = 0\n",
    "    return matrix"
   ]
  },
  {
   "cell_type": "code",
   "execution_count": 68,
   "id": "3ae2b8d5",
   "metadata": {},
   "outputs": [
    {
     "name": "stdout",
     "output_type": "stream",
     "text": [
      "[[1. 1. 1. 1.]\n",
      " [1. 0. 0. 1.]\n",
      " [1. 0. 0. 1.]\n",
      " [1. 0. 0. 1.]\n",
      " [1. 0. 0. 1.]\n",
      " [1. 0. 0. 1.]\n",
      " [1. 0. 0. 1.]\n",
      " [1. 0. 0. 1.]\n",
      " [1. 0. 0. 1.]\n",
      " [1. 1. 1. 1.]]\n"
     ]
    }
   ],
   "source": [
    "print(quadrado_zero_um((10, 4)))"
   ]
  },
  {
   "cell_type": "markdown",
   "id": "67c7ec53",
   "metadata": {},
   "source": [
    "**16 - How to add a border (filled with 0's) around an existing array? (★☆☆)**\n",
    "\n",
    "**16 - Como adicionar uma borda de 0's ao redor de um array existente? (★☆☆)**\n"
   ]
  },
  {
   "cell_type": "markdown",
   "id": "5c9b9ad7",
   "metadata": {},
   "source": [
    "A gente consegue usar uma lógica semelhante à de cima."
   ]
  },
  {
   "cell_type": "code",
   "execution_count": 73,
   "id": "72fe0a00",
   "metadata": {},
   "outputs": [],
   "source": [
    "def adiciona_borda_zero(original:np.ndarray) -> np.ndarray:\n",
    "    \"\"\"\n",
    "    Como adaptar a solução da Virgínia?\n",
    "    1. Criar uma matriz de zeros que seja um pouco maior que a original.\n",
    "    2. Coloca a matriz original no meio.\n",
    "    \"\"\"\n",
    "    formato = original.shape\n",
    "    novo_formato = (formato[0] + 2, formato[1] + 2)\n",
    "    \n",
    "    matrix = np.zeros(novo_formato)\n",
    "    matrix[1:-1, 1:-1] = original\n",
    "    return matrix"
   ]
  },
  {
   "cell_type": "code",
   "execution_count": 74,
   "id": "16abdbf4",
   "metadata": {},
   "outputs": [],
   "source": [
    "matriz = np.array([[1, 2, 3],\n",
    "                   [4, 5, 6],\n",
    "                   [7, 8, 9],\n",
    "                   [10, 11, 12],\n",
    "                   [13, 14, 15]])"
   ]
  },
  {
   "cell_type": "code",
   "execution_count": 75,
   "id": "939f6364",
   "metadata": {},
   "outputs": [
    {
     "name": "stdout",
     "output_type": "stream",
     "text": [
      "[[ 0.  0.  0.  0.  0.]\n",
      " [ 0.  1.  2.  3.  0.]\n",
      " [ 0.  4.  5.  6.  0.]\n",
      " [ 0.  7.  8.  9.  0.]\n",
      " [ 0. 10. 11. 12.  0.]\n",
      " [ 0. 13. 14. 15.  0.]\n",
      " [ 0.  0.  0.  0.  0.]]\n"
     ]
    }
   ],
   "source": [
    "print(adiciona_borda_zero(matriz))"
   ]
  },
  {
   "cell_type": "markdown",
   "id": "1da76040",
   "metadata": {},
   "source": [
    "**18 - Create a 5x5 matrix with values 1,2,3,4 just below the diagonal (★☆☆)**\n",
    "\n",
    "**18 - Crie uma matriz 5x5 com valores 1, 2, 3, 4 logo abaixo da diagonal (★☆☆)**"
   ]
  },
  {
   "cell_type": "code",
   "execution_count": 76,
   "id": "e438d1ff",
   "metadata": {},
   "outputs": [
    {
     "name": "stdout",
     "output_type": "stream",
     "text": [
      "[[0 0 0 0 0]\n",
      " [1 0 0 0 0]\n",
      " [0 2 0 0 0]\n",
      " [0 0 3 0 0]\n",
      " [0 0 0 4 0]]\n"
     ]
    }
   ],
   "source": [
    "# Solução do Fred\n",
    "print(np.diag([1, 2, 3, 4], k=-1))"
   ]
  },
  {
   "cell_type": "code",
   "execution_count": 77,
   "id": "46d294db",
   "metadata": {},
   "outputs": [
    {
     "name": "stdout",
     "output_type": "stream",
     "text": [
      "[[0 1 0 0 0]\n",
      " [0 0 2 0 0]\n",
      " [0 0 0 3 0]\n",
      " [0 0 0 0 4]\n",
      " [0 0 0 0 0]]\n"
     ]
    }
   ],
   "source": [
    "# A função np.diag aceita um argumento \"k\", pra pegar abaixo ou acima da diagonal.\n",
    "print(np.diag([1, 2, 3, 4], k=1))"
   ]
  },
  {
   "cell_type": "code",
   "execution_count": 78,
   "id": "03ced3cb",
   "metadata": {},
   "outputs": [
    {
     "name": "stdout",
     "output_type": "stream",
     "text": [
      "[[0 0 1 0 0]\n",
      " [0 0 0 2 0]\n",
      " [0 0 0 0 3]\n",
      " [0 0 0 0 0]\n",
      " [0 0 0 0 0]]\n"
     ]
    }
   ],
   "source": [
    "print(np.diag([1, 2, 3], k=2))"
   ]
  },
  {
   "cell_type": "code",
   "execution_count": 79,
   "id": "58922ec1",
   "metadata": {},
   "outputs": [
    {
     "name": "stdout",
     "output_type": "stream",
     "text": [
      "[[0 0 1 0 0 0]\n",
      " [0 0 0 2 0 0]\n",
      " [0 0 0 0 3 0]\n",
      " [0 0 0 0 0 4]\n",
      " [0 0 0 0 0 0]\n",
      " [0 0 0 0 0 0]]\n"
     ]
    }
   ],
   "source": [
    "# Ele ajusta o tamanho da matriz de acordo com o tamanho que você deu, e o k.\n",
    "print(np.diag([1, 2, 3, 4], k=2))"
   ]
  }
 ],
 "metadata": {
  "kernelspec": {
   "display_name": "Python 3 (ipykernel)",
   "language": "python",
   "name": "python3"
  },
  "language_info": {
   "codemirror_mode": {
    "name": "ipython",
    "version": 3
   },
   "file_extension": ".py",
   "mimetype": "text/x-python",
   "name": "python",
   "nbconvert_exporter": "python",
   "pygments_lexer": "ipython3",
   "version": "3.9.7"
  }
 },
 "nbformat": 4,
 "nbformat_minor": 5
}
