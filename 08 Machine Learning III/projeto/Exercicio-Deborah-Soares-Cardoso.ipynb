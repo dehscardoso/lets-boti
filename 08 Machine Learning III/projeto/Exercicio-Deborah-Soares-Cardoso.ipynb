{
 "cells": [
  {
   "cell_type": "markdown",
   "id": "dc32a682",
   "metadata": {},
   "source": [
    "<img src = \"https://images2.imgbox.com/a5/72/7ZbDUHlf_o.jpg\" width=\"200\">"
   ]
  },
  {
   "cell_type": "markdown",
   "id": "39fd983b",
   "metadata": {},
   "source": [
    "## Exercício\n",
    "---\n",
    "\n",
    "**Entrega individual de um notebook com esses passos indentificados.**\n",
    "\n",
    "Com o dataset do projeto, faça o seguinte:\n",
    "    \n",
    "1. Crie uma pipeline específica para as seguintes variáveis e realize os tratamentos necessários para transformar essa informação em número ordenado:\n",
    "    - `NAME_EDUCATION_TYPE`  \n",
    "    \n",
    "2. Crie uma pipeline específica para as seguintes variáveis, realizando um One Hot Encoder (leiam a documentação e setem o parâmetro drop conforme fizer sentido para vocês):\n",
    "    - `FLAG_OWN_CAR`\n",
    "    - `FLAG_OWN_REALTY`\n",
    "    - `NAME_INCOME_TYPE`\n",
    "    - `NAME_FAMILY_STATUS`\n",
    "    - `OCCUPATION_TYPE`  \n",
    "\n",
    "3. Crie uma pipeline específica para todas as outras variáveis que não são do tipo object. Adicione na pipeline a imputação de missing com a mediana. Com base nos próximos passos, responda a seguinte pergunta:\n",
    "    - *É necessário realizar o standard scaler nessas variáveis?*  \n",
    "    \n",
    "4. Crie uma outra pipeline, que unirá todas as pipelines anteriores. Além de unir os steps passados, essa pipeline deve aplicar uma seleção de features baseada em um modelo de regressão logística. Resposta a seguinte pergunta:\n",
    "    - *Qual penalidade deve ser usada? Por que?*  \n",
    "    \n",
    "5. Após a etapa de seleção de features da pipeline do passo anterior, adicione um modelo de árvore de decisão com `max_depth = 5` e treine o modelo, avaliando as métricas.  \n",
    "\n",
    "6. Faça uma busca em grid nos hiperparâmetros `min_samples_leaf` e `max_depth`, retreine o modelo e avalie as métricas. Responda a seguinte pergunta:\n",
    "    - *Houve ganho em performance? Se sim, de quanto?*   \n",
    "    \n",
    "7. Substitua o modelo de árvore de decisão por um modelo XGBoost, AdaBoost ou LightGBM, realizando também uma busca nos hiperparâmetros (lembre-se de alterar o grid de hiperparâmetros a ser testado). Avalie:\n",
    "\n",
    "- *Como ficou a performance do modelo usando o novo algoritmo?*\n",
    "- *A variável `pipe_cat__OCCUPATION_TYPE_nan` está bonificando ou penalizando o cliente? Ou seja, se o cliente tiver ocupação como missing, ele tem tendência a ser melhor ou pior pagador?*"
   ]
  },
  {
   "cell_type": "code",
   "execution_count": 1,
   "id": "0e1ef945",
   "metadata": {},
   "outputs": [],
   "source": [
    "# importando bibliotecas\n",
    "import numpy as np\n",
    "import pandas as pd\n",
    "\n",
    "\n",
    "from sklearn.pipeline import Pipeline\n",
    "from sklearn.impute import SimpleImputer\n",
    "from sklearn.compose import ColumnTransformer\n",
    "from sklearn.feature_selection import SelectFromModel\n",
    "from sklearn.linear_model import LogisticRegressionCV\n",
    "from sklearn.preprocessing import OrdinalEncoder, OneHotEncoder, StandardScaler\n",
    "\n",
    "from xgboost import XGBClassifier\n",
    "from sklearn.metrics import roc_auc_score\n",
    "from sklearn.model_selection import GridSearchCV\n",
    "from sklearn.model_selection import train_test_split\n",
    "from sklearn.tree import DecisionTreeClassifier\n",
    "\n",
    "import warnings\n",
    "warnings.filterwarnings(\"ignore\")"
   ]
  },
  {
   "cell_type": "code",
   "execution_count": 2,
   "id": "65d1ab40",
   "metadata": {},
   "outputs": [],
   "source": [
    "# importando dados\n",
    "df = pd.read_csv('dados/application_train.csv')"
   ]
  },
  {
   "cell_type": "code",
   "execution_count": 3,
   "id": "bbb0f22c",
   "metadata": {},
   "outputs": [],
   "source": [
    "df = df.sample(frac=0.1)"
   ]
  },
  {
   "cell_type": "code",
   "execution_count": 4,
   "id": "977591d6",
   "metadata": {},
   "outputs": [
    {
     "data": {
      "text/plain": [
       "(24601, 122)"
      ]
     },
     "execution_count": 4,
     "metadata": {},
     "output_type": "execute_result"
    }
   ],
   "source": [
    "# o dataset possui 122 variáveis e 24601 observações\n",
    "df.shape"
   ]
  },
  {
   "cell_type": "code",
   "execution_count": 5,
   "id": "bab2820c",
   "metadata": {},
   "outputs": [
    {
     "data": {
      "text/html": [
       "<div>\n",
       "<style scoped>\n",
       "    .dataframe tbody tr th:only-of-type {\n",
       "        vertical-align: middle;\n",
       "    }\n",
       "\n",
       "    .dataframe tbody tr th {\n",
       "        vertical-align: top;\n",
       "    }\n",
       "\n",
       "    .dataframe thead th {\n",
       "        text-align: right;\n",
       "    }\n",
       "</style>\n",
       "<table border=\"1\" class=\"dataframe\">\n",
       "  <thead>\n",
       "    <tr style=\"text-align: right;\">\n",
       "      <th></th>\n",
       "      <th>SK_ID_CURR</th>\n",
       "      <th>TARGET</th>\n",
       "      <th>NAME_CONTRACT_TYPE</th>\n",
       "      <th>CODE_GENDER</th>\n",
       "      <th>FLAG_OWN_CAR</th>\n",
       "      <th>FLAG_OWN_REALTY</th>\n",
       "      <th>CNT_CHILDREN</th>\n",
       "      <th>AMT_INCOME_TOTAL</th>\n",
       "      <th>AMT_CREDIT</th>\n",
       "      <th>AMT_ANNUITY</th>\n",
       "      <th>...</th>\n",
       "      <th>FLAG_DOCUMENT_18</th>\n",
       "      <th>FLAG_DOCUMENT_19</th>\n",
       "      <th>FLAG_DOCUMENT_20</th>\n",
       "      <th>FLAG_DOCUMENT_21</th>\n",
       "      <th>AMT_REQ_CREDIT_BUREAU_HOUR</th>\n",
       "      <th>AMT_REQ_CREDIT_BUREAU_DAY</th>\n",
       "      <th>AMT_REQ_CREDIT_BUREAU_WEEK</th>\n",
       "      <th>AMT_REQ_CREDIT_BUREAU_MON</th>\n",
       "      <th>AMT_REQ_CREDIT_BUREAU_QRT</th>\n",
       "      <th>AMT_REQ_CREDIT_BUREAU_YEAR</th>\n",
       "    </tr>\n",
       "  </thead>\n",
       "  <tbody>\n",
       "    <tr>\n",
       "      <th>22546</th>\n",
       "      <td>380404</td>\n",
       "      <td>0</td>\n",
       "      <td>Cash loans</td>\n",
       "      <td>F</td>\n",
       "      <td>Y</td>\n",
       "      <td>Y</td>\n",
       "      <td>0</td>\n",
       "      <td>292500.0</td>\n",
       "      <td>1375380.0</td>\n",
       "      <td>49531.5</td>\n",
       "      <td>...</td>\n",
       "      <td>0</td>\n",
       "      <td>0</td>\n",
       "      <td>0</td>\n",
       "      <td>0</td>\n",
       "      <td>0.0</td>\n",
       "      <td>0.0</td>\n",
       "      <td>0.0</td>\n",
       "      <td>1.0</td>\n",
       "      <td>0.0</td>\n",
       "      <td>3.0</td>\n",
       "    </tr>\n",
       "    <tr>\n",
       "      <th>18236</th>\n",
       "      <td>216051</td>\n",
       "      <td>0</td>\n",
       "      <td>Revolving loans</td>\n",
       "      <td>F</td>\n",
       "      <td>Y</td>\n",
       "      <td>Y</td>\n",
       "      <td>1</td>\n",
       "      <td>90000.0</td>\n",
       "      <td>180000.0</td>\n",
       "      <td>9000.0</td>\n",
       "      <td>...</td>\n",
       "      <td>0</td>\n",
       "      <td>0</td>\n",
       "      <td>0</td>\n",
       "      <td>0</td>\n",
       "      <td>0.0</td>\n",
       "      <td>0.0</td>\n",
       "      <td>0.0</td>\n",
       "      <td>0.0</td>\n",
       "      <td>0.0</td>\n",
       "      <td>2.0</td>\n",
       "    </tr>\n",
       "    <tr>\n",
       "      <th>155103</th>\n",
       "      <td>342201</td>\n",
       "      <td>1</td>\n",
       "      <td>Cash loans</td>\n",
       "      <td>M</td>\n",
       "      <td>N</td>\n",
       "      <td>Y</td>\n",
       "      <td>0</td>\n",
       "      <td>112500.0</td>\n",
       "      <td>328500.0</td>\n",
       "      <td>19980.0</td>\n",
       "      <td>...</td>\n",
       "      <td>0</td>\n",
       "      <td>0</td>\n",
       "      <td>0</td>\n",
       "      <td>0</td>\n",
       "      <td>NaN</td>\n",
       "      <td>NaN</td>\n",
       "      <td>NaN</td>\n",
       "      <td>NaN</td>\n",
       "      <td>NaN</td>\n",
       "      <td>NaN</td>\n",
       "    </tr>\n",
       "    <tr>\n",
       "      <th>4778</th>\n",
       "      <td>419325</td>\n",
       "      <td>0</td>\n",
       "      <td>Cash loans</td>\n",
       "      <td>M</td>\n",
       "      <td>Y</td>\n",
       "      <td>N</td>\n",
       "      <td>0</td>\n",
       "      <td>180000.0</td>\n",
       "      <td>1009566.0</td>\n",
       "      <td>30609.0</td>\n",
       "      <td>...</td>\n",
       "      <td>0</td>\n",
       "      <td>0</td>\n",
       "      <td>0</td>\n",
       "      <td>0</td>\n",
       "      <td>0.0</td>\n",
       "      <td>0.0</td>\n",
       "      <td>0.0</td>\n",
       "      <td>0.0</td>\n",
       "      <td>0.0</td>\n",
       "      <td>0.0</td>\n",
       "    </tr>\n",
       "    <tr>\n",
       "      <th>105773</th>\n",
       "      <td>392857</td>\n",
       "      <td>0</td>\n",
       "      <td>Cash loans</td>\n",
       "      <td>F</td>\n",
       "      <td>N</td>\n",
       "      <td>Y</td>\n",
       "      <td>0</td>\n",
       "      <td>90000.0</td>\n",
       "      <td>970380.0</td>\n",
       "      <td>28503.0</td>\n",
       "      <td>...</td>\n",
       "      <td>0</td>\n",
       "      <td>0</td>\n",
       "      <td>0</td>\n",
       "      <td>0</td>\n",
       "      <td>NaN</td>\n",
       "      <td>NaN</td>\n",
       "      <td>NaN</td>\n",
       "      <td>NaN</td>\n",
       "      <td>NaN</td>\n",
       "      <td>NaN</td>\n",
       "    </tr>\n",
       "  </tbody>\n",
       "</table>\n",
       "<p>5 rows × 122 columns</p>\n",
       "</div>"
      ],
      "text/plain": [
       "        SK_ID_CURR  TARGET NAME_CONTRACT_TYPE CODE_GENDER FLAG_OWN_CAR  \\\n",
       "22546       380404       0         Cash loans           F            Y   \n",
       "18236       216051       0    Revolving loans           F            Y   \n",
       "155103      342201       1         Cash loans           M            N   \n",
       "4778        419325       0         Cash loans           M            Y   \n",
       "105773      392857       0         Cash loans           F            N   \n",
       "\n",
       "       FLAG_OWN_REALTY  CNT_CHILDREN  AMT_INCOME_TOTAL  AMT_CREDIT  \\\n",
       "22546                Y             0          292500.0   1375380.0   \n",
       "18236                Y             1           90000.0    180000.0   \n",
       "155103               Y             0          112500.0    328500.0   \n",
       "4778                 N             0          180000.0   1009566.0   \n",
       "105773               Y             0           90000.0    970380.0   \n",
       "\n",
       "        AMT_ANNUITY  ...  FLAG_DOCUMENT_18 FLAG_DOCUMENT_19 FLAG_DOCUMENT_20  \\\n",
       "22546       49531.5  ...                 0                0                0   \n",
       "18236        9000.0  ...                 0                0                0   \n",
       "155103      19980.0  ...                 0                0                0   \n",
       "4778        30609.0  ...                 0                0                0   \n",
       "105773      28503.0  ...                 0                0                0   \n",
       "\n",
       "       FLAG_DOCUMENT_21 AMT_REQ_CREDIT_BUREAU_HOUR AMT_REQ_CREDIT_BUREAU_DAY  \\\n",
       "22546                 0                        0.0                       0.0   \n",
       "18236                 0                        0.0                       0.0   \n",
       "155103                0                        NaN                       NaN   \n",
       "4778                  0                        0.0                       0.0   \n",
       "105773                0                        NaN                       NaN   \n",
       "\n",
       "        AMT_REQ_CREDIT_BUREAU_WEEK  AMT_REQ_CREDIT_BUREAU_MON  \\\n",
       "22546                          0.0                        1.0   \n",
       "18236                          0.0                        0.0   \n",
       "155103                         NaN                        NaN   \n",
       "4778                           0.0                        0.0   \n",
       "105773                         NaN                        NaN   \n",
       "\n",
       "        AMT_REQ_CREDIT_BUREAU_QRT  AMT_REQ_CREDIT_BUREAU_YEAR  \n",
       "22546                         0.0                         3.0  \n",
       "18236                         0.0                         2.0  \n",
       "155103                        NaN                         NaN  \n",
       "4778                          0.0                         0.0  \n",
       "105773                        NaN                         NaN  \n",
       "\n",
       "[5 rows x 122 columns]"
      ]
     },
     "execution_count": 5,
     "metadata": {},
     "output_type": "execute_result"
    }
   ],
   "source": [
    "# cinco primeiras observações do dataframe\n",
    "df.head()"
   ]
  },
  {
   "cell_type": "code",
   "execution_count": 6,
   "id": "debc71ab",
   "metadata": {},
   "outputs": [
    {
     "data": {
      "text/html": [
       "<div>\n",
       "<style scoped>\n",
       "    .dataframe tbody tr th:only-of-type {\n",
       "        vertical-align: middle;\n",
       "    }\n",
       "\n",
       "    .dataframe tbody tr th {\n",
       "        vertical-align: top;\n",
       "    }\n",
       "\n",
       "    .dataframe thead th {\n",
       "        text-align: right;\n",
       "    }\n",
       "</style>\n",
       "<table border=\"1\" class=\"dataframe\">\n",
       "  <thead>\n",
       "    <tr style=\"text-align: right;\">\n",
       "      <th></th>\n",
       "      <th>SK_ID_CURR</th>\n",
       "      <th>TARGET</th>\n",
       "      <th>NAME_CONTRACT_TYPE</th>\n",
       "      <th>CODE_GENDER</th>\n",
       "      <th>FLAG_OWN_CAR</th>\n",
       "      <th>FLAG_OWN_REALTY</th>\n",
       "      <th>CNT_CHILDREN</th>\n",
       "      <th>AMT_INCOME_TOTAL</th>\n",
       "      <th>AMT_CREDIT</th>\n",
       "      <th>AMT_ANNUITY</th>\n",
       "      <th>...</th>\n",
       "      <th>FLAG_DOCUMENT_18</th>\n",
       "      <th>FLAG_DOCUMENT_19</th>\n",
       "      <th>FLAG_DOCUMENT_20</th>\n",
       "      <th>FLAG_DOCUMENT_21</th>\n",
       "      <th>AMT_REQ_CREDIT_BUREAU_HOUR</th>\n",
       "      <th>AMT_REQ_CREDIT_BUREAU_DAY</th>\n",
       "      <th>AMT_REQ_CREDIT_BUREAU_WEEK</th>\n",
       "      <th>AMT_REQ_CREDIT_BUREAU_MON</th>\n",
       "      <th>AMT_REQ_CREDIT_BUREAU_QRT</th>\n",
       "      <th>AMT_REQ_CREDIT_BUREAU_YEAR</th>\n",
       "    </tr>\n",
       "  </thead>\n",
       "  <tbody>\n",
       "    <tr>\n",
       "      <th>91532</th>\n",
       "      <td>369598</td>\n",
       "      <td>0</td>\n",
       "      <td>Cash loans</td>\n",
       "      <td>M</td>\n",
       "      <td>N</td>\n",
       "      <td>Y</td>\n",
       "      <td>1</td>\n",
       "      <td>180000.0</td>\n",
       "      <td>485640.0</td>\n",
       "      <td>34668.0</td>\n",
       "      <td>...</td>\n",
       "      <td>0</td>\n",
       "      <td>0</td>\n",
       "      <td>0</td>\n",
       "      <td>0</td>\n",
       "      <td>0.0</td>\n",
       "      <td>0.0</td>\n",
       "      <td>0.0</td>\n",
       "      <td>0.0</td>\n",
       "      <td>0.0</td>\n",
       "      <td>0.0</td>\n",
       "    </tr>\n",
       "    <tr>\n",
       "      <th>46651</th>\n",
       "      <td>390822</td>\n",
       "      <td>0</td>\n",
       "      <td>Cash loans</td>\n",
       "      <td>F</td>\n",
       "      <td>N</td>\n",
       "      <td>Y</td>\n",
       "      <td>0</td>\n",
       "      <td>157500.0</td>\n",
       "      <td>573628.5</td>\n",
       "      <td>22878.0</td>\n",
       "      <td>...</td>\n",
       "      <td>0</td>\n",
       "      <td>0</td>\n",
       "      <td>0</td>\n",
       "      <td>0</td>\n",
       "      <td>0.0</td>\n",
       "      <td>0.0</td>\n",
       "      <td>0.0</td>\n",
       "      <td>2.0</td>\n",
       "      <td>0.0</td>\n",
       "      <td>4.0</td>\n",
       "    </tr>\n",
       "    <tr>\n",
       "      <th>138695</th>\n",
       "      <td>382041</td>\n",
       "      <td>0</td>\n",
       "      <td>Cash loans</td>\n",
       "      <td>F</td>\n",
       "      <td>Y</td>\n",
       "      <td>Y</td>\n",
       "      <td>0</td>\n",
       "      <td>67500.0</td>\n",
       "      <td>1256400.0</td>\n",
       "      <td>36864.0</td>\n",
       "      <td>...</td>\n",
       "      <td>0</td>\n",
       "      <td>0</td>\n",
       "      <td>0</td>\n",
       "      <td>0</td>\n",
       "      <td>0.0</td>\n",
       "      <td>0.0</td>\n",
       "      <td>0.0</td>\n",
       "      <td>1.0</td>\n",
       "      <td>0.0</td>\n",
       "      <td>1.0</td>\n",
       "    </tr>\n",
       "    <tr>\n",
       "      <th>201252</th>\n",
       "      <td>382211</td>\n",
       "      <td>0</td>\n",
       "      <td>Cash loans</td>\n",
       "      <td>F</td>\n",
       "      <td>N</td>\n",
       "      <td>Y</td>\n",
       "      <td>0</td>\n",
       "      <td>90000.0</td>\n",
       "      <td>284256.0</td>\n",
       "      <td>29979.0</td>\n",
       "      <td>...</td>\n",
       "      <td>0</td>\n",
       "      <td>0</td>\n",
       "      <td>0</td>\n",
       "      <td>0</td>\n",
       "      <td>NaN</td>\n",
       "      <td>NaN</td>\n",
       "      <td>NaN</td>\n",
       "      <td>NaN</td>\n",
       "      <td>NaN</td>\n",
       "      <td>NaN</td>\n",
       "    </tr>\n",
       "    <tr>\n",
       "      <th>227882</th>\n",
       "      <td>424224</td>\n",
       "      <td>0</td>\n",
       "      <td>Cash loans</td>\n",
       "      <td>F</td>\n",
       "      <td>N</td>\n",
       "      <td>Y</td>\n",
       "      <td>0</td>\n",
       "      <td>202500.0</td>\n",
       "      <td>1980864.0</td>\n",
       "      <td>68985.0</td>\n",
       "      <td>...</td>\n",
       "      <td>0</td>\n",
       "      <td>0</td>\n",
       "      <td>0</td>\n",
       "      <td>0</td>\n",
       "      <td>0.0</td>\n",
       "      <td>0.0</td>\n",
       "      <td>0.0</td>\n",
       "      <td>0.0</td>\n",
       "      <td>0.0</td>\n",
       "      <td>0.0</td>\n",
       "    </tr>\n",
       "  </tbody>\n",
       "</table>\n",
       "<p>5 rows × 122 columns</p>\n",
       "</div>"
      ],
      "text/plain": [
       "        SK_ID_CURR  TARGET NAME_CONTRACT_TYPE CODE_GENDER FLAG_OWN_CAR  \\\n",
       "91532       369598       0         Cash loans           M            N   \n",
       "46651       390822       0         Cash loans           F            N   \n",
       "138695      382041       0         Cash loans           F            Y   \n",
       "201252      382211       0         Cash loans           F            N   \n",
       "227882      424224       0         Cash loans           F            N   \n",
       "\n",
       "       FLAG_OWN_REALTY  CNT_CHILDREN  AMT_INCOME_TOTAL  AMT_CREDIT  \\\n",
       "91532                Y             1          180000.0    485640.0   \n",
       "46651                Y             0          157500.0    573628.5   \n",
       "138695               Y             0           67500.0   1256400.0   \n",
       "201252               Y             0           90000.0    284256.0   \n",
       "227882               Y             0          202500.0   1980864.0   \n",
       "\n",
       "        AMT_ANNUITY  ...  FLAG_DOCUMENT_18 FLAG_DOCUMENT_19 FLAG_DOCUMENT_20  \\\n",
       "91532       34668.0  ...                 0                0                0   \n",
       "46651       22878.0  ...                 0                0                0   \n",
       "138695      36864.0  ...                 0                0                0   \n",
       "201252      29979.0  ...                 0                0                0   \n",
       "227882      68985.0  ...                 0                0                0   \n",
       "\n",
       "       FLAG_DOCUMENT_21 AMT_REQ_CREDIT_BUREAU_HOUR AMT_REQ_CREDIT_BUREAU_DAY  \\\n",
       "91532                 0                        0.0                       0.0   \n",
       "46651                 0                        0.0                       0.0   \n",
       "138695                0                        0.0                       0.0   \n",
       "201252                0                        NaN                       NaN   \n",
       "227882                0                        0.0                       0.0   \n",
       "\n",
       "        AMT_REQ_CREDIT_BUREAU_WEEK  AMT_REQ_CREDIT_BUREAU_MON  \\\n",
       "91532                          0.0                        0.0   \n",
       "46651                          0.0                        2.0   \n",
       "138695                         0.0                        1.0   \n",
       "201252                         NaN                        NaN   \n",
       "227882                         0.0                        0.0   \n",
       "\n",
       "        AMT_REQ_CREDIT_BUREAU_QRT  AMT_REQ_CREDIT_BUREAU_YEAR  \n",
       "91532                         0.0                         0.0  \n",
       "46651                         0.0                         4.0  \n",
       "138695                        0.0                         1.0  \n",
       "201252                        NaN                         NaN  \n",
       "227882                        0.0                         0.0  \n",
       "\n",
       "[5 rows x 122 columns]"
      ]
     },
     "execution_count": 6,
     "metadata": {},
     "output_type": "execute_result"
    }
   ],
   "source": [
    "# cinco últimas observações do dataframe\n",
    "df.tail()"
   ]
  },
  {
   "cell_type": "code",
   "execution_count": 7,
   "id": "f1342539",
   "metadata": {},
   "outputs": [],
   "source": [
    "# separando dados\n",
    "X = df.drop(['TARGET','SK_ID_CURR'], axis=1)\n",
    "y = df['TARGET']\n",
    "\n",
    "X_train, X_test, y_train, y_test = train_test_split(X, y, test_size = 0.3, random_state = 42)"
   ]
  },
  {
   "cell_type": "markdown",
   "id": "03545b6a",
   "metadata": {},
   "source": [
    "1. Crie uma pipeline específica para as seguintes variáveis e realize os tratamentos necessários para transformar essa informação em número ordenado:\n",
    "    - `NAME_EDUCATION_TYPE`"
   ]
  },
  {
   "cell_type": "code",
   "execution_count": 8,
   "id": "aa7e259a",
   "metadata": {},
   "outputs": [],
   "source": [
    "# criando pipeline com ordinal encoder\n",
    "lista_ordenada = ['Lower secondary','Secondary / secondary special','Incomplete higher','Higher education','Academic degree']\n",
    "var_edu = ['NAME_EDUCATION_TYPE']\n",
    "\n",
    "pipe_edu = Pipeline(steps = [\n",
    "    ('input', SimpleImputer(missing_values='', strategy='most_frequent')),\n",
    "    ('trata_edu', OrdinalEncoder(categories = [lista_ordenada]))\n",
    "])"
   ]
  },
  {
   "cell_type": "markdown",
   "id": "3460896b",
   "metadata": {},
   "source": [
    "2. Crie uma pipeline específica para as seguintes variáveis, realizando um One Hot Encoder (leiam a documentação e setem o parâmetro drop conforme fizer sentido para vocês):\n",
    "    - `FLAG_OWN_CAR`\n",
    "    - `FLAG_OWN_REALTY`\n",
    "    - `NAME_INCOME_TYPE`\n",
    "    - `NAME_FAMILY_STATUS`\n",
    "    - `OCCUPATION_TYPE`"
   ]
  },
  {
   "cell_type": "code",
   "execution_count": 9,
   "id": "799157f3",
   "metadata": {},
   "outputs": [],
   "source": [
    "# criando pipeline aplicando one hot encoding \n",
    "var_cat = ['FLAG_OWN_CAR','FLAG_OWN_REALTY','NAME_INCOME_TYPE','NAME_FAMILY_STATUS','OCCUPATION_TYPE']\n",
    "\n",
    "pipe_cat = Pipeline(steps = [\n",
    "    ('trata_cat', OneHotEncoder(sparse = False, drop = 'if_binary', handle_unknown='ignore'))\n",
    "])"
   ]
  },
  {
   "cell_type": "markdown",
   "id": "a35ac207",
   "metadata": {},
   "source": [
    "3. Crie uma pipeline específica para todas as outras variáveis que não são do tipo object. Adicione na pipeline a imputação de missing com a mediana. Com base nos próximos passos, responda a seguinte pergunta:\n",
    "    - *É necessário realizar o standard scaler nessas variáveis?* R.: Sim, já que será utilizada a regressão, a normalização irá influenciar nos resultados."
   ]
  },
  {
   "cell_type": "code",
   "execution_count": 10,
   "id": "21906e9f",
   "metadata": {},
   "outputs": [],
   "source": [
    "# selecionando variáveis numéricas\n",
    "var_num = df.select_dtypes(exclude = ['object']).drop(['TARGET', 'SK_ID_CURR'], axis = 1).columns.tolist()\n",
    "\n",
    "# criando pipeline\n",
    "pipe_num = Pipeline(steps = [\n",
    "    ('trata_num', SimpleImputer(missing_values = np.nan, strategy = 'median')),\n",
    "    ('scaling', StandardScaler())\n",
    "])"
   ]
  },
  {
   "cell_type": "markdown",
   "id": "056beaba",
   "metadata": {},
   "source": [
    "4. Crie uma outra pipeline, que unirá todas as pipelines anteriores. Além de unir os steps passados, essa pipeline deve aplicar uma seleção de features baseada em um modelo de regressão logística. Resposta a seguinte pergunta:\n",
    "    - *Qual penalidade deve ser usada? Por que?* R.: L1, porque também é possível selecionar variáveis relevantes ao modelo."
   ]
  },
  {
   "cell_type": "code",
   "execution_count": 11,
   "id": "f809d015",
   "metadata": {
    "scrolled": true
   },
   "outputs": [],
   "source": [
    "# unindo pipelines\n",
    "pipe_preproc = ColumnTransformer(transformers = [\n",
    "    ('pipe_edu', pipe_edu, var_edu),\n",
    "    ('pipe_cat', pipe_cat, var_cat),\n",
    "    ('pipe_num', pipe_num, var_num),\n",
    "])\n",
    "\n",
    "# definindo o modelo de regressão logística\n",
    "modelo_logreg = LogisticRegressionCV(\n",
    "    penalty = 'l1', \n",
    "    solver = 'liblinear', \n",
    "    Cs = np.arange(0.01, 0.1, 0.01), \n",
    "    scoring = 'roc_auc'\n",
    ")\n",
    "\n",
    "# pipeline para seleção de features\n",
    "pipe_features = Pipeline(steps = [\n",
    "    ('pipe_features', SelectFromModel(estimator = modelo_logreg, max_features=10, threshold=0.1))\n",
    "])\n",
    "\n",
    "# criando a pipeline final\n",
    "pipe_final = Pipeline(steps = [\n",
    "    ('preproc', pipe_preproc),\n",
    "    ('pipe_features', pipe_features)\n",
    "])"
   ]
  },
  {
   "cell_type": "code",
   "execution_count": 12,
   "id": "d516216b",
   "metadata": {},
   "outputs": [
    {
     "data": {
      "text/plain": [
       "array([[ 3.        ,  0.        ,  0.        , ...,  1.33100026,\n",
       "         0.28665055,  0.63517377],\n",
       "       [ 1.        ,  0.        ,  0.        , ..., -0.19721209,\n",
       "        -1.62383795, -1.57437232],\n",
       "       [ 1.        ,  0.        ,  0.        , ..., -1.40336296,\n",
       "         0.1234947 ,  0.63517377],\n",
       "       ...,\n",
       "       [ 1.        ,  0.        ,  0.        , ..., -0.50981824,\n",
       "        -0.90431362,  0.63517377],\n",
       "       [ 1.        ,  0.        ,  0.        , ...,  0.97621441,\n",
       "         0.1234947 ,  0.63517377],\n",
       "       [ 1.        ,  0.        ,  0.        , ...,  1.12719991,\n",
       "         0.20531441,  0.63517377]])"
      ]
     },
     "execution_count": 12,
     "metadata": {},
     "output_type": "execute_result"
    }
   ],
   "source": [
    "pipe_final.fit_transform(df, df['TARGET'])"
   ]
  },
  {
   "cell_type": "markdown",
   "id": "0a710f9b",
   "metadata": {},
   "source": [
    "5. Após a etapa de seleção de features da pipeline do passo anterior, adicione um modelo de árvore de decisão com `max_depth = 5` e treine o modelo, avaliando as métricas."
   ]
  },
  {
   "cell_type": "code",
   "execution_count": 13,
   "id": "59e440d8",
   "metadata": {},
   "outputs": [],
   "source": [
    "# definindo o modelo de árvore de decisão\n",
    "modelo_dt = DecisionTreeClassifier(max_depth = 6, random_state = 42)\n",
    "\n",
    "# criando a pipeline final\n",
    "pipe_final = Pipeline(steps = [\n",
    "    ('preproc', pipe_preproc),\n",
    "    ('pipe_features', pipe_features),\n",
    "    ('modelo', modelo_dt)\n",
    "])"
   ]
  },
  {
   "cell_type": "code",
   "execution_count": 14,
   "id": "0d6f4919",
   "metadata": {
    "scrolled": true
   },
   "outputs": [
    {
     "data": {
      "text/plain": [
       "Pipeline(steps=[('preproc',\n",
       "                 ColumnTransformer(transformers=[('pipe_edu',\n",
       "                                                  Pipeline(steps=[('input',\n",
       "                                                                   SimpleImputer(missing_values='',\n",
       "                                                                                 strategy='most_frequent')),\n",
       "                                                                  ('trata_edu',\n",
       "                                                                   OrdinalEncoder(categories=[['Lower '\n",
       "                                                                                               'secondary',\n",
       "                                                                                               'Secondary '\n",
       "                                                                                               '/ '\n",
       "                                                                                               'secondary '\n",
       "                                                                                               'special',\n",
       "                                                                                               'Incomplete '\n",
       "                                                                                               'higher',\n",
       "                                                                                               'Higher '\n",
       "                                                                                               'education',\n",
       "                                                                                               'Academic '\n",
       "                                                                                               'degree']]))]),\n",
       "                                                  ['NAME_EDUCATION_TYPE']),\n",
       "                                                 ('pipe_ca...\n",
       "                                                   'EXT_SOURCE_1',\n",
       "                                                   'EXT_SOURCE_2',\n",
       "                                                   'EXT_SOURCE_3', ...])])),\n",
       "                ('pipe_features',\n",
       "                 Pipeline(steps=[('pipe_features',\n",
       "                                  SelectFromModel(estimator=LogisticRegressionCV(Cs=array([0.01, 0.02, 0.03, 0.04, 0.05, 0.06, 0.07, 0.08, 0.09]),\n",
       "                                                                                 penalty='l1',\n",
       "                                                                                 scoring='roc_auc',\n",
       "                                                                                 solver='liblinear'),\n",
       "                                                  max_features=10,\n",
       "                                                  threshold=0.1))])),\n",
       "                ('modelo',\n",
       "                 DecisionTreeClassifier(max_depth=6, random_state=42))])"
      ]
     },
     "execution_count": 14,
     "metadata": {},
     "output_type": "execute_result"
    }
   ],
   "source": [
    "pipe_final.fit(X_train, y_train)"
   ]
  },
  {
   "cell_type": "code",
   "execution_count": 15,
   "id": "b88e81c1",
   "metadata": {},
   "outputs": [
    {
     "name": "stdout",
     "output_type": "stream",
     "text": [
      "ROC-AUC treino: 0.7311827253025104\n",
      "ROC-AUC teste: 0.6744107350452431\n"
     ]
    }
   ],
   "source": [
    "print('ROC-AUC treino:', roc_auc_score(y_train, (pipe_final.predict_proba(X_train)[:,1])))\n",
    "print('ROC-AUC teste:', roc_auc_score(y_test, (pipe_final.predict_proba(X_test)[:,1])))"
   ]
  },
  {
   "cell_type": "markdown",
   "id": "3d91f535",
   "metadata": {},
   "source": [
    "6. Faça uma busca em grid nos hiperparâmetros `min_samples_leaf` e `max_depth`, retreine o modelo e avalie as métricas. Responda a seguinte pergunta:\n",
    "    - *Houve ganho em performance? Se sim, de quanto?* R.: Ganho de performance irrelevante."
   ]
  },
  {
   "cell_type": "code",
   "execution_count": 16,
   "id": "9ff06f62",
   "metadata": {},
   "outputs": [],
   "source": [
    "parametros = {\n",
    "    'modelo__max_depth': [20, 50, 100],\n",
    "    'modelo__min_samples_leaf': [2, 3, 5]\n",
    "}\n",
    "\n",
    "gscv = GridSearchCV(\n",
    "    estimator = pipe_final,\n",
    "    param_grid = parametros,\n",
    "    scoring = 'roc_auc',\n",
    "    refit = True,\n",
    "    cv = 3\n",
    ")"
   ]
  },
  {
   "cell_type": "code",
   "execution_count": 17,
   "id": "0a443612",
   "metadata": {
    "scrolled": true
   },
   "outputs": [
    {
     "data": {
      "text/plain": [
       "GridSearchCV(cv=3,\n",
       "             estimator=Pipeline(steps=[('preproc',\n",
       "                                        ColumnTransformer(transformers=[('pipe_edu',\n",
       "                                                                         Pipeline(steps=[('input',\n",
       "                                                                                          SimpleImputer(missing_values='',\n",
       "                                                                                                        strategy='most_frequent')),\n",
       "                                                                                         ('trata_edu',\n",
       "                                                                                          OrdinalEncoder(categories=[['Lower '\n",
       "                                                                                                                      'secondary',\n",
       "                                                                                                                      'Secondary '\n",
       "                                                                                                                      '/ '\n",
       "                                                                                                                      'secondary '\n",
       "                                                                                                                      'special',\n",
       "                                                                                                                      'Incomplete '\n",
       "                                                                                                                      'higher',\n",
       "                                                                                                                      'Higher '\n",
       "                                                                                                                      'education',\n",
       "                                                                                                                      'Academic '\n",
       "                                                                                                                      'degree']]))]),\n",
       "                                                                         ['NAME...\n",
       "                                                         SelectFromModel(estimator=LogisticRegressionCV(Cs=array([0.01, 0.02, 0.03, 0.04, 0.05, 0.06, 0.07, 0.08, 0.09]),\n",
       "                                                                                                        penalty='l1',\n",
       "                                                                                                        scoring='roc_auc',\n",
       "                                                                                                        solver='liblinear'),\n",
       "                                                                         max_features=10,\n",
       "                                                                         threshold=0.1))])),\n",
       "                                       ('modelo',\n",
       "                                        DecisionTreeClassifier(max_depth=6,\n",
       "                                                               random_state=42))]),\n",
       "             param_grid={'modelo__max_depth': [20, 50, 100],\n",
       "                         'modelo__min_samples_leaf': [2, 3, 5]},\n",
       "             scoring='roc_auc')"
      ]
     },
     "execution_count": 17,
     "metadata": {},
     "output_type": "execute_result"
    }
   ],
   "source": [
    "gscv.fit(X_train, y_train)"
   ]
  },
  {
   "cell_type": "code",
   "execution_count": 18,
   "id": "9e5bfe09",
   "metadata": {},
   "outputs": [
    {
     "name": "stdout",
     "output_type": "stream",
     "text": [
      "ROC-AUC treino: 0.9500747697309011\n",
      "ROC-AUC teste: 0.5702148394715312\n"
     ]
    }
   ],
   "source": [
    "print('ROC-AUC treino:', roc_auc_score(y_train, (gscv.predict_proba(X_train)[:,1])))\n",
    "print('ROC-AUC teste:', roc_auc_score(y_test, (gscv.predict_proba(X_test )[:,1])))"
   ]
  },
  {
   "cell_type": "code",
   "execution_count": 19,
   "id": "4e80eedf",
   "metadata": {},
   "outputs": [
    {
     "data": {
      "text/plain": [
       "{'modelo__max_depth': 20, 'modelo__min_samples_leaf': 5}"
      ]
     },
     "execution_count": 19,
     "metadata": {},
     "output_type": "execute_result"
    }
   ],
   "source": [
    "gscv.best_params_"
   ]
  },
  {
   "cell_type": "code",
   "execution_count": 20,
   "id": "75a61593",
   "metadata": {},
   "outputs": [
    {
     "data": {
      "text/plain": [
       "Pipeline(steps=[('preproc',\n",
       "                 ColumnTransformer(transformers=[('pipe_edu',\n",
       "                                                  Pipeline(steps=[('input',\n",
       "                                                                   SimpleImputer(missing_values='',\n",
       "                                                                                 strategy='most_frequent')),\n",
       "                                                                  ('trata_edu',\n",
       "                                                                   OrdinalEncoder(categories=[['Lower '\n",
       "                                                                                               'secondary',\n",
       "                                                                                               'Secondary '\n",
       "                                                                                               '/ '\n",
       "                                                                                               'secondary '\n",
       "                                                                                               'special',\n",
       "                                                                                               'Incomplete '\n",
       "                                                                                               'higher',\n",
       "                                                                                               'Higher '\n",
       "                                                                                               'education',\n",
       "                                                                                               'Academic '\n",
       "                                                                                               'degree']]))]),\n",
       "                                                  ['NAME_EDUCATION_TYPE']),\n",
       "                                                 ('pipe_ca...\n",
       "                                                   'EXT_SOURCE_2',\n",
       "                                                   'EXT_SOURCE_3', ...])])),\n",
       "                ('pipe_features',\n",
       "                 Pipeline(steps=[('pipe_features',\n",
       "                                  SelectFromModel(estimator=LogisticRegressionCV(Cs=array([0.01, 0.02, 0.03, 0.04, 0.05, 0.06, 0.07, 0.08, 0.09]),\n",
       "                                                                                 penalty='l1',\n",
       "                                                                                 scoring='roc_auc',\n",
       "                                                                                 solver='liblinear'),\n",
       "                                                  max_features=10,\n",
       "                                                  threshold=0.1))])),\n",
       "                ('modelo',\n",
       "                 DecisionTreeClassifier(max_depth=20, min_samples_leaf=5,\n",
       "                                        random_state=42))])"
      ]
     },
     "execution_count": 20,
     "metadata": {},
     "output_type": "execute_result"
    }
   ],
   "source": [
    "gscv.best_estimator_"
   ]
  },
  {
   "cell_type": "markdown",
   "id": "2dc257d7",
   "metadata": {},
   "source": [
    "7. Substitua o modelo de árvore de decisão por um modelo XGBoost, AdaBoost ou LightGBM, realizando também uma busca nos hiperparâmetros (lembre-se de alterar o grid de hiperparâmetros a ser testado). Avalie:\n",
    "\n",
    "- *Como ficou a performance do modelo usando o novo algoritmo?*\n",
    "- *A variável `pipe_cat__OCCUPATION_TYPE_nan` está bonificando ou penalizando o cliente? Ou seja, se o cliente tiver ocupação como missing, ele tem tendência a ser melhor ou pior pagador?*"
   ]
  },
  {
   "cell_type": "code",
   "execution_count": 28,
   "id": "072c64a0",
   "metadata": {},
   "outputs": [],
   "source": [
    "!pip install -q lightgbm"
   ]
  },
  {
   "cell_type": "code",
   "execution_count": 29,
   "id": "0edfeff8",
   "metadata": {},
   "outputs": [],
   "source": [
    "from lightgbm import LGBMClassifier\n",
    "\n",
    "# definindo o modelo \n",
    "modelo_lgbm = LGBMClassifier(n_estimators=3)\n",
    "\n",
    "parametros = {\n",
    "    'modelo__n_estimators': [100, 300, 500],\n",
    "}\n",
    "\n",
    "# criando a pipeline final\n",
    "pipe_final2 = Pipeline(steps = [\n",
    "    ('preproc', pipe_preproc),\n",
    "    ('pipe_features', pipe_features),\n",
    "    ('modelo', modelo_lgbm)\n",
    "])\n",
    "\n",
    "gscv = GridSearchCV(\n",
    "    estimator = pipe_final2,\n",
    "    param_grid = parametros,\n",
    "    scoring = 'roc_auc',\n",
    "    refit = True,\n",
    "    cv = 3\n",
    ")"
   ]
  },
  {
   "cell_type": "code",
   "execution_count": 30,
   "id": "848f303a",
   "metadata": {},
   "outputs": [
    {
     "data": {
      "text/plain": [
       "GridSearchCV(cv=3,\n",
       "             estimator=Pipeline(steps=[('preproc',\n",
       "                                        ColumnTransformer(transformers=[('pipe_edu',\n",
       "                                                                         Pipeline(steps=[('input',\n",
       "                                                                                          SimpleImputer(missing_values='',\n",
       "                                                                                                        strategy='most_frequent')),\n",
       "                                                                                         ('trata_edu',\n",
       "                                                                                          OrdinalEncoder(categories=[['Lower '\n",
       "                                                                                                                      'secondary',\n",
       "                                                                                                                      'Secondary '\n",
       "                                                                                                                      '/ '\n",
       "                                                                                                                      'secondary '\n",
       "                                                                                                                      'special',\n",
       "                                                                                                                      'Incomplete '\n",
       "                                                                                                                      'higher',\n",
       "                                                                                                                      'Higher '\n",
       "                                                                                                                      'education',\n",
       "                                                                                                                      'Academic '\n",
       "                                                                                                                      'degree']]))]),\n",
       "                                                                         ['NAME...\n",
       "                                       ('pipe_features',\n",
       "                                        Pipeline(steps=[('pipe_features',\n",
       "                                                         SelectFromModel(estimator=LogisticRegressionCV(Cs=array([0.01, 0.02, 0.03, 0.04, 0.05, 0.06, 0.07, 0.08, 0.09]),\n",
       "                                                                                                        penalty='l1',\n",
       "                                                                                                        scoring='roc_auc',\n",
       "                                                                                                        solver='liblinear'),\n",
       "                                                                         max_features=10,\n",
       "                                                                         threshold=0.1))])),\n",
       "                                       ('modelo',\n",
       "                                        LGBMClassifier(n_estimators=3))]),\n",
       "             param_grid={'modelo__n_estimators': [100, 300, 500]},\n",
       "             scoring='roc_auc')"
      ]
     },
     "execution_count": 30,
     "metadata": {},
     "output_type": "execute_result"
    }
   ],
   "source": [
    "gscv.fit(X_train, y_train)"
   ]
  },
  {
   "cell_type": "code",
   "execution_count": 32,
   "id": "7f7d902f",
   "metadata": {},
   "outputs": [
    {
     "data": {
      "text/plain": [
       "{'modelo__n_estimators': 100}"
      ]
     },
     "execution_count": 32,
     "metadata": {},
     "output_type": "execute_result"
    }
   ],
   "source": [
    "gscv.best_params_"
   ]
  },
  {
   "cell_type": "code",
   "execution_count": 33,
   "id": "cfce7ff3",
   "metadata": {},
   "outputs": [
    {
     "data": {
      "text/plain": [
       "Pipeline(steps=[('preproc',\n",
       "                 ColumnTransformer(transformers=[('pipe_edu',\n",
       "                                                  Pipeline(steps=[('input',\n",
       "                                                                   SimpleImputer(missing_values='',\n",
       "                                                                                 strategy='most_frequent')),\n",
       "                                                                  ('trata_edu',\n",
       "                                                                   OrdinalEncoder(categories=[['Lower '\n",
       "                                                                                               'secondary',\n",
       "                                                                                               'Secondary '\n",
       "                                                                                               '/ '\n",
       "                                                                                               'secondary '\n",
       "                                                                                               'special',\n",
       "                                                                                               'Incomplete '\n",
       "                                                                                               'higher',\n",
       "                                                                                               'Higher '\n",
       "                                                                                               'education',\n",
       "                                                                                               'Academic '\n",
       "                                                                                               'degree']]))]),\n",
       "                                                  ['NAME_EDUCATION_TYPE']),\n",
       "                                                 ('pipe_ca...\n",
       "                                                   'REG_CITY_NOT_WORK_CITY',\n",
       "                                                   'LIVE_CITY_NOT_WORK_CITY',\n",
       "                                                   'EXT_SOURCE_1',\n",
       "                                                   'EXT_SOURCE_2',\n",
       "                                                   'EXT_SOURCE_3', ...])])),\n",
       "                ('pipe_features',\n",
       "                 Pipeline(steps=[('pipe_features',\n",
       "                                  SelectFromModel(estimator=LogisticRegressionCV(Cs=array([0.01, 0.02, 0.03, 0.04, 0.05, 0.06, 0.07, 0.08, 0.09]),\n",
       "                                                                                 penalty='l1',\n",
       "                                                                                 scoring='roc_auc',\n",
       "                                                                                 solver='liblinear'),\n",
       "                                                  max_features=10,\n",
       "                                                  threshold=0.1))])),\n",
       "                ('modelo', LGBMClassifier())])"
      ]
     },
     "execution_count": 33,
     "metadata": {},
     "output_type": "execute_result"
    }
   ],
   "source": [
    "gscv.best_estimator_"
   ]
  },
  {
   "cell_type": "code",
   "execution_count": 31,
   "id": "2824990a",
   "metadata": {},
   "outputs": [
    {
     "name": "stdout",
     "output_type": "stream",
     "text": [
      "ROC-AUC treino: 0.911973248148817\n",
      "ROC-AUC teste: 0.7064466360393571\n"
     ]
    }
   ],
   "source": [
    "print('ROC-AUC treino:', roc_auc_score(y_train, (gscv.predict_proba(X_train)[:,1])))\n",
    "print('ROC-AUC teste:', roc_auc_score(y_test, (gscv.predict_proba(X_test )[:,1])))"
   ]
  },
  {
   "cell_type": "markdown",
   "id": "355b62ef",
   "metadata": {},
   "source": [
    "---"
   ]
  }
 ],
 "metadata": {
  "kernelspec": {
   "display_name": "Python 3 (ipykernel)",
   "language": "python",
   "name": "python3"
  },
  "language_info": {
   "codemirror_mode": {
    "name": "ipython",
    "version": 3
   },
   "file_extension": ".py",
   "mimetype": "text/x-python",
   "name": "python",
   "nbconvert_exporter": "python",
   "pygments_lexer": "ipython3",
   "version": "3.9.12"
  }
 },
 "nbformat": 4,
 "nbformat_minor": 5
}
