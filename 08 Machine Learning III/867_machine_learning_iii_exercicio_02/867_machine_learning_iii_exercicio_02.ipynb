{
 "cells": [
  {
   "cell_type": "markdown",
   "id": "15a6cb03",
   "metadata": {},
   "source": [
    "## Exercício 02!\n",
    "\n",
    "**Entrega individual de um notebook com esses passos indentificados até dia 24/outubro.**\n",
    "\n",
    "A partir do Exercício 01, realize o seguinte:\n",
    "    \n",
    "Substitua o modelo de árvore de decisão por um modelo XGBoost, AdaBoost ou LightGBM, realizando também uma busca nos hiperparâmetros (lembre-se de alterar o grid de hiperparâmetros a ser testado). Avalie:\n",
    "\n",
    "- **Como ficou a performance do modelo usando o novo algoritmo?**\n",
    "- **De acordo com a SHAP, quais são as 10 features mais importantes? Qual a interpretação dessas features?**"
   ]
  },
  {
   "cell_type": "code",
   "execution_count": null,
   "id": "a1b2c475",
   "metadata": {},
   "outputs": [],
   "source": []
  }
 ],
 "metadata": {
  "kernelspec": {
   "display_name": "Python 3 (ipykernel)",
   "language": "python",
   "name": "python3"
  },
  "language_info": {
   "codemirror_mode": {
    "name": "ipython",
    "version": 3
   },
   "file_extension": ".py",
   "mimetype": "text/x-python",
   "name": "python",
   "nbconvert_exporter": "python",
   "pygments_lexer": "ipython3",
   "version": "3.9.14"
  }
 },
 "nbformat": 4,
 "nbformat_minor": 5
}
