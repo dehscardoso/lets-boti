{
 "cells": [
  {
   "cell_type": "markdown",
   "id": "dc32a682",
   "metadata": {},
   "source": [
    "<img src = \"https://images2.imgbox.com/a5/72/7ZbDUHlf_o.jpg\" width=\"200\">"
   ]
  },
  {
   "cell_type": "markdown",
   "id": "39fd983b",
   "metadata": {},
   "source": [
    "## Exercício 01\n",
    "---\n",
    "\n",
    "**Entrega individual de um notebook com esses passos indentificados.**\n",
    "\n",
    "Com o dataset do projeto, faça o seguinte:\n",
    "    \n",
    "1. Crie uma pipeline específica para as seguintes variáveis e realize os tratamentos necessários para transformar essa informação em número ordenado:\n",
    "    - `NAME_EDUCATION_TYPE`  \n",
    "    \n",
    "    \n",
    "2. Crie uma pipeline específica para as seguintes variáveis, realizando um One Hot Encoder (leiam a documentação e setem o parâmetro drop conforme fizer sentido para vocês):\n",
    "    - `FLAG_OWN_CAR`\n",
    "    - `FLAG_OWN_REALTY`\n",
    "    - `NAME_INCOME_TYPE`\n",
    "    - `NAME_FAMILY_STATUS`\n",
    "    - `OCCUPATION_TYPE`  \n",
    "    \n",
    "\n",
    "3. Crie uma pipeline específica para todas as outras variáveis que não são do tipo object. Adicione na pipeline a imputação de missing com a mediana. Com base nos próximos passos, responda a seguinte pergunta:\n",
    "    - *É necessário realizar o standard scaler nessas variáveis?*  \n",
    "    \n",
    "    \n",
    "4. Crie uma outra pipeline, que unirá todas as pipelines anteriores. Além de unir os steps passados, essa pipeline deve aplicar uma seleção de features baseada em um modelo de regressão logística. Resposta a seguinte pergunta:\n",
    "    - *Qual penalidade deve ser usada? Por que?*  \n",
    "    \n",
    "    \n",
    "5. Após a etapa de seleção de features da pipeline do passo anterior, adicione um modelo de árvore de decisão com `max_depth = 5` e treine o modelo, avaliando as métricas.  \n",
    "\n",
    "\n",
    "6. Faça uma busca em grid nos hiperparâmetros `min_samples_leaf` e `max_depth`, retreine o modelo e avalie as métricas. Responda a seguinte pergunta:\n",
    "    - *Houve ganho em performance? Se sim, de quanto?*  \n",
    "    \n",
    "    \n",
    "7. Substitua o modelo de árvore de decisão por um modelo XGBoost, AdaBoost ou LightGBM, realizando também uma busca nos hiperparâmetros (lembre-se de alterar o grid de hiperparâmetros a ser testado). Avalie:\n",
    "   - *Como ficou a performance do modelo usando o novo algoritmo?*\n",
    "   \n",
    "\n",
    "## Exercício 02\n",
    "---\n",
    "\n",
    "A partir do Exercício 01, realize o seguinte:\n",
    "    \n",
    "Substitua o modelo de árvore de decisão por um modelo XGBoost, AdaBoost ou LightGBM, realizando também uma busca nos hiperparâmetros (lembre-se de alterar o grid de hiperparâmetros a ser testado). Avalie:\n",
    "\n",
    "- *Como ficou a performance do modelo usando o novo algoritmo?*\n",
    "- *De acordo com a SHAP, quais são as 10 features mais importantes? Qual a interpretação dessas features?*"
   ]
  },
  {
   "cell_type": "code",
   "execution_count": 1,
   "id": "0e1ef945",
   "metadata": {},
   "outputs": [],
   "source": [
    "# importando bibliotecas\n",
    "import numpy as np\n",
    "import pandas as pd\n",
    "\n",
    "\n",
    "from sklearn.pipeline import Pipeline\n",
    "from sklearn.impute import SimpleImputer\n",
    "from sklearn.compose import ColumnTransformer\n",
    "from sklearn.feature_selection import SelectFromModel\n",
    "from sklearn.linear_model import LogisticRegressionCV\n",
    "from sklearn.preprocessing import OrdinalEncoder, OneHotEncoder, StandardScaler\n",
    "\n",
    "from xgboost import XGBClassifier\n",
    "from sklearn.metrics import roc_auc_score\n",
    "from sklearn.model_selection import GridSearchCV\n",
    "from sklearn.model_selection import train_test_split\n",
    "from sklearn.tree import DecisionTreeClassifier\n",
    "\n",
    "import warnings\n",
    "warnings.filterwarnings(\"ignore\")"
   ]
  },
  {
   "cell_type": "code",
   "execution_count": 2,
   "id": "65d1ab40",
   "metadata": {},
   "outputs": [],
   "source": [
    "# importando dados\n",
    "df = pd.read_csv('dados/application_train.csv')"
   ]
  },
  {
   "cell_type": "code",
   "execution_count": 3,
   "id": "bbb0f22c",
   "metadata": {},
   "outputs": [],
   "source": [
    "df = df.sample(frac=0.1, random_state=0)"
   ]
  },
  {
   "cell_type": "code",
   "execution_count": 4,
   "id": "977591d6",
   "metadata": {},
   "outputs": [
    {
     "data": {
      "text/plain": [
       "(24601, 122)"
      ]
     },
     "execution_count": 4,
     "metadata": {},
     "output_type": "execute_result"
    }
   ],
   "source": [
    "# o dataset possui 122 variáveis e 24601 observações\n",
    "df.shape"
   ]
  },
  {
   "cell_type": "code",
   "execution_count": 5,
   "id": "bab2820c",
   "metadata": {},
   "outputs": [
    {
     "data": {
      "text/html": [
       "<div>\n",
       "<style scoped>\n",
       "    .dataframe tbody tr th:only-of-type {\n",
       "        vertical-align: middle;\n",
       "    }\n",
       "\n",
       "    .dataframe tbody tr th {\n",
       "        vertical-align: top;\n",
       "    }\n",
       "\n",
       "    .dataframe thead th {\n",
       "        text-align: right;\n",
       "    }\n",
       "</style>\n",
       "<table border=\"1\" class=\"dataframe\">\n",
       "  <thead>\n",
       "    <tr style=\"text-align: right;\">\n",
       "      <th></th>\n",
       "      <th>SK_ID_CURR</th>\n",
       "      <th>TARGET</th>\n",
       "      <th>NAME_CONTRACT_TYPE</th>\n",
       "      <th>CODE_GENDER</th>\n",
       "      <th>FLAG_OWN_CAR</th>\n",
       "      <th>FLAG_OWN_REALTY</th>\n",
       "      <th>CNT_CHILDREN</th>\n",
       "      <th>AMT_INCOME_TOTAL</th>\n",
       "      <th>AMT_CREDIT</th>\n",
       "      <th>AMT_ANNUITY</th>\n",
       "      <th>...</th>\n",
       "      <th>FLAG_DOCUMENT_18</th>\n",
       "      <th>FLAG_DOCUMENT_19</th>\n",
       "      <th>FLAG_DOCUMENT_20</th>\n",
       "      <th>FLAG_DOCUMENT_21</th>\n",
       "      <th>AMT_REQ_CREDIT_BUREAU_HOUR</th>\n",
       "      <th>AMT_REQ_CREDIT_BUREAU_DAY</th>\n",
       "      <th>AMT_REQ_CREDIT_BUREAU_WEEK</th>\n",
       "      <th>AMT_REQ_CREDIT_BUREAU_MON</th>\n",
       "      <th>AMT_REQ_CREDIT_BUREAU_QRT</th>\n",
       "      <th>AMT_REQ_CREDIT_BUREAU_YEAR</th>\n",
       "    </tr>\n",
       "  </thead>\n",
       "  <tbody>\n",
       "    <tr>\n",
       "      <th>87024</th>\n",
       "      <td>408307</td>\n",
       "      <td>0</td>\n",
       "      <td>Cash loans</td>\n",
       "      <td>M</td>\n",
       "      <td>N</td>\n",
       "      <td>N</td>\n",
       "      <td>1</td>\n",
       "      <td>202500.0</td>\n",
       "      <td>1005120.0</td>\n",
       "      <td>26644.5</td>\n",
       "      <td>...</td>\n",
       "      <td>0</td>\n",
       "      <td>0</td>\n",
       "      <td>0</td>\n",
       "      <td>0</td>\n",
       "      <td>0.0</td>\n",
       "      <td>0.0</td>\n",
       "      <td>0.0</td>\n",
       "      <td>0.0</td>\n",
       "      <td>0.0</td>\n",
       "      <td>0.0</td>\n",
       "    </tr>\n",
       "    <tr>\n",
       "      <th>114375</th>\n",
       "      <td>421201</td>\n",
       "      <td>0</td>\n",
       "      <td>Cash loans</td>\n",
       "      <td>F</td>\n",
       "      <td>N</td>\n",
       "      <td>Y</td>\n",
       "      <td>0</td>\n",
       "      <td>81000.0</td>\n",
       "      <td>450000.0</td>\n",
       "      <td>21888.0</td>\n",
       "      <td>...</td>\n",
       "      <td>0</td>\n",
       "      <td>0</td>\n",
       "      <td>0</td>\n",
       "      <td>0</td>\n",
       "      <td>0.0</td>\n",
       "      <td>0.0</td>\n",
       "      <td>0.0</td>\n",
       "      <td>3.0</td>\n",
       "      <td>2.0</td>\n",
       "      <td>2.0</td>\n",
       "    </tr>\n",
       "    <tr>\n",
       "      <th>127710</th>\n",
       "      <td>246945</td>\n",
       "      <td>0</td>\n",
       "      <td>Cash loans</td>\n",
       "      <td>F</td>\n",
       "      <td>Y</td>\n",
       "      <td>Y</td>\n",
       "      <td>0</td>\n",
       "      <td>126000.0</td>\n",
       "      <td>526500.0</td>\n",
       "      <td>27013.5</td>\n",
       "      <td>...</td>\n",
       "      <td>0</td>\n",
       "      <td>0</td>\n",
       "      <td>0</td>\n",
       "      <td>0</td>\n",
       "      <td>0.0</td>\n",
       "      <td>0.0</td>\n",
       "      <td>0.0</td>\n",
       "      <td>0.0</td>\n",
       "      <td>0.0</td>\n",
       "      <td>7.0</td>\n",
       "    </tr>\n",
       "    <tr>\n",
       "      <th>29076</th>\n",
       "      <td>425878</td>\n",
       "      <td>0</td>\n",
       "      <td>Cash loans</td>\n",
       "      <td>F</td>\n",
       "      <td>Y</td>\n",
       "      <td>Y</td>\n",
       "      <td>0</td>\n",
       "      <td>135000.0</td>\n",
       "      <td>454500.0</td>\n",
       "      <td>20020.5</td>\n",
       "      <td>...</td>\n",
       "      <td>0</td>\n",
       "      <td>0</td>\n",
       "      <td>0</td>\n",
       "      <td>0</td>\n",
       "      <td>0.0</td>\n",
       "      <td>0.0</td>\n",
       "      <td>0.0</td>\n",
       "      <td>0.0</td>\n",
       "      <td>1.0</td>\n",
       "      <td>3.0</td>\n",
       "    </tr>\n",
       "    <tr>\n",
       "      <th>199520</th>\n",
       "      <td>171779</td>\n",
       "      <td>0</td>\n",
       "      <td>Cash loans</td>\n",
       "      <td>M</td>\n",
       "      <td>Y</td>\n",
       "      <td>N</td>\n",
       "      <td>0</td>\n",
       "      <td>238500.0</td>\n",
       "      <td>755190.0</td>\n",
       "      <td>36328.5</td>\n",
       "      <td>...</td>\n",
       "      <td>0</td>\n",
       "      <td>0</td>\n",
       "      <td>0</td>\n",
       "      <td>0</td>\n",
       "      <td>0.0</td>\n",
       "      <td>0.0</td>\n",
       "      <td>0.0</td>\n",
       "      <td>0.0</td>\n",
       "      <td>0.0</td>\n",
       "      <td>2.0</td>\n",
       "    </tr>\n",
       "  </tbody>\n",
       "</table>\n",
       "<p>5 rows × 122 columns</p>\n",
       "</div>"
      ],
      "text/plain": [
       "        SK_ID_CURR  TARGET NAME_CONTRACT_TYPE CODE_GENDER FLAG_OWN_CAR  \\\n",
       "87024       408307       0         Cash loans           M            N   \n",
       "114375      421201       0         Cash loans           F            N   \n",
       "127710      246945       0         Cash loans           F            Y   \n",
       "29076       425878       0         Cash loans           F            Y   \n",
       "199520      171779       0         Cash loans           M            Y   \n",
       "\n",
       "       FLAG_OWN_REALTY  CNT_CHILDREN  AMT_INCOME_TOTAL  AMT_CREDIT  \\\n",
       "87024                N             1          202500.0   1005120.0   \n",
       "114375               Y             0           81000.0    450000.0   \n",
       "127710               Y             0          126000.0    526500.0   \n",
       "29076                Y             0          135000.0    454500.0   \n",
       "199520               N             0          238500.0    755190.0   \n",
       "\n",
       "        AMT_ANNUITY  ...  FLAG_DOCUMENT_18 FLAG_DOCUMENT_19 FLAG_DOCUMENT_20  \\\n",
       "87024       26644.5  ...                 0                0                0   \n",
       "114375      21888.0  ...                 0                0                0   \n",
       "127710      27013.5  ...                 0                0                0   \n",
       "29076       20020.5  ...                 0                0                0   \n",
       "199520      36328.5  ...                 0                0                0   \n",
       "\n",
       "       FLAG_DOCUMENT_21 AMT_REQ_CREDIT_BUREAU_HOUR AMT_REQ_CREDIT_BUREAU_DAY  \\\n",
       "87024                 0                        0.0                       0.0   \n",
       "114375                0                        0.0                       0.0   \n",
       "127710                0                        0.0                       0.0   \n",
       "29076                 0                        0.0                       0.0   \n",
       "199520                0                        0.0                       0.0   \n",
       "\n",
       "        AMT_REQ_CREDIT_BUREAU_WEEK  AMT_REQ_CREDIT_BUREAU_MON  \\\n",
       "87024                          0.0                        0.0   \n",
       "114375                         0.0                        3.0   \n",
       "127710                         0.0                        0.0   \n",
       "29076                          0.0                        0.0   \n",
       "199520                         0.0                        0.0   \n",
       "\n",
       "        AMT_REQ_CREDIT_BUREAU_QRT  AMT_REQ_CREDIT_BUREAU_YEAR  \n",
       "87024                         0.0                         0.0  \n",
       "114375                        2.0                         2.0  \n",
       "127710                        0.0                         7.0  \n",
       "29076                         1.0                         3.0  \n",
       "199520                        0.0                         2.0  \n",
       "\n",
       "[5 rows x 122 columns]"
      ]
     },
     "execution_count": 5,
     "metadata": {},
     "output_type": "execute_result"
    }
   ],
   "source": [
    "# cinco primeiras observações do dataframe\n",
    "df.head()"
   ]
  },
  {
   "cell_type": "code",
   "execution_count": 6,
   "id": "debc71ab",
   "metadata": {},
   "outputs": [
    {
     "data": {
      "text/html": [
       "<div>\n",
       "<style scoped>\n",
       "    .dataframe tbody tr th:only-of-type {\n",
       "        vertical-align: middle;\n",
       "    }\n",
       "\n",
       "    .dataframe tbody tr th {\n",
       "        vertical-align: top;\n",
       "    }\n",
       "\n",
       "    .dataframe thead th {\n",
       "        text-align: right;\n",
       "    }\n",
       "</style>\n",
       "<table border=\"1\" class=\"dataframe\">\n",
       "  <thead>\n",
       "    <tr style=\"text-align: right;\">\n",
       "      <th></th>\n",
       "      <th>SK_ID_CURR</th>\n",
       "      <th>TARGET</th>\n",
       "      <th>NAME_CONTRACT_TYPE</th>\n",
       "      <th>CODE_GENDER</th>\n",
       "      <th>FLAG_OWN_CAR</th>\n",
       "      <th>FLAG_OWN_REALTY</th>\n",
       "      <th>CNT_CHILDREN</th>\n",
       "      <th>AMT_INCOME_TOTAL</th>\n",
       "      <th>AMT_CREDIT</th>\n",
       "      <th>AMT_ANNUITY</th>\n",
       "      <th>...</th>\n",
       "      <th>FLAG_DOCUMENT_18</th>\n",
       "      <th>FLAG_DOCUMENT_19</th>\n",
       "      <th>FLAG_DOCUMENT_20</th>\n",
       "      <th>FLAG_DOCUMENT_21</th>\n",
       "      <th>AMT_REQ_CREDIT_BUREAU_HOUR</th>\n",
       "      <th>AMT_REQ_CREDIT_BUREAU_DAY</th>\n",
       "      <th>AMT_REQ_CREDIT_BUREAU_WEEK</th>\n",
       "      <th>AMT_REQ_CREDIT_BUREAU_MON</th>\n",
       "      <th>AMT_REQ_CREDIT_BUREAU_QRT</th>\n",
       "      <th>AMT_REQ_CREDIT_BUREAU_YEAR</th>\n",
       "    </tr>\n",
       "  </thead>\n",
       "  <tbody>\n",
       "    <tr>\n",
       "      <th>151926</th>\n",
       "      <td>141275</td>\n",
       "      <td>0</td>\n",
       "      <td>Cash loans</td>\n",
       "      <td>F</td>\n",
       "      <td>Y</td>\n",
       "      <td>Y</td>\n",
       "      <td>0</td>\n",
       "      <td>166500.0</td>\n",
       "      <td>2085120.0</td>\n",
       "      <td>72607.5</td>\n",
       "      <td>...</td>\n",
       "      <td>0</td>\n",
       "      <td>0</td>\n",
       "      <td>0</td>\n",
       "      <td>0</td>\n",
       "      <td>0.0</td>\n",
       "      <td>0.0</td>\n",
       "      <td>0.0</td>\n",
       "      <td>0.0</td>\n",
       "      <td>1.0</td>\n",
       "      <td>1.0</td>\n",
       "    </tr>\n",
       "    <tr>\n",
       "      <th>219703</th>\n",
       "      <td>235367</td>\n",
       "      <td>0</td>\n",
       "      <td>Cash loans</td>\n",
       "      <td>M</td>\n",
       "      <td>N</td>\n",
       "      <td>Y</td>\n",
       "      <td>0</td>\n",
       "      <td>157500.0</td>\n",
       "      <td>729792.0</td>\n",
       "      <td>39591.0</td>\n",
       "      <td>...</td>\n",
       "      <td>0</td>\n",
       "      <td>0</td>\n",
       "      <td>0</td>\n",
       "      <td>0</td>\n",
       "      <td>0.0</td>\n",
       "      <td>0.0</td>\n",
       "      <td>0.0</td>\n",
       "      <td>1.0</td>\n",
       "      <td>0.0</td>\n",
       "      <td>0.0</td>\n",
       "    </tr>\n",
       "    <tr>\n",
       "      <th>244560</th>\n",
       "      <td>186413</td>\n",
       "      <td>1</td>\n",
       "      <td>Cash loans</td>\n",
       "      <td>M</td>\n",
       "      <td>N</td>\n",
       "      <td>Y</td>\n",
       "      <td>0</td>\n",
       "      <td>202500.0</td>\n",
       "      <td>1024740.0</td>\n",
       "      <td>55719.0</td>\n",
       "      <td>...</td>\n",
       "      <td>0</td>\n",
       "      <td>0</td>\n",
       "      <td>0</td>\n",
       "      <td>0</td>\n",
       "      <td>0.0</td>\n",
       "      <td>0.0</td>\n",
       "      <td>0.0</td>\n",
       "      <td>1.0</td>\n",
       "      <td>0.0</td>\n",
       "      <td>0.0</td>\n",
       "    </tr>\n",
       "    <tr>\n",
       "      <th>31946</th>\n",
       "      <td>448067</td>\n",
       "      <td>0</td>\n",
       "      <td>Cash loans</td>\n",
       "      <td>F</td>\n",
       "      <td>N</td>\n",
       "      <td>N</td>\n",
       "      <td>2</td>\n",
       "      <td>157500.0</td>\n",
       "      <td>239850.0</td>\n",
       "      <td>25830.0</td>\n",
       "      <td>...</td>\n",
       "      <td>0</td>\n",
       "      <td>0</td>\n",
       "      <td>0</td>\n",
       "      <td>0</td>\n",
       "      <td>0.0</td>\n",
       "      <td>0.0</td>\n",
       "      <td>0.0</td>\n",
       "      <td>0.0</td>\n",
       "      <td>0.0</td>\n",
       "      <td>0.0</td>\n",
       "    </tr>\n",
       "    <tr>\n",
       "      <th>21950</th>\n",
       "      <td>240206</td>\n",
       "      <td>0</td>\n",
       "      <td>Cash loans</td>\n",
       "      <td>F</td>\n",
       "      <td>N</td>\n",
       "      <td>N</td>\n",
       "      <td>0</td>\n",
       "      <td>112500.0</td>\n",
       "      <td>382500.0</td>\n",
       "      <td>18400.5</td>\n",
       "      <td>...</td>\n",
       "      <td>0</td>\n",
       "      <td>0</td>\n",
       "      <td>0</td>\n",
       "      <td>0</td>\n",
       "      <td>0.0</td>\n",
       "      <td>0.0</td>\n",
       "      <td>0.0</td>\n",
       "      <td>0.0</td>\n",
       "      <td>0.0</td>\n",
       "      <td>0.0</td>\n",
       "    </tr>\n",
       "  </tbody>\n",
       "</table>\n",
       "<p>5 rows × 122 columns</p>\n",
       "</div>"
      ],
      "text/plain": [
       "        SK_ID_CURR  TARGET NAME_CONTRACT_TYPE CODE_GENDER FLAG_OWN_CAR  \\\n",
       "151926      141275       0         Cash loans           F            Y   \n",
       "219703      235367       0         Cash loans           M            N   \n",
       "244560      186413       1         Cash loans           M            N   \n",
       "31946       448067       0         Cash loans           F            N   \n",
       "21950       240206       0         Cash loans           F            N   \n",
       "\n",
       "       FLAG_OWN_REALTY  CNT_CHILDREN  AMT_INCOME_TOTAL  AMT_CREDIT  \\\n",
       "151926               Y             0          166500.0   2085120.0   \n",
       "219703               Y             0          157500.0    729792.0   \n",
       "244560               Y             0          202500.0   1024740.0   \n",
       "31946                N             2          157500.0    239850.0   \n",
       "21950                N             0          112500.0    382500.0   \n",
       "\n",
       "        AMT_ANNUITY  ...  FLAG_DOCUMENT_18 FLAG_DOCUMENT_19 FLAG_DOCUMENT_20  \\\n",
       "151926      72607.5  ...                 0                0                0   \n",
       "219703      39591.0  ...                 0                0                0   \n",
       "244560      55719.0  ...                 0                0                0   \n",
       "31946       25830.0  ...                 0                0                0   \n",
       "21950       18400.5  ...                 0                0                0   \n",
       "\n",
       "       FLAG_DOCUMENT_21 AMT_REQ_CREDIT_BUREAU_HOUR AMT_REQ_CREDIT_BUREAU_DAY  \\\n",
       "151926                0                        0.0                       0.0   \n",
       "219703                0                        0.0                       0.0   \n",
       "244560                0                        0.0                       0.0   \n",
       "31946                 0                        0.0                       0.0   \n",
       "21950                 0                        0.0                       0.0   \n",
       "\n",
       "        AMT_REQ_CREDIT_BUREAU_WEEK  AMT_REQ_CREDIT_BUREAU_MON  \\\n",
       "151926                         0.0                        0.0   \n",
       "219703                         0.0                        1.0   \n",
       "244560                         0.0                        1.0   \n",
       "31946                          0.0                        0.0   \n",
       "21950                          0.0                        0.0   \n",
       "\n",
       "        AMT_REQ_CREDIT_BUREAU_QRT  AMT_REQ_CREDIT_BUREAU_YEAR  \n",
       "151926                        1.0                         1.0  \n",
       "219703                        0.0                         0.0  \n",
       "244560                        0.0                         0.0  \n",
       "31946                         0.0                         0.0  \n",
       "21950                         0.0                         0.0  \n",
       "\n",
       "[5 rows x 122 columns]"
      ]
     },
     "execution_count": 6,
     "metadata": {},
     "output_type": "execute_result"
    }
   ],
   "source": [
    "# cinco últimas observações do dataframe\n",
    "df.tail()"
   ]
  },
  {
   "cell_type": "code",
   "execution_count": 7,
   "id": "f1342539",
   "metadata": {},
   "outputs": [],
   "source": [
    "# separando dados\n",
    "X = df.drop(['TARGET','SK_ID_CURR'], axis=1)\n",
    "y = df['TARGET']\n",
    "\n",
    "X_train, X_test, y_train, y_test = train_test_split(X, y, test_size = 0.3, random_state = 42)"
   ]
  },
  {
   "cell_type": "markdown",
   "id": "03545b6a",
   "metadata": {},
   "source": [
    "1. Crie uma pipeline específica para as seguintes variáveis e realize os tratamentos necessários para transformar essa informação em número ordenado:\n",
    "    - `NAME_EDUCATION_TYPE`"
   ]
  },
  {
   "cell_type": "code",
   "execution_count": 8,
   "id": "aa7e259a",
   "metadata": {},
   "outputs": [],
   "source": [
    "# criando pipeline com ordinal encoder\n",
    "lista_ordenada = ['Lower secondary','Secondary / secondary special','Incomplete higher','Higher education','Academic degree']\n",
    "var_edu = ['NAME_EDUCATION_TYPE']\n",
    "\n",
    "pipe_edu = Pipeline(steps = [\n",
    "    ('input', SimpleImputer(missing_values='', strategy='most_frequent')),\n",
    "    ('trata_edu', OrdinalEncoder(categories = [lista_ordenada]))\n",
    "])"
   ]
  },
  {
   "cell_type": "markdown",
   "id": "3460896b",
   "metadata": {},
   "source": [
    "2. Crie uma pipeline específica para as seguintes variáveis, realizando um One Hot Encoder (leiam a documentação e setem o parâmetro drop conforme fizer sentido para vocês):\n",
    "    - `FLAG_OWN_CAR`\n",
    "    - `FLAG_OWN_REALTY`\n",
    "    - `NAME_INCOME_TYPE`\n",
    "    - `NAME_FAMILY_STATUS`\n",
    "    - `OCCUPATION_TYPE`"
   ]
  },
  {
   "cell_type": "code",
   "execution_count": 9,
   "id": "799157f3",
   "metadata": {},
   "outputs": [],
   "source": [
    "# criando pipeline aplicando one hot encoding \n",
    "var_cat = ['FLAG_OWN_CAR','FLAG_OWN_REALTY','NAME_INCOME_TYPE','NAME_FAMILY_STATUS','OCCUPATION_TYPE']\n",
    "\n",
    "pipe_cat = Pipeline(steps = [\n",
    "    ('trata_cat', OneHotEncoder(sparse = False, drop = 'if_binary', handle_unknown='ignore'))\n",
    "])"
   ]
  },
  {
   "cell_type": "markdown",
   "id": "a35ac207",
   "metadata": {},
   "source": [
    "3. Crie uma pipeline específica para todas as outras variáveis que não são do tipo object. Adicione na pipeline a imputação de missing com a mediana. Com base nos próximos passos, responda a seguinte pergunta:\n",
    "    - *É necessário realizar o standard scaler nessas variáveis?* \n",
    "    \n",
    "> R.: Sim, já que a normalização irá influenciar nos resultados, como a acurácia. Portanto, tal técnica de preparação dos dados se faz necessária a esse caso, em que será realizada a transformação das colunas numéricas para uma escala padrão, sem distorcer as faixas de valores."
   ]
  },
  {
   "cell_type": "code",
   "execution_count": 10,
   "id": "21906e9f",
   "metadata": {},
   "outputs": [],
   "source": [
    "# selecionando variáveis numéricas\n",
    "var_num = df.select_dtypes(exclude = ['object']).drop(['TARGET', 'SK_ID_CURR'], axis = 1).columns.tolist()\n",
    "\n",
    "# criando pipeline\n",
    "pipe_num = Pipeline(steps = [\n",
    "    ('trata_num', SimpleImputer(missing_values = np.nan, strategy = 'median')),\n",
    "    ('scaling', StandardScaler())\n",
    "])"
   ]
  },
  {
   "cell_type": "markdown",
   "id": "056beaba",
   "metadata": {},
   "source": [
    "4. Crie uma outra pipeline, que unirá todas as pipelines anteriores. Além de unir os steps passados, essa pipeline deve aplicar uma seleção de features baseada em um modelo de regressão logística. Resposta a seguinte pergunta:\n",
    "    - *Qual penalidade deve ser usada? Por que?* \n",
    "    \n",
    "> R.: L1, porque também será possível selecionar variáveis relevantes ao modelo, aplicando uma penalização equivalente ao valor absoluto da magnitude dos coeficientes, ou seja, aplicar uma restrição aos coeficientes menos importantes. Devido a grande quantidade features, que podem causar ao modelo underfitting ou overfitting, além de uma baixa previsão, a regularização será uma técnica necessária para melhor a performance. "
   ]
  },
  {
   "cell_type": "code",
   "execution_count": 11,
   "id": "f809d015",
   "metadata": {
    "scrolled": true
   },
   "outputs": [],
   "source": [
    "# unindo pipelines\n",
    "pipe_preproc = ColumnTransformer(transformers = [\n",
    "    ('pipe_edu', pipe_edu, var_edu),\n",
    "    ('pipe_cat', pipe_cat, var_cat),\n",
    "    ('pipe_num', pipe_num, var_num),\n",
    "])\n",
    "\n",
    "# definindo o modelo de regressão logística\n",
    "modelo_logreg = LogisticRegressionCV(\n",
    "    penalty = 'l1', \n",
    "    solver = 'liblinear', \n",
    "    Cs = np.arange(0.01, 0.1, 0.01), \n",
    "    scoring = 'roc_auc', \n",
    "    random_state = 42\n",
    ")\n",
    "\n",
    "# pipeline para seleção de features\n",
    "pipe_features = Pipeline(steps = [\n",
    "    ('pipe_features', SelectFromModel(estimator = modelo_logreg, max_features=10, threshold=0.1))\n",
    "])"
   ]
  },
  {
   "cell_type": "markdown",
   "id": "0a710f9b",
   "metadata": {},
   "source": [
    "5. Após a etapa de seleção de features da pipeline do passo anterior, adicione um modelo de árvore de decisão com `max_depth = 5` e treine o modelo, avaliando as métricas."
   ]
  },
  {
   "cell_type": "code",
   "execution_count": 12,
   "id": "59e440d8",
   "metadata": {},
   "outputs": [],
   "source": [
    "# definindo o modelo de árvore de decisão\n",
    "modelo_dt = DecisionTreeClassifier(max_depth = 5, random_state = 42)\n",
    "\n",
    "# criando a pipeline final\n",
    "pipe_final = Pipeline(steps = [\n",
    "    ('preproc', pipe_preproc),\n",
    "    ('pipe_features', pipe_features),\n",
    "    ('modelo', modelo_dt)\n",
    "])"
   ]
  },
  {
   "cell_type": "code",
   "execution_count": 13,
   "id": "0d6f4919",
   "metadata": {
    "scrolled": true
   },
   "outputs": [
    {
     "data": {
      "text/plain": [
       "Pipeline(steps=[('preproc',\n",
       "                 ColumnTransformer(transformers=[('pipe_edu',\n",
       "                                                  Pipeline(steps=[('input',\n",
       "                                                                   SimpleImputer(missing_values='',\n",
       "                                                                                 strategy='most_frequent')),\n",
       "                                                                  ('trata_edu',\n",
       "                                                                   OrdinalEncoder(categories=[['Lower '\n",
       "                                                                                               'secondary',\n",
       "                                                                                               'Secondary '\n",
       "                                                                                               '/ '\n",
       "                                                                                               'secondary '\n",
       "                                                                                               'special',\n",
       "                                                                                               'Incomplete '\n",
       "                                                                                               'higher',\n",
       "                                                                                               'Higher '\n",
       "                                                                                               'education',\n",
       "                                                                                               'Academic '\n",
       "                                                                                               'degree']]))]),\n",
       "                                                  ['NAME_EDUCATION_TYPE']),\n",
       "                                                 ('pipe_ca...\n",
       "                                                   'EXT_SOURCE_2',\n",
       "                                                   'EXT_SOURCE_3', ...])])),\n",
       "                ('pipe_features',\n",
       "                 Pipeline(steps=[('pipe_features',\n",
       "                                  SelectFromModel(estimator=LogisticRegressionCV(Cs=array([0.01, 0.02, 0.03, 0.04, 0.05, 0.06, 0.07, 0.08, 0.09]),\n",
       "                                                                                 penalty='l1',\n",
       "                                                                                 random_state=42,\n",
       "                                                                                 scoring='roc_auc',\n",
       "                                                                                 solver='liblinear'),\n",
       "                                                  max_features=10,\n",
       "                                                  threshold=0.1))])),\n",
       "                ('modelo',\n",
       "                 DecisionTreeClassifier(max_depth=5, random_state=42))])"
      ]
     },
     "execution_count": 13,
     "metadata": {},
     "output_type": "execute_result"
    }
   ],
   "source": [
    "pipe_final.fit(X_train, y_train)"
   ]
  },
  {
   "cell_type": "code",
   "execution_count": 14,
   "id": "b88e81c1",
   "metadata": {},
   "outputs": [
    {
     "name": "stdout",
     "output_type": "stream",
     "text": [
      "ROC-AUC treino: 0.7274109979240451\n",
      "ROC-AUC teste: 0.6980245815282788\n"
     ]
    }
   ],
   "source": [
    "print('ROC-AUC treino:', roc_auc_score(y_train, (pipe_final.predict_proba(X_train)[:,1])))\n",
    "print('ROC-AUC teste:', roc_auc_score(y_test, (pipe_final.predict_proba(X_test)[:,1])))"
   ]
  },
  {
   "cell_type": "markdown",
   "id": "3d91f535",
   "metadata": {},
   "source": [
    "6. Faça uma busca em grid nos hiperparâmetros `min_samples_leaf` e `max_depth`, retreine o modelo e avalie as métricas. Responda a seguinte pergunta:\n",
    "    - *Houve ganho em performance? Se sim, de quanto?* \n",
    "    \n",
    "    R.: Houve ganho na ROC-AUC de treino em 26% e um diminuição de 15% da ROC-AUC de teste, no entanto, a variação percentual entre as duas nos dois casos foi de 4% para mais de 38%, o que pode indicar um overfiting do modelo. "
   ]
  },
  {
   "cell_type": "code",
   "execution_count": 15,
   "id": "9ff06f62",
   "metadata": {},
   "outputs": [],
   "source": [
    "parametros = {\n",
    "    'modelo__max_depth': [20, 50, 100],\n",
    "    'modelo__min_samples_leaf': [2, 3, 5]\n",
    "}\n",
    "\n",
    "gscv = GridSearchCV(\n",
    "    estimator = pipe_final,\n",
    "    param_grid = parametros,\n",
    "    scoring = 'roc_auc',\n",
    "    refit = True,\n",
    "    cv = 3\n",
    ")"
   ]
  },
  {
   "cell_type": "code",
   "execution_count": 16,
   "id": "0a443612",
   "metadata": {
    "scrolled": true
   },
   "outputs": [
    {
     "data": {
      "text/plain": [
       "GridSearchCV(cv=3,\n",
       "             estimator=Pipeline(steps=[('preproc',\n",
       "                                        ColumnTransformer(transformers=[('pipe_edu',\n",
       "                                                                         Pipeline(steps=[('input',\n",
       "                                                                                          SimpleImputer(missing_values='',\n",
       "                                                                                                        strategy='most_frequent')),\n",
       "                                                                                         ('trata_edu',\n",
       "                                                                                          OrdinalEncoder(categories=[['Lower '\n",
       "                                                                                                                      'secondary',\n",
       "                                                                                                                      'Secondary '\n",
       "                                                                                                                      '/ '\n",
       "                                                                                                                      'secondary '\n",
       "                                                                                                                      'special',\n",
       "                                                                                                                      'Incomplete '\n",
       "                                                                                                                      'higher',\n",
       "                                                                                                                      'Higher '\n",
       "                                                                                                                      'education',\n",
       "                                                                                                                      'Academic '\n",
       "                                                                                                                      'degree']]))]),\n",
       "                                                                         ['NAME...\n",
       "                                                         SelectFromModel(estimator=LogisticRegressionCV(Cs=array([0.01, 0.02, 0.03, 0.04, 0.05, 0.06, 0.07, 0.08, 0.09]),\n",
       "                                                                                                        penalty='l1',\n",
       "                                                                                                        random_state=42,\n",
       "                                                                                                        scoring='roc_auc',\n",
       "                                                                                                        solver='liblinear'),\n",
       "                                                                         max_features=10,\n",
       "                                                                         threshold=0.1))])),\n",
       "                                       ('modelo',\n",
       "                                        DecisionTreeClassifier(max_depth=5,\n",
       "                                                               random_state=42))]),\n",
       "             param_grid={'modelo__max_depth': [20, 50, 100],\n",
       "                         'modelo__min_samples_leaf': [2, 3, 5]},\n",
       "             scoring='roc_auc')"
      ]
     },
     "execution_count": 16,
     "metadata": {},
     "output_type": "execute_result"
    }
   ],
   "source": [
    "gscv.fit(X_train, y_train)"
   ]
  },
  {
   "cell_type": "code",
   "execution_count": 17,
   "id": "9e5bfe09",
   "metadata": {},
   "outputs": [
    {
     "name": "stdout",
     "output_type": "stream",
     "text": [
      "ROC-AUC treino: 0.955439860688176\n",
      "ROC-AUC teste: 0.5877459608615719\n"
     ]
    }
   ],
   "source": [
    "print('ROC-AUC treino:', roc_auc_score(y_train, (gscv.predict_proba(X_train)[:,1])))\n",
    "print('ROC-AUC teste:', roc_auc_score(y_test, (gscv.predict_proba(X_test )[:,1])))"
   ]
  },
  {
   "cell_type": "code",
   "execution_count": 18,
   "id": "4e80eedf",
   "metadata": {},
   "outputs": [
    {
     "data": {
      "text/plain": [
       "{'modelo__max_depth': 20, 'modelo__min_samples_leaf': 5}"
      ]
     },
     "execution_count": 18,
     "metadata": {},
     "output_type": "execute_result"
    }
   ],
   "source": [
    "# melhores valores max_depht e min_samples_leaf\n",
    "gscv.best_params_"
   ]
  },
  {
   "cell_type": "code",
   "execution_count": 19,
   "id": "75a61593",
   "metadata": {
    "scrolled": true
   },
   "outputs": [
    {
     "data": {
      "text/plain": [
       "Pipeline(steps=[('preproc',\n",
       "                 ColumnTransformer(transformers=[('pipe_edu',\n",
       "                                                  Pipeline(steps=[('input',\n",
       "                                                                   SimpleImputer(missing_values='',\n",
       "                                                                                 strategy='most_frequent')),\n",
       "                                                                  ('trata_edu',\n",
       "                                                                   OrdinalEncoder(categories=[['Lower '\n",
       "                                                                                               'secondary',\n",
       "                                                                                               'Secondary '\n",
       "                                                                                               '/ '\n",
       "                                                                                               'secondary '\n",
       "                                                                                               'special',\n",
       "                                                                                               'Incomplete '\n",
       "                                                                                               'higher',\n",
       "                                                                                               'Higher '\n",
       "                                                                                               'education',\n",
       "                                                                                               'Academic '\n",
       "                                                                                               'degree']]))]),\n",
       "                                                  ['NAME_EDUCATION_TYPE']),\n",
       "                                                 ('pipe_ca...\n",
       "                                                   'EXT_SOURCE_3', ...])])),\n",
       "                ('pipe_features',\n",
       "                 Pipeline(steps=[('pipe_features',\n",
       "                                  SelectFromModel(estimator=LogisticRegressionCV(Cs=array([0.01, 0.02, 0.03, 0.04, 0.05, 0.06, 0.07, 0.08, 0.09]),\n",
       "                                                                                 penalty='l1',\n",
       "                                                                                 random_state=42,\n",
       "                                                                                 scoring='roc_auc',\n",
       "                                                                                 solver='liblinear'),\n",
       "                                                  max_features=10,\n",
       "                                                  threshold=0.1))])),\n",
       "                ('modelo',\n",
       "                 DecisionTreeClassifier(max_depth=20, min_samples_leaf=5,\n",
       "                                        random_state=42))])"
      ]
     },
     "execution_count": 19,
     "metadata": {},
     "output_type": "execute_result"
    }
   ],
   "source": [
    "gscv.best_estimator_"
   ]
  },
  {
   "cell_type": "markdown",
   "id": "2dc257d7",
   "metadata": {},
   "source": [
    "7. Substitua o modelo de árvore de decisão por um modelo XGBoost, AdaBoost ou LightGBM, realizando também uma busca nos hiperparâmetros (lembre-se de alterar o grid de hiperparâmetros a ser testado). Avalie:\n",
    "   - *Como ficou a performance do modelo usando o novo algoritmo?* \n",
    "   \n",
    "> R.: Com a aplicação do LightGBM houve um ganho em relação ao primeiro modelo na ROC-AUC de treino (18%) e teste (5%), bem como uma variação percentual inferior entre treino e teste em relação ao segundo modelo (de 38% para 17%), podendo-se inferir que houve uma melhora no overfiting apresentado no segundo modelo.  \n",
    "   \n",
    "- Primeiro modelo: ROC-AUC treino 0.72, ROC-AUC teste 0.69\n",
    "- Segundo modelo:  ROC-AUC treino 0.95, ROC-AUC teste 0.58\n",
    "- Terceiro modelo: ROC-AUC treino 0.88, ROC-AUC teste 0.73   "
   ]
  },
  {
   "cell_type": "code",
   "execution_count": 20,
   "id": "0edfeff8",
   "metadata": {},
   "outputs": [],
   "source": [
    "from lightgbm import LGBMClassifier\n",
    "\n",
    "# definindo o modelo \n",
    "modelo_lgbm = LGBMClassifier(n_estimators=3, random_state=42)\n",
    "\n",
    "parametros = {\n",
    "    'modelo__n_estimators': [50, 100, 150, 250, 350, 450],\n",
    "}\n",
    "\n",
    "# criando a pipeline final\n",
    "pipe_final2 = Pipeline(steps = [\n",
    "    ('preproc', pipe_preproc),\n",
    "    ('pipe_features', pipe_features),\n",
    "    ('modelo', modelo_lgbm)\n",
    "])\n",
    "\n",
    "gscv = GridSearchCV(\n",
    "    estimator = pipe_final2,\n",
    "    param_grid = parametros,\n",
    "    scoring = 'roc_auc',\n",
    "    refit = True,\n",
    "    cv = 3\n",
    ")"
   ]
  },
  {
   "cell_type": "code",
   "execution_count": 21,
   "id": "848f303a",
   "metadata": {
    "scrolled": true
   },
   "outputs": [
    {
     "data": {
      "text/plain": [
       "GridSearchCV(cv=3,\n",
       "             estimator=Pipeline(steps=[('preproc',\n",
       "                                        ColumnTransformer(transformers=[('pipe_edu',\n",
       "                                                                         Pipeline(steps=[('input',\n",
       "                                                                                          SimpleImputer(missing_values='',\n",
       "                                                                                                        strategy='most_frequent')),\n",
       "                                                                                         ('trata_edu',\n",
       "                                                                                          OrdinalEncoder(categories=[['Lower '\n",
       "                                                                                                                      'secondary',\n",
       "                                                                                                                      'Secondary '\n",
       "                                                                                                                      '/ '\n",
       "                                                                                                                      'secondary '\n",
       "                                                                                                                      'special',\n",
       "                                                                                                                      'Incomplete '\n",
       "                                                                                                                      'higher',\n",
       "                                                                                                                      'Higher '\n",
       "                                                                                                                      'education',\n",
       "                                                                                                                      'Academic '\n",
       "                                                                                                                      'degree']]))]),\n",
       "                                                                         ['NAME...\n",
       "                                        Pipeline(steps=[('pipe_features',\n",
       "                                                         SelectFromModel(estimator=LogisticRegressionCV(Cs=array([0.01, 0.02, 0.03, 0.04, 0.05, 0.06, 0.07, 0.08, 0.09]),\n",
       "                                                                                                        penalty='l1',\n",
       "                                                                                                        random_state=42,\n",
       "                                                                                                        scoring='roc_auc',\n",
       "                                                                                                        solver='liblinear'),\n",
       "                                                                         max_features=10,\n",
       "                                                                         threshold=0.1))])),\n",
       "                                       ('modelo',\n",
       "                                        LGBMClassifier(n_estimators=3,\n",
       "                                                       random_state=42))]),\n",
       "             param_grid={'modelo__n_estimators': [50, 100, 150, 250, 350, 450]},\n",
       "             scoring='roc_auc')"
      ]
     },
     "execution_count": 21,
     "metadata": {},
     "output_type": "execute_result"
    }
   ],
   "source": [
    "gscv.fit(X_train, y_train)"
   ]
  },
  {
   "cell_type": "code",
   "execution_count": 22,
   "id": "7f7d902f",
   "metadata": {},
   "outputs": [
    {
     "data": {
      "text/plain": [
       "{'modelo__n_estimators': 50}"
      ]
     },
     "execution_count": 22,
     "metadata": {},
     "output_type": "execute_result"
    }
   ],
   "source": [
    "# melhor valor de n_estimator\n",
    "gscv.best_params_"
   ]
  },
  {
   "cell_type": "code",
   "execution_count": 23,
   "id": "cfce7ff3",
   "metadata": {
    "scrolled": true
   },
   "outputs": [
    {
     "data": {
      "text/plain": [
       "Pipeline(steps=[('preproc',\n",
       "                 ColumnTransformer(transformers=[('pipe_edu',\n",
       "                                                  Pipeline(steps=[('input',\n",
       "                                                                   SimpleImputer(missing_values='',\n",
       "                                                                                 strategy='most_frequent')),\n",
       "                                                                  ('trata_edu',\n",
       "                                                                   OrdinalEncoder(categories=[['Lower '\n",
       "                                                                                               'secondary',\n",
       "                                                                                               'Secondary '\n",
       "                                                                                               '/ '\n",
       "                                                                                               'secondary '\n",
       "                                                                                               'special',\n",
       "                                                                                               'Incomplete '\n",
       "                                                                                               'higher',\n",
       "                                                                                               'Higher '\n",
       "                                                                                               'education',\n",
       "                                                                                               'Academic '\n",
       "                                                                                               'degree']]))]),\n",
       "                                                  ['NAME_EDUCATION_TYPE']),\n",
       "                                                 ('pipe_ca...\n",
       "                                                   'EXT_SOURCE_2',\n",
       "                                                   'EXT_SOURCE_3', ...])])),\n",
       "                ('pipe_features',\n",
       "                 Pipeline(steps=[('pipe_features',\n",
       "                                  SelectFromModel(estimator=LogisticRegressionCV(Cs=array([0.01, 0.02, 0.03, 0.04, 0.05, 0.06, 0.07, 0.08, 0.09]),\n",
       "                                                                                 penalty='l1',\n",
       "                                                                                 random_state=42,\n",
       "                                                                                 scoring='roc_auc',\n",
       "                                                                                 solver='liblinear'),\n",
       "                                                  max_features=10,\n",
       "                                                  threshold=0.1))])),\n",
       "                ('modelo', LGBMClassifier(n_estimators=50, random_state=42))])"
      ]
     },
     "execution_count": 23,
     "metadata": {},
     "output_type": "execute_result"
    }
   ],
   "source": [
    "gscv.best_estimator_"
   ]
  },
  {
   "cell_type": "code",
   "execution_count": 24,
   "id": "2824990a",
   "metadata": {},
   "outputs": [
    {
     "name": "stdout",
     "output_type": "stream",
     "text": [
      "ROC-AUC treino: 0.8814260607486001\n",
      "ROC-AUC teste: 0.7340585114165573\n"
     ]
    }
   ],
   "source": [
    "print('ROC-AUC treino:', roc_auc_score(y_train, (gscv.predict_proba(X_train)[:,1])))\n",
    "print('ROC-AUC teste:', roc_auc_score(y_test, (gscv.predict_proba(X_test)[:,1])))"
   ]
  },
  {
   "cell_type": "markdown",
   "id": "9f78369c",
   "metadata": {},
   "source": [
    "----\n",
    "A partir do Exercício 01, realize o seguinte:\n",
    "    \n",
    "Substitua o modelo de árvore de decisão por um modelo XGBoost, AdaBoost ou LightGBM, realizando também uma busca nos hiperparâmetros (lembre-se de alterar o grid de hiperparâmetros a ser testado). Avalie:\n",
    "\n",
    "- Como ficou a performance do modelo usando o novo algoritmo?\n",
    "> R.: O algoritmo apresentou uma performance um pouco inferior ao último modelo do exercício anterior (este modelo: ROC-AUC treino 0.81, ROC-AUC teste 0.72, terceiro modelo: ROC-AUC treino 0.88, ROC-AUC teste 0.73), uma diminuição de 8% de ROC-AUC de treino e de 1% de teste.\n",
    "\n",
    "\n",
    "- De acordo com a SHAP, quais são as 10 features mais importantes? Qual a interpretação dessas features?"
   ]
  },
  {
   "cell_type": "code",
   "execution_count": 25,
   "id": "4d712c7a",
   "metadata": {},
   "outputs": [],
   "source": [
    "var_expl = var_edu + var_cat + var_num\n",
    "var_resp = 'TARGET'\n",
    "\n",
    "df_treino, df_teste = train_test_split(df, test_size = 0.3, random_state = 42)\n",
    "\n",
    "x_treino = df_treino[var_expl]\n",
    "x_teste = df_teste[var_expl]\n",
    "\n",
    "y_treino = df_treino[var_resp]\n",
    "y_teste = df_teste[var_resp]"
   ]
  },
  {
   "cell_type": "code",
   "execution_count": 26,
   "id": "404a9ca2",
   "metadata": {},
   "outputs": [],
   "source": [
    "pipe_cat = Pipeline(steps = [\n",
    "    ('trata_cat', OneHotEncoder(sparse = False, drop = 'if_binary'))\n",
    "])\n",
    "\n",
    "pipe_num = Pipeline(steps = [\n",
    "    ('trata_num', SimpleImputer(missing_values = np.nan, strategy = 'median')),\n",
    "])\n",
    "\n",
    "pipe_preproc = ColumnTransformer(transformers = [\n",
    "    ('pipe_cat', pipe_cat, var_cat),\n",
    "    ('pipe_num', pipe_num, var_num),\n",
    "])\n",
    "\n",
    "modelo_previsao = LGBMClassifier(\n",
    "    learning_rate = 0.01,\n",
    "    random_state = 42\n",
    ")\n",
    "\n",
    "pipe_final3 = Pipeline(steps = [\n",
    "    ('preproc', pipe_preproc),\n",
    "    ('previsao', modelo_previsao)\n",
    "])"
   ]
  },
  {
   "cell_type": "code",
   "execution_count": 27,
   "id": "fd71d906",
   "metadata": {
    "scrolled": true
   },
   "outputs": [
    {
     "data": {
      "text/plain": [
       "Pipeline(steps=[('preproc',\n",
       "                 ColumnTransformer(transformers=[('pipe_cat',\n",
       "                                                  Pipeline(steps=[('trata_cat',\n",
       "                                                                   OneHotEncoder(drop='if_binary',\n",
       "                                                                                 sparse=False))]),\n",
       "                                                  ['FLAG_OWN_CAR',\n",
       "                                                   'FLAG_OWN_REALTY',\n",
       "                                                   'NAME_INCOME_TYPE',\n",
       "                                                   'NAME_FAMILY_STATUS',\n",
       "                                                   'OCCUPATION_TYPE']),\n",
       "                                                 ('pipe_num',\n",
       "                                                  Pipeline(steps=[('trata_num',\n",
       "                                                                   SimpleImputer(strategy='median'))]),\n",
       "                                                  ['CNT_CHILDREN',\n",
       "                                                   'AMT_INCOME_TOT...\n",
       "                                                   'REGION_RATING_CLIENT',\n",
       "                                                   'REGION_RATING_CLIENT_W_CITY',\n",
       "                                                   'HOUR_APPR_PROCESS_START',\n",
       "                                                   'REG_REGION_NOT_LIVE_REGION',\n",
       "                                                   'REG_REGION_NOT_WORK_REGION',\n",
       "                                                   'LIVE_REGION_NOT_WORK_REGION',\n",
       "                                                   'REG_CITY_NOT_LIVE_CITY',\n",
       "                                                   'REG_CITY_NOT_WORK_CITY',\n",
       "                                                   'LIVE_CITY_NOT_WORK_CITY',\n",
       "                                                   'EXT_SOURCE_1',\n",
       "                                                   'EXT_SOURCE_2',\n",
       "                                                   'EXT_SOURCE_3', ...])])),\n",
       "                ('previsao',\n",
       "                 LGBMClassifier(learning_rate=0.01, random_state=42))])"
      ]
     },
     "execution_count": 27,
     "metadata": {},
     "output_type": "execute_result"
    }
   ],
   "source": [
    "pipe_final3.fit(x_treino, y_treino)"
   ]
  },
  {
   "cell_type": "code",
   "execution_count": 28,
   "id": "c548ffa0",
   "metadata": {},
   "outputs": [
    {
     "name": "stdout",
     "output_type": "stream",
     "text": [
      "ROC-AUC treino: 0.8117423858598761\n",
      "ROC-AUC teste: 0.7227899794819548\n"
     ]
    }
   ],
   "source": [
    "print('ROC-AUC treino:', roc_auc_score(y_treino, (pipe_final3.predict_proba(x_treino)[:,1])))\n",
    "print('ROC-AUC teste:', roc_auc_score(y_teste, (pipe_final3.predict_proba(x_teste)[:,1])))"
   ]
  },
  {
   "cell_type": "code",
   "execution_count": 29,
   "id": "fad1698e",
   "metadata": {},
   "outputs": [],
   "source": [
    "import shap"
   ]
  },
  {
   "cell_type": "code",
   "execution_count": 30,
   "id": "40465af6",
   "metadata": {},
   "outputs": [
    {
     "data": {
      "image/png": "[encoded data removed]",
      "text/plain": [
       "<Figure size 576x684 with 2 Axes>"
      ]
     },
     "metadata": {
      "needs_background": "light"
     },
     "output_type": "display_data"
    }
   ],
   "source": [
    "x_treino_transformado = pipe_final3[:-1].transform(x_treino)\n",
    "#feature_names = pipe_final3[:-1].get_feature_names()\n",
    "\n",
    "explainer = shap.Explainer(pipe_final3[-1])\n",
    "shap_values = explainer.shap_values(x_treino_transformado)\n",
    "\n",
    "shap.summary_plot(\n",
    "    shap_values[0], \n",
    "    x_treino_transformado,\n",
    "    #feature_names = feature_names\n",
    ")"
   ]
  },
  {
   "cell_type": "code",
   "execution_count": null,
   "id": "1b4fdd8c",
   "metadata": {},
   "outputs": [],
   "source": [
    "pipe_final3.fit(x_treino, y_treino)\n",
    "\n",
    "print('ROC-AUC treino:', roc_auc_score(y_treino, (pipe_final3.predict_proba(x_treino)[:,1])))\n",
    "print('ROC-AUC teste:', roc_auc_score(y_teste, (pipe_final3.predict_proba(x_teste)[:,1])))"
   ]
  },
  {
   "cell_type": "markdown",
   "id": "355b62ef",
   "metadata": {},
   "source": [
    "---"
   ]
  }
 ],
 "metadata": {
  "kernelspec": {
   "display_name": "Python 3 (ipykernel)",
   "language": "python",
   "name": "python3"
  },
  "language_info": {
   "codemirror_mode": {
    "name": "ipython",
    "version": 3
   },
   "file_extension": ".py",
   "mimetype": "text/x-python",
   "name": "python",
   "nbconvert_exporter": "python",
   "pygments_lexer": "ipython3",
   "version": "3.9.12"
  }
 },
 "nbformat": 4,
 "nbformat_minor": 5
}
