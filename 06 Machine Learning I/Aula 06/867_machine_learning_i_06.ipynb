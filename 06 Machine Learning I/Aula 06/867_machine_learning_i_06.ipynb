{
 "cells": [
  {
   "cell_type": "markdown",
   "id": "4838cc9d",
   "metadata": {},
   "source": [
    "# Na aula anterior..."
   ]
  },
  {
   "cell_type": "markdown",
   "id": "88991c94",
   "metadata": {},
   "source": [
    "Por que precisamos podar as árvores?"
   ]
  },
  {
   "cell_type": "code",
   "execution_count": null,
   "id": "6e4609c1",
   "metadata": {},
   "outputs": [],
   "source": []
  },
  {
   "cell_type": "markdown",
   "id": "4fc3ed56",
   "metadata": {},
   "source": [
    "Precisamos nos preocupar com outliers em árvores de decisão? Por que?"
   ]
  },
  {
   "cell_type": "code",
   "execution_count": null,
   "id": "131508a9",
   "metadata": {},
   "outputs": [],
   "source": []
  },
  {
   "cell_type": "markdown",
   "id": "de4c47b1",
   "metadata": {},
   "source": [
    "# Hoje!"
   ]
  },
  {
   "cell_type": "markdown",
   "id": "39ddfcd0",
   "metadata": {},
   "source": [
    "### Usos da árvore além de modelos"
   ]
  },
  {
   "cell_type": "markdown",
   "id": "362fa709",
   "metadata": {},
   "source": [
    "**Criar categorizações:** construa uma árvore de uma feauture contínua e profundidade baixa (1 ou 2), em seguida visualize essa árvore. O que você consegue concluir?"
   ]
  },
  {
   "cell_type": "code",
   "execution_count": 50,
   "id": "b6bb6f8e",
   "metadata": {},
   "outputs": [],
   "source": [
    "import pandas as pd\n",
    "from sklearn.tree import plot_tree\n",
    "from sklearn.tree import DecisionTreeClassifier, DecisionTreeRegressor\n",
    "from sklearn.model_selection import train_test_split\n",
    "from sklearn.tree import DecisionTreeClassifier\n",
    "from sklearn.preprocessing import OrdinalEncoder\n",
    "from sklearn.metrics import roc_auc_score"
   ]
  },
  {
   "cell_type": "code",
   "execution_count": 51,
   "id": "d9b66776",
   "metadata": {},
   "outputs": [],
   "source": [
    "df = pd.read_csv('dados/titanic.csv')"
   ]
  },
  {
   "cell_type": "code",
   "execution_count": 52,
   "id": "0ceb74a6",
   "metadata": {},
   "outputs": [
    {
     "data": {
      "text/html": [
       "<div>\n",
       "<style scoped>\n",
       "    .dataframe tbody tr th:only-of-type {\n",
       "        vertical-align: middle;\n",
       "    }\n",
       "\n",
       "    .dataframe tbody tr th {\n",
       "        vertical-align: top;\n",
       "    }\n",
       "\n",
       "    .dataframe thead th {\n",
       "        text-align: right;\n",
       "    }\n",
       "</style>\n",
       "<table border=\"1\" class=\"dataframe\">\n",
       "  <thead>\n",
       "    <tr style=\"text-align: right;\">\n",
       "      <th></th>\n",
       "      <th>PassengerId</th>\n",
       "      <th>Survived</th>\n",
       "      <th>Pclass</th>\n",
       "      <th>Name</th>\n",
       "      <th>Sex</th>\n",
       "      <th>Age</th>\n",
       "      <th>SibSp</th>\n",
       "      <th>Parch</th>\n",
       "      <th>Ticket</th>\n",
       "      <th>Fare</th>\n",
       "      <th>Cabin</th>\n",
       "      <th>Embarked</th>\n",
       "    </tr>\n",
       "  </thead>\n",
       "  <tbody>\n",
       "    <tr>\n",
       "      <th>0</th>\n",
       "      <td>1</td>\n",
       "      <td>0</td>\n",
       "      <td>3</td>\n",
       "      <td>Braund, Mr. Owen Harris</td>\n",
       "      <td>male</td>\n",
       "      <td>22.0</td>\n",
       "      <td>1</td>\n",
       "      <td>0</td>\n",
       "      <td>A/5 21171</td>\n",
       "      <td>7.2500</td>\n",
       "      <td>NaN</td>\n",
       "      <td>S</td>\n",
       "    </tr>\n",
       "    <tr>\n",
       "      <th>1</th>\n",
       "      <td>2</td>\n",
       "      <td>1</td>\n",
       "      <td>1</td>\n",
       "      <td>Cumings, Mrs. John Bradley (Florence Briggs Th...</td>\n",
       "      <td>female</td>\n",
       "      <td>38.0</td>\n",
       "      <td>1</td>\n",
       "      <td>0</td>\n",
       "      <td>PC 17599</td>\n",
       "      <td>71.2833</td>\n",
       "      <td>C85</td>\n",
       "      <td>C</td>\n",
       "    </tr>\n",
       "    <tr>\n",
       "      <th>2</th>\n",
       "      <td>3</td>\n",
       "      <td>1</td>\n",
       "      <td>3</td>\n",
       "      <td>Heikkinen, Miss. Laina</td>\n",
       "      <td>female</td>\n",
       "      <td>26.0</td>\n",
       "      <td>0</td>\n",
       "      <td>0</td>\n",
       "      <td>STON/O2. 3101282</td>\n",
       "      <td>7.9250</td>\n",
       "      <td>NaN</td>\n",
       "      <td>S</td>\n",
       "    </tr>\n",
       "    <tr>\n",
       "      <th>3</th>\n",
       "      <td>4</td>\n",
       "      <td>1</td>\n",
       "      <td>1</td>\n",
       "      <td>Futrelle, Mrs. Jacques Heath (Lily May Peel)</td>\n",
       "      <td>female</td>\n",
       "      <td>35.0</td>\n",
       "      <td>1</td>\n",
       "      <td>0</td>\n",
       "      <td>113803</td>\n",
       "      <td>53.1000</td>\n",
       "      <td>C123</td>\n",
       "      <td>S</td>\n",
       "    </tr>\n",
       "    <tr>\n",
       "      <th>4</th>\n",
       "      <td>5</td>\n",
       "      <td>0</td>\n",
       "      <td>3</td>\n",
       "      <td>Allen, Mr. William Henry</td>\n",
       "      <td>male</td>\n",
       "      <td>35.0</td>\n",
       "      <td>0</td>\n",
       "      <td>0</td>\n",
       "      <td>373450</td>\n",
       "      <td>8.0500</td>\n",
       "      <td>NaN</td>\n",
       "      <td>S</td>\n",
       "    </tr>\n",
       "  </tbody>\n",
       "</table>\n",
       "</div>"
      ],
      "text/plain": [
       "   PassengerId  Survived  Pclass  \\\n",
       "0            1         0       3   \n",
       "1            2         1       1   \n",
       "2            3         1       3   \n",
       "3            4         1       1   \n",
       "4            5         0       3   \n",
       "\n",
       "                                                Name     Sex   Age  SibSp  \\\n",
       "0                            Braund, Mr. Owen Harris    male  22.0      1   \n",
       "1  Cumings, Mrs. John Bradley (Florence Briggs Th...  female  38.0      1   \n",
       "2                             Heikkinen, Miss. Laina  female  26.0      0   \n",
       "3       Futrelle, Mrs. Jacques Heath (Lily May Peel)  female  35.0      1   \n",
       "4                           Allen, Mr. William Henry    male  35.0      0   \n",
       "\n",
       "   Parch            Ticket     Fare Cabin Embarked  \n",
       "0      0         A/5 21171   7.2500   NaN        S  \n",
       "1      0          PC 17599  71.2833   C85        C  \n",
       "2      0  STON/O2. 3101282   7.9250   NaN        S  \n",
       "3      0            113803  53.1000  C123        S  \n",
       "4      0            373450   8.0500   NaN        S  "
      ]
     },
     "execution_count": 52,
     "metadata": {},
     "output_type": "execute_result"
    }
   ],
   "source": [
    "df.head()"
   ]
  },
  {
   "cell_type": "code",
   "execution_count": 69,
   "id": "35aa928a",
   "metadata": {},
   "outputs": [],
   "source": [
    "df = df.fillna(value = df.mean(numeric_only=True))"
   ]
  },
  {
   "cell_type": "code",
   "execution_count": 70,
   "id": "f276b02f",
   "metadata": {},
   "outputs": [
    {
     "name": "stdout",
     "output_type": "stream",
     "text": [
      "treino: (712, 1) (712,)\n",
      "teste: (179, 1) (179,)\n"
     ]
    },
    {
     "data": {
      "text/plain": [
       "0.4722150426466787"
      ]
     },
     "execution_count": 70,
     "metadata": {},
     "output_type": "execute_result"
    }
   ],
   "source": [
    "var_expl = ['Age']\n",
    "var_resp = 'Survived'\n",
    "\n",
    "df_treino, df_teste = train_test_split(df, test_size = 0.2, random_state = 1)\n",
    "\n",
    "x_treino = df_treino[var_expl].copy()\n",
    "x_teste = df_teste[var_expl].copy()\n",
    "\n",
    "y_treino = df_treino[var_resp].copy()\n",
    "y_teste = df_teste[var_resp].copy()\n",
    "\n",
    "print('treino:', x_treino.shape, y_treino.shape)\n",
    "print('teste:', x_teste.shape, y_teste.shape)\n",
    "\n",
    "modelo = DecisionTreeClassifier(max_depth=4, min_samples_split=0.2, max_leaf_nodes=3, random_state = 1)\n",
    "modelo.fit(x_treino, y_treino)\n",
    "\n",
    "y_teste_pred = modelo.predict_proba(x_teste)[:, 1]\n",
    "\n",
    "roc_auc_score(y_teste, y_teste_pred)"
   ]
  },
  {
   "cell_type": "code",
   "execution_count": 78,
   "id": "d0aa37f8",
   "metadata": {},
   "outputs": [
    {
     "data": {
      "image/png": "[encoded data removed]",
      "text/plain": [
       "<Figure size 432x288 with 1 Axes>"
      ]
     },
     "metadata": {
      "needs_background": "light"
     },
     "output_type": "display_data"
    }
   ],
   "source": [
    "plot_tree(modelo, feature_names=['Age']);"
   ]
  },
  {
   "cell_type": "markdown",
   "id": "03faea75",
   "metadata": {},
   "source": [
    "**Fazer seleção de feature:** construa uma árvore com todas as features disponíveis, porém com profundidade de até 3 ou 4, em seguida visualize essa árvore. Todas as features aparecem nessa árvore?\n"
   ]
  },
  {
   "cell_type": "markdown",
   "id": "32956b8f",
   "metadata": {},
   "source": [
    "## Utilidades do sklearn\n",
    "Case Exemplo:\n",
    "    \n",
    "Você está tratando dados sobre COVID-19, querendo identificar se uma determinada pessoa foi contaminada pelo vírus usando apenas informação que não são diretamente relacionadas à saúde (atuação profissional, idade, peso, sexo, cidade onde mora, cidade onde trabalha, quantidade de casos no Brasil, quantidade de mortes no Brasil).\n",
    "\n",
    "Para isso, você separou os dados em dois conjuntos, um para treino (até jun/21) e outro para teste (jul/21 em diante). Você optou por usar um KNN, e para isso precisou usar o MinMaxScaler para deixar todos os dados na mesma escala, incluindo a quantidade de mortes no Brasil.  MinMaxScaler usa a seguinte fórmula para fazer o redimensionamento, e para isso você precisou olhar para os dados e identificar o x_max e o x_min.\n",
    "\n",
    "x_final = (x - x_min) / (x_max - x_min)\n",
    "\n",
    "Baseado nos dados (reais que vemos nos jornais), qual o x_min e o x_max que devem ser usados?\n",
    "\n",
    "<a href=\"https://www.google.com/search?q=estatisticas+covid+brasil&bih=666&biw=1280&hl=en&sxsrf=ALeKk00BvVGoh1F6CPgprcYl5erOw8CHOQ%3A1617141467586&ei=255jYLScI6zA5OUPt-2fsAw&oq=estatisticas+covid+brasil&gs_lcp=Cgdnd3Mtd2l6EAMyBAgAEA0yBggAEAcQHjIGCAAQBxAeMgYIABAHEB4yBggAEAcQHjIGCAAQBxAeMgYIABAHEB4yBggAEAcQHjIICAAQCBAHEB46CAgAELADEMsBOgcIABCwAxBDOgUIABDLAToECAAQHjoGCAAQCBAeUJyfBliFrgZgnK8GaAJwAHgAgAG2AogB4BySAQYyLTEzLjGYAQCgAQGqAQdnd3Mtd2l6yAEKwAEB&sclient=gws-wiz&ved=0ahUKEwj09ee1gdnvAhUsILkGHbf2B8YQ4dUDCA0&uact=5\">\n",
    "<img src = \"imagens/covid.png\" width = 50% />\n",
    "</a>"
   ]
  },
  {
   "cell_type": "markdown",
   "id": "687dbc6a",
   "metadata": {},
   "source": [
    "- Data Leakage é um baita problema, e o sklearn nos ajuda a mitigá-lo.\n",
    "- sklearn segue um padrão para modelos e transformadores\n",
    "    - Esse padrão inclusive pode ser apontado como uma das causas do enorme sucesso do sklearn\n",
    "\n",
    "\n",
    "Padrão de Modelos: \n",
    "```\n",
    "modelo = ModeloDePrevisao(hiperparâmetros)\n",
    "\n",
    "modelo.fit(x_treino, y_treino)\n",
    "y_pred = modelo.preditc(x_teste)\n",
    "\n",
    "metrica(y_teste, y_pred)\n",
    "```\n",
    "\n",
    "Padrão de Transformadores:\n",
    "```\n",
    "trans = Transformador(hiperparâmetros)\n",
    "\n",
    "x_treino = trans.fit_transform(x_treino)\n",
    "x_teste = trans.transform(x_teste)\n",
    "```"
   ]
  },
  {
   "cell_type": "markdown",
   "id": "b0a865c0",
   "metadata": {},
   "source": [
    "- [MinMaxScaler](https://scikit-learn.org/stable/modules/generated/sklearn.preprocessing.MinMaxScaler.html)\n",
    "- [StandardScaler](https://scikit-learn.org/stable/modules/generated/sklearn.preprocessing.StandardScaler.html)\n",
    "- [Binarizer](https://scikit-learn.org/stable/modules/generated/sklearn.preprocessing.Binarizer.html)\n",
    "- [OneHotEncoder](https://scikit-learn.org/stable/modules/generated/sklearn.preprocessing.OneHotEncoder.html)\n",
    "- [KBinsDiscretizer](https://scikit-learn.org/stable/modules/generated/sklearn.preprocessing.KBinsDiscretizer.html)\n",
    "- [LabelEncoder](https://scikit-learn.org/stable/modules/generated/sklearn.preprocessing.LabelEncoder.html)\n",
    "- [OrdinalEncoder](https://scikit-learn.org/stable/modules/generated/sklearn.preprocessing.OrdinalEncoder.html)\n",
    "- [SimpleImputer](https://scikit-learn.org/stable/modules/generated/sklearn.impute.SimpleImputer.html#sklearn.impute.SimpleImputer)\n",
    "- [KNNImputer](https://scikit-learn.org/stable/modules/generated/sklearn.impute.KNNImputer.html#sklearn.impute.KNNImputer)"
   ]
  },
  {
   "cell_type": "markdown",
   "id": "3ad1eaa6",
   "metadata": {},
   "source": [
    "### Projeto\n",
    "Usando o dataset do projeto, crie modelos usando Regressão Logística, Árvore de Decisão e KNN para identificar se uma pessoa será adimplente ou inadimplente, realizando os pré-processamentos necessários para cada um. Utilize a metodologia de avaliação de sua preferência, mas seu modelo será avaliado em um conjunto apartado. Que conclusões você consegue tirar a partir do modelo?"
   ]
  },
  {
   "cell_type": "code",
   "execution_count": null,
   "id": "bb3ed356",
   "metadata": {},
   "outputs": [],
   "source": []
  }
 ],
 "metadata": {
  "hide_input": false,
  "kernelspec": {
   "display_name": "Python 3 (ipykernel)",
   "language": "python",
   "name": "python3"
  },
  "language_info": {
   "codemirror_mode": {
    "name": "ipython",
    "version": 3
   },
   "file_extension": ".py",
   "mimetype": "text/x-python",
   "name": "python",
   "nbconvert_exporter": "python",
   "pygments_lexer": "ipython3",
   "version": "3.9.7"
  }
 },
 "nbformat": 4,
 "nbformat_minor": 5
}
