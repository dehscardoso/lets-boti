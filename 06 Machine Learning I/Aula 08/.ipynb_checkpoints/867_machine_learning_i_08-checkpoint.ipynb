{
 "cells": [
  {
   "cell_type": "markdown",
   "metadata": {},
   "source": [
    "## Naive Bayes"
   ]
  },
  {
   "cell_type": "markdown",
   "metadata": {},
   "source": [
    "O Teorema de Bayes diz que:\n",
    "\n",
    "$$P(A|B) = \\frac{P(B|A) \\times P(A)}{P(B)}$$\n",
    "\n",
    "Expandindo para um caso mais prático, suponha que $y$ seja a variável resposta com $i$ possibilidades e $x$ conjunto de $j$ variáveis explicativas, sendo elas $x_1, x_2, ..., x_j$. Logo,\n",
    "\n",
    "$$P(y_i|x) = \\frac{P(x|y_i) \\times P(y_i)}{P(x)}$$\n",
    "\n",
    "Como $P(x)$ é igual para todos as possibilidades de $y$, podemos ignorar o denominador da equação. Assumindo que todos os atributos são *independentes*, $P(x|y_i)$ pode ser decomposto em $P(x_1|y_i) \\times P(x_2|y_i) \\times ... \\times P(x_j|y_i)$. Logo, a probabilidade de um exemplo pertencer à classe $y_i$ é proporcional à expressão\n",
    "\n",
    "$$P(y_i|x) \\propto P(y_i) \\prod P(x_j|y_i)$$\n",
    "\n",
    "Logo, podemos dizer que a predição $\\hat{y}$ será\n",
    "\n",
    "$$\\hat{y} = \\underset{y_i}{\\operatorname{arg max}}  P(y_i|x)$$"
   ]
  },
  {
   "cell_type": "markdown",
   "metadata": {},
   "source": [
    "Ilustrando no exemplo de spam:\n",
    "    \n",
    "Fazemos um histograma de ocorrências de palavras:\n",
    "\n",
    "- Não spam (N) - 8 mensagens:\n",
    "   - Prezado: 8\n",
    "   - Sr.: 5\n",
    "   - Café: 3\n",
    "   - Dinheiro: 1\n",
    "- Spam (S) - 4 mensagens:\n",
    "   - Prezado: 2\n",
    "   - Sr.: 1\n",
    "   - Café: 0\n",
    "   - Dinheiro: 4"
   ]
  },
  {
   "cell_type": "markdown",
   "metadata": {},
   "source": [
    "**Para pensar:** Quais as probabilidades de cada palavra dado o evento N? E dado o evento S?"
   ]
  },
  {
   "cell_type": "raw",
   "metadata": {},
   "source": [
    "P(Prezado | N)  = 8/17 = 0.47\n",
    "P(Sr | N)       = 5/17 = 0.29\n",
    "P(Café | N)     = 3/17 = 0.18\n",
    "P(Dinheiro | N) = 1/17 = 0.06\n",
    "\n",
    "P(Prezado | S)  = 2/7 = 0.29\n",
    "P(Sr | S)       = 1/7 = 0.14\n",
    "P(Café | S)     = 0/7 = 0\n",
    "P(Dinheiro | S) = 4/7 = 0.57\n",
    "\n",
    "P(N) = 8/(8 + 4) = 0.67\n",
    "P(S) = 4/(8 + 4) = 0.33"
   ]
  },
  {
   "cell_type": "markdown",
   "metadata": {},
   "source": [
    "**Para pensar:** Se recebermos uma mensagem com \"Prezado Sr.\", como saber se é spam ou não?"
   ]
  },
  {
   "cell_type": "markdown",
   "metadata": {},
   "source": [
    "- Passo 1: Probabilidade a priori\n",
    "- Passo 2: Probabilidade a posteriori\n",
    "- Passo 3: Multiplicação\n",
    "\n",
    "$$P(y_i|x) \\propto P(y_i) \\prod P(x_j|y_i)$$"
   ]
  },
  {
   "cell_type": "code",
   "execution_count": null,
   "metadata": {},
   "outputs": [],
   "source": [
    "P(N | Prezado Sr) = (0.67) * (0.47 * 0.29)\n",
    "P(S | Prezado Sr) = (0.33) * (0.29 * 0.14)"
   ]
  },
  {
   "cell_type": "code",
   "execution_count": 1,
   "metadata": {},
   "outputs": [],
   "source": [
    "N = (0.67) * (0.47 * 0.29)"
   ]
  },
  {
   "cell_type": "code",
   "execution_count": 2,
   "metadata": {},
   "outputs": [],
   "source": [
    "S = (0.33) * (0.29 * 0.14)"
   ]
  },
  {
   "cell_type": "code",
   "execution_count": 3,
   "metadata": {},
   "outputs": [
    {
     "data": {
      "text/plain": [
       "True"
      ]
     },
     "execution_count": 3,
     "metadata": {},
     "output_type": "execute_result"
    }
   ],
   "source": [
    "N > S"
   ]
  },
  {
   "cell_type": "markdown",
   "metadata": {},
   "source": [
    "Logo, concluímos que a mensagem não é spam. "
   ]
  },
  {
   "cell_type": "markdown",
   "metadata": {},
   "source": [
    "**Para pensar:** Se recebermos uma mensagem com \"Dinheiro Dinheiro Dinheiro\", como saber se é spam ou não?"
   ]
  },
  {
   "cell_type": "code",
   "execution_count": null,
   "metadata": {},
   "outputs": [],
   "source": [
    "P(N | Dinheiro Dinheiro Dinheiro) = (0.67) * (0.06 * 0.06 * 0.06)\n",
    "P(S | Dinheiro Dinheiro Dinheiro) = (0.33) * (0.57 * 0.57 * 0.57)"
   ]
  },
  {
   "cell_type": "code",
   "execution_count": 4,
   "metadata": {},
   "outputs": [],
   "source": [
    "N = (0.67) * (0.06 * 0.06 * 0.06)"
   ]
  },
  {
   "cell_type": "code",
   "execution_count": 5,
   "metadata": {},
   "outputs": [],
   "source": [
    "S = (0.33) * (0.57 * 0.57 * 0.57)"
   ]
  },
  {
   "cell_type": "code",
   "execution_count": 13,
   "metadata": {},
   "outputs": [
    {
     "data": {
      "text/plain": [
       "True"
      ]
     },
     "execution_count": 13,
     "metadata": {},
     "output_type": "execute_result"
    }
   ],
   "source": [
    "S > N"
   ]
  },
  {
   "cell_type": "markdown",
   "metadata": {},
   "source": [
    "Logo, concluímos que a mensagem é spam. "
   ]
  },
  {
   "cell_type": "markdown",
   "metadata": {},
   "source": [
    "Podemos também ir além e normalizar, para obter o resultado em termos de probabilidade:"
   ]
  },
  {
   "cell_type": "code",
   "execution_count": 13,
   "metadata": {},
   "outputs": [],
   "source": [
    "N = (0.67) * (0.06 * 0.06 * 0.06)\n",
    "S = (0.33) * (0.57 * 0.57 * 0.57)"
   ]
  },
  {
   "cell_type": "code",
   "execution_count": 14,
   "metadata": {},
   "outputs": [],
   "source": [
    "P_n = N / (N + S)\n",
    "P_s = S / (N + S)"
   ]
  },
  {
   "cell_type": "code",
   "execution_count": 15,
   "metadata": {},
   "outputs": [
    {
     "data": {
      "text/plain": [
       "0.0023624511311997817"
      ]
     },
     "execution_count": 15,
     "metadata": {},
     "output_type": "execute_result"
    }
   ],
   "source": [
    "P_n"
   ]
  },
  {
   "cell_type": "code",
   "execution_count": 16,
   "metadata": {},
   "outputs": [
    {
     "data": {
      "text/plain": [
       "0.9976375488688002"
      ]
     },
     "execution_count": 16,
     "metadata": {},
     "output_type": "execute_result"
    }
   ],
   "source": [
    "P_s"
   ]
  },
  {
   "cell_type": "markdown",
   "metadata": {},
   "source": [
    "### Implementação no sklearn"
   ]
  },
  {
   "cell_type": "code",
   "execution_count": 1,
   "metadata": {},
   "outputs": [],
   "source": [
    "import pandas as pd\n",
    "from sklearn.naive_bayes import MultinomialNB"
   ]
  },
  {
   "cell_type": "code",
   "execution_count": 2,
   "metadata": {},
   "outputs": [
    {
     "data": {
      "text/html": [
       "<div>\n",
       "<style scoped>\n",
       "    .dataframe tbody tr th:only-of-type {\n",
       "        vertical-align: middle;\n",
       "    }\n",
       "\n",
       "    .dataframe tbody tr th {\n",
       "        vertical-align: top;\n",
       "    }\n",
       "\n",
       "    .dataframe thead th {\n",
       "        text-align: right;\n",
       "    }\n",
       "</style>\n",
       "<table border=\"1\" class=\"dataframe\">\n",
       "  <thead>\n",
       "    <tr style=\"text-align: right;\">\n",
       "      <th></th>\n",
       "      <th>prezado</th>\n",
       "      <th>sr</th>\n",
       "      <th>cafe</th>\n",
       "      <th>dinheiro</th>\n",
       "      <th>spam</th>\n",
       "    </tr>\n",
       "  </thead>\n",
       "  <tbody>\n",
       "    <tr>\n",
       "      <th>0</th>\n",
       "      <td>1</td>\n",
       "      <td>0</td>\n",
       "      <td>0</td>\n",
       "      <td>0</td>\n",
       "      <td>0</td>\n",
       "    </tr>\n",
       "    <tr>\n",
       "      <th>1</th>\n",
       "      <td>1</td>\n",
       "      <td>1</td>\n",
       "      <td>0</td>\n",
       "      <td>0</td>\n",
       "      <td>0</td>\n",
       "    </tr>\n",
       "    <tr>\n",
       "      <th>2</th>\n",
       "      <td>1</td>\n",
       "      <td>1</td>\n",
       "      <td>2</td>\n",
       "      <td>0</td>\n",
       "      <td>0</td>\n",
       "    </tr>\n",
       "    <tr>\n",
       "      <th>3</th>\n",
       "      <td>1</td>\n",
       "      <td>1</td>\n",
       "      <td>0</td>\n",
       "      <td>0</td>\n",
       "      <td>0</td>\n",
       "    </tr>\n",
       "    <tr>\n",
       "      <th>4</th>\n",
       "      <td>1</td>\n",
       "      <td>1</td>\n",
       "      <td>1</td>\n",
       "      <td>1</td>\n",
       "      <td>0</td>\n",
       "    </tr>\n",
       "    <tr>\n",
       "      <th>5</th>\n",
       "      <td>1</td>\n",
       "      <td>1</td>\n",
       "      <td>0</td>\n",
       "      <td>0</td>\n",
       "      <td>0</td>\n",
       "    </tr>\n",
       "    <tr>\n",
       "      <th>6</th>\n",
       "      <td>1</td>\n",
       "      <td>0</td>\n",
       "      <td>0</td>\n",
       "      <td>0</td>\n",
       "      <td>0</td>\n",
       "    </tr>\n",
       "    <tr>\n",
       "      <th>7</th>\n",
       "      <td>1</td>\n",
       "      <td>0</td>\n",
       "      <td>0</td>\n",
       "      <td>0</td>\n",
       "      <td>0</td>\n",
       "    </tr>\n",
       "    <tr>\n",
       "      <th>8</th>\n",
       "      <td>0</td>\n",
       "      <td>0</td>\n",
       "      <td>0</td>\n",
       "      <td>1</td>\n",
       "      <td>1</td>\n",
       "    </tr>\n",
       "    <tr>\n",
       "      <th>9</th>\n",
       "      <td>0</td>\n",
       "      <td>0</td>\n",
       "      <td>0</td>\n",
       "      <td>2</td>\n",
       "      <td>1</td>\n",
       "    </tr>\n",
       "    <tr>\n",
       "      <th>10</th>\n",
       "      <td>1</td>\n",
       "      <td>1</td>\n",
       "      <td>0</td>\n",
       "      <td>1</td>\n",
       "      <td>1</td>\n",
       "    </tr>\n",
       "    <tr>\n",
       "      <th>11</th>\n",
       "      <td>1</td>\n",
       "      <td>0</td>\n",
       "      <td>0</td>\n",
       "      <td>0</td>\n",
       "      <td>1</td>\n",
       "    </tr>\n",
       "  </tbody>\n",
       "</table>\n",
       "</div>"
      ],
      "text/plain": [
       "    prezado  sr  cafe  dinheiro  spam\n",
       "0         1   0     0         0     0\n",
       "1         1   1     0         0     0\n",
       "2         1   1     2         0     0\n",
       "3         1   1     0         0     0\n",
       "4         1   1     1         1     0\n",
       "5         1   1     0         0     0\n",
       "6         1   0     0         0     0\n",
       "7         1   0     0         0     0\n",
       "8         0   0     0         1     1\n",
       "9         0   0     0         2     1\n",
       "10        1   1     0         1     1\n",
       "11        1   0     0         0     1"
      ]
     },
     "execution_count": 2,
     "metadata": {},
     "output_type": "execute_result"
    }
   ],
   "source": [
    "df = pd.DataFrame({\n",
    "    'prezado':  [1, 1, 1, 1, 1, 1, 1, 1, 0, 0, 1, 1],\n",
    "    'sr':       [0, 1, 1, 1, 1, 1, 0, 0, 0, 0, 1, 0],\n",
    "    'cafe':     [0, 0, 2, 0, 1, 0, 0, 0, 0, 0, 0, 0],\n",
    "    'dinheiro': [0, 0, 0, 0, 1, 0, 0, 0, 1, 2, 1, 0],\n",
    "    'spam':     [0, 0, 0, 0, 0, 0, 0, 0, 1, 1, 1, 1]\n",
    "})\n",
    "\n",
    "df"
   ]
  },
  {
   "cell_type": "code",
   "execution_count": 3,
   "metadata": {},
   "outputs": [
    {
     "data": {
      "text/html": [
       "<style>#sk-container-id-1 {color: black;background-color: white;}#sk-container-id-1 pre{padding: 0;}#sk-container-id-1 div.sk-toggleable {background-color: white;}#sk-container-id-1 label.sk-toggleable__label {cursor: pointer;display: block;width: 100%;margin-bottom: 0;padding: 0.3em;box-sizing: border-box;text-align: center;}#sk-container-id-1 label.sk-toggleable__label-arrow:before {content: \"▸\";float: left;margin-right: 0.25em;color: #696969;}#sk-container-id-1 label.sk-toggleable__label-arrow:hover:before {color: black;}#sk-container-id-1 div.sk-estimator:hover label.sk-toggleable__label-arrow:before {color: black;}#sk-container-id-1 div.sk-toggleable__content {max-height: 0;max-width: 0;overflow: hidden;text-align: left;background-color: #f0f8ff;}#sk-container-id-1 div.sk-toggleable__content pre {margin: 0.2em;color: black;border-radius: 0.25em;background-color: #f0f8ff;}#sk-container-id-1 input.sk-toggleable__control:checked~div.sk-toggleable__content {max-height: 200px;max-width: 100%;overflow: auto;}#sk-container-id-1 input.sk-toggleable__control:checked~label.sk-toggleable__label-arrow:before {content: \"▾\";}#sk-container-id-1 div.sk-estimator input.sk-toggleable__control:checked~label.sk-toggleable__label {background-color: #d4ebff;}#sk-container-id-1 div.sk-label input.sk-toggleable__control:checked~label.sk-toggleable__label {background-color: #d4ebff;}#sk-container-id-1 input.sk-hidden--visually {border: 0;clip: rect(1px 1px 1px 1px);clip: rect(1px, 1px, 1px, 1px);height: 1px;margin: -1px;overflow: hidden;padding: 0;position: absolute;width: 1px;}#sk-container-id-1 div.sk-estimator {font-family: monospace;background-color: #f0f8ff;border: 1px dotted black;border-radius: 0.25em;box-sizing: border-box;margin-bottom: 0.5em;}#sk-container-id-1 div.sk-estimator:hover {background-color: #d4ebff;}#sk-container-id-1 div.sk-parallel-item::after {content: \"\";width: 100%;border-bottom: 1px solid gray;flex-grow: 1;}#sk-container-id-1 div.sk-label:hover label.sk-toggleable__label {background-color: #d4ebff;}#sk-container-id-1 div.sk-serial::before {content: \"\";position: absolute;border-left: 1px solid gray;box-sizing: border-box;top: 0;bottom: 0;left: 50%;z-index: 0;}#sk-container-id-1 div.sk-serial {display: flex;flex-direction: column;align-items: center;background-color: white;padding-right: 0.2em;padding-left: 0.2em;position: relative;}#sk-container-id-1 div.sk-item {position: relative;z-index: 1;}#sk-container-id-1 div.sk-parallel {display: flex;align-items: stretch;justify-content: center;background-color: white;position: relative;}#sk-container-id-1 div.sk-item::before, #sk-container-id-1 div.sk-parallel-item::before {content: \"\";position: absolute;border-left: 1px solid gray;box-sizing: border-box;top: 0;bottom: 0;left: 50%;z-index: -1;}#sk-container-id-1 div.sk-parallel-item {display: flex;flex-direction: column;z-index: 1;position: relative;background-color: white;}#sk-container-id-1 div.sk-parallel-item:first-child::after {align-self: flex-end;width: 50%;}#sk-container-id-1 div.sk-parallel-item:last-child::after {align-self: flex-start;width: 50%;}#sk-container-id-1 div.sk-parallel-item:only-child::after {width: 0;}#sk-container-id-1 div.sk-dashed-wrapped {border: 1px dashed gray;margin: 0 0.4em 0.5em 0.4em;box-sizing: border-box;padding-bottom: 0.4em;background-color: white;}#sk-container-id-1 div.sk-label label {font-family: monospace;font-weight: bold;display: inline-block;line-height: 1.2em;}#sk-container-id-1 div.sk-label-container {text-align: center;}#sk-container-id-1 div.sk-container {/* jupyter's `normalize.less` sets `[hidden] { display: none; }` but bootstrap.min.css set `[hidden] { display: none !important; }` so we also need the `!important` here to be able to override the default hidden behavior on the sphinx rendered scikit-learn.org. See: https://github.com/scikit-learn/scikit-learn/issues/21755 */display: inline-block !important;position: relative;}#sk-container-id-1 div.sk-text-repr-fallback {display: none;}</style><div id=\"sk-container-id-1\" class=\"sk-top-container\"><div class=\"sk-text-repr-fallback\"><pre>MultinomialNB()</pre><b>In a Jupyter environment, please rerun this cell to show the HTML representation or trust the notebook. <br />On GitHub, the HTML representation is unable to render, please try loading this page with nbviewer.org.</b></div><div class=\"sk-container\" hidden><div class=\"sk-item\"><div class=\"sk-estimator sk-toggleable\"><input class=\"sk-toggleable__control sk-hidden--visually\" id=\"sk-estimator-id-1\" type=\"checkbox\" checked><label for=\"sk-estimator-id-1\" class=\"sk-toggleable__label sk-toggleable__label-arrow\">MultinomialNB</label><div class=\"sk-toggleable__content\"><pre>MultinomialNB()</pre></div></div></div></div></div>"
      ],
      "text/plain": [
       "MultinomialNB()"
      ]
     },
     "execution_count": 3,
     "metadata": {},
     "output_type": "execute_result"
    }
   ],
   "source": [
    "x_treino = df.loc[:, :'dinheiro']\n",
    "y_treino = df.loc[:, 'spam']\n",
    "\n",
    "modelo = MultinomialNB()\n",
    "\n",
    "modelo.fit(x_treino, y_treino)"
   ]
  },
  {
   "cell_type": "code",
   "execution_count": 4,
   "metadata": {},
   "outputs": [
    {
     "data": {
      "text/html": [
       "<div>\n",
       "<style scoped>\n",
       "    .dataframe tbody tr th:only-of-type {\n",
       "        vertical-align: middle;\n",
       "    }\n",
       "\n",
       "    .dataframe tbody tr th {\n",
       "        vertical-align: top;\n",
       "    }\n",
       "\n",
       "    .dataframe thead th {\n",
       "        text-align: right;\n",
       "    }\n",
       "</style>\n",
       "<table border=\"1\" class=\"dataframe\">\n",
       "  <thead>\n",
       "    <tr style=\"text-align: right;\">\n",
       "      <th></th>\n",
       "      <th>prezado</th>\n",
       "      <th>sr</th>\n",
       "      <th>cafe</th>\n",
       "      <th>dinheiro</th>\n",
       "    </tr>\n",
       "  </thead>\n",
       "  <tbody>\n",
       "    <tr>\n",
       "      <th>0</th>\n",
       "      <td>1</td>\n",
       "      <td>1</td>\n",
       "      <td>0</td>\n",
       "      <td>0</td>\n",
       "    </tr>\n",
       "  </tbody>\n",
       "</table>\n",
       "</div>"
      ],
      "text/plain": [
       "   prezado  sr  cafe  dinheiro\n",
       "0        1   1     0         0"
      ]
     },
     "execution_count": 4,
     "metadata": {},
     "output_type": "execute_result"
    }
   ],
   "source": [
    "nova_instancia = pd.DataFrame({\n",
    "    'prezado': [1],\n",
    "    'sr': [1],\n",
    "    'cafe': [0],\n",
    "    'dinheiro': [0],\n",
    "})\n",
    "\n",
    "nova_instancia"
   ]
  },
  {
   "cell_type": "raw",
   "metadata": {},
   "source": []
  },
  {
   "cell_type": "code",
   "execution_count": 5,
   "metadata": {},
   "outputs": [
    {
     "data": {
      "text/plain": [
       "array([[0.83161512, 0.16838488]])"
      ]
     },
     "execution_count": 5,
     "metadata": {},
     "output_type": "execute_result"
    }
   ],
   "source": [
    "modelo.predict_proba(nova_instancia)"
   ]
  },
  {
   "cell_type": "code",
   "execution_count": null,
   "metadata": {},
   "outputs": [],
   "source": []
  },
  {
   "cell_type": "code",
   "execution_count": null,
   "metadata": {},
   "outputs": [],
   "source": []
  },
  {
   "cell_type": "code",
   "execution_count": null,
   "metadata": {},
   "outputs": [],
   "source": []
  },
  {
   "cell_type": "code",
   "execution_count": null,
   "metadata": {},
   "outputs": [],
   "source": []
  },
  {
   "cell_type": "markdown",
   "metadata": {},
   "source": [
    "Os resultados das probabilidades foram diferentes do que calculamos. Vamos analisar outro caso, primeiro com cálculos a mão e em seguida usando o sklearn.\n",
    "\n",
    "$$\\textrm{P(N | Café Dinheiro Dinheiro Dinheiro)} = 0.67 \\times 0.18 \\times 0.06 \\times 0.06 \\times 0.06 = 0.000026$$\n",
    "\n",
    "$$\\textrm{P(S | Café Dinheiro Dinheiro Dinheiro)} = 0.33 \\times 0.00 \\times 0.57 \\times 0.57 \\times 0.57 = 0.000000$$\n",
    "\n",
    "Observe que por mais que tenhamos a palavra dinheiro aparecendo 3 vezes, a probabilidade de ser spam continua sendo 0. Isso acontece porque a palavra café está contida na mensagem, e por não ter nenhuma mensagem que seja spam que tem essa palavra, a probabilidade vai pra zero, zerando o resultado. Como será que está no modelo?"
   ]
  },
  {
   "cell_type": "code",
   "execution_count": null,
   "metadata": {},
   "outputs": [],
   "source": []
  },
  {
   "cell_type": "code",
   "execution_count": null,
   "metadata": {},
   "outputs": [],
   "source": []
  },
  {
   "cell_type": "markdown",
   "metadata": {},
   "source": [
    "Faz sentido! A chance de ser spam é alta. Isso acontece porque a implementação do sklearn faz uso de uma técnica que adiciona 1 a todos os elementos, pra evitar que um deles possa zerar alguma equação. Dessa forma, as contagens ficam:\n",
    "\n",
    "- Não spam (N) - 8 mensagens:\n",
    "   - Prezado: 9\n",
    "   - Sr.: 6\n",
    "   - Café: 4\n",
    "   - Dinheiro: 2\n",
    "- Spam (S) - 4 mensagens:\n",
    "   - Prezado: 3\n",
    "   - Sr.: 2\n",
    "   - Café: 1\n",
    "   - Dinheiro: 5"
   ]
  },
  {
   "cell_type": "markdown",
   "metadata": {},
   "source": [
    "**Para pensar:** As probabilidades de cada palavra dado o evento N muda? E dado o evento S? Se sim, qual o novo valor?"
   ]
  },
  {
   "cell_type": "code",
   "execution_count": null,
   "metadata": {},
   "outputs": [],
   "source": []
  },
  {
   "cell_type": "markdown",
   "metadata": {},
   "source": [
    "$$\\textrm{P(Prezado | N)} = 0.43$$\n",
    "\n",
    "$$\\textrm{P(Sr. | N)} = 0.29$$\n",
    "\n",
    "$$\\textrm{P(Café | N)} = 0.19$$\n",
    "\n",
    "$$\\textrm{P(Dinheiro | N)} = 0.09$$\n",
    "\n",
    "$$\\textrm{P(Prezado | S)} = 0.27$$\n",
    "\n",
    "$$\\textrm{P(Sr. | S)} = 0.18$$\n",
    "\n",
    "$$\\textrm{P(Café | S)} = 0.09$$\n",
    "\n",
    "$$\\textrm{P(Dinheiro | S)} = 0.45$$\n"
   ]
  },
  {
   "cell_type": "markdown",
   "metadata": {},
   "source": [
    "**Para pensar:** Qual a probabilidade de ser spam dado que a mensagem é \"Café Dinheiro Dinheiro Dinheiro\"?"
   ]
  },
  {
   "cell_type": "code",
   "execution_count": null,
   "metadata": {},
   "outputs": [],
   "source": []
  },
  {
   "cell_type": "code",
   "execution_count": null,
   "metadata": {},
   "outputs": [],
   "source": []
  },
  {
   "cell_type": "code",
   "execution_count": null,
   "metadata": {},
   "outputs": [],
   "source": []
  },
  {
   "cell_type": "code",
   "execution_count": null,
   "metadata": {},
   "outputs": [],
   "source": []
  },
  {
   "cell_type": "code",
   "execution_count": null,
   "metadata": {},
   "outputs": [],
   "source": []
  },
  {
   "cell_type": "code",
   "execution_count": null,
   "metadata": {},
   "outputs": [],
   "source": []
  },
  {
   "cell_type": "code",
   "execution_count": null,
   "metadata": {},
   "outputs": [],
   "source": []
  },
  {
   "cell_type": "code",
   "execution_count": null,
   "metadata": {},
   "outputs": [],
   "source": []
  },
  {
   "cell_type": "code",
   "execution_count": null,
   "metadata": {},
   "outputs": [],
   "source": []
  },
  {
   "cell_type": "code",
   "execution_count": null,
   "metadata": {},
   "outputs": [],
   "source": []
  },
  {
   "cell_type": "code",
   "execution_count": null,
   "metadata": {},
   "outputs": [],
   "source": []
  },
  {
   "cell_type": "markdown",
   "metadata": {},
   "source": [
    "Os números não batem na vírgula. Isso é esperado, acontece porque fizemos uma série de aproximações, mas agora faz mais sentido. Tomando esse fator como step usado no sklearn, podemos recalcular a probabilidade que tínhamos achado anteriormente:\n",
    "\n",
    "\n",
    "$$\\textrm{P(N | Prezado Sr.)} \\propto \\textrm{P(N) x P(Prezado | N) x P(Sr. | N)} = 0.67 x 0.43 x 0.29 = 0.083$$\n",
    "\n",
    "$$\\textrm{P(S | Prezado Sr.)} \\propto \\textrm{P(S) x P(Prezado | S) x P(Sr. | S)} = 0.33 x 0.27 x 0.18 = 0.016$$\n",
    "\n",
    "Normalizando:"
   ]
  },
  {
   "cell_type": "markdown",
   "metadata": {},
   "source": [
    "### Outros Naive Bayes"
   ]
  },
  {
   "cell_type": "code",
   "execution_count": null,
   "metadata": {},
   "outputs": [],
   "source": [
    "df = pd.DataFrame([[1 , 0 , 1 , 1],\n",
    "                   [1 , 1 , 1 , 1],\n",
    "                   [0 , 1 , 0 , 0],\n",
    "                   [0 , 1 , 1 , 0],\n",
    "                   [1 , 0 , 0 , 0],\n",
    "                   [0 , 1 , 0 , 0],\n",
    "                   [0 , 0 , 1 , 0],\n",
    "                   [0 , 1 , 0 , 0],\n",
    "                   [1 , 0 , 0 , 0],\n",
    "                   [0 , 0 , 0 , 0],\n",
    "                   [0 , 1 , 0 , 0],\n",
    "                   [0 , 0 , 1 , 0]], columns = ['MA', 'MD', 'PG', 'F'])"
   ]
  },
  {
   "cell_type": "code",
   "execution_count": null,
   "metadata": {},
   "outputs": [],
   "source": [
    "MA: Mensagem Anonima\n",
    "MD: Multiplo Destinatario\n",
    "PG: Provedor Gratuito\n",
    "F:  Spam ou não"
   ]
  },
  {
   "cell_type": "code",
   "execution_count": null,
   "metadata": {},
   "outputs": [],
   "source": [
    "x_treino = df.loc[:, :'PG']\n",
    "y_treino = df.loc[:, 'F']\n",
    "\n",
    "modelo = MultinomialNB()\n",
    "modelo.fit(x_treino, y_treino)"
   ]
  },
  {
   "cell_type": "code",
   "execution_count": null,
   "metadata": {},
   "outputs": [],
   "source": [
    "nova_instancia = pd.DataFrame({\n",
    "    'MA': [1],\n",
    "    'MD': [1],\n",
    "    'PG': [1]\n",
    "})\n",
    "\n",
    "modelo.predict_proba(nova_instancia)"
   ]
  },
  {
   "cell_type": "code",
   "execution_count": null,
   "metadata": {},
   "outputs": [],
   "source": [
    "from sklearn.naive_bayes import BernoulliNB"
   ]
  },
  {
   "cell_type": "code",
   "execution_count": null,
   "metadata": {},
   "outputs": [],
   "source": [
    "x_treino = df.loc[:, :'PG']\n",
    "y_treino = df.loc[:, 'F']\n",
    "\n",
    "modelo = BernoulliNB()\n",
    "modelo.fit(x_treino, y_treino)"
   ]
  },
  {
   "cell_type": "code",
   "execution_count": null,
   "metadata": {},
   "outputs": [],
   "source": [
    "nova_instancia = pd.DataFrame({\n",
    "    'MA': [1],\n",
    "    'MD': [1],\n",
    "    'PG': [1]\n",
    "})\n",
    "\n",
    "modelo.predict_proba(nova_instancia)"
   ]
  },
  {
   "cell_type": "markdown",
   "metadata": {},
   "source": [
    "### Exercício Predição de Spam\n",
    "\n",
    "**Objetivo:** Fazer a predição de spam ou não spam no dataset de spam_ham.\n",
    "\n",
    "[Link para download do dataset](https://www.dropbox.com/s/h9wxw3ak6fq7bcs/spam_ham.csv?dl=0)\n",
    "    \n",
    "**Passo 1:** Preprocessamento\n",
    "- Transformar todas as strings em maiúsculo ou minúsculo\n",
    "- Remover pontuação\n",
    "- Realizar o split (criar tokens) onde tem espaço, criando para cada linha, uma lista de palavras\n",
    "- Determinar a contagem total de todas as palavras - pode usar dicionário\n",
    "- Escolher as 100 palavras que mais ocorrem\n",
    "- Para cada mensagem, determinar as ocorrências dessas 100 palavras escolhidas\n",
    "\n",
    "**Passo 2:** Modelagem\n",
    "- Escolher qual Naive Bayes utilizaremos\n",
    "- Fazer o ajuste\n",
    "\n",
    "**Passo 3:** Avaliação\n",
    "- Extrair as métricas de avaliação\n",
    "    - ROC AUC\n",
    "    - Gini\n",
    "    - Acurácia\n",
    "    - Precisão\n",
    "    - Especificidade\n",
    "    - ..."
   ]
  },
  {
   "cell_type": "code",
   "execution_count": null,
   "metadata": {},
   "outputs": [],
   "source": []
  },
  {
   "cell_type": "code",
   "execution_count": null,
   "metadata": {},
   "outputs": [],
   "source": []
  },
  {
   "cell_type": "code",
   "execution_count": null,
   "metadata": {},
   "outputs": [],
   "source": []
  },
  {
   "cell_type": "code",
   "execution_count": null,
   "metadata": {},
   "outputs": [],
   "source": []
  },
  {
   "cell_type": "code",
   "execution_count": null,
   "metadata": {},
   "outputs": [],
   "source": []
  },
  {
   "cell_type": "code",
   "execution_count": null,
   "metadata": {},
   "outputs": [],
   "source": []
  },
  {
   "cell_type": "code",
   "execution_count": null,
   "metadata": {},
   "outputs": [],
   "source": []
  }
 ],
 "metadata": {
  "hide_input": false,
  "kernelspec": {
   "display_name": "Python 3 (ipykernel)",
   "language": "python",
   "name": "python3"
  },
  "language_info": {
   "codemirror_mode": {
    "name": "ipython",
    "version": 3
   },
   "file_extension": ".py",
   "mimetype": "text/x-python",
   "name": "python",
   "nbconvert_exporter": "python",
   "pygments_lexer": "ipython3",
   "version": "3.9.7"
  }
 },
 "nbformat": 4,
 "nbformat_minor": 4
}
