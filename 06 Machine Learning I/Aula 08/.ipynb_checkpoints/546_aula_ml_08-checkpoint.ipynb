{
 "cells": [
  {
   "cell_type": "markdown",
   "metadata": {},
   "source": [
    "## Naive Bayes"
   ]
  },
  {
   "cell_type": "markdown",
   "metadata": {},
   "source": [
    "O Teorema de Bayes diz que:\n",
    "\n",
    "$$P(A|B) = \\frac{P(B|A) \\times P(A)}{P(B)}$$\n",
    "\n",
    "Expandindo para um caso mais prático, suponha que $y$ seja a variável resposta com $i$ possibilidades e $x$ conjunto de $j$ variáveis explicativas, sendo elas $x_1, x_2, ..., x_j$. Logo,\n",
    "\n",
    "$$P(y_i|x) = \\frac{P(x|y_i) \\times P(y_i)}{P(x)}$$\n",
    "\n",
    "Como $P(x)$ é igual para todos as possibilidades de $y$, podemos ignorar o denominador da equação. Assumindo que todos os atributos são *independentes*, $P(x|y_i)$ pode ser decomposto em $P(x_1|y_i) \\times P(x_2|y_i) \\times ... \\times P(x_j|y_i)$. Logo, a probabilidade de um exemplo pertencer à classe $y_i$ é proporcional à expressão\n",
    "\n",
    "$$P(y_i|x) \\propto P(y_i) \\prod P(x_j|y_i)$$\n",
    "\n",
    "Logo, podemos dizer que a predição $\\hat{y}$ será\n",
    "\n",
    "$$\\hat{y} = \\underset{y_i}{\\operatorname{arg max}}  P(y_i|x)$$"
   ]
  },
  {
   "cell_type": "markdown",
   "metadata": {},
   "source": [
    "Ilustrando no exemplo de spam:\n",
    "    \n",
    "Fazemos um histograma de ocorrências de palavras:\n",
    "\n",
    "- Não spam (N) - 8 mensagens:\n",
    "   - Prezado: 8\n",
    "   - Sr.: 5\n",
    "   - Café: 3\n",
    "   - Dinheiro: 1\n",
    "- Spam (S) - 4 mensagens:\n",
    "   - Prezado: 2\n",
    "   - Sr.: 1\n",
    "   - Café: 0\n",
    "   - Dinheiro: 4"
   ]
  },
  {
   "cell_type": "markdown",
   "metadata": {},
   "source": [
    "**Para pensar:** Quais as probabilidades de cada palavra dado o evento N? E dado o evento S?"
   ]
  },
  {
   "cell_type": "raw",
   "metadata": {},
   "source": []
  },
  {
   "cell_type": "markdown",
   "metadata": {},
   "source": [
    "**Para pensar:** Se recebermos uma mensagem com \"Prezado Sr.\", como saber se é spam ou não?"
   ]
  },
  {
   "cell_type": "markdown",
   "metadata": {},
   "source": [
    "- Passo 1: Probabilidade a priori\n",
    "- Passo 2: Probabilidade a posteriori\n",
    "- Passo 3: Multiplicação\n",
    "\n",
    "$$P(y_i|x) \\propto P(y_i) \\prod P(x_j|y_i)$$"
   ]
  },
  {
   "cell_type": "code",
   "execution_count": null,
   "metadata": {},
   "outputs": [],
   "source": []
  },
  {
   "cell_type": "code",
   "execution_count": null,
   "metadata": {},
   "outputs": [],
   "source": []
  },
  {
   "cell_type": "code",
   "execution_count": null,
   "metadata": {},
   "outputs": [],
   "source": []
  },
  {
   "cell_type": "code",
   "execution_count": null,
   "metadata": {},
   "outputs": [],
   "source": []
  },
  {
   "cell_type": "code",
   "execution_count": null,
   "metadata": {},
   "outputs": [],
   "source": []
  },
  {
   "cell_type": "raw",
   "metadata": {},
   "source": []
  },
  {
   "cell_type": "markdown",
   "metadata": {},
   "source": [
    "Logo, concluímos que a mensagem não é spam. "
   ]
  },
  {
   "cell_type": "markdown",
   "metadata": {},
   "source": [
    "**Para pensar:** Se recebermos uma mensagem com \"Dinheiro Dinheiro Dinheiro\", como saber se é spam ou não?"
   ]
  },
  {
   "cell_type": "code",
   "execution_count": null,
   "metadata": {},
   "outputs": [],
   "source": []
  },
  {
   "cell_type": "code",
   "execution_count": null,
   "metadata": {},
   "outputs": [],
   "source": []
  },
  {
   "cell_type": "code",
   "execution_count": null,
   "metadata": {},
   "outputs": [],
   "source": []
  },
  {
   "cell_type": "code",
   "execution_count": null,
   "metadata": {},
   "outputs": [],
   "source": []
  },
  {
   "cell_type": "code",
   "execution_count": null,
   "metadata": {},
   "outputs": [],
   "source": []
  },
  {
   "cell_type": "raw",
   "metadata": {},
   "source": []
  },
  {
   "cell_type": "markdown",
   "metadata": {},
   "source": [
    "Logo, concluímos que a mensagem é spam. "
   ]
  },
  {
   "cell_type": "markdown",
   "metadata": {},
   "source": [
    "Podemos também ir além e normalizar, para obter o resultado em termos de probabilidade:"
   ]
  },
  {
   "cell_type": "code",
   "execution_count": null,
   "metadata": {},
   "outputs": [],
   "source": []
  },
  {
   "cell_type": "code",
   "execution_count": null,
   "metadata": {},
   "outputs": [],
   "source": []
  },
  {
   "cell_type": "code",
   "execution_count": null,
   "metadata": {},
   "outputs": [],
   "source": []
  },
  {
   "cell_type": "code",
   "execution_count": null,
   "metadata": {},
   "outputs": [],
   "source": []
  },
  {
   "cell_type": "markdown",
   "metadata": {},
   "source": [
    "### Implementação no sklearn"
   ]
  },
  {
   "cell_type": "code",
   "execution_count": null,
   "metadata": {},
   "outputs": [],
   "source": [
    "from sklearn.naive_bayes import MultinomialNB"
   ]
  },
  {
   "cell_type": "code",
   "execution_count": null,
   "metadata": {},
   "outputs": [],
   "source": [
    "df = pd.DataFrame({\n",
    "    'prezado': [1, 1, 1, 1, 1, 1, 1, 1, 0, 0, 1, 1],\n",
    "    'sr': [0, 1, 1, 1, 1, 1, 0, 0, 0, 0, 1, 0],\n",
    "    'cafe': [0, 0, 2, 0, 1, 0, 0, 0, 0, 0, 0, 0],\n",
    "    'dinheiro': [0, 0, 0, 0, 1, 0, 0, 0, 1, 2, 1, 0],\n",
    "    'spam': [0, 0, 0, 0, 0, 0, 0, 0, 1, 1, 1, 1]\n",
    "})\n",
    "\n",
    "df"
   ]
  },
  {
   "cell_type": "code",
   "execution_count": null,
   "metadata": {},
   "outputs": [],
   "source": [
    "x_treino = df.loc[:, :'dinheiro']\n",
    "y_treino = df.loc[:, 'spam']\n",
    "\n",
    "modelo = MultinomialNB()\n",
    "\n",
    "modelo.fit(x_treino, y_treino)"
   ]
  },
  {
   "cell_type": "code",
   "execution_count": null,
   "metadata": {},
   "outputs": [],
   "source": [
    "nova_instancia = pd.DataFrame({\n",
    "    'prezado': [1],\n",
    "    'sr': [1],\n",
    "    'cafe': [0],\n",
    "    'dinheiro': [0],\n",
    "})\n",
    "\n",
    "nova_instancia"
   ]
  },
  {
   "cell_type": "raw",
   "metadata": {},
   "source": []
  },
  {
   "cell_type": "code",
   "execution_count": null,
   "metadata": {},
   "outputs": [],
   "source": [
    "modelo.predict_proba(nova_instancia)"
   ]
  },
  {
   "cell_type": "code",
   "execution_count": null,
   "metadata": {},
   "outputs": [],
   "source": []
  },
  {
   "cell_type": "code",
   "execution_count": null,
   "metadata": {},
   "outputs": [],
   "source": []
  },
  {
   "cell_type": "code",
   "execution_count": null,
   "metadata": {},
   "outputs": [],
   "source": []
  },
  {
   "cell_type": "code",
   "execution_count": null,
   "metadata": {},
   "outputs": [],
   "source": []
  },
  {
   "cell_type": "markdown",
   "metadata": {},
   "source": [
    "Os resultados das probabilidades foram diferentes do que calculamos. Vamos analisar outro caso, primeiro com cálculos a mão e em seguida usando o sklearn.\n",
    "\n",
    "$$\\textrm{P(N | Café Dinheiro Dinheiro Dinheiro)} = 0.67 \\times 0.18 \\times 0.06 \\times 0.06 \\times 0.06 = 0.000026$$\n",
    "\n",
    "$$\\textrm{P(S | Café Dinheiro Dinheiro Dinheiro)} = 0.33 \\times 0.00 \\times 0.57 \\times 0.57 \\times 0.57 = 0.000000$$\n",
    "\n",
    "Observe que por mais que tenhamos a palavra dinheiro aparecendo 3 vezes, a probabilidade de ser spam continua sendo 0. Isso acontece porque a palavra café está contida na mensagem, e por não ter nenhuma mensagem que seja spam que tem essa palavra, a probabilidade vai pra zero, zerando o resultado. Como será que está no modelo?"
   ]
  },
  {
   "cell_type": "code",
   "execution_count": null,
   "metadata": {},
   "outputs": [],
   "source": []
  },
  {
   "cell_type": "code",
   "execution_count": null,
   "metadata": {},
   "outputs": [],
   "source": []
  },
  {
   "cell_type": "markdown",
   "metadata": {},
   "source": [
    "Faz sentido! A chance de ser spam é alta. Isso acontece porque a implementação do sklearn faz uso de uma técnica que adiciona 1 a todos os elementos, pra evitar que um deles possa zerar alguma equação. Dessa forma, as contagens ficam:\n",
    "\n",
    "- Não spam (N) - 8 mensagens:\n",
    "   - Prezado: 9\n",
    "   - Sr.: 6\n",
    "   - Café: 4\n",
    "   - Dinheiro: 2\n",
    "- Spam (S) - 4 mensagens:\n",
    "   - Prezado: 3\n",
    "   - Sr.: 2\n",
    "   - Café: 1\n",
    "   - Dinheiro: 5"
   ]
  },
  {
   "cell_type": "markdown",
   "metadata": {},
   "source": [
    "**Para pensar:** As probabilidades de cada palavra dado o evento N muda? E dado o evento S? Se sim, qual o novo valor?"
   ]
  },
  {
   "cell_type": "code",
   "execution_count": null,
   "metadata": {},
   "outputs": [],
   "source": []
  },
  {
   "cell_type": "markdown",
   "metadata": {},
   "source": [
    "$$\\textrm{P(Prezado | N)} = 0.43$$\n",
    "\n",
    "$$\\textrm{P(Sr. | N)} = 0.29$$\n",
    "\n",
    "$$\\textrm{P(Café | N)} = 0.19$$\n",
    "\n",
    "$$\\textrm{P(Dinheiro | N)} = 0.09$$\n",
    "\n",
    "$$\\textrm{P(Prezado | S)} = 0.27$$\n",
    "\n",
    "$$\\textrm{P(Sr. | S)} = 0.18$$\n",
    "\n",
    "$$\\textrm{P(Café | S)} = 0.09$$\n",
    "\n",
    "$$\\textrm{P(Dinheiro | S)} = 0.45$$\n"
   ]
  },
  {
   "cell_type": "markdown",
   "metadata": {},
   "source": [
    "**Para pensar:** Qual a probabilidade de ser spam dado que a mensagem é \"Café Dinheiro Dinheiro Dinheiro\"?"
   ]
  },
  {
   "cell_type": "code",
   "execution_count": null,
   "metadata": {},
   "outputs": [],
   "source": []
  },
  {
   "cell_type": "code",
   "execution_count": null,
   "metadata": {},
   "outputs": [],
   "source": []
  },
  {
   "cell_type": "code",
   "execution_count": null,
   "metadata": {},
   "outputs": [],
   "source": []
  },
  {
   "cell_type": "code",
   "execution_count": null,
   "metadata": {},
   "outputs": [],
   "source": []
  },
  {
   "cell_type": "code",
   "execution_count": null,
   "metadata": {},
   "outputs": [],
   "source": []
  },
  {
   "cell_type": "code",
   "execution_count": null,
   "metadata": {},
   "outputs": [],
   "source": []
  },
  {
   "cell_type": "code",
   "execution_count": null,
   "metadata": {},
   "outputs": [],
   "source": []
  },
  {
   "cell_type": "code",
   "execution_count": null,
   "metadata": {},
   "outputs": [],
   "source": []
  },
  {
   "cell_type": "code",
   "execution_count": null,
   "metadata": {},
   "outputs": [],
   "source": []
  },
  {
   "cell_type": "code",
   "execution_count": null,
   "metadata": {},
   "outputs": [],
   "source": []
  },
  {
   "cell_type": "code",
   "execution_count": null,
   "metadata": {},
   "outputs": [],
   "source": []
  },
  {
   "cell_type": "markdown",
   "metadata": {},
   "source": [
    "Os números não batem na vírgula. Isso é esperado, acontece porque fizemos uma série de aproximações, mas agora faz mais sentido. Tomando esse fator como step usado no sklearn, podemos recalcular a probabilidade que tínhamos achado anteriormente:\n",
    "\n",
    "\n",
    "$$\\textrm{P(N | Prezado Sr.)} \\propto \\textrm{P(N) x P(Prezado | N) x P(Sr. | N)} = 0.67 x 0.43 x 0.29 = 0.083$$\n",
    "\n",
    "$$\\textrm{P(S | Prezado Sr.)} \\propto \\textrm{P(S) x P(Prezado | S) x P(Sr. | S)} = 0.33 x 0.27 x 0.18 = 0.016$$\n",
    "\n",
    "Normalizando:"
   ]
  },
  {
   "cell_type": "markdown",
   "metadata": {},
   "source": [
    "### Outros Naive Bayes"
   ]
  },
  {
   "cell_type": "code",
   "execution_count": null,
   "metadata": {},
   "outputs": [],
   "source": [
    "df = pd.DataFrame([[1 , 0 , 1 , 1],\n",
    "                   [1 , 1 , 1 , 1],\n",
    "                   [0 , 1 , 0 , 0],\n",
    "                   [0 , 1 , 1 , 0],\n",
    "                   [1 , 0 , 0 , 0],\n",
    "                   [0 , 1 , 0 , 0],\n",
    "                   [0 , 0 , 1 , 0],\n",
    "                   [0 , 1 , 0 , 0],\n",
    "                   [1 , 0 , 0 , 0],\n",
    "                   [0 , 0 , 0 , 0],\n",
    "                   [0 , 1 , 0 , 0],\n",
    "                   [0 , 0 , 1 , 0]], columns = ['MA', 'MD', 'PG', 'F'])"
   ]
  },
  {
   "cell_type": "code",
   "execution_count": null,
   "metadata": {},
   "outputs": [],
   "source": [
    "MA: Mensagem Anonima\n",
    "MD: Multiplo Destinatario\n",
    "PG: Provedor Gratuito\n",
    "F:  Spam ou não"
   ]
  },
  {
   "cell_type": "code",
   "execution_count": null,
   "metadata": {},
   "outputs": [],
   "source": [
    "x_treino = df.loc[:, :'PG']\n",
    "y_treino = df.loc[:, 'F']\n",
    "\n",
    "modelo = MultinomialNB()\n",
    "modelo.fit(x_treino, y_treino)"
   ]
  },
  {
   "cell_type": "code",
   "execution_count": null,
   "metadata": {},
   "outputs": [],
   "source": [
    "nova_instancia = pd.DataFrame({\n",
    "    'MA': [1],\n",
    "    'MD': [1],\n",
    "    'PG': [1]\n",
    "})\n",
    "\n",
    "modelo.predict_proba(nova_instancia)"
   ]
  },
  {
   "cell_type": "code",
   "execution_count": null,
   "metadata": {},
   "outputs": [],
   "source": [
    "from sklearn.naive_bayes import BernoulliNB"
   ]
  },
  {
   "cell_type": "code",
   "execution_count": null,
   "metadata": {},
   "outputs": [],
   "source": [
    "x_treino = df.loc[:, :'PG']\n",
    "y_treino = df.loc[:, 'F']\n",
    "\n",
    "modelo = BernoulliNB()\n",
    "modelo.fit(x_treino, y_treino)"
   ]
  },
  {
   "cell_type": "code",
   "execution_count": null,
   "metadata": {},
   "outputs": [],
   "source": [
    "nova_instancia = pd.DataFrame({\n",
    "    'MA': [1],\n",
    "    'MD': [1],\n",
    "    'PG': [1]\n",
    "})\n",
    "\n",
    "modelo.predict_proba(nova_instancia)"
   ]
  },
  {
   "cell_type": "markdown",
   "metadata": {},
   "source": [
    "### Exercício Predição de Spam\n",
    "\n",
    "**Objetivo:** Fazer a predição de spam ou não spam no dataset de spam_ham.\n",
    "\n",
    "[Link para download do dataset](https://www.dropbox.com/s/h9wxw3ak6fq7bcs/spam_ham.csv?dl=0)\n",
    "    \n",
    "**Passo 1:** Preprocessamento\n",
    "- Transformar todas as strings em maiúsculo ou minúsculo\n",
    "- Remover pontuação\n",
    "- Realizar o split (criar tokens) onde tem espaço, criando para cada linha, uma lista de palavras\n",
    "- Determinar a contagem total de todas as palavras - pode usar dicionário\n",
    "- Escolher as 100 palavras que mais ocorrem\n",
    "- Para cada mensagem, determinar as ocorrências dessas 100 palavras escolhidas\n",
    "\n",
    "**Passo 2:** Modelagem\n",
    "- Escolher qual Naive Bayes utilizaremos\n",
    "- Fazer o ajuste\n",
    "\n",
    "**Passo 3:** Avaliação\n",
    "- Extrair as métricas de avaliação\n",
    "    - ROC AUC\n",
    "    - Gini\n",
    "    - Acurácia\n",
    "    - Precisão\n",
    "    - Especificidade\n",
    "    - ..."
   ]
  },
  {
   "cell_type": "code",
   "execution_count": null,
   "metadata": {},
   "outputs": [],
   "source": []
  },
  {
   "cell_type": "code",
   "execution_count": null,
   "metadata": {},
   "outputs": [],
   "source": []
  },
  {
   "cell_type": "code",
   "execution_count": null,
   "metadata": {},
   "outputs": [],
   "source": []
  },
  {
   "cell_type": "code",
   "execution_count": null,
   "metadata": {},
   "outputs": [],
   "source": []
  },
  {
   "cell_type": "code",
   "execution_count": null,
   "metadata": {},
   "outputs": [],
   "source": []
  },
  {
   "cell_type": "code",
   "execution_count": null,
   "metadata": {},
   "outputs": [],
   "source": []
  },
  {
   "cell_type": "code",
   "execution_count": null,
   "metadata": {},
   "outputs": [],
   "source": []
  }
 ],
 "metadata": {
  "kernelspec": {
   "display_name": "Python 3 (ipykernel)",
   "language": "python",
   "name": "python3"
  },
  "language_info": {
   "codemirror_mode": {
    "name": "ipython",
    "version": 3
   },
   "file_extension": ".py",
   "mimetype": "text/x-python",
   "name": "python",
   "nbconvert_exporter": "python",
   "pygments_lexer": "ipython3",
   "version": "3.9.12"
  }
 },
 "nbformat": 4,
 "nbformat_minor": 4
}
