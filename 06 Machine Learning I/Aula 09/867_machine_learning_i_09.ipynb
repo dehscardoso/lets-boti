{
 "cells": [
  {
   "cell_type": "markdown",
   "id": "4838cc9d",
   "metadata": {},
   "source": [
    "# Na aula anterior..."
   ]
  },
  {
   "cell_type": "markdown",
   "id": "24bcd112",
   "metadata": {},
   "source": [
    "Por que o algoritmo se chama **Naive** Bayes?"
   ]
  },
  {
   "cell_type": "raw",
   "id": "59a35d29",
   "metadata": {},
   "source": [
    "Algoritmo ingênuo e não considera correlação entre as variáveis."
   ]
  },
  {
   "cell_type": "markdown",
   "id": "72b76821",
   "metadata": {},
   "source": [
    "Como escolhemos a nossa resposta a partir do Naive Bayes?"
   ]
  },
  {
   "cell_type": "raw",
   "id": "fda7599a",
   "metadata": {},
   "source": [
    "Escolhemos a maior probabilidade"
   ]
  },
  {
   "cell_type": "markdown",
   "id": "4168fe51",
   "metadata": {},
   "source": [
    "Por que as probabilidades das categorias eram diferentes quando calculadas manualmente e calculadas pelo modelo sklearn?"
   ]
  },
  {
   "cell_type": "raw",
   "id": "5da5afc2",
   "metadata": {},
   "source": [
    "Por conta do parâmetro alpha que soma 1 a todas as palavras"
   ]
  },
  {
   "cell_type": "markdown",
   "id": "732f0522",
   "metadata": {},
   "source": [
    "Por que existem vários tipos de Naive Bayes no sklearn?"
   ]
  },
  {
   "cell_type": "raw",
   "id": "06ad0af2",
   "metadata": {},
   "source": [
    "Em função da distribuição das variáveis explicativas"
   ]
  },
  {
   "cell_type": "markdown",
   "id": "b3bccf9a",
   "metadata": {},
   "source": [
    "Vantagem do Naive Bayes?"
   ]
  },
  {
   "cell_type": "raw",
   "id": "64e11d98",
   "metadata": {},
   "source": [
    "Simples\n",
    "Explicabilidade\n",
    "Probabilidades de classificação\n",
    "Custo computacional"
   ]
  },
  {
   "cell_type": "markdown",
   "id": "3836b907",
   "metadata": {},
   "source": [
    "# Lembretes"
   ]
  },
  {
   "cell_type": "markdown",
   "id": "e0d38153",
   "metadata": {},
   "source": [
    "- Exercício no Class! - 11/set\n",
    "- Projeto no Class! - 11/set\n",
    "- Última aula, então avaliação do módulo"
   ]
  },
  {
   "cell_type": "code",
   "execution_count": 1,
   "id": "5fbbfc9b",
   "metadata": {},
   "outputs": [],
   "source": [
    "from sklearn.tree import DecisionTreeClassifier"
   ]
  },
  {
   "cell_type": "code",
   "execution_count": 2,
   "id": "db98cf3d",
   "metadata": {},
   "outputs": [],
   "source": [
    "modelo = DecisionTreeClassifier()"
   ]
  },
  {
   "cell_type": "code",
   "execution_count": 18,
   "id": "6df8e999",
   "metadata": {},
   "outputs": [],
   "source": [
    "class Pessoa:\n",
    "    \n",
    "    def __init__(self, nome):\n",
    "        self.nome = nome\n",
    "        \n",
    "    def saudacao(self):\n",
    "        return f'oi, meu nome é {self.nome}'"
   ]
  },
  {
   "cell_type": "code",
   "execution_count": 19,
   "id": "238915a1",
   "metadata": {},
   "outputs": [],
   "source": [
    "p1 = Pessoa(nome = 'Rychard')\n",
    "p2 = Pessoa(nome = 'Bruno')\n",
    "p3 = Pessoa(nome = 'Telson')"
   ]
  },
  {
   "cell_type": "code",
   "execution_count": 20,
   "id": "de5a8690",
   "metadata": {},
   "outputs": [
    {
     "data": {
      "text/plain": [
       "'oi, meu nome é Rychard'"
      ]
     },
     "execution_count": 20,
     "metadata": {},
     "output_type": "execute_result"
    }
   ],
   "source": [
    "p1.saudacao()"
   ]
  },
  {
   "cell_type": "code",
   "execution_count": null,
   "id": "bb673f8a",
   "metadata": {},
   "outputs": [],
   "source": [
    "from sklearn.tree import DecisionTreeClassifier\n",
    "\n",
    "class RandomForest:\n",
    "\n",
    "    ## TODO se achar necessário, adicionar novos parâmetros no construtor\n",
    "    def __init__(self, n_arvores, modelo):\n",
    "        self.n_arvores = n_arvores\n",
    "        self.modelo = modelo\n",
    "\n",
    "    def __repr__(self):\n",
    "        return f'Random Classifier com {self.n_arvores} modelos do tipo {str(self.modelo)}'\n",
    "\n",
    "    # TODO ajustar método fit\n",
    "    def fit(self, x, y):\n",
    "\n",
    "        self.modelo.fit(x, y)\n",
    "        return\n",
    "\n",
    "    # TODO criar método predict\n",
    "    def predict(self, x):\n",
    "\n",
    "        return"
   ]
  },
  {
   "cell_type": "markdown",
   "id": "de4c47b1",
   "metadata": {},
   "source": [
    "# Hoje!"
   ]
  },
  {
   "cell_type": "markdown",
   "id": "84819cac",
   "metadata": {},
   "source": [
    "## Pipeline"
   ]
  },
  {
   "cell_type": "code",
   "execution_count": 18,
   "id": "d09a555f",
   "metadata": {},
   "outputs": [],
   "source": [
    "import numpy as np\n",
    "import pandas as pd\n",
    "import matplotlib.pyplot as plt\n",
    "\n",
    "\n",
    "from sklearn.model_selection import train_test_split\n",
    "from sklearn.metrics import roc_auc_score\n",
    "from sklearn.preprocessing import OrdinalEncoder, MinMaxScaler\n",
    "from sklearn.impute import SimpleImputer, KNNImputer\n",
    "\n",
    "from sklearn.neighbors import KNeighborsClassifier"
   ]
  },
  {
   "cell_type": "code",
   "execution_count": 19,
   "id": "dcc1e4e8",
   "metadata": {},
   "outputs": [
    {
     "data": {
      "text/html": [
       "<div>\n",
       "<style scoped>\n",
       "    .dataframe tbody tr th:only-of-type {\n",
       "        vertical-align: middle;\n",
       "    }\n",
       "\n",
       "    .dataframe tbody tr th {\n",
       "        vertical-align: top;\n",
       "    }\n",
       "\n",
       "    .dataframe thead th {\n",
       "        text-align: right;\n",
       "    }\n",
       "</style>\n",
       "<table border=\"1\" class=\"dataframe\">\n",
       "  <thead>\n",
       "    <tr style=\"text-align: right;\">\n",
       "      <th></th>\n",
       "      <th>PassengerId</th>\n",
       "      <th>Survived</th>\n",
       "      <th>Pclass</th>\n",
       "      <th>Name</th>\n",
       "      <th>Sex</th>\n",
       "      <th>Age</th>\n",
       "      <th>SibSp</th>\n",
       "      <th>Parch</th>\n",
       "      <th>Ticket</th>\n",
       "      <th>Fare</th>\n",
       "      <th>Cabin</th>\n",
       "      <th>Embarked</th>\n",
       "    </tr>\n",
       "  </thead>\n",
       "  <tbody>\n",
       "    <tr>\n",
       "      <th>0</th>\n",
       "      <td>1</td>\n",
       "      <td>0</td>\n",
       "      <td>3</td>\n",
       "      <td>Braund, Mr. Owen Harris</td>\n",
       "      <td>male</td>\n",
       "      <td>22.0</td>\n",
       "      <td>1</td>\n",
       "      <td>0</td>\n",
       "      <td>A/5 21171</td>\n",
       "      <td>7.2500</td>\n",
       "      <td>NaN</td>\n",
       "      <td>S</td>\n",
       "    </tr>\n",
       "    <tr>\n",
       "      <th>1</th>\n",
       "      <td>2</td>\n",
       "      <td>1</td>\n",
       "      <td>1</td>\n",
       "      <td>Cumings, Mrs. John Bradley (Florence Briggs Th...</td>\n",
       "      <td>female</td>\n",
       "      <td>38.0</td>\n",
       "      <td>1</td>\n",
       "      <td>0</td>\n",
       "      <td>PC 17599</td>\n",
       "      <td>71.2833</td>\n",
       "      <td>C85</td>\n",
       "      <td>C</td>\n",
       "    </tr>\n",
       "    <tr>\n",
       "      <th>2</th>\n",
       "      <td>3</td>\n",
       "      <td>1</td>\n",
       "      <td>3</td>\n",
       "      <td>Heikkinen, Miss. Laina</td>\n",
       "      <td>female</td>\n",
       "      <td>26.0</td>\n",
       "      <td>0</td>\n",
       "      <td>0</td>\n",
       "      <td>STON/O2. 3101282</td>\n",
       "      <td>7.9250</td>\n",
       "      <td>NaN</td>\n",
       "      <td>S</td>\n",
       "    </tr>\n",
       "    <tr>\n",
       "      <th>3</th>\n",
       "      <td>4</td>\n",
       "      <td>1</td>\n",
       "      <td>1</td>\n",
       "      <td>Futrelle, Mrs. Jacques Heath (Lily May Peel)</td>\n",
       "      <td>female</td>\n",
       "      <td>35.0</td>\n",
       "      <td>1</td>\n",
       "      <td>0</td>\n",
       "      <td>113803</td>\n",
       "      <td>53.1000</td>\n",
       "      <td>C123</td>\n",
       "      <td>S</td>\n",
       "    </tr>\n",
       "    <tr>\n",
       "      <th>4</th>\n",
       "      <td>5</td>\n",
       "      <td>0</td>\n",
       "      <td>3</td>\n",
       "      <td>Allen, Mr. William Henry</td>\n",
       "      <td>male</td>\n",
       "      <td>35.0</td>\n",
       "      <td>0</td>\n",
       "      <td>0</td>\n",
       "      <td>373450</td>\n",
       "      <td>8.0500</td>\n",
       "      <td>NaN</td>\n",
       "      <td>S</td>\n",
       "    </tr>\n",
       "  </tbody>\n",
       "</table>\n",
       "</div>"
      ],
      "text/plain": [
       "   PassengerId  Survived  Pclass  \\\n",
       "0            1         0       3   \n",
       "1            2         1       1   \n",
       "2            3         1       3   \n",
       "3            4         1       1   \n",
       "4            5         0       3   \n",
       "\n",
       "                                                Name     Sex   Age  SibSp  \\\n",
       "0                            Braund, Mr. Owen Harris    male  22.0      1   \n",
       "1  Cumings, Mrs. John Bradley (Florence Briggs Th...  female  38.0      1   \n",
       "2                             Heikkinen, Miss. Laina  female  26.0      0   \n",
       "3       Futrelle, Mrs. Jacques Heath (Lily May Peel)  female  35.0      1   \n",
       "4                           Allen, Mr. William Henry    male  35.0      0   \n",
       "\n",
       "   Parch            Ticket     Fare Cabin Embarked  \n",
       "0      0         A/5 21171   7.2500   NaN        S  \n",
       "1      0          PC 17599  71.2833   C85        C  \n",
       "2      0  STON/O2. 3101282   7.9250   NaN        S  \n",
       "3      0            113803  53.1000  C123        S  \n",
       "4      0            373450   8.0500   NaN        S  "
      ]
     },
     "execution_count": 19,
     "metadata": {},
     "output_type": "execute_result"
    }
   ],
   "source": [
    "df = pd.read_csv('dados/titanic.csv')\n",
    "df.head()"
   ]
  },
  {
   "cell_type": "code",
   "execution_count": 33,
   "id": "23b091e3",
   "metadata": {},
   "outputs": [],
   "source": [
    "var_expl = ['Sex', 'Embarked']\n",
    "var_resp = 'Survived'\n",
    "\n",
    "df.dropna(subset = var_expl, inplace = True)\n",
    "\n",
    "df_treino, df_teste = train_test_split(df, test_size = 0.2, random_state = 1)\n",
    "\n",
    "x_treino = df_treino[var_expl].copy()\n",
    "x_teste = df_teste[var_expl].copy()\n",
    "\n",
    "y_treino = df_treino[var_resp].copy()\n",
    "y_teste = df_teste[var_resp].copy()"
   ]
  },
  {
   "cell_type": "code",
   "execution_count": 34,
   "id": "c02fa31f",
   "metadata": {},
   "outputs": [
    {
     "data": {
      "text/html": [
       "<div>\n",
       "<style scoped>\n",
       "    .dataframe tbody tr th:only-of-type {\n",
       "        vertical-align: middle;\n",
       "    }\n",
       "\n",
       "    .dataframe tbody tr th {\n",
       "        vertical-align: top;\n",
       "    }\n",
       "\n",
       "    .dataframe thead th {\n",
       "        text-align: right;\n",
       "    }\n",
       "</style>\n",
       "<table border=\"1\" class=\"dataframe\">\n",
       "  <thead>\n",
       "    <tr style=\"text-align: right;\">\n",
       "      <th></th>\n",
       "      <th>Sex</th>\n",
       "      <th>Embarked</th>\n",
       "    </tr>\n",
       "  </thead>\n",
       "  <tbody>\n",
       "    <tr>\n",
       "      <th>121</th>\n",
       "      <td>male</td>\n",
       "      <td>S</td>\n",
       "    </tr>\n",
       "    <tr>\n",
       "      <th>687</th>\n",
       "      <td>male</td>\n",
       "      <td>S</td>\n",
       "    </tr>\n",
       "    <tr>\n",
       "      <th>790</th>\n",
       "      <td>male</td>\n",
       "      <td>Q</td>\n",
       "    </tr>\n",
       "    <tr>\n",
       "      <th>837</th>\n",
       "      <td>male</td>\n",
       "      <td>S</td>\n",
       "    </tr>\n",
       "    <tr>\n",
       "      <th>659</th>\n",
       "      <td>male</td>\n",
       "      <td>C</td>\n",
       "    </tr>\n",
       "  </tbody>\n",
       "</table>\n",
       "</div>"
      ],
      "text/plain": [
       "      Sex Embarked\n",
       "121  male        S\n",
       "687  male        S\n",
       "790  male        Q\n",
       "837  male        S\n",
       "659  male        C"
      ]
     },
     "execution_count": 34,
     "metadata": {},
     "output_type": "execute_result"
    }
   ],
   "source": [
    "x_treino.head()"
   ]
  },
  {
   "cell_type": "markdown",
   "id": "ec5888fc",
   "metadata": {},
   "source": [
    "### Sem pipeline"
   ]
  },
  {
   "cell_type": "code",
   "execution_count": 35,
   "id": "cd546c42",
   "metadata": {},
   "outputs": [],
   "source": [
    "oe = OrdinalEncoder()\n",
    "oe.fit(x_treino)\n",
    "x_treino = oe.transform(x_treino)\n",
    "x_teste = oe.transform(x_teste)\n",
    "\n",
    "minmax = MinMaxScaler()\n",
    "minmax.fit(x_treino)\n",
    "x_treino = minmax.transform(x_treino)\n",
    "x_teste = minmax.transform(x_teste)"
   ]
  },
  {
   "cell_type": "code",
   "execution_count": 36,
   "id": "68999235",
   "metadata": {},
   "outputs": [
    {
     "data": {
      "text/plain": [
       "array([[1. , 1. ],\n",
       "       [1. , 1. ],\n",
       "       [1. , 0.5],\n",
       "       ...,\n",
       "       [1. , 0. ],\n",
       "       [1. , 1. ],\n",
       "       [1. , 1. ]])"
      ]
     },
     "execution_count": 36,
     "metadata": {},
     "output_type": "execute_result"
    }
   ],
   "source": [
    "x_treino"
   ]
  },
  {
   "cell_type": "code",
   "execution_count": 37,
   "id": "c3b2c291",
   "metadata": {},
   "outputs": [],
   "source": [
    "modelo = KNeighborsClassifier()\n",
    "modelo.fit(x_treino, y_treino)\n",
    "\n",
    "y_teste_pred = modelo.predict_proba(x_teste)[:, 1]"
   ]
  },
  {
   "cell_type": "code",
   "execution_count": 38,
   "id": "40dbfc88",
   "metadata": {},
   "outputs": [
    {
     "data": {
      "text/plain": [
       "array([0.8, 0.8, 0.2, 0.8, 0.2, 0.8, 0.8, 0.8, 0.2, 0.8, 0.2, 0.6, 0.2,\n",
       "       0.8, 0.2, 0.8, 0.2, 0.8, 0.8, 0.2, 0.2, 0.2, 0.2, 0.2, 0.2, 0.8,\n",
       "       0.6, 0.2, 0.2, 0.8, 0.8, 0.2, 0.8, 0.2, 0.2, 0.8, 0.2, 0.2, 0.8,\n",
       "       0.2, 0.8, 0.2, 0.2, 0.2, 0.2, 0.8, 0.8, 0.2, 0.8, 0.2, 0.2, 0.2,\n",
       "       0.2, 0.8, 0.2, 0.8, 0.2, 0.2, 0.2, 0.2, 0.2, 0.2, 0.2, 0.2, 0.2,\n",
       "       0.8, 0.2, 0.2, 0.2, 0.8, 0.2, 0.8, 0.8, 0.2, 0.8, 0.8, 0.2, 0.2,\n",
       "       0.2, 0.2, 0.2, 0.2, 0.6, 0.6, 0.2, 0.2, 0.8, 0.2, 0.2, 0.8, 0.2,\n",
       "       0.8, 0.2, 0.2, 0.6, 0.2, 0.8, 0.8, 0.6, 0.8, 0.2, 0.8, 0.2, 0.2,\n",
       "       0.2, 0.2, 0.6, 0.2, 0.2, 0.2, 0.2, 0.2, 0.2, 0.6, 0.8, 0.6, 0.2,\n",
       "       0.8, 0.6, 0.2, 0.2, 0.6, 0.8, 0.2, 0.8, 0.2, 0.2, 0.2, 0.2, 0.8,\n",
       "       0.8, 0.2, 0.2, 0.2, 0.8, 0.8, 0.2, 0.2, 0.2, 0.2, 0.2, 0.8, 0.2,\n",
       "       0.8, 0.2, 0.2, 0.6, 0.6, 0.8, 0.2, 0.2, 0.2, 0.6, 0.2, 0.2, 0.8,\n",
       "       0.2, 0.8, 0.2, 0.2, 0.2, 0.2, 0.8, 0.2, 0.2, 0.2, 0.6, 0.6, 0.2,\n",
       "       0.8, 0.2, 0.2, 0.2, 0.2, 0.2, 0.2, 0.2, 0.2])"
      ]
     },
     "execution_count": 38,
     "metadata": {},
     "output_type": "execute_result"
    }
   ],
   "source": [
    "y_teste_pred"
   ]
  },
  {
   "cell_type": "code",
   "execution_count": 39,
   "id": "05512e2e",
   "metadata": {},
   "outputs": [
    {
     "data": {
      "text/plain": [
       "0.8114155251141552"
      ]
     },
     "execution_count": 39,
     "metadata": {},
     "output_type": "execute_result"
    }
   ],
   "source": [
    "roc_auc_score(y_teste, y_teste_pred)"
   ]
  },
  {
   "cell_type": "markdown",
   "id": "1b76c62f",
   "metadata": {},
   "source": [
    "### Usando pipeline"
   ]
  },
  {
   "cell_type": "code",
   "execution_count": 40,
   "id": "ee2c52ba",
   "metadata": {},
   "outputs": [],
   "source": [
    "from sklearn.pipeline import Pipeline"
   ]
  },
  {
   "cell_type": "code",
   "execution_count": 43,
   "id": "4382412c",
   "metadata": {},
   "outputs": [],
   "source": [
    "var_expl = ['Sex', 'Embarked']\n",
    "var_resp = 'Survived'\n",
    "\n",
    "df.dropna(subset = var_expl, inplace = True)\n",
    "\n",
    "df_treino, df_teste = train_test_split(df, test_size = 0.2, random_state = 1)\n",
    "\n",
    "x_treino = df_treino[var_expl].copy()\n",
    "x_teste = df_teste[var_expl].copy()\n",
    "\n",
    "y_treino = df_treino[var_resp].copy()\n",
    "y_teste = df_teste[var_resp].copy()"
   ]
  },
  {
   "cell_type": "code",
   "execution_count": 57,
   "id": "db09e27d",
   "metadata": {},
   "outputs": [],
   "source": [
    "pipe = Pipeline(steps = [\n",
    "    ('passo_1', OrdinalEncoder()),\n",
    "    ('passo_2', MinMaxScaler()),\n",
    "    ('passo_3', KNeighborsClassifier(n_neighbors = 3)) \n",
    "])"
   ]
  },
  {
   "cell_type": "code",
   "execution_count": 58,
   "id": "ff4ba6c2",
   "metadata": {},
   "outputs": [
    {
     "data": {
      "text/plain": [
       "Pipeline(steps=[('passo_1', OrdinalEncoder()), ('passo_2', MinMaxScaler()),\n",
       "                ('passo_3', KNeighborsClassifier(n_neighbors=3))])"
      ]
     },
     "execution_count": 58,
     "metadata": {},
     "output_type": "execute_result"
    }
   ],
   "source": [
    "pipe.fit(x_treino, y_treino)"
   ]
  },
  {
   "cell_type": "code",
   "execution_count": 59,
   "id": "9732f153",
   "metadata": {},
   "outputs": [],
   "source": [
    "y_pred_teste = pipe.predict_proba(x_teste)[:, 1]"
   ]
  },
  {
   "cell_type": "code",
   "execution_count": 60,
   "id": "6c1f58fa",
   "metadata": {},
   "outputs": [
    {
     "data": {
      "text/plain": [
       "0.8114155251141552"
      ]
     },
     "execution_count": 60,
     "metadata": {},
     "output_type": "execute_result"
    }
   ],
   "source": [
    "roc_auc_score(y_teste, y_teste_pred)"
   ]
  },
  {
   "cell_type": "code",
   "execution_count": 48,
   "id": "cfecf5e6",
   "metadata": {},
   "outputs": [],
   "source": [
    "from sklearn.preprocessing import StandardScaler"
   ]
  },
  {
   "cell_type": "markdown",
   "id": "8cad6c72",
   "metadata": {},
   "source": [
    "**Exercício**: Contruir uma pipeline para fazer previsão dentro do iris, com modelo KNN e K = 10. Será necessário transformar os dados, utilizem o StandardScaler."
   ]
  },
  {
   "cell_type": "code",
   "execution_count": null,
   "id": "6f74531d",
   "metadata": {},
   "outputs": [],
   "source": [
    "max_depth = [2, 3, 5]\n",
    "min_samples_leaf = [0.01, 0.02, 0.05]\n",
    "min_impurity_decrease = [0.01, 0.02, 0.05]"
   ]
  },
  {
   "cell_type": "markdown",
   "id": "2c6505a2",
   "metadata": {},
   "source": [
    "## Otimização de Hiperparâmetros"
   ]
  },
  {
   "cell_type": "markdown",
   "id": "5eed6189",
   "metadata": {},
   "source": [
    "Nesse ponto do curso já vimos diversos tipos de modelos preditivos. Alguns são mais simples e possuem pouca variabilidade dentro dele, como a Regressão Logística e o Naive Bayes; outros possuem um nível de complexidade um pouco maior no que tange aos comportamentos que esses algoritmos podem ter ao modificar configurações intrísecas a eles, como o KNN e as Árvores de Decisão. Para o primeiro, precisamos definir um K e uso de pesos; para o segundo, precisamos definir profundidade máxima, quantidade mínima de exemplos por folha, quantidade mínima de exemplos por quebra, pesos das classes, entre outros diversos hiperparâmetros. A definição desses hiperparâmetros pode alterar completamente o comportamento de um modelo, sendo então uma etapa essencial para modelagem. Dessa forma, é importante descobrir quais são os hiperparâmetros que criarão o melhor modelo para o cenário em questão, qual são os \"números mágicos\" que otimizarão o aprendizado do meu. Para um ou até dois parâmetros esse processo pode ser feito facilmente \"na mão\". Porém, à medida que a quantidade de hiperparâmetros aumenta, a quantidade de testes que temos que fazer aumentará *exponencialmente* e será bem útil fazer uso de algumas técnicas conhecidas.\n",
    "\n",
    "### Diferenças entre Hiperparâmetro e Parâmetro\n",
    "\n",
    "As nomenclaturas podem parecer um pouco confusas a primeira vista, mas são perceptíveis ao enxergar com mais atenção. Um parâmetro de um modelo é algo que será ajustado com no processo de *treinamento* dele. Como exemplo, podem ser citados os coeficientes da equação em uma Regressão Linear ou Logística ou as regras criadas pela Árvore de Decisão. Já um hiperparâmetro é uma configuração pré-definida de como o modelo se ajustará aos dados, definindo características construtivas do modelo.\n",
    "\n",
    "### Grid Search\n",
    "\n",
    "Talvez a primeira coisa que qualquer pessoa pense ao se deparar com esse problema é criar listas de parâmetros e testar todas as combinações possíveis. Logo, ao tentar otimizar 2 hiperparâmetros com três possibilidades em cada, testaremos então $3 \\times 3 = 9$ modelos. O modelo que tiver melhor desempenho, será o escolhido.\n",
    "\n",
    "<img src=\"https://s3-sa-east-1.amazonaws.com/lcpi/14f61637-c80b-4ec3-8a1f-0c6e547ecb8d.png\" style=\"height: 250px\"/>"
   ]
  },
  {
   "cell_type": "code",
   "execution_count": 20,
   "id": "d424b880",
   "metadata": {},
   "outputs": [],
   "source": [
    "from sklearn.model_selection import GridSearchCV"
   ]
  },
  {
   "cell_type": "code",
   "execution_count": 21,
   "id": "93f43a0b",
   "metadata": {},
   "outputs": [],
   "source": [
    "var_expl = ['Sex', 'Embarked']\n",
    "var_resp = 'Survived'\n",
    "\n",
    "df.dropna(subset = var_expl, inplace = True)\n",
    "\n",
    "df_treino, df_teste = train_test_split(df, test_size = 0.2, random_state = 1)\n",
    "\n",
    "x_treino = df_treino[var_expl].copy()\n",
    "x_teste = df_teste[var_expl].copy()\n",
    "\n",
    "y_treino = df_treino[var_resp].copy()\n",
    "y_teste = df_teste[var_resp].copy()"
   ]
  },
  {
   "cell_type": "code",
   "execution_count": 22,
   "id": "44610a6e",
   "metadata": {},
   "outputs": [],
   "source": [
    "oe = OrdinalEncoder()\n",
    "oe.fit(x_treino)\n",
    "x_treino = oe.transform(x_treino)\n",
    "x_teste = oe.transform(x_teste)\n",
    "\n",
    "minmax = MinMaxScaler()\n",
    "minmax.fit(x_treino)\n",
    "x_treino = minmax.transform(x_treino)\n",
    "x_teste = minmax.transform(x_teste)"
   ]
  },
  {
   "cell_type": "code",
   "execution_count": 23,
   "id": "0c5f2a15",
   "metadata": {},
   "outputs": [
    {
     "name": "stdout",
     "output_type": "stream",
     "text": [
      "Wall time: 1.7 s\n"
     ]
    },
    {
     "data": {
      "text/html": [
       "<style>#sk-container-id-3 {color: black;background-color: white;}#sk-container-id-3 pre{padding: 0;}#sk-container-id-3 div.sk-toggleable {background-color: white;}#sk-container-id-3 label.sk-toggleable__label {cursor: pointer;display: block;width: 100%;margin-bottom: 0;padding: 0.3em;box-sizing: border-box;text-align: center;}#sk-container-id-3 label.sk-toggleable__label-arrow:before {content: \"▸\";float: left;margin-right: 0.25em;color: #696969;}#sk-container-id-3 label.sk-toggleable__label-arrow:hover:before {color: black;}#sk-container-id-3 div.sk-estimator:hover label.sk-toggleable__label-arrow:before {color: black;}#sk-container-id-3 div.sk-toggleable__content {max-height: 0;max-width: 0;overflow: hidden;text-align: left;background-color: #f0f8ff;}#sk-container-id-3 div.sk-toggleable__content pre {margin: 0.2em;color: black;border-radius: 0.25em;background-color: #f0f8ff;}#sk-container-id-3 input.sk-toggleable__control:checked~div.sk-toggleable__content {max-height: 200px;max-width: 100%;overflow: auto;}#sk-container-id-3 input.sk-toggleable__control:checked~label.sk-toggleable__label-arrow:before {content: \"▾\";}#sk-container-id-3 div.sk-estimator input.sk-toggleable__control:checked~label.sk-toggleable__label {background-color: #d4ebff;}#sk-container-id-3 div.sk-label input.sk-toggleable__control:checked~label.sk-toggleable__label {background-color: #d4ebff;}#sk-container-id-3 input.sk-hidden--visually {border: 0;clip: rect(1px 1px 1px 1px);clip: rect(1px, 1px, 1px, 1px);height: 1px;margin: -1px;overflow: hidden;padding: 0;position: absolute;width: 1px;}#sk-container-id-3 div.sk-estimator {font-family: monospace;background-color: #f0f8ff;border: 1px dotted black;border-radius: 0.25em;box-sizing: border-box;margin-bottom: 0.5em;}#sk-container-id-3 div.sk-estimator:hover {background-color: #d4ebff;}#sk-container-id-3 div.sk-parallel-item::after {content: \"\";width: 100%;border-bottom: 1px solid gray;flex-grow: 1;}#sk-container-id-3 div.sk-label:hover label.sk-toggleable__label {background-color: #d4ebff;}#sk-container-id-3 div.sk-serial::before {content: \"\";position: absolute;border-left: 1px solid gray;box-sizing: border-box;top: 0;bottom: 0;left: 50%;z-index: 0;}#sk-container-id-3 div.sk-serial {display: flex;flex-direction: column;align-items: center;background-color: white;padding-right: 0.2em;padding-left: 0.2em;position: relative;}#sk-container-id-3 div.sk-item {position: relative;z-index: 1;}#sk-container-id-3 div.sk-parallel {display: flex;align-items: stretch;justify-content: center;background-color: white;position: relative;}#sk-container-id-3 div.sk-item::before, #sk-container-id-3 div.sk-parallel-item::before {content: \"\";position: absolute;border-left: 1px solid gray;box-sizing: border-box;top: 0;bottom: 0;left: 50%;z-index: -1;}#sk-container-id-3 div.sk-parallel-item {display: flex;flex-direction: column;z-index: 1;position: relative;background-color: white;}#sk-container-id-3 div.sk-parallel-item:first-child::after {align-self: flex-end;width: 50%;}#sk-container-id-3 div.sk-parallel-item:last-child::after {align-self: flex-start;width: 50%;}#sk-container-id-3 div.sk-parallel-item:only-child::after {width: 0;}#sk-container-id-3 div.sk-dashed-wrapped {border: 1px dashed gray;margin: 0 0.4em 0.5em 0.4em;box-sizing: border-box;padding-bottom: 0.4em;background-color: white;}#sk-container-id-3 div.sk-label label {font-family: monospace;font-weight: bold;display: inline-block;line-height: 1.2em;}#sk-container-id-3 div.sk-label-container {text-align: center;}#sk-container-id-3 div.sk-container {/* jupyter's `normalize.less` sets `[hidden] { display: none; }` but bootstrap.min.css set `[hidden] { display: none !important; }` so we also need the `!important` here to be able to override the default hidden behavior on the sphinx rendered scikit-learn.org. See: https://github.com/scikit-learn/scikit-learn/issues/21755 */display: inline-block !important;position: relative;}#sk-container-id-3 div.sk-text-repr-fallback {display: none;}</style><div id=\"sk-container-id-3\" class=\"sk-top-container\"><div class=\"sk-text-repr-fallback\"><pre>GridSearchCV(cv=5, estimator=KNeighborsClassifier(),\n",
       "             param_grid={&#x27;n_neighbors&#x27;: array([ 1,  2,  3,  4,  5,  6,  7,  8,  9, 10, 11, 12, 13, 14]),\n",
       "                         &#x27;p&#x27;: [1, 2, 3, 5],\n",
       "                         &#x27;weights&#x27;: [&#x27;uniform&#x27;, &#x27;distance&#x27;]})</pre><b>In a Jupyter environment, please rerun this cell to show the HTML representation or trust the notebook. <br />On GitHub, the HTML representation is unable to render, please try loading this page with nbviewer.org.</b></div><div class=\"sk-container\" hidden><div class=\"sk-item sk-dashed-wrapped\"><div class=\"sk-label-container\"><div class=\"sk-label sk-toggleable\"><input class=\"sk-toggleable__control sk-hidden--visually\" id=\"sk-estimator-id-7\" type=\"checkbox\" ><label for=\"sk-estimator-id-7\" class=\"sk-toggleable__label sk-toggleable__label-arrow\">GridSearchCV</label><div class=\"sk-toggleable__content\"><pre>GridSearchCV(cv=5, estimator=KNeighborsClassifier(),\n",
       "             param_grid={&#x27;n_neighbors&#x27;: array([ 1,  2,  3,  4,  5,  6,  7,  8,  9, 10, 11, 12, 13, 14]),\n",
       "                         &#x27;p&#x27;: [1, 2, 3, 5],\n",
       "                         &#x27;weights&#x27;: [&#x27;uniform&#x27;, &#x27;distance&#x27;]})</pre></div></div></div><div class=\"sk-parallel\"><div class=\"sk-parallel-item\"><div class=\"sk-item\"><div class=\"sk-label-container\"><div class=\"sk-label sk-toggleable\"><input class=\"sk-toggleable__control sk-hidden--visually\" id=\"sk-estimator-id-8\" type=\"checkbox\" ><label for=\"sk-estimator-id-8\" class=\"sk-toggleable__label sk-toggleable__label-arrow\">estimator: KNeighborsClassifier</label><div class=\"sk-toggleable__content\"><pre>KNeighborsClassifier()</pre></div></div></div><div class=\"sk-serial\"><div class=\"sk-item\"><div class=\"sk-estimator sk-toggleable\"><input class=\"sk-toggleable__control sk-hidden--visually\" id=\"sk-estimator-id-9\" type=\"checkbox\" ><label for=\"sk-estimator-id-9\" class=\"sk-toggleable__label sk-toggleable__label-arrow\">KNeighborsClassifier</label><div class=\"sk-toggleable__content\"><pre>KNeighborsClassifier()</pre></div></div></div></div></div></div></div></div></div></div>"
      ],
      "text/plain": [
       "GridSearchCV(cv=5, estimator=KNeighborsClassifier(),\n",
       "             param_grid={'n_neighbors': array([ 1,  2,  3,  4,  5,  6,  7,  8,  9, 10, 11, 12, 13, 14]),\n",
       "                         'p': [1, 2, 3, 5],\n",
       "                         'weights': ['uniform', 'distance']})"
      ]
     },
     "execution_count": 23,
     "metadata": {},
     "output_type": "execute_result"
    }
   ],
   "source": [
    "%%time\n",
    "\n",
    "modelo = KNeighborsClassifier()\n",
    "\n",
    "param = {\n",
    "    'n_neighbors': np.arange(1, 15),\n",
    "    'weights': ['uniform', 'distance'],\n",
    "    'p': [1, 2, 3, 5]\n",
    "}\n",
    "\n",
    "gscv = GridSearchCV(\n",
    "    estimator = modelo,\n",
    "    param_grid = param,\n",
    "    refit = True,\n",
    "    cv = 5\n",
    ")\n",
    "\n",
    "gscv.fit(x_treino, y_treino)"
   ]
  },
  {
   "cell_type": "code",
   "execution_count": 25,
   "id": "8b3a64d6",
   "metadata": {},
   "outputs": [
    {
     "data": {
      "text/plain": [
       "{'n_neighbors': 9, 'p': 1, 'weights': 'uniform'}"
      ]
     },
     "execution_count": 25,
     "metadata": {},
     "output_type": "execute_result"
    }
   ],
   "source": [
    "gscv.best_params_"
   ]
  },
  {
   "cell_type": "code",
   "execution_count": 26,
   "id": "1c62b831",
   "metadata": {},
   "outputs": [],
   "source": [
    "y_teste_pred = gscv.predict_proba(x_teste)[:, 1]"
   ]
  },
  {
   "cell_type": "code",
   "execution_count": 27,
   "id": "029b96bc",
   "metadata": {},
   "outputs": [
    {
     "data": {
      "text/plain": [
       "0.8322896281800392"
      ]
     },
     "execution_count": 27,
     "metadata": {},
     "output_type": "execute_result"
    }
   ],
   "source": [
    "roc_auc_score(y_teste, y_teste_pred)"
   ]
  },
  {
   "cell_type": "markdown",
   "id": "950b56f8",
   "metadata": {},
   "source": [
    "#### Otimizando um modelo que está dentro de uma pipeline"
   ]
  },
  {
   "cell_type": "code",
   "execution_count": 37,
   "id": "47aac0ba",
   "metadata": {},
   "outputs": [],
   "source": [
    "var_expl = ['Sex', 'Embarked']\n",
    "var_resp = 'Survived'\n",
    "\n",
    "df.dropna(subset = var_expl, inplace = True)\n",
    "\n",
    "df_treino, df_teste = train_test_split(df, test_size = 0.2, random_state = 1)\n",
    "\n",
    "x_treino = df_treino[var_expl].copy()\n",
    "x_teste = df_teste[var_expl].copy()\n",
    "\n",
    "y_treino = df_treino[var_resp].copy()\n",
    "y_teste = df_teste[var_resp].copy()\n",
    "\n",
    "pipe = Pipeline(steps = [\n",
    "    ('passo_1', OrdinalEncoder()),\n",
    "    ('passo_2', MinMaxScaler()),\n",
    "    ('passo_3', KNeighborsClassifier()) \n",
    "])"
   ]
  },
  {
   "cell_type": "code",
   "execution_count": 29,
   "id": "9ad9a5e7",
   "metadata": {},
   "outputs": [],
   "source": [
    "param = {\n",
    "    'passo_3__n_neighbors': np.arange(1, 15),\n",
    "    'passo_3__weights': ['uniform', 'distance'],\n",
    "    'passo_3__p': [1, 2, 3, 5]\n",
    "}\n",
    "\n",
    "gscv = GridSearchCV(\n",
    "    estimator = pipe,\n",
    "    param_grid = param,\n",
    "    refit = True,\n",
    "    scoring = 'accuracy',\n",
    "    cv = 5\n",
    ")"
   ]
  },
  {
   "cell_type": "code",
   "execution_count": 30,
   "id": "52540e8f",
   "metadata": {},
   "outputs": [
    {
     "data": {
      "text/html": [
       "<style>#sk-container-id-4 {color: black;background-color: white;}#sk-container-id-4 pre{padding: 0;}#sk-container-id-4 div.sk-toggleable {background-color: white;}#sk-container-id-4 label.sk-toggleable__label {cursor: pointer;display: block;width: 100%;margin-bottom: 0;padding: 0.3em;box-sizing: border-box;text-align: center;}#sk-container-id-4 label.sk-toggleable__label-arrow:before {content: \"▸\";float: left;margin-right: 0.25em;color: #696969;}#sk-container-id-4 label.sk-toggleable__label-arrow:hover:before {color: black;}#sk-container-id-4 div.sk-estimator:hover label.sk-toggleable__label-arrow:before {color: black;}#sk-container-id-4 div.sk-toggleable__content {max-height: 0;max-width: 0;overflow: hidden;text-align: left;background-color: #f0f8ff;}#sk-container-id-4 div.sk-toggleable__content pre {margin: 0.2em;color: black;border-radius: 0.25em;background-color: #f0f8ff;}#sk-container-id-4 input.sk-toggleable__control:checked~div.sk-toggleable__content {max-height: 200px;max-width: 100%;overflow: auto;}#sk-container-id-4 input.sk-toggleable__control:checked~label.sk-toggleable__label-arrow:before {content: \"▾\";}#sk-container-id-4 div.sk-estimator input.sk-toggleable__control:checked~label.sk-toggleable__label {background-color: #d4ebff;}#sk-container-id-4 div.sk-label input.sk-toggleable__control:checked~label.sk-toggleable__label {background-color: #d4ebff;}#sk-container-id-4 input.sk-hidden--visually {border: 0;clip: rect(1px 1px 1px 1px);clip: rect(1px, 1px, 1px, 1px);height: 1px;margin: -1px;overflow: hidden;padding: 0;position: absolute;width: 1px;}#sk-container-id-4 div.sk-estimator {font-family: monospace;background-color: #f0f8ff;border: 1px dotted black;border-radius: 0.25em;box-sizing: border-box;margin-bottom: 0.5em;}#sk-container-id-4 div.sk-estimator:hover {background-color: #d4ebff;}#sk-container-id-4 div.sk-parallel-item::after {content: \"\";width: 100%;border-bottom: 1px solid gray;flex-grow: 1;}#sk-container-id-4 div.sk-label:hover label.sk-toggleable__label {background-color: #d4ebff;}#sk-container-id-4 div.sk-serial::before {content: \"\";position: absolute;border-left: 1px solid gray;box-sizing: border-box;top: 0;bottom: 0;left: 50%;z-index: 0;}#sk-container-id-4 div.sk-serial {display: flex;flex-direction: column;align-items: center;background-color: white;padding-right: 0.2em;padding-left: 0.2em;position: relative;}#sk-container-id-4 div.sk-item {position: relative;z-index: 1;}#sk-container-id-4 div.sk-parallel {display: flex;align-items: stretch;justify-content: center;background-color: white;position: relative;}#sk-container-id-4 div.sk-item::before, #sk-container-id-4 div.sk-parallel-item::before {content: \"\";position: absolute;border-left: 1px solid gray;box-sizing: border-box;top: 0;bottom: 0;left: 50%;z-index: -1;}#sk-container-id-4 div.sk-parallel-item {display: flex;flex-direction: column;z-index: 1;position: relative;background-color: white;}#sk-container-id-4 div.sk-parallel-item:first-child::after {align-self: flex-end;width: 50%;}#sk-container-id-4 div.sk-parallel-item:last-child::after {align-self: flex-start;width: 50%;}#sk-container-id-4 div.sk-parallel-item:only-child::after {width: 0;}#sk-container-id-4 div.sk-dashed-wrapped {border: 1px dashed gray;margin: 0 0.4em 0.5em 0.4em;box-sizing: border-box;padding-bottom: 0.4em;background-color: white;}#sk-container-id-4 div.sk-label label {font-family: monospace;font-weight: bold;display: inline-block;line-height: 1.2em;}#sk-container-id-4 div.sk-label-container {text-align: center;}#sk-container-id-4 div.sk-container {/* jupyter's `normalize.less` sets `[hidden] { display: none; }` but bootstrap.min.css set `[hidden] { display: none !important; }` so we also need the `!important` here to be able to override the default hidden behavior on the sphinx rendered scikit-learn.org. See: https://github.com/scikit-learn/scikit-learn/issues/21755 */display: inline-block !important;position: relative;}#sk-container-id-4 div.sk-text-repr-fallback {display: none;}</style><div id=\"sk-container-id-4\" class=\"sk-top-container\"><div class=\"sk-text-repr-fallback\"><pre>GridSearchCV(cv=5,\n",
       "             estimator=Pipeline(steps=[(&#x27;passo_1&#x27;, OrdinalEncoder()),\n",
       "                                       (&#x27;passo_2&#x27;, MinMaxScaler()),\n",
       "                                       (&#x27;passo_3&#x27;, KNeighborsClassifier())]),\n",
       "             param_grid={&#x27;passo_3__n_neighbors&#x27;: array([ 1,  2,  3,  4,  5,  6,  7,  8,  9, 10, 11, 12, 13, 14]),\n",
       "                         &#x27;passo_3__p&#x27;: [1, 2, 3, 5],\n",
       "                         &#x27;passo_3__weights&#x27;: [&#x27;uniform&#x27;, &#x27;distance&#x27;]},\n",
       "             scoring=&#x27;accuracy&#x27;)</pre><b>In a Jupyter environment, please rerun this cell to show the HTML representation or trust the notebook. <br />On GitHub, the HTML representation is unable to render, please try loading this page with nbviewer.org.</b></div><div class=\"sk-container\" hidden><div class=\"sk-item sk-dashed-wrapped\"><div class=\"sk-label-container\"><div class=\"sk-label sk-toggleable\"><input class=\"sk-toggleable__control sk-hidden--visually\" id=\"sk-estimator-id-10\" type=\"checkbox\" ><label for=\"sk-estimator-id-10\" class=\"sk-toggleable__label sk-toggleable__label-arrow\">GridSearchCV</label><div class=\"sk-toggleable__content\"><pre>GridSearchCV(cv=5,\n",
       "             estimator=Pipeline(steps=[(&#x27;passo_1&#x27;, OrdinalEncoder()),\n",
       "                                       (&#x27;passo_2&#x27;, MinMaxScaler()),\n",
       "                                       (&#x27;passo_3&#x27;, KNeighborsClassifier())]),\n",
       "             param_grid={&#x27;passo_3__n_neighbors&#x27;: array([ 1,  2,  3,  4,  5,  6,  7,  8,  9, 10, 11, 12, 13, 14]),\n",
       "                         &#x27;passo_3__p&#x27;: [1, 2, 3, 5],\n",
       "                         &#x27;passo_3__weights&#x27;: [&#x27;uniform&#x27;, &#x27;distance&#x27;]},\n",
       "             scoring=&#x27;accuracy&#x27;)</pre></div></div></div><div class=\"sk-parallel\"><div class=\"sk-parallel-item\"><div class=\"sk-item\"><div class=\"sk-label-container\"><div class=\"sk-label sk-toggleable\"><input class=\"sk-toggleable__control sk-hidden--visually\" id=\"sk-estimator-id-11\" type=\"checkbox\" ><label for=\"sk-estimator-id-11\" class=\"sk-toggleable__label sk-toggleable__label-arrow\">estimator: Pipeline</label><div class=\"sk-toggleable__content\"><pre>Pipeline(steps=[(&#x27;passo_1&#x27;, OrdinalEncoder()), (&#x27;passo_2&#x27;, MinMaxScaler()),\n",
       "                (&#x27;passo_3&#x27;, KNeighborsClassifier())])</pre></div></div></div><div class=\"sk-serial\"><div class=\"sk-item\"><div class=\"sk-serial\"><div class=\"sk-item\"><div class=\"sk-estimator sk-toggleable\"><input class=\"sk-toggleable__control sk-hidden--visually\" id=\"sk-estimator-id-12\" type=\"checkbox\" ><label for=\"sk-estimator-id-12\" class=\"sk-toggleable__label sk-toggleable__label-arrow\">OrdinalEncoder</label><div class=\"sk-toggleable__content\"><pre>OrdinalEncoder()</pre></div></div></div><div class=\"sk-item\"><div class=\"sk-estimator sk-toggleable\"><input class=\"sk-toggleable__control sk-hidden--visually\" id=\"sk-estimator-id-13\" type=\"checkbox\" ><label for=\"sk-estimator-id-13\" class=\"sk-toggleable__label sk-toggleable__label-arrow\">MinMaxScaler</label><div class=\"sk-toggleable__content\"><pre>MinMaxScaler()</pre></div></div></div><div class=\"sk-item\"><div class=\"sk-estimator sk-toggleable\"><input class=\"sk-toggleable__control sk-hidden--visually\" id=\"sk-estimator-id-14\" type=\"checkbox\" ><label for=\"sk-estimator-id-14\" class=\"sk-toggleable__label sk-toggleable__label-arrow\">KNeighborsClassifier</label><div class=\"sk-toggleable__content\"><pre>KNeighborsClassifier()</pre></div></div></div></div></div></div></div></div></div></div></div></div>"
      ],
      "text/plain": [
       "GridSearchCV(cv=5,\n",
       "             estimator=Pipeline(steps=[('passo_1', OrdinalEncoder()),\n",
       "                                       ('passo_2', MinMaxScaler()),\n",
       "                                       ('passo_3', KNeighborsClassifier())]),\n",
       "             param_grid={'passo_3__n_neighbors': array([ 1,  2,  3,  4,  5,  6,  7,  8,  9, 10, 11, 12, 13, 14]),\n",
       "                         'passo_3__p': [1, 2, 3, 5],\n",
       "                         'passo_3__weights': ['uniform', 'distance']},\n",
       "             scoring='accuracy')"
      ]
     },
     "execution_count": 30,
     "metadata": {},
     "output_type": "execute_result"
    }
   ],
   "source": [
    "gscv.fit(x_treino, y_treino)"
   ]
  },
  {
   "cell_type": "code",
   "execution_count": 31,
   "id": "9790467a",
   "metadata": {},
   "outputs": [
    {
     "data": {
      "text/plain": [
       "{'passo_3__n_neighbors': 9, 'passo_3__p': 1, 'passo_3__weights': 'uniform'}"
      ]
     },
     "execution_count": 31,
     "metadata": {},
     "output_type": "execute_result"
    }
   ],
   "source": [
    "gscv.best_params_"
   ]
  },
  {
   "cell_type": "code",
   "execution_count": 32,
   "id": "9f0acca6",
   "metadata": {},
   "outputs": [
    {
     "data": {
      "text/plain": [
       "0.8322896281800392"
      ]
     },
     "execution_count": 32,
     "metadata": {},
     "output_type": "execute_result"
    }
   ],
   "source": [
    "roc_auc_score(y_teste, y_teste_pred)"
   ]
  },
  {
   "cell_type": "markdown",
   "id": "f3a990b5",
   "metadata": {},
   "source": [
    "**Exercício**: Construir uma estrutura de Grid Search CV com cv = 10 para otimizar a quantidade de vizinhos para o problema passado. Testar k = [1, 20]."
   ]
  },
  {
   "cell_type": "code",
   "execution_count": 38,
   "id": "d589efd5",
   "metadata": {},
   "outputs": [],
   "source": [
    "param = {\n",
    "    'passo_3__n_neighbors': np.arange(1, 20),\n",
    "    'passo_3__weights': ['uniform', 'distance'],\n",
    "    'passo_3__p': [1, 2, 3, 5]\n",
    "}\n",
    "\n",
    "gscv = GridSearchCV(\n",
    "    estimator = pipe,\n",
    "    param_grid = param,\n",
    "    refit = True,\n",
    "    scoring = 'accuracy',\n",
    "    cv = 10\n",
    ")"
   ]
  },
  {
   "cell_type": "code",
   "execution_count": 39,
   "id": "ca3621e5",
   "metadata": {},
   "outputs": [
    {
     "data": {
      "text/html": [
       "<style>#sk-container-id-6 {color: black;background-color: white;}#sk-container-id-6 pre{padding: 0;}#sk-container-id-6 div.sk-toggleable {background-color: white;}#sk-container-id-6 label.sk-toggleable__label {cursor: pointer;display: block;width: 100%;margin-bottom: 0;padding: 0.3em;box-sizing: border-box;text-align: center;}#sk-container-id-6 label.sk-toggleable__label-arrow:before {content: \"▸\";float: left;margin-right: 0.25em;color: #696969;}#sk-container-id-6 label.sk-toggleable__label-arrow:hover:before {color: black;}#sk-container-id-6 div.sk-estimator:hover label.sk-toggleable__label-arrow:before {color: black;}#sk-container-id-6 div.sk-toggleable__content {max-height: 0;max-width: 0;overflow: hidden;text-align: left;background-color: #f0f8ff;}#sk-container-id-6 div.sk-toggleable__content pre {margin: 0.2em;color: black;border-radius: 0.25em;background-color: #f0f8ff;}#sk-container-id-6 input.sk-toggleable__control:checked~div.sk-toggleable__content {max-height: 200px;max-width: 100%;overflow: auto;}#sk-container-id-6 input.sk-toggleable__control:checked~label.sk-toggleable__label-arrow:before {content: \"▾\";}#sk-container-id-6 div.sk-estimator input.sk-toggleable__control:checked~label.sk-toggleable__label {background-color: #d4ebff;}#sk-container-id-6 div.sk-label input.sk-toggleable__control:checked~label.sk-toggleable__label {background-color: #d4ebff;}#sk-container-id-6 input.sk-hidden--visually {border: 0;clip: rect(1px 1px 1px 1px);clip: rect(1px, 1px, 1px, 1px);height: 1px;margin: -1px;overflow: hidden;padding: 0;position: absolute;width: 1px;}#sk-container-id-6 div.sk-estimator {font-family: monospace;background-color: #f0f8ff;border: 1px dotted black;border-radius: 0.25em;box-sizing: border-box;margin-bottom: 0.5em;}#sk-container-id-6 div.sk-estimator:hover {background-color: #d4ebff;}#sk-container-id-6 div.sk-parallel-item::after {content: \"\";width: 100%;border-bottom: 1px solid gray;flex-grow: 1;}#sk-container-id-6 div.sk-label:hover label.sk-toggleable__label {background-color: #d4ebff;}#sk-container-id-6 div.sk-serial::before {content: \"\";position: absolute;border-left: 1px solid gray;box-sizing: border-box;top: 0;bottom: 0;left: 50%;z-index: 0;}#sk-container-id-6 div.sk-serial {display: flex;flex-direction: column;align-items: center;background-color: white;padding-right: 0.2em;padding-left: 0.2em;position: relative;}#sk-container-id-6 div.sk-item {position: relative;z-index: 1;}#sk-container-id-6 div.sk-parallel {display: flex;align-items: stretch;justify-content: center;background-color: white;position: relative;}#sk-container-id-6 div.sk-item::before, #sk-container-id-6 div.sk-parallel-item::before {content: \"\";position: absolute;border-left: 1px solid gray;box-sizing: border-box;top: 0;bottom: 0;left: 50%;z-index: -1;}#sk-container-id-6 div.sk-parallel-item {display: flex;flex-direction: column;z-index: 1;position: relative;background-color: white;}#sk-container-id-6 div.sk-parallel-item:first-child::after {align-self: flex-end;width: 50%;}#sk-container-id-6 div.sk-parallel-item:last-child::after {align-self: flex-start;width: 50%;}#sk-container-id-6 div.sk-parallel-item:only-child::after {width: 0;}#sk-container-id-6 div.sk-dashed-wrapped {border: 1px dashed gray;margin: 0 0.4em 0.5em 0.4em;box-sizing: border-box;padding-bottom: 0.4em;background-color: white;}#sk-container-id-6 div.sk-label label {font-family: monospace;font-weight: bold;display: inline-block;line-height: 1.2em;}#sk-container-id-6 div.sk-label-container {text-align: center;}#sk-container-id-6 div.sk-container {/* jupyter's `normalize.less` sets `[hidden] { display: none; }` but bootstrap.min.css set `[hidden] { display: none !important; }` so we also need the `!important` here to be able to override the default hidden behavior on the sphinx rendered scikit-learn.org. See: https://github.com/scikit-learn/scikit-learn/issues/21755 */display: inline-block !important;position: relative;}#sk-container-id-6 div.sk-text-repr-fallback {display: none;}</style><div id=\"sk-container-id-6\" class=\"sk-top-container\"><div class=\"sk-text-repr-fallback\"><pre>GridSearchCV(cv=10,\n",
       "             estimator=Pipeline(steps=[(&#x27;passo_1&#x27;, OrdinalEncoder()),\n",
       "                                       (&#x27;passo_2&#x27;, MinMaxScaler()),\n",
       "                                       (&#x27;passo_3&#x27;, KNeighborsClassifier())]),\n",
       "             param_grid={&#x27;passo_3__n_neighbors&#x27;: array([ 1,  2,  3,  4,  5,  6,  7,  8,  9, 10, 11, 12, 13, 14, 15, 16, 17,\n",
       "       18, 19]),\n",
       "                         &#x27;passo_3__p&#x27;: [1, 2, 3, 5],\n",
       "                         &#x27;passo_3__weights&#x27;: [&#x27;uniform&#x27;, &#x27;distance&#x27;]},\n",
       "             scoring=&#x27;accuracy&#x27;)</pre><b>In a Jupyter environment, please rerun this cell to show the HTML representation or trust the notebook. <br />On GitHub, the HTML representation is unable to render, please try loading this page with nbviewer.org.</b></div><div class=\"sk-container\" hidden><div class=\"sk-item sk-dashed-wrapped\"><div class=\"sk-label-container\"><div class=\"sk-label sk-toggleable\"><input class=\"sk-toggleable__control sk-hidden--visually\" id=\"sk-estimator-id-20\" type=\"checkbox\" ><label for=\"sk-estimator-id-20\" class=\"sk-toggleable__label sk-toggleable__label-arrow\">GridSearchCV</label><div class=\"sk-toggleable__content\"><pre>GridSearchCV(cv=10,\n",
       "             estimator=Pipeline(steps=[(&#x27;passo_1&#x27;, OrdinalEncoder()),\n",
       "                                       (&#x27;passo_2&#x27;, MinMaxScaler()),\n",
       "                                       (&#x27;passo_3&#x27;, KNeighborsClassifier())]),\n",
       "             param_grid={&#x27;passo_3__n_neighbors&#x27;: array([ 1,  2,  3,  4,  5,  6,  7,  8,  9, 10, 11, 12, 13, 14, 15, 16, 17,\n",
       "       18, 19]),\n",
       "                         &#x27;passo_3__p&#x27;: [1, 2, 3, 5],\n",
       "                         &#x27;passo_3__weights&#x27;: [&#x27;uniform&#x27;, &#x27;distance&#x27;]},\n",
       "             scoring=&#x27;accuracy&#x27;)</pre></div></div></div><div class=\"sk-parallel\"><div class=\"sk-parallel-item\"><div class=\"sk-item\"><div class=\"sk-label-container\"><div class=\"sk-label sk-toggleable\"><input class=\"sk-toggleable__control sk-hidden--visually\" id=\"sk-estimator-id-21\" type=\"checkbox\" ><label for=\"sk-estimator-id-21\" class=\"sk-toggleable__label sk-toggleable__label-arrow\">estimator: Pipeline</label><div class=\"sk-toggleable__content\"><pre>Pipeline(steps=[(&#x27;passo_1&#x27;, OrdinalEncoder()), (&#x27;passo_2&#x27;, MinMaxScaler()),\n",
       "                (&#x27;passo_3&#x27;, KNeighborsClassifier())])</pre></div></div></div><div class=\"sk-serial\"><div class=\"sk-item\"><div class=\"sk-serial\"><div class=\"sk-item\"><div class=\"sk-estimator sk-toggleable\"><input class=\"sk-toggleable__control sk-hidden--visually\" id=\"sk-estimator-id-22\" type=\"checkbox\" ><label for=\"sk-estimator-id-22\" class=\"sk-toggleable__label sk-toggleable__label-arrow\">OrdinalEncoder</label><div class=\"sk-toggleable__content\"><pre>OrdinalEncoder()</pre></div></div></div><div class=\"sk-item\"><div class=\"sk-estimator sk-toggleable\"><input class=\"sk-toggleable__control sk-hidden--visually\" id=\"sk-estimator-id-23\" type=\"checkbox\" ><label for=\"sk-estimator-id-23\" class=\"sk-toggleable__label sk-toggleable__label-arrow\">MinMaxScaler</label><div class=\"sk-toggleable__content\"><pre>MinMaxScaler()</pre></div></div></div><div class=\"sk-item\"><div class=\"sk-estimator sk-toggleable\"><input class=\"sk-toggleable__control sk-hidden--visually\" id=\"sk-estimator-id-24\" type=\"checkbox\" ><label for=\"sk-estimator-id-24\" class=\"sk-toggleable__label sk-toggleable__label-arrow\">KNeighborsClassifier</label><div class=\"sk-toggleable__content\"><pre>KNeighborsClassifier()</pre></div></div></div></div></div></div></div></div></div></div></div></div>"
      ],
      "text/plain": [
       "GridSearchCV(cv=10,\n",
       "             estimator=Pipeline(steps=[('passo_1', OrdinalEncoder()),\n",
       "                                       ('passo_2', MinMaxScaler()),\n",
       "                                       ('passo_3', KNeighborsClassifier())]),\n",
       "             param_grid={'passo_3__n_neighbors': array([ 1,  2,  3,  4,  5,  6,  7,  8,  9, 10, 11, 12, 13, 14, 15, 16, 17,\n",
       "       18, 19]),\n",
       "                         'passo_3__p': [1, 2, 3, 5],\n",
       "                         'passo_3__weights': ['uniform', 'distance']},\n",
       "             scoring='accuracy')"
      ]
     },
     "execution_count": 39,
     "metadata": {},
     "output_type": "execute_result"
    }
   ],
   "source": [
    "gscv.fit(x_treino, y_treino)"
   ]
  },
  {
   "cell_type": "code",
   "execution_count": 40,
   "id": "361c3552",
   "metadata": {},
   "outputs": [
    {
     "data": {
      "text/plain": [
       "{'passo_3__n_neighbors': 7, 'passo_3__p': 1, 'passo_3__weights': 'uniform'}"
      ]
     },
     "execution_count": 40,
     "metadata": {},
     "output_type": "execute_result"
    }
   ],
   "source": [
    "gscv.best_params_"
   ]
  },
  {
   "cell_type": "code",
   "execution_count": 41,
   "id": "a0cfe9a3",
   "metadata": {},
   "outputs": [
    {
     "data": {
      "text/plain": [
       "0.8322896281800392"
      ]
     },
     "execution_count": 41,
     "metadata": {},
     "output_type": "execute_result"
    }
   ],
   "source": [
    "roc_auc_score(y_teste, y_teste_pred)"
   ]
  },
  {
   "cell_type": "markdown",
   "id": "c7c1b0e0",
   "metadata": {},
   "source": [
    "### Random Search\n",
    "\n",
    "Funciona de forma muito similar ao Grid Search, criando um grid de parâmetros a serem testados. Porém, com a diferença de que a seleção dos valores escolhidos para teste é *aleatória* dado um conjunto de possibilidades. Ao invés de testar todos com todos, essa metodologia escolhe um valor ao acaso a partir de um conjunto pré-determinado. Mas uma escolha aleatória trás ganho?\n",
    "\n",
    "Sim! [Alguns pesquisadores](https://s3-sa-east-1.amazonaws.com/lcpi/879e38fe-51f5-4f0e-abf1-339de202611b.pdf) perceberam que o Grid Search trás um problema na otimização dos valores: vamos supor que estamos testando os hiperparâmetros W, X, Y e Z, sendo $w$, $x$, $y$ e $z$ a quantidade de valores que cada hiperparâmetro receberá. Porém, modificar o W, por exemplo, trará uma variação desprezível no resultado do nosso modelo. Mas mesmo assim, por estar especificada no Grid Search, essa metodologia irá testar $ w \\times x \\times y \\times z$, o que pode ser um desperdício. \n",
    "\n",
    "Além disso, ao especificar pontos estamos colocando um viés e pode ser que acabemos por não explorar espaços com máximos locais.\n",
    "\n",
    "<img src=\"https://s3-sa-east-1.amazonaws.com/lcpi/ccb2c843-3e26-4f56-bca5-e380d6964751.png\" style=\"height: 250px\"/>\n"
   ]
  }
 ],
 "metadata": {
  "hide_input": false,
  "kernelspec": {
   "display_name": "Python 3 (ipykernel)",
   "language": "python",
   "name": "python3"
  },
  "language_info": {
   "codemirror_mode": {
    "name": "ipython",
    "version": 3
   },
   "file_extension": ".py",
   "mimetype": "text/x-python",
   "name": "python",
   "nbconvert_exporter": "python",
   "pygments_lexer": "ipython3",
   "version": "3.9.7"
  }
 },
 "nbformat": 4,
 "nbformat_minor": 5
}
