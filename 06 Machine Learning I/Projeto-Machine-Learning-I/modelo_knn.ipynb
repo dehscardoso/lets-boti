{
 "cells": [
  {
   "cell_type": "markdown",
   "id": "2e173d77",
   "metadata": {
    "id": "2e173d77"
   },
   "source": [
    "<img src = \"https://images2.imgbox.com/a5/72/7ZbDUHlf_o.jpg\" width=\"200\">\n",
    "\n",
    "\n",
    "\n",
    "# Turma #867 - Projeto Machine Learning I - Equipe 03\n",
    "---\n",
    "\n",
    "\n",
    "## Modelo KNN"
   ]
  },
  {
   "cell_type": "code",
   "execution_count": 1,
   "id": "724966c6",
   "metadata": {
    "id": "724966c6"
   },
   "outputs": [],
   "source": [
    "# importando bibliotecas\n",
    "import numpy as np\n",
    "import pandas as pd\n",
    "import seaborn as sns\n",
    "import matplotlib.pyplot as plt\n",
    "from sklearn.preprocessing import StandardScaler\n",
    "from sklearn.neighbors import KNeighborsRegressor\n",
    "from sklearn.neighbors import KNeighborsClassifier\n",
    "from sklearn.model_selection import train_test_split\n",
    "from sklearn.metrics import mean_absolute_error, mean_squared_error\n",
    "from sklearn.experimental import enable_iterative_imputer\n",
    "from sklearn.impute import IterativeImputer\n",
    "from imblearn.over_sampling import SMOTE\n",
    "\n",
    "from sklearn.metrics import classification_report, confusion_matrix, roc_auc_score, accuracy_score\n",
    "from sklearn import metrics\n",
    "\n",
    "np.random.seed(4)"
   ]
  },
  {
   "cell_type": "code",
   "execution_count": 2,
   "id": "8698f363",
   "metadata": {},
   "outputs": [],
   "source": [
    "# Definição de funções\n",
    "\n",
    "def column_empty(dataframe):\n",
    "\n",
    "  \"\"\" Verifica as colunas que possuem dados vazios\"\"\"\n",
    "\n",
    "  for col in (dataframe):\n",
    "    if(dataframe[col].isnull().any()):\n",
    "        print(col)\n",
    "\n",
    "        \n",
    "        \n",
    "def values_estimate():\n",
    "    return IterativeImputer()\n",
    "\n",
    "\n",
    "\n",
    "def TheBest_K(X_train, y_train, X_test, y_test, n):\n",
    "\n",
    "    \"\"\"Função que demonstra o melhor K\"\"\"\n",
    "  \n",
    "\n",
    "    ert = []\n",
    "    for i in range(1,n):\n",
    "        knn = KNeighborsClassifier(n_neighbors=i)\n",
    "        knn.fit(X_train,y_train)\n",
    "        pred_i = knn.predict(X_test)\n",
    "        mae = mean_absolute_error(y_test, pred_i)\n",
    "        ert.append(mae)\n",
    "\n",
    "    plt.figure(figsize=(10,6))\n",
    "    plt.plot(range(1,n),ert,color='red', linestyle='dashed', \n",
    "            marker='o',markerfacecolor='green', markersize=10)\n",
    "    plt.title('Taxa de Erro vs. Valor de K')\n",
    "    plt.xlabel('K')\n",
    "    plt.ylabel('Taxa de Erro')\n",
    "    print(\"Erro mínimo:-\",min(ert),\"em K =\",ert.index(min(ert)))\n",
    "\n",
    "    acc = []\n",
    "    for i in range(1,n):\n",
    "        neigh = KNeighborsClassifier(n_neighbors = i).fit(X_train,y_train)\n",
    "        yhat = neigh.predict(X_test)\n",
    "        acc.append(metrics.accuracy_score(y_test, yhat))\n",
    "        \n",
    "    plt.figure(figsize=(10,6))\n",
    "    plt.plot(range(1,n),acc,color = 'red',linestyle='dashed', \n",
    "            marker='o',markerfacecolor='green', markersize=10)\n",
    "    plt.title('Acurácia vs. Valor de K')\n",
    "    plt.xlabel('K')\n",
    "    plt.ylabel('Acurácia')\n",
    "    print(\"Acurácia Máxima:-\",max(acc),\"em K =\",acc.index(max(acc)))\n",
    "\n",
    "\n",
    "    \n",
    "def myKNN(X_exp=None, \n",
    "        y_depend=None, \n",
    "        k_neighbors=None, \n",
    "        seed_=None, \n",
    "        percent_test:float=None,\n",
    "        type_:str=None):\n",
    "        \n",
    "    \"\"\" Função que implementa o algoritmo KNN\"\"\"\n",
    "  \n",
    "    X_train, X_test, y_train, y_test = train_test_split(X_exp, y_depend, test_size=percent_test, random_state=seed_)\n",
    "    \n",
    "    scaler = StandardScaler()\n",
    "\n",
    "    scaler.fit(X_train)\n",
    "    X_train = scaler.transform(X_train)\n",
    "    X_test = scaler.transform(X_test)\n",
    "\n",
    "    if type_ =='r':\n",
    "\n",
    "        reg = KNeighborsRegressor(n_neighbors=k_neighbors)\n",
    "        reg.fit(X_train, y_train)\n",
    "\n",
    "        reg = KNeighborsRegressor(n_neighbors=k_neighbors)\n",
    "        reg.fit(X_train, y_train)\n",
    "\n",
    "        predict_ = reg.predict(X_test)\n",
    "\n",
    "        mae = mean_absolute_error(y_test, predict_)\n",
    "        mse = mean_squared_error(y_test, predict_)\n",
    "        rmse = mean_squared_error(y_test, predict_, squared=False)\n",
    "\n",
    "        print(f\"mae: {mae}\")\n",
    "        print(f\"mse: {mse}\")\n",
    "        print(f\"rmse: {rmse}\")\n",
    "        print(\"\\n\")\n",
    "        print(f\"regressor score :{reg.score(X_test, y_test)}\")\n",
    "\n",
    "        return reg\n",
    "\n",
    "    if type_ =='c':\n",
    "        classf = KNeighborsClassifier(n_neighbors=k_neighbors)\n",
    "        classf.fit(X_train, y_train)\n",
    "        predict_ = classf.predict(X_test)\n",
    "\n",
    "        #acc =  classf.score(X_test, y_test)\n",
    "        #acc = accuracy_score(y_test, predict_)\n",
    "        roc_auc = roc_auc_score(y_test, predict_)\n",
    "        #print(f\"Medida de acurácia: {acc}\")\n",
    "        print(\"\\n\")\n",
    "        print(f\"Métrica ROC: {roc_auc}\")\n",
    "        report = metrics.classification_report(y_test, predict_)\n",
    "        print(report)\n",
    "\n",
    "        return classf"
   ]
  },
  {
   "cell_type": "markdown",
   "id": "46218b6b",
   "metadata": {},
   "source": [
    "### Importação dos dados"
   ]
  },
  {
   "cell_type": "code",
   "execution_count": 3,
   "id": "eA4k7IrG2OQx",
   "metadata": {
    "id": "eA4k7IrG2OQx"
   },
   "outputs": [],
   "source": [
    "df_credit_train = pd.read_csv('dados/application_train.csv')"
   ]
  },
  {
   "cell_type": "code",
   "execution_count": 4,
   "id": "cFjFmOjm2RED",
   "metadata": {
    "colab": {
     "base_uri": "https://localhost:8080/",
     "height": 300
    },
    "id": "cFjFmOjm2RED",
    "outputId": "96ba37c6-40a5-459d-fb05-d0c334f536e1"
   },
   "outputs": [
    {
     "data": {
      "text/html": [
       "<div>\n",
       "<style scoped>\n",
       "    .dataframe tbody tr th:only-of-type {\n",
       "        vertical-align: middle;\n",
       "    }\n",
       "\n",
       "    .dataframe tbody tr th {\n",
       "        vertical-align: top;\n",
       "    }\n",
       "\n",
       "    .dataframe thead th {\n",
       "        text-align: right;\n",
       "    }\n",
       "</style>\n",
       "<table border=\"1\" class=\"dataframe\">\n",
       "  <thead>\n",
       "    <tr style=\"text-align: right;\">\n",
       "      <th></th>\n",
       "      <th>SK_ID_CURR</th>\n",
       "      <th>TARGET</th>\n",
       "      <th>NAME_CONTRACT_TYPE</th>\n",
       "      <th>CODE_GENDER</th>\n",
       "      <th>FLAG_OWN_CAR</th>\n",
       "      <th>FLAG_OWN_REALTY</th>\n",
       "      <th>CNT_CHILDREN</th>\n",
       "      <th>AMT_INCOME_TOTAL</th>\n",
       "      <th>AMT_CREDIT</th>\n",
       "      <th>AMT_ANNUITY</th>\n",
       "      <th>...</th>\n",
       "      <th>FLAG_DOCUMENT_18</th>\n",
       "      <th>FLAG_DOCUMENT_19</th>\n",
       "      <th>FLAG_DOCUMENT_20</th>\n",
       "      <th>FLAG_DOCUMENT_21</th>\n",
       "      <th>AMT_REQ_CREDIT_BUREAU_HOUR</th>\n",
       "      <th>AMT_REQ_CREDIT_BUREAU_DAY</th>\n",
       "      <th>AMT_REQ_CREDIT_BUREAU_WEEK</th>\n",
       "      <th>AMT_REQ_CREDIT_BUREAU_MON</th>\n",
       "      <th>AMT_REQ_CREDIT_BUREAU_QRT</th>\n",
       "      <th>AMT_REQ_CREDIT_BUREAU_YEAR</th>\n",
       "    </tr>\n",
       "  </thead>\n",
       "  <tbody>\n",
       "    <tr>\n",
       "      <th>0</th>\n",
       "      <td>456162</td>\n",
       "      <td>0</td>\n",
       "      <td>Cash loans</td>\n",
       "      <td>F</td>\n",
       "      <td>N</td>\n",
       "      <td>N</td>\n",
       "      <td>0</td>\n",
       "      <td>112500.0</td>\n",
       "      <td>700830.0</td>\n",
       "      <td>22738.5</td>\n",
       "      <td>...</td>\n",
       "      <td>0</td>\n",
       "      <td>0</td>\n",
       "      <td>0</td>\n",
       "      <td>0</td>\n",
       "      <td>0.0</td>\n",
       "      <td>0.0</td>\n",
       "      <td>0.0</td>\n",
       "      <td>0.0</td>\n",
       "      <td>0.0</td>\n",
       "      <td>1.0</td>\n",
       "    </tr>\n",
       "    <tr>\n",
       "      <th>1</th>\n",
       "      <td>134978</td>\n",
       "      <td>0</td>\n",
       "      <td>Cash loans</td>\n",
       "      <td>F</td>\n",
       "      <td>N</td>\n",
       "      <td>N</td>\n",
       "      <td>0</td>\n",
       "      <td>90000.0</td>\n",
       "      <td>375322.5</td>\n",
       "      <td>14422.5</td>\n",
       "      <td>...</td>\n",
       "      <td>0</td>\n",
       "      <td>0</td>\n",
       "      <td>0</td>\n",
       "      <td>0</td>\n",
       "      <td>0.0</td>\n",
       "      <td>0.0</td>\n",
       "      <td>0.0</td>\n",
       "      <td>1.0</td>\n",
       "      <td>0.0</td>\n",
       "      <td>3.0</td>\n",
       "    </tr>\n",
       "    <tr>\n",
       "      <th>2</th>\n",
       "      <td>318952</td>\n",
       "      <td>0</td>\n",
       "      <td>Cash loans</td>\n",
       "      <td>M</td>\n",
       "      <td>Y</td>\n",
       "      <td>N</td>\n",
       "      <td>0</td>\n",
       "      <td>180000.0</td>\n",
       "      <td>544491.0</td>\n",
       "      <td>16047.0</td>\n",
       "      <td>...</td>\n",
       "      <td>0</td>\n",
       "      <td>0</td>\n",
       "      <td>0</td>\n",
       "      <td>0</td>\n",
       "      <td>0.0</td>\n",
       "      <td>0.0</td>\n",
       "      <td>0.0</td>\n",
       "      <td>1.0</td>\n",
       "      <td>1.0</td>\n",
       "      <td>3.0</td>\n",
       "    </tr>\n",
       "    <tr>\n",
       "      <th>3</th>\n",
       "      <td>361264</td>\n",
       "      <td>0</td>\n",
       "      <td>Cash loans</td>\n",
       "      <td>F</td>\n",
       "      <td>N</td>\n",
       "      <td>Y</td>\n",
       "      <td>0</td>\n",
       "      <td>270000.0</td>\n",
       "      <td>814041.0</td>\n",
       "      <td>28971.0</td>\n",
       "      <td>...</td>\n",
       "      <td>0</td>\n",
       "      <td>0</td>\n",
       "      <td>0</td>\n",
       "      <td>0</td>\n",
       "      <td>0.0</td>\n",
       "      <td>0.0</td>\n",
       "      <td>0.0</td>\n",
       "      <td>0.0</td>\n",
       "      <td>1.0</td>\n",
       "      <td>4.0</td>\n",
       "    </tr>\n",
       "    <tr>\n",
       "      <th>4</th>\n",
       "      <td>260639</td>\n",
       "      <td>0</td>\n",
       "      <td>Cash loans</td>\n",
       "      <td>F</td>\n",
       "      <td>N</td>\n",
       "      <td>Y</td>\n",
       "      <td>0</td>\n",
       "      <td>144000.0</td>\n",
       "      <td>675000.0</td>\n",
       "      <td>21906.0</td>\n",
       "      <td>...</td>\n",
       "      <td>0</td>\n",
       "      <td>0</td>\n",
       "      <td>0</td>\n",
       "      <td>0</td>\n",
       "      <td>0.0</td>\n",
       "      <td>0.0</td>\n",
       "      <td>0.0</td>\n",
       "      <td>10.0</td>\n",
       "      <td>0.0</td>\n",
       "      <td>0.0</td>\n",
       "    </tr>\n",
       "  </tbody>\n",
       "</table>\n",
       "<p>5 rows × 122 columns</p>\n",
       "</div>"
      ],
      "text/plain": [
       "   SK_ID_CURR  TARGET NAME_CONTRACT_TYPE CODE_GENDER FLAG_OWN_CAR  \\\n",
       "0      456162       0         Cash loans           F            N   \n",
       "1      134978       0         Cash loans           F            N   \n",
       "2      318952       0         Cash loans           M            Y   \n",
       "3      361264       0         Cash loans           F            N   \n",
       "4      260639       0         Cash loans           F            N   \n",
       "\n",
       "  FLAG_OWN_REALTY  CNT_CHILDREN  AMT_INCOME_TOTAL  AMT_CREDIT  AMT_ANNUITY  \\\n",
       "0               N             0          112500.0    700830.0      22738.5   \n",
       "1               N             0           90000.0    375322.5      14422.5   \n",
       "2               N             0          180000.0    544491.0      16047.0   \n",
       "3               Y             0          270000.0    814041.0      28971.0   \n",
       "4               Y             0          144000.0    675000.0      21906.0   \n",
       "\n",
       "   ...  FLAG_DOCUMENT_18 FLAG_DOCUMENT_19 FLAG_DOCUMENT_20 FLAG_DOCUMENT_21  \\\n",
       "0  ...                 0                0                0                0   \n",
       "1  ...                 0                0                0                0   \n",
       "2  ...                 0                0                0                0   \n",
       "3  ...                 0                0                0                0   \n",
       "4  ...                 0                0                0                0   \n",
       "\n",
       "  AMT_REQ_CREDIT_BUREAU_HOUR AMT_REQ_CREDIT_BUREAU_DAY  \\\n",
       "0                        0.0                       0.0   \n",
       "1                        0.0                       0.0   \n",
       "2                        0.0                       0.0   \n",
       "3                        0.0                       0.0   \n",
       "4                        0.0                       0.0   \n",
       "\n",
       "   AMT_REQ_CREDIT_BUREAU_WEEK  AMT_REQ_CREDIT_BUREAU_MON  \\\n",
       "0                         0.0                        0.0   \n",
       "1                         0.0                        1.0   \n",
       "2                         0.0                        1.0   \n",
       "3                         0.0                        0.0   \n",
       "4                         0.0                       10.0   \n",
       "\n",
       "   AMT_REQ_CREDIT_BUREAU_QRT  AMT_REQ_CREDIT_BUREAU_YEAR  \n",
       "0                        0.0                         1.0  \n",
       "1                        0.0                         3.0  \n",
       "2                        1.0                         3.0  \n",
       "3                        1.0                         4.0  \n",
       "4                        0.0                         0.0  \n",
       "\n",
       "[5 rows x 122 columns]"
      ]
     },
     "execution_count": 4,
     "metadata": {},
     "output_type": "execute_result"
    }
   ],
   "source": [
    "df_credit_train.head()"
   ]
  },
  {
   "cell_type": "markdown",
   "id": "Tj1rcaj42coX",
   "metadata": {
    "id": "Tj1rcaj42coX"
   },
   "source": [
    "### Critério de seleção de variáveis\n",
    "\n",
    " -  5 Maiores correlações positivas\n",
    " -  5 Menores correlações negativas"
   ]
  },
  {
   "cell_type": "code",
   "execution_count": 5,
   "id": "sPqVsr3v2X_t",
   "metadata": {
    "id": "sPqVsr3v2X_t"
   },
   "outputs": [],
   "source": [
    "corr_sorting = df_credit_train.corr()['TARGET'].sort_values()"
   ]
  },
  {
   "cell_type": "code",
   "execution_count": 6,
   "id": "N5LEpQED2Xd4",
   "metadata": {
    "colab": {
     "base_uri": "https://localhost:8080/"
    },
    "id": "N5LEpQED2Xd4",
    "outputId": "c74404e3-12eb-48d1-fe46-4f9a71dee85b"
   },
   "outputs": [
    {
     "data": {
      "text/plain": [
       "EXT_SOURCE_3    -0.179246\n",
       "EXT_SOURCE_2    -0.160978\n",
       "EXT_SOURCE_1    -0.158619\n",
       "DAYS_EMPLOYED   -0.044862\n",
       "FLOORSMAX_AVG   -0.043720\n",
       "Name: TARGET, dtype: float64"
      ]
     },
     "execution_count": 6,
     "metadata": {},
     "output_type": "execute_result"
    }
   ],
   "source": [
    "corr_sorting.head(n=5)"
   ]
  },
  {
   "cell_type": "code",
   "execution_count": 7,
   "id": "S-s_IDGX2Q2a",
   "metadata": {
    "colab": {
     "base_uri": "https://localhost:8080/"
    },
    "id": "S-s_IDGX2Q2a",
    "outputId": "cb720a6a-df98-4126-c598-559959537ed8"
   },
   "outputs": [
    {
     "data": {
      "text/plain": [
       "DAYS_LAST_PHONE_CHANGE         0.054471\n",
       "REGION_RATING_CLIENT           0.059170\n",
       "REGION_RATING_CLIENT_W_CITY    0.061518\n",
       "DAYS_BIRTH                     0.079414\n",
       "TARGET                         1.000000\n",
       "Name: TARGET, dtype: float64"
      ]
     },
     "execution_count": 7,
     "metadata": {},
     "output_type": "execute_result"
    }
   ],
   "source": [
    "corr_sorting.tail(n=5)"
   ]
  },
  {
   "cell_type": "code",
   "execution_count": 8,
   "id": "DHeZ7v2O2kRZ",
   "metadata": {
    "id": "DHeZ7v2O2kRZ"
   },
   "outputs": [],
   "source": [
    "credit_train_5 = df_credit_train[['EXT_SOURCE_3', 'EXT_SOURCE_2','EXT_SOURCE_1',\n",
    "                                  'DAYS_LAST_PHONE_CHANGE','REGION_RATING_CLIENT','TARGET']]"
   ]
  },
  {
   "cell_type": "code",
   "execution_count": 9,
   "id": "l2JfdwpB2mMq",
   "metadata": {
    "colab": {
     "base_uri": "https://localhost:8080/"
    },
    "id": "l2JfdwpB2mMq",
    "outputId": "353cef98-e006-43ae-b1cc-c32866f77418"
   },
   "outputs": [
    {
     "data": {
      "text/plain": [
       "(246008, 6)"
      ]
     },
     "execution_count": 9,
     "metadata": {},
     "output_type": "execute_result"
    }
   ],
   "source": [
    "credit_train_5.shape"
   ]
  },
  {
   "cell_type": "code",
   "execution_count": 10,
   "id": "LjKDy0Zp2pJu",
   "metadata": {
    "colab": {
     "base_uri": "https://localhost:8080/",
     "height": 270
    },
    "id": "LjKDy0Zp2pJu",
    "outputId": "6caab2ec-6bd8-45ab-f15c-7f2b3e754a63"
   },
   "outputs": [
    {
     "data": {
      "text/html": [
       "<div>\n",
       "<style scoped>\n",
       "    .dataframe tbody tr th:only-of-type {\n",
       "        vertical-align: middle;\n",
       "    }\n",
       "\n",
       "    .dataframe tbody tr th {\n",
       "        vertical-align: top;\n",
       "    }\n",
       "\n",
       "    .dataframe thead th {\n",
       "        text-align: right;\n",
       "    }\n",
       "</style>\n",
       "<table border=\"1\" class=\"dataframe\">\n",
       "  <thead>\n",
       "    <tr style=\"text-align: right;\">\n",
       "      <th></th>\n",
       "      <th>EXT_SOURCE_3</th>\n",
       "      <th>EXT_SOURCE_2</th>\n",
       "      <th>EXT_SOURCE_1</th>\n",
       "      <th>DAYS_LAST_PHONE_CHANGE</th>\n",
       "      <th>REGION_RATING_CLIENT</th>\n",
       "      <th>TARGET</th>\n",
       "    </tr>\n",
       "  </thead>\n",
       "  <tbody>\n",
       "    <tr>\n",
       "      <th>0</th>\n",
       "      <td>0.171468</td>\n",
       "      <td>0.699373</td>\n",
       "      <td>NaN</td>\n",
       "      <td>-589.0</td>\n",
       "      <td>2</td>\n",
       "      <td>0</td>\n",
       "    </tr>\n",
       "    <tr>\n",
       "      <th>1</th>\n",
       "      <td>0.768808</td>\n",
       "      <td>0.199651</td>\n",
       "      <td>0.541385</td>\n",
       "      <td>-1409.0</td>\n",
       "      <td>2</td>\n",
       "      <td>0</td>\n",
       "    </tr>\n",
       "    <tr>\n",
       "      <th>2</th>\n",
       "      <td>0.626304</td>\n",
       "      <td>0.704880</td>\n",
       "      <td>NaN</td>\n",
       "      <td>-675.0</td>\n",
       "      <td>2</td>\n",
       "      <td>0</td>\n",
       "    </tr>\n",
       "    <tr>\n",
       "      <th>3</th>\n",
       "      <td>0.810618</td>\n",
       "      <td>0.724576</td>\n",
       "      <td>NaN</td>\n",
       "      <td>-1588.0</td>\n",
       "      <td>1</td>\n",
       "      <td>0</td>\n",
       "    </tr>\n",
       "    <tr>\n",
       "      <th>4</th>\n",
       "      <td>0.331251</td>\n",
       "      <td>0.706310</td>\n",
       "      <td>0.592466</td>\n",
       "      <td>0.0</td>\n",
       "      <td>2</td>\n",
       "      <td>0</td>\n",
       "    </tr>\n",
       "  </tbody>\n",
       "</table>\n",
       "</div>"
      ],
      "text/plain": [
       "   EXT_SOURCE_3  EXT_SOURCE_2  EXT_SOURCE_1  DAYS_LAST_PHONE_CHANGE  \\\n",
       "0      0.171468      0.699373           NaN                  -589.0   \n",
       "1      0.768808      0.199651      0.541385                 -1409.0   \n",
       "2      0.626304      0.704880           NaN                  -675.0   \n",
       "3      0.810618      0.724576           NaN                 -1588.0   \n",
       "4      0.331251      0.706310      0.592466                     0.0   \n",
       "\n",
       "   REGION_RATING_CLIENT  TARGET  \n",
       "0                     2       0  \n",
       "1                     2       0  \n",
       "2                     2       0  \n",
       "3                     1       0  \n",
       "4                     2       0  "
      ]
     },
     "execution_count": 10,
     "metadata": {},
     "output_type": "execute_result"
    }
   ],
   "source": [
    "credit_train_5.head()"
   ]
  },
  {
   "cell_type": "markdown",
   "id": "xI3d_kC52smP",
   "metadata": {
    "id": "xI3d_kC52smP"
   },
   "source": [
    "### Visualização dos resultados nulos"
   ]
  },
  {
   "cell_type": "code",
   "execution_count": 11,
   "id": "_S6kPxYs2tqA",
   "metadata": {
    "colab": {
     "base_uri": "https://localhost:8080/"
    },
    "id": "_S6kPxYs2tqA",
    "outputId": "d66c97d6-c56b-49ab-df7d-320229f4e36c"
   },
   "outputs": [
    {
     "name": "stdout",
     "output_type": "stream",
     "text": [
      "EXT_SOURCE_3\n",
      "EXT_SOURCE_2\n",
      "EXT_SOURCE_1\n",
      "DAYS_LAST_PHONE_CHANGE\n"
     ]
    }
   ],
   "source": [
    "column_empty(credit_train_5)"
   ]
  },
  {
   "cell_type": "code",
   "execution_count": 12,
   "id": "OhOPzEPC2tdc",
   "metadata": {
    "colab": {
     "base_uri": "https://localhost:8080/"
    },
    "id": "OhOPzEPC2tdc",
    "outputId": "051e8c51-caba-4211-a10c-16bbc81943fe"
   },
   "outputs": [
    {
     "data": {
      "text/plain": [
       "EXT_SOURCE_3              19.81\n",
       "EXT_SOURCE_2               0.22\n",
       "EXT_SOURCE_1              56.42\n",
       "DAYS_LAST_PHONE_CHANGE     0.00\n",
       "REGION_RATING_CLIENT       0.00\n",
       "TARGET                     0.00\n",
       "dtype: float64"
      ]
     },
     "execution_count": 12,
     "metadata": {},
     "output_type": "execute_result"
    }
   ],
   "source": [
    "credit_train_5.isnull().mean().round(4)*100"
   ]
  },
  {
   "cell_type": "markdown",
   "id": "GYpSsuNv210I",
   "metadata": {
    "id": "GYpSsuNv210I"
   },
   "source": [
    "### Transformações nos dados"
   ]
  },
  {
   "cell_type": "markdown",
   "id": "69yPXYy622sY",
   "metadata": {
    "id": "69yPXYy622sY"
   },
   "source": [
    "- Os dados possuem muitos valores nulos, portanto vamos utilizar o imputador multivariado que estima as características das outras variáveis."
   ]
  },
  {
   "cell_type": "code",
   "execution_count": 13,
   "id": "vmChN3Qm25fQ",
   "metadata": {
    "id": "vmChN3Qm25fQ"
   },
   "outputs": [],
   "source": [
    "df_credit_transf = pd.DataFrame(values_estimate().fit_transform(credit_train_5), columns = credit_train_5.columns)"
   ]
  },
  {
   "cell_type": "code",
   "execution_count": 14,
   "id": "6TB5KKGp25XS",
   "metadata": {
    "id": "6TB5KKGp25XS"
   },
   "outputs": [],
   "source": [
    "column_empty(df_credit_transf)"
   ]
  },
  {
   "cell_type": "code",
   "execution_count": 15,
   "id": "hoB97Uq625Ni",
   "metadata": {
    "colab": {
     "base_uri": "https://localhost:8080/",
     "height": 270
    },
    "id": "hoB97Uq625Ni",
    "outputId": "b8ad2e11-b416-44f4-e4d4-90e81c4d6e49"
   },
   "outputs": [
    {
     "data": {
      "text/html": [
       "<div>\n",
       "<style scoped>\n",
       "    .dataframe tbody tr th:only-of-type {\n",
       "        vertical-align: middle;\n",
       "    }\n",
       "\n",
       "    .dataframe tbody tr th {\n",
       "        vertical-align: top;\n",
       "    }\n",
       "\n",
       "    .dataframe thead th {\n",
       "        text-align: right;\n",
       "    }\n",
       "</style>\n",
       "<table border=\"1\" class=\"dataframe\">\n",
       "  <thead>\n",
       "    <tr style=\"text-align: right;\">\n",
       "      <th></th>\n",
       "      <th>EXT_SOURCE_3</th>\n",
       "      <th>EXT_SOURCE_2</th>\n",
       "      <th>EXT_SOURCE_1</th>\n",
       "      <th>DAYS_LAST_PHONE_CHANGE</th>\n",
       "      <th>REGION_RATING_CLIENT</th>\n",
       "      <th>TARGET</th>\n",
       "    </tr>\n",
       "  </thead>\n",
       "  <tbody>\n",
       "    <tr>\n",
       "      <th>246003</th>\n",
       "      <td>0.689479</td>\n",
       "      <td>0.701172</td>\n",
       "      <td>0.613821</td>\n",
       "      <td>-2791.0</td>\n",
       "      <td>2.0</td>\n",
       "      <td>0.0</td>\n",
       "    </tr>\n",
       "    <tr>\n",
       "      <th>246004</th>\n",
       "      <td>0.716570</td>\n",
       "      <td>0.364945</td>\n",
       "      <td>0.507666</td>\n",
       "      <td>-1431.0</td>\n",
       "      <td>3.0</td>\n",
       "      <td>0.0</td>\n",
       "    </tr>\n",
       "    <tr>\n",
       "      <th>246005</th>\n",
       "      <td>0.366453</td>\n",
       "      <td>0.285898</td>\n",
       "      <td>0.362307</td>\n",
       "      <td>-1535.0</td>\n",
       "      <td>1.0</td>\n",
       "      <td>1.0</td>\n",
       "    </tr>\n",
       "    <tr>\n",
       "      <th>246006</th>\n",
       "      <td>0.813917</td>\n",
       "      <td>0.390046</td>\n",
       "      <td>0.502168</td>\n",
       "      <td>-2612.0</td>\n",
       "      <td>2.0</td>\n",
       "      <td>1.0</td>\n",
       "    </tr>\n",
       "    <tr>\n",
       "      <th>246007</th>\n",
       "      <td>0.525091</td>\n",
       "      <td>0.679636</td>\n",
       "      <td>0.528770</td>\n",
       "      <td>-521.0</td>\n",
       "      <td>2.0</td>\n",
       "      <td>0.0</td>\n",
       "    </tr>\n",
       "  </tbody>\n",
       "</table>\n",
       "</div>"
      ],
      "text/plain": [
       "        EXT_SOURCE_3  EXT_SOURCE_2  EXT_SOURCE_1  DAYS_LAST_PHONE_CHANGE  \\\n",
       "246003      0.689479      0.701172      0.613821                 -2791.0   \n",
       "246004      0.716570      0.364945      0.507666                 -1431.0   \n",
       "246005      0.366453      0.285898      0.362307                 -1535.0   \n",
       "246006      0.813917      0.390046      0.502168                 -2612.0   \n",
       "246007      0.525091      0.679636      0.528770                  -521.0   \n",
       "\n",
       "        REGION_RATING_CLIENT  TARGET  \n",
       "246003                   2.0     0.0  \n",
       "246004                   3.0     0.0  \n",
       "246005                   1.0     1.0  \n",
       "246006                   2.0     1.0  \n",
       "246007                   2.0     0.0  "
      ]
     },
     "execution_count": 15,
     "metadata": {},
     "output_type": "execute_result"
    }
   ],
   "source": [
    "df_credit_transf.tail()"
   ]
  },
  {
   "cell_type": "code",
   "execution_count": 16,
   "id": "KrBo7Q_u2_jX",
   "metadata": {
    "id": "KrBo7Q_u2_jX"
   },
   "outputs": [],
   "source": [
    "X = df_credit_transf.drop(['TARGET'],axis=1).values"
   ]
  },
  {
   "cell_type": "code",
   "execution_count": 17,
   "id": "xC0HOlD22_ga",
   "metadata": {
    "id": "xC0HOlD22_ga"
   },
   "outputs": [],
   "source": [
    "y = df_credit_transf[['TARGET']].values"
   ]
  },
  {
   "cell_type": "code",
   "execution_count": 18,
   "id": "PU1CVlal2_XV",
   "metadata": {
    "colab": {
     "base_uri": "https://localhost:8080/"
    },
    "id": "PU1CVlal2_XV",
    "outputId": "efbb89e6-0e48-439f-a80b-9439510082cc"
   },
   "outputs": [
    {
     "name": "stdout",
     "output_type": "stream",
     "text": [
      "246008\n",
      "246008\n"
     ]
    }
   ],
   "source": [
    "print(len(X))\n",
    "print(len(y))"
   ]
  },
  {
   "cell_type": "markdown",
   "id": "YP-46AIP3FV4",
   "metadata": {
    "id": "YP-46AIP3FV4"
   },
   "source": [
    "### Ajustes de classes desbalanceadas\n",
    "- Aqui é utilizada a classe [SMOTE](https://imbalanced-learn.org/stable/references/generated/imblearn.over_sampling.SMOTE.html) para ajustar o balanceamento dos dados."
   ]
  },
  {
   "cell_type": "code",
   "execution_count": 19,
   "id": "lS0LBep52_Ud",
   "metadata": {
    "id": "lS0LBep52_Ud"
   },
   "outputs": [],
   "source": [
    "smote = SMOTE()\n",
    "X_smote, y_smote = smote.fit_resample(X, y)"
   ]
  },
  {
   "cell_type": "code",
   "execution_count": 20,
   "id": "zhdICGOu2_MW",
   "metadata": {
    "id": "zhdICGOu2_MW"
   },
   "outputs": [],
   "source": [
    "X_train, X_test, y_train, y_test = train_test_split(X_smote, y_smote, test_size=0.2, random_state=4)"
   ]
  },
  {
   "cell_type": "code",
   "execution_count": 21,
   "id": "fW6RbOvQ2o9w",
   "metadata": {
    "colab": {
     "base_uri": "https://localhost:8080/"
    },
    "id": "fW6RbOvQ2o9w",
    "outputId": "13765029-e74c-4226-f77b-d73ec36e13a4"
   },
   "outputs": [
    {
     "name": "stdout",
     "output_type": "stream",
     "text": [
      "246008\n",
      "361660\n",
      "90416\n"
     ]
    }
   ],
   "source": [
    "print(len(X))       \n",
    "print(len(X_train)) \n",
    "print(len(X_test)) "
   ]
  },
  {
   "cell_type": "code",
   "execution_count": 22,
   "id": "UCVrnIan3KYz",
   "metadata": {
    "colab": {
     "base_uri": "https://localhost:8080/",
     "height": 826
    },
    "id": "UCVrnIan3KYz",
    "outputId": "6f510122-ea1f-47e7-af3a-3389304e4d8d"
   },
   "outputs": [
    {
     "name": "stdout",
     "output_type": "stream",
     "text": [
      "Erro mínimo:- 0.07291850999823041 em K = 0\n",
      "Acurácia Máxima:- 0.9270814900017696 em K = 0\n"
     ]
    },
    {
     "data": {
      "image/png": "[encoded data removed]",
      "text/plain": [
       "<Figure size 720x432 with 1 Axes>"
      ]
     },
     "metadata": {
      "needs_background": "light"
     },
     "output_type": "display_data"
    },
    {
     "data": {
      "image/png": "[encoded data removed]",
      "text/plain": [
       "<Figure size 720x432 with 1 Axes>"
      ]
     },
     "metadata": {
      "needs_background": "light"
     },
     "output_type": "display_data"
    }
   ],
   "source": [
    "TheBest_K(X_train, y_train, X_test, y_test, 40)"
   ]
  },
  {
   "cell_type": "code",
   "execution_count": 23,
   "id": "CLwteEOj3Vw-",
   "metadata": {
    "colab": {
     "base_uri": "https://localhost:8080/"
    },
    "id": "CLwteEOj3Vw-",
    "outputId": "61d9d75f-287a-4817-c6ee-ab150146b631"
   },
   "outputs": [
    {
     "name": "stdout",
     "output_type": "stream",
     "text": [
      "\n",
      "\n",
      "Métrica ROC: 0.8860713761498328\n",
      "              precision    recall  f1-score   support\n",
      "\n",
      "         0.0       0.90      0.87      0.88     45148\n",
      "         1.0       0.87      0.90      0.89     45268\n",
      "\n",
      "    accuracy                           0.89     90416\n",
      "   macro avg       0.89      0.89      0.89     90416\n",
      "weighted avg       0.89      0.89      0.89     90416\n",
      "\n"
     ]
    },
    {
     "data": {
      "text/html": [
       "<style>#sk-container-id-1 {color: black;background-color: white;}#sk-container-id-1 pre{padding: 0;}#sk-container-id-1 div.sk-toggleable {background-color: white;}#sk-container-id-1 label.sk-toggleable__label {cursor: pointer;display: block;width: 100%;margin-bottom: 0;padding: 0.3em;box-sizing: border-box;text-align: center;}#sk-container-id-1 label.sk-toggleable__label-arrow:before {content: \"▸\";float: left;margin-right: 0.25em;color: #696969;}#sk-container-id-1 label.sk-toggleable__label-arrow:hover:before {color: black;}#sk-container-id-1 div.sk-estimator:hover label.sk-toggleable__label-arrow:before {color: black;}#sk-container-id-1 div.sk-toggleable__content {max-height: 0;max-width: 0;overflow: hidden;text-align: left;background-color: #f0f8ff;}#sk-container-id-1 div.sk-toggleable__content pre {margin: 0.2em;color: black;border-radius: 0.25em;background-color: #f0f8ff;}#sk-container-id-1 input.sk-toggleable__control:checked~div.sk-toggleable__content {max-height: 200px;max-width: 100%;overflow: auto;}#sk-container-id-1 input.sk-toggleable__control:checked~label.sk-toggleable__label-arrow:before {content: \"▾\";}#sk-container-id-1 div.sk-estimator input.sk-toggleable__control:checked~label.sk-toggleable__label {background-color: #d4ebff;}#sk-container-id-1 div.sk-label input.sk-toggleable__control:checked~label.sk-toggleable__label {background-color: #d4ebff;}#sk-container-id-1 input.sk-hidden--visually {border: 0;clip: rect(1px 1px 1px 1px);clip: rect(1px, 1px, 1px, 1px);height: 1px;margin: -1px;overflow: hidden;padding: 0;position: absolute;width: 1px;}#sk-container-id-1 div.sk-estimator {font-family: monospace;background-color: #f0f8ff;border: 1px dotted black;border-radius: 0.25em;box-sizing: border-box;margin-bottom: 0.5em;}#sk-container-id-1 div.sk-estimator:hover {background-color: #d4ebff;}#sk-container-id-1 div.sk-parallel-item::after {content: \"\";width: 100%;border-bottom: 1px solid gray;flex-grow: 1;}#sk-container-id-1 div.sk-label:hover label.sk-toggleable__label {background-color: #d4ebff;}#sk-container-id-1 div.sk-serial::before {content: \"\";position: absolute;border-left: 1px solid gray;box-sizing: border-box;top: 0;bottom: 0;left: 50%;z-index: 0;}#sk-container-id-1 div.sk-serial {display: flex;flex-direction: column;align-items: center;background-color: white;padding-right: 0.2em;padding-left: 0.2em;position: relative;}#sk-container-id-1 div.sk-item {position: relative;z-index: 1;}#sk-container-id-1 div.sk-parallel {display: flex;align-items: stretch;justify-content: center;background-color: white;position: relative;}#sk-container-id-1 div.sk-item::before, #sk-container-id-1 div.sk-parallel-item::before {content: \"\";position: absolute;border-left: 1px solid gray;box-sizing: border-box;top: 0;bottom: 0;left: 50%;z-index: -1;}#sk-container-id-1 div.sk-parallel-item {display: flex;flex-direction: column;z-index: 1;position: relative;background-color: white;}#sk-container-id-1 div.sk-parallel-item:first-child::after {align-self: flex-end;width: 50%;}#sk-container-id-1 div.sk-parallel-item:last-child::after {align-self: flex-start;width: 50%;}#sk-container-id-1 div.sk-parallel-item:only-child::after {width: 0;}#sk-container-id-1 div.sk-dashed-wrapped {border: 1px dashed gray;margin: 0 0.4em 0.5em 0.4em;box-sizing: border-box;padding-bottom: 0.4em;background-color: white;}#sk-container-id-1 div.sk-label label {font-family: monospace;font-weight: bold;display: inline-block;line-height: 1.2em;}#sk-container-id-1 div.sk-label-container {text-align: center;}#sk-container-id-1 div.sk-container {/* jupyter's `normalize.less` sets `[hidden] { display: none; }` but bootstrap.min.css set `[hidden] { display: none !important; }` so we also need the `!important` here to be able to override the default hidden behavior on the sphinx rendered scikit-learn.org. See: https://github.com/scikit-learn/scikit-learn/issues/21755 */display: inline-block !important;position: relative;}#sk-container-id-1 div.sk-text-repr-fallback {display: none;}</style><div id=\"sk-container-id-1\" class=\"sk-top-container\"><div class=\"sk-text-repr-fallback\"><pre>KNeighborsClassifier()</pre><b>In a Jupyter environment, please rerun this cell to show the HTML representation or trust the notebook. <br />On GitHub, the HTML representation is unable to render, please try loading this page with nbviewer.org.</b></div><div class=\"sk-container\" hidden><div class=\"sk-item\"><div class=\"sk-estimator sk-toggleable\"><input class=\"sk-toggleable__control sk-hidden--visually\" id=\"sk-estimator-id-1\" type=\"checkbox\" checked><label for=\"sk-estimator-id-1\" class=\"sk-toggleable__label sk-toggleable__label-arrow\">KNeighborsClassifier</label><div class=\"sk-toggleable__content\"><pre>KNeighborsClassifier()</pre></div></div></div></div></div>"
      ],
      "text/plain": [
       "KNeighborsClassifier()"
      ]
     },
     "execution_count": 23,
     "metadata": {},
     "output_type": "execute_result"
    }
   ],
   "source": [
    "myKNN(X_smote, y_smote, 5, 4, 0.2, 'c')"
   ]
  },
  {
   "cell_type": "markdown",
   "id": "862d0c04",
   "metadata": {
    "id": "862d0c04"
   },
   "source": [
    "---"
   ]
  }
 ],
 "metadata": {
  "colab": {
   "provenance": []
  },
  "hide_input": false,
  "kernelspec": {
   "display_name": "Python 3 (ipykernel)",
   "language": "python",
   "name": "python3"
  },
  "language_info": {
   "codemirror_mode": {
    "name": "ipython",
    "version": 3
   },
   "file_extension": ".py",
   "mimetype": "text/x-python",
   "name": "python",
   "nbconvert_exporter": "python",
   "pygments_lexer": "ipython3",
   "version": "3.9.7"
  },
  "vscode": {
   "interpreter": {
    "hash": "4d006cf5393e7c8312389aa68e163ad169b77ed95e02ba14603296128ce88a9c"
   }
  }
 },
 "nbformat": 4,
 "nbformat_minor": 5
}
