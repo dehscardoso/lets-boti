{
 "cells": [
  {
   "cell_type": "markdown",
   "id": "64c5d27b",
   "metadata": {},
   "source": [
    "<img src = \"https://images2.imgbox.com/a5/72/7ZbDUHlf_o.jpg\" width=\"200\">"
   ]
  },
  {
   "cell_type": "markdown",
   "id": "748ae62b",
   "metadata": {},
   "source": [
    "# KNN\n",
    "---\n",
    "O KNN (K-nearest neighbors ou “K-vizinhos mais próximos”) é um dos algoritmos mais utilizados em machine learning e possui um conceito bastante simplista assumindo que coisas semelhantes existem nas proximidades ou que coisas semelhantes estão próximas umas das outras.\n",
    "\n",
    "O K é um parâmetro a ser usado no modelo que define o tamanho da vizinhança a ser considerada. A seguir existe uma das possíveis implementações para tal algoritmo, considerando K = 1, fixo. Você alterará o código de tal forma que:\n",
    "\n",
    "i) O K seja um parâmetro a ser passado na função, podendo assumir qualquer valor maior ou igual a 1.\n",
    "\n",
    "ii) Exista um outro parâmetro, chamado `tipo`, que receberá os valores `\"r\"` ou `\"c\"` para realizar o KNN regressor ou o KNN classificador."
   ]
  },
  {
   "cell_type": "code",
   "execution_count": null,
   "id": "7929d856",
   "metadata": {},
   "outputs": [],
   "source": [
    "def calcula_distancia(p1, p2):\n",
    "    \n",
    "    if len(p1) != len(p2):\n",
    "        raise Exception('p1 e p2 devem ter o mesmo tamanho.')\n",
    "    \n",
    "    s = 0\n",
    "    for i in range(len(p1)):\n",
    "        s = s + (p1[i] - p2[i])**2\n",
    "\n",
    "    distancia = s**0.5\n",
    "    \n",
    "    return distancia"
   ]
  },
  {
   "cell_type": "code",
   "execution_count": 139,
   "id": "3a2a1133",
   "metadata": {},
   "outputs": [],
   "source": [
    "def predicao_knn(d_conhecidos, d_desconhecidos, resposta, k, tipo):\n",
    "    \n",
    "    if k <= 0:\n",
    "        raise Exception('k deve ser maior ou igual a 1.')\n",
    "          \n",
    "\n",
    "    \n",
    "    if isinstance(resposta, str) and tipo == 'c':        \n",
    "        var_expl = d_conhecidos.columns.values.tolist()\n",
    "        var_expl.remove(resposta)\n",
    "        var_resp = resposta\n",
    "        desconhecidos = pd.DataFrame(d_desconhecidos).T\n",
    "        \n",
    "        modelo = KNeighborsClassifier(k)\n",
    "        modelo.fit(d_conhecidos[var_expl], d_conhecidos[var_resp])\n",
    "        y_pred = modelo.predict(d_conhecidos[var_expl])\n",
    "        \n",
    "        print('Para o conjunto de dados com uma vizinhança de tamanho k =', k, ', temos que a', resposta, 'é', \n",
    "              modelo.predict(desconhecidos)[0], 'com acurácia de', \n",
    "              round(accuracy_score(conhecidos[var_resp], y_pred)*100, 2),'%')\n",
    "        \n",
    "        \n",
    "    elif isinstance(resposta, float) and tipo == 'r':\n",
    "        var_expl = d_conhecidos.columns.values.tolist()\n",
    "        var_resp = resposta\n",
    "        desconhecidos = pd.DataFrame(d_desconhecidos).T\n",
    "        \n",
    "        modelo = KNeighborsRegressor(k)\n",
    "        modelo.fit(d_conhecidos[var_expl], d_conhecidos[var_resp]).predict(T)\n",
    "        y_pred = modelo.predict(d_conhecidos[var_expl])\n",
    "        \n",
    "        print('Para o conjunto de dados com uma vizinhança de tamanho k =', k, ', temos que a', resposta, 'é', \n",
    "              modelo.predict(desconhecidos)[0], 'com acurácia de', \n",
    "              round(accuracy_score(conhecidos[var_resp], y_pred)*100, 2),'%')\n",
    "        \n",
    "    else:\n",
    "        raise Exception('Os tipos de dados não correspondem.')"
   ]
  },
  {
   "cell_type": "code",
   "execution_count": 140,
   "id": "fb98807a",
   "metadata": {},
   "outputs": [],
   "source": [
    "import pandas as pd\n",
    "from sklearn.metrics import accuracy_score\n",
    "from sklearn.model_selection import train_test_split\n",
    "from sklearn.neighbors import KNeighborsClassifier, KNeighborsRegressor"
   ]
  },
  {
   "cell_type": "code",
   "execution_count": 141,
   "id": "49aeb410",
   "metadata": {},
   "outputs": [],
   "source": [
    "dados = pd.read_csv('iris.csv')"
   ]
  },
  {
   "cell_type": "code",
   "execution_count": 142,
   "id": "57d16a5f",
   "metadata": {},
   "outputs": [
    {
     "data": {
      "text/html": [
       "<div>\n",
       "<style scoped>\n",
       "    .dataframe tbody tr th:only-of-type {\n",
       "        vertical-align: middle;\n",
       "    }\n",
       "\n",
       "    .dataframe tbody tr th {\n",
       "        vertical-align: top;\n",
       "    }\n",
       "\n",
       "    .dataframe thead th {\n",
       "        text-align: right;\n",
       "    }\n",
       "</style>\n",
       "<table border=\"1\" class=\"dataframe\">\n",
       "  <thead>\n",
       "    <tr style=\"text-align: right;\">\n",
       "      <th></th>\n",
       "      <th>sepal_length</th>\n",
       "      <th>sepal_width</th>\n",
       "      <th>petal_length</th>\n",
       "      <th>petal_width</th>\n",
       "      <th>species</th>\n",
       "    </tr>\n",
       "  </thead>\n",
       "  <tbody>\n",
       "    <tr>\n",
       "      <th>0</th>\n",
       "      <td>5.1</td>\n",
       "      <td>3.5</td>\n",
       "      <td>1.4</td>\n",
       "      <td>0.2</td>\n",
       "      <td>setosa</td>\n",
       "    </tr>\n",
       "    <tr>\n",
       "      <th>1</th>\n",
       "      <td>4.9</td>\n",
       "      <td>3.0</td>\n",
       "      <td>1.4</td>\n",
       "      <td>0.2</td>\n",
       "      <td>setosa</td>\n",
       "    </tr>\n",
       "    <tr>\n",
       "      <th>2</th>\n",
       "      <td>4.7</td>\n",
       "      <td>3.2</td>\n",
       "      <td>1.3</td>\n",
       "      <td>0.2</td>\n",
       "      <td>setosa</td>\n",
       "    </tr>\n",
       "    <tr>\n",
       "      <th>3</th>\n",
       "      <td>4.6</td>\n",
       "      <td>3.1</td>\n",
       "      <td>1.5</td>\n",
       "      <td>0.2</td>\n",
       "      <td>setosa</td>\n",
       "    </tr>\n",
       "    <tr>\n",
       "      <th>4</th>\n",
       "      <td>5.0</td>\n",
       "      <td>3.6</td>\n",
       "      <td>1.4</td>\n",
       "      <td>0.2</td>\n",
       "      <td>setosa</td>\n",
       "    </tr>\n",
       "  </tbody>\n",
       "</table>\n",
       "</div>"
      ],
      "text/plain": [
       "   sepal_length  sepal_width  petal_length  petal_width species\n",
       "0           5.1          3.5           1.4          0.2  setosa\n",
       "1           4.9          3.0           1.4          0.2  setosa\n",
       "2           4.7          3.2           1.3          0.2  setosa\n",
       "3           4.6          3.1           1.5          0.2  setosa\n",
       "4           5.0          3.6           1.4          0.2  setosa"
      ]
     },
     "execution_count": 142,
     "metadata": {},
     "output_type": "execute_result"
    }
   ],
   "source": [
    "dados.head()"
   ]
  },
  {
   "cell_type": "code",
   "execution_count": 143,
   "id": "4404acc6",
   "metadata": {},
   "outputs": [],
   "source": [
    "conhecidos = dados[1:].copy()\n",
    "desconhecidos = dados.loc[87, ['sepal_length', 'sepal_width', 'petal_length', 'petal_width']].copy()"
   ]
  },
  {
   "cell_type": "code",
   "execution_count": 144,
   "id": "cba3fd1c",
   "metadata": {},
   "outputs": [
    {
     "name": "stdout",
     "output_type": "stream",
     "text": [
      "Para o conjunto de dados com uma vizinhança de tamanho k = 50 , temos que a species é versicolor com acurácia de 93.96 %\n"
     ]
    }
   ],
   "source": [
    "predicao_knn(conhecidos, desconhecidos, 'species', 50, 'c')"
   ]
  },
  {
   "cell_type": "code",
   "execution_count": 145,
   "id": "025bf477",
   "metadata": {},
   "outputs": [
    {
     "name": "stdout",
     "output_type": "stream",
     "text": [
      "Para o conjunto de dados com uma vizinhança de tamanho k = 5 , temos que a species é versicolor com acurácia de 96.64 %\n"
     ]
    }
   ],
   "source": [
    "predicao_knn(conhecidos, desconhecidos, 'species', 5, 'c')"
   ]
  },
  {
   "cell_type": "code",
   "execution_count": 146,
   "id": "470519e6",
   "metadata": {},
   "outputs": [
    {
     "ename": "Exception",
     "evalue": "k deve ser maior ou igual a 1.",
     "output_type": "error",
     "traceback": [
      "\u001b[1;31m---------------------------------------------------------------------------\u001b[0m",
      "\u001b[1;31mException\u001b[0m                                 Traceback (most recent call last)",
      "\u001b[1;32m~\\AppData\\Local\\Temp/ipykernel_14188/830112500.py\u001b[0m in \u001b[0;36m<module>\u001b[1;34m\u001b[0m\n\u001b[1;32m----> 1\u001b[1;33m \u001b[0mpredicao_knn\u001b[0m\u001b[1;33m(\u001b[0m\u001b[0mconhecidos\u001b[0m\u001b[1;33m,\u001b[0m \u001b[0mdesconhecidos\u001b[0m\u001b[1;33m,\u001b[0m \u001b[1;34m'species'\u001b[0m\u001b[1;33m,\u001b[0m \u001b[1;33m-\u001b[0m\u001b[1;36m3\u001b[0m\u001b[1;33m,\u001b[0m \u001b[1;34m'c'\u001b[0m\u001b[1;33m)\u001b[0m\u001b[1;33m\u001b[0m\u001b[1;33m\u001b[0m\u001b[0m\n\u001b[0m",
      "\u001b[1;32m~\\AppData\\Local\\Temp/ipykernel_14188/3384365089.py\u001b[0m in \u001b[0;36mpredicao_knn\u001b[1;34m(d_conhecidos, d_desconhecidos, resposta, k, tipo)\u001b[0m\n\u001b[0;32m      2\u001b[0m \u001b[1;33m\u001b[0m\u001b[0m\n\u001b[0;32m      3\u001b[0m     \u001b[1;32mif\u001b[0m \u001b[0mk\u001b[0m \u001b[1;33m<=\u001b[0m \u001b[1;36m0\u001b[0m\u001b[1;33m:\u001b[0m\u001b[1;33m\u001b[0m\u001b[1;33m\u001b[0m\u001b[0m\n\u001b[1;32m----> 4\u001b[1;33m         \u001b[1;32mraise\u001b[0m \u001b[0mException\u001b[0m\u001b[1;33m(\u001b[0m\u001b[1;34m'k deve ser maior ou igual a 1.'\u001b[0m\u001b[1;33m)\u001b[0m\u001b[1;33m\u001b[0m\u001b[1;33m\u001b[0m\u001b[0m\n\u001b[0m\u001b[0;32m      5\u001b[0m \u001b[1;33m\u001b[0m\u001b[0m\n\u001b[0;32m      6\u001b[0m \u001b[1;33m\u001b[0m\u001b[0m\n",
      "\u001b[1;31mException\u001b[0m: k deve ser maior ou igual a 1."
     ]
    }
   ],
   "source": [
    "predicao_knn(conhecidos, desconhecidos, 'species', -3, 'c')"
   ]
  },
  {
   "cell_type": "code",
   "execution_count": 149,
   "id": "50965b65",
   "metadata": {},
   "outputs": [
    {
     "ename": "Exception",
     "evalue": "Os tipos de dados não correspondem.",
     "output_type": "error",
     "traceback": [
      "\u001b[1;31m---------------------------------------------------------------------------\u001b[0m",
      "\u001b[1;31mException\u001b[0m                                 Traceback (most recent call last)",
      "\u001b[1;32m~\\AppData\\Local\\Temp/ipykernel_14188/3716387512.py\u001b[0m in \u001b[0;36m<module>\u001b[1;34m\u001b[0m\n\u001b[1;32m----> 1\u001b[1;33m \u001b[0mpredicao_knn\u001b[0m\u001b[1;33m(\u001b[0m\u001b[0mconhecidos\u001b[0m\u001b[1;33m,\u001b[0m \u001b[0mdesconhecidos\u001b[0m\u001b[1;33m,\u001b[0m \u001b[1;36m1\u001b[0m\u001b[1;33m,\u001b[0m \u001b[1;36m5\u001b[0m\u001b[1;33m,\u001b[0m \u001b[1;34m'r'\u001b[0m\u001b[1;33m)\u001b[0m\u001b[1;33m\u001b[0m\u001b[1;33m\u001b[0m\u001b[0m\n\u001b[0m",
      "\u001b[1;32m~\\AppData\\Local\\Temp/ipykernel_14188/3384365089.py\u001b[0m in \u001b[0;36mpredicao_knn\u001b[1;34m(d_conhecidos, d_desconhecidos, resposta, k, tipo)\u001b[0m\n\u001b[0;32m     35\u001b[0m \u001b[1;33m\u001b[0m\u001b[0m\n\u001b[0;32m     36\u001b[0m     \u001b[1;32melse\u001b[0m\u001b[1;33m:\u001b[0m\u001b[1;33m\u001b[0m\u001b[1;33m\u001b[0m\u001b[0m\n\u001b[1;32m---> 37\u001b[1;33m         \u001b[1;32mraise\u001b[0m \u001b[0mException\u001b[0m\u001b[1;33m(\u001b[0m\u001b[1;34m'Os tipos de dados não correspondem.'\u001b[0m\u001b[1;33m)\u001b[0m\u001b[1;33m\u001b[0m\u001b[1;33m\u001b[0m\u001b[0m\n\u001b[0m",
      "\u001b[1;31mException\u001b[0m: Os tipos de dados não correspondem."
     ]
    }
   ],
   "source": [
    "predicao_knn(conhecidos, desconhecidos, 1, 5, 'r')"
   ]
  },
  {
   "cell_type": "code",
   "execution_count": null,
   "id": "94cdfb1d",
   "metadata": {},
   "outputs": [],
   "source": []
  }
 ],
 "metadata": {
  "hide_input": false,
  "kernelspec": {
   "display_name": "Python 3 (ipykernel)",
   "language": "python",
   "name": "python3"
  },
  "language_info": {
   "codemirror_mode": {
    "name": "ipython",
    "version": 3
   },
   "file_extension": ".py",
   "mimetype": "text/x-python",
   "name": "python",
   "nbconvert_exporter": "python",
   "pygments_lexer": "ipython3",
   "version": "3.9.7"
  }
 },
 "nbformat": 4,
 "nbformat_minor": 5
}
