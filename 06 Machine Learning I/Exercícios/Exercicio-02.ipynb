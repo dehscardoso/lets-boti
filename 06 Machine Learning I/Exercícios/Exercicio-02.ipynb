{
 "cells": [
  {
   "cell_type": "markdown",
   "id": "64c5d27b",
   "metadata": {},
   "source": [
    "<img src = \"https://images2.imgbox.com/a5/72/7ZbDUHlf_o.jpg\" width=\"200\">"
   ]
  },
  {
   "cell_type": "markdown",
   "id": "748ae62b",
   "metadata": {},
   "source": [
    "# Criando um Random Classifier\n",
    "---\n",
    "Com base no seguinte esqueleto, realizar os TO-DOs e montar uma classe para ajustar um classificador aleatório."
   ]
  },
  {
   "cell_type": "code",
   "execution_count": null,
   "id": "aa1cd5b8",
   "metadata": {},
   "outputs": [],
   "source": [
    "from sklearn.tree import DecisionTreeClassifier\n",
    "\n",
    "class RandomForest:\n",
    "\n",
    "    ## TODO se achar necessário, adicionar novos parâmetros no construtor\n",
    "    def __init__(self, n_arvores, modelo):\n",
    "        self.n_arvores = n_arvores\n",
    "        self.modelo = modelo\n",
    "\n",
    "    def __repr__(self):\n",
    "        return f'Random Classifier com {self.n_arvores} modelos do tipo {str(self.modelo)}'\n",
    "\n",
    "    # TODO ajustar método fit\n",
    "    def fit(self, x, y):\n",
    "\n",
    "        self.modelo.fit(x, y)\n",
    "        return\n",
    "\n",
    "    # TODO criar método predict\n",
    "    def predict(self, x):\n",
    "\n",
    "        return"
   ]
  },
  {
   "cell_type": "code",
   "execution_count": 12,
   "id": "d216bd3a",
   "metadata": {},
   "outputs": [],
   "source": [
    "class RandomForest():\n",
    "    \n",
    "    ## TODO se achar necessário, adicionar novos parâmetros no construtor\n",
    "    def __init__(self, n_arvores, modelo, loss='gini'):\n",
    "        self.n_arvores = n_arvores\n",
    "        self.loss = loss\n",
    "        \n",
    "    def __repr__(self):\n",
    "        return f'Random Classifier com {self.n_arvores} modelos do tipo {str(self.modelo)}'\n",
    "\n",
    "    def get_params(self, deep = False):\n",
    "        return {'n_arvores':self.n_arvores,\n",
    "                'modelo':self.modelo,\n",
    "                'loss':self.loss}\n",
    "    \n",
    "    # TODO ajustar método fit\n",
    "    def fit(self, x, y):\n",
    "        rfc = self.modelo.fit(x, y)\n",
    "        acuracia = np.array([])\n",
    "        precisao = np.array([])\n",
    "        recall   = np.array([])\n",
    "\n",
    "        for b,m in zip(rfc, self.trees):\n",
    "            if rfc[b].size:\n",
    "                yp  = m.predict(rfc[b][:,:-1])\n",
    "                acc = accuracy_score(rfc[b][:,-1], yp)\n",
    "                pre = precision_score(rfc[b][:,-1], yp, average='weighted')   \n",
    "                rec = recall_score(rfc[b][:,-1], yp, average='weighted')\n",
    "                    \n",
    "                acuracia = np.concatenate((acuracia, acc.flatten()))\n",
    "                precisao = np.concatenate((precisao, pre.flatten()))\n",
    "                recall   = np.concatenate((recall, rec.flatten()))\n",
    "\n",
    "        print('Acurácia: %.2f' % np.std(acuracia))\n",
    "        print('Precisão: %.2f' % np.std(precisao))\n",
    "        print('Recal: %.2f' % np.std(recall))\n",
    "            \n",
    "    # TODO criar método predict\n",
    "    def predict(self, x):\n",
    "        y_pred = self._predict(x)\n",
    "        return(np.round(y_pred).astype(int))"
   ]
  },
  {
   "cell_type": "markdown",
   "id": "3a4e0163",
   "metadata": {},
   "source": [
    "---"
   ]
  }
 ],
 "metadata": {
  "hide_input": false,
  "kernelspec": {
   "display_name": "Python 3 (ipykernel)",
   "language": "python",
   "name": "python3"
  },
  "language_info": {
   "codemirror_mode": {
    "name": "ipython",
    "version": 3
   },
   "file_extension": ".py",
   "mimetype": "text/x-python",
   "name": "python",
   "nbconvert_exporter": "python",
   "pygments_lexer": "ipython3",
   "version": "3.9.7"
  }
 },
 "nbformat": 4,
 "nbformat_minor": 5
}
