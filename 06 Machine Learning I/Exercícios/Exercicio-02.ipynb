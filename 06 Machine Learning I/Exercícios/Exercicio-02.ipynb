{
 "cells": [
  {
   "cell_type": "markdown",
   "id": "64c5d27b",
   "metadata": {},
   "source": [
    "<img src = \"https://images2.imgbox.com/a5/72/7ZbDUHlf_o.jpg\" width=\"200\">"
   ]
  },
  {
   "cell_type": "markdown",
   "id": "748ae62b",
   "metadata": {},
   "source": [
    "# Criando um Random Classifier\n",
    "---\n",
    "Com base no seguinte esqueleto, realizar os TO-DOs e montar uma classe para ajustar um classificador aleatório."
   ]
  },
  {
   "cell_type": "code",
   "execution_count": 1,
   "id": "7929d856",
   "metadata": {},
   "outputs": [],
   "source": [
    "from sklearn.tree import DecisionTreeClassifier\n",
    "\n",
    "class RandomForest:\n",
    "\n",
    "    ## TODO se achar necessário, adicionar novos parâmetros no construtor\n",
    "    def __init__(self, n_arvores, modelo):\n",
    "        self.n_arvores = n_arvores\n",
    "        self.modelo = modelo\n",
    "\n",
    "    def __repr__(self):\n",
    "        return f'Random Classifier com {self.n_arvores} modelos do tipo {str(self.modelo)}'\n",
    "\n",
    "    # TODO ajustar método fit\n",
    "    def fit(self, x, y):\n",
    "\n",
    "        self.modelo.fit(x, y)\n",
    "        return\n",
    "\n",
    "    # TODO criar método predict\n",
    "    def predict(self, x):\n",
    "\n",
    "        return"
   ]
  },
  {
   "cell_type": "markdown",
   "id": "3a4e0163",
   "metadata": {},
   "source": [
    "---"
   ]
  }
 ],
 "metadata": {
  "hide_input": false,
  "kernelspec": {
   "display_name": "Python 3 (ipykernel)",
   "language": "python",
   "name": "python3"
  },
  "language_info": {
   "codemirror_mode": {
    "name": "ipython",
    "version": 3
   },
   "file_extension": ".py",
   "mimetype": "text/x-python",
   "name": "python",
   "nbconvert_exporter": "python",
   "pygments_lexer": "ipython3",
   "version": "3.9.7"
  }
 },
 "nbformat": 4,
 "nbformat_minor": 5
}
