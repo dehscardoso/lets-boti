{
 "cells": [
  {
   "cell_type": "markdown",
   "id": "64c5d27b",
   "metadata": {},
   "source": [
    "<img src = \"https://images2.imgbox.com/a5/72/7ZbDUHlf_o.jpg\" width=\"200\">"
   ]
  },
  {
   "cell_type": "markdown",
   "id": "748ae62b",
   "metadata": {},
   "source": [
    "# KNN\n",
    "---\n",
    "O KNN (K-nearest neighbors ou “K-vizinhos mais próximos”) é um dos algoritmos mais utilizados em machine learning e possui um conceito bastante simplista assumindo que coisas semelhantes existem nas proximidades ou que coisas semelhantes estão próximas umas das outras.\n",
    "\n",
    "O K é um parâmetro a ser usado no modelo que define o tamanho da vizinhança a ser considerada. A seguir existe uma das possíveis implementações para tal algoritmo, considerando K = 1, fixo. Você alterará o código de tal forma que:\n",
    "\n",
    "i) O K seja um parâmetro a ser passado na função, podendo assumir qualquer valor maior ou igual a 1.\n",
    "\n",
    "ii) Exista um outro parâmetro, chamado `tipo`, que receberá os valores `\"r\"` ou `\"c\"` para realizar o KNN regressor ou o KNN classificador."
   ]
  },
  {
   "cell_type": "code",
   "execution_count": 1,
   "id": "7929d856",
   "metadata": {},
   "outputs": [],
   "source": [
    "# função para calcular a distância dos vizinhos\n",
    "def calcula_distancia(p1, p2):\n",
    "    \n",
    "    if len(p1) != len(p2):\n",
    "        raise Exception('p1 e p2 devem ter o mesmo tamanho.')\n",
    "    \n",
    "    s = 0\n",
    "    for i in range(len(p1)):\n",
    "        s = s + (p1[i] - p2[i])**2\n",
    "\n",
    "    distancia = s**0.5\n",
    "    \n",
    "    return distancia"
   ]
  },
  {
   "cell_type": "code",
   "execution_count": 2,
   "id": "3a2a1133",
   "metadata": {},
   "outputs": [],
   "source": [
    "# função para prever o vizinho mais próximo\n",
    "def predicao_knn(d_conhecidos, d_desconhecidos, resposta, k, tipo):\n",
    "    \n",
    "    if k <= 0:\n",
    "        raise Exception('k deve ser maior ou igual a 1.')\n",
    "        \n",
    "    distancia = []\n",
    "    \n",
    "    for index, elem in d_conhecidos.iterrows():\n",
    "        distancia.append(calcula_distancia(elem.drop(resposta), d_desconhecidos))\n",
    "    \n",
    "    d_conhecidos_copy = d_conhecidos.copy()\n",
    "    d_conhecidos_copy['distancia'] = distancia\n",
    "    d_conhecidos_copy.sort_values(by = 'distancia', inplace = True)\n",
    "    \n",
    "    vizinhos = d_conhecidos_copy[:k]  \n",
    "    valores_vizinhos = [linha[resposta] for i, linha in vizinhos.iterrows()]\n",
    "    \n",
    "    # classificador\n",
    "    if tipo == 'c': \n",
    "        previsao = mode(valores_vizinhos)\n",
    "        print('Para o conjunto de dados com uma vizinhança de tamanho k =', k, ', temos que a', resposta, 'é', previsao)  \n",
    "        \n",
    "    # regressor     \n",
    "    elif tipo == 'r':   \n",
    "        previsao = max(set(valores_vizinhos), key=valores_vizinhos.count) \n",
    "        print('Para o conjunto de dados com uma vizinhança de tamanho k =', k, ', temos que a', resposta, 'é', previsao) \n",
    "        \n",
    "    else:\n",
    "        raise Exception('Os tipos de dados não correspondem.')"
   ]
  },
  {
   "cell_type": "code",
   "execution_count": 3,
   "id": "fb98807a",
   "metadata": {},
   "outputs": [],
   "source": [
    "# importando bibliotecas\n",
    "import pandas as pd\n",
    "from statistics import mode\n",
    "from sklearn.model_selection import train_test_split"
   ]
  },
  {
   "cell_type": "code",
   "execution_count": 4,
   "id": "49aeb410",
   "metadata": {},
   "outputs": [],
   "source": [
    "# carregando dados\n",
    "dados = pd.read_csv('iris.csv')"
   ]
  },
  {
   "cell_type": "code",
   "execution_count": 5,
   "id": "57d16a5f",
   "metadata": {},
   "outputs": [
    {
     "data": {
      "text/html": [
       "<div>\n",
       "<style scoped>\n",
       "    .dataframe tbody tr th:only-of-type {\n",
       "        vertical-align: middle;\n",
       "    }\n",
       "\n",
       "    .dataframe tbody tr th {\n",
       "        vertical-align: top;\n",
       "    }\n",
       "\n",
       "    .dataframe thead th {\n",
       "        text-align: right;\n",
       "    }\n",
       "</style>\n",
       "<table border=\"1\" class=\"dataframe\">\n",
       "  <thead>\n",
       "    <tr style=\"text-align: right;\">\n",
       "      <th></th>\n",
       "      <th>sepal_length</th>\n",
       "      <th>sepal_width</th>\n",
       "      <th>petal_length</th>\n",
       "      <th>petal_width</th>\n",
       "      <th>species</th>\n",
       "    </tr>\n",
       "  </thead>\n",
       "  <tbody>\n",
       "    <tr>\n",
       "      <th>0</th>\n",
       "      <td>5.1</td>\n",
       "      <td>3.5</td>\n",
       "      <td>1.4</td>\n",
       "      <td>0.2</td>\n",
       "      <td>setosa</td>\n",
       "    </tr>\n",
       "    <tr>\n",
       "      <th>1</th>\n",
       "      <td>4.9</td>\n",
       "      <td>3.0</td>\n",
       "      <td>1.4</td>\n",
       "      <td>0.2</td>\n",
       "      <td>setosa</td>\n",
       "    </tr>\n",
       "    <tr>\n",
       "      <th>2</th>\n",
       "      <td>4.7</td>\n",
       "      <td>3.2</td>\n",
       "      <td>1.3</td>\n",
       "      <td>0.2</td>\n",
       "      <td>setosa</td>\n",
       "    </tr>\n",
       "    <tr>\n",
       "      <th>3</th>\n",
       "      <td>4.6</td>\n",
       "      <td>3.1</td>\n",
       "      <td>1.5</td>\n",
       "      <td>0.2</td>\n",
       "      <td>setosa</td>\n",
       "    </tr>\n",
       "    <tr>\n",
       "      <th>4</th>\n",
       "      <td>5.0</td>\n",
       "      <td>3.6</td>\n",
       "      <td>1.4</td>\n",
       "      <td>0.2</td>\n",
       "      <td>setosa</td>\n",
       "    </tr>\n",
       "  </tbody>\n",
       "</table>\n",
       "</div>"
      ],
      "text/plain": [
       "   sepal_length  sepal_width  petal_length  petal_width species\n",
       "0           5.1          3.5           1.4          0.2  setosa\n",
       "1           4.9          3.0           1.4          0.2  setosa\n",
       "2           4.7          3.2           1.3          0.2  setosa\n",
       "3           4.6          3.1           1.5          0.2  setosa\n",
       "4           5.0          3.6           1.4          0.2  setosa"
      ]
     },
     "execution_count": 5,
     "metadata": {},
     "output_type": "execute_result"
    }
   ],
   "source": [
    "# primeiras cinco observações do dataset\n",
    "dados.head()"
   ]
  },
  {
   "cell_type": "code",
   "execution_count": 6,
   "id": "4404acc6",
   "metadata": {},
   "outputs": [],
   "source": [
    "# separação das variáveis explicativas e resposta\n",
    "var_expl = ['sepal_length', 'sepal_width', 'petal_length', 'petal_width']\n",
    "var_resp = 'species'"
   ]
  },
  {
   "cell_type": "code",
   "execution_count": 7,
   "id": "23a30b5b",
   "metadata": {},
   "outputs": [],
   "source": [
    "# separação dos dados de treino e teste\n",
    "df_treino, df_teste = train_test_split(dados, test_size = 0.3, random_state = 42)\n",
    "\n",
    "x_treino = df_treino[var_expl]\n",
    "x_teste  = df_teste[var_expl]\n",
    "\n",
    "y_treino = df_treino[var_resp]\n",
    "y_teste  = df_teste[var_resp]"
   ]
  },
  {
   "cell_type": "code",
   "execution_count": 8,
   "id": "4b6ccb9c",
   "metadata": {},
   "outputs": [],
   "source": [
    "# separação dos dados conhecidos \n",
    "conhecidos = df_treino"
   ]
  },
  {
   "cell_type": "markdown",
   "id": "3a542caf",
   "metadata": {},
   "source": [
    "### Teste do Classificador"
   ]
  },
  {
   "cell_type": "code",
   "execution_count": 9,
   "id": "42688c77",
   "metadata": {},
   "outputs": [],
   "source": [
    "# separação dos dados desconhecidos \n",
    "desconhecidos = x_teste.iloc[0:1].squeeze()"
   ]
  },
  {
   "cell_type": "code",
   "execution_count": 10,
   "id": "025bf477",
   "metadata": {},
   "outputs": [
    {
     "name": "stdout",
     "output_type": "stream",
     "text": [
      "Para o conjunto de dados com uma vizinhança de tamanho k = 5 , temos que a species é versicolor\n"
     ]
    }
   ],
   "source": [
    "predicao_knn(conhecidos, desconhecidos, var_resp, 5, 'c')"
   ]
  },
  {
   "cell_type": "code",
   "execution_count": 11,
   "id": "eb8a0e13",
   "metadata": {},
   "outputs": [],
   "source": [
    "# separação dos dados desconhecidos \n",
    "desconhecidos = x_teste.iloc[30:31].squeeze()"
   ]
  },
  {
   "cell_type": "code",
   "execution_count": 12,
   "id": "46b9cbb4",
   "metadata": {},
   "outputs": [
    {
     "name": "stdout",
     "output_type": "stream",
     "text": [
      "Para o conjunto de dados com uma vizinhança de tamanho k = 25 , temos que a species é setosa\n"
     ]
    }
   ],
   "source": [
    "predicao_knn(conhecidos, desconhecidos, var_resp, 25, 'c')"
   ]
  },
  {
   "cell_type": "code",
   "execution_count": 13,
   "id": "68ab5980",
   "metadata": {},
   "outputs": [],
   "source": [
    "# separação dos dados desconhecidos \n",
    "desconhecidos = x_teste.iloc[19:20].squeeze()"
   ]
  },
  {
   "cell_type": "code",
   "execution_count": 14,
   "id": "e6d983de",
   "metadata": {},
   "outputs": [
    {
     "name": "stdout",
     "output_type": "stream",
     "text": [
      "Para o conjunto de dados com uma vizinhança de tamanho k = 50 , temos que a species é virginica\n"
     ]
    }
   ],
   "source": [
    "predicao_knn(conhecidos, desconhecidos, var_resp, 50, 'c')"
   ]
  },
  {
   "cell_type": "markdown",
   "id": "b2106681",
   "metadata": {},
   "source": [
    "### Teste do Regressor"
   ]
  },
  {
   "cell_type": "code",
   "execution_count": 15,
   "id": "c72349b9",
   "metadata": {},
   "outputs": [],
   "source": [
    "# separação das variáveis explicativas e resposta\n",
    "var_expl = ['sepal_length', 'sepal_width', 'petal_length', 'petal_width']\n",
    "var_resp = 'species'"
   ]
  },
  {
   "cell_type": "code",
   "execution_count": 16,
   "id": "a0b8b2c3",
   "metadata": {},
   "outputs": [],
   "source": [
    "# separação dos dados de treino e teste\n",
    "df_treino, df_teste = train_test_split(dados, test_size = 0.3, random_state = 42)\n",
    "\n",
    "x_treino = df_treino[var_expl]\n",
    "x_teste  = df_teste[var_expl]\n",
    "\n",
    "y_treino = df_treino[var_resp]\n",
    "y_teste  = df_teste[var_resp]"
   ]
  },
  {
   "cell_type": "code",
   "execution_count": 17,
   "id": "9fb5d97a",
   "metadata": {},
   "outputs": [],
   "source": [
    "# separação dos dados conhecidos \n",
    "conhecidos = df_treino"
   ]
  },
  {
   "cell_type": "code",
   "execution_count": 18,
   "id": "981bab74",
   "metadata": {},
   "outputs": [],
   "source": [
    "# separação dos dados desconhecidos \n",
    "desconhecidos = x_teste.iloc[0:1].squeeze()"
   ]
  },
  {
   "cell_type": "code",
   "execution_count": 19,
   "id": "0f45def6",
   "metadata": {},
   "outputs": [
    {
     "name": "stdout",
     "output_type": "stream",
     "text": [
      "Para o conjunto de dados com uma vizinhança de tamanho k = 5 , temos que a species é versicolor\n"
     ]
    }
   ],
   "source": [
    "predicao_knn(conhecidos, desconhecidos, var_resp, 5, 'r')"
   ]
  },
  {
   "cell_type": "code",
   "execution_count": 20,
   "id": "317fb851",
   "metadata": {},
   "outputs": [],
   "source": [
    "# separação dos dados desconhecidos \n",
    "desconhecidos = x_teste.iloc[30:31].squeeze()"
   ]
  },
  {
   "cell_type": "code",
   "execution_count": 21,
   "id": "94cdfb1d",
   "metadata": {},
   "outputs": [
    {
     "name": "stdout",
     "output_type": "stream",
     "text": [
      "Para o conjunto de dados com uma vizinhança de tamanho k = 25 , temos que a species é setosa\n"
     ]
    }
   ],
   "source": [
    "predicao_knn(conhecidos, desconhecidos, var_resp, 25, 'r')"
   ]
  },
  {
   "cell_type": "code",
   "execution_count": 22,
   "id": "3219a3fe",
   "metadata": {},
   "outputs": [],
   "source": [
    "# separação dos dados desconhecidos \n",
    "desconhecidos = x_teste.iloc[19:20].squeeze()"
   ]
  },
  {
   "cell_type": "code",
   "execution_count": 23,
   "id": "198361bb",
   "metadata": {},
   "outputs": [
    {
     "name": "stdout",
     "output_type": "stream",
     "text": [
      "Para o conjunto de dados com uma vizinhança de tamanho k = 50 , temos que a species é virginica\n"
     ]
    }
   ],
   "source": [
    "predicao_knn(conhecidos, desconhecidos, var_resp, 50, 'r')"
   ]
  },
  {
   "cell_type": "markdown",
   "id": "3a4e0163",
   "metadata": {},
   "source": [
    "---"
   ]
  }
 ],
 "metadata": {
  "hide_input": false,
  "kernelspec": {
   "display_name": "Python 3 (ipykernel)",
   "language": "python",
   "name": "python3"
  },
  "language_info": {
   "codemirror_mode": {
    "name": "ipython",
    "version": 3
   },
   "file_extension": ".py",
   "mimetype": "text/x-python",
   "name": "python",
   "nbconvert_exporter": "python",
   "pygments_lexer": "ipython3",
   "version": "3.9.7"
  }
 },
 "nbformat": 4,
 "nbformat_minor": 5
}
