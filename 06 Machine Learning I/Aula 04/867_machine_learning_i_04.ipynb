{
 "cells": [
  {
   "cell_type": "markdown",
   "id": "4838cc9d",
   "metadata": {},
   "source": [
    "# Na aula anterior..."
   ]
  },
  {
   "cell_type": "markdown",
   "id": "6f2f1672",
   "metadata": {},
   "source": [
    "Por que o KNN é considerado um lazy algorithm/algoritmo preguiçoso?"
   ]
  },
  {
   "cell_type": "raw",
   "id": "29b0214c",
   "metadata": {},
   "source": [
    "Todas os cálculos são realizados no momento da previsão."
   ]
  },
  {
   "cell_type": "markdown",
   "id": "e86a949f",
   "metadata": {},
   "source": [
    "Acurácia"
   ]
  },
  {
   "cell_type": "raw",
   "id": "dae636dd",
   "metadata": {},
   "source": [
    "Porcentagem de acerto:\n",
    "    - Número de acertos dividido pelo número total de casos"
   ]
  },
  {
   "cell_type": "markdown",
   "id": "85e5db11",
   "metadata": {},
   "source": [
    "Precisão"
   ]
  },
  {
   "cell_type": "raw",
   "id": "710d4a0b",
   "metadata": {},
   "source": [
    "Quantidade de casos que acertei dentre todos que o modelo diz que são\n",
    "Ponto de vista da previsão"
   ]
  },
  {
   "cell_type": "markdown",
   "id": "897ec071",
   "metadata": {},
   "source": [
    "Sensibilidade"
   ]
  },
  {
   "cell_type": "raw",
   "id": "0304413b",
   "metadata": {},
   "source": [
    "Quantidade de casos que acertei dentre todos que são positivos\n",
    "Ponto de vista da realidade"
   ]
  },
  {
   "cell_type": "markdown",
   "id": "196f4078",
   "metadata": {},
   "source": [
    "ROC AUC"
   ]
  },
  {
   "cell_type": "raw",
   "id": "2fc9c900",
   "metadata": {},
   "source": [
    "Métrica para previsões binárias com valor entre 0 - 1 que analisa o modelo de forma independente ao limiar da previsão em probabilidade.\n",
    "\n",
    "Melhor caso: 1.00 (ou 0.00)\n",
    "Caso médio: 0.75 (ou 0.25)\n",
    "Pior caso: 0.50"
   ]
  },
  {
   "cell_type": "markdown",
   "id": "de4c47b1",
   "metadata": {},
   "source": [
    "# Hoje!"
   ]
  },
  {
   "cell_type": "markdown",
   "id": "661a501e",
   "metadata": {},
   "source": [
    "### Introdução Intuitiva - Árvore de Classificação"
   ]
  },
  {
   "cell_type": "markdown",
   "id": "8138d810",
   "metadata": {},
   "source": [
    "#### Case Futebol:  Jogos do Palmeiras em 2018\n",
    "\n",
    "- É jogo de copa?\n",
    "    - Sim: É das quartas em diante final?\n",
    "        - Sim: Rychard foi ao estádio?\n",
    "            - Sim: Palmeiras venceu\n",
    "            - Não: Palmeiras perdeu\n",
    "        - Não: Palmeiras venceu \n",
    "    - Não: Rychard está em casa?\n",
    "        - Sim: Rychard fez pipoca?\n",
    "            - Sim: Palmeiras venceu\n",
    "            - Não: Palmeiras perdeu\n",
    "        - Não: Palmeiras perdeu\n",
    "            \n",
    "~Resumo: a libertadores não veio em 2018 por culpa minha~"
   ]
  },
  {
   "cell_type": "markdown",
   "id": "7f21666c",
   "metadata": {},
   "source": [
    "Da mesma forma que uma uma regressão logística, uma árvore de decisão representa uma função que toma como entrada uma série de atributos/*features* e retorna uma **decisão**: um valor de saída único.\n",
    "\n",
    "Uma boa analogia é com os manuais de conserto de eletrodomésticos dos anos 90: se uma situação A acontecer, você seguirá os passos descritos pelo caminho A+; caso contrário, seguirá pelo caminho A-; cada caminho levará a diferentes verificações e, consequentemente, a diferentes conclusões.  chegando à sua conclusão por meio da execução de uma série de testes, em geral de \"verdadeiro-falso\". De forma simples e direta, é um conjunto de regras *if-then-else*, sendo de fácil interpretação e implementação.\n",
    "\n",
    "Olhando para o exemplo da imagem a seguir, podemos ilustrar essa sequência: a raiz e cada nó interno na árvore correspondem ao testes de um atributo de entrada do modelo; as folhas representam a decisão para esse caminho que foi percorrido. \n",
    "\n",
    "![tree_nos](imagens/tree_nos.jpg)\n",
    "\n",
    "Porém, os testes que ocorrem nos atributos não são aleatórios: devem ser entendidos como funções de custo que buscam otimizar a homogeneidade de suas subpopulações. Queremos fazer com que cada subpopulação de cada nó esteja cada vez mais homogêneo possível, até chegar a folha, usando para isso uma estratégia de dividir para conquistar. \n",
    "\n",
    "Vamos tomar como base uma amostra da tabela do Titanic:"
   ]
  },
  {
   "cell_type": "code",
   "execution_count": 10,
   "id": "872b30ee",
   "metadata": {},
   "outputs": [
    {
     "data": {
      "text/html": [
       "<div>\n",
       "<style scoped>\n",
       "    .dataframe tbody tr th:only-of-type {\n",
       "        vertical-align: middle;\n",
       "    }\n",
       "\n",
       "    .dataframe tbody tr th {\n",
       "        vertical-align: top;\n",
       "    }\n",
       "\n",
       "    .dataframe thead th {\n",
       "        text-align: right;\n",
       "    }\n",
       "</style>\n",
       "<table border=\"1\" class=\"dataframe\">\n",
       "  <thead>\n",
       "    <tr style=\"text-align: right;\">\n",
       "      <th></th>\n",
       "      <th>PassengerId</th>\n",
       "      <th>Survived</th>\n",
       "      <th>Pclass</th>\n",
       "      <th>Name</th>\n",
       "      <th>Sex</th>\n",
       "      <th>Age</th>\n",
       "      <th>SibSp</th>\n",
       "      <th>Parch</th>\n",
       "      <th>Ticket</th>\n",
       "      <th>Fare</th>\n",
       "      <th>Cabin</th>\n",
       "      <th>Embarked</th>\n",
       "    </tr>\n",
       "  </thead>\n",
       "  <tbody>\n",
       "    <tr>\n",
       "      <th>862</th>\n",
       "      <td>863</td>\n",
       "      <td>1</td>\n",
       "      <td>1</td>\n",
       "      <td>Swift, Mrs. Frederick Joel (Margaret Welles Ba...</td>\n",
       "      <td>female</td>\n",
       "      <td>48.0</td>\n",
       "      <td>0</td>\n",
       "      <td>0</td>\n",
       "      <td>17466</td>\n",
       "      <td>25.9292</td>\n",
       "      <td>D17</td>\n",
       "      <td>S</td>\n",
       "    </tr>\n",
       "    <tr>\n",
       "      <th>223</th>\n",
       "      <td>224</td>\n",
       "      <td>0</td>\n",
       "      <td>3</td>\n",
       "      <td>Nenkoff, Mr. Christo</td>\n",
       "      <td>male</td>\n",
       "      <td>NaN</td>\n",
       "      <td>0</td>\n",
       "      <td>0</td>\n",
       "      <td>349234</td>\n",
       "      <td>7.8958</td>\n",
       "      <td>NaN</td>\n",
       "      <td>S</td>\n",
       "    </tr>\n",
       "    <tr>\n",
       "      <th>84</th>\n",
       "      <td>85</td>\n",
       "      <td>1</td>\n",
       "      <td>2</td>\n",
       "      <td>Ilett, Miss. Bertha</td>\n",
       "      <td>female</td>\n",
       "      <td>17.0</td>\n",
       "      <td>0</td>\n",
       "      <td>0</td>\n",
       "      <td>SO/C 14885</td>\n",
       "      <td>10.5000</td>\n",
       "      <td>NaN</td>\n",
       "      <td>S</td>\n",
       "    </tr>\n",
       "    <tr>\n",
       "      <th>680</th>\n",
       "      <td>681</td>\n",
       "      <td>0</td>\n",
       "      <td>3</td>\n",
       "      <td>Peters, Miss. Katie</td>\n",
       "      <td>female</td>\n",
       "      <td>NaN</td>\n",
       "      <td>0</td>\n",
       "      <td>0</td>\n",
       "      <td>330935</td>\n",
       "      <td>8.1375</td>\n",
       "      <td>NaN</td>\n",
       "      <td>Q</td>\n",
       "    </tr>\n",
       "    <tr>\n",
       "      <th>535</th>\n",
       "      <td>536</td>\n",
       "      <td>1</td>\n",
       "      <td>2</td>\n",
       "      <td>Hart, Miss. Eva Miriam</td>\n",
       "      <td>female</td>\n",
       "      <td>7.0</td>\n",
       "      <td>0</td>\n",
       "      <td>2</td>\n",
       "      <td>F.C.C. 13529</td>\n",
       "      <td>26.2500</td>\n",
       "      <td>NaN</td>\n",
       "      <td>S</td>\n",
       "    </tr>\n",
       "    <tr>\n",
       "      <th>623</th>\n",
       "      <td>624</td>\n",
       "      <td>0</td>\n",
       "      <td>3</td>\n",
       "      <td>Hansen, Mr. Henry Damsgaard</td>\n",
       "      <td>male</td>\n",
       "      <td>21.0</td>\n",
       "      <td>0</td>\n",
       "      <td>0</td>\n",
       "      <td>350029</td>\n",
       "      <td>7.8542</td>\n",
       "      <td>NaN</td>\n",
       "      <td>S</td>\n",
       "    </tr>\n",
       "    <tr>\n",
       "      <th>148</th>\n",
       "      <td>149</td>\n",
       "      <td>0</td>\n",
       "      <td>2</td>\n",
       "      <td>Navratil, Mr. Michel (\"Louis M Hoffman\")</td>\n",
       "      <td>male</td>\n",
       "      <td>36.5</td>\n",
       "      <td>0</td>\n",
       "      <td>2</td>\n",
       "      <td>230080</td>\n",
       "      <td>26.0000</td>\n",
       "      <td>F2</td>\n",
       "      <td>S</td>\n",
       "    </tr>\n",
       "    <tr>\n",
       "      <th>3</th>\n",
       "      <td>4</td>\n",
       "      <td>1</td>\n",
       "      <td>1</td>\n",
       "      <td>Futrelle, Mrs. Jacques Heath (Lily May Peel)</td>\n",
       "      <td>female</td>\n",
       "      <td>35.0</td>\n",
       "      <td>1</td>\n",
       "      <td>0</td>\n",
       "      <td>113803</td>\n",
       "      <td>53.1000</td>\n",
       "      <td>C123</td>\n",
       "      <td>S</td>\n",
       "    </tr>\n",
       "    <tr>\n",
       "      <th>34</th>\n",
       "      <td>35</td>\n",
       "      <td>0</td>\n",
       "      <td>1</td>\n",
       "      <td>Meyer, Mr. Edgar Joseph</td>\n",
       "      <td>male</td>\n",
       "      <td>28.0</td>\n",
       "      <td>1</td>\n",
       "      <td>0</td>\n",
       "      <td>PC 17604</td>\n",
       "      <td>82.1708</td>\n",
       "      <td>NaN</td>\n",
       "      <td>C</td>\n",
       "    </tr>\n",
       "    <tr>\n",
       "      <th>241</th>\n",
       "      <td>242</td>\n",
       "      <td>1</td>\n",
       "      <td>3</td>\n",
       "      <td>Murphy, Miss. Katherine \"Kate\"</td>\n",
       "      <td>female</td>\n",
       "      <td>NaN</td>\n",
       "      <td>1</td>\n",
       "      <td>0</td>\n",
       "      <td>367230</td>\n",
       "      <td>15.5000</td>\n",
       "      <td>NaN</td>\n",
       "      <td>Q</td>\n",
       "    </tr>\n",
       "    <tr>\n",
       "      <th>794</th>\n",
       "      <td>795</td>\n",
       "      <td>0</td>\n",
       "      <td>3</td>\n",
       "      <td>Dantcheff, Mr. Ristiu</td>\n",
       "      <td>male</td>\n",
       "      <td>25.0</td>\n",
       "      <td>0</td>\n",
       "      <td>0</td>\n",
       "      <td>349203</td>\n",
       "      <td>7.8958</td>\n",
       "      <td>NaN</td>\n",
       "      <td>S</td>\n",
       "    </tr>\n",
       "    <tr>\n",
       "      <th>2</th>\n",
       "      <td>3</td>\n",
       "      <td>1</td>\n",
       "      <td>3</td>\n",
       "      <td>Heikkinen, Miss. Laina</td>\n",
       "      <td>female</td>\n",
       "      <td>26.0</td>\n",
       "      <td>0</td>\n",
       "      <td>0</td>\n",
       "      <td>STON/O2. 3101282</td>\n",
       "      <td>7.9250</td>\n",
       "      <td>NaN</td>\n",
       "      <td>S</td>\n",
       "    </tr>\n",
       "    <tr>\n",
       "      <th>6</th>\n",
       "      <td>7</td>\n",
       "      <td>0</td>\n",
       "      <td>1</td>\n",
       "      <td>McCarthy, Mr. Timothy J</td>\n",
       "      <td>male</td>\n",
       "      <td>54.0</td>\n",
       "      <td>0</td>\n",
       "      <td>0</td>\n",
       "      <td>17463</td>\n",
       "      <td>51.8625</td>\n",
       "      <td>E46</td>\n",
       "      <td>S</td>\n",
       "    </tr>\n",
       "    <tr>\n",
       "      <th>17</th>\n",
       "      <td>18</td>\n",
       "      <td>1</td>\n",
       "      <td>2</td>\n",
       "      <td>Williams, Mr. Charles Eugene</td>\n",
       "      <td>male</td>\n",
       "      <td>NaN</td>\n",
       "      <td>0</td>\n",
       "      <td>0</td>\n",
       "      <td>244373</td>\n",
       "      <td>13.0000</td>\n",
       "      <td>NaN</td>\n",
       "      <td>S</td>\n",
       "    </tr>\n",
       "    <tr>\n",
       "      <th>368</th>\n",
       "      <td>369</td>\n",
       "      <td>1</td>\n",
       "      <td>3</td>\n",
       "      <td>Jermyn, Miss. Annie</td>\n",
       "      <td>female</td>\n",
       "      <td>NaN</td>\n",
       "      <td>0</td>\n",
       "      <td>0</td>\n",
       "      <td>14313</td>\n",
       "      <td>7.7500</td>\n",
       "      <td>NaN</td>\n",
       "      <td>Q</td>\n",
       "    </tr>\n",
       "  </tbody>\n",
       "</table>\n",
       "</div>"
      ],
      "text/plain": [
       "     PassengerId  Survived  Pclass  \\\n",
       "862          863         1       1   \n",
       "223          224         0       3   \n",
       "84            85         1       2   \n",
       "680          681         0       3   \n",
       "535          536         1       2   \n",
       "623          624         0       3   \n",
       "148          149         0       2   \n",
       "3              4         1       1   \n",
       "34            35         0       1   \n",
       "241          242         1       3   \n",
       "794          795         0       3   \n",
       "2              3         1       3   \n",
       "6              7         0       1   \n",
       "17            18         1       2   \n",
       "368          369         1       3   \n",
       "\n",
       "                                                  Name     Sex   Age  SibSp  \\\n",
       "862  Swift, Mrs. Frederick Joel (Margaret Welles Ba...  female  48.0      0   \n",
       "223                               Nenkoff, Mr. Christo    male   NaN      0   \n",
       "84                                 Ilett, Miss. Bertha  female  17.0      0   \n",
       "680                                Peters, Miss. Katie  female   NaN      0   \n",
       "535                             Hart, Miss. Eva Miriam  female   7.0      0   \n",
       "623                        Hansen, Mr. Henry Damsgaard    male  21.0      0   \n",
       "148           Navratil, Mr. Michel (\"Louis M Hoffman\")    male  36.5      0   \n",
       "3         Futrelle, Mrs. Jacques Heath (Lily May Peel)  female  35.0      1   \n",
       "34                             Meyer, Mr. Edgar Joseph    male  28.0      1   \n",
       "241                     Murphy, Miss. Katherine \"Kate\"  female   NaN      1   \n",
       "794                              Dantcheff, Mr. Ristiu    male  25.0      0   \n",
       "2                               Heikkinen, Miss. Laina  female  26.0      0   \n",
       "6                              McCarthy, Mr. Timothy J    male  54.0      0   \n",
       "17                        Williams, Mr. Charles Eugene    male   NaN      0   \n",
       "368                                Jermyn, Miss. Annie  female   NaN      0   \n",
       "\n",
       "     Parch            Ticket     Fare Cabin Embarked  \n",
       "862      0             17466  25.9292   D17        S  \n",
       "223      0            349234   7.8958   NaN        S  \n",
       "84       0        SO/C 14885  10.5000   NaN        S  \n",
       "680      0            330935   8.1375   NaN        Q  \n",
       "535      2      F.C.C. 13529  26.2500   NaN        S  \n",
       "623      0            350029   7.8542   NaN        S  \n",
       "148      2            230080  26.0000    F2        S  \n",
       "3        0            113803  53.1000  C123        S  \n",
       "34       0          PC 17604  82.1708   NaN        C  \n",
       "241      0            367230  15.5000   NaN        Q  \n",
       "794      0            349203   7.8958   NaN        S  \n",
       "2        0  STON/O2. 3101282   7.9250   NaN        S  \n",
       "6        0             17463  51.8625   E46        S  \n",
       "17       0            244373  13.0000   NaN        S  \n",
       "368      0             14313   7.7500   NaN        Q  "
      ]
     },
     "execution_count": 10,
     "metadata": {},
     "output_type": "execute_result"
    }
   ],
   "source": [
    "import pandas as pd\n",
    "\n",
    "df = pd.read_csv('dados/titanic.csv')\n",
    "\n",
    "df_amostra = df.sample(15, random_state = 1)\n",
    "\n",
    "df_amostra"
   ]
  },
  {
   "cell_type": "code",
   "execution_count": 9,
   "id": "c8bb7b67",
   "metadata": {},
   "outputs": [
    {
     "data": {
      "text/plain": [
       "1    0.533333\n",
       "0    0.466667\n",
       "Name: Survived, dtype: float64"
      ]
     },
     "execution_count": 9,
     "metadata": {},
     "output_type": "execute_result"
    }
   ],
   "source": [
    "df_amostra.Survived.value_counts(normalize = True)"
   ]
  },
  {
   "cell_type": "markdown",
   "id": "4248fd5d",
   "metadata": {},
   "source": [
    "**Para pensar:** intuitivamente, entre Sex e Parch, qual é a coluna que mais discrimina sobrevivência? Por quê?"
   ]
  },
  {
   "cell_type": "code",
   "execution_count": 11,
   "id": "6426dab5",
   "metadata": {},
   "outputs": [
    {
     "data": {
      "text/plain": [
       "0    0.857143\n",
       "1    0.142857\n",
       "Name: Survived, dtype: float64"
      ]
     },
     "execution_count": 11,
     "metadata": {},
     "output_type": "execute_result"
    }
   ],
   "source": [
    "df_amostra[df_amostra.Sex == 'male'].Survived.value_counts(normalize = True)"
   ]
  },
  {
   "cell_type": "code",
   "execution_count": 12,
   "id": "65ec4368",
   "metadata": {},
   "outputs": [
    {
     "data": {
      "text/plain": [
       "1    0.875\n",
       "0    0.125\n",
       "Name: Survived, dtype: float64"
      ]
     },
     "execution_count": 12,
     "metadata": {},
     "output_type": "execute_result"
    }
   ],
   "source": [
    "df_amostra[df_amostra.Sex == 'female'].Survived.value_counts(normalize = True)"
   ]
  },
  {
   "cell_type": "code",
   "execution_count": 14,
   "id": "29d7b00f",
   "metadata": {},
   "outputs": [
    {
     "data": {
      "text/plain": [
       "0    13\n",
       "2     2\n",
       "Name: Parch, dtype: int64"
      ]
     },
     "execution_count": 14,
     "metadata": {},
     "output_type": "execute_result"
    }
   ],
   "source": [
    "df_amostra.Parch.value_counts()"
   ]
  },
  {
   "cell_type": "code",
   "execution_count": 13,
   "id": "2be86064",
   "metadata": {},
   "outputs": [
    {
     "data": {
      "text/plain": [
       "1    0.538462\n",
       "0    0.461538\n",
       "Name: Survived, dtype: float64"
      ]
     },
     "execution_count": 13,
     "metadata": {},
     "output_type": "execute_result"
    }
   ],
   "source": [
    "df_amostra[df_amostra.Parch == 0].Survived.value_counts(normalize = True)"
   ]
  },
  {
   "cell_type": "code",
   "execution_count": 15,
   "id": "4654f56d",
   "metadata": {},
   "outputs": [
    {
     "data": {
      "text/plain": [
       "1    0.5\n",
       "0    0.5\n",
       "Name: Survived, dtype: float64"
      ]
     },
     "execution_count": 15,
     "metadata": {},
     "output_type": "execute_result"
    }
   ],
   "source": [
    "df_amostra[df_amostra.Parch == 2].Survived.value_counts(normalize = True)"
   ]
  },
  {
   "cell_type": "code",
   "execution_count": 21,
   "id": "b0760a68",
   "metadata": {},
   "outputs": [
    {
     "data": {
      "text/plain": [
       "1    0.533333\n",
       "0    0.466667\n",
       "Name: Survived, dtype: float64"
      ]
     },
     "execution_count": 21,
     "metadata": {},
     "output_type": "execute_result"
    }
   ],
   "source": [
    "df_amostra.Survived.value_counts(normalize = True)"
   ]
  },
  {
   "cell_type": "code",
   "execution_count": 19,
   "id": "2f84a071",
   "metadata": {},
   "outputs": [
    {
     "data": {
      "text/html": [
       "<div>\n",
       "<style scoped>\n",
       "    .dataframe tbody tr th:only-of-type {\n",
       "        vertical-align: middle;\n",
       "    }\n",
       "\n",
       "    .dataframe tbody tr th {\n",
       "        vertical-align: top;\n",
       "    }\n",
       "\n",
       "    .dataframe thead th {\n",
       "        text-align: right;\n",
       "    }\n",
       "</style>\n",
       "<table border=\"1\" class=\"dataframe\">\n",
       "  <thead>\n",
       "    <tr style=\"text-align: right;\">\n",
       "      <th>Sex</th>\n",
       "      <th>female</th>\n",
       "      <th>male</th>\n",
       "    </tr>\n",
       "    <tr>\n",
       "      <th>Survived</th>\n",
       "      <th></th>\n",
       "      <th></th>\n",
       "    </tr>\n",
       "  </thead>\n",
       "  <tbody>\n",
       "    <tr>\n",
       "      <th>0</th>\n",
       "      <td>0.125</td>\n",
       "      <td>0.857143</td>\n",
       "    </tr>\n",
       "    <tr>\n",
       "      <th>1</th>\n",
       "      <td>0.875</td>\n",
       "      <td>0.142857</td>\n",
       "    </tr>\n",
       "  </tbody>\n",
       "</table>\n",
       "</div>"
      ],
      "text/plain": [
       "Sex       female      male\n",
       "Survived                  \n",
       "0          0.125  0.857143\n",
       "1          0.875  0.142857"
      ]
     },
     "execution_count": 19,
     "metadata": {},
     "output_type": "execute_result"
    }
   ],
   "source": [
    "pd.crosstab(df_amostra.Survived, df_amostra.Sex, normalize = 'columns')"
   ]
  },
  {
   "cell_type": "code",
   "execution_count": 20,
   "id": "25d344f4",
   "metadata": {},
   "outputs": [
    {
     "data": {
      "text/html": [
       "<div>\n",
       "<style scoped>\n",
       "    .dataframe tbody tr th:only-of-type {\n",
       "        vertical-align: middle;\n",
       "    }\n",
       "\n",
       "    .dataframe tbody tr th {\n",
       "        vertical-align: top;\n",
       "    }\n",
       "\n",
       "    .dataframe thead th {\n",
       "        text-align: right;\n",
       "    }\n",
       "</style>\n",
       "<table border=\"1\" class=\"dataframe\">\n",
       "  <thead>\n",
       "    <tr style=\"text-align: right;\">\n",
       "      <th>Parch</th>\n",
       "      <th>0</th>\n",
       "      <th>2</th>\n",
       "    </tr>\n",
       "    <tr>\n",
       "      <th>Survived</th>\n",
       "      <th></th>\n",
       "      <th></th>\n",
       "    </tr>\n",
       "  </thead>\n",
       "  <tbody>\n",
       "    <tr>\n",
       "      <th>0</th>\n",
       "      <td>0.461538</td>\n",
       "      <td>0.5</td>\n",
       "    </tr>\n",
       "    <tr>\n",
       "      <th>1</th>\n",
       "      <td>0.538462</td>\n",
       "      <td>0.5</td>\n",
       "    </tr>\n",
       "  </tbody>\n",
       "</table>\n",
       "</div>"
      ],
      "text/plain": [
       "Parch            0    2\n",
       "Survived               \n",
       "0         0.461538  0.5\n",
       "1         0.538462  0.5"
      ]
     },
     "execution_count": 20,
     "metadata": {},
     "output_type": "execute_result"
    }
   ],
   "source": [
    "pd.crosstab(df_amostra.Survived, df_amostra.Parch, normalize = 'columns')"
   ]
  },
  {
   "cell_type": "markdown",
   "id": "14515732",
   "metadata": {},
   "source": [
    "## Entropia\n",
    "\n",
    "Em árvores de decisão, estamos buscando separar as instâncias de forma a obter o máximo de homogeneidade possível nas folhas, observano a variável resposta. Para chegar nesse ponto, olhamos para o conjunto de dados, escolhemos uma variável e um limiar e dividimos em dois subconjuntos baseados nisso. A partir daí podemos repetir o passo anterior para cada subconjunto, e para cada subconjunto gerado nos subconjuntos, fazendo um processo recursivo até que tenhamos nosso conjunto de dados perfeitamente separado.\n",
    "\n",
    "Porém, precisamos escolher um critério para escolher uma variável e limiar para separar em dois subconjuntos. Para isso, usaremos um conceito da Teoria da Informação chamado Entropia, que mede a aleatoriedade de uma variável aleatória, sendo dada por:\n",
    "\n",
    "$$H(\\textrm{VA}) = -\\sum_i{p_i \\times \\log_{2}{p_i}}$$\n",
    "\n",
    "\n",
    "Exemplificando com uma moeda $M_1$ não viciada, podemos citar dois eventos: \n",
    "\n",
    "- 1, cara, com probabilidade $p_1 = 0.5$\n",
    "- 2, coroa, com probabilidade $p_2 = 0.5$\n",
    "\n",
    "Dessa forma, a entropia $H(M_1)$ é:\n",
    "\n",
    "$$H(M_1) = -(0.5 \\times \\log_{2}{0.5} + 0.5 \\times \\log_{2}{0.5}) = 1$$\n",
    "\n",
    "Logo, a entropia é máxima (casos binário), significando que essa variável possui um alto nível de aleatoriedade.\n",
    "\n",
    "Exemplificando com uma moeda $M_2$ viciada, podemos citar dois eventos: \n",
    "\n",
    "- 1, cara, com probabilidade $p_1 = 0.1$\n",
    "- 2, coroa, com probabilidade $p_2 = 0.9$\n"
   ]
  },
  {
   "cell_type": "code",
   "execution_count": 22,
   "id": "1f0d5f6f",
   "metadata": {},
   "outputs": [],
   "source": [
    "import numpy as np"
   ]
  },
  {
   "cell_type": "code",
   "execution_count": 23,
   "id": "e7c5c315",
   "metadata": {},
   "outputs": [
    {
     "data": {
      "text/plain": [
       "1.0"
      ]
     },
     "execution_count": 23,
     "metadata": {},
     "output_type": "execute_result"
    }
   ],
   "source": [
    "-(0.5 * np.log2(0.5) + 0.5 * np.log2(0.5))"
   ]
  },
  {
   "cell_type": "code",
   "execution_count": null,
   "id": "aeba7c36",
   "metadata": {},
   "outputs": [],
   "source": [
    "p1 = 0.9\n",
    "p2 = 0.1"
   ]
  },
  {
   "cell_type": "code",
   "execution_count": 24,
   "id": "8cf81b58",
   "metadata": {},
   "outputs": [
    {
     "data": {
      "text/plain": [
       "0.4689955935892812"
      ]
     },
     "execution_count": 24,
     "metadata": {},
     "output_type": "execute_result"
    }
   ],
   "source": [
    "-(0.9 * np.log2(0.9) + 0.1 * np.log2(0.1))"
   ]
  },
  {
   "cell_type": "code",
   "execution_count": null,
   "id": "ef8746bc",
   "metadata": {},
   "outputs": [],
   "source": [
    "p1 = 0.99\n",
    "p2 = 0.01"
   ]
  },
  {
   "cell_type": "code",
   "execution_count": 25,
   "id": "3c71ce6b",
   "metadata": {},
   "outputs": [
    {
     "data": {
      "text/plain": [
       "0.08079313589591118"
      ]
     },
     "execution_count": 25,
     "metadata": {},
     "output_type": "execute_result"
    }
   ],
   "source": [
    "-(0.99 * np.log2(0.99) + 0.01 * np.log2(0.01))"
   ]
  },
  {
   "cell_type": "code",
   "execution_count": null,
   "id": "2df11dce",
   "metadata": {},
   "outputs": [],
   "source": [
    "p1 = 0.999\n",
    "p2 = 0.001"
   ]
  },
  {
   "cell_type": "code",
   "execution_count": 26,
   "id": "a7d140c2",
   "metadata": {},
   "outputs": [
    {
     "data": {
      "text/plain": [
       "0.011407757737461138"
      ]
     },
     "execution_count": 26,
     "metadata": {},
     "output_type": "execute_result"
    }
   ],
   "source": [
    "-(0.999 * np.log2(0.999) + 0.001 * np.log2(0.001))"
   ]
  },
  {
   "cell_type": "raw",
   "id": "a688f1bc",
   "metadata": {},
   "source": [
    "Em casos binários, eu preciso da probabilidade dos dois eventos? Eu preciso de p1 e p2?"
   ]
  },
  {
   "cell_type": "code",
   "execution_count": 28,
   "id": "fe1d2c63",
   "metadata": {},
   "outputs": [
    {
     "data": {
      "text/plain": [
       "0.011407757737461145"
      ]
     },
     "execution_count": 28,
     "metadata": {},
     "output_type": "execute_result"
    }
   ],
   "source": [
    "p1 = 0.999\n",
    "p2 = 1 - p1\n",
    "-(p1 * np.log2(p1) + p2 * np.log2(p2))"
   ]
  },
  {
   "cell_type": "markdown",
   "id": "d56c6dc5",
   "metadata": {},
   "source": [
    "**Para pensar:** Qual a entropia da variável Pclass?"
   ]
  },
  {
   "cell_type": "code",
   "execution_count": 31,
   "id": "6e8cebe2",
   "metadata": {},
   "outputs": [
    {
     "data": {
      "text/plain": [
       "3    0.551066\n",
       "1    0.242424\n",
       "2    0.206510\n",
       "Name: Pclass, dtype: float64"
      ]
     },
     "execution_count": 31,
     "metadata": {},
     "output_type": "execute_result"
    }
   ],
   "source": [
    "df.Pclass.value_counts(normalize = True)"
   ]
  },
  {
   "cell_type": "code",
   "execution_count": 35,
   "id": "5cd82a42",
   "metadata": {},
   "outputs": [
    {
     "data": {
      "text/plain": [
       "1.4393214704441286"
      ]
     },
     "execution_count": 35,
     "metadata": {},
     "output_type": "execute_result"
    }
   ],
   "source": [
    "p1, p2, p3 = df.Pclass.value_counts(normalize = True).tolist()\n",
    "\n",
    "-(p1 * np.log2(p1) + p2 * np.log2(p2) + p3 * np.log2(p3))"
   ]
  },
  {
   "cell_type": "markdown",
   "id": "14852ac9",
   "metadata": {},
   "source": [
    "**Para pensar:** Qual que é a entropia da variável Survived? Construam uma função que dado uma probabilidade calcule a entropia em casos binários."
   ]
  },
  {
   "cell_type": "code",
   "execution_count": 36,
   "id": "4fe42c75",
   "metadata": {},
   "outputs": [],
   "source": [
    "def calcula_entropia(p):\n",
    "    \n",
    "    return -(p * np.log2(p) + (1 - p) * np.log2(1 - p))"
   ]
  },
  {
   "cell_type": "code",
   "execution_count": 39,
   "id": "a9b5d485",
   "metadata": {},
   "outputs": [
    {
     "data": {
      "text/plain": [
       "0.5333333333333333"
      ]
     },
     "execution_count": 39,
     "metadata": {},
     "output_type": "execute_result"
    }
   ],
   "source": [
    "df_amostra['Survived'].value_counts(normalize = True).iloc[0]"
   ]
  },
  {
   "cell_type": "code",
   "execution_count": 40,
   "id": "8de231a8",
   "metadata": {},
   "outputs": [
    {
     "data": {
      "text/plain": [
       "0.9967916319816366"
      ]
     },
     "execution_count": 40,
     "metadata": {},
     "output_type": "execute_result"
    }
   ],
   "source": [
    "calcula_entropia(df_amostra['Survived'].value_counts(normalize = True).iloc[0])"
   ]
  },
  {
   "cell_type": "code",
   "execution_count": 109,
   "id": "63d4263f",
   "metadata": {},
   "outputs": [
    {
     "name": "stderr",
     "output_type": "stream",
     "text": [
      "/var/folders/0m/f9g25vz16sq8vcnn186g387h0000gn/T/ipykernel_1051/1696176533.py:3: RuntimeWarning: divide by zero encountered in log2\n",
      "  return -(p1 * np.log2(p1) + (p2) * np.log2(p2))\n",
      "/var/folders/0m/f9g25vz16sq8vcnn186g387h0000gn/T/ipykernel_1051/1696176533.py:3: RuntimeWarning: invalid value encountered in multiply\n",
      "  return -(p1 * np.log2(p1) + (p2) * np.log2(p2))\n"
     ]
    }
   ],
   "source": [
    "p = np.arange(0.000, 0.999, 0.001)\n",
    "e = calcula_entropia_p(p)"
   ]
  },
  {
   "cell_type": "code",
   "execution_count": 44,
   "id": "1a4bbb8e",
   "metadata": {},
   "outputs": [],
   "source": [
    "import matplotlib.pyplot as plt"
   ]
  },
  {
   "cell_type": "code",
   "execution_count": 47,
   "id": "491a8ad5",
   "metadata": {},
   "outputs": [
    {
     "data": {
      "image/png": "[encoded data removed]",
      "text/plain": [
       "<Figure size 432x288 with 1 Axes>"
      ]
     },
     "metadata": {
      "needs_background": "light"
     },
     "output_type": "display_data"
    }
   ],
   "source": [
    "plt.plot(p, e)\n",
    "plt.xlabel('probabilidade')\n",
    "plt.ylabel('entropia')\n",
    "plt.show()"
   ]
  },
  {
   "cell_type": "markdown",
   "id": "98041b9b",
   "metadata": {},
   "source": [
    "Formalizando matematicamente:\n",
    "    \n",
    "Em casos binários, no qual uma variável aleatória assume o valor 0 ou 1, podemos escrever a entropia como\n",
    "\n",
    "$$H(\\textrm{VA}) = B\\left( \\frac{p}{p + n}\\right)= -\\big[p \\times \\log_{2}{p} + (1 - p) \\times \\log_{2}(1 - p)\\big]$$\n",
    "\n",
    "O que queremos obter com a divisão do conjunto de dados são subconjuntos que diminuam ao máximo a aleatoriedade da variável resposta do conjunto original. Logo, para cada atributo do conjunto de dados, queremos calcular o **Ganho de Informação** que mede a redução na entropia das partições obtidas de acordo os valores desse atributo. Isso é dado pela diferença entre a entropia do conjunto de exemplos original e a soma ponderada da entropia das partições, sendo a construção da árvore orientada pelo objetivo de reduzir a entropia.\n",
    "\n",
    "Ou seja, um atributo $A$ com $d$ valores possíveis para ele gera $S$ subconjuntos $S_1, S_2, ..., S_d$. Cada subconjunto $S_k$ possui $p_k$ exemplos positivos e $n_k$ exemplos negativos, nos dando uma entropia de $B\\left( \\frac{p_k}{p_k + n_k}\\right)$. Ponderando pela quantidade de exemplos dos subconjuntos, temos um conteúdo de informação esperado do atributo $A_i$ de\n",
    "\n",
    "$$E(A_i) = \\sum_i{\\frac{p_k + n_k}{p + k} B\\left( \\frac{p_k}{p_k + n_k}\\right)}$$.\n",
    "\n",
    "Dessa forma, o Ganho de Informação do atributo $A_i$ é a redução na entropia do estado anterior para o estado posterior, na forma\n",
    "\n",
    "$$\\textrm{Ganho}(A_i) =  B\\left( \\frac{p}{p + n}\\right) - E(A_i)$$\n",
    "\n",
    "\n",
    "\n",
    "\n"
   ]
  },
  {
   "cell_type": "markdown",
   "id": "58ace409",
   "metadata": {},
   "source": [
    "**Para pensar**: Qual a entropia de Survived no conjunto masculino e feminino de df_amostra?"
   ]
  },
  {
   "cell_type": "code",
   "execution_count": 48,
   "id": "97d4bc74",
   "metadata": {},
   "outputs": [
    {
     "data": {
      "text/plain": [
       "0.5916727785823275"
      ]
     },
     "execution_count": 48,
     "metadata": {},
     "output_type": "execute_result"
    }
   ],
   "source": [
    "calcula_entropia(df_amostra[df_amostra.Sex == 'male']['Survived'].value_counts(normalize = True).iloc[0])"
   ]
  },
  {
   "cell_type": "code",
   "execution_count": 49,
   "id": "b7e90994",
   "metadata": {},
   "outputs": [
    {
     "data": {
      "text/plain": [
       "0.5435644431995964"
      ]
     },
     "execution_count": 49,
     "metadata": {},
     "output_type": "execute_result"
    }
   ],
   "source": [
    "calcula_entropia(df_amostra[df_amostra.Sex == 'female']['Survived'].value_counts(normalize = True).iloc[0])"
   ]
  },
  {
   "cell_type": "raw",
   "id": "a56ff95f",
   "metadata": {},
   "source": [
    "Entropia original: 1\n",
    "\n",
    "Variavel 1, valor 1\n",
    "Entropia do Conjunto 1:  0.5\n",
    "Entropia do Conjunto 2:  0.9\n",
    "    \n",
    "Variavel 2, valor 1\n",
    "Entropia do Conjunto 3:  0.6\n",
    "Entropia do Conjunto 4:  0.9"
   ]
  },
  {
   "cell_type": "markdown",
   "id": "0013b10f",
   "metadata": {},
   "source": [
    "**Para pensar:** Qual o ganho de informação em Survived de utilizar as variáveveis Sex e Parch no dataframe de amostra?"
   ]
  },
  {
   "cell_type": "raw",
   "id": "72865b5d",
   "metadata": {},
   "source": [
    "Ganho de informação: é a entropia inicial menos a média ponderada pela população da entropia dos subconjuntos"
   ]
  },
  {
   "cell_type": "code",
   "execution_count": 50,
   "id": "d5e3c2f6",
   "metadata": {},
   "outputs": [
    {
     "data": {
      "text/plain": [
       "862    1\n",
       "223    0\n",
       "84     1\n",
       "680    0\n",
       "535    1\n",
       "623    0\n",
       "148    0\n",
       "3      1\n",
       "34     0\n",
       "241    1\n",
       "794    0\n",
       "2      1\n",
       "6      0\n",
       "17     1\n",
       "368    1\n",
       "Name: Survived, dtype: int64"
      ]
     },
     "execution_count": 50,
     "metadata": {},
     "output_type": "execute_result"
    }
   ],
   "source": [
    "df_amostra['Survived']"
   ]
  },
  {
   "cell_type": "code",
   "execution_count": 57,
   "id": "07b176a5",
   "metadata": {},
   "outputs": [
    {
     "data": {
      "text/plain": [
       "0.9967916319816366"
      ]
     },
     "execution_count": 57,
     "metadata": {},
     "output_type": "execute_result"
    }
   ],
   "source": [
    "p = df_amostra['Survived'].value_counts(normalize=True).iloc[0]\n",
    "-( p * np.log2(p) + (1-p) * np.log2(1-p))"
   ]
  },
  {
   "cell_type": "code",
   "execution_count": 59,
   "id": "c1ce14f5",
   "metadata": {},
   "outputs": [
    {
     "data": {
      "text/plain": [
       "0.5435644431995964"
      ]
     },
     "execution_count": 59,
     "metadata": {},
     "output_type": "execute_result"
    }
   ],
   "source": [
    "p = df_amostra[df_amostra['Sex'] == 'female'].Survived.value_counts(normalize=True).iloc[0]\n",
    "\n",
    "entropia_female = -( p * np.log2(p) + (1-p) * np.log2(1-p))\n",
    "entropia_female"
   ]
  },
  {
   "cell_type": "code",
   "execution_count": 60,
   "id": "9e5958ef",
   "metadata": {},
   "outputs": [
    {
     "data": {
      "text/plain": [
       "0.5916727785823275"
      ]
     },
     "execution_count": 60,
     "metadata": {},
     "output_type": "execute_result"
    }
   ],
   "source": [
    "p = df_amostra[df_amostra['Sex'] == 'male'].Survived.value_counts(normalize=True).iloc[0]\n",
    "\n",
    "entropia_male = -( p * np.log2(p) + (1-p) * np.log2(1-p))\n",
    "entropia_male"
   ]
  },
  {
   "cell_type": "raw",
   "id": "711b4e67",
   "metadata": {},
   "source": [
    "G = Ei - Ef\n",
    "\n",
    "Ei = Entropia variável resposta no conjunto inteiro\n",
    "Ef = Entropia média da variável resposta ponderada pela população dos subconjuntos"
   ]
  },
  {
   "cell_type": "code",
   "execution_count": 67,
   "id": "e4b679bd",
   "metadata": {},
   "outputs": [
    {
     "name": "stdout",
     "output_type": "stream",
     "text": [
      "Entropia final de Parch:  0.5192307692307692\n",
      "Ganho da entropia de Parch:  0.4775608627508674\n"
     ]
    }
   ],
   "source": [
    "p = df_amostra['Survived'].value_counts(normalize = True).iloc[0]\n",
    "ei = calcula_entropia(p)\n",
    "\n",
    "p_p1 = df_amostra[df_amostra.Parch == 0].Survived.value_counts(normalize = True).iloc[0]\n",
    "p0 = calcula_entropia(p_p1)\n",
    "\n",
    "p_p2 = df_amostra[df_amostra.Parch != 0].Survived.value_counts(normalize = True).iloc[0]\n",
    "p2 = calcula_entropia(p_p2)\n",
    "\n",
    "#entropia final de PEARCH\n",
    "ef_parch = (p_p1 + p_p2) / 2\n",
    "\n",
    "ganho_parch = ei - ef_parch\n",
    "\n",
    "print(\"Entropia final de Parch: \", ef_parch)\n",
    "print(\"Ganho da entropia de Parch: \", ganho_parch)"
   ]
  },
  {
   "cell_type": "markdown",
   "id": "411a6d6d",
   "metadata": {},
   "source": [
    "Juntando tudo em funções:"
   ]
  },
  {
   "cell_type": "code",
   "execution_count": 111,
   "id": "af789a11",
   "metadata": {},
   "outputs": [],
   "source": [
    "def calcula_entropia_p(p1):\n",
    "    \n",
    "    if p1 == 0 or p1 == 1:\n",
    "        return 0\n",
    "    \n",
    "    p2 = 1 - p1    \n",
    "    \n",
    "    return -(p1 * np.log2(p1) + (p2) * np.log2(p2))\n",
    "\n",
    "\n",
    "def calcula_entropia(serie):\n",
    "    return calcula_entropia_p(serie.value_counts(normalize = True).iloc[0])\n",
    "    \n",
    "    \n",
    "def calcula_ganho_informacao(df, var_resp, var_quebra, vlr_quebra):\n",
    "    ei = calcula_entropia(df[var_resp])\n",
    "    \n",
    "    conj1 = df[df[var_quebra] == vlr_quebra]\n",
    "    conj2 = df[df[var_quebra] != vlr_quebra]\n",
    "    \n",
    "    e1 = calcula_entropia(conj1[var_resp])\n",
    "    e2 = calcula_entropia(conj2[var_resp])\n",
    "    \n",
    "    ef = (e1 * len(conj1) + e2 * len(conj2)) / len(df)\n",
    "    \n",
    "    return ei - ef"
   ]
  },
  {
   "cell_type": "code",
   "execution_count": 94,
   "id": "ee80222c",
   "metadata": {},
   "outputs": [
    {
     "data": {
      "text/plain": [
       "0.430776632270099"
      ]
     },
     "execution_count": 94,
     "metadata": {},
     "output_type": "execute_result"
    }
   ],
   "source": [
    "calcula_ganho_informacao(df_amostra, 'Survived', 'Sex', 'female')"
   ]
  },
  {
   "cell_type": "code",
   "execution_count": 95,
   "id": "5c569ee6",
   "metadata": {},
   "outputs": [
    {
     "data": {
      "text/plain": [
       "0.0004945068413678699"
      ]
     },
     "execution_count": 95,
     "metadata": {},
     "output_type": "execute_result"
    }
   ],
   "source": [
    "calcula_ganho_informacao(df_amostra, 'Survived', 'Parch', 0)"
   ]
  },
  {
   "cell_type": "code",
   "execution_count": 98,
   "id": "5b9eaadf",
   "metadata": {},
   "outputs": [
    {
     "data": {
      "text/plain": [
       "0.013132465170738628"
      ]
     },
     "execution_count": 98,
     "metadata": {},
     "output_type": "execute_result"
    }
   ],
   "source": [
    "calcula_ganho_informacao(df_amostra, 'Survived', 'SibSp', 0)"
   ]
  },
  {
   "cell_type": "code",
   "execution_count": 99,
   "id": "f5947a8a",
   "metadata": {},
   "outputs": [
    {
     "data": {
      "text/plain": [
       "0.0011694768985351933"
      ]
     },
     "execution_count": 99,
     "metadata": {},
     "output_type": "execute_result"
    }
   ],
   "source": [
    "calcula_ganho_informacao(df_amostra, 'Survived', 'Embarked', 'S')"
   ]
  },
  {
   "cell_type": "code",
   "execution_count": 100,
   "id": "853a6d4e",
   "metadata": {},
   "outputs": [
    {
     "data": {
      "text/plain": [
       "0.013132465170738628"
      ]
     },
     "execution_count": 100,
     "metadata": {},
     "output_type": "execute_result"
    }
   ],
   "source": [
    "calcula_ganho_informacao(df_amostra, 'Survived', 'Embarked', 'Q')"
   ]
  },
  {
   "cell_type": "code",
   "execution_count": 112,
   "id": "f5bfa247",
   "metadata": {},
   "outputs": [
    {
     "data": {
      "text/plain": [
       "0.07724537168300183"
      ]
     },
     "execution_count": 112,
     "metadata": {},
     "output_type": "execute_result"
    }
   ],
   "source": [
    "calcula_ganho_informacao(df_amostra, 'Survived', 'Embarked', 'C')"
   ]
  },
  {
   "cell_type": "raw",
   "id": "fd197d5b",
   "metadata": {},
   "source": [
    "Sibsp, Parch e Embarked, qual a melhor?"
   ]
  },
  {
   "cell_type": "code",
   "execution_count": 96,
   "id": "1b79b0f1",
   "metadata": {},
   "outputs": [
    {
     "data": {
      "text/html": [
       "<div>\n",
       "<style scoped>\n",
       "    .dataframe tbody tr th:only-of-type {\n",
       "        vertical-align: middle;\n",
       "    }\n",
       "\n",
       "    .dataframe tbody tr th {\n",
       "        vertical-align: top;\n",
       "    }\n",
       "\n",
       "    .dataframe thead th {\n",
       "        text-align: right;\n",
       "    }\n",
       "</style>\n",
       "<table border=\"1\" class=\"dataframe\">\n",
       "  <thead>\n",
       "    <tr style=\"text-align: right;\">\n",
       "      <th></th>\n",
       "      <th>PassengerId</th>\n",
       "      <th>Survived</th>\n",
       "      <th>Pclass</th>\n",
       "      <th>Name</th>\n",
       "      <th>Sex</th>\n",
       "      <th>Age</th>\n",
       "      <th>SibSp</th>\n",
       "      <th>Parch</th>\n",
       "      <th>Ticket</th>\n",
       "      <th>Fare</th>\n",
       "      <th>Cabin</th>\n",
       "      <th>Embarked</th>\n",
       "    </tr>\n",
       "  </thead>\n",
       "  <tbody>\n",
       "    <tr>\n",
       "      <th>862</th>\n",
       "      <td>863</td>\n",
       "      <td>1</td>\n",
       "      <td>1</td>\n",
       "      <td>Swift, Mrs. Frederick Joel (Margaret Welles Ba...</td>\n",
       "      <td>female</td>\n",
       "      <td>48.0</td>\n",
       "      <td>0</td>\n",
       "      <td>0</td>\n",
       "      <td>17466</td>\n",
       "      <td>25.9292</td>\n",
       "      <td>D17</td>\n",
       "      <td>S</td>\n",
       "    </tr>\n",
       "    <tr>\n",
       "      <th>223</th>\n",
       "      <td>224</td>\n",
       "      <td>0</td>\n",
       "      <td>3</td>\n",
       "      <td>Nenkoff, Mr. Christo</td>\n",
       "      <td>male</td>\n",
       "      <td>NaN</td>\n",
       "      <td>0</td>\n",
       "      <td>0</td>\n",
       "      <td>349234</td>\n",
       "      <td>7.8958</td>\n",
       "      <td>NaN</td>\n",
       "      <td>S</td>\n",
       "    </tr>\n",
       "    <tr>\n",
       "      <th>84</th>\n",
       "      <td>85</td>\n",
       "      <td>1</td>\n",
       "      <td>2</td>\n",
       "      <td>Ilett, Miss. Bertha</td>\n",
       "      <td>female</td>\n",
       "      <td>17.0</td>\n",
       "      <td>0</td>\n",
       "      <td>0</td>\n",
       "      <td>SO/C 14885</td>\n",
       "      <td>10.5000</td>\n",
       "      <td>NaN</td>\n",
       "      <td>S</td>\n",
       "    </tr>\n",
       "    <tr>\n",
       "      <th>680</th>\n",
       "      <td>681</td>\n",
       "      <td>0</td>\n",
       "      <td>3</td>\n",
       "      <td>Peters, Miss. Katie</td>\n",
       "      <td>female</td>\n",
       "      <td>NaN</td>\n",
       "      <td>0</td>\n",
       "      <td>0</td>\n",
       "      <td>330935</td>\n",
       "      <td>8.1375</td>\n",
       "      <td>NaN</td>\n",
       "      <td>Q</td>\n",
       "    </tr>\n",
       "    <tr>\n",
       "      <th>535</th>\n",
       "      <td>536</td>\n",
       "      <td>1</td>\n",
       "      <td>2</td>\n",
       "      <td>Hart, Miss. Eva Miriam</td>\n",
       "      <td>female</td>\n",
       "      <td>7.0</td>\n",
       "      <td>0</td>\n",
       "      <td>2</td>\n",
       "      <td>F.C.C. 13529</td>\n",
       "      <td>26.2500</td>\n",
       "      <td>NaN</td>\n",
       "      <td>S</td>\n",
       "    </tr>\n",
       "    <tr>\n",
       "      <th>623</th>\n",
       "      <td>624</td>\n",
       "      <td>0</td>\n",
       "      <td>3</td>\n",
       "      <td>Hansen, Mr. Henry Damsgaard</td>\n",
       "      <td>male</td>\n",
       "      <td>21.0</td>\n",
       "      <td>0</td>\n",
       "      <td>0</td>\n",
       "      <td>350029</td>\n",
       "      <td>7.8542</td>\n",
       "      <td>NaN</td>\n",
       "      <td>S</td>\n",
       "    </tr>\n",
       "    <tr>\n",
       "      <th>148</th>\n",
       "      <td>149</td>\n",
       "      <td>0</td>\n",
       "      <td>2</td>\n",
       "      <td>Navratil, Mr. Michel (\"Louis M Hoffman\")</td>\n",
       "      <td>male</td>\n",
       "      <td>36.5</td>\n",
       "      <td>0</td>\n",
       "      <td>2</td>\n",
       "      <td>230080</td>\n",
       "      <td>26.0000</td>\n",
       "      <td>F2</td>\n",
       "      <td>S</td>\n",
       "    </tr>\n",
       "    <tr>\n",
       "      <th>3</th>\n",
       "      <td>4</td>\n",
       "      <td>1</td>\n",
       "      <td>1</td>\n",
       "      <td>Futrelle, Mrs. Jacques Heath (Lily May Peel)</td>\n",
       "      <td>female</td>\n",
       "      <td>35.0</td>\n",
       "      <td>1</td>\n",
       "      <td>0</td>\n",
       "      <td>113803</td>\n",
       "      <td>53.1000</td>\n",
       "      <td>C123</td>\n",
       "      <td>S</td>\n",
       "    </tr>\n",
       "    <tr>\n",
       "      <th>34</th>\n",
       "      <td>35</td>\n",
       "      <td>0</td>\n",
       "      <td>1</td>\n",
       "      <td>Meyer, Mr. Edgar Joseph</td>\n",
       "      <td>male</td>\n",
       "      <td>28.0</td>\n",
       "      <td>1</td>\n",
       "      <td>0</td>\n",
       "      <td>PC 17604</td>\n",
       "      <td>82.1708</td>\n",
       "      <td>NaN</td>\n",
       "      <td>C</td>\n",
       "    </tr>\n",
       "    <tr>\n",
       "      <th>241</th>\n",
       "      <td>242</td>\n",
       "      <td>1</td>\n",
       "      <td>3</td>\n",
       "      <td>Murphy, Miss. Katherine \"Kate\"</td>\n",
       "      <td>female</td>\n",
       "      <td>NaN</td>\n",
       "      <td>1</td>\n",
       "      <td>0</td>\n",
       "      <td>367230</td>\n",
       "      <td>15.5000</td>\n",
       "      <td>NaN</td>\n",
       "      <td>Q</td>\n",
       "    </tr>\n",
       "    <tr>\n",
       "      <th>794</th>\n",
       "      <td>795</td>\n",
       "      <td>0</td>\n",
       "      <td>3</td>\n",
       "      <td>Dantcheff, Mr. Ristiu</td>\n",
       "      <td>male</td>\n",
       "      <td>25.0</td>\n",
       "      <td>0</td>\n",
       "      <td>0</td>\n",
       "      <td>349203</td>\n",
       "      <td>7.8958</td>\n",
       "      <td>NaN</td>\n",
       "      <td>S</td>\n",
       "    </tr>\n",
       "    <tr>\n",
       "      <th>2</th>\n",
       "      <td>3</td>\n",
       "      <td>1</td>\n",
       "      <td>3</td>\n",
       "      <td>Heikkinen, Miss. Laina</td>\n",
       "      <td>female</td>\n",
       "      <td>26.0</td>\n",
       "      <td>0</td>\n",
       "      <td>0</td>\n",
       "      <td>STON/O2. 3101282</td>\n",
       "      <td>7.9250</td>\n",
       "      <td>NaN</td>\n",
       "      <td>S</td>\n",
       "    </tr>\n",
       "    <tr>\n",
       "      <th>6</th>\n",
       "      <td>7</td>\n",
       "      <td>0</td>\n",
       "      <td>1</td>\n",
       "      <td>McCarthy, Mr. Timothy J</td>\n",
       "      <td>male</td>\n",
       "      <td>54.0</td>\n",
       "      <td>0</td>\n",
       "      <td>0</td>\n",
       "      <td>17463</td>\n",
       "      <td>51.8625</td>\n",
       "      <td>E46</td>\n",
       "      <td>S</td>\n",
       "    </tr>\n",
       "    <tr>\n",
       "      <th>17</th>\n",
       "      <td>18</td>\n",
       "      <td>1</td>\n",
       "      <td>2</td>\n",
       "      <td>Williams, Mr. Charles Eugene</td>\n",
       "      <td>male</td>\n",
       "      <td>NaN</td>\n",
       "      <td>0</td>\n",
       "      <td>0</td>\n",
       "      <td>244373</td>\n",
       "      <td>13.0000</td>\n",
       "      <td>NaN</td>\n",
       "      <td>S</td>\n",
       "    </tr>\n",
       "    <tr>\n",
       "      <th>368</th>\n",
       "      <td>369</td>\n",
       "      <td>1</td>\n",
       "      <td>3</td>\n",
       "      <td>Jermyn, Miss. Annie</td>\n",
       "      <td>female</td>\n",
       "      <td>NaN</td>\n",
       "      <td>0</td>\n",
       "      <td>0</td>\n",
       "      <td>14313</td>\n",
       "      <td>7.7500</td>\n",
       "      <td>NaN</td>\n",
       "      <td>Q</td>\n",
       "    </tr>\n",
       "  </tbody>\n",
       "</table>\n",
       "</div>"
      ],
      "text/plain": [
       "     PassengerId  Survived  Pclass  \\\n",
       "862          863         1       1   \n",
       "223          224         0       3   \n",
       "84            85         1       2   \n",
       "680          681         0       3   \n",
       "535          536         1       2   \n",
       "623          624         0       3   \n",
       "148          149         0       2   \n",
       "3              4         1       1   \n",
       "34            35         0       1   \n",
       "241          242         1       3   \n",
       "794          795         0       3   \n",
       "2              3         1       3   \n",
       "6              7         0       1   \n",
       "17            18         1       2   \n",
       "368          369         1       3   \n",
       "\n",
       "                                                  Name     Sex   Age  SibSp  \\\n",
       "862  Swift, Mrs. Frederick Joel (Margaret Welles Ba...  female  48.0      0   \n",
       "223                               Nenkoff, Mr. Christo    male   NaN      0   \n",
       "84                                 Ilett, Miss. Bertha  female  17.0      0   \n",
       "680                                Peters, Miss. Katie  female   NaN      0   \n",
       "535                             Hart, Miss. Eva Miriam  female   7.0      0   \n",
       "623                        Hansen, Mr. Henry Damsgaard    male  21.0      0   \n",
       "148           Navratil, Mr. Michel (\"Louis M Hoffman\")    male  36.5      0   \n",
       "3         Futrelle, Mrs. Jacques Heath (Lily May Peel)  female  35.0      1   \n",
       "34                             Meyer, Mr. Edgar Joseph    male  28.0      1   \n",
       "241                     Murphy, Miss. Katherine \"Kate\"  female   NaN      1   \n",
       "794                              Dantcheff, Mr. Ristiu    male  25.0      0   \n",
       "2                               Heikkinen, Miss. Laina  female  26.0      0   \n",
       "6                              McCarthy, Mr. Timothy J    male  54.0      0   \n",
       "17                        Williams, Mr. Charles Eugene    male   NaN      0   \n",
       "368                                Jermyn, Miss. Annie  female   NaN      0   \n",
       "\n",
       "     Parch            Ticket     Fare Cabin Embarked  \n",
       "862      0             17466  25.9292   D17        S  \n",
       "223      0            349234   7.8958   NaN        S  \n",
       "84       0        SO/C 14885  10.5000   NaN        S  \n",
       "680      0            330935   8.1375   NaN        Q  \n",
       "535      2      F.C.C. 13529  26.2500   NaN        S  \n",
       "623      0            350029   7.8542   NaN        S  \n",
       "148      2            230080  26.0000    F2        S  \n",
       "3        0            113803  53.1000  C123        S  \n",
       "34       0          PC 17604  82.1708   NaN        C  \n",
       "241      0            367230  15.5000   NaN        Q  \n",
       "794      0            349203   7.8958   NaN        S  \n",
       "2        0  STON/O2. 3101282   7.9250   NaN        S  \n",
       "6        0             17463  51.8625   E46        S  \n",
       "17       0            244373  13.0000   NaN        S  \n",
       "368      0             14313   7.7500   NaN        Q  "
      ]
     },
     "execution_count": 96,
     "metadata": {},
     "output_type": "execute_result"
    }
   ],
   "source": [
    "df_amostra"
   ]
  }
 ],
 "metadata": {
  "hide_input": false,
  "kernelspec": {
   "display_name": "Python 3 (ipykernel)",
   "language": "python",
   "name": "python3"
  },
  "language_info": {
   "codemirror_mode": {
    "name": "ipython",
    "version": 3
   },
   "file_extension": ".py",
   "mimetype": "text/x-python",
   "name": "python",
   "nbconvert_exporter": "python",
   "pygments_lexer": "ipython3",
   "version": "3.9.7"
  }
 },
 "nbformat": 4,
 "nbformat_minor": 5
}
