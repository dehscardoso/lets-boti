{
 "cells": [
  {
   "cell_type": "markdown",
   "id": "4838cc9d",
   "metadata": {},
   "source": [
    "# Na aula anterior..."
   ]
  },
  {
   "cell_type": "code",
   "execution_count": null,
   "id": "275bf944",
   "metadata": {},
   "outputs": [],
   "source": []
  },
  {
   "cell_type": "markdown",
   "id": "de4c47b1",
   "metadata": {},
   "source": [
    "# Hoje!"
   ]
  },
  {
   "cell_type": "markdown",
   "id": "661a501e",
   "metadata": {},
   "source": [
    "### Introdução Intuitiva - Árvore de Classificação"
   ]
  },
  {
   "cell_type": "markdown",
   "id": "8138d810",
   "metadata": {},
   "source": [
    "#### Case Futebol:  Jogos do Palmeiras em 2018\n",
    "\n",
    "- É jogo de copa?\n",
    "    - Sim: É das quartas em diante final?\n",
    "        - Sim: Rychard foi ao estádio?\n",
    "            - Sim: Palmeiras venceu\n",
    "            - Não: Palmeiras perdeu\n",
    "        - Não: Palmeiras venceu \n",
    "    - Não: Rychard está em casa?\n",
    "        - Sim: Rychard fez pipoca?\n",
    "            - Sim: Palmeiras venceu\n",
    "            - Não: Palmeiras perdeu\n",
    "        - Não: Palmeiras perdeu\n",
    "            \n",
    "~Resumo: a libertadores não veio em 2018 por culpa minha~"
   ]
  },
  {
   "cell_type": "markdown",
   "id": "7f21666c",
   "metadata": {},
   "source": [
    "Da mesma forma que uma uma regressão logística, uma árvore de decisão representa uma função que toma como entrada uma série de atributos/*features* e retorna uma **decisão**: um valor de saída único.\n",
    "\n",
    "Uma boa analogia é com os manuais de conserto de eletrodomésticos dos anos 90: se uma situação A acontecer, você seguirá os passos descritos pelo caminho A+; caso contrário, seguirá pelo caminho A-; cada caminho levará a diferentes verificações e, consequentemente, a diferentes conclusões.  chegando à sua conclusão por meio da execução de uma série de testes, em geral de \"verdadeiro-falso\". De forma simples e direta, é um conjunto de regras *if-then-else*, sendo de fácil interpretação e implementação.\n",
    "\n",
    "Olhando para o exemplo da imagem a seguir, podemos ilustrar essa sequência: a raiz e cada nó interno na árvore correspondem ao testes de um atributo de entrada do modelo; as folhas representam a decisão para esse caminho que foi percorrido. \n",
    "\n",
    "![tree_nos](imagens/tree_nos.jpg)\n",
    "\n",
    "Porém, os testes que ocorrem nos atributos não são aleatórios: devem ser entendidos como funções de custo que buscam otimizar a homogeneidade de suas subpopulações. Queremos fazer com que cada subpopulação de cada nó esteja cada vez mais homogêneo possível, até chegar a folha, usando para isso uma estratégia de dividir para conquistar. \n",
    "\n",
    "Vamos tomar como base uma amostra da tabela do Titanic:"
   ]
  },
  {
   "cell_type": "code",
   "execution_count": null,
   "id": "38deaa32",
   "metadata": {},
   "outputs": [],
   "source": []
  },
  {
   "cell_type": "markdown",
   "id": "4248fd5d",
   "metadata": {},
   "source": [
    "**Para pensar:** intuitivamente, entre Sex e Parch, qual é a coluna que mais discrimina sobrevivência? Por quê?"
   ]
  },
  {
   "cell_type": "code",
   "execution_count": null,
   "id": "6426dab5",
   "metadata": {},
   "outputs": [],
   "source": []
  },
  {
   "cell_type": "markdown",
   "id": "14515732",
   "metadata": {},
   "source": [
    "## Entropia\n",
    "\n",
    "Em árvores de decisão, estamos buscando separar as instâncias de forma a obter o máximo de homogeneidade possível nas folhas, observano a variável resposta. Para chegar nesse ponto, olhamos para o conjunto de dados, escolhemos uma variável e um limiar e dividimos em dois subconjuntos baseados nisso. A partir daí podemos repetir o passo anterior para cada subconjunto, e para cada subconjunto gerado nos subconjuntos, fazendo um processo recursivo até que tenhamos nosso conjunto de dados perfeitamente separado.\n",
    "\n",
    "Porém, precisamos escolher um critério para escolher uma variável e limiar para separar em dois subconjuntos. Para isso, usaremos um conceito da Teoria da Informação chamado Entropia, que mede a aleatoriedade de uma variável aleatória, sendo dada por:\n",
    "\n",
    "$$H(\\textrm{VA}) = -\\sum_i{p_i \\times \\log_{2}{p_i}}$$\n",
    "\n",
    "\n",
    "Exemplificando com uma moeda $M_1$ não viciada, podemos citar dois eventos: \n",
    "\n",
    "- 1, cara, com probabilidade $p_1 = 0.5$\n",
    "- 2, coroa, com probabilidade $p_2 = 0.5$\n",
    "\n",
    "Dessa forma, a entropia $H(M_1)$ é:\n",
    "\n",
    "$$H(M_1) = -(0.5 \\times \\log_{2}{0.5} + 0.5 \\times \\log_{2}{0.5}) = 1$$\n",
    "\n",
    "Logo, a entropia é máxima (casos binário), significando que essa variável possui um alto nível de aleatoriedade.\n",
    "\n",
    "Exemplificando com uma moeda $M_2$ viciada, podemos citar dois eventos: \n",
    "\n",
    "- 1, cara, com probabilidade $p_1 = 0.1$\n",
    "- 2, coroa, com probabilidade $p_2 = 0.9$\n"
   ]
  },
  {
   "cell_type": "code",
   "execution_count": null,
   "id": "e7c5c315",
   "metadata": {},
   "outputs": [],
   "source": []
  },
  {
   "cell_type": "markdown",
   "id": "d56c6dc5",
   "metadata": {},
   "source": [
    "**Para pensar:** Qual a entropia da variável Pclass?"
   ]
  },
  {
   "cell_type": "code",
   "execution_count": null,
   "id": "6e8cebe2",
   "metadata": {},
   "outputs": [],
   "source": []
  },
  {
   "cell_type": "markdown",
   "id": "14852ac9",
   "metadata": {},
   "source": [
    "**Para pensar:** Qual que é a entropia da variável Survived?"
   ]
  },
  {
   "cell_type": "code",
   "execution_count": null,
   "id": "4fe42c75",
   "metadata": {},
   "outputs": [],
   "source": []
  },
  {
   "cell_type": "markdown",
   "id": "98041b9b",
   "metadata": {},
   "source": [
    "Formalizando matematicamente:\n",
    "    \n",
    "Em casos binários, no qual uma variável aleatória assume o valor 0 ou 1, podemos escrever a entropia como\n",
    "\n",
    "$$H(\\textrm{VA}) = B\\left( \\frac{p}{p + n}\\right)= -\\big[p \\times \\log_{2}{p} + (1 - p) \\times \\log_{2}(1 - p)\\big]$$\n",
    "\n",
    "O que queremos obter com a divisão do conjunto de dados são subconjuntos que diminuam ao máximo a aleatoriedade da variável resposta do conjunto original. Logo, para cada atributo do conjunto de dados, queremos calcular o **Ganho de Informação** que mede a redução na entropia das partições obtidas de acordo os valores desse atributo. Isso é dado pela diferença entre a entropia do conjunto de exemplos original e a soma ponderada da entropia das partições, sendo a construção da árvore orientada pelo objetivo de reduzir a entropia.\n",
    "\n",
    "Ou seja, um atributo $A$ com $d$ valores possíveis para ele gera $S$ subconjuntos $S_1, S_2, ..., S_d$. Cada subconjunto $S_k$ possui $p_k$ exemplos positivos e $n_k$ exemplos negativos, nos dando uma entropia de $B\\left( \\frac{p_k}{p_k + n_k}\\right)$. Ponderando pela quantidade de exemplos dos subconjuntos, temos um conteúdo de informação esperado do atributo $A_i$ de\n",
    "\n",
    "$$E(A_i) = \\sum_i{\\frac{p_k + n_k}{p + k} B\\left( \\frac{p_k}{p_k + n_k}\\right)}$$.\n",
    "\n",
    "Dessa forma, o Ganho de Informação do atributo $A_i$ é a redução na entropia do estado anterior para o estado posterior, na forma\n",
    "\n",
    "$$\\textrm{Ganho}(A_i) =  B\\left( \\frac{p}{p + n}\\right) - E(A_i)$$\n",
    "\n",
    "\n",
    "\n",
    "\n"
   ]
  },
  {
   "cell_type": "code",
   "execution_count": null,
   "id": "97d4bc74",
   "metadata": {},
   "outputs": [],
   "source": []
  },
  {
   "cell_type": "markdown",
   "id": "0013b10f",
   "metadata": {},
   "source": [
    "**Para pensar:** Qual o ganho de informação de utilizar as variáveveis Sex e Parch no dataframe de amostra?"
   ]
  },
  {
   "cell_type": "code",
   "execution_count": null,
   "id": "d5e3c2f6",
   "metadata": {},
   "outputs": [],
   "source": []
  }
 ],
 "metadata": {
  "kernelspec": {
   "display_name": "Python 3 (ipykernel)",
   "language": "python",
   "name": "python3"
  },
  "language_info": {
   "codemirror_mode": {
    "name": "ipython",
    "version": 3
   },
   "file_extension": ".py",
   "mimetype": "text/x-python",
   "name": "python",
   "nbconvert_exporter": "python",
   "pygments_lexer": "ipython3",
   "version": "3.9.7"
  }
 },
 "nbformat": 4,
 "nbformat_minor": 5
}
