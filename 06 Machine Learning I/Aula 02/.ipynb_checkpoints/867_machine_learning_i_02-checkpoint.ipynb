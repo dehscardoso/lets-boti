{
 "cells": [
  {
   "cell_type": "markdown",
   "id": "4838cc9d",
   "metadata": {},
   "source": [
    "# Na aula anterior..."
   ]
  },
  {
   "cell_type": "markdown",
   "id": "fef8b3d0",
   "metadata": {},
   "source": [
    "Qual a principal hipótese do Algoritmo do Vizinho Mais Próximo?"
   ]
  },
  {
   "cell_type": "code",
   "execution_count": null,
   "id": "ba60b5aa",
   "metadata": {},
   "outputs": [],
   "source": []
  },
  {
   "cell_type": "markdown",
   "id": "de4c47b1",
   "metadata": {},
   "source": [
    "# Hoje!"
   ]
  },
  {
   "cell_type": "markdown",
   "id": "ecf745e9",
   "metadata": {},
   "source": [
    "## KNN\n",
    "\n",
    "<img src=\"imagens/knn.png\" alt=\"Drawing\" style=\"width: 250px;\"/>"
   ]
  },
  {
   "cell_type": "markdown",
   "id": "365048ec",
   "metadata": {},
   "source": [
    "**Para pensar:** Construir um função que calcula a distância entre 2 pontos com n dimensões."
   ]
  },
  {
   "cell_type": "raw",
   "id": "1a8bc5ec",
   "metadata": {},
   "source": [
    "distancia(x, y) = raiz_quadrada(s)\n",
    "\n",
    "s = soma(\n",
    "    (x1 - y1)^2\n",
    "    + (x2 - y2)^2\n",
    "    + (x3 - y3)^2\n",
    "    ...\n",
    "    + (xn - yn)^2\n",
    ")"
   ]
  },
  {
   "cell_type": "code",
   "execution_count": 7,
   "id": "f175788a",
   "metadata": {},
   "outputs": [],
   "source": [
    "x = [5, 6, 7]\n",
    "y = [12, 13, 14]"
   ]
  },
  {
   "cell_type": "code",
   "execution_count": 10,
   "id": "0057dc91",
   "metadata": {},
   "outputs": [
    {
     "data": {
      "text/plain": [
       "147"
      ]
     },
     "execution_count": 10,
     "metadata": {},
     "output_type": "execute_result"
    }
   ],
   "source": [
    "s = (5 - 12)**2 + (6 - 13)**2 + (7 - 14)**2\n",
    "s"
   ]
  },
  {
   "cell_type": "code",
   "execution_count": 11,
   "id": "1481a0fe",
   "metadata": {},
   "outputs": [
    {
     "data": {
      "text/plain": [
       "147"
      ]
     },
     "execution_count": 11,
     "metadata": {},
     "output_type": "execute_result"
    }
   ],
   "source": [
    "s = (x[0] - y[0])**2 + (x[1] - y[1])**2 + (x[2] - y[2])**2\n",
    "s"
   ]
  },
  {
   "cell_type": "code",
   "execution_count": 12,
   "id": "f9a7a3a1",
   "metadata": {},
   "outputs": [],
   "source": [
    "x = [5, 6]\n",
    "y = [12, 13]"
   ]
  },
  {
   "cell_type": "code",
   "execution_count": 13,
   "id": "7f8db634",
   "metadata": {},
   "outputs": [
    {
     "ename": "IndexError",
     "evalue": "list index out of range",
     "output_type": "error",
     "traceback": [
      "\u001b[0;31m---------------------------------------------------------------------------\u001b[0m",
      "\u001b[0;31mIndexError\u001b[0m                                Traceback (most recent call last)",
      "\u001b[0;32m/var/folders/0m/f9g25vz16sq8vcnn186g387h0000gn/T/ipykernel_3025/4204592811.py\u001b[0m in \u001b[0;36m<module>\u001b[0;34m\u001b[0m\n\u001b[0;32m----> 1\u001b[0;31m \u001b[0ms\u001b[0m \u001b[0;34m=\u001b[0m \u001b[0;34m(\u001b[0m\u001b[0mx\u001b[0m\u001b[0;34m[\u001b[0m\u001b[0;36m0\u001b[0m\u001b[0;34m]\u001b[0m \u001b[0;34m-\u001b[0m \u001b[0my\u001b[0m\u001b[0;34m[\u001b[0m\u001b[0;36m0\u001b[0m\u001b[0;34m]\u001b[0m\u001b[0;34m)\u001b[0m\u001b[0;34m**\u001b[0m\u001b[0;36m2\u001b[0m \u001b[0;34m+\u001b[0m \u001b[0;34m(\u001b[0m\u001b[0mx\u001b[0m\u001b[0;34m[\u001b[0m\u001b[0;36m1\u001b[0m\u001b[0;34m]\u001b[0m \u001b[0;34m-\u001b[0m \u001b[0my\u001b[0m\u001b[0;34m[\u001b[0m\u001b[0;36m1\u001b[0m\u001b[0;34m]\u001b[0m\u001b[0;34m)\u001b[0m\u001b[0;34m**\u001b[0m\u001b[0;36m2\u001b[0m \u001b[0;34m+\u001b[0m \u001b[0;34m(\u001b[0m\u001b[0mx\u001b[0m\u001b[0;34m[\u001b[0m\u001b[0;36m2\u001b[0m\u001b[0;34m]\u001b[0m \u001b[0;34m-\u001b[0m \u001b[0my\u001b[0m\u001b[0;34m[\u001b[0m\u001b[0;36m2\u001b[0m\u001b[0;34m]\u001b[0m\u001b[0;34m)\u001b[0m\u001b[0;34m**\u001b[0m\u001b[0;36m2\u001b[0m\u001b[0;34m\u001b[0m\u001b[0;34m\u001b[0m\u001b[0m\n\u001b[0m\u001b[1;32m      2\u001b[0m \u001b[0ms\u001b[0m\u001b[0;34m\u001b[0m\u001b[0;34m\u001b[0m\u001b[0m\n",
      "\u001b[0;31mIndexError\u001b[0m: list index out of range"
     ]
    }
   ],
   "source": [
    "s = (x[0] - y[0])**2 + (x[1] - y[1])**2 + (x[2] - y[2])**2\n",
    "s"
   ]
  },
  {
   "cell_type": "code",
   "execution_count": 14,
   "id": "98fc4f1c",
   "metadata": {},
   "outputs": [
    {
     "data": {
      "text/plain": [
       "98"
      ]
     },
     "execution_count": 14,
     "metadata": {},
     "output_type": "execute_result"
    }
   ],
   "source": [
    "s = 0\n",
    "for i in range(len(x)):\n",
    "    s = s + (x[i] - y[i])**2\n",
    "s"
   ]
  },
  {
   "cell_type": "code",
   "execution_count": 15,
   "id": "a68a557c",
   "metadata": {},
   "outputs": [
    {
     "data": {
      "text/plain": [
       "98"
      ]
     },
     "execution_count": 15,
     "metadata": {},
     "output_type": "execute_result"
    }
   ],
   "source": [
    "s = (x[0] - y[0])**2 + (x[1] - y[1])**2\n",
    "s"
   ]
  },
  {
   "cell_type": "code",
   "execution_count": 16,
   "id": "64601690",
   "metadata": {},
   "outputs": [],
   "source": [
    "x = [5, 6, 7]\n",
    "y = [12, 13, 14]"
   ]
  },
  {
   "cell_type": "code",
   "execution_count": 18,
   "id": "0591d60a",
   "metadata": {},
   "outputs": [
    {
     "data": {
      "text/plain": [
       "147"
      ]
     },
     "execution_count": 18,
     "metadata": {},
     "output_type": "execute_result"
    }
   ],
   "source": [
    "s = 0\n",
    "for i in range(len(x)):\n",
    "    s = s + (x[i] - y[i])**2\n",
    "s"
   ]
  },
  {
   "cell_type": "code",
   "execution_count": 19,
   "id": "e022980a",
   "metadata": {},
   "outputs": [
    {
     "data": {
      "text/plain": [
       "12.12435565298214"
      ]
     },
     "execution_count": 19,
     "metadata": {},
     "output_type": "execute_result"
    }
   ],
   "source": [
    "s = 0\n",
    "for i in range(len(x)):\n",
    "    s = s + (x[i] - y[i])**2\n",
    "\n",
    "distancia = s**0.5\n",
    "distancia"
   ]
  },
  {
   "cell_type": "raw",
   "id": "eaeb280f",
   "metadata": {},
   "source": [
    "p1 = np.array([1, 2, 3])\n",
    "p2 = np.array([1, 2, 3])"
   ]
  },
  {
   "cell_type": "code",
   "execution_count": 5,
   "id": "35a43589",
   "metadata": {},
   "outputs": [],
   "source": [
    "def calcula_distancia(p1, p2):\n",
    "    \n",
    "    if len(p1) != len(p2):\n",
    "        raise Exception(\"O tamanho de p1 não pode ser diferente do tamanho de p2\")\n",
    "    \n",
    "    s = 0\n",
    "    for i in range(len(p1)):\n",
    "        s = s + (p1[i] - p2[i])**2\n",
    "\n",
    "    distancia = s**0.5\n",
    "    \n",
    "    return distancia"
   ]
  },
  {
   "cell_type": "code",
   "execution_count": 6,
   "id": "ddb19af1",
   "metadata": {},
   "outputs": [
    {
     "data": {
      "text/plain": [
       "12.12435565298214"
      ]
     },
     "execution_count": 6,
     "metadata": {},
     "output_type": "execute_result"
    }
   ],
   "source": [
    "x = [5, 6, 7]\n",
    "y = [12, 13, 14]\n",
    "calcula_distancia(x, y)"
   ]
  },
  {
   "cell_type": "markdown",
   "id": "ec3e4cd8",
   "metadata": {},
   "source": [
    "**Para pensar:** Construir um função que calcula a predição da classe de um elemento usando o Vizinho Mais Próximo."
   ]
  },
  {
   "cell_type": "code",
   "execution_count": 7,
   "id": "83e99fe5",
   "metadata": {},
   "outputs": [],
   "source": [
    "import pandas as pd"
   ]
  },
  {
   "cell_type": "code",
   "execution_count": 8,
   "id": "783c2efc",
   "metadata": {},
   "outputs": [
    {
     "data": {
      "text/html": [
       "<div>\n",
       "<style scoped>\n",
       "    .dataframe tbody tr th:only-of-type {\n",
       "        vertical-align: middle;\n",
       "    }\n",
       "\n",
       "    .dataframe tbody tr th {\n",
       "        vertical-align: top;\n",
       "    }\n",
       "\n",
       "    .dataframe thead th {\n",
       "        text-align: right;\n",
       "    }\n",
       "</style>\n",
       "<table border=\"1\" class=\"dataframe\">\n",
       "  <thead>\n",
       "    <tr style=\"text-align: right;\">\n",
       "      <th></th>\n",
       "      <th>sepal_length</th>\n",
       "      <th>sepal_width</th>\n",
       "      <th>petal_length</th>\n",
       "      <th>petal_width</th>\n",
       "      <th>species</th>\n",
       "    </tr>\n",
       "  </thead>\n",
       "  <tbody>\n",
       "    <tr>\n",
       "      <th>0</th>\n",
       "      <td>5.1</td>\n",
       "      <td>3.5</td>\n",
       "      <td>1.4</td>\n",
       "      <td>0.2</td>\n",
       "      <td>setosa</td>\n",
       "    </tr>\n",
       "    <tr>\n",
       "      <th>1</th>\n",
       "      <td>4.9</td>\n",
       "      <td>3.0</td>\n",
       "      <td>1.4</td>\n",
       "      <td>0.2</td>\n",
       "      <td>setosa</td>\n",
       "    </tr>\n",
       "    <tr>\n",
       "      <th>2</th>\n",
       "      <td>4.7</td>\n",
       "      <td>3.2</td>\n",
       "      <td>1.3</td>\n",
       "      <td>0.2</td>\n",
       "      <td>setosa</td>\n",
       "    </tr>\n",
       "    <tr>\n",
       "      <th>3</th>\n",
       "      <td>4.6</td>\n",
       "      <td>3.1</td>\n",
       "      <td>1.5</td>\n",
       "      <td>0.2</td>\n",
       "      <td>setosa</td>\n",
       "    </tr>\n",
       "    <tr>\n",
       "      <th>4</th>\n",
       "      <td>5.0</td>\n",
       "      <td>3.6</td>\n",
       "      <td>1.4</td>\n",
       "      <td>0.2</td>\n",
       "      <td>setosa</td>\n",
       "    </tr>\n",
       "  </tbody>\n",
       "</table>\n",
       "</div>"
      ],
      "text/plain": [
       "   sepal_length  sepal_width  petal_length  petal_width species\n",
       "0           5.1          3.5           1.4          0.2  setosa\n",
       "1           4.9          3.0           1.4          0.2  setosa\n",
       "2           4.7          3.2           1.3          0.2  setosa\n",
       "3           4.6          3.1           1.5          0.2  setosa\n",
       "4           5.0          3.6           1.4          0.2  setosa"
      ]
     },
     "execution_count": 8,
     "metadata": {},
     "output_type": "execute_result"
    }
   ],
   "source": [
    "df = pd.read_csv(\"dados/iris.csv\")\n",
    "df.head()"
   ]
  },
  {
   "cell_type": "code",
   "execution_count": 9,
   "id": "3f36e8d0",
   "metadata": {},
   "outputs": [
    {
     "data": {
      "text/plain": [
       "0.6164414002968979"
      ]
     },
     "execution_count": 9,
     "metadata": {},
     "output_type": "execute_result"
    }
   ],
   "source": [
    "x = df.iloc[0, :4]\n",
    "y = df.iloc[5, :4]\n",
    "\n",
    "calcula_distancia(x, y)"
   ]
  },
  {
   "cell_type": "code",
   "execution_count": 6,
   "id": "bef4a8db",
   "metadata": {},
   "outputs": [
    {
     "data": {
      "text/plain": [
       "3.416138170507745"
      ]
     },
     "execution_count": 6,
     "metadata": {},
     "output_type": "execute_result"
    }
   ],
   "source": [
    "x = df.iloc[0, :4]\n",
    "y = df.iloc[55, :4]\n",
    "\n",
    "calcula_distancia(x, y)"
   ]
  },
  {
   "cell_type": "markdown",
   "id": "f230a2a8",
   "metadata": {},
   "source": [
    "Preciso:\n",
    "  - variável resposta: species\n",
    "    \n",
    "  - variáveis explicativas: sepal_length\tsepal_width\tpetal_length\tpetal_width\n",
    "    \n",
    "  - dado que eu vou fazer a previsão: ponto 0 (dados_teste)\n",
    "    \n",
    "  - dados para comparação: ponto 1:final (dados_treino)"
   ]
  },
  {
   "cell_type": "code",
   "execution_count": 4,
   "id": "a1c791da",
   "metadata": {},
   "outputs": [],
   "source": [
    "conhecidos = df[1:].copy()\n",
    "desconhecidos = df.loc[0, ['sepal_length', 'sepal_width', 'petal_length', 'petal_width']].copy()"
   ]
  },
  {
   "cell_type": "code",
   "execution_count": 31,
   "id": "003f6ebe",
   "metadata": {},
   "outputs": [
    {
     "data": {
      "text/html": [
       "<div>\n",
       "<style scoped>\n",
       "    .dataframe tbody tr th:only-of-type {\n",
       "        vertical-align: middle;\n",
       "    }\n",
       "\n",
       "    .dataframe tbody tr th {\n",
       "        vertical-align: top;\n",
       "    }\n",
       "\n",
       "    .dataframe thead th {\n",
       "        text-align: right;\n",
       "    }\n",
       "</style>\n",
       "<table border=\"1\" class=\"dataframe\">\n",
       "  <thead>\n",
       "    <tr style=\"text-align: right;\">\n",
       "      <th></th>\n",
       "      <th>sepal_length</th>\n",
       "      <th>sepal_width</th>\n",
       "      <th>petal_length</th>\n",
       "      <th>petal_width</th>\n",
       "      <th>species</th>\n",
       "    </tr>\n",
       "  </thead>\n",
       "  <tbody>\n",
       "    <tr>\n",
       "      <th>17</th>\n",
       "      <td>5.1</td>\n",
       "      <td>3.5</td>\n",
       "      <td>1.4</td>\n",
       "      <td>0.3</td>\n",
       "      <td>setosa</td>\n",
       "    </tr>\n",
       "    <tr>\n",
       "      <th>4</th>\n",
       "      <td>5.0</td>\n",
       "      <td>3.6</td>\n",
       "      <td>1.4</td>\n",
       "      <td>0.2</td>\n",
       "      <td>setosa</td>\n",
       "    </tr>\n",
       "    <tr>\n",
       "      <th>39</th>\n",
       "      <td>5.1</td>\n",
       "      <td>3.4</td>\n",
       "      <td>1.5</td>\n",
       "      <td>0.2</td>\n",
       "      <td>setosa</td>\n",
       "    </tr>\n",
       "    <tr>\n",
       "      <th>27</th>\n",
       "      <td>5.2</td>\n",
       "      <td>3.5</td>\n",
       "      <td>1.5</td>\n",
       "      <td>0.2</td>\n",
       "      <td>setosa</td>\n",
       "    </tr>\n",
       "    <tr>\n",
       "      <th>28</th>\n",
       "      <td>5.2</td>\n",
       "      <td>3.4</td>\n",
       "      <td>1.4</td>\n",
       "      <td>0.2</td>\n",
       "      <td>setosa</td>\n",
       "    </tr>\n",
       "    <tr>\n",
       "      <th>...</th>\n",
       "      <td>...</td>\n",
       "      <td>...</td>\n",
       "      <td>...</td>\n",
       "      <td>...</td>\n",
       "      <td>...</td>\n",
       "    </tr>\n",
       "    <tr>\n",
       "      <th>131</th>\n",
       "      <td>7.9</td>\n",
       "      <td>3.8</td>\n",
       "      <td>6.4</td>\n",
       "      <td>2.0</td>\n",
       "      <td>virginica</td>\n",
       "    </tr>\n",
       "    <tr>\n",
       "      <th>105</th>\n",
       "      <td>7.6</td>\n",
       "      <td>3.0</td>\n",
       "      <td>6.6</td>\n",
       "      <td>2.1</td>\n",
       "      <td>virginica</td>\n",
       "    </tr>\n",
       "    <tr>\n",
       "      <th>122</th>\n",
       "      <td>7.7</td>\n",
       "      <td>2.8</td>\n",
       "      <td>6.7</td>\n",
       "      <td>2.0</td>\n",
       "      <td>virginica</td>\n",
       "    </tr>\n",
       "    <tr>\n",
       "      <th>117</th>\n",
       "      <td>7.7</td>\n",
       "      <td>3.8</td>\n",
       "      <td>6.7</td>\n",
       "      <td>2.2</td>\n",
       "      <td>virginica</td>\n",
       "    </tr>\n",
       "    <tr>\n",
       "      <th>118</th>\n",
       "      <td>7.7</td>\n",
       "      <td>2.6</td>\n",
       "      <td>6.9</td>\n",
       "      <td>2.3</td>\n",
       "      <td>virginica</td>\n",
       "    </tr>\n",
       "  </tbody>\n",
       "</table>\n",
       "<p>149 rows × 5 columns</p>\n",
       "</div>"
      ],
      "text/plain": [
       "     sepal_length  sepal_width  petal_length  petal_width    species\n",
       "17            5.1          3.5           1.4          0.3     setosa\n",
       "4             5.0          3.6           1.4          0.2     setosa\n",
       "39            5.1          3.4           1.5          0.2     setosa\n",
       "27            5.2          3.5           1.5          0.2     setosa\n",
       "28            5.2          3.4           1.4          0.2     setosa\n",
       "..            ...          ...           ...          ...        ...\n",
       "131           7.9          3.8           6.4          2.0  virginica\n",
       "105           7.6          3.0           6.6          2.1  virginica\n",
       "122           7.7          2.8           6.7          2.0  virginica\n",
       "117           7.7          3.8           6.7          2.2  virginica\n",
       "118           7.7          2.6           6.9          2.3  virginica\n",
       "\n",
       "[149 rows x 5 columns]"
      ]
     },
     "execution_count": 31,
     "metadata": {},
     "output_type": "execute_result"
    }
   ],
   "source": [
    "conhecidos"
   ]
  },
  {
   "cell_type": "code",
   "execution_count": 12,
   "id": "1e8a2d22",
   "metadata": {},
   "outputs": [
    {
     "data": {
      "text/plain": [
       "sepal_length    5.1\n",
       "sepal_width     3.5\n",
       "petal_length    1.4\n",
       "petal_width     0.2\n",
       "Name: 0, dtype: object"
      ]
     },
     "execution_count": 12,
     "metadata": {},
     "output_type": "execute_result"
    }
   ],
   "source": [
    "desconhecidos"
   ]
  },
  {
   "cell_type": "code",
   "execution_count": 8,
   "id": "a13422f4",
   "metadata": {},
   "outputs": [],
   "source": [
    "def predicao_knn(d_conhecidos, d_desconhecidos, resposta):\n",
    "\n",
    "    distancia = []\n",
    "\n",
    "    for i, elem in d_conhecidos.iterrows():\n",
    "\n",
    "        distancia.append(calcula_distancia(elem.drop(resposta), d_desconhecidos))\n",
    "\n",
    "    d_conhecidos['distancia'] = distancia\n",
    "    \n",
    "    d_conhecidos.sort_values(by = 'distancia', inplace = True)\n",
    "    \n",
    "    previsao = d_conhecidos.head(1)[resposta].iloc[0]\n",
    "    \n",
    "    return previsao"
   ]
  },
  {
   "cell_type": "code",
   "execution_count": 10,
   "id": "d41c51ed",
   "metadata": {},
   "outputs": [
    {
     "data": {
      "text/plain": [
       "'setosa'"
      ]
     },
     "execution_count": 10,
     "metadata": {},
     "output_type": "execute_result"
    }
   ],
   "source": [
    "predicao_knn(conhecidos, desconhecidos, 'species')"
   ]
  },
  {
   "cell_type": "markdown",
   "id": "b3b48be2",
   "metadata": {},
   "source": [
    "### Os k Vizinhos Mais Próximos\n",
    "\n",
    "Podemos extender o algoritmo do Vizinho Mais Próximo ao utilizar uma vizinhança maior, ou seja, os k vizinhos mais próximos. Numa situação de classificação desse tipo, podemos imaginar que cada vizinho votará em uma classe; a classe predominante, então, será a predição do modelo para aquela instância.\n",
    "\n",
    "<img src=\"imagens/knn_2.png\" alt=\"Drawing\" style=\"width: 250px;\"/>"
   ]
  },
  {
   "cell_type": "markdown",
   "id": "748da493",
   "metadata": {},
   "source": [
    "**Para pensar:** Como extender o seu código para considerar os k Vizinhos Mais Próximos, sendo k um parâmetro a ser escolhido?"
   ]
  },
  {
   "cell_type": "code",
   "execution_count": null,
   "id": "7b69fb1e",
   "metadata": {},
   "outputs": [],
   "source": [
    "# alterar esse código\n",
    "\n",
    "def predicao_knn(d_conhecidos, d_desconhecidos, resposta, k):\n",
    "\n",
    "    distancia = []\n",
    "\n",
    "    for i, elem in d_conhecidos.iterrows():\n",
    "\n",
    "        distancia.append(calcula_distancia(elem.drop(resposta), d_desconhecidos))\n",
    "\n",
    "    d_conhecidos['distancia'] = distancia\n",
    "    \n",
    "    d_conhecidos.sort_values(by = 'distancia', inplace = True)\n",
    "    \n",
    "    previsao = d_conhecidos.head(1)[resposta].iloc[0]\n",
    "    \n",
    "    return previsao"
   ]
  },
  {
   "cell_type": "markdown",
   "id": "a7e4055c",
   "metadata": {},
   "source": [
    "**Para pensar:** Como proceder em casos que a variável resposta é contínua? Alterar vizinho mais próximo para identificar se a variável resposta é contínua ou não e fazer knn classificador ou knn regressor de acordo com isso. Como teste, dado o comprimento de pétala, comprimento de sépala e largura de pétala, encontre a largura da pétala. "
   ]
  },
  {
   "cell_type": "code",
   "execution_count": 126,
   "id": "0424ebd7",
   "metadata": {},
   "outputs": [
    {
     "data": {
      "text/plain": [
       "3.6666666666666665"
      ]
     },
     "execution_count": 126,
     "metadata": {},
     "output_type": "execute_result"
    }
   ],
   "source": [
    "11/3"
   ]
  },
  {
   "cell_type": "markdown",
   "id": "4bad5967",
   "metadata": {},
   "source": [
    "### Usando o sklearn"
   ]
  },
  {
   "cell_type": "code",
   "execution_count": 15,
   "id": "a596566f",
   "metadata": {},
   "outputs": [],
   "source": [
    "conhecidos.drop('distancia', axis = 1, inplace = True)"
   ]
  },
  {
   "cell_type": "code",
   "execution_count": 16,
   "id": "a1c693f0",
   "metadata": {},
   "outputs": [
    {
     "data": {
      "text/html": [
       "<div>\n",
       "<style scoped>\n",
       "    .dataframe tbody tr th:only-of-type {\n",
       "        vertical-align: middle;\n",
       "    }\n",
       "\n",
       "    .dataframe tbody tr th {\n",
       "        vertical-align: top;\n",
       "    }\n",
       "\n",
       "    .dataframe thead th {\n",
       "        text-align: right;\n",
       "    }\n",
       "</style>\n",
       "<table border=\"1\" class=\"dataframe\">\n",
       "  <thead>\n",
       "    <tr style=\"text-align: right;\">\n",
       "      <th></th>\n",
       "      <th>sepal_length</th>\n",
       "      <th>sepal_width</th>\n",
       "      <th>petal_length</th>\n",
       "      <th>petal_width</th>\n",
       "      <th>species</th>\n",
       "    </tr>\n",
       "  </thead>\n",
       "  <tbody>\n",
       "    <tr>\n",
       "      <th>17</th>\n",
       "      <td>5.1</td>\n",
       "      <td>3.5</td>\n",
       "      <td>1.4</td>\n",
       "      <td>0.3</td>\n",
       "      <td>setosa</td>\n",
       "    </tr>\n",
       "    <tr>\n",
       "      <th>4</th>\n",
       "      <td>5.0</td>\n",
       "      <td>3.6</td>\n",
       "      <td>1.4</td>\n",
       "      <td>0.2</td>\n",
       "      <td>setosa</td>\n",
       "    </tr>\n",
       "    <tr>\n",
       "      <th>39</th>\n",
       "      <td>5.1</td>\n",
       "      <td>3.4</td>\n",
       "      <td>1.5</td>\n",
       "      <td>0.2</td>\n",
       "      <td>setosa</td>\n",
       "    </tr>\n",
       "    <tr>\n",
       "      <th>27</th>\n",
       "      <td>5.2</td>\n",
       "      <td>3.5</td>\n",
       "      <td>1.5</td>\n",
       "      <td>0.2</td>\n",
       "      <td>setosa</td>\n",
       "    </tr>\n",
       "    <tr>\n",
       "      <th>28</th>\n",
       "      <td>5.2</td>\n",
       "      <td>3.4</td>\n",
       "      <td>1.4</td>\n",
       "      <td>0.2</td>\n",
       "      <td>setosa</td>\n",
       "    </tr>\n",
       "  </tbody>\n",
       "</table>\n",
       "</div>"
      ],
      "text/plain": [
       "    sepal_length  sepal_width  petal_length  petal_width species\n",
       "17           5.1          3.5           1.4          0.3  setosa\n",
       "4            5.0          3.6           1.4          0.2  setosa\n",
       "39           5.1          3.4           1.5          0.2  setosa\n",
       "27           5.2          3.5           1.5          0.2  setosa\n",
       "28           5.2          3.4           1.4          0.2  setosa"
      ]
     },
     "execution_count": 16,
     "metadata": {},
     "output_type": "execute_result"
    }
   ],
   "source": [
    "conhecidos.head()"
   ]
  },
  {
   "cell_type": "code",
   "execution_count": 17,
   "id": "dbcd1271",
   "metadata": {},
   "outputs": [],
   "source": [
    "var_expl = ['sepal_length', 'sepal_width', 'petal_length', 'petal_width']\n",
    "var_resp = 'species'"
   ]
  },
  {
   "cell_type": "code",
   "execution_count": 18,
   "id": "44f579d3",
   "metadata": {},
   "outputs": [
    {
     "data": {
      "text/plain": [
       "17        setosa\n",
       "4         setosa\n",
       "39        setosa\n",
       "27        setosa\n",
       "28        setosa\n",
       "         ...    \n",
       "131    virginica\n",
       "105    virginica\n",
       "122    virginica\n",
       "117    virginica\n",
       "118    virginica\n",
       "Name: species, Length: 149, dtype: object"
      ]
     },
     "execution_count": 18,
     "metadata": {},
     "output_type": "execute_result"
    }
   ],
   "source": [
    "conhecidos[var_resp]"
   ]
  },
  {
   "cell_type": "code",
   "execution_count": 19,
   "id": "5f19df1f",
   "metadata": {},
   "outputs": [],
   "source": [
    "desconhecidos = pd.DataFrame(desconhecidos).T"
   ]
  },
  {
   "cell_type": "code",
   "execution_count": 29,
   "id": "ff195141",
   "metadata": {},
   "outputs": [
    {
     "data": {
      "text/plain": [
       "['sepal_length', 'sepal_width', 'petal_length', 'petal_width']"
      ]
     },
     "execution_count": 29,
     "metadata": {},
     "output_type": "execute_result"
    }
   ],
   "source": [
    "desconhecidos.columns.values.tolist()"
   ]
  },
  {
   "cell_type": "code",
   "execution_count": 20,
   "id": "533cb4ca",
   "metadata": {},
   "outputs": [
    {
     "data": {
      "text/html": [
       "<div>\n",
       "<style scoped>\n",
       "    .dataframe tbody tr th:only-of-type {\n",
       "        vertical-align: middle;\n",
       "    }\n",
       "\n",
       "    .dataframe tbody tr th {\n",
       "        vertical-align: top;\n",
       "    }\n",
       "\n",
       "    .dataframe thead th {\n",
       "        text-align: right;\n",
       "    }\n",
       "</style>\n",
       "<table border=\"1\" class=\"dataframe\">\n",
       "  <thead>\n",
       "    <tr style=\"text-align: right;\">\n",
       "      <th></th>\n",
       "      <th>sepal_length</th>\n",
       "      <th>sepal_width</th>\n",
       "      <th>petal_length</th>\n",
       "      <th>petal_width</th>\n",
       "    </tr>\n",
       "  </thead>\n",
       "  <tbody>\n",
       "    <tr>\n",
       "      <th>0</th>\n",
       "      <td>5.1</td>\n",
       "      <td>3.5</td>\n",
       "      <td>1.4</td>\n",
       "      <td>0.2</td>\n",
       "    </tr>\n",
       "  </tbody>\n",
       "</table>\n",
       "</div>"
      ],
      "text/plain": [
       "  sepal_length sepal_width petal_length petal_width\n",
       "0          5.1         3.5          1.4         0.2"
      ]
     },
     "execution_count": 20,
     "metadata": {},
     "output_type": "execute_result"
    }
   ],
   "source": [
    "desconhecidos"
   ]
  },
  {
   "cell_type": "code",
   "execution_count": 21,
   "id": "ba049a45",
   "metadata": {},
   "outputs": [],
   "source": [
    "from sklearn.neighbors import KNeighborsClassifier"
   ]
  },
  {
   "cell_type": "code",
   "execution_count": 22,
   "id": "3a500be8",
   "metadata": {},
   "outputs": [],
   "source": [
    "modelo = KNeighborsClassifier(1)"
   ]
  },
  {
   "cell_type": "code",
   "execution_count": 23,
   "id": "9e482a14",
   "metadata": {},
   "outputs": [
    {
     "data": {
      "text/html": [
       "<style>#sk-container-id-1 {color: black;background-color: white;}#sk-container-id-1 pre{padding: 0;}#sk-container-id-1 div.sk-toggleable {background-color: white;}#sk-container-id-1 label.sk-toggleable__label {cursor: pointer;display: block;width: 100%;margin-bottom: 0;padding: 0.3em;box-sizing: border-box;text-align: center;}#sk-container-id-1 label.sk-toggleable__label-arrow:before {content: \"▸\";float: left;margin-right: 0.25em;color: #696969;}#sk-container-id-1 label.sk-toggleable__label-arrow:hover:before {color: black;}#sk-container-id-1 div.sk-estimator:hover label.sk-toggleable__label-arrow:before {color: black;}#sk-container-id-1 div.sk-toggleable__content {max-height: 0;max-width: 0;overflow: hidden;text-align: left;background-color: #f0f8ff;}#sk-container-id-1 div.sk-toggleable__content pre {margin: 0.2em;color: black;border-radius: 0.25em;background-color: #f0f8ff;}#sk-container-id-1 input.sk-toggleable__control:checked~div.sk-toggleable__content {max-height: 200px;max-width: 100%;overflow: auto;}#sk-container-id-1 input.sk-toggleable__control:checked~label.sk-toggleable__label-arrow:before {content: \"▾\";}#sk-container-id-1 div.sk-estimator input.sk-toggleable__control:checked~label.sk-toggleable__label {background-color: #d4ebff;}#sk-container-id-1 div.sk-label input.sk-toggleable__control:checked~label.sk-toggleable__label {background-color: #d4ebff;}#sk-container-id-1 input.sk-hidden--visually {border: 0;clip: rect(1px 1px 1px 1px);clip: rect(1px, 1px, 1px, 1px);height: 1px;margin: -1px;overflow: hidden;padding: 0;position: absolute;width: 1px;}#sk-container-id-1 div.sk-estimator {font-family: monospace;background-color: #f0f8ff;border: 1px dotted black;border-radius: 0.25em;box-sizing: border-box;margin-bottom: 0.5em;}#sk-container-id-1 div.sk-estimator:hover {background-color: #d4ebff;}#sk-container-id-1 div.sk-parallel-item::after {content: \"\";width: 100%;border-bottom: 1px solid gray;flex-grow: 1;}#sk-container-id-1 div.sk-label:hover label.sk-toggleable__label {background-color: #d4ebff;}#sk-container-id-1 div.sk-serial::before {content: \"\";position: absolute;border-left: 1px solid gray;box-sizing: border-box;top: 0;bottom: 0;left: 50%;z-index: 0;}#sk-container-id-1 div.sk-serial {display: flex;flex-direction: column;align-items: center;background-color: white;padding-right: 0.2em;padding-left: 0.2em;position: relative;}#sk-container-id-1 div.sk-item {position: relative;z-index: 1;}#sk-container-id-1 div.sk-parallel {display: flex;align-items: stretch;justify-content: center;background-color: white;position: relative;}#sk-container-id-1 div.sk-item::before, #sk-container-id-1 div.sk-parallel-item::before {content: \"\";position: absolute;border-left: 1px solid gray;box-sizing: border-box;top: 0;bottom: 0;left: 50%;z-index: -1;}#sk-container-id-1 div.sk-parallel-item {display: flex;flex-direction: column;z-index: 1;position: relative;background-color: white;}#sk-container-id-1 div.sk-parallel-item:first-child::after {align-self: flex-end;width: 50%;}#sk-container-id-1 div.sk-parallel-item:last-child::after {align-self: flex-start;width: 50%;}#sk-container-id-1 div.sk-parallel-item:only-child::after {width: 0;}#sk-container-id-1 div.sk-dashed-wrapped {border: 1px dashed gray;margin: 0 0.4em 0.5em 0.4em;box-sizing: border-box;padding-bottom: 0.4em;background-color: white;}#sk-container-id-1 div.sk-label label {font-family: monospace;font-weight: bold;display: inline-block;line-height: 1.2em;}#sk-container-id-1 div.sk-label-container {text-align: center;}#sk-container-id-1 div.sk-container {/* jupyter's `normalize.less` sets `[hidden] { display: none; }` but bootstrap.min.css set `[hidden] { display: none !important; }` so we also need the `!important` here to be able to override the default hidden behavior on the sphinx rendered scikit-learn.org. See: https://github.com/scikit-learn/scikit-learn/issues/21755 */display: inline-block !important;position: relative;}#sk-container-id-1 div.sk-text-repr-fallback {display: none;}</style><div id=\"sk-container-id-1\" class=\"sk-top-container\"><div class=\"sk-text-repr-fallback\"><pre>KNeighborsClassifier(n_neighbors=1)</pre><b>In a Jupyter environment, please rerun this cell to show the HTML representation or trust the notebook. <br />On GitHub, the HTML representation is unable to render, please try loading this page with nbviewer.org.</b></div><div class=\"sk-container\" hidden><div class=\"sk-item\"><div class=\"sk-estimator sk-toggleable\"><input class=\"sk-toggleable__control sk-hidden--visually\" id=\"sk-estimator-id-1\" type=\"checkbox\" checked><label for=\"sk-estimator-id-1\" class=\"sk-toggleable__label sk-toggleable__label-arrow\">KNeighborsClassifier</label><div class=\"sk-toggleable__content\"><pre>KNeighborsClassifier(n_neighbors=1)</pre></div></div></div></div></div>"
      ],
      "text/plain": [
       "KNeighborsClassifier(n_neighbors=1)"
      ]
     },
     "execution_count": 23,
     "metadata": {},
     "output_type": "execute_result"
    }
   ],
   "source": [
    "modelo"
   ]
  },
  {
   "cell_type": "code",
   "execution_count": 24,
   "id": "d2f9e51a",
   "metadata": {},
   "outputs": [
    {
     "data": {
      "text/html": [
       "<style>#sk-container-id-2 {color: black;background-color: white;}#sk-container-id-2 pre{padding: 0;}#sk-container-id-2 div.sk-toggleable {background-color: white;}#sk-container-id-2 label.sk-toggleable__label {cursor: pointer;display: block;width: 100%;margin-bottom: 0;padding: 0.3em;box-sizing: border-box;text-align: center;}#sk-container-id-2 label.sk-toggleable__label-arrow:before {content: \"▸\";float: left;margin-right: 0.25em;color: #696969;}#sk-container-id-2 label.sk-toggleable__label-arrow:hover:before {color: black;}#sk-container-id-2 div.sk-estimator:hover label.sk-toggleable__label-arrow:before {color: black;}#sk-container-id-2 div.sk-toggleable__content {max-height: 0;max-width: 0;overflow: hidden;text-align: left;background-color: #f0f8ff;}#sk-container-id-2 div.sk-toggleable__content pre {margin: 0.2em;color: black;border-radius: 0.25em;background-color: #f0f8ff;}#sk-container-id-2 input.sk-toggleable__control:checked~div.sk-toggleable__content {max-height: 200px;max-width: 100%;overflow: auto;}#sk-container-id-2 input.sk-toggleable__control:checked~label.sk-toggleable__label-arrow:before {content: \"▾\";}#sk-container-id-2 div.sk-estimator input.sk-toggleable__control:checked~label.sk-toggleable__label {background-color: #d4ebff;}#sk-container-id-2 div.sk-label input.sk-toggleable__control:checked~label.sk-toggleable__label {background-color: #d4ebff;}#sk-container-id-2 input.sk-hidden--visually {border: 0;clip: rect(1px 1px 1px 1px);clip: rect(1px, 1px, 1px, 1px);height: 1px;margin: -1px;overflow: hidden;padding: 0;position: absolute;width: 1px;}#sk-container-id-2 div.sk-estimator {font-family: monospace;background-color: #f0f8ff;border: 1px dotted black;border-radius: 0.25em;box-sizing: border-box;margin-bottom: 0.5em;}#sk-container-id-2 div.sk-estimator:hover {background-color: #d4ebff;}#sk-container-id-2 div.sk-parallel-item::after {content: \"\";width: 100%;border-bottom: 1px solid gray;flex-grow: 1;}#sk-container-id-2 div.sk-label:hover label.sk-toggleable__label {background-color: #d4ebff;}#sk-container-id-2 div.sk-serial::before {content: \"\";position: absolute;border-left: 1px solid gray;box-sizing: border-box;top: 0;bottom: 0;left: 50%;z-index: 0;}#sk-container-id-2 div.sk-serial {display: flex;flex-direction: column;align-items: center;background-color: white;padding-right: 0.2em;padding-left: 0.2em;position: relative;}#sk-container-id-2 div.sk-item {position: relative;z-index: 1;}#sk-container-id-2 div.sk-parallel {display: flex;align-items: stretch;justify-content: center;background-color: white;position: relative;}#sk-container-id-2 div.sk-item::before, #sk-container-id-2 div.sk-parallel-item::before {content: \"\";position: absolute;border-left: 1px solid gray;box-sizing: border-box;top: 0;bottom: 0;left: 50%;z-index: -1;}#sk-container-id-2 div.sk-parallel-item {display: flex;flex-direction: column;z-index: 1;position: relative;background-color: white;}#sk-container-id-2 div.sk-parallel-item:first-child::after {align-self: flex-end;width: 50%;}#sk-container-id-2 div.sk-parallel-item:last-child::after {align-self: flex-start;width: 50%;}#sk-container-id-2 div.sk-parallel-item:only-child::after {width: 0;}#sk-container-id-2 div.sk-dashed-wrapped {border: 1px dashed gray;margin: 0 0.4em 0.5em 0.4em;box-sizing: border-box;padding-bottom: 0.4em;background-color: white;}#sk-container-id-2 div.sk-label label {font-family: monospace;font-weight: bold;display: inline-block;line-height: 1.2em;}#sk-container-id-2 div.sk-label-container {text-align: center;}#sk-container-id-2 div.sk-container {/* jupyter's `normalize.less` sets `[hidden] { display: none; }` but bootstrap.min.css set `[hidden] { display: none !important; }` so we also need the `!important` here to be able to override the default hidden behavior on the sphinx rendered scikit-learn.org. See: https://github.com/scikit-learn/scikit-learn/issues/21755 */display: inline-block !important;position: relative;}#sk-container-id-2 div.sk-text-repr-fallback {display: none;}</style><div id=\"sk-container-id-2\" class=\"sk-top-container\"><div class=\"sk-text-repr-fallback\"><pre>KNeighborsClassifier(n_neighbors=1)</pre><b>In a Jupyter environment, please rerun this cell to show the HTML representation or trust the notebook. <br />On GitHub, the HTML representation is unable to render, please try loading this page with nbviewer.org.</b></div><div class=\"sk-container\" hidden><div class=\"sk-item\"><div class=\"sk-estimator sk-toggleable\"><input class=\"sk-toggleable__control sk-hidden--visually\" id=\"sk-estimator-id-2\" type=\"checkbox\" checked><label for=\"sk-estimator-id-2\" class=\"sk-toggleable__label sk-toggleable__label-arrow\">KNeighborsClassifier</label><div class=\"sk-toggleable__content\"><pre>KNeighborsClassifier(n_neighbors=1)</pre></div></div></div></div></div>"
      ],
      "text/plain": [
       "KNeighborsClassifier(n_neighbors=1)"
      ]
     },
     "execution_count": 24,
     "metadata": {},
     "output_type": "execute_result"
    }
   ],
   "source": [
    "modelo.fit(conhecidos[var_expl], conhecidos[var_resp])"
   ]
  },
  {
   "cell_type": "code",
   "execution_count": 30,
   "id": "423b86ae",
   "metadata": {},
   "outputs": [
    {
     "data": {
      "text/plain": [
       "'setosa'"
      ]
     },
     "execution_count": 30,
     "metadata": {},
     "output_type": "execute_result"
    }
   ],
   "source": [
    "modelo.predict(desconhecidos)[0]"
   ]
  },
  {
   "cell_type": "code",
   "execution_count": 26,
   "id": "9b9d27ac",
   "metadata": {},
   "outputs": [
    {
     "data": {
      "text/html": [
       "<div>\n",
       "<style scoped>\n",
       "    .dataframe tbody tr th:only-of-type {\n",
       "        vertical-align: middle;\n",
       "    }\n",
       "\n",
       "    .dataframe tbody tr th {\n",
       "        vertical-align: top;\n",
       "    }\n",
       "\n",
       "    .dataframe thead th {\n",
       "        text-align: right;\n",
       "    }\n",
       "</style>\n",
       "<table border=\"1\" class=\"dataframe\">\n",
       "  <thead>\n",
       "    <tr style=\"text-align: right;\">\n",
       "      <th></th>\n",
       "      <th>sepal_length</th>\n",
       "      <th>sepal_width</th>\n",
       "      <th>petal_length</th>\n",
       "      <th>petal_width</th>\n",
       "    </tr>\n",
       "  </thead>\n",
       "  <tbody>\n",
       "    <tr>\n",
       "      <th>0</th>\n",
       "      <td>5.1</td>\n",
       "      <td>3.5</td>\n",
       "      <td>1.4</td>\n",
       "      <td>0.2</td>\n",
       "    </tr>\n",
       "  </tbody>\n",
       "</table>\n",
       "</div>"
      ],
      "text/plain": [
       "  sepal_length sepal_width petal_length petal_width\n",
       "0          5.1         3.5          1.4         0.2"
      ]
     },
     "execution_count": 26,
     "metadata": {},
     "output_type": "execute_result"
    }
   ],
   "source": [
    "desconhecidos"
   ]
  },
  {
   "cell_type": "markdown",
   "id": "f0adc767",
   "metadata": {},
   "source": [
    "**Para pensar:** Como escolher o melhor k?"
   ]
  },
  {
   "cell_type": "code",
   "execution_count": 27,
   "id": "7b29756b",
   "metadata": {},
   "outputs": [],
   "source": [
    "from sklearn.metrics import accuracy_score"
   ]
  },
  {
   "cell_type": "code",
   "execution_count": 28,
   "id": "066fb22a",
   "metadata": {},
   "outputs": [
    {
     "data": {
      "text/plain": [
       "1.0"
      ]
     },
     "execution_count": 28,
     "metadata": {},
     "output_type": "execute_result"
    }
   ],
   "source": [
    "modelo = KNeighborsClassifier(1)\n",
    "modelo.fit(conhecidos[var_expl], conhecidos[var_resp])\n",
    "y_pred = modelo.predict(conhecidos[var_expl])\n",
    "accuracy_score(conhecidos[var_resp], y_pred)"
   ]
  },
  {
   "cell_type": "code",
   "execution_count": 173,
   "id": "33a2a9d5",
   "metadata": {},
   "outputs": [
    {
     "data": {
      "text/plain": [
       "0.9664429530201343"
      ]
     },
     "execution_count": 173,
     "metadata": {},
     "output_type": "execute_result"
    }
   ],
   "source": [
    "modelo = KNeighborsClassifier(5)\n",
    "modelo.fit(conhecidos[var_expl], conhecidos[var_resp])\n",
    "y_pred = modelo.predict(conhecidos[var_expl])\n",
    "accuracy_score(conhecidos[var_resp], y_pred)"
   ]
  },
  {
   "cell_type": "code",
   "execution_count": 174,
   "id": "0e5a672b",
   "metadata": {},
   "outputs": [
    {
     "data": {
      "text/plain": [
       "0.9798657718120806"
      ]
     },
     "execution_count": 174,
     "metadata": {},
     "output_type": "execute_result"
    }
   ],
   "source": [
    "modelo = KNeighborsClassifier(10)\n",
    "modelo.fit(conhecidos[var_expl], conhecidos[var_resp])\n",
    "y_pred = modelo.predict(conhecidos[var_expl])\n",
    "accuracy_score(conhecidos[var_resp], y_pred)"
   ]
  },
  {
   "cell_type": "code",
   "execution_count": 175,
   "id": "9f1a80a4",
   "metadata": {},
   "outputs": [
    {
     "data": {
      "text/plain": [
       "0.9395973154362416"
      ]
     },
     "execution_count": 175,
     "metadata": {},
     "output_type": "execute_result"
    }
   ],
   "source": [
    "modelo = KNeighborsClassifier(50)\n",
    "modelo.fit(conhecidos[var_expl], conhecidos[var_resp])\n",
    "y_pred = modelo.predict(conhecidos[var_expl])\n",
    "accuracy_score(conhecidos[var_resp], y_pred)"
   ]
  },
  {
   "cell_type": "markdown",
   "id": "8178a3b1",
   "metadata": {},
   "source": [
    "## Metodologias de Avaliação\n",
    "\n",
    "Para observar ocorrência de *overfit* e calcular métricas mais confiáveis, podemos utilizar diversos tipos de metodologias, as quais partem do princípio de definir subconjuntos de **treinamento e teste**, separados de forma disjunta. Os dados de treinamento são empregados no ajuste do modelo, enquanto que os exemplos de teste simulam a apresentação de objetos novos, os quais não foram vistos durante o aprendizado.\n",
    "\n",
    "### Hold Out\n",
    "\n",
    "Nessa metodologia, o conjunto de dados é dividido em apenas duas partes: treinamento e teste. O primeiro serve para o ajuste do modelo, enquanto o segundo será usado em sua avaliação.\n",
    "\n",
    "<center><img src=\"https://s3-sa-east-1.amazonaws.com/lcpi/4fa6e987-2508-400d-a751-a9c29279923d.png\" alt=\"Drawing\" style=\"height: 250px;\"/></center>"
   ]
  },
  {
   "cell_type": "code",
   "execution_count": 176,
   "id": "ae55710c",
   "metadata": {},
   "outputs": [],
   "source": [
    "from sklearn.model_selection import train_test_split"
   ]
  },
  {
   "cell_type": "code",
   "execution_count": 178,
   "id": "ee1ed17c",
   "metadata": {},
   "outputs": [
    {
     "data": {
      "text/html": [
       "<div>\n",
       "<style scoped>\n",
       "    .dataframe tbody tr th:only-of-type {\n",
       "        vertical-align: middle;\n",
       "    }\n",
       "\n",
       "    .dataframe tbody tr th {\n",
       "        vertical-align: top;\n",
       "    }\n",
       "\n",
       "    .dataframe thead th {\n",
       "        text-align: right;\n",
       "    }\n",
       "</style>\n",
       "<table border=\"1\" class=\"dataframe\">\n",
       "  <thead>\n",
       "    <tr style=\"text-align: right;\">\n",
       "      <th></th>\n",
       "      <th>sepal_length</th>\n",
       "      <th>sepal_width</th>\n",
       "      <th>petal_length</th>\n",
       "      <th>petal_width</th>\n",
       "      <th>species</th>\n",
       "    </tr>\n",
       "  </thead>\n",
       "  <tbody>\n",
       "    <tr>\n",
       "      <th>0</th>\n",
       "      <td>5.1</td>\n",
       "      <td>3.5</td>\n",
       "      <td>1.4</td>\n",
       "      <td>0.2</td>\n",
       "      <td>setosa</td>\n",
       "    </tr>\n",
       "    <tr>\n",
       "      <th>1</th>\n",
       "      <td>4.9</td>\n",
       "      <td>3.0</td>\n",
       "      <td>1.4</td>\n",
       "      <td>0.2</td>\n",
       "      <td>setosa</td>\n",
       "    </tr>\n",
       "    <tr>\n",
       "      <th>2</th>\n",
       "      <td>4.7</td>\n",
       "      <td>3.2</td>\n",
       "      <td>1.3</td>\n",
       "      <td>0.2</td>\n",
       "      <td>setosa</td>\n",
       "    </tr>\n",
       "    <tr>\n",
       "      <th>3</th>\n",
       "      <td>4.6</td>\n",
       "      <td>3.1</td>\n",
       "      <td>1.5</td>\n",
       "      <td>0.2</td>\n",
       "      <td>setosa</td>\n",
       "    </tr>\n",
       "    <tr>\n",
       "      <th>4</th>\n",
       "      <td>5.0</td>\n",
       "      <td>3.6</td>\n",
       "      <td>1.4</td>\n",
       "      <td>0.2</td>\n",
       "      <td>setosa</td>\n",
       "    </tr>\n",
       "  </tbody>\n",
       "</table>\n",
       "</div>"
      ],
      "text/plain": [
       "   sepal_length  sepal_width  petal_length  petal_width species\n",
       "0           5.1          3.5           1.4          0.2  setosa\n",
       "1           4.9          3.0           1.4          0.2  setosa\n",
       "2           4.7          3.2           1.3          0.2  setosa\n",
       "3           4.6          3.1           1.5          0.2  setosa\n",
       "4           5.0          3.6           1.4          0.2  setosa"
      ]
     },
     "execution_count": 178,
     "metadata": {},
     "output_type": "execute_result"
    }
   ],
   "source": [
    "df = pd.read_csv('dados/iris.csv')\n",
    "df.head()"
   ]
  },
  {
   "cell_type": "code",
   "execution_count": 216,
   "id": "69e194e5",
   "metadata": {},
   "outputs": [
    {
     "data": {
      "text/plain": [
       "0.9"
      ]
     },
     "execution_count": 216,
     "metadata": {},
     "output_type": "execute_result"
    }
   ],
   "source": [
    "df_treino, df_teste = train_test_split(df, test_size = 0.2, random_state = 5)\n",
    "\n",
    "var_expl = ['sepal_length', 'sepal_width', 'petal_length', 'petal_width']\n",
    "var_resp = 'species'\n",
    "\n",
    "x_treino = df_treino[var_expl]\n",
    "x_teste = df_teste[var_expl]\n",
    "\n",
    "y_treino = df_treino[var_resp]\n",
    "y_teste = df_teste[var_resp]\n",
    "\n",
    "modelo = KNeighborsClassifier(1)\n",
    "modelo.fit(x_treino, y_treino)\n",
    "\n",
    "y_teste_pred = modelo.predict(x_teste)\n",
    "accuracy_score(y_teste, y_teste_pred)"
   ]
  },
  {
   "cell_type": "code",
   "execution_count": 218,
   "id": "fe37969c",
   "metadata": {},
   "outputs": [
    {
     "data": {
      "text/plain": [
       "0.9333333333333333"
      ]
     },
     "execution_count": 218,
     "metadata": {},
     "output_type": "execute_result"
    }
   ],
   "source": [
    "df_treino, df_teste = train_test_split(df, test_size = 0.2, random_state = 5)\n",
    "\n",
    "var_expl = ['sepal_length', 'sepal_width', 'petal_length', 'petal_width']\n",
    "var_resp = 'species'\n",
    "\n",
    "x_treino = df_treino[var_expl]\n",
    "x_teste = df_teste[var_expl]\n",
    "\n",
    "y_treino = df_treino[var_resp]\n",
    "y_teste = df_teste[var_resp]\n",
    "\n",
    "modelo = KNeighborsClassifier(5)\n",
    "modelo.fit(x_treino, y_treino)\n",
    "\n",
    "y_teste_pred = modelo.predict(x_teste)\n",
    "accuracy_score(y_teste, y_teste_pred)"
   ]
  },
  {
   "cell_type": "markdown",
   "id": "04f75b56",
   "metadata": {},
   "source": [
    "### Amostras\n",
    "\n",
    "Nessa metodologia, o conjunto de dados também é dividido em duas partes, porém dessa vez esse processo de divisão é realizado N vezes, gerando N modelos, cada um com sua medida de avaliação obitdo em cima do conjunto de testes. Para obter uma medida única, são calculadas a média e o desvio padrão do desempenho avaliado. As amostras podem ser realizadas tanto com reposição quanto sem reposição.\n",
    "\n",
    "<center><img src=\"https://s3-sa-east-1.amazonaws.com/lcpi/c82578f4-1372-4c18-8d3a-62be46829805.png\" alt=\"Drawing\" style=\"height: 250px;;\"/></center>"
   ]
  },
  {
   "cell_type": "code",
   "execution_count": 221,
   "id": "9a5b4968",
   "metadata": {},
   "outputs": [
    {
     "data": {
      "text/plain": [
       "0.9578333333333299"
      ]
     },
     "execution_count": 221,
     "metadata": {},
     "output_type": "execute_result"
    }
   ],
   "source": [
    "k = 1\n",
    "\n",
    "metricas = []\n",
    "\n",
    "for i in range(1000):\n",
    "\n",
    "    df_treino, df_teste = train_test_split(df, test_size = 0.2, random_state = i)\n",
    "\n",
    "    var_expl = ['sepal_length', 'sepal_width', 'petal_length', 'petal_width']\n",
    "    var_resp = 'species'\n",
    "\n",
    "    x_treino = df_treino[var_expl]\n",
    "    x_teste = df_teste[var_expl]\n",
    "\n",
    "    y_treino = df_treino[var_resp]\n",
    "    y_teste = df_teste[var_resp]\n",
    "\n",
    "    modelo = KNeighborsClassifier(k)\n",
    "    modelo.fit(x_treino, y_treino)\n",
    "\n",
    "    y_teste_pred = modelo.predict(x_teste)\n",
    "    metricas.append(accuracy_score(y_teste, y_teste_pred))\n",
    "    \n",
    "sum(metricas)/len(metricas)"
   ]
  },
  {
   "cell_type": "code",
   "execution_count": 222,
   "id": "f77026d3",
   "metadata": {},
   "outputs": [
    {
     "data": {
      "text/plain": [
       "0.9630666666666646"
      ]
     },
     "execution_count": 222,
     "metadata": {},
     "output_type": "execute_result"
    }
   ],
   "source": [
    "k = 5\n",
    "\n",
    "metricas = []\n",
    "\n",
    "for i in range(1000):\n",
    "\n",
    "    df_treino, df_teste = train_test_split(df, test_size = 0.2, random_state = i)\n",
    "\n",
    "    var_expl = ['sepal_length', 'sepal_width', 'petal_length', 'petal_width']\n",
    "    var_resp = 'species'\n",
    "\n",
    "    x_treino = df_treino[var_expl]\n",
    "    x_teste = df_teste[var_expl]\n",
    "\n",
    "    y_treino = df_treino[var_resp]\n",
    "    y_teste = df_teste[var_resp]\n",
    "\n",
    "    modelo = KNeighborsClassifier(k)\n",
    "    modelo.fit(x_treino, y_treino)\n",
    "\n",
    "    y_teste_pred = modelo.predict(x_teste)\n",
    "    metricas.append(accuracy_score(y_teste, y_teste_pred))\n",
    "    \n",
    "sum(metricas)/len(metricas)"
   ]
  },
  {
   "cell_type": "markdown",
   "id": "f313bded",
   "metadata": {},
   "source": [
    "### K-Fold\n",
    "\n",
    "Nessa metodologia, o conjunto de dados é dividido em K partições, gerando N modelos. Cada modelo será treinado com um conjunto de K-1 partições, tomando a partição restante como teste, na qual serão calculadas as medidas de desempenho. Aqui, cada partição será considerada como teste 1 vez, e como treino k-1 vezes. Da mesma que nas Amostras, aqui são calculadas a édia e o desvio padrão.\n",
    "\n",
    "<center><img src=\"https://s3-sa-east-1.amazonaws.com/lcpi/411b2d93-23ea-4cbb-a0d1-a5aafb64fd5b.png\" style=\"height: 250px;;\"/></center>"
   ]
  },
  {
   "cell_type": "code",
   "execution_count": 224,
   "id": "902e560d",
   "metadata": {},
   "outputs": [],
   "source": [
    "from sklearn.model_selection import KFold"
   ]
  },
  {
   "cell_type": "code",
   "execution_count": 250,
   "id": "8b8a28b7",
   "metadata": {},
   "outputs": [
    {
     "data": {
      "text/html": [
       "<div>\n",
       "<style scoped>\n",
       "    .dataframe tbody tr th:only-of-type {\n",
       "        vertical-align: middle;\n",
       "    }\n",
       "\n",
       "    .dataframe tbody tr th {\n",
       "        vertical-align: top;\n",
       "    }\n",
       "\n",
       "    .dataframe thead th {\n",
       "        text-align: right;\n",
       "    }\n",
       "</style>\n",
       "<table border=\"1\" class=\"dataframe\">\n",
       "  <thead>\n",
       "    <tr style=\"text-align: right;\">\n",
       "      <th></th>\n",
       "      <th>sepal_length</th>\n",
       "      <th>sepal_width</th>\n",
       "      <th>petal_length</th>\n",
       "      <th>petal_width</th>\n",
       "      <th>species</th>\n",
       "    </tr>\n",
       "  </thead>\n",
       "  <tbody>\n",
       "    <tr>\n",
       "      <th>0</th>\n",
       "      <td>5.1</td>\n",
       "      <td>3.5</td>\n",
       "      <td>1.4</td>\n",
       "      <td>0.2</td>\n",
       "      <td>setosa</td>\n",
       "    </tr>\n",
       "    <tr>\n",
       "      <th>1</th>\n",
       "      <td>4.9</td>\n",
       "      <td>3.0</td>\n",
       "      <td>1.4</td>\n",
       "      <td>0.2</td>\n",
       "      <td>setosa</td>\n",
       "    </tr>\n",
       "    <tr>\n",
       "      <th>2</th>\n",
       "      <td>4.7</td>\n",
       "      <td>3.2</td>\n",
       "      <td>1.3</td>\n",
       "      <td>0.2</td>\n",
       "      <td>setosa</td>\n",
       "    </tr>\n",
       "    <tr>\n",
       "      <th>3</th>\n",
       "      <td>4.6</td>\n",
       "      <td>3.1</td>\n",
       "      <td>1.5</td>\n",
       "      <td>0.2</td>\n",
       "      <td>setosa</td>\n",
       "    </tr>\n",
       "    <tr>\n",
       "      <th>4</th>\n",
       "      <td>5.0</td>\n",
       "      <td>3.6</td>\n",
       "      <td>1.4</td>\n",
       "      <td>0.2</td>\n",
       "      <td>setosa</td>\n",
       "    </tr>\n",
       "    <tr>\n",
       "      <th>...</th>\n",
       "      <td>...</td>\n",
       "      <td>...</td>\n",
       "      <td>...</td>\n",
       "      <td>...</td>\n",
       "      <td>...</td>\n",
       "    </tr>\n",
       "    <tr>\n",
       "      <th>145</th>\n",
       "      <td>6.7</td>\n",
       "      <td>3.0</td>\n",
       "      <td>5.2</td>\n",
       "      <td>2.3</td>\n",
       "      <td>virginica</td>\n",
       "    </tr>\n",
       "    <tr>\n",
       "      <th>146</th>\n",
       "      <td>6.3</td>\n",
       "      <td>2.5</td>\n",
       "      <td>5.0</td>\n",
       "      <td>1.9</td>\n",
       "      <td>virginica</td>\n",
       "    </tr>\n",
       "    <tr>\n",
       "      <th>147</th>\n",
       "      <td>6.5</td>\n",
       "      <td>3.0</td>\n",
       "      <td>5.2</td>\n",
       "      <td>2.0</td>\n",
       "      <td>virginica</td>\n",
       "    </tr>\n",
       "    <tr>\n",
       "      <th>148</th>\n",
       "      <td>6.2</td>\n",
       "      <td>3.4</td>\n",
       "      <td>5.4</td>\n",
       "      <td>2.3</td>\n",
       "      <td>virginica</td>\n",
       "    </tr>\n",
       "    <tr>\n",
       "      <th>149</th>\n",
       "      <td>5.9</td>\n",
       "      <td>3.0</td>\n",
       "      <td>5.1</td>\n",
       "      <td>1.8</td>\n",
       "      <td>virginica</td>\n",
       "    </tr>\n",
       "  </tbody>\n",
       "</table>\n",
       "<p>150 rows × 5 columns</p>\n",
       "</div>"
      ],
      "text/plain": [
       "     sepal_length  sepal_width  petal_length  petal_width    species\n",
       "0             5.1          3.5           1.4          0.2     setosa\n",
       "1             4.9          3.0           1.4          0.2     setosa\n",
       "2             4.7          3.2           1.3          0.2     setosa\n",
       "3             4.6          3.1           1.5          0.2     setosa\n",
       "4             5.0          3.6           1.4          0.2     setosa\n",
       "..            ...          ...           ...          ...        ...\n",
       "145           6.7          3.0           5.2          2.3  virginica\n",
       "146           6.3          2.5           5.0          1.9  virginica\n",
       "147           6.5          3.0           5.2          2.0  virginica\n",
       "148           6.2          3.4           5.4          2.3  virginica\n",
       "149           5.9          3.0           5.1          1.8  virginica\n",
       "\n",
       "[150 rows x 5 columns]"
      ]
     },
     "execution_count": 250,
     "metadata": {},
     "output_type": "execute_result"
    }
   ],
   "source": [
    "df"
   ]
  },
  {
   "cell_type": "code",
   "execution_count": 255,
   "id": "7096bcc9",
   "metadata": {},
   "outputs": [
    {
     "data": {
      "text/plain": [
       "0.9666666666666667"
      ]
     },
     "execution_count": 255,
     "metadata": {},
     "output_type": "execute_result"
    }
   ],
   "source": [
    "metricas = []\n",
    "\n",
    "kf = KFold(n_splits = 150, shuffle = True, random_state = 1)\n",
    "\n",
    "for i_treino, i_teste in kf.split(df):\n",
    "\n",
    "    df_treino = df.iloc[i_treino]\n",
    "    df_teste = df.iloc[i_teste]\n",
    "\n",
    "    var_expl = ['sepal_length', 'sepal_width', 'petal_length', 'petal_width']\n",
    "    var_resp = 'species'\n",
    "\n",
    "    x_treino = df_treino[var_expl]\n",
    "    x_teste = df_teste[var_expl]\n",
    "\n",
    "    y_treino = df_treino[var_resp]\n",
    "    y_teste = df_teste[var_resp]\n",
    "\n",
    "    modelo = KNeighborsClassifier(k)\n",
    "    modelo.fit(x_treino, y_treino)\n",
    "\n",
    "    y_teste_pred = modelo.predict(x_teste)\n",
    "    metricas.append(accuracy_score(y_teste, y_teste_pred))\n",
    "\n",
    "sum(metricas)/len(metricas)"
   ]
  },
  {
   "cell_type": "markdown",
   "id": "cf7139c4",
   "metadata": {},
   "source": [
    "Temos um nome específico quando $k = \\text{n_amostras}$: Leave One Out"
   ]
  },
  {
   "cell_type": "markdown",
   "id": "1a42ede4",
   "metadata": {},
   "source": [
    "## Voltando para o KNN"
   ]
  },
  {
   "cell_type": "markdown",
   "id": "3477636b",
   "metadata": {},
   "source": [
    "**Para pensar:** Como escolher o melhor k?"
   ]
  },
  {
   "cell_type": "code",
   "execution_count": null,
   "id": "b05aec16",
   "metadata": {},
   "outputs": [],
   "source": [
    "Metodologia:\n",
    "    Variar a quantidade de vizinhos\n",
    "    Testando cada k com 150 folds"
   ]
  },
  {
   "cell_type": "code",
   "execution_count": 268,
   "id": "b0b8c7d7",
   "metadata": {},
   "outputs": [
    {
     "data": {
      "text/html": [
       "<div>\n",
       "<style scoped>\n",
       "    .dataframe tbody tr th:only-of-type {\n",
       "        vertical-align: middle;\n",
       "    }\n",
       "\n",
       "    .dataframe tbody tr th {\n",
       "        vertical-align: top;\n",
       "    }\n",
       "\n",
       "    .dataframe thead th {\n",
       "        text-align: right;\n",
       "    }\n",
       "</style>\n",
       "<table border=\"1\" class=\"dataframe\">\n",
       "  <thead>\n",
       "    <tr style=\"text-align: right;\">\n",
       "      <th></th>\n",
       "      <th>sepal_length</th>\n",
       "      <th>sepal_width</th>\n",
       "      <th>petal_length</th>\n",
       "      <th>petal_width</th>\n",
       "      <th>species</th>\n",
       "    </tr>\n",
       "  </thead>\n",
       "  <tbody>\n",
       "    <tr>\n",
       "      <th>0</th>\n",
       "      <td>5.1</td>\n",
       "      <td>3.5</td>\n",
       "      <td>1.4</td>\n",
       "      <td>0.2</td>\n",
       "      <td>setosa</td>\n",
       "    </tr>\n",
       "    <tr>\n",
       "      <th>1</th>\n",
       "      <td>4.9</td>\n",
       "      <td>3.0</td>\n",
       "      <td>1.4</td>\n",
       "      <td>0.2</td>\n",
       "      <td>setosa</td>\n",
       "    </tr>\n",
       "    <tr>\n",
       "      <th>2</th>\n",
       "      <td>4.7</td>\n",
       "      <td>3.2</td>\n",
       "      <td>1.3</td>\n",
       "      <td>0.2</td>\n",
       "      <td>setosa</td>\n",
       "    </tr>\n",
       "    <tr>\n",
       "      <th>3</th>\n",
       "      <td>4.6</td>\n",
       "      <td>3.1</td>\n",
       "      <td>1.5</td>\n",
       "      <td>0.2</td>\n",
       "      <td>setosa</td>\n",
       "    </tr>\n",
       "    <tr>\n",
       "      <th>4</th>\n",
       "      <td>5.0</td>\n",
       "      <td>3.6</td>\n",
       "      <td>1.4</td>\n",
       "      <td>0.2</td>\n",
       "      <td>setosa</td>\n",
       "    </tr>\n",
       "  </tbody>\n",
       "</table>\n",
       "</div>"
      ],
      "text/plain": [
       "   sepal_length  sepal_width  petal_length  petal_width species\n",
       "0           5.1          3.5           1.4          0.2  setosa\n",
       "1           4.9          3.0           1.4          0.2  setosa\n",
       "2           4.7          3.2           1.3          0.2  setosa\n",
       "3           4.6          3.1           1.5          0.2  setosa\n",
       "4           5.0          3.6           1.4          0.2  setosa"
      ]
     },
     "execution_count": 268,
     "metadata": {},
     "output_type": "execute_result"
    }
   ],
   "source": [
    "df = pd.read_csv('dados/iris.csv')\n",
    "df.head()"
   ]
  },
  {
   "cell_type": "code",
   "execution_count": 269,
   "id": "742824aa",
   "metadata": {},
   "outputs": [
    {
     "name": "stdout",
     "output_type": "stream",
     "text": [
      "1 2 3 4 5 6 7 8 9 10 11 12 13 14 15 16 17 18 19 20 21 22 23 24 25 26 27 28 29 30 31 32 33 34 35 36 37 38 39 40 41 42 43 44 45 46 47 48 49 50 "
     ]
    }
   ],
   "source": [
    "metricas = {}\n",
    "\n",
    "k_possiveis = [i for i in range(1, 51)]\n",
    "\n",
    "for k in k_possiveis:\n",
    "    \n",
    "    print(k, end = ' ')\n",
    "\n",
    "    kf = KFold(n_splits = 150, shuffle = True, random_state = 1)\n",
    "\n",
    "    metricas_temp = []\n",
    "    \n",
    "    for i_treino, i_teste in kf.split(df):\n",
    "\n",
    "        df_treino = df.iloc[i_treino]\n",
    "        df_teste = df.iloc[i_teste]\n",
    "\n",
    "        var_expl = ['sepal_length', 'sepal_width', 'petal_length', 'petal_width']\n",
    "        var_resp = 'species'\n",
    "\n",
    "        x_treino = df_treino[var_expl]\n",
    "        x_teste = df_teste[var_expl]\n",
    "\n",
    "        y_treino = df_treino[var_resp]\n",
    "        y_teste = df_teste[var_resp]\n",
    "\n",
    "        modelo = KNeighborsClassifier(k)\n",
    "        modelo.fit(x_treino, y_treino)\n",
    "\n",
    "        y_teste_pred = modelo.predict(x_teste)\n",
    "        metricas_temp.append(accuracy_score(y_teste, y_teste_pred))\n",
    "\n",
    "    metricas[k] = sum(metricas_temp)/len(metricas_temp)"
   ]
  },
  {
   "cell_type": "code",
   "execution_count": 272,
   "id": "42fa0c15",
   "metadata": {},
   "outputs": [
    {
     "data": {
      "text/html": [
       "<div>\n",
       "<style scoped>\n",
       "    .dataframe tbody tr th:only-of-type {\n",
       "        vertical-align: middle;\n",
       "    }\n",
       "\n",
       "    .dataframe tbody tr th {\n",
       "        vertical-align: top;\n",
       "    }\n",
       "\n",
       "    .dataframe thead th {\n",
       "        text-align: right;\n",
       "    }\n",
       "</style>\n",
       "<table border=\"1\" class=\"dataframe\">\n",
       "  <thead>\n",
       "    <tr style=\"text-align: right;\">\n",
       "      <th></th>\n",
       "      <th>k</th>\n",
       "      <th>acuracia</th>\n",
       "    </tr>\n",
       "  </thead>\n",
       "  <tbody>\n",
       "    <tr>\n",
       "      <th>20</th>\n",
       "      <td>21</td>\n",
       "      <td>0.980000</td>\n",
       "    </tr>\n",
       "    <tr>\n",
       "      <th>19</th>\n",
       "      <td>20</td>\n",
       "      <td>0.980000</td>\n",
       "    </tr>\n",
       "    <tr>\n",
       "      <th>18</th>\n",
       "      <td>19</td>\n",
       "      <td>0.980000</td>\n",
       "    </tr>\n",
       "    <tr>\n",
       "      <th>9</th>\n",
       "      <td>10</td>\n",
       "      <td>0.973333</td>\n",
       "    </tr>\n",
       "    <tr>\n",
       "      <th>17</th>\n",
       "      <td>18</td>\n",
       "      <td>0.973333</td>\n",
       "    </tr>\n",
       "    <tr>\n",
       "      <th>16</th>\n",
       "      <td>17</td>\n",
       "      <td>0.973333</td>\n",
       "    </tr>\n",
       "    <tr>\n",
       "      <th>14</th>\n",
       "      <td>15</td>\n",
       "      <td>0.973333</td>\n",
       "    </tr>\n",
       "    <tr>\n",
       "      <th>13</th>\n",
       "      <td>14</td>\n",
       "      <td>0.973333</td>\n",
       "    </tr>\n",
       "    <tr>\n",
       "      <th>10</th>\n",
       "      <td>11</td>\n",
       "      <td>0.973333</td>\n",
       "    </tr>\n",
       "    <tr>\n",
       "      <th>8</th>\n",
       "      <td>9</td>\n",
       "      <td>0.966667</td>\n",
       "    </tr>\n",
       "    <tr>\n",
       "      <th>21</th>\n",
       "      <td>22</td>\n",
       "      <td>0.966667</td>\n",
       "    </tr>\n",
       "    <tr>\n",
       "      <th>22</th>\n",
       "      <td>23</td>\n",
       "      <td>0.966667</td>\n",
       "    </tr>\n",
       "    <tr>\n",
       "      <th>12</th>\n",
       "      <td>13</td>\n",
       "      <td>0.966667</td>\n",
       "    </tr>\n",
       "    <tr>\n",
       "      <th>7</th>\n",
       "      <td>8</td>\n",
       "      <td>0.966667</td>\n",
       "    </tr>\n",
       "    <tr>\n",
       "      <th>6</th>\n",
       "      <td>7</td>\n",
       "      <td>0.966667</td>\n",
       "    </tr>\n",
       "    <tr>\n",
       "      <th>15</th>\n",
       "      <td>16</td>\n",
       "      <td>0.966667</td>\n",
       "    </tr>\n",
       "    <tr>\n",
       "      <th>23</th>\n",
       "      <td>24</td>\n",
       "      <td>0.966667</td>\n",
       "    </tr>\n",
       "    <tr>\n",
       "      <th>4</th>\n",
       "      <td>5</td>\n",
       "      <td>0.966667</td>\n",
       "    </tr>\n",
       "    <tr>\n",
       "      <th>24</th>\n",
       "      <td>25</td>\n",
       "      <td>0.966667</td>\n",
       "    </tr>\n",
       "    <tr>\n",
       "      <th>26</th>\n",
       "      <td>27</td>\n",
       "      <td>0.966667</td>\n",
       "    </tr>\n",
       "    <tr>\n",
       "      <th>0</th>\n",
       "      <td>1</td>\n",
       "      <td>0.960000</td>\n",
       "    </tr>\n",
       "    <tr>\n",
       "      <th>25</th>\n",
       "      <td>26</td>\n",
       "      <td>0.960000</td>\n",
       "    </tr>\n",
       "    <tr>\n",
       "      <th>11</th>\n",
       "      <td>12</td>\n",
       "      <td>0.960000</td>\n",
       "    </tr>\n",
       "    <tr>\n",
       "      <th>3</th>\n",
       "      <td>4</td>\n",
       "      <td>0.960000</td>\n",
       "    </tr>\n",
       "    <tr>\n",
       "      <th>2</th>\n",
       "      <td>3</td>\n",
       "      <td>0.960000</td>\n",
       "    </tr>\n",
       "    <tr>\n",
       "      <th>5</th>\n",
       "      <td>6</td>\n",
       "      <td>0.960000</td>\n",
       "    </tr>\n",
       "    <tr>\n",
       "      <th>28</th>\n",
       "      <td>29</td>\n",
       "      <td>0.953333</td>\n",
       "    </tr>\n",
       "    <tr>\n",
       "      <th>31</th>\n",
       "      <td>32</td>\n",
       "      <td>0.953333</td>\n",
       "    </tr>\n",
       "    <tr>\n",
       "      <th>32</th>\n",
       "      <td>33</td>\n",
       "      <td>0.953333</td>\n",
       "    </tr>\n",
       "    <tr>\n",
       "      <th>33</th>\n",
       "      <td>34</td>\n",
       "      <td>0.953333</td>\n",
       "    </tr>\n",
       "    <tr>\n",
       "      <th>34</th>\n",
       "      <td>35</td>\n",
       "      <td>0.953333</td>\n",
       "    </tr>\n",
       "    <tr>\n",
       "      <th>38</th>\n",
       "      <td>39</td>\n",
       "      <td>0.953333</td>\n",
       "    </tr>\n",
       "    <tr>\n",
       "      <th>37</th>\n",
       "      <td>38</td>\n",
       "      <td>0.946667</td>\n",
       "    </tr>\n",
       "    <tr>\n",
       "      <th>46</th>\n",
       "      <td>47</td>\n",
       "      <td>0.946667</td>\n",
       "    </tr>\n",
       "    <tr>\n",
       "      <th>44</th>\n",
       "      <td>45</td>\n",
       "      <td>0.946667</td>\n",
       "    </tr>\n",
       "    <tr>\n",
       "      <th>43</th>\n",
       "      <td>44</td>\n",
       "      <td>0.946667</td>\n",
       "    </tr>\n",
       "    <tr>\n",
       "      <th>40</th>\n",
       "      <td>41</td>\n",
       "      <td>0.946667</td>\n",
       "    </tr>\n",
       "    <tr>\n",
       "      <th>36</th>\n",
       "      <td>37</td>\n",
       "      <td>0.946667</td>\n",
       "    </tr>\n",
       "    <tr>\n",
       "      <th>35</th>\n",
       "      <td>36</td>\n",
       "      <td>0.946667</td>\n",
       "    </tr>\n",
       "    <tr>\n",
       "      <th>30</th>\n",
       "      <td>31</td>\n",
       "      <td>0.946667</td>\n",
       "    </tr>\n",
       "    <tr>\n",
       "      <th>29</th>\n",
       "      <td>30</td>\n",
       "      <td>0.946667</td>\n",
       "    </tr>\n",
       "    <tr>\n",
       "      <th>1</th>\n",
       "      <td>2</td>\n",
       "      <td>0.946667</td>\n",
       "    </tr>\n",
       "    <tr>\n",
       "      <th>39</th>\n",
       "      <td>40</td>\n",
       "      <td>0.940000</td>\n",
       "    </tr>\n",
       "    <tr>\n",
       "      <th>41</th>\n",
       "      <td>42</td>\n",
       "      <td>0.940000</td>\n",
       "    </tr>\n",
       "    <tr>\n",
       "      <th>42</th>\n",
       "      <td>43</td>\n",
       "      <td>0.940000</td>\n",
       "    </tr>\n",
       "    <tr>\n",
       "      <th>27</th>\n",
       "      <td>28</td>\n",
       "      <td>0.940000</td>\n",
       "    </tr>\n",
       "    <tr>\n",
       "      <th>47</th>\n",
       "      <td>48</td>\n",
       "      <td>0.940000</td>\n",
       "    </tr>\n",
       "    <tr>\n",
       "      <th>48</th>\n",
       "      <td>49</td>\n",
       "      <td>0.940000</td>\n",
       "    </tr>\n",
       "    <tr>\n",
       "      <th>45</th>\n",
       "      <td>46</td>\n",
       "      <td>0.933333</td>\n",
       "    </tr>\n",
       "    <tr>\n",
       "      <th>49</th>\n",
       "      <td>50</td>\n",
       "      <td>0.926667</td>\n",
       "    </tr>\n",
       "  </tbody>\n",
       "</table>\n",
       "</div>"
      ],
      "text/plain": [
       "     k  acuracia\n",
       "20  21  0.980000\n",
       "19  20  0.980000\n",
       "18  19  0.980000\n",
       "9   10  0.973333\n",
       "17  18  0.973333\n",
       "16  17  0.973333\n",
       "14  15  0.973333\n",
       "13  14  0.973333\n",
       "10  11  0.973333\n",
       "8    9  0.966667\n",
       "21  22  0.966667\n",
       "22  23  0.966667\n",
       "12  13  0.966667\n",
       "7    8  0.966667\n",
       "6    7  0.966667\n",
       "15  16  0.966667\n",
       "23  24  0.966667\n",
       "4    5  0.966667\n",
       "24  25  0.966667\n",
       "26  27  0.966667\n",
       "0    1  0.960000\n",
       "25  26  0.960000\n",
       "11  12  0.960000\n",
       "3    4  0.960000\n",
       "2    3  0.960000\n",
       "5    6  0.960000\n",
       "28  29  0.953333\n",
       "31  32  0.953333\n",
       "32  33  0.953333\n",
       "33  34  0.953333\n",
       "34  35  0.953333\n",
       "38  39  0.953333\n",
       "37  38  0.946667\n",
       "46  47  0.946667\n",
       "44  45  0.946667\n",
       "43  44  0.946667\n",
       "40  41  0.946667\n",
       "36  37  0.946667\n",
       "35  36  0.946667\n",
       "30  31  0.946667\n",
       "29  30  0.946667\n",
       "1    2  0.946667\n",
       "39  40  0.940000\n",
       "41  42  0.940000\n",
       "42  43  0.940000\n",
       "27  28  0.940000\n",
       "47  48  0.940000\n",
       "48  49  0.940000\n",
       "45  46  0.933333\n",
       "49  50  0.926667"
      ]
     },
     "execution_count": 272,
     "metadata": {},
     "output_type": "execute_result"
    }
   ],
   "source": [
    "resultados = pd.DataFrame(pd.Series(metricas)).reset_index()\n",
    "resultados.columns = ['k', 'acuracia']\n",
    "resultados.sort_values(by = 'acuracia', ascending = False)"
   ]
  },
  {
   "cell_type": "markdown",
   "id": "5d95fe6b",
   "metadata": {},
   "source": [
    "**Para pensar:** Qual o efeito no algoritmo se a largura da sépala estiver em centímetros e a largura da pétala estiver em milímetros? O que pode ser feito?"
   ]
  },
  {
   "cell_type": "raw",
   "id": "0100ee40",
   "metadata": {},
   "source": [
    "distancia(x, y) = raiz_quadrada(s)\n",
    "\n",
    "s = soma(\n",
    "    (x1 - y1)^2  \n",
    "    + (x2 - y2)^2\n",
    "    + (x3 - y3)^2\n",
    "    ...\n",
    "    + (xn - yn)^2\n",
    ")"
   ]
  },
  {
   "cell_type": "code",
   "execution_count": 349,
   "id": "6015da58",
   "metadata": {},
   "outputs": [
    {
     "data": {
      "text/html": [
       "<div>\n",
       "<style scoped>\n",
       "    .dataframe tbody tr th:only-of-type {\n",
       "        vertical-align: middle;\n",
       "    }\n",
       "\n",
       "    .dataframe tbody tr th {\n",
       "        vertical-align: top;\n",
       "    }\n",
       "\n",
       "    .dataframe thead th {\n",
       "        text-align: right;\n",
       "    }\n",
       "</style>\n",
       "<table border=\"1\" class=\"dataframe\">\n",
       "  <thead>\n",
       "    <tr style=\"text-align: right;\">\n",
       "      <th></th>\n",
       "      <th>sepal_length</th>\n",
       "      <th>sepal_width</th>\n",
       "      <th>petal_length</th>\n",
       "      <th>petal_width</th>\n",
       "      <th>species</th>\n",
       "    </tr>\n",
       "  </thead>\n",
       "  <tbody>\n",
       "    <tr>\n",
       "      <th>0</th>\n",
       "      <td>5.1</td>\n",
       "      <td>3.5</td>\n",
       "      <td>1.4</td>\n",
       "      <td>0.2</td>\n",
       "      <td>setosa</td>\n",
       "    </tr>\n",
       "    <tr>\n",
       "      <th>1</th>\n",
       "      <td>4.9</td>\n",
       "      <td>3.0</td>\n",
       "      <td>1.4</td>\n",
       "      <td>0.2</td>\n",
       "      <td>setosa</td>\n",
       "    </tr>\n",
       "    <tr>\n",
       "      <th>2</th>\n",
       "      <td>4.7</td>\n",
       "      <td>3.2</td>\n",
       "      <td>1.3</td>\n",
       "      <td>0.2</td>\n",
       "      <td>setosa</td>\n",
       "    </tr>\n",
       "    <tr>\n",
       "      <th>3</th>\n",
       "      <td>4.6</td>\n",
       "      <td>3.1</td>\n",
       "      <td>1.5</td>\n",
       "      <td>0.2</td>\n",
       "      <td>setosa</td>\n",
       "    </tr>\n",
       "    <tr>\n",
       "      <th>4</th>\n",
       "      <td>5.0</td>\n",
       "      <td>3.6</td>\n",
       "      <td>1.4</td>\n",
       "      <td>0.2</td>\n",
       "      <td>setosa</td>\n",
       "    </tr>\n",
       "  </tbody>\n",
       "</table>\n",
       "</div>"
      ],
      "text/plain": [
       "   sepal_length  sepal_width  petal_length  petal_width species\n",
       "0           5.1          3.5           1.4          0.2  setosa\n",
       "1           4.9          3.0           1.4          0.2  setosa\n",
       "2           4.7          3.2           1.3          0.2  setosa\n",
       "3           4.6          3.1           1.5          0.2  setosa\n",
       "4           5.0          3.6           1.4          0.2  setosa"
      ]
     },
     "execution_count": 349,
     "metadata": {},
     "output_type": "execute_result"
    }
   ],
   "source": [
    "df = pd.read_csv('dados/iris.csv')\n",
    "df.head()"
   ]
  },
  {
   "cell_type": "code",
   "execution_count": 350,
   "id": "11f884b0",
   "metadata": {},
   "outputs": [
    {
     "data": {
      "text/plain": [
       "5.843333333333334"
      ]
     },
     "execution_count": 350,
     "metadata": {},
     "output_type": "execute_result"
    }
   ],
   "source": [
    "df.sepal_length.mean()"
   ]
  },
  {
   "cell_type": "code",
   "execution_count": 351,
   "id": "54e2cf8d",
   "metadata": {},
   "outputs": [],
   "source": [
    "df['sepal_length'] = df['sepal_length']/100000\n",
    "df['petal_length'] = df['petal_length']*100000"
   ]
  },
  {
   "cell_type": "code",
   "execution_count": 364,
   "id": "fd70c51c",
   "metadata": {},
   "outputs": [
    {
     "data": {
      "text/plain": [
       "(5.843333333333334, 0.828066127977863, 4.3, 7.9)"
      ]
     },
     "execution_count": 364,
     "metadata": {},
     "output_type": "execute_result"
    }
   ],
   "source": [
    "df = pd.read_csv('dados/iris.csv')\n",
    "\n",
    "df.sepal_length.mean(), df.sepal_length.std(), df.sepal_length.min(), df.sepal_length.max()"
   ]
  },
  {
   "cell_type": "code",
   "execution_count": 365,
   "id": "76938f2b",
   "metadata": {},
   "outputs": [
    {
     "data": {
      "text/plain": [
       "(0.42870370370370364, 0.23001836888273972, 0.0, 1.0)"
      ]
     },
     "execution_count": 365,
     "metadata": {},
     "output_type": "execute_result"
    }
   ],
   "source": [
    "df = pd.read_csv('dados/iris.csv')\n",
    "\n",
    "minmax = MinMaxScaler()\n",
    "df[var_expl] = minmax.fit_transform(df[var_expl])\n",
    "\n",
    "df.sepal_length.mean(), df.sepal_length.std(), df.sepal_length.min(), df.sepal_length.max()"
   ]
  },
  {
   "cell_type": "code",
   "execution_count": 366,
   "id": "2c12a8c4",
   "metadata": {},
   "outputs": [
    {
     "data": {
      "text/plain": [
       "(-4.736951571734001e-16,\n",
       " 1.0033500931359767,\n",
       " -1.870024133847019,\n",
       " 2.4920192021244283)"
      ]
     },
     "execution_count": 366,
     "metadata": {},
     "output_type": "execute_result"
    }
   ],
   "source": [
    "df = pd.read_csv('dados/iris.csv')\n",
    "\n",
    "minmax = StandardScaler()\n",
    "df[var_expl] = minmax.fit_transform(df[var_expl])\n",
    "\n",
    "df.sepal_length.mean(), df.sepal_length.std(), df.sepal_length.min(), df.sepal_length.max()"
   ]
  },
  {
   "cell_type": "code",
   "execution_count": null,
   "id": "fabd6beb",
   "metadata": {},
   "outputs": [],
   "source": [
    "minmax = MinMaxScaler()\n",
    "df[var_expl] = minmax.fit_transform(df[var_expl])"
   ]
  },
  {
   "cell_type": "code",
   "execution_count": null,
   "id": "be5a96e5",
   "metadata": {},
   "outputs": [],
   "source": [
    "df.sepal_length.mean()"
   ]
  },
  {
   "cell_type": "raw",
   "id": "de24678a",
   "metadata": {},
   "source": [
    "distancia(x, y) = raiz_quadrada(s)\n",
    "\n",
    "s = soma(\n",
    "    (x1 - y1)^2  \n",
    "    + (x2 - y2)^2\n",
    "    + (x3 - y3)^2\n",
    "    ...\n",
    "    + (xn - yn)^2\n",
    ")"
   ]
  },
  {
   "cell_type": "code",
   "execution_count": 323,
   "id": "0a00ee9c",
   "metadata": {},
   "outputs": [
    {
     "data": {
      "text/plain": [
       "20000.00000025"
      ]
     },
     "execution_count": 323,
     "metadata": {},
     "output_type": "execute_result"
    }
   ],
   "source": [
    "((0.000047 - 0.000046)**2 + (3.2 - 3.1)**2 + (130000.0 - 150000.0)**2 + (0.2 - 0.2)**2)**0.5"
   ]
  },
  {
   "cell_type": "code",
   "execution_count": 324,
   "id": "5f82e7ff",
   "metadata": {},
   "outputs": [
    {
     "data": {
      "text/plain": [
       "10.641898138960174"
      ]
     },
     "execution_count": 324,
     "metadata": {},
     "output_type": "execute_result"
    }
   ],
   "source": [
    "((0.000051 - 1.000049)**2 + (3.5 - 7.0)**2 + (140000.0 - 140000.0)**2 + (10.2 - 0.2)**2)**0.5"
   ]
  },
  {
   "cell_type": "code",
   "execution_count": 325,
   "id": "97adcb25",
   "metadata": {},
   "outputs": [
    {
     "data": {
      "text/plain": [
       "20000.0"
      ]
     },
     "execution_count": 325,
     "metadata": {},
     "output_type": "execute_result"
    }
   ],
   "source": [
    "((0.000047 - 0.000047)**2 + (3.2 - 3.2)**2 + (130000.0 - 150000.0)**2 + (0.2 - 0.2)**2)**0.5"
   ]
  },
  {
   "cell_type": "code",
   "execution_count": 326,
   "id": "be2a54c4",
   "metadata": {},
   "outputs": [
    {
     "data": {
      "text/plain": [
       "0.9466666666666667"
      ]
     },
     "execution_count": 326,
     "metadata": {},
     "output_type": "execute_result"
    }
   ],
   "source": [
    "k = 10\n",
    "\n",
    "kf = KFold(n_splits = 150, shuffle = True, random_state = 1)\n",
    "\n",
    "metricas_temp = []\n",
    "\n",
    "for i_treino, i_teste in kf.split(df):\n",
    "\n",
    "    df_treino = df.iloc[i_treino]\n",
    "    df_teste = df.iloc[i_teste]\n",
    "\n",
    "    var_expl = ['sepal_length', 'sepal_width', 'petal_length', 'petal_width']\n",
    "    var_resp = 'species'\n",
    "\n",
    "    x_treino = df_treino[var_expl]\n",
    "    x_teste = df_teste[var_expl]\n",
    "\n",
    "    y_treino = df_treino[var_resp]\n",
    "    y_teste = df_teste[var_resp]\n",
    "\n",
    "    modelo = KNeighborsClassifier(k)\n",
    "    modelo.fit(x_treino, y_treino)\n",
    "\n",
    "    y_teste_pred = modelo.predict(x_teste)\n",
    "    metricas_temp.append(accuracy_score(y_teste, y_teste_pred))\n",
    "\n",
    "sum(metricas_temp)/len(metricas_temp)"
   ]
  },
  {
   "cell_type": "markdown",
   "id": "48bdc503",
   "metadata": {},
   "source": [
    "**Possíveis soluções**\n",
    "- [MinMaxScaler](https://scikit-learn.org/stable/modules/generated/sklearn.preprocessing.MinMaxScaler.html)\n",
    "- [StandardScaler](https://scikit-learn.org/stable/modules/generated/sklearn.preprocessing.StandardScaler.html)\n",
    "\n"
   ]
  },
  {
   "cell_type": "code",
   "execution_count": 316,
   "id": "f98a645b",
   "metadata": {},
   "outputs": [
    {
     "data": {
      "text/html": [
       "<div>\n",
       "<style scoped>\n",
       "    .dataframe tbody tr th:only-of-type {\n",
       "        vertical-align: middle;\n",
       "    }\n",
       "\n",
       "    .dataframe tbody tr th {\n",
       "        vertical-align: top;\n",
       "    }\n",
       "\n",
       "    .dataframe thead th {\n",
       "        text-align: right;\n",
       "    }\n",
       "</style>\n",
       "<table border=\"1\" class=\"dataframe\">\n",
       "  <thead>\n",
       "    <tr style=\"text-align: right;\">\n",
       "      <th></th>\n",
       "      <th>sepal_length</th>\n",
       "      <th>sepal_width</th>\n",
       "      <th>petal_length</th>\n",
       "      <th>petal_width</th>\n",
       "      <th>species</th>\n",
       "    </tr>\n",
       "  </thead>\n",
       "  <tbody>\n",
       "    <tr>\n",
       "      <th>0</th>\n",
       "      <td>0.000051</td>\n",
       "      <td>3.5</td>\n",
       "      <td>140000.0</td>\n",
       "      <td>0.2</td>\n",
       "      <td>setosa</td>\n",
       "    </tr>\n",
       "    <tr>\n",
       "      <th>1</th>\n",
       "      <td>0.000049</td>\n",
       "      <td>3.0</td>\n",
       "      <td>140000.0</td>\n",
       "      <td>0.2</td>\n",
       "      <td>setosa</td>\n",
       "    </tr>\n",
       "    <tr>\n",
       "      <th>2</th>\n",
       "      <td>0.000047</td>\n",
       "      <td>3.2</td>\n",
       "      <td>130000.0</td>\n",
       "      <td>0.2</td>\n",
       "      <td>setosa</td>\n",
       "    </tr>\n",
       "    <tr>\n",
       "      <th>3</th>\n",
       "      <td>0.000046</td>\n",
       "      <td>3.1</td>\n",
       "      <td>150000.0</td>\n",
       "      <td>0.2</td>\n",
       "      <td>setosa</td>\n",
       "    </tr>\n",
       "    <tr>\n",
       "      <th>4</th>\n",
       "      <td>0.000050</td>\n",
       "      <td>3.6</td>\n",
       "      <td>140000.0</td>\n",
       "      <td>0.2</td>\n",
       "      <td>setosa</td>\n",
       "    </tr>\n",
       "  </tbody>\n",
       "</table>\n",
       "</div>"
      ],
      "text/plain": [
       "   sepal_length  sepal_width  petal_length  petal_width species\n",
       "0      0.000051          3.5      140000.0          0.2  setosa\n",
       "1      0.000049          3.0      140000.0          0.2  setosa\n",
       "2      0.000047          3.2      130000.0          0.2  setosa\n",
       "3      0.000046          3.1      150000.0          0.2  setosa\n",
       "4      0.000050          3.6      140000.0          0.2  setosa"
      ]
     },
     "execution_count": 316,
     "metadata": {},
     "output_type": "execute_result"
    }
   ],
   "source": [
    "df_treino.head()"
   ]
  },
  {
   "cell_type": "code",
   "execution_count": 327,
   "id": "e85c3180",
   "metadata": {},
   "outputs": [
    {
     "data": {
      "text/plain": [
       "0.9533333333333334"
      ]
     },
     "execution_count": 327,
     "metadata": {},
     "output_type": "execute_result"
    }
   ],
   "source": [
    "from sklearn.preprocessing import MinMaxScaler, StandardScaler\n",
    "\n",
    "k = 10\n",
    "\n",
    "kf = KFold(n_splits = 150, shuffle = True, random_state = 1)\n",
    "\n",
    "metricas_temp = []\n",
    "\n",
    "for i_treino, i_teste in kf.split(df):\n",
    "\n",
    "    df_treino = df.iloc[i_treino]\n",
    "    df_teste = df.iloc[i_teste]\n",
    "\n",
    "    var_expl = ['sepal_length', 'sepal_width', 'petal_length', 'petal_width']\n",
    "    var_resp = 'species'\n",
    "\n",
    "    x_treino = df_treino[var_expl]\n",
    "    x_teste = df_teste[var_expl]\n",
    "\n",
    "    y_treino = df_treino[var_resp]\n",
    "    y_teste = df_teste[var_resp]\n",
    "\n",
    "    minmax = MinMaxScaler()\n",
    "    x_treino = minmax.fit_transform(x_treino)\n",
    "    x_teste = minmax.transform(x_teste)\n",
    "    \n",
    "    modelo = KNeighborsClassifier(k)\n",
    "    modelo.fit(x_treino, y_treino)\n",
    "\n",
    "    y_teste_pred = modelo.predict(x_teste)\n",
    "    metricas_temp.append(accuracy_score(y_teste, y_teste_pred))\n",
    "\n",
    "sum(metricas_temp)/len(metricas_temp)"
   ]
  },
  {
   "cell_type": "markdown",
   "id": "d41e3cdb",
   "metadata": {},
   "source": [
    "**Para pensar:** Qual o efeito da dimensionalidade nesse tipo de algoritmo?"
   ]
  },
  {
   "cell_type": "raw",
   "id": "3631da63",
   "metadata": {},
   "source": [
    "- Processamento vai ser mais doloroso\n",
    "- Tendência maior de overfit, aumentado ainda mais por ser um algoritmo baseado em distância"
   ]
  },
  {
   "cell_type": "markdown",
   "id": "9246257c",
   "metadata": {},
   "source": [
    "**Para pensar:** É possível utilizar dados qualitativos no algoritmo do Vizinho Mais Próximo?"
   ]
  },
  {
   "cell_type": "code",
   "execution_count": 331,
   "id": "dda63628",
   "metadata": {},
   "outputs": [
    {
     "name": "stderr",
     "output_type": "stream",
     "text": [
      "/var/folders/0m/f9g25vz16sq8vcnn186g387h0000gn/T/ipykernel_3025/915671790.py:1: SettingWithCopyWarning: \n",
      "A value is trying to be set on a copy of a slice from a DataFrame.\n",
      "Try using .loc[row_indexer,col_indexer] = value instead\n",
      "\n",
      "See the caveats in the documentation: https://pandas.pydata.org/pandas-docs/stable/user_guide/indexing.html#returning-a-view-versus-a-copy\n",
      "  df_treino['cor'] = 'azul'\n"
     ]
    },
    {
     "data": {
      "text/html": [
       "<div>\n",
       "<style scoped>\n",
       "    .dataframe tbody tr th:only-of-type {\n",
       "        vertical-align: middle;\n",
       "    }\n",
       "\n",
       "    .dataframe tbody tr th {\n",
       "        vertical-align: top;\n",
       "    }\n",
       "\n",
       "    .dataframe thead th {\n",
       "        text-align: right;\n",
       "    }\n",
       "</style>\n",
       "<table border=\"1\" class=\"dataframe\">\n",
       "  <thead>\n",
       "    <tr style=\"text-align: right;\">\n",
       "      <th></th>\n",
       "      <th>sepal_length</th>\n",
       "      <th>sepal_width</th>\n",
       "      <th>petal_length</th>\n",
       "      <th>petal_width</th>\n",
       "      <th>species</th>\n",
       "      <th>cor</th>\n",
       "    </tr>\n",
       "  </thead>\n",
       "  <tbody>\n",
       "    <tr>\n",
       "      <th>0</th>\n",
       "      <td>0.000051</td>\n",
       "      <td>3.5</td>\n",
       "      <td>140000.0</td>\n",
       "      <td>0.2</td>\n",
       "      <td>setosa</td>\n",
       "      <td>azul</td>\n",
       "    </tr>\n",
       "    <tr>\n",
       "      <th>1</th>\n",
       "      <td>0.000049</td>\n",
       "      <td>3.0</td>\n",
       "      <td>140000.0</td>\n",
       "      <td>0.2</td>\n",
       "      <td>setosa</td>\n",
       "      <td>azul</td>\n",
       "    </tr>\n",
       "    <tr>\n",
       "      <th>2</th>\n",
       "      <td>0.000047</td>\n",
       "      <td>3.2</td>\n",
       "      <td>130000.0</td>\n",
       "      <td>0.2</td>\n",
       "      <td>setosa</td>\n",
       "      <td>azul</td>\n",
       "    </tr>\n",
       "    <tr>\n",
       "      <th>3</th>\n",
       "      <td>0.000046</td>\n",
       "      <td>3.1</td>\n",
       "      <td>150000.0</td>\n",
       "      <td>0.2</td>\n",
       "      <td>setosa</td>\n",
       "      <td>azul</td>\n",
       "    </tr>\n",
       "    <tr>\n",
       "      <th>4</th>\n",
       "      <td>0.000050</td>\n",
       "      <td>3.6</td>\n",
       "      <td>140000.0</td>\n",
       "      <td>0.2</td>\n",
       "      <td>setosa</td>\n",
       "      <td>azul</td>\n",
       "    </tr>\n",
       "  </tbody>\n",
       "</table>\n",
       "</div>"
      ],
      "text/plain": [
       "   sepal_length  sepal_width  petal_length  petal_width species   cor\n",
       "0      0.000051          3.5      140000.0          0.2  setosa  azul\n",
       "1      0.000049          3.0      140000.0          0.2  setosa  azul\n",
       "2      0.000047          3.2      130000.0          0.2  setosa  azul\n",
       "3      0.000046          3.1      150000.0          0.2  setosa  azul\n",
       "4      0.000050          3.6      140000.0          0.2  setosa  azul"
      ]
     },
     "execution_count": 331,
     "metadata": {},
     "output_type": "execute_result"
    }
   ],
   "source": [
    "df_treino['cor'] = 'azul'\n",
    "df_treino.head()"
   ]
  }
 ],
 "metadata": {
  "hide_input": false,
  "kernelspec": {
   "display_name": "Python 3 (ipykernel)",
   "language": "python",
   "name": "python3"
  },
  "language_info": {
   "codemirror_mode": {
    "name": "ipython",
    "version": 3
   },
   "file_extension": ".py",
   "mimetype": "text/x-python",
   "name": "python",
   "nbconvert_exporter": "python",
   "pygments_lexer": "ipython3",
   "version": "3.9.7"
  }
 },
 "nbformat": 4,
 "nbformat_minor": 5
}
