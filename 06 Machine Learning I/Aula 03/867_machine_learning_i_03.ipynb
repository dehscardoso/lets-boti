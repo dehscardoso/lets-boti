{
 "cells": [
  {
   "cell_type": "markdown",
   "id": "4838cc9d",
   "metadata": {},
   "source": [
    "# Na aula anterior..."
   ]
  },
  {
   "cell_type": "markdown",
   "id": "fef8b3d0",
   "metadata": {},
   "source": [
    "Qual a medida estatística usada quando usamos o KNN em um problema de classificação? E se o problema for de regressão?"
   ]
  },
  {
   "cell_type": "raw",
   "id": "15cf99bf",
   "metadata": {},
   "source": []
  },
  {
   "cell_type": "markdown",
   "id": "87d1907a",
   "metadata": {},
   "source": [
    "Como medir a distância entre dois pontos?"
   ]
  },
  {
   "cell_type": "code",
   "execution_count": 1,
   "id": "b98db0a6",
   "metadata": {},
   "outputs": [],
   "source": [
    "from sklearn.neighbors import KNeighborsClassifier"
   ]
  },
  {
   "cell_type": "code",
   "execution_count": null,
   "id": "8887c570",
   "metadata": {},
   "outputs": [],
   "source": [
    "modelo = KNeighborsClassifier(n_neighbors = 5, weights = 'distance', metric = 'minkowski', p = 1)"
   ]
  },
  {
   "cell_type": "markdown",
   "id": "adc21220",
   "metadata": {},
   "source": [
    "Verdadeiro ou falso? \n",
    "> Quanto maior o K no KNN, menos robusto a ruídos o modelo fica."
   ]
  },
  {
   "cell_type": "raw",
   "id": "c1ff71d1",
   "metadata": {},
   "source": [
    "Falso"
   ]
  },
  {
   "cell_type": "markdown",
   "id": "4af4fdc2",
   "metadata": {},
   "source": [
    "O que podemos fazer para utilizar dados qualitativos no KNN?"
   ]
  },
  {
   "cell_type": "raw",
   "id": "6033d357",
   "metadata": {},
   "source": [
    "Transformar para um número:\n",
    "    - One Hot Encoder: cria uma feature para cada valor, usando 0 ou 1 (boolean), acarretando um problema de hiperdimensionalidade\n",
    "    - Ordinal Encoder: um número para cada valor, incluindo informação de ordenação\n",
    "    \n",
    "Azul, Vermelho e Amarelo\n",
    "1, 2, 3"
   ]
  },
  {
   "cell_type": "code",
   "execution_count": null,
   "id": "7738faf2",
   "metadata": {},
   "outputs": [],
   "source": [
    "Azul\n",
    "Vermelho\n",
    "VermelhoKNeighborsRegressor\n",
    "Amarelo\n",
    "Azul\n",
    "\n",
    "\n",
    "Transformando em One Hot\n",
    "Azul | Vermelho | Amarelo\n",
    "1    | 0        | 0\n",
    "0    | 1        | 0\n",
    "0    | 1        | 0\n",
    "0    | 0        | 1\n",
    "1    | 0        | 0"
   ]
  },
  {
   "cell_type": "code",
   "execution_count": null,
   "id": "fcb93b29",
   "metadata": {},
   "outputs": [],
   "source": [
    "Azul | Vermelho | Amarelo | Verde\n",
    "\n",
    "Azul\n",
    "Vermelho\n",
    "Verde\n",
    "Vermelho\n",
    "Amarelo\n",
    "Azul\n",
    "\n",
    "\n",
    "Transformando em One Hot\n",
    "Azul | Vermelho | Amarelo | Verde\n",
    "1    | 0        | 0       | 0\n",
    "0    | 1        | 0       | 0\n",
    "0    | 0        | 0       | 1\n",
    "0    | 1        | 0       | 0\n",
    "0    | 0        | 1       | 0\n",
    "1    | 0        | 0       | 0\n",
    "\n",
    "\n",
    "Transformando em Binary\n",
    "F1 | F2\n",
    "0  | 0 => Azul\n",
    "0  | 1 => Vermelho\n",
    "1  | 0 => Amarelo\n",
    "1  | 1 => Verde\n",
    "\n",
    "F1 | F2\n",
    "0  | 0 => 0 - 0)\n",
    "0  | 1\n",
    "1  | 1\n",
    "0  | 1\n",
    "1  | 0\n",
    "0  | 0"
   ]
  },
  {
   "cell_type": "code",
   "execution_count": 3,
   "id": "2f38d05a",
   "metadata": {},
   "outputs": [
    {
     "data": {
      "text/plain": [
       "1.0"
      ]
     },
     "execution_count": 3,
     "metadata": {},
     "output_type": "execute_result"
    }
   ],
   "source": [
    "calcula_distancia((0,0), (0, 1))"
   ]
  },
  {
   "cell_type": "code",
   "execution_count": 4,
   "id": "613a1088",
   "metadata": {},
   "outputs": [
    {
     "data": {
      "text/plain": [
       "1.0"
      ]
     },
     "execution_count": 4,
     "metadata": {},
     "output_type": "execute_result"
    }
   ],
   "source": [
    "calcula_distancia((0,1), (1, 1))"
   ]
  },
  {
   "cell_type": "code",
   "execution_count": 5,
   "id": "19fcfce8",
   "metadata": {},
   "outputs": [
    {
     "data": {
      "text/plain": [
       "1.4142135623730951"
      ]
     },
     "execution_count": 5,
     "metadata": {},
     "output_type": "execute_result"
    }
   ],
   "source": [
    "calcula_distancia((0,0), (1, 1))"
   ]
  },
  {
   "cell_type": "code",
   "execution_count": 2,
   "id": "5eda5a0c",
   "metadata": {},
   "outputs": [],
   "source": [
    "def calcula_distancia(p1, p2):\n",
    "    \n",
    "    if len(p1) != len(p2):\n",
    "        raise Exception(\"O tamanho de p1 não pode ser diferente do tamanho de p2\")\n",
    "    \n",
    "    s = 0\n",
    "    for i in range(len(p1)):\n",
    "        s = s + (p1[i] - p2[i])**2\n",
    "\n",
    "    distancia = s**0.5\n",
    "    \n",
    "    return distancia"
   ]
  },
  {
   "cell_type": "markdown",
   "id": "a775c731",
   "metadata": {},
   "source": [
    "Para um modelo de regressão linear estar ajustado, precisamos apenas dos coeficientes (angulares e lineares). No caso de um KNN, o que é necessário?"
   ]
  },
  {
   "cell_type": "raw",
   "id": "ed16eb1a",
   "metadata": {},
   "source": [
    "ponto p = (5, 2)\n",
    "y = 0 + 1*x1 + 3*x2 => 4\n",
    "\n",
    "y = 0 + 1*5 + 3*2 = 11"
   ]
  },
  {
   "cell_type": "raw",
   "id": "bd3845c8",
   "metadata": {},
   "source": [
    "ponto p = (5, 2) => calcular a distancia do p para todos os outros => preciso de todos os pontos\n",
    "k = 1\n",
    "\n",
    "y = ?\n",
    "\n",
    "150 mil pontos\n",
    "np.sqrt((p1 - x1)**2 + (p2 - x2)**2) => 5\n",
    "np.sqrt((p1 - y1)**2 + (p2 - y2)**2) => 5\n",
    "np.sqrt((p1 - z1)**2 + (p2 - z2)**2) => 5\n",
    "...\n",
    "np.sqrt((p1 - y1)**2 + (p2 - y2)**2) => 5\n",
    "\n",
    "preciso do vizinho mais próximo => "
   ]
  },
  {
   "cell_type": "raw",
   "id": "ea060adf",
   "metadata": {},
   "source": [
    "y = b0 + b1*x1 + b2*x2\n",
    "\n",
    "(1, x2) k = 1 "
   ]
  },
  {
   "cell_type": "raw",
   "id": "a1cc13fe",
   "metadata": {},
   "source": [
    "lazy algorithm"
   ]
  },
  {
   "cell_type": "markdown",
   "id": "de4c47b1",
   "metadata": {},
   "source": [
    "# Hoje!"
   ]
  },
  {
   "cell_type": "markdown",
   "id": "53b96652",
   "metadata": {},
   "source": [
    "## Métricas de Avaliação de Modelos"
   ]
  },
  {
   "cell_type": "markdown",
   "id": "e6eacfad",
   "metadata": {},
   "source": [
    "### Acurácia"
   ]
  },
  {
   "cell_type": "markdown",
   "id": "6078fc9d",
   "metadata": {},
   "source": [
    "Também conhecida como taxa de acerto, essa medida de desempenho traz a proporção de acertos sobre o total de observações. Assumindo que, dado um conjunto de variáveis explicativas $x$ associados a um conjunto de variável resposta $y$ um modelo $M$ foi treinado, temos que a acurácia do modelo $M$ ($ac(M)$) pode ser descrita matematicamente como:\n",
    "\n",
    "$$ac({M}) = \\frac{1}{n}\\sum_{i = 1}^{n}{I(y_{i} = M(x_i)) }$$\n",
    "\n",
    "A taxa de acerto é um número limitado entre 0 e 1. Quanto maior for o seu valor, melhor é o modelo $M$.\n",
    "\n",
    "De forma similar, podemos obter a taxa de erro com:\n",
    "\n",
    "$$err({M}) = 1 - ac(M)$$\n",
    "\n",
    "Nesse caso, quanto menor a taxa de erro, melhor o modelo $M$.\n"
   ]
  },
  {
   "cell_type": "code",
   "execution_count": 6,
   "id": "8eccd30e",
   "metadata": {},
   "outputs": [],
   "source": [
    "from sklearn.metrics import accuracy_score"
   ]
  },
  {
   "cell_type": "code",
   "execution_count": 7,
   "id": "f1ddd934",
   "metadata": {},
   "outputs": [],
   "source": [
    "import pandas as pd\n",
    "from sklearn.model_selection import train_test_split\n",
    "from sklearn.neighbors import KNeighborsClassifier"
   ]
  },
  {
   "cell_type": "code",
   "execution_count": 67,
   "id": "960c9c68",
   "metadata": {},
   "outputs": [],
   "source": [
    "df = pd.read_csv('dados/iris.csv')"
   ]
  },
  {
   "cell_type": "code",
   "execution_count": 13,
   "id": "b78bd0a6",
   "metadata": {},
   "outputs": [
    {
     "data": {
      "text/plain": [
       "0.9"
      ]
     },
     "execution_count": 13,
     "metadata": {},
     "output_type": "execute_result"
    }
   ],
   "source": [
    "df_treino, df_teste = train_test_split(df, test_size = 0.2, random_state = 5)\n",
    "\n",
    "var_expl = ['sepal_length', 'sepal_width', 'petal_length', 'petal_width']\n",
    "var_resp = 'species'\n",
    "\n",
    "x_treino = df_treino[var_expl]\n",
    "x_teste = df_teste[var_expl]\n",
    "\n",
    "y_treino = df_treino[var_resp]\n",
    "y_teste = df_teste[var_resp]\n",
    "\n",
    "modelo = KNeighborsClassifier(1)\n",
    "modelo.fit(x_treino, y_treino)\n",
    "\n",
    "y_teste_pred = modelo.predict(x_teste)\n",
    "accuracy_score(y_teste, y_teste_pred)"
   ]
  },
  {
   "cell_type": "markdown",
   "id": "546c1cd8",
   "metadata": {},
   "source": [
    "### Matriz de Confusão\n",
    "\n",
    "Uma alternativa para visualizar o desempenho de um modelo é analisar sua matriz de confusão, a qual ilustra o número de predições corretas e incorretas para cada classe do modelo. As linhas dessa matriz representam as classes verdadeiras, enquanto as colunas representam as classes preditas pelo modelo. Logo, casa elemento $m_{ij}$ de uma matriz de confusão $M_{MC}$ apresenta o número de exemplos da classe $i$ classificados como classe $j$. Dessa forma, os elementos na diagonal principal indicam as classificações feitas de forma correta, enquanto os outros elementos são os classificados de forma incorreta.\n",
    "\n",
    "<center><img src=\"https://s3-sa-east-1.amazonaws.com/lcpi/3960b0bd-1028-4710-8022-507110fc974a.png\" style=\"width: 250px;\"/></center>\n",
    "\n",
    "Por meio dela, temos as medidas quantitativas de quais classes possuem maior dificuldade de serem corretamente classificadas, se existe alguma \"confusão\" recorrente entre duas classes e mais uma série de medidas quantitativas sobre o modelo (a ser visto mais adiante)."
   ]
  },
  {
   "cell_type": "code",
   "execution_count": 16,
   "id": "c8a5628c",
   "metadata": {},
   "outputs": [],
   "source": [
    "from sklearn.metrics import confusion_matrix, ConfusionMatrixDisplay"
   ]
  },
  {
   "cell_type": "code",
   "execution_count": 14,
   "id": "109a780a",
   "metadata": {},
   "outputs": [
    {
     "data": {
      "text/plain": [
       "0.9"
      ]
     },
     "execution_count": 14,
     "metadata": {},
     "output_type": "execute_result"
    }
   ],
   "source": [
    "df_treino, df_teste = train_test_split(df, test_size = 0.2, random_state = 5)\n",
    "\n",
    "var_expl = ['sepal_length', 'sepal_width', 'petal_length', 'petal_width']\n",
    "var_resp = 'species'\n",
    "\n",
    "x_treino = df_treino[var_expl]\n",
    "x_teste = df_teste[var_expl]\n",
    "\n",
    "y_treino = df_treino[var_resp]\n",
    "y_teste = df_teste[var_resp]\n",
    "\n",
    "modelo = KNeighborsClassifier(1)\n",
    "modelo.fit(x_treino, y_treino)\n",
    "\n",
    "y_teste_pred = modelo.predict(x_teste)\n",
    "accuracy_score(y_teste, y_teste_pred)"
   ]
  },
  {
   "cell_type": "code",
   "execution_count": 20,
   "id": "7f065ddd",
   "metadata": {},
   "outputs": [
    {
     "data": {
      "text/plain": [
       "array(['setosa', 'versicolor', 'virginica'], dtype=object)"
      ]
     },
     "execution_count": 20,
     "metadata": {},
     "output_type": "execute_result"
    }
   ],
   "source": [
    "modelo.classes_"
   ]
  },
  {
   "cell_type": "code",
   "execution_count": 23,
   "id": "680c97f1",
   "metadata": {},
   "outputs": [
    {
     "data": {
      "text/plain": [
       "<sklearn.metrics._plot.confusion_matrix.ConfusionMatrixDisplay at 0x148858df0>"
      ]
     },
     "execution_count": 23,
     "metadata": {},
     "output_type": "execute_result"
    },
    {
     "data": {
      "image/png": "[encoded data removed]",
      "text/plain": [
       "<Figure size 432x288 with 2 Axes>"
      ]
     },
     "metadata": {
      "needs_background": "light"
     },
     "output_type": "display_data"
    }
   ],
   "source": [
    "cf = confusion_matrix(y_teste, y_teste_pred)\n",
    "cf = ConfusionMatrixDisplay(cf, display_labels = modelo.classes_)\n",
    "cf.plot()"
   ]
  },
  {
   "cell_type": "markdown",
   "id": "3f0b78c4",
   "metadata": {},
   "source": [
    "### Medidas de Desempenho Derivadas da Matriz de Confusão\n",
    "\n",
    "Dado a matriz de confusão mostranda no item anterior, podemos extrair, entre outras, as seguintes medidas de desempenho.\n",
    "\n",
    "#### Precisão\n",
    "\n",
    "É a proporção de exemplos positivos classificados corretamente entre todos aqueles preditos como positivos pelo modelo $M$.\n",
    "\n",
    "$$prec(M) = \\frac{\\textrm{VP}}{\\textrm{VP + FP}}$$\n",
    "\n",
    "Pode ser vista como uma medida de exatidão do modelo. Uma precisão de 1 para uma determinada classe $C_1$ significa que cada item predito como pertencene a essa classe de fato pertence ela; porém, não nos trás informações sobre as predições das classes $C_2$.\n",
    "\n",
    "#### Sensibilidade\n",
    "\n",
    "Taxa de acerto na classe positiva, também conhecida como revocação ou taxa de verdadeiros positivos (TVP).\n",
    "\n",
    "$$sens(M) = \\frac{\\textrm{VP}}{\\textrm{VP + FN}}$$\n",
    "\n",
    "\n",
    "$$\\textrm{TVP}(M) = sens(M)$$\n",
    "\n",
    "Pode ser vista como uma medida de completude do modelo. Uma sensibilidade de 1 para uma determinada classe $C_1$ significa que todos os itens que deveriam ser previstos como tal, de fato foram; mas não nos trás informações sobre as outras predições erradas dentro da própria classes $C_1$.\n",
    "\n",
    "#### Especificidade\n",
    "\n",
    "Taxa de acerto na classe negativa, sendo o complementar a taxa de falsos positivos (TFP).\n",
    "\n",
    "$$esp(M) = \\frac{\\textrm{VN}}{\\textrm{VN + FP}}$$\n",
    "\n",
    "\n",
    "$$\\textrm{TFP}(M) = 1 - esp(M)$$\n",
    "\n",
    "#### Generalização para problemas multiclasse\n",
    "\n",
    "Essas medidas podem facilmente ser expandidas para problemas de classificação não binários ao considerar cada classe como positiva em relação ao conjunto das demais classes, sendo obtido um valor de desempenho para cada classe."
   ]
  },
  {
   "cell_type": "code",
   "execution_count": 24,
   "id": "b9ce48f3",
   "metadata": {},
   "outputs": [],
   "source": [
    "from sklearn.metrics import recall_score, precision_score"
   ]
  },
  {
   "cell_type": "code",
   "execution_count": 68,
   "id": "256610bf",
   "metadata": {},
   "outputs": [],
   "source": [
    "df_treino, df_teste = train_test_split(df, test_size = 0.2, random_state = 5)\n",
    "\n",
    "var_expl = ['sepal_length', 'sepal_width', 'petal_length', 'petal_width']\n",
    "var_resp = 'species'\n",
    "\n",
    "x_treino = df_treino[var_expl]\n",
    "x_teste = df_teste[var_expl]\n",
    "\n",
    "y_treino = df_treino[var_resp]\n",
    "y_teste = df_teste[var_resp]\n",
    "\n",
    "modelo = KNeighborsClassifier(1)\n",
    "modelo.fit(x_treino, y_treino)\n",
    "\n",
    "y_teste_pred = modelo.predict(x_teste)"
   ]
  },
  {
   "cell_type": "code",
   "execution_count": 37,
   "id": "911171f2",
   "metadata": {},
   "outputs": [
    {
     "data": {
      "text/plain": [
       "array(['setosa', 'versicolor', 'virginica'], dtype=object)"
      ]
     },
     "execution_count": 37,
     "metadata": {},
     "output_type": "execute_result"
    }
   ],
   "source": [
    "modelo.classes_"
   ]
  },
  {
   "cell_type": "code",
   "execution_count": 36,
   "id": "72b2c1e3",
   "metadata": {},
   "outputs": [
    {
     "data": {
      "text/plain": [
       "array([1.        , 0.9       , 0.83333333])"
      ]
     },
     "execution_count": 36,
     "metadata": {},
     "output_type": "execute_result"
    }
   ],
   "source": [
    "precision_score(y_teste, y_teste_pred, average = None)"
   ]
  },
  {
   "cell_type": "code",
   "execution_count": 38,
   "id": "e183f9ed",
   "metadata": {},
   "outputs": [
    {
     "data": {
      "text/plain": [
       "array([1.        , 0.81818182, 0.90909091])"
      ]
     },
     "execution_count": 38,
     "metadata": {},
     "output_type": "execute_result"
    }
   ],
   "source": [
    "recall_score(y_teste, y_teste_pred, average = None)"
   ]
  },
  {
   "cell_type": "raw",
   "id": "81f9dfa2",
   "metadata": {},
   "source": [
    "f1-score: média harmônica entre prec e sens"
   ]
  },
  {
   "cell_type": "code",
   "execution_count": 70,
   "id": "8313fa51",
   "metadata": {},
   "outputs": [],
   "source": [
    "from sklearn.metrics import f1_score"
   ]
  },
  {
   "cell_type": "code",
   "execution_count": 71,
   "id": "c4b00429",
   "metadata": {},
   "outputs": [
    {
     "data": {
      "text/plain": [
       "array([1.        , 0.85714286, 0.86956522])"
      ]
     },
     "execution_count": 71,
     "metadata": {},
     "output_type": "execute_result"
    }
   ],
   "source": [
    "f1_score(y_teste, y_teste_pred, average = None)"
   ]
  },
  {
   "cell_type": "markdown",
   "id": "2b6baaa5",
   "metadata": {},
   "source": [
    "### ROC AUC\n",
    "\n",
    "Uma forma alternativa e comum de avaliar classificadores em problemas binários é por meio do uso das curvas ROC (*Receiving Operating Characteristics*). Seu gráfico é bidimensional, no qual o eixo X está a TFP e no Y a TVP. Na próxima figura, temos um exemplo desse tipo de análise. Se um modelo se encontra na diagonal, dizemos que ele possui comportamento similar ao lançamento de uma moeda não viciada. Modelos abaixo dessa linha são piores que o aleatório, enquanto que acima são modelos melhores que o aleatório. Se um modelo está na ponta superior esquerda, chamada de céu ROC, dizemos que é um modelo perfeito; se está na ponta superior direita ou inferior esqueda, o modelo sempre classificará novos itens como positivos ou negativos, respectivamente; se está na ponta inferior direita, chamada de inferno ROC, esse modelo estará sempre errando. Um fator importante de ser notado é que se um modelo de classificação binária está *sempre* errado, basta invertermos sua predição para que seu desempenho perfeito.\n",
    "\n",
    "<center><img src=\"https://s3-sa-east-1.amazonaws.com/lcpi/f6554123-1ee9-4838-8105-e0e32ab4c412.png\" style=\"width: 300px;\"/></center>\n",
    "\n",
    "Apesar dessa análise gerar uma boa visualização para comparação de diferentes modelos, o processO mais usual é gerar uma curva ROC. Tomemos o seguinte exempplo: apesar da variável resposta ser binária em uma Regressão Logística, sua resposta é dado em um valor *contínuo* entre 0 e 1, que depois é aplicado um limiar de corte para definir se aquele caso pertence a classe positiva ou negativa; logo, temos um valor de TVP e TFP para cada ponto limiar, gerando assim uma curva para cada modelo de classificação, no formato das curvas na próxima figura.\n",
    "\n",
    "<center><img src=\"https://s3-sa-east-1.amazonaws.com/lcpi/f1b7f22d-1f3b-460c-b53f-7f605e5d1bc9.png\" style=\"width: 300px;\"/></center>\n",
    "\n",
    "Quando não há interseções entre as curvas de dois modelos, signica que o modelo que possui sua curva mais próxima do céu ROC é o que oferece melhor desempenho. Ao existir cruzamentos, cada um terá um desempenho melhor que o outro de acordo com a região. Entrentao, o mais comum é trazer a **área abaixo da curva ROC (AUC-ROC)** para cada modelo e compará-los com essa medida única, que é compreendida enre 0 e 1. Valores próximos de 1 são considerados os melhores; valores próximos a 0,5 são considerados aleatórios."
   ]
  },
  {
   "cell_type": "code",
   "execution_count": 72,
   "id": "fbfd7b14",
   "metadata": {},
   "outputs": [],
   "source": [
    "from sklearn.metrics import roc_auc_score, plot_roc_curve\n",
    "from sklearn.preprocessing import LabelEncoder\n"
   ]
  },
  {
   "cell_type": "code",
   "execution_count": 73,
   "id": "6d5ec62b",
   "metadata": {},
   "outputs": [],
   "source": [
    "df = pd.read_csv('dados/iris.csv')\n",
    "df = df[df.species != 'setosa']"
   ]
  },
  {
   "cell_type": "code",
   "execution_count": 74,
   "id": "e6e3b520",
   "metadata": {},
   "outputs": [
    {
     "data": {
      "text/plain": [
       "versicolor    50\n",
       "virginica     50\n",
       "Name: species, dtype: int64"
      ]
     },
     "execution_count": 74,
     "metadata": {},
     "output_type": "execute_result"
    }
   ],
   "source": [
    "df.species.value_counts()"
   ]
  },
  {
   "cell_type": "code",
   "execution_count": 75,
   "id": "220af993",
   "metadata": {},
   "outputs": [],
   "source": [
    "df_treino, df_teste = train_test_split(df, test_size = 0.2, random_state = 5)\n",
    "\n",
    "var_expl = ['sepal_length', 'sepal_width', 'petal_length', 'petal_width']\n",
    "var_resp = 'species'\n",
    "\n",
    "x_treino = df_treino[var_expl]\n",
    "x_teste = df_teste[var_expl]\n",
    "\n",
    "y_treino = df_treino[var_resp]\n",
    "y_teste = df_teste[var_resp]\n",
    "\n",
    "le = LabelEncoder()\n",
    "le.fit(y_treino)\n",
    "\n",
    "y_treino = le.transform(y_treino)\n",
    "y_teste = le.transform(y_teste)"
   ]
  },
  {
   "cell_type": "code",
   "execution_count": 76,
   "id": "750bd0bb",
   "metadata": {},
   "outputs": [
    {
     "data": {
      "text/plain": [
       "array(['versicolor', 'virginica'], dtype=object)"
      ]
     },
     "execution_count": 76,
     "metadata": {},
     "output_type": "execute_result"
    }
   ],
   "source": [
    "le.classes_"
   ]
  },
  {
   "cell_type": "code",
   "execution_count": 77,
   "id": "10cc6168",
   "metadata": {},
   "outputs": [],
   "source": [
    "modelo = KNeighborsClassifier(5)\n",
    "modelo.fit(x_treino, y_treino)\n",
    "\n",
    "y_teste_pred = modelo.predict(x_teste)"
   ]
  },
  {
   "cell_type": "code",
   "execution_count": 78,
   "id": "dcf3103a",
   "metadata": {},
   "outputs": [
    {
     "data": {
      "text/plain": [
       "0.8901098901098902"
      ]
     },
     "execution_count": 78,
     "metadata": {},
     "output_type": "execute_result"
    }
   ],
   "source": [
    "roc_auc_score(y_teste, y_teste_pred)"
   ]
  },
  {
   "cell_type": "code",
   "execution_count": 79,
   "id": "996cb7e7",
   "metadata": {},
   "outputs": [],
   "source": [
    "y_teste_pred = modelo.predict_proba(x_teste)[:, 1]"
   ]
  },
  {
   "cell_type": "code",
   "execution_count": 80,
   "id": "3a8f1ea5",
   "metadata": {},
   "outputs": [
    {
     "data": {
      "text/plain": [
       "0.978021978021978"
      ]
     },
     "execution_count": 80,
     "metadata": {},
     "output_type": "execute_result"
    }
   ],
   "source": [
    "roc_auc_score(y_teste, y_teste_pred)"
   ]
  },
  {
   "cell_type": "code",
   "execution_count": 81,
   "id": "0bdcdd4f",
   "metadata": {},
   "outputs": [
    {
     "data": {
      "text/plain": [
       "<sklearn.metrics._plot.roc_curve.RocCurveDisplay at 0x1488e00a0>"
      ]
     },
     "execution_count": 81,
     "metadata": {},
     "output_type": "execute_result"
    },
    {
     "data": {
      "image/png": "[encoded data removed]",
      "text/plain": [
       "<Figure size 432x288 with 1 Axes>"
      ]
     },
     "metadata": {
      "needs_background": "light"
     },
     "output_type": "display_data"
    }
   ],
   "source": [
    "plot_roc_curve(modelo, x_teste, y_teste)"
   ]
  }
 ],
 "metadata": {
  "hide_input": false,
  "kernelspec": {
   "display_name": "Python 3 (ipykernel)",
   "language": "python",
   "name": "python3"
  },
  "language_info": {
   "codemirror_mode": {
    "name": "ipython",
    "version": 3
   },
   "file_extension": ".py",
   "mimetype": "text/x-python",
   "name": "python",
   "nbconvert_exporter": "python",
   "pygments_lexer": "ipython3",
   "version": "3.9.7"
  }
 },
 "nbformat": 4,
 "nbformat_minor": 5
}
