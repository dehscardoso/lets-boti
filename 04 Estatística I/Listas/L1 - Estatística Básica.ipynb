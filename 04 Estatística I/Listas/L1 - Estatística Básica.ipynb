{
 "cells": [
  {
   "cell_type": "markdown",
   "id": "bf41096b",
   "metadata": {
    "id": "bf41096b"
   },
   "source": [
    "# Exercícios - Estatística I"
   ]
  },
  {
   "cell_type": "markdown",
   "id": "dc9efb9e",
   "metadata": {
    "id": "dc9efb9e"
   },
   "source": [
    "### Questão 1"
   ]
  },
  {
   "cell_type": "markdown",
   "id": "f0f7505b",
   "metadata": {
    "id": "f0f7505b"
   },
   "source": [
    "Os exercícios de 1 a 5 serão desenvolvidos utilizando o _dataset_ `Titanic.csv`:\n",
    "    \n",
    "Calcule a frequência absoluta para os sobreviventes no _Titanic_.\n",
    "\n",
    "__Dica.:__ Utilize a função `.value_counts()`"
   ]
  },
  {
   "cell_type": "markdown",
   "id": "02cce555",
   "metadata": {
    "id": "02cce555"
   },
   "source": [
    "Carregando as principais bibliotecas que iremos utilizar:"
   ]
  },
  {
   "cell_type": "code",
   "execution_count": 26,
   "id": "35fab489",
   "metadata": {
    "ExecuteTime": {
     "end_time": "2021-10-08T18:56:44.331870Z",
     "start_time": "2021-10-08T18:56:39.679403Z"
    },
    "id": "35fab489"
   },
   "outputs": [],
   "source": [
    "import statistics \n",
    "import numpy as np\n",
    "import pandas as pd\n",
    "import seaborn as sns \n",
    "import matplotlib.pyplot as plt\n",
    "\n",
    "\n",
    "# sns.load_dataset('titanic')"
   ]
  },
  {
   "cell_type": "code",
   "execution_count": 5,
   "id": "21d68928",
   "metadata": {
    "id": "21d68928"
   },
   "outputs": [],
   "source": [
    "titanic_df = pd.read_csv('../Datasets/titanic.csv') "
   ]
  },
  {
   "cell_type": "code",
   "execution_count": 13,
   "id": "4f7a28f1",
   "metadata": {},
   "outputs": [
    {
     "data": {
      "text/plain": [
       "0    549\n",
       "1    342\n",
       "Name: Survived, dtype: int64"
      ]
     },
     "execution_count": 13,
     "metadata": {},
     "output_type": "execute_result"
    }
   ],
   "source": [
    "tabela = titanic_df.Survived.value_counts()\n",
    "tabela"
   ]
  },
  {
   "cell_type": "markdown",
   "id": "70fbcc9a",
   "metadata": {
    "id": "70fbcc9a"
   },
   "source": [
    "### Questão 2"
   ]
  },
  {
   "cell_type": "markdown",
   "id": "26ebb4fc",
   "metadata": {
    "id": "26ebb4fc"
   },
   "source": [
    "Os exercícios de 1 a 5 serão desenvolvidos utilizando o _dataset_ `Titanic.csv`:\n",
    "    \n",
    "Calcule a frequência relativa, relativa percentual e acumulativa para os sobreviventes no _Titanic_.\n",
    "\n",
    "__Dica.:__ Utilize a função `.value_counts()`"
   ]
  },
  {
   "cell_type": "code",
   "execution_count": 15,
   "id": "1b111474",
   "metadata": {
    "id": "1b111474"
   },
   "outputs": [
    {
     "data": {
      "text/html": [
       "<div>\n",
       "<style scoped>\n",
       "    .dataframe tbody tr th:only-of-type {\n",
       "        vertical-align: middle;\n",
       "    }\n",
       "\n",
       "    .dataframe tbody tr th {\n",
       "        vertical-align: top;\n",
       "    }\n",
       "\n",
       "    .dataframe thead th {\n",
       "        text-align: right;\n",
       "    }\n",
       "</style>\n",
       "<table border=\"1\" class=\"dataframe\">\n",
       "  <thead>\n",
       "    <tr style=\"text-align: right;\">\n",
       "      <th></th>\n",
       "      <th>freq</th>\n",
       "      <th>freq_relativa</th>\n",
       "      <th>freq_percentual</th>\n",
       "      <th>freq_acumulada</th>\n",
       "    </tr>\n",
       "  </thead>\n",
       "  <tbody>\n",
       "    <tr>\n",
       "      <th>0</th>\n",
       "      <td>549</td>\n",
       "      <td>0.616</td>\n",
       "      <td>61.6</td>\n",
       "      <td>61.6</td>\n",
       "    </tr>\n",
       "    <tr>\n",
       "      <th>1</th>\n",
       "      <td>342</td>\n",
       "      <td>0.384</td>\n",
       "      <td>38.4</td>\n",
       "      <td>100.0</td>\n",
       "    </tr>\n",
       "  </tbody>\n",
       "</table>\n",
       "</div>"
      ],
      "text/plain": [
       "   freq  freq_relativa  freq_percentual  freq_acumulada\n",
       "0   549          0.616             61.6            61.6\n",
       "1   342          0.384             38.4           100.0"
      ]
     },
     "execution_count": 15,
     "metadata": {},
     "output_type": "execute_result"
    }
   ],
   "source": [
    "tabela = pd.concat([titanic_df.Survived.value_counts(),\n",
    "                       round(titanic_df.Survived.value_counts(normalize = True),3)],\n",
    "                       axis = 1,\n",
    "                       keys = (\"freq\", \"freq_relativa\"))\n",
    "\n",
    "tabela['freq_percentual'] = tabela['freq_relativa']*100\n",
    "tabela['freq_acumulada']  = tabela['freq_percentual'].cumsum()\n",
    "tabela"
   ]
  },
  {
   "cell_type": "markdown",
   "id": "a1490edd",
   "metadata": {
    "id": "a1490edd"
   },
   "source": [
    "### Questão 3"
   ]
  },
  {
   "cell_type": "markdown",
   "id": "045b0f2a",
   "metadata": {
    "id": "045b0f2a"
   },
   "source": [
    "Os exercícios de 1 a 5 serão desenvolvidos utilizando o _dataset_ `Titanic.csv`:\n",
    "    \n",
    "Utilizando a coluna `Age` do _dataset Titanic_, defina as principais métricas estatísticas para essa variável tais como:\n",
    "- Média;\n",
    "- Desvio Padrão;\n",
    "- Mínimo;\n",
    "- Primeiro Quartil;\n",
    "- Segundo Quartil (Mediana);\n",
    "- Terceiro Quartil;\n",
    "- Distância Interquartil (IQR);\n",
    "- Máximo;\n",
    "- Skewness;\n",
    "- Moda."
   ]
  },
  {
   "cell_type": "code",
   "execution_count": 68,
   "id": "70c58f1a",
   "metadata": {
    "id": "70c58f1a"
   },
   "outputs": [
    {
     "name": "stdout",
     "output_type": "stream",
     "text": [
      "Média:  29.69911764705882\n",
      "Mediana:  28.0\n",
      "Desvio Padrão:  14.526497332334044\n",
      "Mínimo:  0.42\n",
      "Máximo:  80.0\n",
      "Primeiro Quartil:  20.125\n",
      "Segundo Quartil (Mediana):  28.0\n",
      "Terceiro Quartil:  38.0\n",
      "Distância Interquartil (IQR):  nan\n",
      "Skewness:  0.38910778230082704\n",
      "Moda:  24.0\n"
     ]
    }
   ],
   "source": [
    "print(\"Média: \", titanic_df.Age.mean())\n",
    "print(\"Mediana: \", titanic_df.Age.median())\n",
    "print(\"Desvio Padrão: \", titanic_df.Age.std())\n",
    "print(\"Mínimo: \", titanic_df.Age.min())\n",
    "print(\"Máximo: \", titanic_df.Age.max())\n",
    "print(\"Primeiro Quartil: \", titanic_df.Age.quantile(0.25))\n",
    "print(\"Segundo Quartil (Mediana): \", titanic_df.Age.quantile(0.50))\n",
    "print(\"Terceiro Quartil: \", titanic_df.Age.quantile(0.75))\n",
    "print(\"Distância Interquartil (IQR): \", stats.iqr(titanic_df.Age))\n",
    "print(\"Skewness: \", titanic_df.Age.skew())\n",
    "print(\"Moda: \" , statistics.mode(titanic_df.Age))"
   ]
  },
  {
   "cell_type": "markdown",
   "id": "0c48d8bc",
   "metadata": {
    "id": "0c48d8bc"
   },
   "source": [
    "### Questão 4"
   ]
  },
  {
   "cell_type": "markdown",
   "id": "02b13cc4",
   "metadata": {
    "id": "02b13cc4"
   },
   "source": [
    "Os exercícios de 1 a 5 serão desenvolvidos utilizando o _dataset_ `Titanic.csv`:\n",
    "    \n",
    "Crie um gráfico da dispersão das idades dos passageiros do _Titanic_ e identifique os pontos onde se encontram a média, mediana e moda das idades."
   ]
  },
  {
   "cell_type": "code",
   "execution_count": 94,
   "id": "379adf78",
   "metadata": {
    "id": "379adf78"
   },
   "outputs": [
    {
     "data": {
      "image/png": "[encoded data removed]",
      "text/plain": [
       "<Figure size 432x288 with 1 Axes>"
      ]
     },
     "metadata": {
      "needs_background": "light"
     },
     "output_type": "display_data"
    }
   ],
   "source": [
    "sns.histplot(titanic_df.Age, alpha=0.2)\n",
    "\n",
    "\n",
    "# plotando a mediana e os quartis\n",
    "plt.axvline(titanic_df.Age.mean(), color=\"orange\", label=\"média\")\n",
    "plt.axvline(titanic_df.Age.quantile(0.5), color=\"red\", label=\"mediana\")\n",
    "plt.axvline(statistics.mode(titanic_df.Age), color=\"blue\", label=\"moda\")\n",
    "\n",
    "plt.title('Distribuição das idades dos passageiros do Titanic')\n",
    "\n",
    "# Cria uma legenda\n",
    "plt.legend()\n",
    "\n",
    "plt.show()"
   ]
  },
  {
   "cell_type": "markdown",
   "id": "43458232",
   "metadata": {
    "id": "43458232"
   },
   "source": [
    "### Questão 5"
   ]
  },
  {
   "cell_type": "markdown",
   "id": "a722484e",
   "metadata": {
    "id": "a722484e"
   },
   "source": [
    "Os exercícios de 1 a 5 serão desenvolvidos utilizando o _dataset_ `Titanic.csv`:\n",
    "    \n",
    "Ainda trabalhando com os valores das idades crie três _Boxplots_:\n",
    "- _Boxplot_ das idades para todos os passageiros;\n",
    "- _Boxplot_ das idades dos passageiros separados pelo sexo.\n",
    "- _Boxplot_ das idades dos passageiros separados pelo sexo e por sobreviventes."
   ]
  },
  {
   "cell_type": "code",
   "execution_count": 79,
   "id": "2924a6b8",
   "metadata": {
    "id": "2924a6b8"
   },
   "outputs": [
    {
     "data": {
      "image/png": "[encoded data removed]",
      "text/plain": [
       "<Figure size 432x288 with 1 Axes>"
      ]
     },
     "metadata": {
      "needs_background": "light"
     },
     "output_type": "display_data"
    }
   ],
   "source": [
    "sns.boxplot(data=titanic_df, x='Age');"
   ]
  },
  {
   "cell_type": "code",
   "execution_count": 82,
   "id": "4c5de5fe",
   "metadata": {},
   "outputs": [
    {
     "data": {
      "image/png": "[encoded data removed]",
      "text/plain": [
       "<Figure size 432x288 with 1 Axes>"
      ]
     },
     "metadata": {
      "needs_background": "light"
     },
     "output_type": "display_data"
    }
   ],
   "source": [
    "sns.boxplot(y=\"Age\", x=\"Sex\", data=titanic_df);"
   ]
  },
  {
   "cell_type": "code",
   "execution_count": 86,
   "id": "58d664a0",
   "metadata": {},
   "outputs": [
    {
     "data": {
      "image/png": "[encoded data removed]",
      "text/plain": [
       "<Figure size 432x288 with 1 Axes>"
      ]
     },
     "metadata": {
      "needs_background": "light"
     },
     "output_type": "display_data"
    }
   ],
   "source": [
    "sns.boxplot(y=\"Age\", x=\"Sex\", hue=\"Survived\", data=titanic_df);"
   ]
  },
  {
   "cell_type": "markdown",
   "id": "d0eda9fb",
   "metadata": {
    "ExecuteTime": {
     "end_time": "2021-10-08T18:58:25.038529Z",
     "start_time": "2021-10-08T18:58:25.027559Z"
    },
    "id": "d0eda9fb"
   },
   "source": [
    "Com o dataset `penguins`, responda as questões abaixo:\n",
    "\n",
    "sns.load_dataset('penguins')"
   ]
  },
  {
   "cell_type": "markdown",
   "id": "9060a1ca",
   "metadata": {
    "id": "9060a1ca"
   },
   "source": [
    "### Questão 6"
   ]
  },
  {
   "cell_type": "markdown",
   "id": "e8e2272c",
   "metadata": {
    "id": "e8e2272c"
   },
   "source": [
    "Classifique o tipo de dado de cada coluna"
   ]
  },
  {
   "cell_type": "code",
   "execution_count": 88,
   "id": "6c8561b5",
   "metadata": {
    "id": "6c8561b5"
   },
   "outputs": [
    {
     "name": "stdout",
     "output_type": "stream",
     "text": [
      "<class 'pandas.core.frame.DataFrame'>\n",
      "RangeIndex: 344 entries, 0 to 343\n",
      "Data columns (total 7 columns):\n",
      " #   Column             Non-Null Count  Dtype  \n",
      "---  ------             --------------  -----  \n",
      " 0   species            344 non-null    object \n",
      " 1   island             344 non-null    object \n",
      " 2   bill_length_mm     342 non-null    float64\n",
      " 3   bill_depth_mm      342 non-null    float64\n",
      " 4   flipper_length_mm  342 non-null    float64\n",
      " 5   body_mass_g        342 non-null    float64\n",
      " 6   sex                333 non-null    object \n",
      "dtypes: float64(4), object(3)\n",
      "memory usage: 18.9+ KB\n"
     ]
    }
   ],
   "source": [
    "data = sns.load_dataset('penguins')\n",
    "\n",
    "data.info()"
   ]
  },
  {
   "cell_type": "markdown",
   "id": "cd8fe357",
   "metadata": {
    "id": "cd8fe357"
   },
   "source": [
    "### Questão 7\n",
    "Calcule a frequência absoluta para cada espécie de pinguim"
   ]
  },
  {
   "cell_type": "code",
   "execution_count": 89,
   "id": "820b61a5",
   "metadata": {
    "id": "820b61a5"
   },
   "outputs": [
    {
     "data": {
      "text/plain": [
       "Adelie       152\n",
       "Gentoo       124\n",
       "Chinstrap     68\n",
       "Name: species, dtype: int64"
      ]
     },
     "execution_count": 89,
     "metadata": {},
     "output_type": "execute_result"
    }
   ],
   "source": [
    "tabela = data.species.value_counts()\n",
    "tabela"
   ]
  },
  {
   "cell_type": "markdown",
   "id": "620b2761",
   "metadata": {
    "ExecuteTime": {
     "end_time": "2021-10-08T19:01:38.859000Z",
     "start_time": "2021-10-08T19:01:38.844322Z"
    },
    "id": "620b2761"
   },
   "source": [
    "### Questão 8\n",
    "Calcule a frequência relativa, relativa percentual e acumulativa para os sobreviventes das espécies."
   ]
  },
  {
   "cell_type": "code",
   "execution_count": 90,
   "id": "4e52e2ba",
   "metadata": {
    "id": "4e52e2ba"
   },
   "outputs": [
    {
     "data": {
      "text/html": [
       "<div>\n",
       "<style scoped>\n",
       "    .dataframe tbody tr th:only-of-type {\n",
       "        vertical-align: middle;\n",
       "    }\n",
       "\n",
       "    .dataframe tbody tr th {\n",
       "        vertical-align: top;\n",
       "    }\n",
       "\n",
       "    .dataframe thead th {\n",
       "        text-align: right;\n",
       "    }\n",
       "</style>\n",
       "<table border=\"1\" class=\"dataframe\">\n",
       "  <thead>\n",
       "    <tr style=\"text-align: right;\">\n",
       "      <th></th>\n",
       "      <th>freq</th>\n",
       "      <th>freq_relativa</th>\n",
       "      <th>freq_percentual</th>\n",
       "      <th>freq_acumulada</th>\n",
       "    </tr>\n",
       "  </thead>\n",
       "  <tbody>\n",
       "    <tr>\n",
       "      <th>Adelie</th>\n",
       "      <td>152</td>\n",
       "      <td>0.442</td>\n",
       "      <td>44.2</td>\n",
       "      <td>44.2</td>\n",
       "    </tr>\n",
       "    <tr>\n",
       "      <th>Gentoo</th>\n",
       "      <td>124</td>\n",
       "      <td>0.360</td>\n",
       "      <td>36.0</td>\n",
       "      <td>80.2</td>\n",
       "    </tr>\n",
       "    <tr>\n",
       "      <th>Chinstrap</th>\n",
       "      <td>68</td>\n",
       "      <td>0.198</td>\n",
       "      <td>19.8</td>\n",
       "      <td>100.0</td>\n",
       "    </tr>\n",
       "  </tbody>\n",
       "</table>\n",
       "</div>"
      ],
      "text/plain": [
       "           freq  freq_relativa  freq_percentual  freq_acumulada\n",
       "Adelie      152          0.442             44.2            44.2\n",
       "Gentoo      124          0.360             36.0            80.2\n",
       "Chinstrap    68          0.198             19.8           100.0"
      ]
     },
     "execution_count": 90,
     "metadata": {},
     "output_type": "execute_result"
    }
   ],
   "source": [
    "tabela = pd.concat([data.species.value_counts(),\n",
    "                       round(data.species.value_counts(normalize = True),3)],\n",
    "                       axis = 1,\n",
    "                       keys = (\"freq\", \"freq_relativa\"))\n",
    "\n",
    "tabela['freq_percentual'] = tabela['freq_relativa']*100\n",
    "tabela['freq_acumulada']  = tabela['freq_percentual'].cumsum()\n",
    "tabela"
   ]
  },
  {
   "cell_type": "markdown",
   "id": "8c784572",
   "metadata": {
    "id": "8c784572"
   },
   "source": [
    "### Questão 9\n",
    "Utilizando a coluna `body_mass_g` do dataset Penguins, defina as principais métricas estatísticas para essa variável tais como:\n",
    "\n",
    "- Média;\n",
    "- Desvio Padrão;\n",
    "- Mínimo;\n",
    "- Primeiro Quartil;\n",
    "- Segundo Quartil (Mediana);\n",
    "- Terceiro Quartil;\n",
    "- Distância Interquartil (IQR);\n",
    "- Máximo;\n",
    "- Skewness;\n",
    "- Moda."
   ]
  },
  {
   "cell_type": "code",
   "execution_count": 91,
   "id": "5e1dfb80",
   "metadata": {},
   "outputs": [
    {
     "name": "stdout",
     "output_type": "stream",
     "text": [
      "Média:  4201.754385964912\n",
      "Mediana:  4050.0\n",
      "Desvio Padrão:  801.9545356980954\n",
      "Mínimo:  2700.0\n",
      "Máximo:  6300.0\n",
      "Primeiro Quartil:  3550.0\n",
      "Segundo Quartil (Mediana):  4050.0\n",
      "Terceiro Quartil:  4750.0\n",
      "Distância Interquartil (IQR):  nan\n",
      "Skewness:  0.470329330480123\n",
      "Moda:  3800.0\n"
     ]
    }
   ],
   "source": [
    "print(\"Média: \", data.body_mass_g.mean())\n",
    "print(\"Mediana: \", data.body_mass_g.median())\n",
    "print(\"Desvio Padrão: \", data.body_mass_g.std())\n",
    "print(\"Mínimo: \", data.body_mass_g.min())\n",
    "print(\"Máximo: \", data.body_mass_g.max())\n",
    "print(\"Primeiro Quartil: \", data.body_mass_g.quantile(0.25))\n",
    "print(\"Segundo Quartil (Mediana): \", data.body_mass_g.quantile(0.50))\n",
    "print(\"Terceiro Quartil: \", data.body_mass_g.quantile(0.75))\n",
    "print(\"Distância Interquartil (IQR): \", stats.iqr(data.body_mass_g))\n",
    "print(\"Skewness: \", data.body_mass_g.skew())\n",
    "print(\"Moda: \" , statistics.mode(data.body_mass_g))"
   ]
  },
  {
   "cell_type": "markdown",
   "id": "13c53261",
   "metadata": {
    "id": "13c53261"
   },
   "source": [
    "### Questão 10\n",
    "Crie um gráfico da dispersão da massa dos pinguins e identifique os pontos onde se encontram a média, mediana e moda das idades."
   ]
  },
  {
   "cell_type": "code",
   "execution_count": 95,
   "id": "10ac9d4d",
   "metadata": {
    "id": "10ac9d4d"
   },
   "outputs": [
    {
     "data": {
      "image/png": "[encoded data removed]",
      "text/plain": [
       "<Figure size 432x288 with 1 Axes>"
      ]
     },
     "metadata": {
      "needs_background": "light"
     },
     "output_type": "display_data"
    }
   ],
   "source": [
    "sns.histplot(data.body_mass_g, alpha=0.2)\n",
    "\n",
    "\n",
    "# plotando a mediana e os quartis\n",
    "plt.axvline(data.body_mass_g.mean(), color=\"orange\", label=\"média\")\n",
    "plt.axvline(data.body_mass_g.quantile(0.5), color=\"red\", label=\"mediana\")\n",
    "plt.axvline(statistics.mode(data.body_mass_g), color=\"blue\", label=\"moda\")\n",
    "\n",
    "plt.title('Distribuição da massa dos peguins')\n",
    "\n",
    "# Cria uma legenda\n",
    "plt.legend()\n",
    "\n",
    "plt.show()"
   ]
  },
  {
   "cell_type": "markdown",
   "id": "312a2d79",
   "metadata": {
    "ExecuteTime": {
     "end_time": "2021-10-08T19:07:27.672797Z",
     "start_time": "2021-10-08T19:07:27.657230Z"
    },
    "id": "312a2d79"
   },
   "source": [
    "### Questão 11\n",
    "Ainda trabalhando com os valores das massas dos pinguins crie três Boxplots:\n",
    "\n",
    "- Boxplot das massas para todos os pinguins\n",
    "- Boxplot das massas dos pinguins separados pelo sexo.\n",
    "- Boxplot das massas dos pinguins separados pelo sexo e pela espécies."
   ]
  },
  {
   "cell_type": "code",
   "execution_count": 96,
   "id": "c82a0953",
   "metadata": {
    "id": "c82a0953"
   },
   "outputs": [
    {
     "data": {
      "image/png": "[encoded data removed]",
      "text/plain": [
       "<Figure size 432x288 with 1 Axes>"
      ]
     },
     "metadata": {
      "needs_background": "light"
     },
     "output_type": "display_data"
    }
   ],
   "source": [
    "sns.boxplot(data=data, x='body_mass_g');"
   ]
  },
  {
   "cell_type": "code",
   "execution_count": 97,
   "id": "ca51d6ff",
   "metadata": {},
   "outputs": [
    {
     "data": {
      "image/png": "[encoded data removed]",
      "text/plain": [
       "<Figure size 432x288 with 1 Axes>"
      ]
     },
     "metadata": {
      "needs_background": "light"
     },
     "output_type": "display_data"
    }
   ],
   "source": [
    "sns.boxplot(y=\"body_mass_g\", x=\"sex\", data=data);"
   ]
  },
  {
   "cell_type": "code",
   "execution_count": 98,
   "id": "2bd2add9",
   "metadata": {},
   "outputs": [
    {
     "data": {
      "image/png": "[encoded data removed]",
      "text/plain": [
       "<Figure size 432x288 with 1 Axes>"
      ]
     },
     "metadata": {
      "needs_background": "light"
     },
     "output_type": "display_data"
    }
   ],
   "source": [
    "sns.boxplot(y=\"body_mass_g\", x=\"sex\", hue=\"species\", data=data);"
   ]
  },
  {
   "cell_type": "markdown",
   "id": "477e963c",
   "metadata": {},
   "source": [
    "---"
   ]
  }
 ],
 "metadata": {
  "colab": {
   "name": "L1 - Estatística Básica.ipynb",
   "provenance": []
  },
  "hide_input": false,
  "kernelspec": {
   "display_name": "Python 3 (ipykernel)",
   "language": "python",
   "name": "python3"
  },
  "language_info": {
   "codemirror_mode": {
    "name": "ipython",
    "version": 3
   },
   "file_extension": ".py",
   "mimetype": "text/x-python",
   "name": "python",
   "nbconvert_exporter": "python",
   "pygments_lexer": "ipython3",
   "version": "3.9.7"
  },
  "varInspector": {
   "cols": {
    "lenName": 16,
    "lenType": 16,
    "lenVar": 40
   },
   "kernels_config": {
    "python": {
     "delete_cmd_postfix": "",
     "delete_cmd_prefix": "del ",
     "library": "var_list.py",
     "varRefreshCmd": "print(var_dic_list())"
    },
    "r": {
     "delete_cmd_postfix": ") ",
     "delete_cmd_prefix": "rm(",
     "library": "var_list.r",
     "varRefreshCmd": "cat(var_dic_list()) "
    }
   },
   "types_to_exclude": [
    "module",
    "function",
    "builtin_function_or_method",
    "instance",
    "_Feature"
   ],
   "window_display": false
  }
 },
 "nbformat": 4,
 "nbformat_minor": 5
}
