{
 "cells": [
  {
   "cell_type": "markdown",
   "id": "615f2026",
   "metadata": {
    "id": "615f2026"
   },
   "source": [
    "# Exercícios - Estatística"
   ]
  },
  {
   "cell_type": "markdown",
   "id": "b3fd867e",
   "metadata": {
    "id": "b3fd867e"
   },
   "source": [
    "### Questão 1"
   ]
  },
  {
   "cell_type": "markdown",
   "id": "1a47d0ed",
   "metadata": {
    "id": "1a47d0ed"
   },
   "source": [
    "Uma relação bem importante entre uma população e uma amostra, é que uma amostra pode ser significativa daquela população (ou seja, podemos inferir que a média e variância da amostra será bem próximo do valor real da população), isto quando essa amostra for grande o suficiente para isso. Vamos fazer algumas simulações utilizando o _Python_ para testar esses conceitos, resolvendo os itens a seguir:\n",
    "\n",
    "__A)__ Crie uma lista com número aleatórios entre 20 e 50 e que essa lista contenha 1 milhão de elementos;\n",
    "\n",
    "__B)__ Calcule a média e a variância para essa lista;\n",
    "\n",
    "__C)__ Faça amostra aleatórias de diversos tamanhos (10, 100, 1.000 e 10.000 elementos) e calcule as mesmas métricas que o item anterior, para avaliar o conceito proposto no enunciado"
   ]
  },
  {
   "cell_type": "code",
   "execution_count": 6,
   "id": "0e93f872",
   "metadata": {
    "id": "0e93f872"
   },
   "outputs": [],
   "source": [
    "import numpy as np\n",
    "\n",
    "np.random.seed(42)"
   ]
  },
  {
   "cell_type": "code",
   "execution_count": 10,
   "id": "de311923",
   "metadata": {},
   "outputs": [
    {
     "name": "stdout",
     "output_type": "stream",
     "text": [
      "Média dos dados: 34.484287\n",
      "Variância:  74.85549110163103\n"
     ]
    }
   ],
   "source": [
    "amostra = np.random.randint(20,50,1000000)\n",
    "\n",
    "print(\"Média dos dados:\", amostra.mean())\n",
    "print(\"Variância: \", np.var(amostra))"
   ]
  },
  {
   "cell_type": "code",
   "execution_count": 11,
   "id": "4cf1b9a0",
   "metadata": {},
   "outputs": [
    {
     "name": "stdout",
     "output_type": "stream",
     "text": [
      "Média dos dados: 35.5\n",
      "Variância:  76.25\n"
     ]
    }
   ],
   "source": [
    "amostra = np.random.randint(20,50,10)\n",
    "\n",
    "print(\"Média dos dados:\", amostra.mean())\n",
    "print(\"Variância: \", np.var(amostra))"
   ]
  },
  {
   "cell_type": "code",
   "execution_count": 12,
   "id": "07e9032b",
   "metadata": {},
   "outputs": [
    {
     "name": "stdout",
     "output_type": "stream",
     "text": [
      "Média dos dados: 35.04\n",
      "Variância:  55.998400000000004\n"
     ]
    }
   ],
   "source": [
    "amostra = np.random.randint(20,50,100)\n",
    "\n",
    "print(\"Média dos dados:\", amostra.mean())\n",
    "print(\"Variância: \", np.var(amostra))"
   ]
  },
  {
   "cell_type": "code",
   "execution_count": 13,
   "id": "6d337674",
   "metadata": {},
   "outputs": [
    {
     "name": "stdout",
     "output_type": "stream",
     "text": [
      "Média dos dados: 34.809\n",
      "Variância:  74.332519\n"
     ]
    }
   ],
   "source": [
    "amostra = np.random.randint(20,50,1000)\n",
    "\n",
    "print(\"Média dos dados:\", amostra.mean())\n",
    "print(\"Variância: \", np.var(amostra))"
   ]
  },
  {
   "cell_type": "code",
   "execution_count": 14,
   "id": "3de703f1",
   "metadata": {},
   "outputs": [
    {
     "name": "stdout",
     "output_type": "stream",
     "text": [
      "Média dos dados: 34.4857\n",
      "Variância:  74.32479551000002\n"
     ]
    }
   ],
   "source": [
    "amostra = np.random.randint(20,50,10000)\n",
    "\n",
    "print(\"Média dos dados:\", amostra.mean())\n",
    "print(\"Variância: \", np.var(amostra))"
   ]
  },
  {
   "cell_type": "markdown",
   "id": "3502aea3",
   "metadata": {
    "id": "3502aea3"
   },
   "source": [
    "### Questão 2"
   ]
  },
  {
   "cell_type": "markdown",
   "id": "97416ea6",
   "metadata": {
    "id": "97416ea6"
   },
   "source": [
    "Neste exercício vamos demonstrar a importância de uma amostragem estratificada quando temos grupos significantes dentro da população. Faça os seguintes itens:\n",
    "\n",
    "__A)__ Crie 3 listas de números aleatórios sendo elas:\n",
    "    - uma lista com números aleatórios entre 40 e 50 contendo 10.000 elementos;\n",
    "    - uma lista com números aleatórios entre 10 e 20 contendo 6.000 elementos;\n",
    "    - uma lista com números aleatórios entre 80 e 90 contendo 4.000 elementos.\n",
    "    \n",
    "__B)__ Calcule a média e a variância para cada uma das 3 listas;\n",
    "\n",
    "__C)__ Calcule a média e a variância para a população, onde a população seja as 3 listas juntas;\n",
    "\n",
    "__Dica.:__ Neste caso, temos que trabalhar com média e variância ponderada!\n",
    "\n",
    "__D)__ Una as 3 listas em uma só e retire uma amostra de 1% da lista resultante. Calcule a média e a variância para esta amostra;\n",
    "\n",
    "__E)__ Por fim, faça uma amostra estratificada da seguinte forma: faça uma amostra aleatória de 1% de cada uma das 3 listas e em seguida calcule a média e a variância para a amostra estratificada (será necessário utilizar a média e variância ponderada!).\n",
    "\n",
    "__F)__ Compare o resultado das métricas para a amostra e a amostra estratificada com o valor das métricas da população."
   ]
  },
  {
   "cell_type": "code",
   "execution_count": 31,
   "id": "119245b9",
   "metadata": {
    "id": "119245b9"
   },
   "outputs": [
    {
     "name": "stdout",
     "output_type": "stream",
     "text": [
      "Média da amostra 1: 34.4857\n",
      "Variância da amostra 1:  74.32479551000002\n"
     ]
    }
   ],
   "source": [
    "amostra1 = np.random.randint(40,50,10000)\n",
    "\n",
    "print(\"Média da amostra 1:\", amostra.mean())\n",
    "print(\"Variância da amostra 1: \", np.var(amostra))"
   ]
  },
  {
   "cell_type": "code",
   "execution_count": 32,
   "id": "38bf2285",
   "metadata": {},
   "outputs": [
    {
     "name": "stdout",
     "output_type": "stream",
     "text": [
      "Média da amostra 2: 34.4857\n",
      "Variância da amostra 2:  74.32479551000002\n"
     ]
    }
   ],
   "source": [
    "amostra2 = np.random.randint(10,20,6000)\n",
    "\n",
    "print(\"Média da amostra 2:\", amostra.mean())\n",
    "print(\"Variância da amostra 2: \", np.var(amostra))"
   ]
  },
  {
   "cell_type": "code",
   "execution_count": 33,
   "id": "fa495fd8",
   "metadata": {},
   "outputs": [
    {
     "name": "stdout",
     "output_type": "stream",
     "text": [
      "Média da amostra 3: 34.4857\n",
      "Variância da amostra 3:  74.32479551000002\n"
     ]
    }
   ],
   "source": [
    "amostra3 = np.random.randint(80,90,4000)\n",
    "\n",
    "print(\"Média da amostra 3:\", amostra.mean())\n",
    "print(\"Variância da amostra 3: \", np.var(amostra))"
   ]
  },
  {
   "cell_type": "code",
   "execution_count": 34,
   "id": "526c94fb",
   "metadata": {},
   "outputs": [
    {
     "name": "stdout",
     "output_type": "stream",
     "text": [
      "Média da população: 43.50325\n",
      "Variância da população:  596.6394894375\n"
     ]
    }
   ],
   "source": [
    "populacao = np.concatenate([amostra1, amostra2, amostra3])\n",
    "\n",
    "print(\"Média da população:\", populacao.mean())\n",
    "print(\"Variância da população: \", np.var(populacao))"
   ]
  },
  {
   "cell_type": "code",
   "execution_count": 35,
   "id": "4c22a68b",
   "metadata": {},
   "outputs": [
    {
     "name": "stdout",
     "output_type": "stream",
     "text": [
      "Tamanho da população:  20000\n",
      "Amostra de 1%:  200.0\n",
      "Média da amostra: 43.50325\n",
      "Variância da amostra:  596.6394894375\n"
     ]
    }
   ],
   "source": [
    "print(\"Tamanho da população: \", len(populacao))\n",
    "print(\"Amostra de 1%: \", len(populacao) * 0.01)\n",
    "\n",
    "amostra_pop = np.random.choice(populacao, 200)\n",
    "print(\"Média da amostra:\", populacao.mean())\n",
    "print(\"Variância da amostra: \", np.var(populacao))"
   ]
  },
  {
   "cell_type": "code",
   "execution_count": 38,
   "id": "d879e6b8",
   "metadata": {},
   "outputs": [
    {
     "name": "stdout",
     "output_type": "stream",
     "text": [
      "Média da população: 43.315\n",
      "Variância da população:  583.1257750000001\n"
     ]
    }
   ],
   "source": [
    "amostra_estra1 = np.random.choice(amostra1, 100)\n",
    "amostra_estra2 = np.random.choice(amostra2, 60)\n",
    "amostra_estra3 = np.random.choice(amostra3, 40)\n",
    "\n",
    "populacao_amostras = np.concatenate([amostra_estra1, amostra_estra2, amostra_estra3])\n",
    "\n",
    "print(\"Média da população:\", populacao_amostras.mean())\n",
    "print(\"Variância da população: \", np.var(populacao_amostras))"
   ]
  },
  {
   "cell_type": "markdown",
   "id": "2e3a7b3a",
   "metadata": {
    "id": "2e3a7b3a"
   },
   "source": [
    "### Questão 3"
   ]
  },
  {
   "cell_type": "markdown",
   "id": "8d8b9db9",
   "metadata": {
    "id": "8d8b9db9"
   },
   "source": [
    " Uma máquina de sorvete está regulada de modo a servir uma média de 120g por casquinha. Se a quantidade servida por casquinha seguir uma distribuição normal com desvio padrão de 18g, determine a porcentagem de casquinhas que conterão mais de 150g de sorvete."
   ]
  },
  {
   "cell_type": "code",
   "execution_count": 37,
   "id": "3b3ff14e",
   "metadata": {
    "id": "3b3ff14e"
   },
   "outputs": [
    {
     "data": {
      "text/plain": [
       "60.0"
      ]
     },
     "execution_count": 37,
     "metadata": {},
     "output_type": "execute_result"
    }
   ],
   "source": []
  },
  {
   "cell_type": "markdown",
   "id": "18951732",
   "metadata": {
    "id": "18951732"
   },
   "source": [
    "### Questão 4"
   ]
  },
  {
   "cell_type": "markdown",
   "id": "91d33a4a",
   "metadata": {
    "id": "91d33a4a"
   },
   "source": [
    "O peso médio de 500 estudantes do sexo masculino de uma determinada universidade é 71 Kg e o desvio padrão é 5,3 Kg. Admitindo que os pesos são normalmente distribuídos, determine a porcentagem de estudantes que pesam entre 65 e 72,5 kg"
   ]
  },
  {
   "cell_type": "code",
   "execution_count": null,
   "id": "9dcf53ee",
   "metadata": {
    "id": "9dcf53ee"
   },
   "outputs": [],
   "source": []
  },
  {
   "cell_type": "markdown",
   "id": "49a54c36",
   "metadata": {
    "id": "49a54c36"
   },
   "source": [
    "### Questão 5"
   ]
  },
  {
   "cell_type": "markdown",
   "id": "ad7af421",
   "metadata": {
    "id": "ad7af421"
   },
   "source": [
    "Uma fábrica anuncia que o índice de cafeína em um refrigerante de uma dada marca é igual a 20 mg por lata. Um laboratório realiza 20 análises do índice obtendo: 22, 19, 21, 22, 20, 18, 27, 20, 21, 19, 20, 22, 17, 20, 21,18, 25, 16, 20, 21. Sabe-se que o índice de cafeína do refrigerante dessa marca se distribui normalmente com variância 4 mg$^2$. Pode-se aceitar a afirmação do fabricante, ao nível de 5%?"
   ]
  },
  {
   "cell_type": "code",
   "execution_count": null,
   "id": "46281c0d",
   "metadata": {
    "id": "46281c0d"
   },
   "outputs": [],
   "source": []
  }
 ],
 "metadata": {
  "colab": {
   "name": "L3 - Estatística II.ipynb",
   "provenance": []
  },
  "hide_input": false,
  "kernelspec": {
   "display_name": "Python 3 (ipykernel)",
   "language": "python",
   "name": "python3"
  },
  "language_info": {
   "codemirror_mode": {
    "name": "ipython",
    "version": 3
   },
   "file_extension": ".py",
   "mimetype": "text/x-python",
   "name": "python",
   "nbconvert_exporter": "python",
   "pygments_lexer": "ipython3",
   "version": "3.9.7"
  },
  "varInspector": {
   "cols": {
    "lenName": 16,
    "lenType": 16,
    "lenVar": 40
   },
   "kernels_config": {
    "python": {
     "delete_cmd_postfix": "",
     "delete_cmd_prefix": "del ",
     "library": "var_list.py",
     "varRefreshCmd": "print(var_dic_list())"
    },
    "r": {
     "delete_cmd_postfix": ") ",
     "delete_cmd_prefix": "rm(",
     "library": "var_list.r",
     "varRefreshCmd": "cat(var_dic_list()) "
    }
   },
   "types_to_exclude": [
    "module",
    "function",
    "builtin_function_or_method",
    "instance",
    "_Feature"
   ],
   "window_display": false
  }
 },
 "nbformat": 4,
 "nbformat_minor": 5
}
