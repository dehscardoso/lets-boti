{
 "cells": [
  {
   "cell_type": "markdown",
   "id": "d97b65a6",
   "metadata": {},
   "source": [
    "# Modelos Probabilísticos"
   ]
  },
  {
   "cell_type": "code",
   "execution_count": 2,
   "id": "46d88435",
   "metadata": {
    "ExecuteTime": {
     "end_time": "2021-12-03T08:02:49.645714Z",
     "start_time": "2021-12-03T08:02:49.630142Z"
    }
   },
   "outputs": [],
   "source": [
    "#Bibliotecas utilizadas\n",
    "import matplotlib.pyplot as plt\n",
    "import seaborn as sns\n",
    "import numpy as np\n",
    "import math\n",
    "from scipy import stats"
   ]
  },
  {
   "cell_type": "markdown",
   "id": "ea3ac378",
   "metadata": {},
   "source": [
    "## Variável aleatória\n",
    "\n",
    "Uma quantidade X, associado a cada possível resultado do espaço amostral é denominado de **variável aleatória discreta** se assume valores num conjunto enumerável, com certa probabilidade. Por outro lado será denominado **variável aleatória contínua** se seu conjunto de valores é qualquer intervalo dos números reais.\n",
    "\n",
    "Exemplo:\n",
    "\n",
    "1) Lançamento de 2 moedas simultâneas\n",
    "\n",
    "Espaço amostral: S={ (cara, cara), (cara, coroa), (coroa, coroa), (coroa, cara) }\n",
    "\n",
    "A variável aleatória X é o número de caras\n",
    "\n",
    "| Ponto Amostral | X |\n",
    "|----------------|---|\n",
    "| (cara, cara)   | 2 |\n",
    "| (cara, coroa)  | 1 |\n",
    "| (coroa, cara)  | 1 |\n",
    "| (coroa, coroa) | 0 |"
   ]
  },
  {
   "cell_type": "markdown",
   "id": "2ce26aa2",
   "metadata": {},
   "source": [
    "2) Considere a dsitribuição de frequências relativa ao número de acidentes diários em um estacionamento:\n",
    "\n",
    "espaço amostral: S = {nenhum acidente, 1 acidente, 2 acidentes, 3 acidentes}\n",
    "\n",
    "| Número de acidentes | Frequências |\n",
    "|---------------------|-------------|\n",
    "| 0                   | 22          |\n",
    "| 1                   | 5           |\n",
    "| 2                   | 2           |\n",
    "| 3                   | 1           |\n",
    "\n",
    "Em um dia a probabilidade de:\n",
    "\n",
    "- não ocorrer acidente é:\n",
    "    \n",
    "    p = 22/30 = 0.73\n",
    "    \n",
    "- ocorrer 1 acidente é:\n",
    "\n",
    "    p = 5/30 = 0.17\n",
    "    \n",
    "- ocorrer 2 acidentes é:\n",
    " \n",
    "     p = 2/30 = 0.07\n",
    "     \n",
    "- ocorrer 3 acidentes é:\n",
    "\n",
    "    p = 1/30 = 0.03\n",
    "    \n",
    "    \n",
    "| Número de acidentes | Probabilidades |\n",
    "|---------------------|----------------|\n",
    "| 0                   | 0.73           |\n",
    "| 1                   | 0.17           |\n",
    "| 2                   | 0.07           |\n",
    "| 3                   | 0.03           |\n",
    "|                     | **Soma = 1**   |\n",
    "\n",
    "Essa tabela é denominada **distribuição de probabilidade**\n",
    "\n",
    "\n",
    "Relação entre a variável aleatória X e os valores da variável P. Essa função é denominada probabilidade:\n",
    "  \n",
    "**f(xi) = P(X = xi)**\n",
    "  \n",
    "A função P(X = xi) determina a distribuição de probabilidade da variável aleatória X."
   ]
  },
  {
   "cell_type": "markdown",
   "id": "e11ae13b",
   "metadata": {},
   "source": [
    "Voltando no exemplo das moedas:\n",
    "\n",
    "Espaço amostral de uma moeda S={cara, coroa}   \n",
    "Qual a probabilidade de aparecer uma cara p = 1/2\n",
    "\n",
    "Espaço amostral de 2 moedas S={ (cara, cara), (cara, coroa), (coroa, coroa), (coroa, cara) }\n",
    "Qual a probabilidade de aparecer (cara, cara) p = 1/4\n",
    "\n",
    "    \n",
    "| Ponto Amostral | X | P(X)            |\n",
    "|----------------|---|-----------------|\n",
    "| (cara, cara)   | 2 |  1/4 ou 1/2* 1/2=1/4|\n",
    "| (cara, coroa)  | 1 |  1/4           |\n",
    "| (coroa, cara)  | 1 |  1/4            |\n",
    "| (coroa, coroa) | 0 |  1/4            |\n",
    "|                |   |                 |\n",
    "\n",
    "Essa tabela é a distribuição de probabilidade:\n",
    "\n",
    "| Número de caras | X        |\n",
    "|-----------------|----------|\n",
    "| 2               |  1/4     |\n",
    "| 1               |  2/4=1/2  |\n",
    "| 0               |  1/4    |\n",
    "|                 | **soma = 1** |"
   ]
  },
  {
   "cell_type": "markdown",
   "id": "7ebfdb6c",
   "metadata": {},
   "source": [
    "Represetação gráfica da tabela de distribuição de probabilidade"
   ]
  },
  {
   "cell_type": "code",
   "execution_count": 101,
   "id": "64bfea9b",
   "metadata": {
    "ExecuteTime": {
     "end_time": "2021-12-03T21:49:58.092250Z",
     "start_time": "2021-12-03T21:49:57.709595Z"
    },
    "scrolled": true
   },
   "outputs": [
    {
     "data": {
      "text/plain": [
       "(2.4, 2.4)"
      ]
     },
     "execution_count": 101,
     "metadata": {},
     "output_type": "execute_result"
    },
    {
     "data": {
      "image/png": "[encoded data removed]",
      "text/plain": [
       "<Figure size 432x288 with 1 Axes>"
      ]
     },
     "metadata": {
      "needs_background": "light"
     },
     "output_type": "display_data"
    }
   ],
   "source": []
  },
  {
   "cell_type": "code",
   "execution_count": 105,
   "id": "6b41fe34",
   "metadata": {
    "ExecuteTime": {
     "end_time": "2021-12-03T21:49:58.092250Z",
     "start_time": "2021-12-03T21:49:57.709595Z"
    },
    "scrolled": true
   },
   "outputs": [
    {
     "data": {
      "image/png": "[encoded data removed]",
      "text/plain": [
       "<Figure size 432x288 with 1 Axes>"
      ]
     },
     "metadata": {
      "needs_background": "light"
     },
     "output_type": "display_data"
    }
   ],
   "source": [
    "plt.bar(x=[0,1,2], height=[1/4,1/2,1/4])\n",
    "plt.title('Distribuição de Probabilidade do lançamento de 2 moedas simultaneamente')\n",
    "plt.ylabel('Probabilidade')\n",
    "plt.xlabel('Variável Aleatória')\n",
    "#plt.ylim(.1,)\n",
    "plt.show()"
   ]
  },
  {
   "cell_type": "markdown",
   "id": "13135654",
   "metadata": {},
   "source": [
    "Experimento que mostra a distribuição de probabilidade:\n",
    "\n",
    "https://www.youtube.com/watch?v=Vo9Esp1yaC8"
   ]
  },
  {
   "cell_type": "markdown",
   "id": "dd0b52c6",
   "metadata": {},
   "source": [
    "## Distribuições de Probabilidade\n",
    "\n",
    "Uma **distribuição de probabilidade** é uma função que descreve o comportamento aleatório de um fenômeno dependente do acaso.\n",
    "\n",
    "A distribuição de probabilidade pode **modelar incertezas** e descrever fenômenos físicos, biológicos, econômicos, entre outros.\n",
    "\n",
    "Para representar a distribuição matematicamente, frequentemente utilizamos a função de probabilidade (variáveis aleatórias discretas) ou [função densidade de probabilidade](https://en.wikipedia.org/wiki/Probability_density_function) (variáveis aleatórias contínuas) . Esta última função é tal que a probabilidade da variável aleatória cair em uma faixa particular é dada **pela integral da densidade dessa variável sobre tal faixa** - isto é, é dada pela área abaixo da função densidade mas acima do eixo horizontal e entre o menor e o maior valor dessa faixa.\n",
    "\n",
    "<img src=\"https://work.thaslwanter.at/Stats/html/_images/PDF.png\" width=400>\n",
    "\n",
    "Há muitas distribuições de probabilidade diferentes.\n",
    "\n",
    "Entre as distribuições de probabilidade, a **distribuição normal** tem uma importância particular. "
   ]
  },
  {
   "attachments": {
    "image.png": {
     "image/png": "[encoded data removed]"
    }
   },
   "cell_type": "markdown",
   "id": "3ddb111e",
   "metadata": {},
   "source": [
    "Para o caso discreto, as probabilidades são indicadas na abscissa:\n",
    "\n",
    "![image.png](attachment:image.png)"
   ]
  },
  {
   "cell_type": "code",
   "execution_count": null,
   "id": "8fd9681d",
   "metadata": {},
   "outputs": [],
   "source": []
  },
  {
   "cell_type": "markdown",
   "id": "eaa19014",
   "metadata": {},
   "source": [
    "## Esperança e variância de uma variável aleatória discreta\n",
    "\n",
    "Em Estatística, em teoria das probabilidades, o valor esperado, também chamado esperança matemática ou expectância, de uma variável aleatória é a soma do produto de cada probabilidade de saída da experiência pelo seu respectivo valor.\n",
    "\n",
    "\n",
    "A média, valor esperado ou esperança de uma variável X é dada pela expressão:\n",
    "\\\\[ E(X) = \\sum_{i=1}^{k} x_{i} p_{i}\\\\]\n",
    "\n",
    "\n",
    "A variância já foi apresentada como:\n",
    "$$ Var(X) = \\sum_{i=1}^{n}\\frac{(x_i-\\mu)^{2}}{n}$$\n",
    "\n",
    "Uma forma alternativa para calcular a variância, utilizando a Esperança, é:\n",
    "\n",
    "\\\\[ Var(X) = E(X^2) - [E(X)]^2 \\\\]"
   ]
  },
  {
   "cell_type": "markdown",
   "id": "24739c64",
   "metadata": {},
   "source": [
    "Exemplo:\n",
    "    \n",
    "Um grupo de amigos compra um cartão de rifa a cada mês e que todo mês são vendidos mil bilhetes do sorteio por 1,00 real cada. Cada bilhete tem uma chance igual de ganhar o prêmio, sendo o primeiro prêmio de 300,00 reais, o segundo de 200,00 reais e o terceiro de 100,00 reais. Qual o ganho líquido potencial ao se comprar um desses bilhetes, ou seja, qual será o valor esperado de X?\n",
    "\n",
    "\n",
    "|  X | P(X) |\n",
    "|---|---|\n",
    "| 300 - 1 = 299  | 1/1000  |\n",
    "| 200 - 1 = 199  | 1/1000  |\n",
    "| 100 - 1 = 99  | 1/1000  |\n",
    "|  0 - 1 = -1 | 997/1000  |\n",
    "\n",
    "O valor esperado da rifa é:\n",
    "\n",
    "E(X) = (299 * 0.001) + (199 * 0.001) + (99 * 0.001) + ((-1) * 0.997) = - 0.4\n",
    "\n",
    "Sabendo que:\n",
    "\n",
    "\\\\[E(X^2) = (299^2 * 0.001) + (199^2 * 0.001) + (99^2 * 0.001) + ((-1)^2 * 0.997)) = 139.8\\\\]\n",
    "\n",
    "A variância da rifa será:\n",
    "\n",
    "\\\\[Var(X) = E(X^2) - [E(X)]^2 = 139.8 - (-0.4)^2 = 139.64 \\\\]\n",
    "\n",
    "Calculando o desvio padrão:\n",
    "\n",
    "$$ Dp(X) = \\sqrt{Var(X)} = \\sqrt{139.64} \\approx 11.82$$"
   ]
  },
  {
   "cell_type": "code",
   "execution_count": 110,
   "id": "24c27f26",
   "metadata": {
    "ExecuteTime": {
     "end_time": "2021-12-03T22:54:37.502961Z",
     "start_time": "2021-12-03T22:54:37.322964Z"
    }
   },
   "outputs": [
    {
     "name": "stdout",
     "output_type": "stream",
     "text": [
      "Esperança =  -0.4\n",
      "Var(X) = 139.64\n",
      "Var(X) = 139.64000000000001\n"
     ]
    }
   ],
   "source": [
    "#Calculando a Esperança e a variância\n",
    "\n",
    "p = [1/1000, 1/1000, 1/1000, 997/1000]\n",
    "\n",
    "X = [299, 199, 99, -1]\n",
    "\n",
    "#Calculando a esperança de X\n",
    "esperanca = 0\n",
    "for i in range(len(X)):\n",
    "    esperanca += p[i]*X[i]\n",
    "\n",
    "print(f'Esperança =  {esperanca}')\n",
    "\n",
    "#Calculando a variância de X\n",
    "#Primeira maneira    \n",
    "variancia = 0\n",
    "for i in range(len(X)):\n",
    "    variancia += p[i]*(X[i] - esperanca)**2\n",
    "\n",
    "print(f'Var(X) = {variancia}')\n",
    "\n",
    "#Segunda maneira\n",
    "variancia = 0\n",
    "ex2 = 0\n",
    "for i in range(len(X)):\n",
    "    ex2 += p[i]*(X[i])**2\n",
    "\n",
    "variancia = ex2 - (esperanca)**2\n",
    "print(f'Var(X) = {variancia}')\n",
    "\n"
   ]
  },
  {
   "cell_type": "code",
   "execution_count": null,
   "id": "3844728d",
   "metadata": {},
   "outputs": [],
   "source": []
  },
  {
   "cell_type": "code",
   "execution_count": null,
   "id": "7bc5c72d",
   "metadata": {},
   "outputs": [],
   "source": []
  },
  {
   "cell_type": "code",
   "execution_count": null,
   "id": "16c6f2aa",
   "metadata": {},
   "outputs": [],
   "source": []
  },
  {
   "cell_type": "code",
   "execution_count": null,
   "id": "f49f57a5",
   "metadata": {},
   "outputs": [],
   "source": []
  },
  {
   "cell_type": "markdown",
   "id": "9a195285",
   "metadata": {},
   "source": [
    "## Alguns modelos discretos :\n",
    "\n",
    "\n",
    "#### **Bernoulli** \n",
    "\n",
    "\n",
    "Uma **distribuição de Bernoulli** tem apenas dois resultados possíveis, a saber 1 *(sucesso)* e 0 *(falha)*, e uma única tentativa, por exemplo, um sorteio. Portanto, a variável aleatória X que tem uma distribuição de Bernoulli pode assumir o valor 1 com a probabilidade de sucesso, p, e o valor 0 com a probabilidade de falha, q ou 1-p. As probabilidades de sucesso e fracasso não precisam ser igualmente prováveis. \n",
    "\n",
    "\\\\[  P(X=x) = p^{x} * (1-p) ^{1-x}\\\\]\n"
   ]
  },
  {
   "cell_type": "code",
   "execution_count": 327,
   "id": "90204fc1",
   "metadata": {
    "ExecuteTime": {
     "end_time": "2021-12-03T08:03:12.625185Z",
     "start_time": "2021-12-03T08:03:10.139189Z"
    },
    "scrolled": true
   },
   "outputs": [
    {
     "data": {
      "text/plain": [
       "Text(0.5, 0, 'Número de sucessos')"
      ]
     },
     "execution_count": 327,
     "metadata": {},
     "output_type": "execute_result"
    },
    {
     "data": {
      "image/png": "[encoded data removed]",
      "text/plain": [
       "<Figure size 432x288 with 1 Axes>"
      ]
     },
     "metadata": {
      "needs_background": "light"
     },
     "output_type": "display_data"
    }
   ],
   "source": [
    "from scipy.stats import bernoulli\n",
    "\n",
    "p = 0.6 #40% falha e 60% de sucesso\n",
    "x = np.linspace(0,1,2)\n",
    "\n",
    "plt.bar(x=x, height=bernoulli(p).pmf(x), width=.4)\n",
    "plt.title('Distribuição de Bernoulli - exata')\n",
    "plt.ylabel('Probabilidade')\n",
    "plt.xlabel('Número de sucessos')"
   ]
  },
  {
   "cell_type": "code",
   "execution_count": 179,
   "id": "65fd65f3",
   "metadata": {
    "ExecuteTime": {
     "end_time": "2021-12-03T08:03:12.625185Z",
     "start_time": "2021-12-03T08:03:10.139189Z"
    }
   },
   "outputs": [
    {
     "data": {
      "text/plain": [
       "Text(3.674999999999997, 0.5, 'Frequência')"
      ]
     },
     "execution_count": 179,
     "metadata": {},
     "output_type": "execute_result"
    },
    {
     "data": {
      "image/png": "[encoded data removed]",
      "text/plain": [
       "<Figure size 360x360 with 1 Axes>"
      ]
     },
     "metadata": {
      "needs_background": "light"
     },
     "output_type": "display_data"
    }
   ],
   "source": [
    "from scipy.stats import bernoulli\n",
    "X = bernoulli(0.6) #40% falha e 60% de sucesso\n",
    "X_samples = X.rvs(1000)\n",
    "sns.displot(X_samples, kind='hist', discrete=True, shrink=0.2)\n",
    "plt.title('Distribuição de Bernoulli - amostragem')\n",
    "plt.xlabel('Sucesso')\n",
    "plt.ylabel('Frequência')\n",
    "#X_samples.sum()"
   ]
  },
  {
   "cell_type": "markdown",
   "id": "8039acfc",
   "metadata": {},
   "source": [
    "#### **Binomial**\n",
    "\n",
    "Uma distribuição em que apenas dois resultados são possíveis, como sucesso ou fracasso, ganho ou perda, vitória ou perda e em que a probabilidade de sucesso e fracasso é a mesma para todas as tentativas é chamada de Distribuição Binomial. No entanto, os resultados não precisam ser igualmente prováveis e cada estudo é independente um do outro. Os parâmetros de uma distribuição binomial são **n** e **p** onde n é o número total de tentativas e p é a probabilidade de sucesso em cada tentativa. Sua função de distribuição de probabilidade é dada por:\n",
    "\n",
    "\n",
    "\n",
    "\\\\[f(k, n, p)  =  \\binom{n}{k} \\cdot p^k(1-p)^{n-k}\\\\]\n",
    "\n",
    "\n",
    "- sucesso e insucesso\n",
    "- probabilidade de sucesso é p e a probabilidade de insucesso q = 1 - p"
   ]
  },
  {
   "cell_type": "code",
   "execution_count": 301,
   "id": "c90be248",
   "metadata": {
    "ExecuteTime": {
     "end_time": "2021-12-03T21:19:43.072500Z",
     "start_time": "2021-12-03T21:19:42.885161Z"
    }
   },
   "outputs": [
    {
     "data": {
      "text/plain": [
       "Text(0, 0.5, 'Probabilidade')"
      ]
     },
     "execution_count": 301,
     "metadata": {},
     "output_type": "execute_result"
    },
    {
     "data": {
      "image/png": "[encoded data removed]",
      "text/plain": [
       "<Figure size 432x288 with 1 Axes>"
      ]
     },
     "metadata": {
      "needs_background": "light"
     },
     "output_type": "display_data"
    }
   ],
   "source": [
    "from scipy.stats import binom\n",
    "\n",
    "n = 2\n",
    "x = np.linspace(0,n,n+1)\n",
    "p = 0.5\n",
    "plt.bar(x=x, height=binom(n,p).pmf(x))#, width=.8)\n",
    "plt.title('Distribuição binomial - exata')\n",
    "plt.xlabel('Número de acertos/sucessos')\n",
    "plt.ylabel('Probabilidade')\n",
    "#plt.axvline(x =n*p, color='red' )\n",
    "#round((x * binom(n,p).pmf(x)).sum(),5) , round(n*p,5)  #esperança\n",
    "#(x**2 * binom(n,p).pmf(x)).sum() -((x * binom(n,p).pmf(x)).sum())**2, n*p*(1-p)  #variância"
   ]
  },
  {
   "cell_type": "code",
   "execution_count": null,
   "id": "3d5c1f30",
   "metadata": {
    "ExecuteTime": {
     "end_time": "2021-12-03T21:19:43.072500Z",
     "start_time": "2021-12-03T21:19:42.885161Z"
    }
   },
   "outputs": [],
   "source": []
  },
  {
   "cell_type": "code",
   "execution_count": null,
   "id": "96fe8629",
   "metadata": {
    "ExecuteTime": {
     "end_time": "2021-12-03T21:19:43.072500Z",
     "start_time": "2021-12-03T21:19:42.885161Z"
    }
   },
   "outputs": [],
   "source": [
    "\n"
   ]
  },
  {
   "cell_type": "code",
   "execution_count": 201,
   "id": "6f050d14",
   "metadata": {
    "ExecuteTime": {
     "end_time": "2021-12-03T21:19:43.072500Z",
     "start_time": "2021-12-03T21:19:42.885161Z"
    }
   },
   "outputs": [
    {
     "data": {
      "text/plain": [
       "<seaborn.axisgrid.FacetGrid at 0x1e533257f70>"
      ]
     },
     "execution_count": 201,
     "metadata": {},
     "output_type": "execute_result"
    },
    {
     "data": {
      "image/png": "[encoded data removed]",
      "text/plain": [
       "<Figure size 360x360 with 1 Axes>"
      ]
     },
     "metadata": {
      "needs_background": "light"
     },
     "output_type": "display_data"
    }
   ],
   "source": [
    "#from scipy.stats import binom\n",
    "\n",
    "from numpy.random import binomial\n",
    "\n",
    "data_binom = binomial(n=10, p=0.2, size=1000)\n",
    "\n",
    "ax = sns.displot(\n",
    "    data_binom,\n",
    "    kind='hist',\n",
    "    color='skyblue',\n",
    ")\n",
    "ax.set(xlabel='Número de acertos/sucessos', ylabel='Frequência', title='Distribuição Binomial - amostras')"
   ]
  },
  {
   "cell_type": "code",
   "execution_count": null,
   "id": "01766d00",
   "metadata": {
    "ExecuteTime": {
     "end_time": "2021-12-03T21:19:43.072500Z",
     "start_time": "2021-12-03T21:19:42.885161Z"
    },
    "scrolled": true
   },
   "outputs": [],
   "source": []
  },
  {
   "cell_type": "markdown",
   "id": "32b83b00",
   "metadata": {},
   "source": [
    "**Exercício**: Uma prova de Estatística contém 6 questões, cada um contendo 5 alternativas e apenas uma correta. Qual a probabilidade de alguém, no chute, acertar pelo menos 3 questões?  "
   ]
  },
  {
   "cell_type": "code",
   "execution_count": null,
   "id": "40c2a28b",
   "metadata": {},
   "outputs": [],
   "source": []
  },
  {
   "cell_type": "markdown",
   "id": "eab632dd",
   "metadata": {},
   "source": [
    "**Exercício**: Uma carta é selecionada de um baralho comum, sendo anotada e reposta\n",
    "no baralho. Esse experimento é repetido um total de cinco vezes.\n",
    "Encontre a probabilidade de selecionar exatamente três cartas de paus.\n",
    "\n",
    "a. Identifique uma tentativa, um sucesso e um fracasso.\n",
    "\n",
    "b. Identifique n, p, q e x.\n",
    "\n",
    "c. Use a fórmula da distribuição binomial para resolver o problema."
   ]
  },
  {
   "cell_type": "code",
   "execution_count": null,
   "id": "7db5da54",
   "metadata": {},
   "outputs": [],
   "source": []
  },
  {
   "cell_type": "markdown",
   "id": "0c4f5187",
   "metadata": {},
   "source": [
    "**Exercício**: Sessenta por cento dos adultos\n",
    "de uma certa cidade confiam que os jornais nacionais apresentam\n",
    "as notícias claras e precisas. Você seleciona\n",
    "aleatoriamente nove adultos dessa cidade. Determine a\n",
    "probabilidade de que o número de adultos que confiam\n",
    "que os jornais nacionais apresentam as notícias claras e\n",
    "precisas seja:\n",
    "\n",
    "a) exatamente cinco\n",
    "\n",
    "b) pelo menos seis \n",
    "\n",
    "c) menos de quatro"
   ]
  },
  {
   "cell_type": "code",
   "execution_count": null,
   "id": "c75e2558",
   "metadata": {},
   "outputs": [],
   "source": []
  },
  {
   "cell_type": "code",
   "execution_count": null,
   "id": "5e371619",
   "metadata": {},
   "outputs": [],
   "source": []
  },
  {
   "cell_type": "code",
   "execution_count": null,
   "id": "e4c89782",
   "metadata": {},
   "outputs": [],
   "source": []
  },
  {
   "cell_type": "markdown",
   "id": "a5c351b5",
   "metadata": {},
   "source": [
    "### **Modelo Poisson**\n",
    "\n",
    "Dizemos que um modelo tem distribuição de Poisson se \n",
    "\n",
    "\\\\[ P(X=k) = \\frac{e^{-\\lambda}\\lambda^{k}}{k!} \\\\]\n",
    " \n",
    "onde $\\lambda$ é o número de ocorrência por unidade de tempo.\n",
    "\n",
    "Esse modelo descreve experimentos onde a probabilidade de ocorrência de k eventos em um determinado intervalo de tempo é independente da ocorrência do último evento. \n",
    " \n"
   ]
  },
  {
   "cell_type": "code",
   "execution_count": 320,
   "id": "be8774f9",
   "metadata": {
    "ExecuteTime": {
     "end_time": "2021-12-03T21:22:15.121327Z",
     "start_time": "2021-12-03T21:22:14.850444Z"
    }
   },
   "outputs": [
    {
     "data": {
      "text/plain": [
       "Text(0, 0.5, 'Probabilidade')"
      ]
     },
     "execution_count": 320,
     "metadata": {},
     "output_type": "execute_result"
    },
    {
     "data": {
      "image/png": "[encoded data removed]",
      "text/plain": [
       "<Figure size 432x288 with 1 Axes>"
      ]
     },
     "metadata": {
      "needs_background": "light"
     },
     "output_type": "display_data"
    }
   ],
   "source": [
    "from scipy.stats import poisson\n",
    "n = 20\n",
    "x = np.linspace(0,n,n+1)\n",
    "lambda1= 3\n",
    "dados = poisson(lambda1).pmf(x)\n",
    "\n",
    "plt.bar(x=x, height = dados)\n",
    "plt.title('Distribuição de Poisson - exato')\n",
    "plt.ylabel('Probabilidade')\n",
    "\n",
    "#(x * dados).sum(), lambda1  #esperança\n",
    "#(x**2 * dados).sum() - ((x * dados).sum())**2, lambda1  #variância"
   ]
  },
  {
   "cell_type": "code",
   "execution_count": null,
   "id": "2324c2eb",
   "metadata": {
    "ExecuteTime": {
     "end_time": "2021-12-03T21:22:15.121327Z",
     "start_time": "2021-12-03T21:22:14.850444Z"
    }
   },
   "outputs": [],
   "source": [
    "from scipy.stats import poisson\n",
    "data_poisson = poisson.rvs(mu=3, size=10000)\n",
    "\n",
    "\n",
    "ax = sns.displot(data_poisson,\n",
    "                  bins=30,\n",
    "                  color='skyblue',\n",
    "                  )\n",
    "ax.set(ylabel='Frequência', title='Distribuição de Poisson - amostras');"
   ]
  },
  {
   "cell_type": "code",
   "execution_count": 323,
   "id": "5289a264",
   "metadata": {
    "ExecuteTime": {
     "end_time": "2021-12-03T21:22:15.121327Z",
     "start_time": "2021-12-03T21:22:14.850444Z"
    }
   },
   "outputs": [
    {
     "data": {
      "text/plain": [
       "0.14936120510359183"
      ]
     },
     "execution_count": 323,
     "metadata": {},
     "output_type": "execute_result"
    }
   ],
   "source": [
    "#Versão sem o scipy\n",
    "#numpy.math.factorial -->outra forma de calcular fatorial\n",
    "\n",
    "def fat(n):\n",
    "    if n == 0 or n == 1:\n",
    "        return 1\n",
    "    else:\n",
    "        return n * fat(n-1)\n",
    "\n",
    "lambda1 = 3\n",
    "k = 1\n",
    "np.exp(-lambda1) * lambda1**k / fat(k)"
   ]
  },
  {
   "cell_type": "markdown",
   "id": "67186453",
   "metadata": {},
   "source": [
    "**Exercício**: O número médio de acidentes por mês, em um certo cruzamento, é três. Qual a probabilidade de, em qualquer mês, ocorrerem quatro acidentes nesse cruzamento?"
   ]
  },
  {
   "cell_type": "code",
   "execution_count": null,
   "id": "be22a425",
   "metadata": {
    "ExecuteTime": {
     "end_time": "2021-12-04T00:00:39.209255Z",
     "start_time": "2021-12-04T00:00:39.187315Z"
    }
   },
   "outputs": [],
   "source": []
  },
  {
   "cell_type": "markdown",
   "id": "87fa3479",
   "metadata": {
    "ExecuteTime": {
     "end_time": "2021-12-04T00:00:39.209255Z",
     "start_time": "2021-12-04T00:00:39.187315Z"
    }
   },
   "source": [
    "**Exercício**: A probabilidade de que você faça\n",
    "uma venda em qualquer telefonema dado é 0,19. Determine\n",
    "a probabilidade de que você:\n",
    "\n",
    "a) faça sua primeira venda na quinta ligação\n",
    "\n",
    "b) faça sua primeira venda na\n",
    "primeira, segunda ou terceira ligação\n",
    "\n",
    "c) não faça uma\n",
    "venda nas três primeiras ligações."
   ]
  },
  {
   "cell_type": "code",
   "execution_count": null,
   "id": "e877d01d",
   "metadata": {
    "ExecuteTime": {
     "end_time": "2021-12-04T00:00:39.209255Z",
     "start_time": "2021-12-04T00:00:39.187315Z"
    }
   },
   "outputs": [],
   "source": []
  },
  {
   "cell_type": "markdown",
   "id": "925d2e09",
   "metadata": {
    "ExecuteTime": {
     "end_time": "2021-12-04T00:00:39.209255Z",
     "start_time": "2021-12-04T00:00:39.187315Z"
    }
   },
   "source": [
    "**Exercício**: Um jornal descobre que o número\n",
    "médio de erros tipográficos por página é quatro. Determine\n",
    "a probabilidade de que o número de erros tipográficos\n",
    "encontrados em qualquer página dada seja:\n",
    "\n",
    "a) exatamente três\n",
    "\n",
    "b) no máximo três \n",
    "\n",
    "c) mais do que três"
   ]
  },
  {
   "cell_type": "code",
   "execution_count": null,
   "id": "fdf2703a",
   "metadata": {
    "ExecuteTime": {
     "end_time": "2021-12-04T00:00:39.209255Z",
     "start_time": "2021-12-04T00:00:39.187315Z"
    }
   },
   "outputs": [],
   "source": []
  },
  {
   "cell_type": "code",
   "execution_count": 321,
   "id": "bd8b6ffd",
   "metadata": {
    "ExecuteTime": {
     "end_time": "2021-12-04T00:00:39.209255Z",
     "start_time": "2021-12-04T00:00:39.187315Z"
    }
   },
   "outputs": [
    {
     "data": {
      "text/plain": [
       "0.14936120510359183"
      ]
     },
     "execution_count": 321,
     "metadata": {},
     "output_type": "execute_result"
    }
   ],
   "source": []
  },
  {
   "cell_type": "markdown",
   "id": "20923ea9",
   "metadata": {},
   "source": [
    "### Uniforme\n",
    "\n",
    "No lançamento de um dado, a variável aleatória X pode tomar os valores 1,2,3,4,5,6\n",
    "\n",
    "Como cada um desdes valores está associada uma só probabilidade de realização e $\\sum P(x_i)=1$, a função probabilidade resulta da distribuição de probabilidade:\n",
    "\n",
    "\n",
    "| X | P(X) |\n",
    "|---|------|\n",
    "| 1 | 1/6  |\n",
    "| 2 | 1/6  |\n",
    "| 3 | 1/6  |\n",
    "| 4 | 1/6  |\n",
    "| 5 | 1/6  |\n",
    "| 6 | 1/6  |"
   ]
  },
  {
   "cell_type": "code",
   "execution_count": 92,
   "id": "d9a3e183",
   "metadata": {
    "ExecuteTime": {
     "end_time": "2021-12-03T21:27:00.334077Z",
     "start_time": "2021-12-03T21:27:00.216172Z"
    }
   },
   "outputs": [
    {
     "data": {
      "text/plain": [
       "<BarContainer object of 6 artists>"
      ]
     },
     "execution_count": 92,
     "metadata": {},
     "output_type": "execute_result"
    },
    {
     "data": {
      "image/png": "[encoded data removed]",
      "text/plain": [
       "<Figure size 432x288 with 1 Axes>"
      ]
     },
     "metadata": {
      "needs_background": "light"
     },
     "output_type": "display_data"
    }
   ],
   "source": [
    "plt.bar(x=[1, 2, 3, 4, 5, 6], height=1/6)"
   ]
  },
  {
   "cell_type": "code",
   "execution_count": 326,
   "id": "3ce9b2d1",
   "metadata": {
    "ExecuteTime": {
     "end_time": "2021-12-03T21:29:08.646401Z",
     "start_time": "2021-12-03T21:29:08.377589Z"
    },
    "scrolled": true
   },
   "outputs": [
    {
     "data": {
      "text/plain": [
       "<seaborn.axisgrid.FacetGrid at 0x1e53a2ba460>"
      ]
     },
     "execution_count": 326,
     "metadata": {},
     "output_type": "execute_result"
    },
    {
     "data": {
      "image/png": "[encoded data removed]",
      "text/plain": [
       "<Figure size 360x360 with 1 Axes>"
      ]
     },
     "metadata": {
      "needs_background": "light"
     },
     "output_type": "display_data"
    }
   ],
   "source": [
    "from scipy.stats import uniform\n",
    "# random numbers from uniform distribution\n",
    "n = 10000\n",
    "start = 1\n",
    "width = 6\n",
    "data_uniform = uniform.rvs(size=n, loc = start, scale=width)\n",
    "\n",
    "ax = sns.displot(data_uniform,\n",
    "                  bins=6,\n",
    "                  kde=False,\n",
    "                  color='skyblue',\n",
    "                  )\n",
    "ax.set(title = 'Distribuição uniforme - amostras', ylabel='Frequência')"
   ]
  },
  {
   "cell_type": "code",
   "execution_count": null,
   "id": "003a125b",
   "metadata": {},
   "outputs": [],
   "source": []
  },
  {
   "cell_type": "code",
   "execution_count": null,
   "id": "d9edbadb",
   "metadata": {},
   "outputs": [],
   "source": []
  },
  {
   "cell_type": "code",
   "execution_count": null,
   "id": "0cd72906",
   "metadata": {},
   "outputs": [],
   "source": []
  },
  {
   "cell_type": "code",
   "execution_count": null,
   "id": "81f665c6",
   "metadata": {},
   "outputs": [],
   "source": []
  },
  {
   "cell_type": "markdown",
   "id": "183fbea4",
   "metadata": {},
   "source": [
    "**Diversas distribuições de probabilidade**\n",
    "\n",
    "http://ucla.jamesyxu.com/wp-content/uploads/2011/08/A-probability-and-statistics-cheatsheet.pdf"
   ]
  },
  {
   "cell_type": "markdown",
   "id": "b77a561f",
   "metadata": {
    "ExecuteTime": {
     "end_time": "2021-10-15T23:16:07.672080Z",
     "start_time": "2021-10-15T23:16:07.661109Z"
    }
   },
   "source": [
    "## Alguns modelos contínuos :\n",
    "\n",
    "### Uniforme\n",
    "\n",
    "Uma variável aleatória contínua X tem distribuição uniforme com parâmetros a e b (com a<b) se sua função de densidade de probabilidade é dada por:\n",
    "\n",
    "\\\\[f(x) = \\frac{1}{b-a} \\\\]\n",
    "\n",
    "Se x é maior ou igual a b, então f(x) = 1. Caso x não pertença ao intervalo entre a e b, então f(x) = 0.\n",
    "\n",
    "\n",
    "<center><img src=https://media.geeksforgeeks.org/wp-content/uploads/probability-distribution-1.jpg width=\"200\" height=\"500\" />"
   ]
  },
  {
   "cell_type": "markdown",
   "id": "c157172d",
   "metadata": {},
   "source": [
    "Esperança (média): $$ E(X) = \\frac{a+b}{2}$$\n",
    "\n",
    "Variância: $$Var(X) = \\frac{(b-a)^2}{12}$$\n",
    "\n",
    "Função acumulada: $$ \n",
    "F(x) = P(X < x) = \n",
    "  \\begin{cases}\n",
    "      0, & x<a \\\\\n",
    "      \\frac{x-a}{b-a}, & a \\le x \\leq b \\\\\n",
    "      1, & x > b\n",
    "  \\end{cases}\n",
    "$$"
   ]
  },
  {
   "cell_type": "markdown",
   "id": "d85a404e",
   "metadata": {},
   "source": [
    "## Distribuição Normal\n",
    "\n",
    "É representada por uma **curva simétrica em torno do seu ponto médio**, apresentando assim seu famoso formato de **sino** (bell shape).  \n",
    "\n",
    "A curva de distribuição normal representa o comportamento de **diversos processos e fenômenos comuns**, como por exemplo: altura ou peso de uma população, a pressão sanguínea de um grupo de pessoas, o tempo que um grupo de estudantes gasta para realizar uma prova, etc.\n",
    "\n",
    "A distribuição normal serve também como base para a inferência estatística clássica, sendo a premissa em diversos modelos e métodos.\n",
    "\n",
    "Na distribuição normal, a média, mediana e moda dos dados possuem o mesmo valor. \n",
    "\n",
    "<img src=\"https://dietassessmentprimer.cancer.gov/images/learn/distribution1.jpg\">\n",
    "\n",
    "Usaremos a notação X ~ N($\\mu$,$\\sigma^2$) para representar uma variável aleatória **com distribuição normal** de média $\\mu$ e variância $\\sigma^2$.\n",
    "\n",
    "<img src=\"https://upload.wikimedia.org/wikipedia/commons/thumb/7/74/Normal_Distribution_PDF.svg/1280px-Normal_Distribution_PDF.svg.png\" width=500>\n",
    "\n",
    "A equação da distribuição normal é:\n",
    "\n",
    "<img src=\"https://www.onlinemathlearning.com/image-files/normal-distribution-formula.png\" width=200>\n",
    "\n"
   ]
  },
  {
   "cell_type": "markdown",
   "id": "f7adf94a",
   "metadata": {},
   "source": [
    "Em resumo, a distribuição normal (distribuição teórica da variável aleatória contínua):\n",
    "- formato em sino\n",
    "- simétrica em torno do x (média), ou seja, a média, moda e mediana estão no mesmo ponto\n",
    "- a curva normal ou curva de Gauss\n",
    "- Área sob a curva é igual a 1\n",
    "- assintótica nas abcissas, ou seja, aproxima do eixo mas não toca"
   ]
  },
  {
   "cell_type": "markdown",
   "id": "cd6adbb6",
   "metadata": {},
   "source": []
  },
  {
   "cell_type": "code",
   "execution_count": null,
   "id": "fe439c78",
   "metadata": {},
   "outputs": [],
   "source": []
  },
  {
   "cell_type": "code",
   "execution_count": 334,
   "id": "3e7e7b56",
   "metadata": {
    "ExecuteTime": {
     "end_time": "2021-12-01T21:41:31.809707Z",
     "start_time": "2021-12-01T21:41:31.708230Z"
    }
   },
   "outputs": [
    {
     "data": {
      "image/png": "[encoded data removed]",
      "text/plain": [
       "<Figure size 432x288 with 1 Axes>"
      ]
     },
     "metadata": {
      "needs_background": "light"
     },
     "output_type": "display_data"
    }
   ],
   "source": [
    "x = np.linspace(-5, 5, 400)\n",
    "\n",
    "mu = 0 #média\n",
    "sigma = 1 #desvio padrão\n",
    "# usando o scipy\n",
    "y = stats.norm(loc=mu, scale=sigma).pdf(x) #probability density function (pdf)\n",
    "#y2 = stats.norm(loc=mu+1, scale=sigma).pdf(x)\n",
    "plt.plot(x, y)\n",
    "plt.title('Distribuição Normal')\n",
    "plt.ylabel('Probabilidades')\n",
    "plt.grid()\n",
    "#plt.plot(x,y2)\n",
    "\n",
    "plt.show()"
   ]
  },
  {
   "cell_type": "code",
   "execution_count": 337,
   "id": "e0b6ec8d",
   "metadata": {
    "ExecuteTime": {
     "end_time": "2021-12-01T21:42:03.586799Z",
     "start_time": "2021-12-01T21:42:03.464645Z"
    }
   },
   "outputs": [
    {
     "data": {
      "image/png": "[encoded data removed]",
      "text/plain": [
       "<Figure size 432x288 with 1 Axes>"
      ]
     },
     "metadata": {
      "needs_background": "light"
     },
     "output_type": "display_data"
    }
   ],
   "source": [
    "x = np.linspace(-5, 5, 400)\n",
    "\n",
    "mu = 0 #média  \n",
    "sigma = 1 #devio padrão\n",
    "\n",
    "# definição explícita da curva\n",
    "y = (1/(sigma*np.sqrt(2*np.pi)))*np.exp(-(x - mu)**2/2*sigma**2)\n",
    "\n",
    "plt.plot(x, y)\n",
    "plt.show()"
   ]
  },
  {
   "cell_type": "code",
   "execution_count": 342,
   "id": "dc0beddf",
   "metadata": {
    "ExecuteTime": {
     "end_time": "2021-12-01T21:49:20.413972Z",
     "start_time": "2021-12-01T21:49:20.252798Z"
    }
   },
   "outputs": [
    {
     "data": {
      "image/png": "[encoded data removed]",
      "text/plain": [
       "<Figure size 360x360 with 1 Axes>"
      ]
     },
     "metadata": {
      "needs_background": "light"
     },
     "output_type": "display_data"
    }
   ],
   "source": [
    "# utilizando o seaborn\n",
    "\n",
    "N = 1000 #número de pontos a serem escolhidos aleatoriamente\n",
    "amostra_normal = np.random.normal(0, 1, N) \n",
    "\n",
    "sns.displot(amostra_normal)#, kde=True)\n",
    "plt.show()\n"
   ]
  },
  {
   "cell_type": "code",
   "execution_count": 9,
   "id": "5c58131a",
   "metadata": {
    "ExecuteTime": {
     "end_time": "2021-12-01T21:35:32.743013Z",
     "start_time": "2021-12-01T21:35:32.547606Z"
    }
   },
   "outputs": [
    {
     "data": {
      "image/png": "[encoded data removed]",
      "text/plain": [
       "<Figure size 360x360 with 1 Axes>"
      ]
     },
     "metadata": {
      "needs_background": "light"
     },
     "output_type": "display_data"
    }
   ],
   "source": [
    "N = 1000\n",
    "amostra_normal = np.random.normal(0, 1, N)\n",
    "\n",
    "sns.displot(amostra_normal, kde=True)\n",
    "\n",
    "plt.show()"
   ]
  },
  {
   "cell_type": "code",
   "execution_count": null,
   "id": "5ab2c61d",
   "metadata": {
    "ExecuteTime": {
     "end_time": "2021-12-01T20:56:23.015050Z",
     "start_time": "2021-12-01T20:56:22.064626Z"
    }
   },
   "outputs": [],
   "source": [
    "N = 10000\n",
    "amostra_normal = np.random.normal(0, 1, N)\n",
    "\n",
    "sns.displot(amostra_normal, kde=True)\n",
    "\n",
    "plt.show()"
   ]
  },
  {
   "cell_type": "code",
   "execution_count": 360,
   "id": "09879032",
   "metadata": {
    "ExecuteTime": {
     "end_time": "2021-12-01T20:56:23.015050Z",
     "start_time": "2021-12-01T20:56:22.064626Z"
    }
   },
   "outputs": [
    {
     "data": {
      "text/plain": [
       "Text(0, 0.5, 'Probabilidade')"
      ]
     },
     "execution_count": 360,
     "metadata": {},
     "output_type": "execute_result"
    },
    {
     "data": {
      "image/png": "[encoded data removed]",
      "text/plain": [
       "<Figure size 432x288 with 1 Axes>"
      ]
     },
     "metadata": {
      "needs_background": "light"
     },
     "output_type": "display_data"
    }
   ],
   "source": [
    "#Utilizando o scipy\n",
    "from scipy.stats import norm\n",
    "\n",
    "x = np.linspace(-4,4,300)\n",
    "\n",
    "plt.plot(x,norm.pdf(x,0,1))\n",
    "plt.title('Distribuição Normal')\n",
    "plt.ylabel('Probabilidade')\n",
    "\n"
   ]
  },
  {
   "cell_type": "markdown",
   "id": "95ba384f",
   "metadata": {},
   "source": [
    "Na distribuição normal, os dados são distribuídos de forma muito particular, tal que o **desvio padrão** determina a proporção de dados em cada faixa:\n",
    "\n",
    "<img src=\"https://miro.medium.com/max/24000/1*IdGgdrY_n_9_YfkaCh-dag.png\" width=500>\n",
    "\n",
    "<img src=\"https://miro.medium.com/max/24000/1*IZ2II2HYKeoMrdLU5jW6Dw.png\" width=500>"
   ]
  },
  {
   "cell_type": "code",
   "execution_count": null,
   "id": "31f2f1ae",
   "metadata": {
    "ExecuteTime": {
     "end_time": "2021-12-01T21:52:28.504267Z",
     "start_time": "2021-12-01T21:52:28.377593Z"
    }
   },
   "outputs": [],
   "source": []
  },
  {
   "cell_type": "markdown",
   "id": "8fbc5229",
   "metadata": {
    "ExecuteTime": {
     "end_time": "2021-12-01T21:52:28.504267Z",
     "start_time": "2021-12-01T21:52:28.377593Z"
    }
   },
   "source": [
    "## Z-Score\n",
    "\n",
    "O **z-score** de uma observação nada mais é que **o número de desvios padrões que a obervação está com relação à média**:\n",
    "\n",
    "$$ z = \\frac{x - \\mu}{\\sigma} $$\n",
    "\n",
    "$$ z \\sigma = x - \\mu $$\n",
    "\n",
    "$$  x = \\mu + z \\sigma  $$\n",
    "\n",
    "Como vimos acima, em uma distribuição normal, 99.73% das observações são esperadas de estar entre 3 desvios-padrão da média. Assim, obervações para além desta faixa são muito improváveis de ocorrer (0.27% de chance), de forma que podem ser consideradas outliers.\n",
    "\n",
    "Assim, é comum considerar outliers os pontos tais que $|z| > 3$ (embora seja comum também variar este z-score limite, para 2.5 o, 3.5, etc.)\n",
    "\n",
    "**OBS.: naturalmente, este método é altamente dependente da hipótese de que seus dados são normalmente distribuídos! Por isso, funciona apenas aproximadamente para outros casos. Mas é uma boa aproximação, em geral.**"
   ]
  },
  {
   "cell_type": "markdown",
   "id": "0bbe086d",
   "metadata": {
    "ExecuteTime": {
     "end_time": "2021-12-01T21:52:28.504267Z",
     "start_time": "2021-12-01T21:52:28.377593Z"
    }
   },
   "source": [
    "Exercícios:\n",
    "\n",
    "1) Encontre a área acumulada que corresponde a um z-score de 1.23\n",
    "\n",
    "2) Encontre a área acumulada que corresponde a um z-score de -0.83\n",
    "\n",
    "3) Calcule o z-score que resulta em uma área de 0.38 acima (a partir do z = 0) \n",
    "\n",
    "4) Calcule o z-score que resulta em uma área de 0.38 acima\n",
    "\n",
    "5) As contas de serviços\n",
    "públicos mensais em uma cidade são normalmente distribuídas, com média de $R\\$100$ e desvio padrão de $ R\\$12$.\n",
    "Calcule a probabilidade de que uma conta de serviço público selecionada aleatoriamente tenha valor (a) menor\n",
    "que $ R\\$70$, (b) entre $ R\\$90$ e $ R\\$120$ e (c) maior que $ R\\$140$.\n"
   ]
  },
  {
   "cell_type": "markdown",
   "id": "4185db4b",
   "metadata": {
    "ExecuteTime": {
     "end_time": "2021-12-01T21:52:28.504267Z",
     "start_time": "2021-12-01T21:52:28.377593Z"
    }
   },
   "source": [
    "Tabela de Distribuição Normal Padrão"
   ]
  },
  {
   "cell_type": "markdown",
   "id": "186225cc",
   "metadata": {
    "ExecuteTime": {
     "end_time": "2021-12-01T21:52:28.504267Z",
     "start_time": "2021-12-01T21:52:28.377593Z"
    }
   },
   "source": [
    "<img src=\"https://bloglosbifes.files.wordpress.com/2013/10/distribuicao_normal_padrao.png\" width=500>\n",
    "     \n",
    "     "
   ]
  },
  {
   "cell_type": "code",
   "execution_count": null,
   "id": "d25e1de3",
   "metadata": {
    "ExecuteTime": {
     "end_time": "2021-12-01T21:52:28.504267Z",
     "start_time": "2021-12-01T21:52:28.377593Z"
    }
   },
   "outputs": [],
   "source": []
  },
  {
   "cell_type": "code",
   "execution_count": 33,
   "id": "1365ed2b",
   "metadata": {
    "ExecuteTime": {
     "end_time": "2021-12-01T21:52:28.504267Z",
     "start_time": "2021-12-01T21:52:28.377593Z"
    }
   },
   "outputs": [
    {
     "data": {
      "text/plain": [
       "[<matplotlib.lines.Line2D at 0x14a304e7a30>]"
      ]
     },
     "execution_count": 33,
     "metadata": {},
     "output_type": "execute_result"
    },
    {
     "data": {
      "image/png": "[encoded data removed]",
      "text/plain": [
       "<Figure size 432x288 with 1 Axes>"
      ]
     },
     "metadata": {
      "needs_background": "light"
     },
     "output_type": "display_data"
    }
   ],
   "source": [
    "#Função acumulada\n",
    "y = stats.norm(loc=mu, scale=sigma).cdf(x)\n",
    "\n",
    "plt.plot(x,y)"
   ]
  },
  {
   "cell_type": "code",
   "execution_count": 43,
   "id": "d823c5a7",
   "metadata": {
    "ExecuteTime": {
     "end_time": "2021-12-01T21:56:29.037730Z",
     "start_time": "2021-12-01T21:56:29.021739Z"
    }
   },
   "outputs": [
    {
     "data": {
      "text/plain": [
       "0.06999203404538518"
      ]
     },
     "execution_count": 43,
     "metadata": {},
     "output_type": "execute_result"
    }
   ],
   "source": [
    "#Calcundo o z-score\n",
    "y = stats.norm(loc=mu, scale=sigma).ppf(.5279)\n",
    "y"
   ]
  },
  {
   "cell_type": "code",
   "execution_count": null,
   "id": "5b00394a",
   "metadata": {},
   "outputs": [],
   "source": []
  },
  {
   "cell_type": "code",
   "execution_count": null,
   "id": "de44e05c",
   "metadata": {},
   "outputs": [],
   "source": []
  },
  {
   "cell_type": "code",
   "execution_count": null,
   "id": "31dc1a48",
   "metadata": {},
   "outputs": [],
   "source": []
  },
  {
   "cell_type": "code",
   "execution_count": null,
   "id": "0abe6bd6",
   "metadata": {},
   "outputs": [],
   "source": []
  },
  {
   "cell_type": "code",
   "execution_count": null,
   "id": "28e9780b",
   "metadata": {},
   "outputs": [],
   "source": []
  },
  {
   "cell_type": "code",
   "execution_count": null,
   "id": "bdca4b08",
   "metadata": {},
   "outputs": [],
   "source": []
  },
  {
   "cell_type": "code",
   "execution_count": null,
   "id": "5ed8745e",
   "metadata": {},
   "outputs": [],
   "source": []
  },
  {
   "cell_type": "markdown",
   "id": "58b089b2",
   "metadata": {},
   "source": [
    "Diversas distribuições de probabilidade\n",
    "\n",
    "http://ucla.jamesyxu.com/wp-content/uploads/2011/08/A-probability-and-statistics-cheatsheet.pdf"
   ]
  },
  {
   "cell_type": "code",
   "execution_count": null,
   "id": "26f71092",
   "metadata": {},
   "outputs": [],
   "source": []
  }
 ],
 "metadata": {
  "kernelspec": {
   "display_name": "Python 3 (ipykernel)",
   "language": "python",
   "name": "python3"
  },
  "language_info": {
   "codemirror_mode": {
    "name": "ipython",
    "version": 3
   },
   "file_extension": ".py",
   "mimetype": "text/x-python",
   "name": "python",
   "nbconvert_exporter": "python",
   "pygments_lexer": "ipython3",
   "version": "3.9.7"
  },
  "varInspector": {
   "cols": {
    "lenName": 16,
    "lenType": 16,
    "lenVar": 40
   },
   "kernels_config": {
    "python": {
     "delete_cmd_postfix": "",
     "delete_cmd_prefix": "del ",
     "library": "var_list.py",
     "varRefreshCmd": "print(var_dic_list())"
    },
    "r": {
     "delete_cmd_postfix": ") ",
     "delete_cmd_prefix": "rm(",
     "library": "var_list.r",
     "varRefreshCmd": "cat(var_dic_list()) "
    }
   },
   "types_to_exclude": [
    "module",
    "function",
    "builtin_function_or_method",
    "instance",
    "_Feature"
   ],
   "window_display": false
  }
 },
 "nbformat": 4,
 "nbformat_minor": 5
}
